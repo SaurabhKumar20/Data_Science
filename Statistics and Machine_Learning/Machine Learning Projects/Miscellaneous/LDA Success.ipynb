{
 "cells": [
  {
   "cell_type": "code",
   "execution_count": 1,
   "id": "9a45d122",
   "metadata": {
    "ExecuteTime": {
     "end_time": "2022-10-06T19:48:04.535102Z",
     "start_time": "2022-10-06T19:47:03.287816Z"
    }
   },
   "outputs": [],
   "source": [
    "import pandas as pd\n",
    "import numpy as np\n",
    "\n",
    "import re\n",
    "import string\n",
    "\n",
    "import spacy\n",
    "\n",
    "import gensim\n",
    "from gensim import corpora\n",
    "\n",
    "# libraries for visualization\n",
    "import pyLDAvis\n",
    "import pyLDAvis.gensim_models\n",
    "import matplotlib.pyplot as plt\n",
    "import seaborn as sns\n",
    "%matplotlib inline"
   ]
  },
  {
   "cell_type": "code",
   "execution_count": 2,
   "id": "d6254059",
   "metadata": {
    "ExecuteTime": {
     "end_time": "2022-10-06T19:48:04.549732Z",
     "start_time": "2022-10-06T19:48:04.535102Z"
    }
   },
   "outputs": [
    {
     "name": "stderr",
     "output_type": "stream",
     "text": [
      "C:\\ProgramData\\Anaconda3\\lib\\site-packages\\ipykernel\\ipkernel.py:287: DeprecationWarning: `should_run_async` will not call `transform_cell` automatically in the future. Please pass the result to `transformed_cell` argument and any exception that happen during thetransform in `preprocessing_exc_tuple` in IPython 7.17 and above.\n",
      "  and should_run_async(code)\n"
     ]
    }
   ],
   "source": [
    "import warnings\n",
    "warnings.filterwarnings(\"ignore\", category=DeprecationWarning)"
   ]
  },
  {
   "cell_type": "code",
   "execution_count": 2,
   "id": "94672517",
   "metadata": {
    "ExecuteTime": {
     "end_time": "2022-10-03T13:15:32.221984Z",
     "start_time": "2022-10-03T13:15:31.333487Z"
    }
   },
   "outputs": [
    {
     "name": "stderr",
     "output_type": "stream",
     "text": [
      "C:\\ProgramData\\Anaconda3\\lib\\site-packages\\ipykernel\\ipkernel.py:287: DeprecationWarning: `should_run_async` will not call `transform_cell` automatically in the future. Please pass the result to `transformed_cell` argument and any exception that happen during thetransform in `preprocessing_exc_tuple` in IPython 7.17 and above.\n",
      "  and should_run_async(code)\n"
     ]
    }
   ],
   "source": [
    "#https://www.machinelearningplus.com/nlp/topic-modeling-gensim-python/#1introduction\n",
    "import numpy as np\n",
    "import json\n",
    "import glob\n",
    "\n",
    "#Gensim\n",
    "import gensim\n",
    "import gensim.corpora as corpora\n",
    "from gensim.utils import simple_preprocess\n",
    "from gensim.models import CoherenceModel\n",
    "\n",
    "#spacy\n",
    "import spacy\n",
    "from nltk.corpus import stopwords\n",
    "\n",
    "#vis\n",
    "import pyLDAvis\n",
    "\n",
    "\n",
    "import warnings\n",
    "warnings.filterwarnings(\"ignore\", category=DeprecationWarning)"
   ]
  },
  {
   "cell_type": "code",
   "execution_count": 38,
   "id": "2dbd3ec9",
   "metadata": {
    "ExecuteTime": {
     "end_time": "2022-10-06T21:12:25.113532Z",
     "start_time": "2022-10-06T21:12:25.095578Z"
    }
   },
   "outputs": [],
   "source": [
    "import pyLDAvis.gensim_models\n",
    "import pandas as pd, numpy as np"
   ]
  },
  {
   "cell_type": "code",
   "execution_count": 4,
   "id": "dffe1c1f",
   "metadata": {
    "ExecuteTime": {
     "end_time": "2022-10-06T19:48:34.005055Z",
     "start_time": "2022-10-06T19:48:27.962627Z"
    }
   },
   "outputs": [],
   "source": [
    "df=pd.read_csv('data_latest_without_any special characters_follow tweetss.csv')"
   ]
  },
  {
   "cell_type": "code",
   "execution_count": 5,
   "id": "eb507353",
   "metadata": {
    "ExecuteTime": {
     "end_time": "2022-10-06T19:48:34.034740Z",
     "start_time": "2022-10-06T19:48:34.005055Z"
    }
   },
   "outputs": [
    {
     "data": {
      "text/plain": [
       "Index(['Unnamed: 0', 'user', 'date', 'tweets', 'user_location', 'tweetss'], dtype='object')"
      ]
     },
     "execution_count": 5,
     "metadata": {},
     "output_type": "execute_result"
    }
   ],
   "source": [
    "df.columns"
   ]
  },
  {
   "cell_type": "code",
   "execution_count": 6,
   "id": "d0a5e317",
   "metadata": {
    "ExecuteTime": {
     "end_time": "2022-10-06T19:48:37.826029Z",
     "start_time": "2022-10-06T19:48:37.759219Z"
    }
   },
   "outputs": [],
   "source": [
    "df=df[['user', 'date','user_location', 'tweetss']]"
   ]
  },
  {
   "cell_type": "code",
   "execution_count": 7,
   "id": "bff2c3fd",
   "metadata": {
    "ExecuteTime": {
     "end_time": "2022-10-06T19:48:39.311325Z",
     "start_time": "2022-10-06T19:48:39.248919Z"
    }
   },
   "outputs": [
    {
     "data": {
      "text/html": [
       "<div>\n",
       "<style scoped>\n",
       "    .dataframe tbody tr th:only-of-type {\n",
       "        vertical-align: middle;\n",
       "    }\n",
       "\n",
       "    .dataframe tbody tr th {\n",
       "        vertical-align: top;\n",
       "    }\n",
       "\n",
       "    .dataframe thead th {\n",
       "        text-align: right;\n",
       "    }\n",
       "</style>\n",
       "<table border=\"1\" class=\"dataframe\">\n",
       "  <thead>\n",
       "    <tr style=\"text-align: right;\">\n",
       "      <th></th>\n",
       "      <th>user</th>\n",
       "      <th>date</th>\n",
       "      <th>user_location</th>\n",
       "      <th>tweetss</th>\n",
       "    </tr>\n",
       "  </thead>\n",
       "  <tbody>\n",
       "    <tr>\n",
       "      <th>0</th>\n",
       "      <td>{'username': 'LatebirdVeloz', 'id': 2545627424...</td>\n",
       "      <td>2019-01-07 23:58:19+00:00</td>\n",
       "      <td>Riviera Maya / CDMX ???Ã½???Â« ????</td>\n",
       "      <td>go hell bob parsons spineless fuck stop cowar...</td>\n",
       "    </tr>\n",
       "    <tr>\n",
       "      <th>1</th>\n",
       "      <td>{'username': 'ANDREAG13353939', 'id': 87907853...</td>\n",
       "      <td>2019-01-07 23:56:23+00:00</td>\n",
       "      <td>Colorado, USA</td>\n",
       "      <td>proudly presenting check let know think none g...</td>\n",
       "    </tr>\n",
       "    <tr>\n",
       "      <th>2</th>\n",
       "      <td>{'username': 'GirlsinTech', 'id': 16014840, 'd...</td>\n",
       "      <td>2019-01-07 23:52:07+00:00</td>\n",
       "      <td>Global</td>\n",
       "      <td>want boss don t need go biz school entrepreneu...</td>\n",
       "    </tr>\n",
       "    <tr>\n",
       "      <th>3</th>\n",
       "      <td>{'username': 'mark_callwood', 'id': 9057451792...</td>\n",
       "      <td>2019-01-07 23:46:48+00:00</td>\n",
       "      <td>Surrey</td>\n",
       "      <td>every cunty elephant killing bob parsons hundr...</td>\n",
       "    </tr>\n",
       "    <tr>\n",
       "      <th>4</th>\n",
       "      <td>{'username': 'MccrelessTravis', 'id': 10715028...</td>\n",
       "      <td>2019-01-07 23:44:10+00:00</td>\n",
       "      <td>Mackinaw city, michigan</td>\n",
       "      <td>proudly presenting check let know think gocent...</td>\n",
       "    </tr>\n",
       "    <tr>\n",
       "      <th>...</th>\n",
       "      <td>...</td>\n",
       "      <td>...</td>\n",
       "      <td>...</td>\n",
       "      <td>...</td>\n",
       "    </tr>\n",
       "    <tr>\n",
       "      <th>307115</th>\n",
       "      <td>{'username': 'GoDaddyUK', 'id': 2511235328, 'd...</td>\n",
       "      <td>2022-09-23 07:50:12+00:00</td>\n",
       "      <td>UK</td>\n",
       "      <td>era advancing technology everevolving ways wor...</td>\n",
       "    </tr>\n",
       "    <tr>\n",
       "      <th>307116</th>\n",
       "      <td>{'username': 'ecarlesi', 'id': 19444180, 'disp...</td>\n",
       "      <td>2022-09-23 07:50:33+00:00</td>\n",
       "      <td>Roma, Lazio</td>\n",
       "      <td>possible threat phishing</td>\n",
       "    </tr>\n",
       "    <tr>\n",
       "      <th>307117</th>\n",
       "      <td>{'username': 'ecarlesi', 'id': 19444180, 'disp...</td>\n",
       "      <td>2022-09-23 07:55:09+00:00</td>\n",
       "      <td>Roma, Lazio</td>\n",
       "      <td>possible threat</td>\n",
       "    </tr>\n",
       "    <tr>\n",
       "      <th>307118</th>\n",
       "      <td>{'username': 'ARCH1V3S23', 'id': 1498900982209...</td>\n",
       "      <td>2022-09-23 08:04:14+00:00</td>\n",
       "      <td>she/they, minor, works on Ã¢ÂÂ¡Ã¯Â¸Â</td>\n",
       "      <td>adobe express u nawt hv layer something like c...</td>\n",
       "    </tr>\n",
       "    <tr>\n",
       "      <th>307119</th>\n",
       "      <td>{'username': 'ecarlesi', 'id': 19444180, 'disp...</td>\n",
       "      <td>2022-09-23 08:06:56+00:00</td>\n",
       "      <td>Roma, Lazio</td>\n",
       "      <td>possible threat</td>\n",
       "    </tr>\n",
       "  </tbody>\n",
       "</table>\n",
       "<p>307120 rows × 4 columns</p>\n",
       "</div>"
      ],
      "text/plain": [
       "                                                     user  \\\n",
       "0       {'username': 'LatebirdVeloz', 'id': 2545627424...   \n",
       "1       {'username': 'ANDREAG13353939', 'id': 87907853...   \n",
       "2       {'username': 'GirlsinTech', 'id': 16014840, 'd...   \n",
       "3       {'username': 'mark_callwood', 'id': 9057451792...   \n",
       "4       {'username': 'MccrelessTravis', 'id': 10715028...   \n",
       "...                                                   ...   \n",
       "307115  {'username': 'GoDaddyUK', 'id': 2511235328, 'd...   \n",
       "307116  {'username': 'ecarlesi', 'id': 19444180, 'disp...   \n",
       "307117  {'username': 'ecarlesi', 'id': 19444180, 'disp...   \n",
       "307118  {'username': 'ARCH1V3S23', 'id': 1498900982209...   \n",
       "307119  {'username': 'ecarlesi', 'id': 19444180, 'disp...   \n",
       "\n",
       "                             date                           user_location  \\\n",
       "0       2019-01-07 23:58:19+00:00     Riviera Maya / CDMX ???Ã½???Â« ????   \n",
       "1       2019-01-07 23:56:23+00:00                           Colorado, USA   \n",
       "2       2019-01-07 23:52:07+00:00                                  Global   \n",
       "3       2019-01-07 23:46:48+00:00                                  Surrey   \n",
       "4       2019-01-07 23:44:10+00:00                Mackinaw city, michigan    \n",
       "...                           ...                                     ...   \n",
       "307115  2022-09-23 07:50:12+00:00                                      UK   \n",
       "307116  2022-09-23 07:50:33+00:00                             Roma, Lazio   \n",
       "307117  2022-09-23 07:55:09+00:00                             Roma, Lazio   \n",
       "307118  2022-09-23 08:04:14+00:00  she/they, minor, works on Ã¢ÂÂ¡Ã¯Â¸Â   \n",
       "307119  2022-09-23 08:06:56+00:00                             Roma, Lazio   \n",
       "\n",
       "                                                  tweetss  \n",
       "0        go hell bob parsons spineless fuck stop cowar...  \n",
       "1       proudly presenting check let know think none g...  \n",
       "2       want boss don t need go biz school entrepreneu...  \n",
       "3       every cunty elephant killing bob parsons hundr...  \n",
       "4       proudly presenting check let know think gocent...  \n",
       "...                                                   ...  \n",
       "307115  era advancing technology everevolving ways wor...  \n",
       "307116                          possible threat phishing   \n",
       "307117                                   possible threat   \n",
       "307118  adobe express u nawt hv layer something like c...  \n",
       "307119                                   possible threat   \n",
       "\n",
       "[307120 rows x 4 columns]"
      ]
     },
     "execution_count": 7,
     "metadata": {},
     "output_type": "execute_result"
    }
   ],
   "source": [
    "df"
   ]
  },
  {
   "cell_type": "code",
   "execution_count": 4,
   "id": "6055852c",
   "metadata": {
    "ExecuteTime": {
     "end_time": "2022-10-03T08:31:09.424666Z",
     "start_time": "2022-10-03T08:31:09.409044Z"
    }
   },
   "outputs": [],
   "source": [
    "def clean_text(text ): \n",
    "    delete_dict = {sp_character: '' for sp_character in string.punctuation} \n",
    "    delete_dict[' '] = ' ' \n",
    "    table = str.maketrans(delete_dict)\n",
    "    text1 = text.translate(table)\n",
    "    #print('cleaned:'+text1)\n",
    "    textArr= text1.split()\n",
    "    text2 = ' '.join([w for w in textArr if ( not w.isdigit() and  ( not w.isdigit() and len(w)>3))]) \n",
    "    \n",
    "    return text2.lower()"
   ]
  },
  {
   "cell_type": "code",
   "execution_count": 8,
   "id": "128b13f0",
   "metadata": {
    "ExecuteTime": {
     "end_time": "2022-10-06T19:48:53.782727Z",
     "start_time": "2022-10-06T19:48:51.428217Z"
    }
   },
   "outputs": [
    {
     "name": "stderr",
     "output_type": "stream",
     "text": [
      "[nltk_data] Downloading package stopwords to\n",
      "[nltk_data]     C:\\Users\\Admin\\AppData\\Roaming\\nltk_data...\n",
      "[nltk_data]   Package stopwords is already up-to-date!\n"
     ]
    },
    {
     "data": {
      "text/plain": [
       "True"
      ]
     },
     "execution_count": 8,
     "metadata": {},
     "output_type": "execute_result"
    }
   ],
   "source": [
    "import nltk\n",
    "nltk.download('stopwords') # run this one time"
   ]
  },
  {
   "cell_type": "code",
   "execution_count": 10,
   "id": "c2380c19",
   "metadata": {
    "ExecuteTime": {
     "end_time": "2022-10-03T08:29:40.851051Z",
     "start_time": "2022-10-03T08:29:40.821412Z"
    }
   },
   "outputs": [],
   "source": [
    "review_data=df.copy()"
   ]
  },
  {
   "cell_type": "code",
   "execution_count": 11,
   "id": "2abae5e2",
   "metadata": {
    "ExecuteTime": {
     "end_time": "2022-10-03T08:29:40.982709Z",
     "start_time": "2022-10-03T08:29:40.851051Z"
    }
   },
   "outputs": [
    {
     "name": "stdout",
     "output_type": "stream",
     "text": [
      "<class 'pandas.core.frame.DataFrame'>\n",
      "RangeIndex: 307120 entries, 0 to 307119\n",
      "Data columns (total 4 columns):\n",
      " #   Column         Non-Null Count   Dtype \n",
      "---  ------         --------------   ----- \n",
      " 0   user           307120 non-null  object\n",
      " 1   date           307120 non-null  object\n",
      " 2   user_location  307120 non-null  object\n",
      " 3   tweetss        307120 non-null  object\n",
      "dtypes: object(4)\n",
      "memory usage: 9.4+ MB\n"
     ]
    }
   ],
   "source": [
    "review_data.info()"
   ]
  },
  {
   "cell_type": "code",
   "execution_count": 6,
   "id": "29c2f331",
   "metadata": {
    "ExecuteTime": {
     "end_time": "2022-10-03T08:31:22.541238Z",
     "start_time": "2022-10-03T08:31:19.977066Z"
    }
   },
   "outputs": [
    {
     "ename": "NameError",
     "evalue": "name 'review_data' is not defined",
     "output_type": "error",
     "traceback": [
      "\u001b[1;31m---------------------------------------------------------------------------\u001b[0m",
      "\u001b[1;31mNameError\u001b[0m                                 Traceback (most recent call last)",
      "\u001b[1;32m<ipython-input-6-834a24de73d9>\u001b[0m in \u001b[0;36m<module>\u001b[1;34m\u001b[0m\n\u001b[1;32m----> 1\u001b[1;33m \u001b[0mreview_data\u001b[0m\u001b[1;33m.\u001b[0m\u001b[0mdropna\u001b[0m\u001b[1;33m(\u001b[0m\u001b[0maxis\u001b[0m \u001b[1;33m=\u001b[0m \u001b[1;36m0\u001b[0m\u001b[1;33m,\u001b[0m \u001b[0mhow\u001b[0m \u001b[1;33m=\u001b[0m\u001b[1;34m'any'\u001b[0m\u001b[1;33m,\u001b[0m\u001b[0minplace\u001b[0m\u001b[1;33m=\u001b[0m\u001b[1;32mTrue\u001b[0m\u001b[1;33m)\u001b[0m\u001b[1;33m\u001b[0m\u001b[1;33m\u001b[0m\u001b[0m\n\u001b[0m\u001b[0;32m      2\u001b[0m \u001b[1;33m\u001b[0m\u001b[0m\n\u001b[0;32m      3\u001b[0m \u001b[1;33m\u001b[0m\u001b[0m\n\u001b[0;32m      4\u001b[0m \u001b[1;33m\u001b[0m\u001b[0m\n\u001b[0;32m      5\u001b[0m \u001b[0mreview_data\u001b[0m\u001b[1;33m[\u001b[0m\u001b[1;34m'tweets'\u001b[0m\u001b[1;33m]\u001b[0m \u001b[1;33m=\u001b[0m \u001b[0mreview_data\u001b[0m\u001b[1;33m[\u001b[0m\u001b[1;34m'tweetss'\u001b[0m\u001b[1;33m]\u001b[0m\u001b[1;33m.\u001b[0m\u001b[0mapply\u001b[0m\u001b[1;33m(\u001b[0m\u001b[0mclean_text\u001b[0m\u001b[1;33m)\u001b[0m\u001b[1;33m\u001b[0m\u001b[1;33m\u001b[0m\u001b[0m\n",
      "\u001b[1;31mNameError\u001b[0m: name 'review_data' is not defined"
     ]
    }
   ],
   "source": [
    "review_data.dropna(axis = 0, how ='any',inplace=True) \n",
    "\n",
    "\n",
    "\n",
    "review_data['tweets'] = review_data['tweetss'].apply(clean_text)\n",
    "review_data['Num_words_text'] = review_data['tweetss'].apply(lambda x:len(str(x).split())) \n",
    "\n",
    "mask = (review_data['Num_words_text'] < 100) & (review_data['Num_words_text'] >=20)\n",
    "df_short_reviews = review_data[mask]\n",
    "\n",
    "print('No of Short reviews')\n",
    "print(len(df_short_reviews))\n",
    "\n"
   ]
  },
  {
   "cell_type": "raw",
   "id": "d52475da",
   "metadata": {},
   "source": [
    "review_data.dropna(axis = 0, how ='any',inplace=True) \n",
    "\n",
    "\n",
    "\n",
    "\n",
    "\n",
    "\n",
    "review_data['Text'] = review_data['Text'].apply(clean_text)\n",
    "review_data['Num_words_text'] = review_data['Text'].apply(lambda x:len(str(x).split())) \n",
    "\n",
    "print('-------Dataset --------')\n",
    "print(review_data['Score'].value_counts())\n",
    "print(len(review_data))\n",
    "print('-------------------------')\n",
    "max_review_data_sentence_length  = review_data['Num_words_text'].max()\n",
    "\n",
    "mask = (review_data['Num_words_text'] < 100) & (review_data['Num_words_text'] >=20)\n",
    "df_short_reviews = review_data[mask]\n",
    "df_sampled = df_short_reviews.groupby('Score').apply(lambda x: x.sample(n=20000)).reset_index(drop = True)\n",
    "\n",
    "print('No of Short reviews')\n",
    "print(len(df_short_reviews))"
   ]
  },
  {
   "cell_type": "code",
   "execution_count": 13,
   "id": "c7b3751e",
   "metadata": {
    "ExecuteTime": {
     "end_time": "2022-10-03T08:29:47.136521Z",
     "start_time": "2022-10-03T08:29:47.081222Z"
    }
   },
   "outputs": [
    {
     "data": {
      "text/html": [
       "<div>\n",
       "<style scoped>\n",
       "    .dataframe tbody tr th:only-of-type {\n",
       "        vertical-align: middle;\n",
       "    }\n",
       "\n",
       "    .dataframe tbody tr th {\n",
       "        vertical-align: top;\n",
       "    }\n",
       "\n",
       "    .dataframe thead th {\n",
       "        text-align: right;\n",
       "    }\n",
       "</style>\n",
       "<table border=\"1\" class=\"dataframe\">\n",
       "  <thead>\n",
       "    <tr style=\"text-align: right;\">\n",
       "      <th></th>\n",
       "      <th>user</th>\n",
       "      <th>date</th>\n",
       "      <th>user_location</th>\n",
       "      <th>tweetss</th>\n",
       "      <th>tweets</th>\n",
       "      <th>Num_words_text</th>\n",
       "    </tr>\n",
       "  </thead>\n",
       "  <tbody>\n",
       "    <tr>\n",
       "      <th>8</th>\n",
       "      <td>{'username': 'ItsikRomano', 'id': 57819532, 'd...</td>\n",
       "      <td>2019-01-07 23:26:54+00:00</td>\n",
       "      <td>Montreal - Quebec - Canada</td>\n",
       "      <td>sell contact info spammers india since purcha...</td>\n",
       "      <td>sell contact info spammers india since purchas...</td>\n",
       "      <td>26</td>\n",
       "    </tr>\n",
       "    <tr>\n",
       "      <th>30</th>\n",
       "      <td>{'username': 'LaDonaHarvey', 'id': 225056299, ...</td>\n",
       "      <td>2019-01-07 22:14:10+00:00</td>\n",
       "      <td>San Diego</td>\n",
       "      <td>happen last time registered domain name phone ...</td>\n",
       "      <td>happen last time registered domain name phone ...</td>\n",
       "      <td>20</td>\n",
       "    </tr>\n",
       "    <tr>\n",
       "      <th>47</th>\n",
       "      <td>{'username': 'maryderrickart', 'id': 562518183...</td>\n",
       "      <td>2019-01-07 21:28:03+00:00</td>\n",
       "      <td>Canada</td>\n",
       "      <td>disgusting pos kills fun founder time boycott...</td>\n",
       "      <td>disgusting kills founder time boycott ahole kn...</td>\n",
       "      <td>26</td>\n",
       "    </tr>\n",
       "    <tr>\n",
       "      <th>58</th>\n",
       "      <td>{'username': '_STD_', 'id': 480888266, 'displa...</td>\n",
       "      <td>2019-01-07 20:59:56+00:00</td>\n",
       "      <td>Nor Cal</td>\n",
       "      <td>mmanerd top three things mentioned suffice wor...</td>\n",
       "      <td>mmanerd three things mentioned suffice wordpre...</td>\n",
       "      <td>20</td>\n",
       "    </tr>\n",
       "    <tr>\n",
       "      <th>65</th>\n",
       "      <td>{'username': 'LonTaylor7', 'id': 1045821487876...</td>\n",
       "      <td>2019-01-07 20:30:52+00:00</td>\n",
       "      <td>Newport, NJ</td>\n",
       "      <td>greatest plague since dawn time narcissistic ...</td>\n",
       "      <td>greatest plague since dawn time narcissistic p...</td>\n",
       "      <td>20</td>\n",
       "    </tr>\n",
       "    <tr>\n",
       "      <th>...</th>\n",
       "      <td>...</td>\n",
       "      <td>...</td>\n",
       "      <td>...</td>\n",
       "      <td>...</td>\n",
       "      <td>...</td>\n",
       "      <td>...</td>\n",
       "    </tr>\n",
       "    <tr>\n",
       "      <th>307096</th>\n",
       "      <td>{'username': 'OhINoSheTwitent', 'id': 13933296...</td>\n",
       "      <td>2022-09-23 02:56:49+00:00</td>\n",
       "      <td>World</td>\n",
       "      <td>quentin latham one confirmed via abuses ts mad...</td>\n",
       "      <td>quentin latham confirmed abuses made clear fed...</td>\n",
       "      <td>27</td>\n",
       "    </tr>\n",
       "    <tr>\n",
       "      <th>307100</th>\n",
       "      <td>{'username': 'codebeastmode', 'id': 9650420613...</td>\n",
       "      <td>2022-09-23 04:05:05+00:00</td>\n",
       "      <td>Tampa, FL</td>\n",
       "      <td>negative whos driving many votes take agree w...</td>\n",
       "      <td>negative whos driving many votes take agree we...</td>\n",
       "      <td>22</td>\n",
       "    </tr>\n",
       "    <tr>\n",
       "      <th>307104</th>\n",
       "      <td>{'username': 'TheAdamKingShow', 'id': 15649842...</td>\n",
       "      <td>2022-09-23 04:51:11+00:00</td>\n",
       "      <td>Los Angeles</td>\n",
       "      <td>check newly updated webpage   we   ve added ad...</td>\n",
       "      <td>check newly updated webpage added additional p...</td>\n",
       "      <td>24</td>\n",
       "    </tr>\n",
       "    <tr>\n",
       "      <th>307107</th>\n",
       "      <td>{'username': 'SmokingGun', 'id': 192824056, 'd...</td>\n",
       "      <td>2022-09-23 05:16:03+00:00</td>\n",
       "      <td>Perth, Western Australia</td>\n",
       "      <td>harmful effects week trespassing traps queen e...</td>\n",
       "      <td>harmful effects week trespassing traps queen e...</td>\n",
       "      <td>25</td>\n",
       "    </tr>\n",
       "    <tr>\n",
       "      <th>307114</th>\n",
       "      <td>{'username': 'ShirinRecruits', 'id': 148560969...</td>\n",
       "      <td>2022-09-23 07:21:23+00:00</td>\n",
       "      <td>Munich</td>\n",
       "      <td>it   s friday currently hiring several excitin...</td>\n",
       "      <td>friday currently hiring several exciting oppor...</td>\n",
       "      <td>24</td>\n",
       "    </tr>\n",
       "  </tbody>\n",
       "</table>\n",
       "<p>44274 rows × 6 columns</p>\n",
       "</div>"
      ],
      "text/plain": [
       "                                                     user  \\\n",
       "8       {'username': 'ItsikRomano', 'id': 57819532, 'd...   \n",
       "30      {'username': 'LaDonaHarvey', 'id': 225056299, ...   \n",
       "47      {'username': 'maryderrickart', 'id': 562518183...   \n",
       "58      {'username': '_STD_', 'id': 480888266, 'displa...   \n",
       "65      {'username': 'LonTaylor7', 'id': 1045821487876...   \n",
       "...                                                   ...   \n",
       "307096  {'username': 'OhINoSheTwitent', 'id': 13933296...   \n",
       "307100  {'username': 'codebeastmode', 'id': 9650420613...   \n",
       "307104  {'username': 'TheAdamKingShow', 'id': 15649842...   \n",
       "307107  {'username': 'SmokingGun', 'id': 192824056, 'd...   \n",
       "307114  {'username': 'ShirinRecruits', 'id': 148560969...   \n",
       "\n",
       "                             date               user_location  \\\n",
       "8       2019-01-07 23:26:54+00:00  Montreal - Quebec - Canada   \n",
       "30      2019-01-07 22:14:10+00:00                   San Diego   \n",
       "47      2019-01-07 21:28:03+00:00                      Canada   \n",
       "58      2019-01-07 20:59:56+00:00                     Nor Cal   \n",
       "65      2019-01-07 20:30:52+00:00                 Newport, NJ   \n",
       "...                           ...                         ...   \n",
       "307096  2022-09-23 02:56:49+00:00                      World    \n",
       "307100  2022-09-23 04:05:05+00:00                   Tampa, FL   \n",
       "307104  2022-09-23 04:51:11+00:00                 Los Angeles   \n",
       "307107  2022-09-23 05:16:03+00:00    Perth, Western Australia   \n",
       "307114  2022-09-23 07:21:23+00:00                      Munich   \n",
       "\n",
       "                                                  tweetss  \\\n",
       "8        sell contact info spammers india since purcha...   \n",
       "30      happen last time registered domain name phone ...   \n",
       "47       disgusting pos kills fun founder time boycott...   \n",
       "58      mmanerd top three things mentioned suffice wor...   \n",
       "65       greatest plague since dawn time narcissistic ...   \n",
       "...                                                   ...   \n",
       "307096  quentin latham one confirmed via abuses ts mad...   \n",
       "307100   negative whos driving many votes take agree w...   \n",
       "307104  check newly updated webpage   we   ve added ad...   \n",
       "307107  harmful effects week trespassing traps queen e...   \n",
       "307114  it   s friday currently hiring several excitin...   \n",
       "\n",
       "                                                   tweets  Num_words_text  \n",
       "8       sell contact info spammers india since purchas...              26  \n",
       "30      happen last time registered domain name phone ...              20  \n",
       "47      disgusting kills founder time boycott ahole kn...              26  \n",
       "58      mmanerd three things mentioned suffice wordpre...              20  \n",
       "65      greatest plague since dawn time narcissistic p...              20  \n",
       "...                                                   ...             ...  \n",
       "307096  quentin latham confirmed abuses made clear fed...              27  \n",
       "307100  negative whos driving many votes take agree we...              22  \n",
       "307104  check newly updated webpage added additional p...              24  \n",
       "307107  harmful effects week trespassing traps queen e...              25  \n",
       "307114  friday currently hiring several exciting oppor...              24  \n",
       "\n",
       "[44274 rows x 6 columns]"
      ]
     },
     "execution_count": 13,
     "metadata": {},
     "output_type": "execute_result"
    }
   ],
   "source": [
    "df_short_reviews"
   ]
  },
  {
   "cell_type": "code",
   "execution_count": 9,
   "id": "e4d9f89b",
   "metadata": {
    "ExecuteTime": {
     "end_time": "2022-10-06T19:51:45.965734Z",
     "start_time": "2022-10-06T19:51:44.772578Z"
    }
   },
   "outputs": [],
   "source": [
    "df=pd.read_csv('df_sampled_rough.csv')"
   ]
  },
  {
   "cell_type": "code",
   "execution_count": 11,
   "id": "e16763c9",
   "metadata": {
    "ExecuteTime": {
     "end_time": "2022-10-06T19:52:50.197830Z",
     "start_time": "2022-10-06T19:52:50.171902Z"
    }
   },
   "outputs": [],
   "source": [
    "df.drop(columns='Unnamed: 0',inplace=True)"
   ]
  },
  {
   "cell_type": "code",
   "execution_count": 13,
   "id": "e3b7c800",
   "metadata": {
    "ExecuteTime": {
     "end_time": "2022-10-06T19:55:00.541456Z",
     "start_time": "2022-10-06T19:55:00.517517Z"
    }
   },
   "outputs": [
    {
     "data": {
      "text/html": [
       "<div>\n",
       "<style scoped>\n",
       "    .dataframe tbody tr th:only-of-type {\n",
       "        vertical-align: middle;\n",
       "    }\n",
       "\n",
       "    .dataframe tbody tr th {\n",
       "        vertical-align: top;\n",
       "    }\n",
       "\n",
       "    .dataframe thead th {\n",
       "        text-align: right;\n",
       "    }\n",
       "</style>\n",
       "<table border=\"1\" class=\"dataframe\">\n",
       "  <thead>\n",
       "    <tr style=\"text-align: right;\">\n",
       "      <th></th>\n",
       "      <th>user</th>\n",
       "      <th>date</th>\n",
       "      <th>user_location</th>\n",
       "      <th>tweetss</th>\n",
       "      <th>tweets</th>\n",
       "      <th>Num_words_text</th>\n",
       "    </tr>\n",
       "  </thead>\n",
       "  <tbody>\n",
       "    <tr>\n",
       "      <th>0</th>\n",
       "      <td>{'username': 'ItsikRomano', 'id': 57819532, 'd...</td>\n",
       "      <td>2019-01-07 23:26:54+00:00</td>\n",
       "      <td>Montreal - Quebec - Canada</td>\n",
       "      <td>sell contact info spammers india since purcha...</td>\n",
       "      <td>sell contact info spammers india since purchas...</td>\n",
       "      <td>26</td>\n",
       "    </tr>\n",
       "    <tr>\n",
       "      <th>1</th>\n",
       "      <td>{'username': 'LaDonaHarvey', 'id': 225056299, ...</td>\n",
       "      <td>2019-01-07 22:14:10+00:00</td>\n",
       "      <td>San Diego</td>\n",
       "      <td>happen last time registered domain name phone ...</td>\n",
       "      <td>happen last time registered domain name phone ...</td>\n",
       "      <td>20</td>\n",
       "    </tr>\n",
       "    <tr>\n",
       "      <th>2</th>\n",
       "      <td>{'username': 'maryderrickart', 'id': 562518183...</td>\n",
       "      <td>2019-01-07 21:28:03+00:00</td>\n",
       "      <td>Canada</td>\n",
       "      <td>disgusting pos kills fun founder time boycott...</td>\n",
       "      <td>disgusting kills founder time boycott ahole kn...</td>\n",
       "      <td>26</td>\n",
       "    </tr>\n",
       "    <tr>\n",
       "      <th>3</th>\n",
       "      <td>{'username': '_STD_', 'id': 480888266, 'displa...</td>\n",
       "      <td>2019-01-07 20:59:56+00:00</td>\n",
       "      <td>Nor Cal</td>\n",
       "      <td>mmanerd top three things mentioned suffice wor...</td>\n",
       "      <td>mmanerd three things mentioned suffice wordpre...</td>\n",
       "      <td>20</td>\n",
       "    </tr>\n",
       "    <tr>\n",
       "      <th>4</th>\n",
       "      <td>{'username': 'LonTaylor7', 'id': 1045821487876...</td>\n",
       "      <td>2019-01-07 20:30:52+00:00</td>\n",
       "      <td>Newport, NJ</td>\n",
       "      <td>greatest plague since dawn time narcissistic ...</td>\n",
       "      <td>greatest plague since dawn time narcissistic p...</td>\n",
       "      <td>20</td>\n",
       "    </tr>\n",
       "  </tbody>\n",
       "</table>\n",
       "</div>"
      ],
      "text/plain": [
       "                                                user  \\\n",
       "0  {'username': 'ItsikRomano', 'id': 57819532, 'd...   \n",
       "1  {'username': 'LaDonaHarvey', 'id': 225056299, ...   \n",
       "2  {'username': 'maryderrickart', 'id': 562518183...   \n",
       "3  {'username': '_STD_', 'id': 480888266, 'displa...   \n",
       "4  {'username': 'LonTaylor7', 'id': 1045821487876...   \n",
       "\n",
       "                        date               user_location  \\\n",
       "0  2019-01-07 23:26:54+00:00  Montreal - Quebec - Canada   \n",
       "1  2019-01-07 22:14:10+00:00                   San Diego   \n",
       "2  2019-01-07 21:28:03+00:00                      Canada   \n",
       "3  2019-01-07 20:59:56+00:00                     Nor Cal   \n",
       "4  2019-01-07 20:30:52+00:00                 Newport, NJ   \n",
       "\n",
       "                                             tweetss  \\\n",
       "0   sell contact info spammers india since purcha...   \n",
       "1  happen last time registered domain name phone ...   \n",
       "2   disgusting pos kills fun founder time boycott...   \n",
       "3  mmanerd top three things mentioned suffice wor...   \n",
       "4   greatest plague since dawn time narcissistic ...   \n",
       "\n",
       "                                              tweets  Num_words_text  \n",
       "0  sell contact info spammers india since purchas...              26  \n",
       "1  happen last time registered domain name phone ...              20  \n",
       "2  disgusting kills founder time boycott ahole kn...              26  \n",
       "3  mmanerd three things mentioned suffice wordpre...              20  \n",
       "4  greatest plague since dawn time narcissistic p...              20  "
      ]
     },
     "execution_count": 13,
     "metadata": {},
     "output_type": "execute_result"
    }
   ],
   "source": [
    "df.head(5)"
   ]
  },
  {
   "cell_type": "code",
   "execution_count": 14,
   "id": "b766acfc",
   "metadata": {
    "ExecuteTime": {
     "end_time": "2022-10-03T08:29:47.163525Z",
     "start_time": "2022-10-03T08:29:47.140509Z"
    }
   },
   "outputs": [],
   "source": [
    "df_sampled=df_short_reviews.copy()"
   ]
  },
  {
   "cell_type": "code",
   "execution_count": 7,
   "id": "704ea012",
   "metadata": {
    "ExecuteTime": {
     "end_time": "2022-10-03T08:31:29.956906Z",
     "start_time": "2022-10-03T08:31:29.920967Z"
    }
   },
   "outputs": [
    {
     "ename": "NameError",
     "evalue": "name 'df_sampled' is not defined",
     "output_type": "error",
     "traceback": [
      "\u001b[1;31m---------------------------------------------------------------------------\u001b[0m",
      "\u001b[1;31mNameError\u001b[0m                                 Traceback (most recent call last)",
      "\u001b[1;32m<ipython-input-7-42f107d40973>\u001b[0m in \u001b[0;36m<module>\u001b[1;34m\u001b[0m\n\u001b[0;32m      8\u001b[0m \u001b[1;33m\u001b[0m\u001b[0m\n\u001b[0;32m      9\u001b[0m \u001b[1;31m# remove stopwords from the text\u001b[0m\u001b[1;33m\u001b[0m\u001b[1;33m\u001b[0m\u001b[1;33m\u001b[0m\u001b[0m\n\u001b[1;32m---> 10\u001b[1;33m \u001b[0mdf_sampled\u001b[0m\u001b[1;33m[\u001b[0m\u001b[1;34m'tweetss'\u001b[0m\u001b[1;33m]\u001b[0m\u001b[1;33m=\u001b[0m\u001b[0mdf_sampled\u001b[0m\u001b[1;33m[\u001b[0m\u001b[1;34m'tweetss'\u001b[0m\u001b[1;33m]\u001b[0m\u001b[1;33m.\u001b[0m\u001b[0mapply\u001b[0m\u001b[1;33m(\u001b[0m\u001b[0mremove_stopwords\u001b[0m\u001b[1;33m)\u001b[0m\u001b[1;33m\u001b[0m\u001b[1;33m\u001b[0m\u001b[0m\n\u001b[0m",
      "\u001b[1;31mNameError\u001b[0m: name 'df_sampled' is not defined"
     ]
    }
   ],
   "source": [
    "from nltk.corpus import stopwords\n",
    "stop_words = stopwords.words('english')\n",
    "# function to remove stopwords\n",
    "def remove_stopwords(text):\n",
    "    textArr = text.split(' ')\n",
    "    rem_text = \" \".join([i for i in textArr if i not in stop_words])\n",
    "    return rem_text\n",
    "\n",
    "# remove stopwords from the text\n",
    "df_sampled['tweetss']=df_sampled['tweetss'].apply(remove_stopwords)\n"
   ]
  },
  {
   "cell_type": "code",
   "execution_count": 14,
   "id": "e523d62c",
   "metadata": {
    "ExecuteTime": {
     "end_time": "2022-10-06T19:56:08.390986Z",
     "start_time": "2022-10-06T19:56:04.888869Z"
    }
   },
   "outputs": [],
   "source": [
    "nlp = spacy.load('en_core_web_md', disable=['parser', 'ner'])\n",
    "\n",
    "def lemmatization(texts,allowed_postags=['NOUN', 'ADJ']): \n",
    "       output = []\n",
    "       for sent in texts:\n",
    "             doc = nlp(sent) \n",
    "             output.append([token.lemma_ for token in doc if token.pos_ in allowed_postags ])\n",
    "       return output"
   ]
  },
  {
   "cell_type": "code",
   "execution_count": 15,
   "id": "563d1f68",
   "metadata": {
    "ExecuteTime": {
     "end_time": "2022-10-06T19:56:16.814164Z",
     "start_time": "2022-10-06T19:56:16.793224Z"
    }
   },
   "outputs": [],
   "source": [
    "#df_sampled.to_csv('df_sampled_rough.csv')\n",
    "df_sampled=pd.read_csv('df_sampled_rough.csv')"
   ]
  },
  {
   "cell_type": "code",
   "execution_count": 16,
   "id": "73e66c32",
   "metadata": {
    "ExecuteTime": {
     "end_time": "2022-10-06T20:00:54.676050Z",
     "start_time": "2022-10-06T19:56:26.588960Z"
    }
   },
   "outputs": [
    {
     "name": "stdout",
     "output_type": "stream",
     "text": [
      "happen last time registered domain name phone call phone call phone call may change damned number spitting nailsomg \n",
      "['last', 'time', 'domain', 'name', 'phone', 'call', 'phone', 'call', 'phone', 'call', 'number', 'nailsomg']\n"
     ]
    }
   ],
   "source": [
    "text_list=df_sampled['tweetss'].tolist()\n",
    "print(text_list[1])\n",
    "tokenized_reviews = lemmatization(text_list)\n",
    "print(tokenized_reviews[1])"
   ]
  },
  {
   "cell_type": "code",
   "execution_count": 17,
   "id": "320d6746",
   "metadata": {
    "ExecuteTime": {
     "end_time": "2022-10-06T20:06:32.569847Z",
     "start_time": "2022-10-06T20:06:32.548907Z"
    }
   },
   "outputs": [
    {
     "name": "stdout",
     "output_type": "stream",
     "text": [
      "['disgusting', 'fun', 'founder', 'time', 'boycott', 'ahole', 'd', 'love', 'jail', 'innocent', 'beautiful', 'animal', 'fun', 'camera', 'asshole', 'amp', 'picture']\n"
     ]
    }
   ],
   "source": [
    "print(tokenized_reviews[2])"
   ]
  },
  {
   "cell_type": "code",
   "execution_count": 18,
   "id": "cc8f5744",
   "metadata": {
    "ExecuteTime": {
     "end_time": "2022-10-06T20:06:38.999543Z",
     "start_time": "2022-10-06T20:06:36.835502Z"
    }
   },
   "outputs": [],
   "source": [
    "#Create vocabulary dictionary and document term matrix\n",
    "dictionary = corpora.Dictionary(tokenized_reviews)\n",
    "doc_term_matrix = [dictionary.doc2bow(rev) for rev in tokenized_reviews]"
   ]
  },
  {
   "cell_type": "code",
   "execution_count": 14,
   "id": "4b3966a6",
   "metadata": {
    "ExecuteTime": {
     "end_time": "2022-10-03T08:49:30.467437Z",
     "start_time": "2022-10-03T08:36:47.159832Z"
    }
   },
   "outputs": [],
   "source": [
    "# Creating the object for LDA model using gensim library\n",
    "LDA = gensim.models.ldamodel.LdaModel\n",
    "\n",
    "# Build LDA model\n",
    "lda_model = LDA(corpus=doc_term_matrix, id2word=dictionary, num_topics=10, random_state=100,\n",
    "                chunksize=1000, passes=50,iterations=100)"
   ]
  },
  {
   "cell_type": "code",
   "execution_count": 33,
   "id": "f89ec95f",
   "metadata": {
    "ExecuteTime": {
     "end_time": "2022-10-02T17:09:58.814844Z",
     "start_time": "2022-10-02T17:09:58.782930Z"
    }
   },
   "outputs": [
    {
     "data": {
      "text/plain": [
       "[(0,\n",
       "  '0.029*\"size\" + 0.022*\"system\" + 0.021*\"solution\" + 0.020*\"r\" + 0.019*\"large\" + 0.015*\"share\" + 0.014*\"whole\" + 0.013*\"world\" + 0.011*\"career\" + 0.010*\"man\"'),\n",
       " (1,\n",
       "  '0.067*\"provider\" + 0.048*\"detail\" + 0.029*\"order\" + 0.029*\"e\" + 0.026*\"cpanel\" + 0.021*\"similar\" + 0.019*\"data\" + 0.015*\"wordpress\" + 0.013*\"button\" + 0.012*\"hostgator\"'),\n",
       " (2,\n",
       "  '0.102*\"social\" + 0.099*\"medium\" + 0.047*\"amp\" + 0.026*\"video\" + 0.020*\"right\" + 0.020*\"life\" + 0.018*\"comhow\" + 0.012*\"step\" + 0.012*\"available\" + 0.010*\"recent\"'),\n",
       " (3,\n",
       "  '0.034*\"customer\" + 0.031*\"service\" + 0.029*\"time\" + 0.022*\"bigrock\" + 0.021*\"support\" + 0.019*\"day\" + 0.018*\"account\" + 0.018*\"issue\" + 0.018*\"website\" + 0.015*\"company\"'),\n",
       " (4,\n",
       "  '0.123*\"business\" + 0.027*\"online\" + 0.027*\"brand\" + 0.021*\"small\" + 0.019*\"rare\" + 0.017*\"startup\" + 0.017*\"platform\" + 0.016*\"owner\" + 0.015*\"market\" + 0.014*\"top\"'),\n",
       " (5,\n",
       "  '0.271*\"domain\" + 0.068*\"name\" + 0.031*\"registration\" + 0.025*\"com\" + 0.022*\"year\" + 0.019*\"registrar\" + 0.017*\"cheap\" + 0.015*\"sale\" + 0.013*\"price\" + 0.011*\"premium\"'),\n",
       " (6,\n",
       "  '0.025*\"people\" + 0.022*\"company\" + 0.021*\"datum\" + 0.019*\"other\" + 0.017*\"client\" + 0.017*\"site\" + 0.015*\"security\" + 0.014*\"good\" + 0.013*\"breach\" + 0.011*\"info\"'),\n",
       " (7,\n",
       "  '0.081*\"web\" + 0.067*\"website\" + 0.060*\"wordpress\" + 0.033*\"site\" + 0.019*\"cheap\" + 0.018*\"amp\" + 0.016*\"marketing\" + 0.016*\"popular\" + 0.016*\"late\" + 0.015*\"update\"'),\n",
       " (8,\n",
       "  '0.031*\"entrepreneur\" + 0.016*\"new\" + 0.016*\"today\" + 0.012*\"simple\" + 0.012*\"great\" + 0.012*\"amp\" + 0.011*\"news\" + 0.011*\"community\" + 0.011*\"woman\" + 0.011*\"story\"'),\n",
       " (9,\n",
       "  '0.200*\"email\" + 0.035*\"dns\" + 0.032*\"free\" + 0.029*\"address\" + 0.017*\"pro\" + 0.014*\"record\" + 0.013*\"mail\" + 0.013*\"contact\" + 0.013*\"art\" + 0.009*\"fast\"')]"
      ]
     },
     "execution_count": 33,
     "metadata": {},
     "output_type": "execute_result"
    }
   ],
   "source": [
    "lda_model.print_topics()  #Topics with their keywords (scored from highest to lowest)"
   ]
  },
  {
   "cell_type": "code",
   "execution_count": 16,
   "id": "dda30442",
   "metadata": {
    "ExecuteTime": {
     "end_time": "2022-10-03T08:51:33.391897Z",
     "start_time": "2022-10-03T08:51:15.253354Z"
    }
   },
   "outputs": [
    {
     "data": {
      "text/html": [
       "\n",
       "<link rel=\"stylesheet\" type=\"text/css\" href=\"https://cdn.jsdelivr.net/gh/bmabey/pyLDAvis@3.3.1/pyLDAvis/js/ldavis.v1.0.0.css\">\n",
       "\n",
       "\n",
       "<div id=\"ldavis_el2966824632205322722277043045\"></div>\n",
       "<script type=\"text/javascript\">\n",
       "\n",
       "var ldavis_el2966824632205322722277043045_data = {\"mdsDat\": {\"x\": [-0.2658664951336245, -0.13975258269526902, -0.13109876227733577, -0.1916860042436858, -0.044243826552034, 0.0591014866161866, 0.17443426657170025, 0.18071506074699614, 0.1669927296551261, 0.1914041273119406], \"y\": [0.11303613232105406, -0.3872602011775868, 0.03477419444258007, 0.13571554202510083, 0.049081463545039936, 0.020381940659689315, 0.03990123552665082, 0.02957866587801617, -0.07808521578068017, 0.042876242560136106], \"topics\": [1, 2, 3, 4, 5, 6, 7, 8, 9, 10], \"cluster\": [1, 1, 1, 1, 1, 1, 1, 1, 1, 1], \"Freq\": [22.999549563824814, 16.001445693532514, 13.420542074316339, 11.505433620894948, 8.083961453840448, 7.455055372676952, 5.953629974331399, 5.7994767929366535, 5.740884845991609, 3.040020607654323]}, \"tinfo\": {\"Term\": [\"domain\", \"email\", \"business\", \"web\", \"name\", \"social\", \"medium\", \"website\", \"wordpress\", \"customer\", \"amp\", \"registration\", \"site\", \"service\", \"bigrock\", \"com\", \"time\", \"provider\", \"support\", \"people\", \"free\", \"cheap\", \"company\", \"entrepreneur\", \"account\", \"issue\", \"dns\", \"registrar\", \"sale\", \"datum\", \"customer\", \"bigrock\", \"support\", \"account\", \"issue\", \"hour\", \"call\", \"phone\", \"problem\", \"experience\", \"minute\", \"chat\", \"error\", \"due\", \"card\", \"end\", \"information\", \"message\", \"process\", \"agent\", \"move\", \"reseller\", \"professional\", \"care\", \"response\", \"perfect\", \"fix\", \"vps\", \"hacker\", \"senior\", \"server\", \"time\", \"service\", \"bad\", \"last\", \"day\", \"number\", \"team\", \"able\", \"help\", \"access\", \"guy\", \"week\", \"company\", \"thing\", \"year\", \"website\", \"site\", \"good\", \"new\", \"people\", \"amp\", \"many\", \"domain\", \"name\", \"registration\", \"com\", \"registrar\", \"price\", \"premium\", \"auction\", \"portfolio\", \"transfer\", \"bid\", \"renewal\", \"vlog\", \"candomain\", \"spvlog\", \"namecheap\", \"offer\", \"refund\", \"buy\", \"worth\", \"broker\", \"dot\", \"coupon\", \"seller\", \"jewellery\", \"authentication\", \"dynadot\", \"legal\", \"woocommerce\", \"discount\", \"possible\", \"sale\", \"idea\", \"cheap\", \"year\", \"launch\", \"page\", \"code\", \"look\", \"market\", \"available\", \"today\", \"high\", \"amp\", \"good\", \"day\", \"web\", \"popular\", \"late\", \"blog\", \"app\", \"password\", \"beat\", \"builder\", \"ad\", \"design\", \"post\", \"url\", \"seo\", \"template\", \"class\", \"websitebuilder\", \"plugin\", \"short\", \"basic\", \"main\", \"jewelry\", \"form\", \"fine\", \"figure\", \"c\", \"newsletter\", \"notice\", \"version\", \"start\", \"mission\", \"wordpress\", \"update\", \"little\", \"easy\", \"website\", \"check\", \"full\", \"marketing\", \"use\", \"product\", \"site\", \"cheap\", \"host\", \"month\", \"amp\", \"free\", \"new\", \"page\", \"service\", \"datum\", \"other\", \"breach\", \"info\", \"value\", \"employee\", \"buyer\", \"whois\", \"question\", \"group\", \"office\", \"action\", \"sorry\", \"attack\", \"ticket\", \"true\", \"studio\", \"shit\", \"cybersecurity\", \"tip\", \"state\", \"database\", \"country\", \"side\", \"signature\", \"hostinger\", \"clear\", \"ip\", \"direct\", \"answer\", \"reason\", \"security\", \"client\", \"people\", \"law\", \"company\", \"much\", \"several\", \"user\", \"good\", \"many\", \"thing\", \"site\", \"right\", \"way\", \"well\", \"thank\", \"year\", \"work\", \"entrepreneur\", \"simple\", \"community\", \"woman\", \"story\", \"event\", \"open\", \"opportunity\", \"party\", \"program\", \"active\", \"abuse\", \"legit\", \"book\", \"podcast\", \"comment\", \"investment\", \"official\", \"fun\", \"stock\", \"amazing\", \"founder\", \"rep\", \"ceo\", \"night\", \"admin\", \"contract\", \"show\", \"member\", \"dev\", \"partner\", \"news\", \"job\", \"software\", \"thank\", \"today\", \"great\", \"new\", \"love\", \"amp\", \"week\", \"team\", \"lot\", \"big\", \"business\", \"online\", \"brand\", \"small\", \"rare\", \"startup\", \"crypto\", \"store\", \"ecommerce\", \"ethereum\", \"domainname\", \"lesson\", \"blockchain\", \"growth\", \"third\", \"domainer\", \"hack\", \"cryptocurrency\", \"strategy\", \"car\", \"youtube\", \"revenue\", \"government\", \"transaction\", \"success\", \"shopify\", \"html\", \"token\", \"safe\", \"tld\", \"owner\", \"top\", \"digital\", \"local\", \"technology\", \"platform\", \"market\", \"internet\", \"sale\", \"marketing\", \"company\", \"website\", \"email\", \"dns\", \"address\", \"pro\", \"mail\", \"art\", \"fast\", \"gmail\", \"management\", \"trading\", \"course\", \"appraisal\", \"mobile\", \"setup\", \"standard\", \"alternative\", \"reliable\", \"setting\", \"core\", \"building\", \"total\", \"trial\", \"biz\", \"activity\", \"cloudflare\", \"cliente\", \"individual\", \"track\", \"property\", \"recommendation\", \"record\", \"free\", \"contact\", \"bit\", \"level\", \"size\", \"system\", \"solution\", \"r\", \"large\", \"share\", \"whole\", \"career\", \"man\", \"traffic\", \"type\", \"policy\", \"listing\", \"wait\", \"complaint\", \"season\", \"nice\", \"executive\", \"org\", \"matter\", \"lol\", \"photo\", \"dear\", \"letter\", \"suggestion\", \"proud\", \"resource\", \"por\", \"mistake\", \"cash\", \"world\", \"life\", \"enough\", \"social\", \"medium\", \"video\", \"comhow\", \"step\", \"line\", \"global\", \"super\", \"insight\", \"music\", \"dollar\", \"view\", \"trend\", \"holiday\", \"text\", \"claim\", \"image\", \"olhardigital\", \"publieditorial\", \"daily\", \"history\", \"piece\", \"engineering\", \"set\", \"ok\", \"incident\", \"thread\", \"rule\", \"thought\", \"rapid\", \"recent\", \"life\", \"right\", \"amp\", \"available\", \"provider\", \"detail\", \"order\", \"e\", \"cpanel\", \"similar\", \"data\", \"button\", \"hostgator\", \"guide\", \"break\", \"certain\", \"steal\", \"saas\", \"bypass\", \"operation\", \"position\", \"ser\", \"multifactor\", \"speech\", \"paas\", \"reverseproxy\", \"area\", \"namesilo\", \"bar\", \"coffee\", \"constant\", \"brain\", \"n\", \"estas\", \"wordpress\", \"website\"], \"Freq\": [20500.0, 5631.0, 4344.0, 5108.0, 5146.0, 2753.0, 2675.0, 6601.0, 4040.0, 3659.0, 4617.0, 2317.0, 4284.0, 3939.0, 2412.0, 1892.0, 3613.0, 967.0, 2307.0, 2196.0, 1833.0, 2513.0, 3124.0, 1168.0, 1990.0, 1983.0, 978.0, 1444.0, 1650.0, 1147.0, 3658.5234331262095, 2411.4647650603056, 2306.5546091075807, 1990.0584815006662, 1982.1006780865944, 1584.985966056435, 943.8740418045223, 852.9525739241441, 846.6705498467288, 700.2068292059876, 654.9012881033109, 635.5219995681072, 571.3076519298124, 517.3217255174931, 460.7935180005042, 442.64722897662455, 423.1786413705852, 412.277987456258, 392.9657553702271, 366.564294246065, 357.8279990737877, 338.0210203099933, 329.3061083853602, 326.10213456192236, 325.66142734451745, 293.33508787487006, 292.9227905514984, 282.17204685203865, 278.68101683061576, 264.89471133969624, 1325.5656188707223, 3164.313611367451, 3334.474115613838, 1140.3480729923835, 1182.6798261301283, 2025.175941404838, 706.1238720824779, 1143.3173618815702, 605.1640562885173, 929.1711633711416, 698.4215049576406, 649.0494565494234, 980.1821896874457, 1592.9262786816537, 957.1378226163062, 1435.4976532808269, 1959.9452070593693, 1311.4945319953968, 1003.5092402593571, 991.4255316296219, 845.696272466476, 830.5616344157684, 699.8469536977626, 20499.797814000434, 5145.892243342845, 2316.9278734218797, 1891.679002557867, 1443.8503862756409, 950.3541420361022, 836.8895989150786, 724.3025489533914, 714.9679209216449, 698.5358327886281, 641.513337839305, 512.4091936938548, 499.06004325066164, 495.2165528726358, 495.18096076533124, 400.28104275994383, 322.2650427319817, 294.0943645963355, 293.71582917052643, 270.6607075483783, 261.0902114656063, 246.17794500156654, 235.13252183971295, 227.22658983462532, 210.57679898993356, 207.52053779555516, 203.403072599444, 202.3341311830798, 199.38253610662463, 188.72196139751802, 344.5272727897749, 1147.0359863207289, 479.6451114370987, 1301.58240276742, 1674.6197624196618, 322.06517124402546, 787.8737806263509, 463.6671040327469, 448.6457576074374, 525.1850720529926, 411.24376351040746, 568.7238910547354, 406.8616435638352, 701.3835530736565, 462.3282147709123, 383.7592709573356, 5107.247882236831, 1011.0858822627622, 989.6296952488193, 692.1613747610957, 679.4562462050413, 580.9756892787319, 576.5550289978495, 561.0572617416747, 552.4446051763962, 522.9399882386592, 488.8002057849462, 472.8410693893182, 442.32976451658635, 374.30349395098506, 365.4389589200208, 345.3358480390524, 300.7933286161958, 250.60113892618273, 240.64814911318285, 236.05817364398385, 205.20446272491404, 199.70870999306, 195.23322875791175, 192.17669139363184, 191.6802793197327, 187.96822080040732, 187.0969850160657, 182.00127628838428, 181.45837628124696, 174.63793868275206, 3819.1085485947215, 922.7045928530872, 472.90277799105314, 670.489384625598, 4275.391860955712, 633.904915032981, 526.3547275174554, 1026.7437025175095, 763.3598863192299, 774.5513842876046, 2073.0467899811024, 1210.604186412515, 787.1488472622381, 793.459289225123, 1161.5857285445068, 724.5298961646279, 867.8098950382256, 495.50532322164247, 535.6908377950431, 1146.557274852134, 1053.8862405727787, 716.8864172531889, 611.4303041967491, 590.1363718217914, 552.4759019634747, 471.43382308602264, 454.92809965714986, 401.90305916379305, 387.2344941207543, 329.5048725740839, 314.98619036154304, 314.3293561048615, 311.68747839523763, 306.60033829691463, 299.55377163569375, 281.2267201992376, 279.900483478222, 264.1154468700609, 254.85485261043488, 253.49784021796387, 250.93650524752266, 241.0884168225303, 225.670690508444, 214.17055291294483, 212.11164279088075, 209.7737791504732, 202.06413206096076, 200.02772838720833, 185.45748364870403, 512.169381851746, 831.0633997082264, 906.4192370638149, 1349.894285649911, 289.9534564472828, 1171.014855215383, 454.4431236282503, 331.27671168352583, 487.38224639366854, 748.2252051029287, 570.3542658579157, 592.4526140989333, 899.4182649265332, 437.7446033882226, 394.16680894661334, 353.64819716972767, 331.48812056879024, 359.1770199941306, 326.0723104606847, 1167.6644172196088, 475.9378197670759, 431.6853004376032, 426.1118386105925, 408.4708227065027, 407.63743309436893, 364.3097729686056, 342.484716201381, 328.16674009815466, 324.80048855550564, 272.5100699823294, 250.3543509969185, 245.73574073386968, 245.63501402162368, 232.540630269574, 230.15410547119103, 223.84432053919068, 219.76884207009766, 212.10357302735073, 200.2759578322914, 200.17432495276287, 198.5075279605095, 197.81032996054114, 183.30758457161255, 182.44843137987806, 180.8440533222022, 180.65132397880262, 176.5930804560632, 172.40182579064015, 170.85499823939662, 330.01279830047156, 434.434256613018, 384.31641851962286, 267.8694807206832, 407.4704495625842, 601.0793082657916, 469.14465677780754, 608.9510946090211, 259.22348992645806, 442.81840059856984, 318.9577351337163, 319.7673867166455, 255.31629205212283, 238.21705757505808, 4343.068840738511, 945.1892287140377, 940.9105962873815, 735.5872976305004, 658.7056867567983, 611.3903566587115, 458.3787794681223, 453.5240260391636, 378.12210887967996, 371.9464391117106, 345.29654970338214, 290.35459663044645, 277.98424968942606, 256.2760725883048, 250.3769441785795, 247.9542046155123, 206.78146156913644, 204.46626131602693, 204.20123910069015, 199.0584251705802, 192.24721987373414, 189.6112532741777, 182.1807506712445, 178.9551448718059, 177.29299645449748, 172.84662367799572, 167.77010626595506, 166.89140703758548, 162.52810972984574, 160.26050991791053, 572.9160916346391, 506.0243140724206, 336.0870686846645, 275.40501036262197, 320.0817193787184, 602.2127949719759, 518.8774491025149, 369.6456582693527, 502.6463704755302, 468.53745097095197, 359.55587222425, 256.932352405831, 5631.017615813926, 977.5522709894204, 817.4602007350444, 471.0003584238057, 362.8590597385944, 355.02663479234093, 253.51513607257868, 251.6488846633651, 228.33598684823292, 227.2012502988397, 222.97060237498448, 212.71414953746236, 196.4841821046849, 183.53933168048167, 171.07070787238231, 169.31573696060914, 161.99384924479267, 161.20804195977476, 151.06879742605952, 149.00093517205949, 145.2480841441404, 143.26733316383047, 136.18493929375177, 135.47020025680519, 133.1253013834131, 130.875365182872, 123.33607222429042, 121.5930746962376, 108.85126145433502, 103.55127913609681, 387.1746859118947, 888.8595161376722, 357.2122549480891, 175.76982261283746, 132.46159644101235, 782.7732350835869, 593.9635170212291, 582.2367744356059, 550.8461333876095, 524.6072581361867, 414.30251717586464, 373.98864963925325, 293.0219249094734, 263.1680182758261, 261.5932727628889, 246.99020408859576, 210.04135127166438, 198.28522720306142, 197.39372545116476, 184.3600231202568, 180.67432321671345, 180.01392180599817, 179.64010776267295, 179.0495463282033, 175.49841489139197, 175.02911421509435, 174.05562474149448, 164.80704772291176, 160.24975664292262, 159.3917918462189, 156.33904939119756, 151.60943368283384, 150.22582714485608, 148.39495922952733, 148.28902018178553, 359.9428986217243, 241.8774691383926, 153.86594432252716, 2752.8851286391255, 2674.182716386068, 693.6242876553034, 494.05811272449637, 334.29206948122186, 243.82058494873806, 215.68683971749843, 205.25935809585556, 189.32540283544947, 174.12975586740012, 166.8828723509235, 164.9729766073546, 163.66977010710002, 158.97266970980743, 158.73311572207172, 154.8834320359903, 154.3878827201965, 146.95037807689747, 146.95037807689747, 136.23869974913018, 130.41287547167306, 127.4041354288171, 124.16646581000698, 123.34982456237695, 122.0449020051125, 121.20771854562922, 115.20491327096477, 115.00463932346193, 110.38778982751248, 108.45097974863467, 270.8470443943701, 540.5505891529981, 550.7826800187764, 1282.9524850344824, 312.69072238318006, 966.6273569019756, 682.3858005483052, 422.82985144761534, 420.38213779541803, 373.8886746418992, 297.0395745302277, 269.13683626553086, 189.6339572021661, 170.03153454657087, 160.19469610538437, 136.53083597749213, 136.4950084114773, 132.88910621344874, 131.70461828309035, 127.43471007978576, 114.22258350499368, 111.44883365665802, 111.25077309869239, 102.91626027160049, 99.92479214444587, 99.74199939482487, 99.53920815488638, 98.78694285839626, 97.98009431185481, 94.67140322235026, 94.02532436359004, 88.1935494345239, 85.54288418028733, 83.40631977587309, 82.80236269558311, 220.15575602373843, 108.24421088880231], \"Total\": [20500.0, 5631.0, 4344.0, 5108.0, 5146.0, 2753.0, 2675.0, 6601.0, 4040.0, 3659.0, 4617.0, 2317.0, 4284.0, 3939.0, 2412.0, 1892.0, 3613.0, 967.0, 2307.0, 2196.0, 1833.0, 2513.0, 3124.0, 1168.0, 1990.0, 1983.0, 978.0, 1444.0, 1650.0, 1147.0, 3659.4596704152164, 2412.4216347619476, 2307.490812349212, 1990.9947229455934, 1983.0368898518582, 1585.9221677162072, 944.8102272717911, 853.8887678625935, 847.6067488649214, 701.1430953549527, 655.837483383393, 636.458190342301, 572.2438569853556, 518.2579884188176, 461.729739353313, 443.58347828025114, 424.1148722889462, 413.21424802057834, 393.90206368755315, 367.5004905040399, 358.76426442498115, 338.9582537705773, 330.2426306498408, 327.0383460620424, 326.5976177420427, 294.27153732259933, 293.85899254947157, 283.10851143215825, 279.6173037160132, 265.8310862978546, 1416.646994312181, 3613.9613860856803, 3939.8333927325593, 1267.5240667425307, 1337.0519336968134, 2627.9607545459, 806.6558862083818, 1463.9129458858663, 681.523619025344, 1172.2077211674705, 823.2536761593444, 761.6112916821102, 1427.7133909146103, 3124.223920188711, 1550.4222480959663, 3667.097807376554, 6601.124862844869, 4284.691473931162, 2378.0457461515593, 2946.1991814328935, 2196.422326575489, 4617.231686911523, 1391.3941348612382, 20500.755026986273, 5146.849427699515, 2317.885407055137, 1892.6361440731678, 1444.8075666375998, 951.3113192398528, 837.8467741874804, 725.2596723527263, 715.9251008055612, 699.4930770665595, 642.4704387250372, 513.3663777144637, 500.0171381431872, 496.17364599811765, 496.13805391502234, 401.23826158979057, 323.22228031064606, 295.05162609135937, 294.673013130305, 271.61792931851596, 262.0474332971258, 247.13513429444595, 236.08980467452457, 228.18435385084896, 211.53397959690378, 208.47942589541057, 204.3602227386978, 203.29152634859145, 200.33994299480955, 189.67914369736548, 370.05119732924385, 1650.5346670477913, 645.9979569806106, 2513.0441693296766, 3667.097807376554, 393.8309715951181, 1534.149639901073, 765.9785398064258, 735.3694745742869, 1163.340862743373, 724.7938110579054, 1927.9881008959655, 782.9304890684781, 4617.231686911523, 2378.0457461515593, 2627.9607545459, 5108.188212188622, 1012.0267073996538, 990.5699734155105, 693.1016284796909, 680.3965659449466, 581.9160993646856, 577.4952303498586, 561.9974825437793, 553.384906241045, 523.8802690764387, 489.74048238663124, 473.7815378093973, 443.27003691977814, 375.2436701362587, 366.379242199003, 346.2761104808481, 301.73366802841815, 251.54156482403667, 241.5884916639127, 236.99853533887992, 206.14559863340054, 200.6490921920461, 196.17357523516574, 193.1170473063195, 192.62056076557468, 188.90846087566797, 188.03743906920715, 182.94152328227395, 182.39876441039584, 175.57829778890144, 4040.084448792894, 996.6085119417528, 529.9889633071618, 791.7281361856994, 6601.124862844869, 790.7455252096073, 641.8223580269002, 1496.1165461888927, 1053.1559770719, 1166.9365955123226, 4284.691473931162, 2513.0441693296766, 1374.8291156829412, 1452.198760693582, 4617.231686911523, 1833.2252650060439, 2946.1991814328935, 1534.149639901073, 3939.8333927325593, 1147.492938115754, 1054.8220306237852, 717.8221716072086, 612.3659727426193, 591.0721292685873, 553.4115459893221, 472.3695690499444, 455.8637508429815, 402.83877672976377, 388.17016449269244, 330.44059340411224, 315.92185955111466, 315.2650581075112, 312.6231236574129, 307.53605617310166, 300.4895144989583, 282.1625763946919, 280.83614548583085, 265.0510815428271, 255.79054386018134, 254.4335792289193, 251.8721817906028, 242.02417126518262, 226.6063743156335, 215.10644041672455, 213.04755348045953, 210.70944971476726, 202.9998168580302, 200.96343027778457, 186.39310743913603, 601.3305667115894, 1067.9370772744142, 1278.6864089168243, 2196.422326575489, 341.6441465298088, 3124.223920188711, 706.1141847636944, 440.65086044852006, 937.3986638333147, 2378.0457461515593, 1391.3941348612382, 1550.4222480959663, 4284.691473931162, 989.3650206359894, 1278.3382331457929, 902.2521860026687, 875.1947913032404, 3667.097807376554, 1169.3808525527265, 1168.5965525788588, 476.8699725141854, 432.6173722765369, 427.0439102900804, 409.40290523677555, 408.5695206061545, 365.2418670064425, 343.41681721052794, 329.098937988264, 325.73258369647243, 273.44233357182827, 251.28648406880183, 246.66788066508636, 246.56710206554445, 233.4727032623407, 231.08624045614255, 224.7764172989972, 220.70097241840486, 213.0356698791052, 201.20805700402863, 201.10637945654605, 199.43959680493603, 198.74244932040878, 184.2396522018992, 183.3805256866097, 181.77619142990673, 181.58346284989304, 177.52518481928416, 173.33390789334993, 171.7871157985429, 387.5639854378851, 581.2069571572687, 582.818605798338, 379.3358274047786, 875.1947913032404, 1927.9881008959655, 1197.17974653723, 2946.1991814328935, 398.18483612425354, 4617.231686911523, 1427.7133909146103, 1463.9129458858663, 861.0338574179407, 937.649806074816, 4344.004092192522, 946.1244562514521, 941.8458411302944, 736.5225105721827, 659.640918382158, 612.3255658004679, 459.31401064608644, 454.4593322892047, 379.0573572998164, 372.8817000499927, 346.23174615149327, 291.28997245764793, 278.9194667306834, 257.21134569622785, 251.3123446124803, 248.8895112316974, 207.71682591764198, 205.40149638366702, 205.1365210325479, 199.99368952407758, 193.18296134989436, 190.54653396404552, 183.1161036990123, 179.8903881469444, 178.22827363046326, 173.78187839383492, 168.70552867743825, 167.82686482725245, 163.46338374982201, 161.19581120587335, 782.4103641617565, 691.8477630651662, 423.45714686917296, 343.8015150374338, 431.9545359598826, 1183.6937353102767, 1163.340862743373, 834.5504275255582, 1650.5346670477913, 1496.1165461888927, 3124.223920188711, 6601.124862844869, 5631.948187321494, 978.4828502232234, 818.3907771127487, 471.9311003370472, 363.7896175463574, 355.9572381159298, 254.44579896932945, 252.57940062033006, 229.26664114322904, 228.13199246054444, 223.90122562495927, 213.64478457932705, 197.41482505768903, 184.46993516592707, 172.00143546951585, 170.2463496082674, 162.92454262535517, 162.138615458085, 151.9997813261251, 149.93157095811657, 146.17874271417801, 144.19787306595993, 137.11556269664652, 136.4009057170085, 134.05588760573715, 131.80591988822425, 124.2666826898266, 122.52376895904501, 109.78190023429103, 104.481879894974, 468.5165561391506, 1833.2252650060439, 620.5638699636411, 288.2069008593282, 347.7341393529797, 783.7051749990255, 594.8954002802436, 583.168716476638, 551.7779219125713, 525.5391584725915, 415.2343904302502, 374.9205420486655, 293.95383493949083, 264.09984704185285, 262.52518604262235, 247.92209618258312, 210.97320346350784, 199.2171622581442, 198.3255910249919, 185.29188494571827, 181.60631240185606, 180.9457644967753, 180.57201849566255, 179.9814217196575, 176.430288345733, 175.9609776601745, 174.98751920352893, 165.73890130870882, 161.18163151441954, 160.3236817108188, 157.27095458400638, 152.54129083706394, 151.15762228450308, 149.32681659946704, 149.22087179314082, 670.7972127889641, 783.2620486237847, 203.97415885646777, 2753.8273754199417, 2675.1249678767467, 694.5664602144329, 495.00114891004586, 335.23432080267116, 244.76284891283095, 216.62902077835122, 206.20185772779524, 190.26764866852614, 175.07192287787652, 167.82511440083425, 165.91524497068534, 164.61199898718309, 159.91490658671145, 159.67535063627022, 155.825700026166, 155.33008926123986, 147.89253478023028, 147.89253478023028, 137.18093846311208, 131.35512581095972, 128.34638300681152, 125.10866888694264, 124.29210458329536, 122.987114806701, 122.15001750176324, 116.14717547970247, 115.94685192058313, 111.33001282339005, 109.39317708469869, 324.2947689512825, 783.2620486237847, 989.3650206359894, 4617.231686911523, 724.7938110579054, 967.5471786282676, 683.3056332776148, 423.74966629353713, 421.30191279758026, 374.8085113397838, 297.959408898401, 270.05668914419454, 190.55380416902247, 170.95134238344528, 161.11454138040963, 137.4507105082911, 137.41482882079566, 133.80895113405333, 132.62455304049547, 128.35462140619538, 115.1424368092263, 112.36866129277522, 112.1705537179555, 103.83612558748683, 100.84460683440842, 100.66243580372971, 100.45951965841647, 99.70677738471065, 98.90029289764993, 95.59124475846005, 94.94514988108389, 89.11342536320755, 86.46275580800103, 84.32612740501685, 83.72218556302428, 4040.084448792894, 6601.124862844869], \"Category\": [\"Default\", \"Default\", \"Default\", \"Default\", \"Default\", \"Default\", \"Default\", \"Default\", \"Default\", \"Default\", \"Default\", \"Default\", \"Default\", \"Default\", \"Default\", \"Default\", \"Default\", \"Default\", \"Default\", \"Default\", \"Default\", \"Default\", \"Default\", \"Default\", \"Default\", \"Default\", \"Default\", \"Default\", \"Default\", \"Default\", \"Topic1\", \"Topic1\", \"Topic1\", \"Topic1\", \"Topic1\", \"Topic1\", \"Topic1\", \"Topic1\", \"Topic1\", \"Topic1\", \"Topic1\", \"Topic1\", \"Topic1\", \"Topic1\", \"Topic1\", \"Topic1\", \"Topic1\", \"Topic1\", \"Topic1\", \"Topic1\", \"Topic1\", \"Topic1\", \"Topic1\", \"Topic1\", \"Topic1\", \"Topic1\", \"Topic1\", \"Topic1\", \"Topic1\", \"Topic1\", \"Topic1\", \"Topic1\", \"Topic1\", \"Topic1\", \"Topic1\", \"Topic1\", \"Topic1\", \"Topic1\", \"Topic1\", \"Topic1\", \"Topic1\", \"Topic1\", \"Topic1\", \"Topic1\", \"Topic1\", \"Topic1\", \"Topic1\", \"Topic1\", \"Topic1\", \"Topic1\", \"Topic1\", \"Topic1\", \"Topic1\", \"Topic2\", \"Topic2\", \"Topic2\", \"Topic2\", \"Topic2\", \"Topic2\", \"Topic2\", \"Topic2\", \"Topic2\", \"Topic2\", \"Topic2\", \"Topic2\", \"Topic2\", \"Topic2\", \"Topic2\", \"Topic2\", \"Topic2\", \"Topic2\", \"Topic2\", \"Topic2\", \"Topic2\", \"Topic2\", \"Topic2\", \"Topic2\", \"Topic2\", \"Topic2\", \"Topic2\", \"Topic2\", \"Topic2\", \"Topic2\", \"Topic2\", \"Topic2\", \"Topic2\", \"Topic2\", \"Topic2\", \"Topic2\", \"Topic2\", \"Topic2\", \"Topic2\", \"Topic2\", \"Topic2\", \"Topic2\", \"Topic2\", \"Topic2\", \"Topic2\", \"Topic2\", \"Topic3\", \"Topic3\", \"Topic3\", \"Topic3\", \"Topic3\", \"Topic3\", \"Topic3\", \"Topic3\", \"Topic3\", \"Topic3\", \"Topic3\", \"Topic3\", \"Topic3\", \"Topic3\", \"Topic3\", \"Topic3\", \"Topic3\", \"Topic3\", \"Topic3\", \"Topic3\", \"Topic3\", \"Topic3\", \"Topic3\", \"Topic3\", \"Topic3\", \"Topic3\", \"Topic3\", \"Topic3\", \"Topic3\", \"Topic3\", \"Topic3\", \"Topic3\", \"Topic3\", \"Topic3\", \"Topic3\", \"Topic3\", \"Topic3\", \"Topic3\", \"Topic3\", \"Topic3\", \"Topic3\", \"Topic3\", \"Topic3\", \"Topic3\", \"Topic3\", \"Topic3\", \"Topic3\", \"Topic3\", \"Topic3\", \"Topic4\", \"Topic4\", \"Topic4\", \"Topic4\", \"Topic4\", \"Topic4\", \"Topic4\", \"Topic4\", \"Topic4\", \"Topic4\", \"Topic4\", \"Topic4\", \"Topic4\", \"Topic4\", \"Topic4\", \"Topic4\", \"Topic4\", \"Topic4\", \"Topic4\", \"Topic4\", \"Topic4\", \"Topic4\", \"Topic4\", \"Topic4\", \"Topic4\", \"Topic4\", \"Topic4\", \"Topic4\", \"Topic4\", \"Topic4\", \"Topic4\", \"Topic4\", \"Topic4\", \"Topic4\", \"Topic4\", \"Topic4\", \"Topic4\", \"Topic4\", \"Topic4\", \"Topic4\", \"Topic4\", \"Topic4\", \"Topic4\", \"Topic4\", \"Topic4\", \"Topic4\", \"Topic4\", \"Topic4\", \"Topic4\", \"Topic5\", \"Topic5\", \"Topic5\", \"Topic5\", \"Topic5\", \"Topic5\", \"Topic5\", \"Topic5\", \"Topic5\", \"Topic5\", \"Topic5\", \"Topic5\", \"Topic5\", \"Topic5\", \"Topic5\", \"Topic5\", \"Topic5\", \"Topic5\", \"Topic5\", \"Topic5\", \"Topic5\", \"Topic5\", \"Topic5\", \"Topic5\", \"Topic5\", \"Topic5\", \"Topic5\", \"Topic5\", \"Topic5\", \"Topic5\", \"Topic5\", \"Topic5\", \"Topic5\", \"Topic5\", \"Topic5\", \"Topic5\", \"Topic5\", \"Topic5\", \"Topic5\", \"Topic5\", \"Topic5\", \"Topic5\", \"Topic5\", \"Topic5\", \"Topic6\", \"Topic6\", \"Topic6\", \"Topic6\", \"Topic6\", \"Topic6\", \"Topic6\", \"Topic6\", \"Topic6\", \"Topic6\", \"Topic6\", \"Topic6\", \"Topic6\", \"Topic6\", \"Topic6\", \"Topic6\", \"Topic6\", \"Topic6\", \"Topic6\", \"Topic6\", \"Topic6\", \"Topic6\", \"Topic6\", \"Topic6\", \"Topic6\", \"Topic6\", \"Topic6\", \"Topic6\", \"Topic6\", \"Topic6\", \"Topic6\", \"Topic6\", \"Topic6\", \"Topic6\", \"Topic6\", \"Topic6\", \"Topic6\", \"Topic6\", \"Topic6\", \"Topic6\", \"Topic6\", \"Topic6\", \"Topic7\", \"Topic7\", \"Topic7\", \"Topic7\", \"Topic7\", \"Topic7\", \"Topic7\", \"Topic7\", \"Topic7\", \"Topic7\", \"Topic7\", \"Topic7\", \"Topic7\", \"Topic7\", \"Topic7\", \"Topic7\", \"Topic7\", \"Topic7\", \"Topic7\", \"Topic7\", \"Topic7\", \"Topic7\", \"Topic7\", \"Topic7\", \"Topic7\", \"Topic7\", \"Topic7\", \"Topic7\", \"Topic7\", \"Topic7\", \"Topic7\", \"Topic7\", \"Topic7\", \"Topic7\", \"Topic7\", \"Topic8\", \"Topic8\", \"Topic8\", \"Topic8\", \"Topic8\", \"Topic8\", \"Topic8\", \"Topic8\", \"Topic8\", \"Topic8\", \"Topic8\", \"Topic8\", \"Topic8\", \"Topic8\", \"Topic8\", \"Topic8\", \"Topic8\", \"Topic8\", \"Topic8\", \"Topic8\", \"Topic8\", \"Topic8\", \"Topic8\", \"Topic8\", \"Topic8\", \"Topic8\", \"Topic8\", \"Topic8\", \"Topic8\", \"Topic8\", \"Topic8\", \"Topic8\", \"Topic8\", \"Topic9\", \"Topic9\", \"Topic9\", \"Topic9\", \"Topic9\", \"Topic9\", \"Topic9\", \"Topic9\", \"Topic9\", \"Topic9\", \"Topic9\", \"Topic9\", \"Topic9\", \"Topic9\", \"Topic9\", \"Topic9\", \"Topic9\", \"Topic9\", \"Topic9\", \"Topic9\", \"Topic9\", \"Topic9\", \"Topic9\", \"Topic9\", \"Topic9\", \"Topic9\", \"Topic9\", \"Topic9\", \"Topic9\", \"Topic9\", \"Topic9\", \"Topic9\", \"Topic9\", \"Topic9\", \"Topic9\", \"Topic10\", \"Topic10\", \"Topic10\", \"Topic10\", \"Topic10\", \"Topic10\", \"Topic10\", \"Topic10\", \"Topic10\", \"Topic10\", \"Topic10\", \"Topic10\", \"Topic10\", \"Topic10\", \"Topic10\", \"Topic10\", \"Topic10\", \"Topic10\", \"Topic10\", \"Topic10\", \"Topic10\", \"Topic10\", \"Topic10\", \"Topic10\", \"Topic10\", \"Topic10\", \"Topic10\", \"Topic10\", \"Topic10\", \"Topic10\", \"Topic10\", \"Topic10\"], \"logprob\": [30.0, 29.0, 28.0, 27.0, 26.0, 25.0, 24.0, 23.0, 22.0, 21.0, 20.0, 19.0, 18.0, 17.0, 16.0, 15.0, 14.0, 13.0, 12.0, 11.0, 10.0, 9.0, 8.0, 7.0, 6.0, 5.0, 4.0, 3.0, 2.0, 1.0, -3.3902, -3.8071, -3.8515, -3.9991, -4.0031, -4.2267, -4.7451, -4.8463, -4.8537, -5.0437, -5.1106, -5.1406, -5.2471, -5.3464, -5.4621, -5.5023, -5.5472, -5.5733, -5.6213, -5.6909, -5.715, -5.7719, -5.7981, -5.8078, -5.8092, -5.9137, -5.9151, -5.9525, -5.965, -6.0157, -4.4054, -3.5354, -3.483, -4.556, -4.5195, -3.9816, -5.0353, -4.5534, -5.1895, -4.7607, -5.0462, -5.1195, -4.7073, -4.2217, -4.7311, -4.3258, -4.0144, -4.4161, -4.6838, -4.6959, -4.8549, -4.8729, -5.0442, -1.3041, -2.6863, -3.4842, -3.687, -3.9572, -4.3754, -4.5026, -4.647, -4.66, -4.6833, -4.7684, -4.9931, -5.0195, -5.0273, -5.0273, -5.2401, -5.4569, -5.5483, -5.5496, -5.6314, -5.6674, -5.7262, -5.7721, -5.8063, -5.8824, -5.897, -5.9171, -5.9223, -5.937, -5.992, -5.3901, -4.1873, -5.0592, -4.0609, -3.8089, -5.4575, -4.5629, -5.0931, -5.126, -4.9685, -5.2131, -4.8889, -5.2238, -4.6792, -5.096, -5.2822, -2.5179, -4.1376, -4.159, -4.5165, -4.5351, -4.6916, -4.6993, -4.7265, -4.742, -4.7969, -4.8644, -4.8976, -4.9643, -5.1313, -5.1553, -5.2118, -5.3499, -5.5325, -5.573, -5.5923, -5.7323, -5.7595, -5.7822, -5.7979, -5.8005, -5.8201, -5.8247, -5.8523, -5.8553, -5.8936, -2.8086, -4.229, -4.8975, -4.5483, -2.6957, -4.6045, -4.7904, -4.1222, -4.4186, -4.4041, -3.4196, -3.9575, -4.3879, -4.38, -3.9988, -4.4708, -4.2904, -4.8508, -4.7728, -3.8579, -3.9421, -4.3275, -4.4866, -4.522, -4.588, -4.7466, -4.7822, -4.9062, -4.9434, -5.1048, -5.1499, -5.1519, -5.1604, -5.1768, -5.2001, -5.2632, -5.268, -5.326, -5.3617, -5.367, -5.3772, -5.4172, -5.4833, -5.5356, -5.5453, -5.5564, -5.5938, -5.6039, -5.6796, -4.6637, -4.1797, -4.0929, -3.6946, -5.2327, -3.8368, -4.7833, -5.0994, -4.7133, -4.2847, -4.5561, -4.5181, -4.1006, -4.8208, -4.9256, -5.0341, -5.0988, -5.0186, -5.1153, -3.4867, -4.3842, -4.4818, -4.4947, -4.537, -4.5391, -4.6514, -4.7132, -4.7559, -4.7662, -4.9418, -5.0266, -5.0452, -5.0456, -5.1004, -5.1107, -5.1385, -5.1569, -5.1924, -5.2498, -5.2503, -5.2586, -5.2621, -5.3383, -5.343, -5.3518, -5.3529, -5.3756, -5.3996, -5.4086, -4.7503, -4.4754, -4.598, -4.959, -4.5395, -4.1507, -4.3985, -4.1377, -4.9918, -4.4563, -4.7844, -4.7819, -5.0069, -5.0763, -2.0921, -3.6171, -3.6216, -3.8678, -3.9782, -4.0527, -4.3408, -4.3514, -4.5332, -4.5497, -4.6241, -4.7974, -4.8409, -4.9222, -4.9455, -4.9552, -5.1368, -5.1481, -5.1494, -5.1749, -5.2097, -5.2235, -5.2635, -5.2813, -5.2907, -5.3161, -5.3459, -5.3511, -5.3776, -5.3917, -4.1177, -4.2419, -4.6511, -4.8502, -4.6999, -4.0678, -4.2168, -4.5559, -4.2486, -4.3188, -4.5836, -4.9196, -1.6075, -3.3585, -3.5374, -4.0887, -4.3496, -4.3714, -4.7081, -4.7155, -4.8128, -4.8177, -4.8365, -4.8836, -4.963, -5.0311, -5.1015, -5.1118, -5.156, -5.1609, -5.2258, -5.2396, -5.2651, -5.2789, -5.3296, -5.3348, -5.3523, -5.3693, -5.4287, -5.4429, -5.5536, -5.6035, -4.2847, -3.4536, -4.3652, -5.0744, -5.3573, -3.5545, -3.8305, -3.8505, -3.9059, -3.9547, -4.1907, -4.2931, -4.5371, -4.6445, -4.6505, -4.708, -4.87, -4.9276, -4.9321, -5.0004, -5.0206, -5.0243, -5.0264, -5.0297, -5.0497, -5.0524, -5.058, -5.1126, -5.1406, -5.146, -5.1653, -5.196, -5.2052, -5.2175, -5.2182, -4.3314, -4.7289, -5.1813, -2.2868, -2.3158, -3.6653, -4.0045, -4.3952, -4.7107, -4.8334, -4.8829, -4.9637, -5.0474, -5.0899, -5.1014, -5.1093, -5.1384, -5.14, -5.1645, -5.1677, -5.2171, -5.2171, -5.2928, -5.3365, -5.3598, -5.3856, -5.3922, -5.4028, -5.4097, -5.4605, -5.4622, -5.5032, -5.5209, -4.6056, -3.9146, -3.8958, -3.0503, -4.462, -2.6976, -3.0458, -3.5245, -3.5303, -3.6475, -3.8776, -3.9762, -4.3263, -4.4354, -4.495, -4.6549, -4.6551, -4.6819, -4.6909, -4.7238, -4.8333, -4.8579, -4.8596, -4.9375, -4.967, -4.9688, -4.9709, -4.9785, -4.9867, -5.021, -5.0279, -5.0919, -5.1224, -5.1477, -5.155, -4.1771, -4.887], \"loglift\": [30.0, 29.0, 28.0, 27.0, 26.0, 25.0, 24.0, 23.0, 22.0, 21.0, 20.0, 19.0, 18.0, 17.0, 16.0, 15.0, 14.0, 13.0, 12.0, 11.0, 10.0, 9.0, 8.0, 7.0, 6.0, 5.0, 4.0, 3.0, 2.0, 1.0, 1.4694, 1.4693, 1.4693, 1.4692, 1.4692, 1.4691, 1.4687, 1.4686, 1.4686, 1.4684, 1.4683, 1.4682, 1.4681, 1.4679, 1.4677, 1.4676, 1.4675, 1.4674, 1.4673, 1.4671, 1.4671, 1.4669, 1.4669, 1.4668, 1.4668, 1.4665, 1.4665, 1.4664, 1.4663, 1.4662, 1.4032, 1.3368, 1.3029, 1.364, 1.347, 1.2091, 1.3366, 1.2225, 1.3509, 1.2373, 1.3053, 1.3098, 1.0936, 0.7961, 0.9874, 0.5318, 0.2554, 0.2858, 0.6069, 0.3806, 0.5153, -0.2458, 0.7825, 1.8324, 1.8323, 1.8321, 1.832, 1.8318, 1.8315, 1.8313, 1.8312, 1.8312, 1.8311, 1.831, 1.8306, 1.8306, 1.8306, 1.8306, 1.8301, 1.8295, 1.8292, 1.8292, 1.829, 1.8288, 1.8286, 1.8284, 1.8283, 1.828, 1.8279, 1.8278, 1.8278, 1.8277, 1.8274, 1.761, 1.4686, 1.5347, 1.1746, 1.0487, 1.6313, 1.1661, 1.3305, 1.3384, 1.0372, 1.2658, 0.6117, 1.1779, -0.052, 0.1947, -0.0915, 2.0082, 2.0075, 2.0074, 2.007, 2.007, 2.0068, 2.0068, 2.0067, 2.0067, 2.0066, 2.0065, 2.0064, 2.0063, 2.0059, 2.0058, 2.0057, 2.0053, 2.0046, 2.0045, 2.0044, 2.0038, 2.0037, 2.0036, 2.0035, 2.0035, 2.0034, 2.0034, 2.0032, 2.0032, 2.003, 1.9521, 1.9313, 1.8944, 1.8422, 1.574, 1.7873, 1.81, 1.6319, 1.6866, 1.5985, 1.2824, 1.278, 1.4507, 1.404, 0.6284, 1.0801, 0.7861, 0.8782, 0.013, 2.1615, 2.1615, 2.161, 2.1608, 2.1608, 2.1607, 2.1604, 2.1603, 2.16, 2.1599, 2.1595, 2.1594, 2.1594, 2.1594, 2.1593, 2.1592, 2.159, 2.159, 2.1588, 2.1587, 2.1587, 2.1586, 2.1585, 2.1582, 2.158, 2.1579, 2.1579, 2.1577, 2.1577, 2.1573, 2.0019, 1.9116, 1.8183, 1.6755, 1.9983, 1.181, 1.7216, 1.8771, 1.5083, 1.006, 1.2705, 1.2003, 0.6013, 1.3469, 0.9858, 1.2258, 1.1915, -0.161, 0.8852, 2.5145, 2.5133, 2.5131, 2.5131, 2.513, 2.513, 2.5127, 2.5126, 2.5125, 2.5124, 2.5119, 2.5116, 2.5115, 2.5115, 2.5113, 2.5112, 2.5111, 2.5111, 2.5109, 2.5106, 2.5106, 2.5106, 2.5106, 2.5102, 2.5102, 2.5101, 2.5101, 2.51, 2.5099, 2.5098, 2.3545, 2.2242, 2.0989, 2.1674, 1.7508, 1.3498, 1.5785, 0.9388, 2.0861, 0.1709, 1.0165, 0.994, 1.2997, 1.1451, 2.5961, 2.5953, 2.5953, 2.595, 2.5949, 2.5947, 2.5942, 2.5942, 2.5938, 2.5938, 2.5936, 2.5931, 2.5929, 2.5926, 2.5925, 2.5925, 2.5918, 2.5917, 2.5917, 2.5916, 2.5914, 2.5914, 2.5912, 2.5911, 2.591, 2.5909, 2.5907, 2.5907, 2.5905, 2.5905, 2.2846, 2.2835, 2.3652, 2.3745, 2.2965, 1.9205, 1.7889, 1.7819, 1.4073, 1.4353, 0.4342, -0.6499, 2.821, 2.8202, 2.82, 2.8192, 2.8186, 2.8186, 2.8175, 2.8175, 2.8171, 2.8171, 2.817, 2.8168, 2.8164, 2.8161, 2.8157, 2.8157, 2.8154, 2.8154, 2.815, 2.8149, 2.8148, 2.8147, 2.8144, 2.8143, 2.8142, 2.8141, 2.8137, 2.8135, 2.8127, 2.8122, 2.6305, 2.0973, 2.2689, 2.3267, 1.856, 2.8462, 2.8458, 2.8458, 2.8457, 2.8456, 2.8452, 2.8449, 2.8442, 2.8439, 2.8438, 2.8436, 2.843, 2.8427, 2.8427, 2.8424, 2.8423, 2.8422, 2.8422, 2.8422, 2.8421, 2.8421, 2.8421, 2.8418, 2.8416, 2.8416, 2.8415, 2.8413, 2.8412, 2.8411, 2.8411, 2.2249, 1.6724, 2.5655, 2.8572, 2.8572, 2.8562, 2.8556, 2.8547, 2.8537, 2.8532, 2.853, 2.8526, 2.8522, 2.8519, 2.8519, 2.8518, 2.8516, 2.8516, 2.8515, 2.8515, 2.8512, 2.8512, 2.8507, 2.8504, 2.8502, 2.85, 2.8499, 2.8499, 2.8498, 2.8494, 2.8494, 2.8491, 2.8489, 2.6775, 2.4867, 2.2718, 1.5769, 2.0169, 3.4924, 3.492, 3.4911, 3.4911, 3.4908, 3.4902, 3.4899, 3.4885, 3.4879, 3.4876, 3.4866, 3.4866, 3.4864, 3.4863, 3.4861, 3.4853, 3.4851, 3.4851, 3.4844, 3.4841, 3.4841, 3.4841, 3.484, 3.484, 3.4836, 3.4836, 3.4829, 3.4826, 3.4823, 3.4823, 0.5836, -0.6173]}, \"token.table\": {\"Topic\": [1, 4, 5, 1, 4, 1, 4, 5, 7, 3, 7, 5, 1, 7, 5, 1, 2, 3, 4, 5, 9, 4, 3, 7, 10, 7, 4, 2, 2, 2, 9, 1, 4, 10, 3, 3, 2, 1, 2, 5, 8, 1, 2, 7, 7, 6, 3, 5, 10, 6, 4, 10, 2, 3, 7, 6, 10, 2, 4, 10, 3, 1, 2, 6, 1, 1, 8, 8, 5, 10, 1, 2, 3, 3, 5, 9, 3, 4, 3, 4, 7, 7, 2, 3, 10, 2, 9, 5, 5, 1, 4, 6, 8, 10, 1, 7, 5, 7, 4, 2, 7, 10, 6, 6, 1, 4, 9, 10, 4, 4, 1, 2, 5, 8, 3, 10, 5, 3, 6, 4, 2, 7, 9, 2, 6, 6, 2, 1, 2, 10, 2, 3, 6, 7, 4, 1, 9, 7, 8, 5, 1, 10, 6, 5, 8, 1, 7, 3, 3, 1, 3, 5, 3, 5, 7, 2, 3, 5, 9, 7, 1, 2, 4, 5, 6, 1, 2, 3, 4, 5, 6, 4, 6, 10, 1, 4, 6, 1, 1, 3, 4, 5, 1, 2, 6, 9, 9, 1, 3, 4, 10, 4, 1, 6, 1, 2, 5, 9, 9, 7, 4, 1, 9, 1, 3, 4, 6, 5, 4, 1, 2, 3, 4, 5, 8, 1, 5, 3, 2, 6, 4, 5, 2, 5, 6, 8, 1, 3, 7, 8, 9, 9, 8, 3, 4, 4, 6, 8, 1, 2, 4, 1, 3, 5, 1, 5, 9, 7, 3, 8, 7, 1, 2, 4, 2, 6, 8, 3, 6, 8, 9, 5, 1, 1, 3, 8, 7, 1, 3, 1, 1, 4, 7, 10, 9, 10, 2, 2, 10, 1, 2, 3, 4, 5, 6, 5, 6, 3, 8, 5, 3, 1, 4, 2, 4, 5, 9, 9, 6, 5, 10, 5, 10, 8, 4, 1, 6, 10, 1, 2, 3, 5, 8, 5, 3, 1, 4, 1, 1, 8, 9, 1, 6, 3, 5, 8, 3, 8, 2, 10, 2, 8, 3, 2, 2, 7, 1, 1, 1, 3, 1, 5, 7, 8, 10, 9, 4, 8, 9, 6, 4, 7, 8, 9, 7, 2, 7, 2, 2, 2, 7, 2, 5, 1, 8, 1, 6, 10, 4, 9, 9, 10, 6, 2, 6, 8, 1, 4, 2, 1, 3, 10, 1, 7, 1, 3, 8, 9, 7, 7, 4, 8, 8, 4, 6, 3, 5, 4, 4, 10, 5, 1, 3, 4, 8, 6, 9, 5, 6, 8, 4, 10, 2, 7, 3, 6, 4, 10, 9, 5, 6, 5, 6, 4, 6, 8, 9, 1, 8, 1, 5, 4, 6, 3, 9, 3, 4, 5, 1, 4, 6, 9, 9, 4, 1, 4, 5, 4, 6, 1, 2, 3, 5, 6, 4, 6, 7, 7, 7, 8, 6, 2, 9, 7, 4, 8, 1, 3, 3, 1, 2, 3, 1, 4, 4, 3, 9, 9, 2, 1, 8, 1, 2, 3, 4, 5, 3, 1, 3, 6, 10, 3, 1, 4, 5, 1, 2, 3, 4, 4, 8, 5, 2, 3, 10, 1, 2, 3, 4, 8, 5, 6, 8, 2, 1, 2, 4, 5, 6], \"Freq\": [0.8877168495865463, 0.11151484391500416, 0.9948804088147869, 0.8478553090176533, 0.15062186005471204, 0.9995003889592827, 0.9970820013770983, 0.9983823515325871, 0.9897294984249227, 0.9974973906490291, 0.9983005953248212, 0.9957299609822333, 0.9986381228951465, 0.9926791404859181, 0.9944985362496414, 0.17997797302562, 0.15182257411667824, 0.25166595024761784, 0.04266625834662712, 0.09594493628200922, 0.2778721292320944, 0.9925259712750326, 0.997947423583764, 0.996981978377817, 0.992911440894498, 0.9973108058681531, 0.9980067896126079, 0.9982631429807204, 0.9977003683056423, 0.5670578221413156, 0.4318469545747732, 0.8993912067719071, 0.09940639653794762, 0.9938148649496719, 0.9975640741003037, 0.9991424511860322, 0.9992677659598304, 0.5076522139887474, 0.10558312853967645, 0.2538261069943737, 0.13224553473656445, 0.9994107022000372, 0.38860970943463435, 0.6106724005401397, 0.9918640694410846, 0.9967034687773472, 0.9984105816024306, 0.9977000092031998, 0.9946479174336216, 0.9991019325102298, 0.9988546305203032, 0.996720929949184, 0.9960028866379388, 0.998225112078324, 0.9937866924746837, 0.9997688556062075, 0.9970937123431488, 0.9977160679793661, 0.9971006408124491, 0.989446259189153, 0.996778325412883, 0.9991424444312689, 0.9976346063367458, 0.9950313956083202, 0.9984195530607687, 0.9968250020997678, 0.996755153952364, 0.9918183577238896, 0.9932715233279928, 0.989703958204971, 0.9992800935721252, 0.5180967433402861, 0.48188568063370696, 0.8017750082517914, 0.19728217868656064, 0.9947011306477215, 0.9962354794154691, 0.996633042724341, 0.2901415056990198, 0.7085396338633746, 0.9938855562109221, 0.9921235268021755, 0.6057610962798771, 0.39296140081948927, 0.9900453063451091, 0.9996638846430362, 0.9979774816437289, 0.9952994152572718, 0.9985729369274097, 0.5098866280697892, 0.37481308315739054, 0.1152286165129467, 0.9930278385041162, 0.9875055261463751, 0.4238081086084003, 0.5752832500882088, 0.9967868062392038, 0.9934224818127864, 0.9957683100004898, 0.9953839401238568, 0.99597489641942, 0.9978428682505268, 0.9971391888432968, 0.9931767956497786, 0.9998743884462145, 0.9960344189629075, 0.9913913807826177, 0.9960871580424718, 0.9965372047663131, 0.999570421656308, 0.7705594524184252, 0.1461209035697162, 0.08295405463072429, 0.995541775027623, 0.9983197132467109, 0.9980892396988562, 0.9954180743131751, 0.2054517219587243, 0.7934687192888662, 0.995205942312724, 0.9964195130570125, 0.999506531746455, 0.9950834867368924, 0.9999631707717458, 0.9964260798806047, 0.9964424228419704, 0.9954068275330957, 0.9975726598587401, 0.9933439946361919, 0.9969097866446057, 0.15156717882747325, 0.8462500817867257, 0.9972105612001615, 0.999831641327307, 0.9974493737986642, 0.9986846257608303, 0.9911383527871717, 0.24022650846904703, 0.7549975980455764, 0.999489513658463, 0.997826351527986, 0.9913740240037017, 0.997635442957178, 0.9986060619370002, 0.9968321864017027, 0.9983696689555589, 0.9982479609758337, 0.9942156980862096, 0.9940176691291939, 0.9970768546437219, 0.9967650379827044, 0.9977958398834611, 0.3954778574348362, 0.11946158728031603, 0.4849376762200957, 0.17917730437676666, 0.8195414095841674, 0.9951385142230269, 0.9970963226621662, 0.9977060654237556, 0.4221954105066288, 0.1942771709701818, 0.31454399109458003, 0.06854367720376543, 0.9939049396723357, 0.35165980815973297, 0.05011778738618522, 0.05262367675549448, 0.09355320312087907, 0.39175403806868114, 0.060976641319858686, 0.9969854342251632, 0.995290465539345, 0.993082304236102, 0.8521407272817678, 0.14705664322890294, 0.9965490233423545, 0.997792326484057, 0.7925216522842508, 0.04350764721904929, 0.09981166126723072, 0.06312874302371857, 0.4036118204771579, 0.5198418067538078, 0.07535790319035543, 0.9896834950094756, 0.9942787911005947, 0.3273134056202063, 0.5724347782735607, 0.0996487479332628, 0.9944350107452715, 0.9950830062896939, 0.9994185290205413, 0.9958179872173175, 0.15789523619663937, 0.7430364056312442, 0.09907152075083255, 0.9914370147627812, 0.9905852039542553, 0.9898067393253889, 0.997769352309859, 0.9973712964062561, 0.9933375501437212, 0.14498824278212277, 0.19171999045569954, 0.21927973908370635, 0.4433524779288052, 0.9965458240311553, 0.9950747893593943, 0.9994771202405944, 0.9974756793309457, 0.9944427693775901, 0.339728344342717, 0.6588670920586026, 0.9989740850631218, 0.8847823859235778, 0.11517877213206339, 0.9994246005524019, 0.8176096427759758, 0.18028038707172137, 0.8488364368177378, 0.14927813199208492, 0.9936469248286482, 0.9972923890079017, 0.9955715178014393, 0.9926689443250001, 0.4457428318324012, 0.16966985211684948, 0.37960034710888363, 0.3089642865056482, 0.690701152890726, 0.9968833141294959, 0.9938902740891017, 0.8924714149676864, 0.10566257767059291, 0.19778854084629624, 0.7998801284225215, 0.9945386887879744, 0.1400656453133682, 0.6105774247155565, 0.24885449604219786, 0.552823789563193, 0.14981989254968886, 0.29615560155171056, 0.24360545957538965, 0.650451691031195, 0.10547865259965325, 0.9978294665150613, 0.9957867446840879, 0.9958354877741427, 0.9944752488329179, 0.50309253320937, 0.08624443426446342, 0.40966106275620123, 0.45128647743186195, 0.4461289176897835, 0.10229160155122204, 0.6864438486534429, 0.3134782522088264, 0.9918931813854421, 0.9995794709068715, 0.9923044030474946, 0.997061456553362, 0.9987230321465121, 0.996706325347813, 0.9911146796691856, 0.9928332380444296, 0.4531060195132888, 0.5460685007204226, 0.9978697309047597, 0.29456992153416167, 0.6429555018101414, 0.06089666647100458, 0.991947642665246, 0.9938772427910999, 0.9842738253750527, 0.9998349616184721, 0.9969138995247255, 0.9908969642933046, 0.33636558120215887, 0.052270736130305216, 0.29461687637081124, 0.09537712241958289, 0.20670700196984335, 0.01459507567274756, 0.7467219630727235, 0.2512013977157088, 0.995190999537782, 0.994773215612946, 0.9924717977471121, 0.9944828057947263, 0.8752183081666876, 0.12396859889046566, 0.9962184527951745, 0.9986666486717829, 0.9968238816044909, 0.9919738355660066, 0.9939649774645043, 0.9988115133859797, 0.9965998777286379, 0.9900780560071076, 0.9958743511105941, 0.9982308746102521, 0.9945470943040655, 0.9992206925908639, 0.26712325088371536, 0.7323522619921957, 0.9934192353042071, 0.1629567243623776, 0.5136395951902142, 0.32330614113495715, 0.8514723049592778, 0.1470724890384207, 0.9966607671389592, 0.998425719161773, 0.3851718268221327, 0.6146358938651053, 0.9956790339488206, 0.9989591526483969, 0.9943566306441527, 0.9895097705500585, 0.49083642387251875, 0.5085774994341761, 0.9975684913347189, 0.9979753382055565, 0.9953870754791085, 0.9989854937699304, 0.9923416215007388, 0.9987078245971257, 0.9878199021236963, 0.9323034285254449, 0.06755821945836557, 0.9984880106642957, 0.9989893448139112, 0.9986215666592714, 0.9980270417940622, 0.9992841623008146, 0.9977099290135513, 0.33592227847469247, 0.6641320556578741, 0.9962372191397713, 0.9977509658746481, 0.9928776944776658, 0.991918694794165, 0.9994344682715696, 0.9939649774645043, 0.9979178351781998, 0.9985901539701428, 0.9872644974592885, 0.9990283829212264, 0.8514451590244302, 0.14634213670732393, 0.16343156003223097, 0.8356594862025395, 0.9953879094111018, 0.17075170333199452, 0.8260113648685234, 0.9964357895420182, 0.9994410559189697, 0.99961801085919, 0.9943253323872686, 0.9973383965647558, 0.9962642640112993, 0.9971729445738002, 0.9964515126750689, 0.9981701711538058, 0.9971317559407895, 0.9954258226599239, 0.44270819249142473, 0.5569228631570207, 0.9918337418834652, 0.9952908188855139, 0.9971652137671931, 0.694926330781993, 0.3047497335513012, 0.9966613913699518, 0.2209868025205366, 0.7781357326040929, 0.9948096623153089, 0.9968736301332215, 0.9971348459990587, 0.9895645186801987, 0.9360129978208209, 0.06353029396973897, 0.8462286771186611, 0.13604636200827905, 0.01751343093017025, 0.9896042907340953, 0.9929775183113034, 0.9974525108088514, 0.7511615878001213, 0.24736136879218495, 0.9970272442295274, 0.9970226571640757, 0.9955008059467342, 0.9978470165580169, 0.9970416320376245, 0.9973241074199047, 0.9948563119979994, 0.9967800684598346, 0.9981756609467384, 0.3059730223229283, 0.48381546550376076, 0.20981674070809497, 0.9991002037226226, 0.9992905708044459, 0.9996995543630197, 0.7064979910637987, 0.29261670525403605, 0.9979959204881581, 0.9959873190035547, 0.9916246702632764, 0.9977061749123214, 0.9941777493496946, 0.9923312835209309, 0.9978351944218841, 0.9943656052268577, 0.9939544318433309, 0.9963180356959999, 0.993995980966088, 0.9989892774631979, 0.9965732894934779, 0.9944596845709031, 0.9958797640369371, 0.9931084243512903, 0.9917436919069363, 0.9941714505337687, 0.9997872960765065, 0.9984948609792212, 0.7807841328353918, 0.21859223316476412, 0.25697148833808986, 0.7408187051188176, 0.9966856998925336, 0.9957704765727515, 0.15539397783376233, 0.378201519580701, 0.4650393307230976, 0.6172512044220644, 0.38183146605837215, 0.9947780336278191, 0.9880534207294134, 0.9901230875829353, 0.9982569322772354, 0.8754935822452053, 0.07996765021139834, 0.044272747521881435, 0.9969094093618509, 0.9925816235736665, 0.24170273653838562, 0.295126302768973, 0.15145321688671373, 0.3117239155784759, 0.9950731080622667, 0.2673998672487932, 0.7313747720426453, 0.9919362918828574, 0.9957251644844513, 0.9950379933636874, 0.9979994832094431, 0.995050385092187, 0.9992950937146836, 0.9962821726790965, 0.9916928520477415, 0.9983709431599486, 0.9962807018947434, 0.07324842114560076, 0.9261409961286234, 0.9983504257827123, 0.12153945169250206, 0.15287384158197526, 0.724489075323274, 0.4789851077490332, 0.5195228228814681, 0.9981861278590245, 0.9948534194676996, 0.9991844405872146, 0.9944836595886831, 0.9979657934386722, 0.9960844998034477, 0.9933160868542433, 0.49673864360401954, 0.03285515438010838, 0.08917827617457988, 0.30821263870863574, 0.07196843340404692, 0.9997673906795785, 0.2969190919311446, 0.6476168969416547, 0.03893275848280824, 0.016360847922736538, 0.9963147602672443, 0.6864122773074225, 0.08965384846464294, 0.22343420047047732, 0.31144285861466325, 0.1873090501988544, 0.10750874478869159, 0.39235150159996723, 0.9981052434167352, 0.9975447009554734, 0.9975554966013417, 0.9933116533089746, 0.9452772704147434, 0.05445430727709965, 0.5780836914887998, 0.04532312965814554, 0.05900558389456684, 0.2787800050670839, 0.03762674915015857, 0.28473582829284877, 0.17740085637093717, 0.5366748596095579, 0.9977250054145309, 0.39131762373870266, 0.45676447370197004, 0.09789757973672074, 0.05372095601151528, 0.993876471601697], \"Term\": [\"able\", \"able\", \"abuse\", \"access\", \"access\", \"account\", \"action\", \"active\", \"activity\", \"ad\", \"address\", \"admin\", \"agent\", \"alternative\", \"amazing\", \"amp\", \"amp\", \"amp\", \"amp\", \"amp\", \"amp\", \"answer\", \"app\", \"appraisal\", \"area\", \"art\", \"attack\", \"auction\", \"authentication\", \"available\", \"available\", \"bad\", \"bad\", \"bar\", \"basic\", \"beat\", \"bid\", \"big\", \"big\", \"big\", \"big\", \"bigrock\", \"bit\", \"bit\", \"biz\", \"blockchain\", \"blog\", \"book\", \"brain\", \"brand\", \"breach\", \"break\", \"broker\", \"builder\", \"building\", \"business\", \"button\", \"buy\", \"buyer\", \"bypass\", \"c\", \"call\", \"candomain\", \"car\", \"card\", \"care\", \"career\", \"cash\", \"ceo\", \"certain\", \"chat\", \"cheap\", \"cheap\", \"check\", \"check\", \"claim\", \"class\", \"clear\", \"client\", \"client\", \"cliente\", \"cloudflare\", \"code\", \"code\", \"coffee\", \"com\", \"comhow\", \"comment\", \"community\", \"company\", \"company\", \"company\", \"complaint\", \"constant\", \"contact\", \"contact\", \"contract\", \"core\", \"country\", \"coupon\", \"course\", \"cpanel\", \"crypto\", \"cryptocurrency\", \"customer\", \"cybersecurity\", \"daily\", \"data\", \"database\", \"datum\", \"day\", \"day\", \"day\", \"dear\", \"design\", \"detail\", \"dev\", \"digital\", \"digital\", \"direct\", \"discount\", \"dns\", \"dollar\", \"domain\", \"domainer\", \"domainname\", \"dot\", \"due\", \"dynadot\", \"e\", \"easy\", \"easy\", \"ecommerce\", \"email\", \"employee\", \"end\", \"engineering\", \"enough\", \"enough\", \"entrepreneur\", \"error\", \"estas\", \"ethereum\", \"event\", \"executive\", \"experience\", \"fast\", \"figure\", \"fine\", \"fix\", \"form\", \"founder\", \"free\", \"free\", \"free\", \"full\", \"full\", \"fun\", \"global\", \"gmail\", \"good\", \"good\", \"good\", \"good\", \"government\", \"great\", \"great\", \"great\", \"great\", \"great\", \"great\", \"group\", \"growth\", \"guide\", \"guy\", \"guy\", \"hack\", \"hacker\", \"help\", \"help\", \"help\", \"help\", \"high\", \"high\", \"high\", \"history\", \"holiday\", \"host\", \"host\", \"host\", \"hostgator\", \"hostinger\", \"hour\", \"html\", \"idea\", \"idea\", \"idea\", \"image\", \"incident\", \"individual\", \"info\", \"information\", \"insight\", \"internet\", \"internet\", \"internet\", \"internet\", \"investment\", \"ip\", \"issue\", \"jewellery\", \"jewelry\", \"job\", \"job\", \"large\", \"last\", \"last\", \"late\", \"launch\", \"launch\", \"law\", \"law\", \"legal\", \"legit\", \"lesson\", \"letter\", \"level\", \"level\", \"level\", \"life\", \"life\", \"line\", \"listing\", \"little\", \"little\", \"local\", \"local\", \"lol\", \"look\", \"look\", \"look\", \"lot\", \"lot\", \"lot\", \"love\", \"love\", \"love\", \"mail\", \"main\", \"man\", \"management\", \"many\", \"many\", \"many\", \"market\", \"market\", \"market\", \"marketing\", \"marketing\", \"matter\", \"medium\", \"member\", \"message\", \"minute\", \"mission\", \"mistake\", \"mobile\", \"month\", \"month\", \"move\", \"much\", \"much\", \"much\", \"multifactor\", \"music\", \"n\", \"name\", \"namecheap\", \"namesilo\", \"new\", \"new\", \"new\", \"new\", \"new\", \"new\", \"news\", \"news\", \"newsletter\", \"nice\", \"night\", \"notice\", \"number\", \"number\", \"offer\", \"office\", \"official\", \"ok\", \"olhardigital\", \"online\", \"open\", \"operation\", \"opportunity\", \"order\", \"org\", \"other\", \"owner\", \"owner\", \"paas\", \"page\", \"page\", \"page\", \"partner\", \"partner\", \"party\", \"password\", \"people\", \"people\", \"perfect\", \"phone\", \"photo\", \"piece\", \"platform\", \"platform\", \"plugin\", \"podcast\", \"policy\", \"popular\", \"por\", \"portfolio\", \"position\", \"possible\", \"possible\", \"post\", \"premium\", \"price\", \"pro\", \"problem\", \"process\", \"product\", \"product\", \"professional\", \"program\", \"property\", \"proud\", \"provider\", \"publieditorial\", \"question\", \"r\", \"rapid\", \"rare\", \"reason\", \"reason\", \"recent\", \"recent\", \"recommendation\", \"record\", \"record\", \"refund\", \"registrar\", \"registration\", \"reliable\", \"renewal\", \"rep\", \"reseller\", \"resource\", \"response\", \"revenue\", \"reverseproxy\", \"right\", \"right\", \"rule\", \"saas\", \"safe\", \"sale\", \"sale\", \"season\", \"security\", \"security\", \"seller\", \"senior\", \"seo\", \"ser\", \"server\", \"server\", \"service\", \"service\", \"service\", \"set\", \"setting\", \"setup\", \"several\", \"several\", \"share\", \"shit\", \"shopify\", \"short\", \"show\", \"side\", \"signature\", \"similar\", \"simple\", \"site\", \"site\", \"site\", \"size\", \"small\", \"social\", \"software\", \"software\", \"solution\", \"sorry\", \"speech\", \"spvlog\", \"standard\", \"start\", \"startup\", \"state\", \"steal\", \"step\", \"stock\", \"store\", \"story\", \"strategy\", \"studio\", \"success\", \"suggestion\", \"super\", \"support\", \"system\", \"team\", \"team\", \"technology\", \"technology\", \"template\", \"text\", \"thank\", \"thank\", \"thank\", \"thing\", \"thing\", \"third\", \"thought\", \"thread\", \"ticket\", \"time\", \"time\", \"time\", \"tip\", \"tld\", \"today\", \"today\", \"today\", \"today\", \"token\", \"top\", \"top\", \"total\", \"track\", \"trading\", \"traffic\", \"transaction\", \"transfer\", \"trend\", \"trial\", \"true\", \"type\", \"update\", \"update\", \"url\", \"use\", \"use\", \"use\", \"user\", \"user\", \"value\", \"version\", \"video\", \"view\", \"vlog\", \"vps\", \"wait\", \"way\", \"way\", \"way\", \"way\", \"way\", \"web\", \"website\", \"website\", \"website\", \"website\", \"websitebuilder\", \"week\", \"week\", \"week\", \"well\", \"well\", \"well\", \"well\", \"whois\", \"whole\", \"woman\", \"woocommerce\", \"wordpress\", \"wordpress\", \"work\", \"work\", \"work\", \"work\", \"work\", \"world\", \"world\", \"world\", \"worth\", \"year\", \"year\", \"year\", \"year\", \"youtube\"]}, \"R\": 30, \"lambda.step\": 0.01, \"plot.opts\": {\"xlab\": \"PC1\", \"ylab\": \"PC2\"}, \"topic.order\": [4, 6, 8, 7, 9, 5, 10, 1, 3, 2]};\n",
       "\n",
       "function LDAvis_load_lib(url, callback){\n",
       "  var s = document.createElement('script');\n",
       "  s.src = url;\n",
       "  s.async = true;\n",
       "  s.onreadystatechange = s.onload = callback;\n",
       "  s.onerror = function(){console.warn(\"failed to load library \" + url);};\n",
       "  document.getElementsByTagName(\"head\")[0].appendChild(s);\n",
       "}\n",
       "\n",
       "if(typeof(LDAvis) !== \"undefined\"){\n",
       "   // already loaded: just create the visualization\n",
       "   !function(LDAvis){\n",
       "       new LDAvis(\"#\" + \"ldavis_el2966824632205322722277043045\", ldavis_el2966824632205322722277043045_data);\n",
       "   }(LDAvis);\n",
       "}else if(typeof define === \"function\" && define.amd){\n",
       "   // require.js is available: use it to load d3/LDAvis\n",
       "   require.config({paths: {d3: \"https://d3js.org/d3.v5\"}});\n",
       "   require([\"d3\"], function(d3){\n",
       "      window.d3 = d3;\n",
       "      LDAvis_load_lib(\"https://cdn.jsdelivr.net/gh/bmabey/pyLDAvis@3.3.1/pyLDAvis/js/ldavis.v3.0.0.js\", function(){\n",
       "        new LDAvis(\"#\" + \"ldavis_el2966824632205322722277043045\", ldavis_el2966824632205322722277043045_data);\n",
       "      });\n",
       "    });\n",
       "}else{\n",
       "    // require.js not available: dynamically load d3 & LDAvis\n",
       "    LDAvis_load_lib(\"https://d3js.org/d3.v5.js\", function(){\n",
       "         LDAvis_load_lib(\"https://cdn.jsdelivr.net/gh/bmabey/pyLDAvis@3.3.1/pyLDAvis/js/ldavis.v3.0.0.js\", function(){\n",
       "                 new LDAvis(\"#\" + \"ldavis_el2966824632205322722277043045\", ldavis_el2966824632205322722277043045_data);\n",
       "            })\n",
       "         });\n",
       "}\n",
       "</script>"
      ],
      "text/plain": [
       "PreparedData(topic_coordinates=              x         y  topics  cluster       Freq\n",
       "topic                                                \n",
       "3     -0.265866  0.113036       1        1  22.999550\n",
       "5     -0.139753 -0.387260       2        1  16.001446\n",
       "7     -0.131099  0.034774       3        1  13.420542\n",
       "6     -0.191686  0.135716       4        1  11.505434\n",
       "8     -0.044244  0.049081       5        1   8.083961\n",
       "4      0.059101  0.020382       6        1   7.455055\n",
       "9      0.174434  0.039901       7        1   5.953630\n",
       "0      0.180715  0.029579       8        1   5.799477\n",
       "2      0.166993 -0.078085       9        1   5.740885\n",
       "1      0.191404  0.042876      10        1   3.040021, topic_info=           Term          Freq         Total Category  logprob  loglift\n",
       "3        domain  20500.000000  20500.000000  Default  30.0000  30.0000\n",
       "292       email   5631.000000   5631.000000  Default  29.0000  29.0000\n",
       "78     business   4344.000000   4344.000000  Default  28.0000  28.0000\n",
       "68          web   5108.000000   5108.000000  Default  27.0000  27.0000\n",
       "8          name   5146.000000   5146.000000  Default  26.0000  26.0000\n",
       "...         ...           ...           ...      ...      ...      ...\n",
       "1852      brain     85.542884     86.462756  Topic10  -5.1224   3.4826\n",
       "2943          n     83.406320     84.326127  Topic10  -5.1477   3.4823\n",
       "8807      estas     82.802363     83.722186  Topic10  -5.1550   3.4823\n",
       "433   wordpress    220.155756   4040.084449  Topic10  -4.1771   0.5836\n",
       "69      website    108.244211   6601.124863  Topic10  -4.8870  -0.6173\n",
       "\n",
       "[448 rows x 6 columns], token_table=      Topic      Freq     Term\n",
       "term                          \n",
       "120       1  0.887717     able\n",
       "120       4  0.111515     able\n",
       "377       5  0.994880    abuse\n",
       "434       1  0.847855   access\n",
       "434       4  0.150622   access\n",
       "...     ...       ...      ...\n",
       "70        1  0.391318     year\n",
       "70        2  0.456764     year\n",
       "70        4  0.097898     year\n",
       "70        5  0.053721     year\n",
       "2458      6  0.993876  youtube\n",
       "\n",
       "[519 rows x 3 columns], R=30, lambda_step=0.01, plot_opts={'xlab': 'PC1', 'ylab': 'PC2'}, topic_order=[4, 6, 8, 7, 9, 5, 10, 1, 3, 2])"
      ]
     },
     "execution_count": 16,
     "metadata": {},
     "output_type": "execute_result"
    }
   ],
   "source": [
    "pyLDAvis.enable_notebook()\n",
    "vis = pyLDAvis.gensim_models.prepare(lda_model, doc_term_matrix, dictionary)\n",
    "vis"
   ]
  },
  {
   "cell_type": "code",
   "execution_count": null,
   "id": "f996ab44",
   "metadata": {
    "ExecuteTime": {
     "start_time": "2022-10-02T17:13:20.888Z"
    }
   },
   "outputs": [
    {
     "name": "stdout",
     "output_type": "stream",
     "text": [
      "\n",
      "Perplexity:  -9.376410990924025\n"
     ]
    }
   ],
   "source": [
    "print('\\nPerplexity: ', lda_model.log_perplexity(doc_term_matrix,total_docs=10000))  # a measure of how good the model is. lower the better.\n",
    "\n",
    "# Compute Coherence Score\n",
    "from gensim.models.coherencemodel import CoherenceModel\n",
    "coherence_model_lda = CoherenceModel(model=lda_model, texts=tokenized_reviews, dictionary=dictionary , coherence='c_v')\n",
    "coherence_lda = coherence_model_lda.get_coherence()\n",
    "print('\\nCoherence Score: ', coherence_lda)"
   ]
  },
  {
   "cell_type": "code",
   "execution_count": 21,
   "id": "8a167340",
   "metadata": {
    "ExecuteTime": {
     "end_time": "2022-10-06T20:08:52.507051Z",
     "start_time": "2022-10-06T20:08:52.491427Z"
    }
   },
   "outputs": [],
   "source": [
    "from gensim.models.coherencemodel import CoherenceModel\n",
    "\n",
    "def compute_coherence_values(dictionary, corpus, texts, limit, start=2, step=3):\n",
    "    \"\"\"\n",
    "    Compute c_v coherence for various number of topics\n",
    "\n",
    "    Parameters:\n",
    "    ----------\n",
    "    dictionary : Gensim dictionary\n",
    "    corpus : Gensim corpus\n",
    "    texts : List of input texts\n",
    "    limit : Max num of topics\n",
    "\n",
    "    Returns:\n",
    "    -------\n",
    "    model_list : List of LDA topic models\n",
    "    coherence_values : Coherence values corresponding to the LDA model with respective number of topics\n",
    "    \"\"\"\n",
    "    coherence_values = []\n",
    "    model_list = []\n",
    "    for num_topics in range(start, limit, step):\n",
    "        model = gensim.models.ldamodel.LdaModel(corpus=corpus, num_topics=num_topics, id2word=dictionary)\n",
    "        model_list.append(model)\n",
    "        coherencemodel = CoherenceModel(model=model, texts=texts, dictionary=dictionary, coherence='u_mass')\n",
    "        coherence_values.append(coherencemodel.get_coherence())\n",
    "\n",
    "    return model_list, coherence_values"
   ]
  },
  {
   "cell_type": "code",
   "execution_count": 22,
   "id": "582a410b",
   "metadata": {
    "ExecuteTime": {
     "end_time": "2022-10-06T20:32:14.527270Z",
     "start_time": "2022-10-06T20:08:55.608766Z"
    }
   },
   "outputs": [],
   "source": [
    "model_list, coherence_values = compute_coherence_values(dictionary=dictionary, corpus=doc_term_matrix, texts=tokenized_reviews, start=2, limit=60, step=1)"
   ]
  },
  {
   "cell_type": "code",
   "execution_count": 24,
   "id": "5d96ecfa",
   "metadata": {
    "ExecuteTime": {
     "end_time": "2022-10-03T14:46:24.416213Z",
     "start_time": "2022-10-03T14:46:24.402251Z"
    }
   },
   "outputs": [
    {
     "data": {
      "text/plain": [
       "[-3.538867562646473,\n",
       " -3.865971536583471,\n",
       " -4.858403458493012,\n",
       " -4.2271228767587985,\n",
       " -5.953064562169256,\n",
       " -5.553982107995451,\n",
       " -7.2085630839008905,\n",
       " -5.486603218468159,\n",
       " -5.424166550744249,\n",
       " -6.0411748323934225,\n",
       " -6.159933216450905,\n",
       " -6.440869748925749,\n",
       " -6.403208148535232,\n",
       " -6.632817215219101,\n",
       " -6.600395851167419,\n",
       " -6.595201800623609,\n",
       " -6.853830230647339,\n",
       " -7.3170085980304345,\n",
       " -7.021452989767876,\n",
       " -7.624573336994155,\n",
       " -7.055059714686272,\n",
       " -7.456019341530306,\n",
       " -7.5076217936816745,\n",
       " -8.154623558091311,\n",
       " -8.593592563052296,\n",
       " -8.278028445225804,\n",
       " -8.096684076701854,\n",
       " -8.606700833822988,\n",
       " -8.423464603328197,\n",
       " -9.05453153829358,\n",
       " -8.43134508615099,\n",
       " -9.004619197624127,\n",
       " -9.107011516119039,\n",
       " -9.184590842875922,\n",
       " -9.22051360974572,\n",
       " -9.51060712913149,\n",
       " -9.203582214431012,\n",
       " -9.790705796410231,\n",
       " -9.663469084208314,\n",
       " -9.097790658332855,\n",
       " -9.978664943616156,\n",
       " -9.60256918315426,\n",
       " -9.65029485531356,\n",
       " -10.203271151285348,\n",
       " -10.020103187985772,\n",
       " -10.51762097141221,\n",
       " -10.036184237640388,\n",
       " -9.974949745184754]"
      ]
     },
     "execution_count": 24,
     "metadata": {},
     "output_type": "execute_result"
    }
   ],
   "source": [
    "coherence_values"
   ]
  },
  {
   "cell_type": "code",
   "execution_count": 25,
   "id": "06f24724",
   "metadata": {
    "ExecuteTime": {
     "end_time": "2022-10-03T14:46:47.138035Z",
     "start_time": "2022-10-03T14:46:46.810271Z"
    }
   },
   "outputs": [
    {
     "data": {
      "image/png": "[encoded data removed]",
      "text/plain": [
       "<Figure size 432x288 with 1 Axes>"
      ]
     },
     "metadata": {
      "needs_background": "light"
     },
     "output_type": "display_data"
    }
   ],
   "source": [
    "# Show graph\n",
    "limit=50; start=2; step=1;\n",
    "x = range(start, limit, step)\n",
    "plt.plot(x, coherence_values)\n",
    "plt.xlabel(\"Num Topics\")\n",
    "plt.ylabel(\"Coherence score\")\n",
    "plt.legend((\"coherence_values\"), loc='best')\n",
    "plt.show()# Print the coherence scores"
   ]
  },
  {
   "cell_type": "code",
   "execution_count": 23,
   "id": "a2abbb0a",
   "metadata": {
    "ExecuteTime": {
     "end_time": "2022-10-06T20:33:26.019690Z",
     "start_time": "2022-10-06T20:33:25.622711Z"
    }
   },
   "outputs": [
    {
     "data": {
      "image/png": "[encoded data removed]",
      "text/plain": [
       "<Figure size 432x288 with 1 Axes>"
      ]
     },
     "metadata": {
      "needs_background": "light"
     },
     "output_type": "display_data"
    }
   ],
   "source": [
    "# Show graph\n",
    "limit=60; start=2; step=1;\n",
    "x = range(start, limit, step)\n",
    "plt.plot(x, coherence_values)\n",
    "plt.xlabel(\"Num Topics\")\n",
    "plt.ylabel(\"Coherence score\")\n",
    "plt.legend((\"coherence_values\"), loc='best')\n",
    "plt.show()# Print the coherence scores"
   ]
  },
  {
   "cell_type": "code",
   "execution_count": 21,
   "id": "a2455d0f",
   "metadata": {
    "ExecuteTime": {
     "end_time": "2022-10-03T14:04:45.542107Z",
     "start_time": "2022-10-03T14:04:45.201549Z"
    }
   },
   "outputs": [
    {
     "data": {
      "image/png": "[encoded data removed]",
      "text/plain": [
       "<Figure size 432x288 with 1 Axes>"
      ]
     },
     "metadata": {
      "needs_background": "light"
     },
     "output_type": "display_data"
    }
   ],
   "source": [
    "# Show graph\n",
    "limit=20; start=2; step=1;\n",
    "x = range(start, limit, step)\n",
    "plt.plot(x, coherence_values)\n",
    "plt.xlabel(\"Num Topics\")\n",
    "plt.ylabel(\"Coherence score\")\n",
    "plt.legend((\"coherence_values\"), loc='best')\n",
    "plt.show()# Print the coherence scores"
   ]
  },
  {
   "cell_type": "code",
   "execution_count": 24,
   "id": "2a3a26b7",
   "metadata": {
    "ExecuteTime": {
     "end_time": "2022-10-06T20:35:04.114180Z",
     "start_time": "2022-10-06T20:35:04.066344Z"
    }
   },
   "outputs": [
    {
     "name": "stdout",
     "output_type": "stream",
     "text": [
      "Num Topics = 2  has Coherence Value of -3.6615\n",
      "Num Topics = 3  has Coherence Value of -3.4058\n",
      "Num Topics = 4  has Coherence Value of -4.204\n",
      "Num Topics = 5  has Coherence Value of -4.1437\n",
      "Num Topics = 6  has Coherence Value of -6.6799\n",
      "Num Topics = 7  has Coherence Value of -4.5339\n",
      "Num Topics = 8  has Coherence Value of -4.7883\n",
      "Num Topics = 9  has Coherence Value of -5.8755\n",
      "Num Topics = 10  has Coherence Value of -6.2762\n",
      "Num Topics = 11  has Coherence Value of -6.0919\n",
      "Num Topics = 12  has Coherence Value of -6.6605\n",
      "Num Topics = 13  has Coherence Value of -7.1013\n",
      "Num Topics = 14  has Coherence Value of -6.5851\n",
      "Num Topics = 15  has Coherence Value of -6.809\n",
      "Num Topics = 16  has Coherence Value of -6.8631\n",
      "Num Topics = 17  has Coherence Value of -6.7266\n",
      "Num Topics = 18  has Coherence Value of -6.9507\n",
      "Num Topics = 19  has Coherence Value of -7.0373\n",
      "Num Topics = 20  has Coherence Value of -6.5438\n",
      "Num Topics = 21  has Coherence Value of -7.4883\n",
      "Num Topics = 22  has Coherence Value of -7.9227\n",
      "Num Topics = 23  has Coherence Value of -7.6946\n",
      "Num Topics = 24  has Coherence Value of -7.7778\n",
      "Num Topics = 25  has Coherence Value of -7.1947\n",
      "Num Topics = 26  has Coherence Value of -7.7216\n",
      "Num Topics = 27  has Coherence Value of -8.457\n",
      "Num Topics = 28  has Coherence Value of -8.0105\n",
      "Num Topics = 29  has Coherence Value of -7.7637\n",
      "Num Topics = 30  has Coherence Value of -8.7493\n",
      "Num Topics = 31  has Coherence Value of -8.5606\n",
      "Num Topics = 32  has Coherence Value of -8.4576\n",
      "Num Topics = 33  has Coherence Value of -8.5009\n",
      "Num Topics = 34  has Coherence Value of -9.0782\n",
      "Num Topics = 35  has Coherence Value of -9.4052\n",
      "Num Topics = 36  has Coherence Value of -8.7509\n",
      "Num Topics = 37  has Coherence Value of -9.328\n",
      "Num Topics = 38  has Coherence Value of -9.2435\n",
      "Num Topics = 39  has Coherence Value of -9.2147\n",
      "Num Topics = 40  has Coherence Value of -9.7788\n",
      "Num Topics = 41  has Coherence Value of -9.6263\n",
      "Num Topics = 42  has Coherence Value of -9.6242\n",
      "Num Topics = 43  has Coherence Value of -10.0686\n",
      "Num Topics = 44  has Coherence Value of -9.6452\n",
      "Num Topics = 45  has Coherence Value of -9.8393\n",
      "Num Topics = 46  has Coherence Value of -10.2545\n",
      "Num Topics = 47  has Coherence Value of -10.0716\n",
      "Num Topics = 48  has Coherence Value of -10.5665\n",
      "Num Topics = 49  has Coherence Value of -10.2694\n",
      "Num Topics = 50  has Coherence Value of -10.6774\n",
      "Num Topics = 51  has Coherence Value of -10.9367\n",
      "Num Topics = 52  has Coherence Value of -10.5583\n",
      "Num Topics = 53  has Coherence Value of -10.3365\n",
      "Num Topics = 54  has Coherence Value of -10.9244\n",
      "Num Topics = 55  has Coherence Value of -10.3784\n",
      "Num Topics = 56  has Coherence Value of -10.6502\n",
      "Num Topics = 57  has Coherence Value of -11.0028\n",
      "Num Topics = 58  has Coherence Value of -10.8053\n",
      "Num Topics = 59  has Coherence Value of -11.2369\n"
     ]
    }
   ],
   "source": [
    "# Print the coherence scores\n",
    "for m, cv in zip(x, coherence_values):\n",
    "    print(\"Num Topics =\", m, \" has Coherence Value of\", round(cv, 4))"
   ]
  },
  {
   "cell_type": "code",
   "execution_count": 33,
   "id": "e0faf94e",
   "metadata": {
    "ExecuteTime": {
     "end_time": "2022-10-06T21:09:48.682972Z",
     "start_time": "2022-10-06T21:09:48.661035Z"
    }
   },
   "outputs": [
    {
     "data": {
      "text/plain": [
       "<gensim.models.ldamodel.LdaModel at 0x1be3d2366a0>"
      ]
     },
     "execution_count": 33,
     "metadata": {},
     "output_type": "execute_result"
    }
   ],
   "source": [
    "model_list[41]"
   ]
  },
  {
   "cell_type": "code",
   "execution_count": 64,
   "id": "9a1b47b3",
   "metadata": {
    "ExecuteTime": {
     "end_time": "2022-10-06T21:49:11.407761Z",
     "start_time": "2022-10-06T21:49:11.378835Z"
    }
   },
   "outputs": [
    {
     "data": {
      "text/plain": [
       "[(0,\n",
       "  '0.046*\"web\" + 0.031*\"amp\" + 0.029*\"website\" + 0.028*\"wordpress\" + 0.027*\"social\" + 0.027*\"medium\" + 0.024*\"bigrock\" + 0.016*\"site\" + 0.015*\"cheap\" + 0.011*\"new\"'),\n",
       " (1,\n",
       "  '0.012*\"buyer\" + 0.011*\"r\" + 0.011*\"site\" + 0.010*\"ad\" + 0.009*\"link\" + 0.008*\"video\" + 0.008*\"old\" + 0.008*\"url\" + 0.006*\"lesson\" + 0.006*\"jewelry\"'),\n",
       " (2,\n",
       "  '0.038*\"wordpress\" + 0.024*\"datum\" + 0.024*\"popular\" + 0.017*\"website\" + 0.017*\"breach\" + 0.017*\"rare\" + 0.016*\"detail\" + 0.016*\"web\" + 0.011*\"site\" + 0.010*\"e\"'),\n",
       " (3,\n",
       "  '0.196*\"domain\" + 0.064*\"name\" + 0.021*\"registration\" + 0.020*\"com\" + 0.015*\"year\" + 0.015*\"sale\" + 0.013*\"business\" + 0.012*\"registrar\" + 0.010*\"page\" + 0.010*\"premium\"'),\n",
       " (4,\n",
       "  '0.026*\"business\" + 0.019*\"entrepreneur\" + 0.017*\"marketing\" + 0.017*\"website\" + 0.013*\"company\" + 0.010*\"today\" + 0.009*\"online\" + 0.009*\"startup\" + 0.009*\"email\" + 0.008*\"small\"'),\n",
       " (5,\n",
       "  '0.031*\"domain\" + 0.022*\"email\" + 0.020*\"service\" + 0.019*\"customer\" + 0.019*\"time\" + 0.012*\"issue\" + 0.012*\"year\" + 0.012*\"day\" + 0.011*\"support\" + 0.011*\"site\"')]"
      ]
     },
     "execution_count": 64,
     "metadata": {},
     "output_type": "execute_result"
    }
   ],
   "source": [
    "# Select the model and print the topics\n",
    "optimal_model = model_list[4]\n",
    "model_topics = optimal_model.show_topics(formatted=False)\n",
    "optimal_model.print_topics(num_words=10,num_topics=6)"
   ]
  },
  {
   "cell_type": "code",
   "execution_count": null,
   "id": "ca888a72",
   "metadata": {},
   "outputs": [],
   "source": [
    "import pyLDAvis.gensim_models\n",
    "import pandas as pd, numpy as np"
   ]
  },
  {
   "cell_type": "code",
   "execution_count": 65,
   "id": "36968d64",
   "metadata": {
    "ExecuteTime": {
     "end_time": "2022-10-06T21:49:32.210174Z",
     "start_time": "2022-10-06T21:49:18.757565Z"
    }
   },
   "outputs": [
    {
     "data": {
      "text/html": [
       "\n",
       "<link rel=\"stylesheet\" type=\"text/css\" href=\"https://cdn.jsdelivr.net/gh/bmabey/pyLDAvis@3.3.1/pyLDAvis/js/ldavis.v1.0.0.css\">\n",
       "\n",
       "\n",
       "<div id=\"ldavis_el1298019165789254728350372427\"></div>\n",
       "<script type=\"text/javascript\">\n",
       "\n",
       "var ldavis_el1298019165789254728350372427_data = {\"mdsDat\": {\"x\": [0.14833784599792688, -0.042318777331716725, 0.2349417284574307, 0.051576309440219334, -0.18986584959305206, -0.2026712569708081], \"y\": [0.018267245951378467, 0.06713601819114211, -0.07417180357773333, 0.07314457318796024, -0.2589282666532269, 0.17455223290047928], \"topics\": [1, 2, 3, 4, 5, 6], \"cluster\": [1, 1, 1, 1, 1, 1], \"Freq\": [34.38236293952354, 18.70665872779941, 17.750362383333567, 12.935058309966172, 8.728554939673538, 7.497002699703774]}, \"tinfo\": {\"Term\": [\"domain\", \"name\", \"wordpress\", \"web\", \"bigrock\", \"medium\", \"social\", \"com\", \"registration\", \"business\", \"website\", \"amp\", \"popular\", \"entrepreneur\", \"datum\", \"customer\", \"site\", \"issue\", \"marketing\", \"sale\", \"registrar\", \"breach\", \"rare\", \"service\", \"detail\", \"hour\", \"portfolio\", \"support\", \"premium\", \"cheap\", \"broker\", \"senior\", \"trading\", \"button\", \"whois\", \"wait\", \"discount\", \"eth\", \"item\", \"contract\", \"court\", \"damage\", \"commission\", \"credential\", \"original\", \"ball\", \"nightmare\", \"firm\", \"bug\", \"forwarding\", \"grace\", \"zoho\", \"period\", \"expectation\", \"election\", \"anonymous\", \"operation\", \"uniregistry\", \"department\", \"downim\", \"issue\", \"price\", \"hour\", \"minute\", \"sorry\", \"password\", \"ip\", \"address\", \"call\", \"little\", \"agent\", \"load\", \"dns\", \"server\", \"reply\", \"hold\", \"customer\", \"problem\", \"chat\", \"account\", \"service\", \"time\", \"support\", \"phone\", \"deal\", \"bad\", \"long\", \"record\", \"info\", \"email\", \"many\", \"day\", \"security\", \"number\", \"client\", \"error\", \"well\", \"good\", \"last\", \"people\", \"week\", \"year\", \"company\", \"month\", \"domain\", \"site\", \"website\", \"thing\", \"team\", \"new\", \"amp\", \"business\", \"bigrock\", \"websitebuilder\", \"woocommerce\", \"season\", \"youtube\", \"employee\", \"luck\", \"template\", \"comment\", \"brokerage\", \"unauthorized\", \"track\", \"career\", \"eye\", \"proud\", \"funny\", \"unusual\", \"h\", \"nocode\", \"query\", \"download\", \"interview\", \"c\", \"programmer\", \"club\", \"sing\", \"ante\", \"environment\", \"utility\", \"difference\", \"design\", \"launch\", \"beat\", \"engineer\", \"sample\", \"medium\", \"social\", \"group\", \"exciting\", \"bonus\", \"web\", \"late\", \"insight\", \"session\", \"tonight\", \"php\", \"webmail\", \"wordpress\", \"amp\", \"job\", \"class\", \"idea\", \"easy\", \"update\", \"check\", \"cheap\", \"website\", \"full\", \"site\", \"great\", \"new\", \"use\", \"free\", \"life\", \"platform\", \"host\", \"product\", \"marketing\", \"work\", \"good\", \"domain\", \"bid\", \"promo\", \"government\", \"signature\", \"appraisal\", \"transaction\", \"acquisition\", \"gmail\", \"spvlog\", \"stupid\", \"metaverse\", \"mess\", \"additional\", \"wallet\", \"epik\", \"candomain\", \"listing\", \"economy\", \"trend\", \"elementor\", \"forex\", \"domaine\", \"lander\", \"available\", \"tax\", \"tld\", \"regular\", \"double\", \"coin\", \"domainnamesforsale\", \"auction\", \"size\", \"legit\", \"jewellery\", \"bank\", \"com\", \"portfolio\", \"name\", \"card\", \"perfect\", \"premium\", \"auto\", \"domain\", \"cryptocurrency\", \"registration\", \"sale\", \"market\", \"vlog\", \"investor\", \"namecheap\", \"registrar\", \"look\", \"dot\", \"page\", \"year\", \"business\", \"transfer\", \"coupon\", \"today\", \"other\", \"cheap\", \"email\", \"owner\", \"amp\", \"day\", \"free\", \"ethereum\", \"hostinger\", \"action\", \"complaint\", \"growth\", \"program\", \"student\", \"ownership\", \"volume\", \"digitalmarketing\", \"sad\", \"improvement\", \"king\", \"channel\", \"knowledge\", \"bookkeeping\", \"permission\", \"gap\", \"entrepreneurship\", \"btc\", \"roll\", \"domainforsale\", \"machine\", \"multifactor\", \"degree\", \"pathetic\", \"study\", \"n\", \"water\", \"usd\", \"apple\", \"loss\", \"backup\", \"technical\", \"webdev\", \"entrepreneur\", \"technology\", \"studio\", \"cloud\", \"startup\", \"local\", \"whole\", \"small\", \"revenue\", \"seo\", \"marketing\", \"digital\", \"authentication\", \"strategy\", \"online\", \"business\", \"brand\", \"tool\", \"payment\", \"today\", \"company\", \"website\", \"app\", \"community\", \"tech\", \"team\", \"share\", \"internet\", \"new\", \"email\", \"platform\", \"domain\", \"service\", \"customer\", \"buyer\", \"cookie\", \"token\", \"olhardigital\", \"publieditorial\", \"measure\", \"por\", \"son\", \"steal\", \"asset\", \"porque\", \"super\", \"problema\", \"exact\", \"maximum\", \"creator\", \"ser\", \"audio\", \"peque\", \"relationship\", \"internal\", \"picture\", \"responsibility\", \"et\", \"chairman\", \"square\", \"favor\", \"hub\", \"policy\", \"stress\", \"purpose\", \"bowl\", \"child\", \"photo\", \"car\", \"click\", \"r\", \"common\", \"jewelry\", \"gift\", \"decision\", \"ad\", \"lesson\", \"music\", \"main\", \"logo\", \"night\", \"link\", \"video\", \"url\", \"old\", \"site\", \"post\", \"social\", \"people\", \"right\", \"medium\", \"rare\", \"tip\", \"lawsuit\", \"ft\", \"saas\", \"letter\", \"cpanel\", \"data\", \"impact\", \"bypass\", \"inflation\", \"chrome\", \"estas\", \"re\", \"monthly\", \"thought\", \"giant\", \"separate\", \"ph\", \"concerned\", \"swag\", \"various\", \"target\", \"sftp\", \"android\", \"attacker\", \"sabe\", \"tier\", \"impression\", \"holder\", \"breach\", \"core\", \"e\", \"detail\", \"hostgator\", \"joke\", \"theft\", \"para\", \"order\", \"datum\", \"popular\", \"abuse\", \"wordpress\", \"browser\", \"chance\", \"party\", \"web\", \"website\", \"file\", \"site\", \"third\", \"user\", \"report\", \"provider\"], \"Freq\": [22367.0, 5990.0, 3801.0, 4949.0, 2119.0, 2529.0, 2637.0, 1769.0, 2409.0, 3927.0, 6156.0, 4366.0, 1118.0, 1245.0, 1102.0, 3552.0, 4083.0, 2051.0, 1573.0, 1658.0, 1648.0, 618.0, 587.0, 3829.0, 585.0, 1649.0, 857.0, 2099.0, 930.0, 2542.0, 345.25513724881245, 309.3197660494249, 239.4535191567941, 218.1369846934988, 476.2506000088951, 200.9252073850052, 253.29651600169575, 147.77319405532543, 132.70200446201017, 188.45815217735603, 133.53021439601915, 123.81328545927389, 124.0128565080878, 114.06951970946099, 112.93902958602402, 117.51040344448742, 109.46930643167497, 108.91578417355274, 115.52457374004032, 103.23710130367914, 104.32824777121085, 127.75459404789835, 99.96148926222244, 107.98205956092156, 104.1727907375416, 116.63739936490758, 105.16724532948005, 96.65990001698678, 92.80898265125721, 105.33276262570371, 2025.8485787254767, 1139.3489733784804, 1611.499973888306, 719.4545094759221, 339.5171413380195, 518.9655112967733, 170.81103471855062, 708.8106194457841, 847.2706647736487, 423.3523225594724, 419.2045849402364, 195.0855319754934, 803.4765376394652, 1208.9654612645963, 233.10187556895053, 212.29126368019845, 3163.0154669865237, 682.753764836903, 614.5450335779768, 1729.3602288670327, 3252.1125528204207, 3126.41749761191, 1825.408549937015, 681.8724669446257, 445.76122205731303, 1047.3469749241808, 562.8668345431328, 403.1621596520331, 546.4602749817398, 3562.9058592232595, 1140.780874635801, 1874.3628266148764, 786.260471730784, 663.612249691613, 918.9730371069123, 551.4364114601032, 814.6516851025228, 1490.925847368895, 987.1427364363786, 1354.7981959826568, 1011.6241066979612, 1888.5506495858679, 1647.6532891042712, 1009.0848019666715, 5044.803957594793, 1795.624580592487, 1767.5173594587159, 932.2902931323514, 889.5185531688606, 1048.592520444719, 983.2434731328524, 907.9346714295709, 2117.7669808040723, 297.21035749073, 278.5487996810124, 183.4543997999496, 165.95303095682468, 452.70748219181195, 144.41588615180117, 278.3251084230077, 249.71887992450448, 142.07456992744056, 139.19448073697774, 129.89036551759196, 304.73549916303307, 106.19863251839409, 173.095814968285, 108.3362089934251, 98.86315866580905, 91.67457149996635, 88.57588942774964, 87.1876817507297, 83.54174655030005, 94.31168605773388, 197.7453745686524, 78.95725784440707, 67.70629270509906, 66.95743271681465, 68.45384212287544, 66.26367836377348, 75.7729723903016, 120.14791328844822, 508.573227771727, 515.5580854672245, 557.2497694467368, 144.52816349814734, 113.12098370989713, 2345.50881650817, 2411.4133882737606, 324.282447571018, 119.38359884715352, 109.16435592769881, 4052.300950573699, 871.8389497288533, 207.49423060506277, 164.93596656869246, 147.20367006256168, 142.90720877788686, 153.48395477396153, 2443.2402487151253, 2733.489986355518, 423.60455261026016, 325.5809094354454, 468.62617525249505, 483.2321597764047, 637.3778652855507, 511.21751706058944, 1304.2591293839675, 2516.774951699442, 416.71080783227734, 1409.2336273739618, 566.7847609342065, 960.6189489493701, 515.3012342056206, 646.3069723179232, 415.6927361036762, 494.84975573045915, 484.95405412324396, 414.8927844235477, 440.0878086088465, 407.48032097798153, 435.345784188397, 420.339494896923, 593.9405597356983, 224.71276013370147, 165.3920701084527, 127.92788807356723, 154.8687674726661, 129.5303420059541, 148.95200173694738, 160.09875887720523, 463.4060932442807, 114.94556796544339, 167.56571920589252, 115.59822449720436, 112.25534339327213, 111.37803412451574, 110.5679655959515, 463.4251711218287, 217.32078483701264, 113.03772168954659, 142.3959125260158, 102.6096816457903, 99.48079268572472, 96.60532933523464, 85.0570979640817, 676.6181899049895, 81.92816023643547, 132.29324978031744, 77.33066484581903, 76.61189898173683, 75.0517216650104, 73.16155363709711, 678.7501524744947, 553.8598506965111, 179.51244998552124, 253.26331106712252, 132.8434163645966, 1685.5847109154981, 823.913449638777, 5381.31291573088, 335.00046819720706, 211.6944105369977, 833.9855546184438, 158.06924724111732, 16438.76647217247, 140.9682903702383, 1782.1247014461856, 1263.6961366783755, 828.1467877512073, 400.9001389357417, 171.0958483124661, 364.47305802435136, 1033.6042928925895, 558.5852732046733, 216.37512292722536, 851.1771801752565, 1268.6977397492417, 1126.2985110277423, 439.47872846295945, 264.4321989354767, 618.1890102679808, 425.66174145859446, 641.9302389474994, 744.656299547739, 309.692551728946, 422.00120784137835, 361.1988026599016, 318.34183328277066, 483.01965464368476, 261.5824009387329, 333.8772535872905, 174.1004193704388, 221.793955221446, 326.52513396294023, 162.24801535616803, 159.29275047067975, 152.68685673037533, 150.6904057486663, 127.01081544978086, 112.2076385469617, 107.8990174315357, 104.38922547444662, 119.55452698500224, 102.46717674584924, 108.29785984970154, 101.70225789985429, 103.15315869625212, 110.45116112962108, 96.10360207464448, 115.95434069708837, 89.15179613960969, 116.4499174164435, 88.87876517371068, 84.45754561600394, 84.30544318797669, 82.29941828241007, 81.38300115354592, 78.47940844804636, 183.84114415238474, 125.60858743035175, 188.24746620125293, 216.72716747061503, 94.16472968029288, 1168.8223800547353, 487.7115738777394, 264.27697363472663, 150.27516612015194, 529.506876088634, 347.6615432348498, 324.95646039867273, 488.5796096408287, 195.83045456706023, 371.28518258450947, 1018.3831281096565, 315.9721537849684, 260.6623376161501, 176.6924721869061, 531.5470387494256, 1598.5573983904737, 474.7062761045627, 410.217519074886, 404.17447539418333, 617.8832199337284, 769.4439927350351, 1009.8476515952542, 318.7430619985795, 249.36061546723894, 337.1419971606835, 411.09428295861164, 241.2981348584609, 316.3884026912762, 449.3090371530241, 528.7542107279623, 298.1693179889293, 399.71528709019054, 326.35111172706087, 292.28531374418634, 490.0076098468012, 199.32781236882934, 199.13711587497824, 191.97128264622705, 191.97128264622705, 177.1598821318594, 155.41805496095387, 166.3342877408332, 148.88018682123504, 127.50089402098388, 119.23981255423338, 248.02968249882107, 112.33117978270705, 101.78287229046121, 103.67089228051381, 105.10049247976436, 108.65536097804232, 97.11384897524124, 93.84864154461026, 96.27574364019297, 91.42784164200843, 93.58440987360306, 88.96514222808158, 87.29762225332856, 117.7284565090526, 84.25166782873153, 83.3526796643838, 108.21730580778583, 181.54465448116943, 78.68564676779935, 119.93140389294956, 108.34013622045, 157.11082207714634, 153.06810436939753, 194.95487701516382, 131.14893329616206, 462.39821079358774, 169.68452201862192, 255.25961200382542, 159.3163306262273, 153.85651158902112, 431.40047653333113, 255.27338666002112, 137.26500534797236, 199.7113924189359, 172.81603087121988, 154.35967982770123, 385.4010673295303, 346.7006911288074, 320.2603728544973, 342.46492679436074, 436.78847742921624, 196.1907974907047, 181.47844788154364, 175.66408492536206, 166.49764595463017, 167.7472451625771, 586.2997946762946, 214.86633451311528, 201.02459249936766, 195.16319224897305, 174.92718792666244, 170.0673798385447, 323.86211670684185, 252.23041506956594, 133.4087919714827, 152.04443874594241, 133.8284426754967, 119.18118717042204, 118.77979397028741, 109.36752342794881, 104.36649980892307, 98.00710471896, 131.2500069166648, 87.02966516625635, 85.77184178978818, 81.29734447961532, 79.80394492606122, 78.60939665329046, 76.58262422692874, 95.49948269922696, 88.25687262015427, 72.70580476148515, 72.73820029634689, 69.85527781780861, 71.50685689166043, 67.5205006418865, 605.4649008243098, 232.87492336214453, 366.28810669173544, 568.6672642690836, 133.65537538014934, 127.00708165592201, 104.68781869488646, 124.15662062381183, 321.0334559253024, 865.6131075807612, 838.7332503260062, 179.57614491402182, 1331.4670286683192, 217.95064978264045, 135.64634958703644, 192.04346599042557, 557.6889678660174, 609.7159332077138, 177.0734003501988, 380.5384180274042, 152.68491791407118, 167.65620291827543, 148.20253593277351, 155.4200337050663], \"Total\": [22367.0, 5990.0, 3801.0, 4949.0, 2119.0, 2529.0, 2637.0, 1769.0, 2409.0, 3927.0, 6156.0, 4366.0, 1118.0, 1245.0, 1102.0, 3552.0, 4083.0, 2051.0, 1573.0, 1658.0, 1648.0, 618.0, 587.0, 3829.0, 585.0, 1649.0, 857.0, 2099.0, 930.0, 2542.0, 346.103489160487, 310.1586178728228, 240.31570552727396, 218.9690977864456, 478.15668841913197, 201.8358121302352, 254.73408011067684, 148.67054429934882, 133.5358961153769, 189.6536671126675, 134.3823403743217, 124.6518977805068, 124.88987594730298, 114.90012563814457, 113.77394201545725, 118.39496940525817, 110.29446316096156, 109.74512948602687, 116.42627866007852, 104.06539796420016, 105.17076576700674, 128.80030724719504, 100.7864630446217, 108.87722642529994, 105.03871747933599, 117.62476785189521, 106.08252425807898, 97.5168777945438, 93.63647094306604, 106.29001690226214, 2051.965242882919, 1152.67323452762, 1649.1482522278711, 732.0407675445214, 344.09885160701253, 530.7907299622063, 172.85081764534652, 728.9439958967345, 876.1601958239817, 433.9007984558542, 431.94312894304534, 198.38914739727872, 848.134717004085, 1296.7950188394013, 239.468023080812, 217.46948335635835, 3552.6871822492576, 727.349602593636, 655.96470913329, 1936.2557113611597, 3829.7361168700445, 3708.224645345144, 2099.955604944092, 744.6273796495748, 479.4071585687592, 1231.129498264094, 624.3399391179742, 434.5396953800193, 613.4527550500998, 5149.020373451485, 1422.170014588494, 2570.64764337276, 948.4579226267576, 784.8600325214537, 1186.2048897695988, 625.6904345563133, 1034.4914611417655, 2296.066038795546, 1346.7358434146709, 2070.248897232102, 1404.5176778179436, 3665.86473441178, 2991.0963913912606, 1485.2729872315163, 22367.392548386055, 4083.3176358569176, 6156.5792708611625, 1487.1176514551871, 1403.4085586441206, 2788.687490753816, 4366.095490425416, 3927.8699805020137, 2119.0023737877887, 298.0602068319044, 279.38612775823043, 184.29035227580584, 166.7917142618584, 454.99924725983976, 145.25308474608389, 279.96616645154523, 251.2025374431462, 142.92424354327605, 140.09112363910674, 130.73858818694325, 306.91540141631634, 107.04480353468173, 174.47985144325358, 109.27480798426319, 99.72826479532668, 92.52430363304062, 89.42711408392266, 88.03330675111235, 84.37615503833378, 95.31505155250954, 199.8656627082207, 79.87361123199435, 68.54351816402318, 67.79412584799068, 69.32736330774179, 67.11497166070785, 76.7499704278314, 121.70761006291107, 516.8054352284015, 525.9392723955087, 573.9609336423991, 147.01799859712207, 114.90131905462935, 2529.998623410896, 2637.5952455490183, 340.27730151443245, 121.65043362468852, 110.95227570878302, 4949.924380260911, 987.6127018609214, 218.43392918772508, 171.37782806248495, 152.4040719051989, 149.1036898601545, 161.56294365812772, 3801.118095307429, 4366.095490425416, 526.2992124958364, 398.29151883071404, 633.506277569026, 682.4322615102805, 973.3682590895808, 736.4965736008676, 2542.0038160989116, 6156.5792708611625, 595.6582741232768, 4083.3176358569176, 1089.56529522541, 2788.687490753816, 992.2941319643404, 1591.390596186644, 729.4314043743866, 1153.1224759976053, 1308.4745519757887, 1175.364907620067, 1573.9477731512122, 1157.6083894338083, 2296.066038795546, 22367.392548386055, 596.273390385236, 225.61085345416583, 166.25617350431207, 128.77962598928218, 155.95252539093667, 130.43722692092285, 150.04043715804409, 161.28850556832, 466.8715389530514, 115.8055395609483, 168.8262548339765, 116.48120568545802, 113.11731763401035, 112.23757204865699, 111.42765139618815, 467.08637148057693, 219.03861146799022, 113.93489782325634, 143.52657704174962, 103.54263788033873, 100.42769770164371, 97.54327078696677, 85.91793007297849, 683.8284445739613, 82.82338196872519, 133.74472117301954, 78.19041958926118, 77.49083390480469, 75.91503227552742, 74.01434176956128, 688.5508270860377, 564.4820204550995, 181.87185251121116, 258.4018983589044, 134.9003809024719, 1769.3594794690675, 857.9667470897834, 5990.701198284052, 351.1757760253293, 219.04147219201963, 930.1292105063974, 161.99310788501268, 22367.392548386055, 144.38444571608716, 2409.392059070206, 1658.5931120468726, 1054.4046677864455, 480.01386578612, 181.29908937286726, 457.95791520435705, 1648.231337564258, 847.7573393064533, 247.32320011038803, 1736.2984538258747, 3665.86473441178, 3927.8699805020137, 847.9427897558501, 388.96303836145427, 1945.150528368916, 1049.0109613528818, 2542.0038160989116, 5149.020373451485, 793.2248206895157, 4366.095490425416, 2570.64764337276, 1591.390596186644, 483.8617724962733, 262.56169150023567, 335.3881329438214, 174.9259007239311, 222.8660843797878, 328.12728725283876, 163.07639703004673, 160.11991623405743, 153.60028055344029, 151.65156551508304, 127.83567089822428, 113.0425641047982, 108.73234995803665, 105.21414910446579, 120.50516620471357, 103.30566332005235, 109.20901051114495, 102.57965733264642, 104.04991313866479, 111.42403609279009, 96.95100341390837, 116.98097956710846, 89.97766405435246, 117.53103434697599, 89.70444521118452, 85.28076242836464, 85.13676608489824, 83.12529539762966, 82.22468984389506, 79.30579847287626, 186.062728281721, 126.9375001103526, 191.37933669106164, 222.40496216872737, 95.24430144418929, 1245.1521886622843, 519.9370187030938, 277.65603960305526, 154.31334563278617, 593.1912227588764, 386.61510942067724, 368.28747070907144, 626.2685097670983, 217.11308701296608, 461.49718107937736, 1573.9477731512122, 409.58281493277104, 324.31301867252586, 200.57077094575666, 875.7215627137526, 3927.8699805020137, 814.4798972700662, 769.8386039723376, 753.2408275382046, 1945.150528368916, 2991.0963913912606, 6156.5792708611625, 646.1540769749556, 392.1533227014965, 779.9843586745077, 1403.4085586441206, 394.2312389244326, 917.3704465072518, 2788.687490753816, 5149.020373451485, 1153.1224759976053, 22367.392548386055, 3829.7361168700445, 3552.6871822492576, 490.83138292850157, 200.14677341597817, 199.9759773998485, 192.7846405540327, 192.7846405540327, 178.00885252764127, 156.24780859393812, 167.24780281961665, 149.70464283331575, 128.3144323382496, 120.05269593176595, 249.98727510115592, 113.22739287791806, 102.59904613490552, 104.50721111799861, 105.95895266284772, 109.55852453805669, 97.95260287538343, 94.66374669643706, 97.14629239223859, 92.25870711859157, 94.44424956799217, 89.79015277132989, 88.1115581183614, 118.86152780858248, 85.07295607422694, 84.17398507033606, 109.32752648485399, 183.41329985641843, 79.51496581064731, 121.38398209346558, 109.67318427883116, 159.76448533621513, 157.00357741455093, 202.7767564147052, 134.85686792681994, 514.6089364743932, 178.11271474710088, 280.96528514462113, 173.6229176915982, 168.00171913508288, 586.677615040287, 313.2904619437508, 147.31640522464144, 247.99619241125478, 206.05355421364402, 176.93000533981984, 644.3784357593352, 626.7003484644459, 555.8083715591599, 776.6670723364765, 4083.3176358569176, 441.3710038427436, 2637.5952455490183, 2070.248897232102, 899.3593036807198, 2529.998623410896, 587.1660767758239, 215.6911795449707, 201.8700132516309, 196.01035242239368, 175.76785673960597, 170.89558727195336, 325.44921793851074, 253.74983152195557, 134.2375822011321, 153.00838707229855, 134.7343738373794, 120.02601523019557, 119.6228417484155, 110.21682880013452, 105.19363935669459, 98.84298274908576, 132.42543437916922, 87.86018425278844, 86.65192278682449, 82.14542360375951, 80.63768159231859, 79.43551623868328, 77.41032445590527, 96.56256928079222, 89.25003031239817, 73.53700058481141, 73.57679205783444, 70.68430849486393, 72.35662634651221, 68.34953177948087, 618.2558064974382, 235.7845498819032, 372.66547145017114, 585.7402418380864, 136.28036488554525, 130.53995919075686, 107.0911037284925, 128.78347023171443, 362.99365351969413, 1102.0101358721986, 1118.4858794119361, 228.68685348885373, 3801.118095307429, 330.075712557244, 171.4648264780953, 389.248682635754, 4949.924380260911, 6156.5792708611625, 352.8124569524338, 4083.3176358569176, 259.50462185934555, 887.2611675800022, 375.96941376744246, 822.5440049063203], \"Category\": [\"Default\", \"Default\", \"Default\", \"Default\", \"Default\", \"Default\", \"Default\", \"Default\", \"Default\", \"Default\", \"Default\", \"Default\", \"Default\", \"Default\", \"Default\", \"Default\", \"Default\", \"Default\", \"Default\", \"Default\", \"Default\", \"Default\", \"Default\", \"Default\", \"Default\", \"Default\", \"Default\", \"Default\", \"Default\", \"Default\", \"Topic1\", \"Topic1\", \"Topic1\", \"Topic1\", \"Topic1\", \"Topic1\", \"Topic1\", \"Topic1\", \"Topic1\", \"Topic1\", \"Topic1\", \"Topic1\", \"Topic1\", \"Topic1\", \"Topic1\", \"Topic1\", \"Topic1\", \"Topic1\", \"Topic1\", \"Topic1\", \"Topic1\", \"Topic1\", \"Topic1\", \"Topic1\", \"Topic1\", \"Topic1\", \"Topic1\", \"Topic1\", \"Topic1\", \"Topic1\", \"Topic1\", \"Topic1\", \"Topic1\", \"Topic1\", \"Topic1\", \"Topic1\", \"Topic1\", \"Topic1\", \"Topic1\", \"Topic1\", \"Topic1\", \"Topic1\", \"Topic1\", \"Topic1\", \"Topic1\", \"Topic1\", \"Topic1\", \"Topic1\", \"Topic1\", \"Topic1\", \"Topic1\", \"Topic1\", \"Topic1\", \"Topic1\", \"Topic1\", \"Topic1\", \"Topic1\", \"Topic1\", \"Topic1\", \"Topic1\", \"Topic1\", \"Topic1\", \"Topic1\", \"Topic1\", \"Topic1\", \"Topic1\", \"Topic1\", \"Topic1\", \"Topic1\", \"Topic1\", \"Topic1\", \"Topic1\", \"Topic1\", \"Topic1\", \"Topic1\", \"Topic1\", \"Topic1\", \"Topic1\", \"Topic1\", \"Topic1\", \"Topic1\", \"Topic1\", \"Topic2\", \"Topic2\", \"Topic2\", \"Topic2\", \"Topic2\", \"Topic2\", \"Topic2\", \"Topic2\", \"Topic2\", \"Topic2\", \"Topic2\", \"Topic2\", \"Topic2\", \"Topic2\", \"Topic2\", \"Topic2\", \"Topic2\", \"Topic2\", \"Topic2\", \"Topic2\", \"Topic2\", \"Topic2\", \"Topic2\", \"Topic2\", \"Topic2\", \"Topic2\", \"Topic2\", \"Topic2\", \"Topic2\", \"Topic2\", \"Topic2\", \"Topic2\", \"Topic2\", \"Topic2\", \"Topic2\", \"Topic2\", \"Topic2\", \"Topic2\", \"Topic2\", \"Topic2\", \"Topic2\", \"Topic2\", \"Topic2\", \"Topic2\", \"Topic2\", \"Topic2\", \"Topic2\", \"Topic2\", \"Topic2\", \"Topic2\", \"Topic2\", \"Topic2\", \"Topic2\", \"Topic2\", \"Topic2\", \"Topic2\", \"Topic2\", \"Topic2\", \"Topic2\", \"Topic2\", \"Topic2\", \"Topic2\", \"Topic2\", \"Topic2\", \"Topic2\", \"Topic2\", \"Topic2\", \"Topic2\", \"Topic2\", \"Topic2\", \"Topic2\", \"Topic3\", \"Topic3\", \"Topic3\", \"Topic3\", \"Topic3\", \"Topic3\", \"Topic3\", \"Topic3\", \"Topic3\", \"Topic3\", \"Topic3\", \"Topic3\", \"Topic3\", \"Topic3\", \"Topic3\", \"Topic3\", \"Topic3\", \"Topic3\", \"Topic3\", \"Topic3\", \"Topic3\", \"Topic3\", \"Topic3\", \"Topic3\", \"Topic3\", \"Topic3\", \"Topic3\", \"Topic3\", \"Topic3\", \"Topic3\", \"Topic3\", \"Topic3\", \"Topic3\", \"Topic3\", \"Topic3\", \"Topic3\", \"Topic3\", \"Topic3\", \"Topic3\", \"Topic3\", \"Topic3\", \"Topic3\", \"Topic3\", \"Topic3\", \"Topic3\", \"Topic3\", \"Topic3\", \"Topic3\", \"Topic3\", \"Topic3\", \"Topic3\", \"Topic3\", \"Topic3\", \"Topic3\", \"Topic3\", \"Topic3\", \"Topic3\", \"Topic3\", \"Topic3\", \"Topic3\", \"Topic3\", \"Topic3\", \"Topic3\", \"Topic3\", \"Topic3\", \"Topic3\", \"Topic4\", \"Topic4\", \"Topic4\", \"Topic4\", \"Topic4\", \"Topic4\", \"Topic4\", \"Topic4\", \"Topic4\", \"Topic4\", \"Topic4\", \"Topic4\", \"Topic4\", \"Topic4\", \"Topic4\", \"Topic4\", \"Topic4\", \"Topic4\", \"Topic4\", \"Topic4\", \"Topic4\", \"Topic4\", \"Topic4\", \"Topic4\", \"Topic4\", \"Topic4\", \"Topic4\", \"Topic4\", \"Topic4\", \"Topic4\", \"Topic4\", \"Topic4\", \"Topic4\", \"Topic4\", \"Topic4\", \"Topic4\", \"Topic4\", \"Topic4\", \"Topic4\", \"Topic4\", \"Topic4\", \"Topic4\", \"Topic4\", \"Topic4\", \"Topic4\", \"Topic4\", \"Topic4\", \"Topic4\", \"Topic4\", \"Topic4\", \"Topic4\", \"Topic4\", \"Topic4\", \"Topic4\", \"Topic4\", \"Topic4\", \"Topic4\", \"Topic4\", \"Topic4\", \"Topic4\", \"Topic4\", \"Topic4\", \"Topic4\", \"Topic4\", \"Topic4\", \"Topic4\", \"Topic4\", \"Topic4\", \"Topic4\", \"Topic5\", \"Topic5\", \"Topic5\", \"Topic5\", \"Topic5\", \"Topic5\", \"Topic5\", \"Topic5\", \"Topic5\", \"Topic5\", \"Topic5\", \"Topic5\", \"Topic5\", \"Topic5\", \"Topic5\", \"Topic5\", \"Topic5\", \"Topic5\", \"Topic5\", \"Topic5\", \"Topic5\", \"Topic5\", \"Topic5\", \"Topic5\", \"Topic5\", \"Topic5\", \"Topic5\", \"Topic5\", \"Topic5\", \"Topic5\", \"Topic5\", \"Topic5\", \"Topic5\", \"Topic5\", \"Topic5\", \"Topic5\", \"Topic5\", \"Topic5\", \"Topic5\", \"Topic5\", \"Topic5\", \"Topic5\", \"Topic5\", \"Topic5\", \"Topic5\", \"Topic5\", \"Topic5\", \"Topic5\", \"Topic5\", \"Topic5\", \"Topic5\", \"Topic5\", \"Topic5\", \"Topic5\", \"Topic5\", \"Topic5\", \"Topic5\", \"Topic6\", \"Topic6\", \"Topic6\", \"Topic6\", \"Topic6\", \"Topic6\", \"Topic6\", \"Topic6\", \"Topic6\", \"Topic6\", \"Topic6\", \"Topic6\", \"Topic6\", \"Topic6\", \"Topic6\", \"Topic6\", \"Topic6\", \"Topic6\", \"Topic6\", \"Topic6\", \"Topic6\", \"Topic6\", \"Topic6\", \"Topic6\", \"Topic6\", \"Topic6\", \"Topic6\", \"Topic6\", \"Topic6\", \"Topic6\", \"Topic6\", \"Topic6\", \"Topic6\", \"Topic6\", \"Topic6\", \"Topic6\", \"Topic6\", \"Topic6\", \"Topic6\", \"Topic6\", \"Topic6\", \"Topic6\", \"Topic6\", \"Topic6\", \"Topic6\", \"Topic6\", \"Topic6\", \"Topic6\", \"Topic6\", \"Topic6\", \"Topic6\", \"Topic6\", \"Topic6\", \"Topic6\"], \"logprob\": [30.0, 29.0, 28.0, 27.0, 26.0, 25.0, 24.0, 23.0, 22.0, 21.0, 20.0, 19.0, 18.0, 17.0, 16.0, 15.0, 14.0, 13.0, 12.0, 11.0, 10.0, 9.0, 8.0, 7.0, 6.0, 5.0, 4.0, 3.0, 2.0, 1.0, -6.1528, -6.2627, -6.5188, -6.612, -5.8312, -6.6942, -6.4626, -7.0014, -7.109, -6.7582, -7.1028, -7.1783, -7.1767, -7.2603, -7.2703, -7.2306, -7.3015, -7.3065, -7.2476, -7.3601, -7.3496, -7.147, -7.3923, -7.3151, -7.3511, -7.238, -7.3416, -7.4259, -7.4666, -7.34, -4.3834, -4.9589, -4.6122, -5.4186, -6.1696, -5.7453, -6.8566, -5.4335, -5.2551, -5.9489, -5.9588, -6.7237, -5.3082, -4.8996, -6.5456, -6.6392, -3.9378, -5.471, -5.5762, -4.5416, -3.9101, -3.9495, -4.4876, -5.4723, -5.8973, -5.0431, -5.6641, -5.9978, -5.6937, -3.8188, -4.9576, -4.4611, -5.3298, -5.4994, -5.1739, -5.6846, -5.2944, -4.69, -5.1023, -4.7857, -5.0778, -4.4535, -4.59, -5.0803, -3.471, -4.504, -4.5198, -5.1595, -5.2064, -5.0419, -5.1063, -5.1859, -3.7303, -5.694, -5.7589, -6.1765, -6.2767, -5.2732, -6.4158, -5.7597, -5.8681, -6.4321, -6.4526, -6.5218, -5.669, -6.7231, -6.2346, -6.7032, -6.7947, -6.8702, -6.9046, -6.9204, -6.9631, -6.8418, -6.1015, -7.0195, -7.1733, -7.1844, -7.1623, -7.1948, -7.0607, -6.5997, -5.1568, -5.1432, -5.0654, -6.415, -6.66, -3.6282, -3.6005, -5.6068, -6.6061, -6.6956, -3.0814, -4.6178, -6.0533, -6.2829, -6.3966, -6.4263, -6.3549, -3.5874, -3.4751, -5.3396, -5.6028, -5.2386, -5.208, -4.9311, -5.1517, -4.2151, -3.5577, -5.3561, -4.1376, -5.0485, -4.5209, -5.1437, -4.9172, -5.3585, -5.1842, -5.2044, -5.3604, -5.3015, -5.3785, -5.3123, -5.3474, -4.9492, -5.9212, -6.2277, -6.4845, -6.2934, -6.4721, -6.3324, -6.2602, -5.1974, -6.5915, -6.2146, -6.5859, -6.6152, -6.623, -6.6303, -5.1973, -5.9546, -6.6083, -6.3774, -6.705, -6.736, -6.7653, -6.8927, -4.8189, -6.9301, -6.451, -6.9879, -6.9972, -7.0178, -7.0433, -4.8157, -5.0191, -6.1457, -5.8015, -6.4468, -3.9061, -4.6219, -2.7453, -5.5218, -5.9808, -4.6098, -6.2729, -1.6286, -6.3874, -3.8504, -4.1942, -4.6168, -5.3423, -6.1938, -5.4375, -4.3952, -5.0106, -5.959, -4.5894, -4.1902, -4.3093, -5.2504, -5.7584, -4.9092, -5.2823, -4.8715, -4.7231, -5.6004, -5.291, -5.4465, -5.5728, -4.8395, -5.4528, -5.2087, -5.8599, -5.6178, -5.231, -5.9304, -5.9488, -5.9911, -6.0043, -6.1752, -6.2992, -6.3383, -6.3714, -6.2357, -6.39, -6.3346, -6.3975, -6.3833, -6.3149, -6.4541, -6.2663, -6.5292, -6.262, -6.5322, -6.5833, -6.5851, -6.6091, -6.6203, -6.6567, -5.8054, -6.1863, -5.7818, -5.6409, -6.4745, -3.9558, -4.8298, -5.4425, -6.007, -4.7476, -5.1683, -5.2358, -4.828, -5.7423, -5.1025, -4.0935, -5.2639, -5.4563, -5.8451, -4.7437, -3.6427, -4.8568, -5.0028, -5.0177, -4.5932, -4.3738, -4.102, -5.2551, -5.5006, -5.199, -5.0007, -5.5335, -5.2625, -4.9118, -4.749, -5.3218, -5.0288, -5.2315, -5.3418, -4.4317, -5.3312, -5.3322, -5.3688, -5.3688, -5.4491, -5.58, -5.5122, -5.623, -5.778, -5.845, -5.1126, -5.9047, -6.0033, -5.9849, -5.9713, -5.938, -6.0503, -6.0845, -6.059, -6.1106, -6.0873, -6.1379, -6.1568, -5.8578, -6.1924, -6.2031, -5.942, -5.4247, -6.2607, -5.8392, -5.9409, -5.5692, -5.5953, -5.3534, -5.7498, -4.4897, -5.4922, -5.0839, -5.5553, -5.5901, -4.5591, -5.0838, -5.7043, -5.3293, -5.4739, -5.5869, -4.6719, -4.7777, -4.857, -4.79, -4.5467, -5.3471, -5.425, -5.4576, -5.5112, -5.5037, -4.1002, -5.1041, -5.1706, -5.2002, -5.3097, -5.3379, -4.6938, -4.9437, -5.5807, -5.4499, -5.5775, -5.6934, -5.6968, -5.7794, -5.8262, -5.889, -5.597, -6.0078, -6.0224, -6.076, -6.0945, -6.1096, -6.1357, -5.915, -5.9938, -6.1877, -6.1872, -6.2276, -6.2043, -6.2616, -4.0681, -5.0236, -4.5707, -4.1308, -5.5788, -5.6298, -5.8231, -5.6525, -4.7025, -3.7106, -3.7422, -5.2835, -3.28, -5.0898, -5.564, -5.2163, -4.1503, -4.0611, -5.2975, -4.5325, -5.4457, -5.3522, -5.4755, -5.4279], \"loglift\": [30.0, 29.0, 28.0, 27.0, 26.0, 25.0, 24.0, 23.0, 22.0, 21.0, 20.0, 19.0, 18.0, 17.0, 16.0, 15.0, 14.0, 13.0, 12.0, 11.0, 10.0, 9.0, 8.0, 7.0, 6.0, 5.0, 4.0, 3.0, 2.0, 1.0, 1.0652, 1.0649, 1.064, 1.0638, 1.0636, 1.0631, 1.062, 1.0616, 1.0614, 1.0613, 1.0613, 1.0609, 1.0606, 1.0604, 1.0603, 1.0601, 1.0601, 1.06, 1.0599, 1.0596, 1.0596, 1.0595, 1.0594, 1.0594, 1.0593, 1.0592, 1.059, 1.0588, 1.0587, 1.0586, 1.0548, 1.056, 1.0445, 1.0503, 1.0542, 1.0451, 1.0558, 1.0396, 1.0341, 1.043, 1.0377, 1.0508, 1.0135, 0.9975, 1.0407, 1.0435, 0.9514, 1.0044, 1.0024, 0.9546, 0.9041, 0.897, 0.9275, 0.9796, 0.9949, 0.906, 0.964, 0.9927, 0.952, 0.6994, 0.8472, 0.7517, 0.8801, 0.8998, 0.8124, 0.9413, 0.8287, 0.6358, 0.757, 0.6436, 0.7395, 0.4044, 0.4713, 0.6811, -0.4216, 0.2461, -0.1803, 0.6007, 0.6116, 0.0895, -0.4231, -0.3971, 1.6757, 1.6734, 1.6733, 1.6717, 1.6712, 1.6712, 1.6705, 1.6704, 1.6704, 1.6703, 1.6699, 1.6698, 1.6692, 1.6684, 1.6683, 1.6677, 1.6676, 1.6671, 1.6667, 1.6666, 1.6664, 1.6657, 1.6656, 1.6648, 1.664, 1.6639, 1.6636, 1.6635, 1.6635, 1.6634, 1.6602, 1.6564, 1.6467, 1.6592, 1.6607, 1.6006, 1.5866, 1.6281, 1.6575, 1.66, 1.4762, 1.5516, 1.6249, 1.638, 1.6416, 1.6338, 1.625, 1.2343, 1.208, 1.4592, 1.4747, 1.3748, 1.3311, 1.2529, 1.3112, 1.009, 0.7817, 1.319, 0.6124, 1.0227, 0.6105, 1.021, 0.7752, 1.114, 0.8303, 0.6837, 0.635, 0.4019, 0.6322, 0.0135, -2.298, 1.7248, 1.7248, 1.7236, 1.7221, 1.7218, 1.7218, 1.7215, 1.7214, 1.7213, 1.7213, 1.7213, 1.7212, 1.7211, 1.7211, 1.721, 1.7209, 1.7209, 1.7209, 1.7209, 1.7197, 1.7193, 1.7191, 1.7187, 1.7182, 1.7179, 1.7179, 1.7177, 1.7174, 1.7173, 1.7172, 1.7144, 1.7098, 1.7157, 1.7087, 1.7134, 1.6803, 1.6883, 1.6215, 1.6816, 1.6946, 1.6197, 1.7042, 1.4208, 1.7048, 1.4272, 1.4568, 1.4872, 1.5487, 1.6708, 1.5004, 1.2621, 1.3116, 1.5951, 1.0159, 0.6677, 0.4796, 1.0715, 1.3429, 0.5825, 0.8268, 0.3525, -0.2049, 0.7882, -0.6079, -0.2337, 0.1195, 2.0435, 2.0415, 2.0407, 2.0405, 2.0404, 2.0403, 2.0401, 2.04, 2.0393, 2.0389, 2.0388, 2.0378, 2.0375, 2.0374, 2.0373, 2.0371, 2.0369, 2.0366, 2.0366, 2.0365, 2.0364, 2.0364, 2.036, 2.036, 2.036, 2.0355, 2.0354, 2.0352, 2.0349, 2.0348, 2.0332, 2.0347, 2.0287, 2.0194, 2.0338, 1.982, 1.9812, 1.9958, 2.0187, 1.9317, 1.939, 1.9201, 1.797, 1.9421, 1.8277, 1.6099, 1.7857, 1.8267, 1.9185, 1.546, 1.1462, 1.5054, 1.4157, 1.4227, 0.8984, 0.6875, 0.2375, 1.3386, 1.5925, 1.2065, 0.8174, 1.5543, 0.9807, 0.2196, -0.2308, 0.6927, -1.9794, -0.4173, -0.4525, 2.4369, 2.4345, 2.4344, 2.4343, 2.4343, 2.4338, 2.4332, 2.4331, 2.433, 2.4322, 2.4318, 2.4307, 2.4306, 2.4306, 2.4305, 2.4304, 2.4303, 2.43, 2.4299, 2.4296, 2.4295, 2.4294, 2.4293, 2.4293, 2.429, 2.4289, 2.4288, 2.4284, 2.4283, 2.4281, 2.4265, 2.4263, 2.4218, 2.4132, 2.3992, 2.4107, 2.3316, 2.3901, 2.3426, 2.3526, 2.3506, 2.1311, 2.2338, 2.3679, 2.222, 2.2627, 2.3021, 1.9246, 1.8466, 1.8873, 1.6197, 0.2034, 1.6278, -0.2379, -0.0283, 0.7519, -0.2749, 2.5892, 2.5868, 2.5865, 2.5863, 2.5859, 2.5858, 2.5858, 2.5847, 2.5845, 2.5843, 2.5839, 2.5836, 2.5836, 2.5829, 2.5828, 2.5822, 2.5818, 2.5812, 2.5805, 2.5803, 2.5803, 2.5802, 2.5799, 2.5796, 2.5795, 2.5793, 2.5792, 2.5789, 2.5789, 2.5785, 2.5698, 2.5782, 2.5734, 2.5611, 2.5712, 2.5632, 2.568, 2.5541, 2.4678, 2.3492, 2.3028, 2.3489, 1.5417, 2.1756, 2.3563, 1.8842, 0.4073, 0.2784, 1.9013, 0.2176, 2.0603, 0.9244, 1.6597, 0.9244]}, \"token.table\": {\"Topic\": [3, 5, 6, 1, 2, 3, 4, 5, 6, 3, 2, 4, 1, 3, 4, 5, 6, 3, 1, 2, 3, 5, 1, 3, 4, 1, 2, 3, 4, 5, 6, 6, 1, 2, 1, 2, 3, 4, 5, 6, 1, 4, 5, 3, 5, 6, 1, 3, 4, 5, 1, 4, 5, 6, 2, 3, 4, 6, 1, 2, 3, 5, 6, 2, 4, 5, 1, 2, 3, 4, 5, 6, 1, 1, 3, 1, 2, 5, 1, 3, 5, 2, 2, 3, 4, 5, 1, 2, 3, 4, 5, 6, 2, 6, 1, 2, 2, 3, 4, 5, 6, 4, 1, 1, 2, 3, 4, 5, 6, 1, 5, 6, 2, 6, 1, 2, 3, 4, 5, 6, 3, 6, 1, 2, 5, 6, 2, 3, 4, 5, 6, 2, 3, 5, 3, 4, 5, 6, 4, 1, 2, 3, 4, 5, 6, 1, 2, 3, 4, 5, 6, 1, 2, 3, 4, 5, 6, 1, 5, 6, 6, 1, 2, 3, 4, 5, 1, 5, 1, 2, 3, 4, 5, 6, 2, 3, 4, 6, 2, 3, 1, 2, 3, 5, 2, 4, 1, 4, 5, 1, 2, 3, 4, 5, 6, 1, 2, 3, 4, 5, 6, 4, 6, 1, 2, 5, 2, 6, 1, 2, 3, 1, 4, 6, 5, 1, 1, 3, 1, 2, 3, 4, 5, 6, 1, 4, 6, 1, 2, 3, 4, 6, 1, 2, 3, 4, 5, 6, 1, 2, 3, 5, 3, 4, 5, 4, 1, 2, 4, 5, 6, 1, 4, 6, 2, 4, 2, 3, 4, 5, 4, 1, 5, 1, 2, 3, 4, 5, 1, 2, 3, 4, 5, 6, 3, 4, 3, 1, 3, 6, 3, 1, 2, 5, 6, 1, 2, 3, 4, 5, 6, 3, 1, 3, 1, 2, 3, 4, 5, 6, 2, 6, 1, 2, 2, 3, 4, 4, 2, 3, 1, 2, 3, 4, 5, 6, 6, 5, 1, 4, 5, 2, 5, 1, 2, 5, 1, 2, 4, 5, 6, 1, 3, 1, 1, 2, 3, 4, 5, 6, 6, 1, 2, 3, 4, 5, 6, 2, 4, 6, 2, 3, 5, 3, 1, 2, 3, 4, 5, 6, 3, 1, 1, 2, 3, 4, 5, 6, 2, 4, 4, 2, 1, 3, 6, 1, 2, 3, 4, 5, 6, 4, 6, 4, 1, 2, 3, 4, 5, 6, 5, 1, 2, 3, 4, 5, 6, 6, 6, 4, 6, 1, 2, 4, 6, 2, 3, 5, 1, 2, 3, 4, 5, 6, 2, 1, 3, 1, 2, 1, 2, 3, 4, 5, 6, 1, 3, 5, 6, 3, 5, 2, 3, 4, 5, 6, 3, 6, 4, 4, 3, 1, 2, 3, 4, 5, 6, 2, 3, 5, 6, 2, 4, 6, 3, 6, 3, 4, 5, 6, 1, 2, 3, 4, 5, 1, 3, 4, 5, 6, 3, 5, 1, 3, 4, 6, 1, 3, 1, 2, 3, 4, 3, 4, 5, 1, 2, 3, 4, 5, 6, 1, 2, 3, 4, 6, 3, 4, 2, 4, 2, 5, 1, 2, 3, 4, 5, 6, 1, 2, 3, 4, 5, 6, 1, 2, 3, 4, 5, 6, 5, 5, 1, 2, 3, 5, 3, 2, 3, 1, 2, 3, 4, 5, 6, 1, 2, 3, 4, 5, 6, 6, 4, 1, 3, 4, 5, 4, 1, 2, 3, 4, 5, 6, 1, 3, 1, 2, 3, 4, 5, 6, 1, 3, 4, 5, 6, 1, 2, 1, 2, 3, 4, 5, 6, 2, 3, 4, 5, 6, 5, 1, 2, 3, 4, 5, 6, 1, 1, 4, 5, 6, 1, 1, 2, 3, 4, 6, 1, 2, 3, 5, 6, 4, 1, 2, 3, 4, 5, 6, 2, 6, 2, 4, 6, 1, 2, 4, 1, 2, 3, 4, 5, 6, 1, 2, 3, 4, 5, 6, 5, 2, 3, 1, 4, 6, 1, 2, 3, 4, 5, 6, 2, 5, 2, 4, 6, 5, 1, 2, 3, 4, 6, 1, 5, 1, 2, 3, 6, 5, 5, 1, 2, 3, 4, 1, 2, 3, 5, 6, 1, 2, 3, 4, 1, 3, 4, 5, 1, 3, 4, 5, 6, 5, 1, 2, 3, 4, 5, 6, 3, 4, 2, 3, 2, 6, 1, 2, 4, 6, 5, 5, 6, 2, 1, 2, 3, 4, 5, 6, 6, 1, 2, 3, 4, 5, 6, 1, 2, 3, 6, 1, 3, 4, 5, 6, 3, 5, 1, 3, 4, 5, 6, 1, 2, 3, 4, 6, 5, 3, 4, 5, 1, 2, 3, 4, 5, 6, 4, 6, 6, 4, 1, 2, 3, 4, 5, 6, 2, 6, 2, 1, 2, 3, 4, 5, 6, 1, 2, 3, 4, 6, 6, 5, 1, 2, 3, 4, 6, 1, 2, 3, 4, 5, 6, 2, 3, 4, 6, 6, 1, 2, 3, 4, 5, 6, 3, 2, 1, 2, 3, 4, 5, 6, 3, 4, 1, 2, 3, 4, 5, 6, 1, 2, 3, 4, 5, 6, 5, 1, 4, 5, 6, 3, 6, 5, 3, 4, 5, 1, 2, 3, 4, 5, 6, 5, 4, 3, 4, 4, 3, 3, 5, 1, 2, 3, 4, 5, 6, 6, 6, 3, 1, 2, 3, 4, 5, 6, 1, 2, 3, 4, 5, 6, 2, 3, 4, 1, 2, 3, 4, 5, 2, 2, 6, 1, 2, 3, 4, 5, 6, 3, 5, 6, 6, 6, 1, 2, 3, 4, 5, 6, 6, 1, 3, 1, 2, 3, 4, 5, 6, 5, 2, 3, 1, 2, 3, 4, 6, 2, 1, 3, 1, 3, 4, 6, 3, 2, 1, 2, 1, 2, 3, 4, 5, 6, 1, 5, 6, 4, 1, 2, 3, 4, 5, 6, 1, 2, 3, 4, 6, 2, 6, 1, 2, 3, 4, 5, 2, 3, 4, 1, 3, 4, 1, 2, 3, 4, 5, 6, 4, 2, 5, 1, 2, 3, 4, 5, 6, 2, 1, 2, 3, 4, 5, 6, 1, 2, 3, 4, 5, 6, 1, 6, 3, 4, 6, 2, 1, 2, 3, 4, 5, 6, 1, 2, 3, 4, 5, 6, 1, 2, 3, 4, 5, 6, 2, 1], \"Freq\": [0.017491167240162152, 0.19240283964178367, 0.7871025258072968, 0.8929605680979699, 0.007746910654406911, 0.055777756711729756, 0.016010282019107615, 0.009296292785288292, 0.017559664149988996, 0.9930656216567262, 0.002981620104511877, 0.9958611149069668, 0.13465657794796737, 0.0988617914048368, 0.010227081869465875, 0.734645380956632, 0.02045416373893175, 0.9901224882504249, 0.9726398790455778, 0.004115542506539822, 0.009602932515259583, 0.013718475021799405, 0.9700351086155327, 0.01389071754580715, 0.01389071754580715, 0.22514395348330327, 0.6259597404576478, 0.09665386405895623, 0.018323007404541465, 0.024277984811017443, 0.009390541294827501, 0.9859940628812928, 0.9946884668653979, 0.9808536882926058, 0.07892854323346894, 0.233690392710859, 0.14083328302442497, 0.4936902998328743, 0.04642855484321702, 0.006190473979095603, 0.005374531531569728, 0.9889138018088298, 0.005374531531569728, 0.9938922092569588, 0.9975495169754505, 0.9926975457179263, 0.007261628050263349, 0.9861290892257628, 0.005809302440210679, 0.9902748589887361, 0.16650580424132264, 0.8047780538330593, 0.003083440819283752, 0.024667526554270017, 0.012346204268268357, 0.9753501371932002, 0.006173102134134178, 0.006173102134134178, 0.002924710160669084, 0.001462355080334542, 0.9900143893864849, 0.001462355080334542, 0.004387065241003626, 0.005225224505894658, 0.9823422071081958, 0.010450449011789317, 0.8504385618866913, 0.05442156986285417, 0.03167822723360168, 0.04711120973202301, 0.004061311183795087, 0.012183933551385263, 0.9966639680111221, 0.007412877512354571, 0.9859127091431579, 0.017422788579946114, 0.9704493239029984, 0.010453673147967668, 0.001677083056404592, 0.9961873355043276, 0.001677083056404592, 0.9995269595729631, 0.9824043653335497, 0.009012884085628895, 0.9873611641599236, 0.9847439071835711, 0.02332777035220055, 0.035605544221779785, 0.31431101106122844, 0.5831942588050137, 0.04297220854352733, 0.0012277773869579236, 0.019409441648405645, 0.9785593497737847, 0.9968116786017857, 0.9935333326217942, 0.04847372706110623, 0.0030296079413191395, 0.0030296079413191395, 0.2847831464839991, 0.6604545312075724, 0.9872196687292479, 0.9963386387937117, 0.2311685479680644, 0.06339313705291634, 0.2866693667533486, 0.4070908680627037, 0.00712854553205485, 0.004837227325322934, 0.9955742714554603, 0.9983061740601402, 0.9934095960908204, 0.9906654165455907, 0.0050033606896241955, 0.9667181915328189, 0.0011413437916562206, 0.025109563416436855, 0.002282687583312441, 0.0034240313749686617, 0.0011413437916562206, 0.9912513579284622, 0.004281863317185582, 0.01479459506623434, 0.01479459506623434, 0.961648679305232, 0.009863063377489559, 0.00569515364253298, 0.9539382351242741, 0.00284757682126649, 0.01708546092759894, 0.01708546092759894, 0.993759187686648, 0.0032582268448742555, 0.9927518363219265, 0.0699851989850117, 0.0058320999154176404, 0.13413829805460573, 0.7931655884967992, 0.9884602107720296, 0.9375504374504909, 0.0015244722560170583, 0.00914683353610235, 0.04725863993652881, 0.0030489445120341165, 0.0015244722560170583, 0.1955150487392743, 0.5129811339155206, 0.2525566625565676, 0.0027537330808348496, 0.0023603426407155853, 0.03343818741013746, 0.05566896231375991, 0.6938253595690564, 0.002715559137256581, 0.19416247831384553, 0.05159562360787504, 0.0013577795686282904, 0.0062592133533028805, 0.9826964964685523, 0.0062592133533028805, 0.9914517262926059, 0.002510723810880418, 0.8184959623470162, 0.16319704770722715, 0.015064342865282507, 0.002510723810880418, 0.02224580806390928, 0.9714002854573719, 0.7747396827697287, 0.11633740611776122, 0.0025290740460382874, 0.0809303694732252, 0.015174444276229724, 0.01011629618415315, 0.006480320907432488, 0.006480320907432488, 0.9720481361148732, 0.012960641814864976, 0.9920704659086428, 0.9879466260093733, 0.04351857318621619, 0.0011303525502913297, 0.9528871998955909, 0.0022607051005826594, 0.9952128770059961, 0.0039808515080239845, 0.9928747150995773, 0.044915378508261244, 0.9544517933005514, 0.005100046038682634, 0.2830525551468862, 0.005100046038682634, 0.634955731815988, 0.04590041434814371, 0.02550023019341317, 0.5509685360669567, 0.12236315788865666, 0.0571696721283068, 0.2570963617933797, 0.00401190681602153, 0.00802381363204306, 0.9947068974914562, 0.9860561483097996, 0.9912805951087404, 0.005272769122918832, 0.9942703377306276, 0.008482319986622256, 0.988190278441493, 0.2622357137832047, 0.05656064414931867, 0.6787277297918239, 0.9971548317043989, 0.003072675996379062, 0.9955470228268161, 0.9909497721641415, 0.9921660169373587, 0.020777861390271234, 0.976559485342748, 0.8903119913860412, 0.007036926899984518, 0.009570220583978944, 0.08219130619181916, 0.0002814770759993807, 0.010696128887976468, 0.9947702538660527, 0.003940889316072218, 0.9931041076501989, 0.027222980101046127, 0.0027222980101046126, 0.04446420083170867, 0.13974463118537012, 0.7858366922501981, 0.7289991706297254, 0.049792899594773135, 0.1404315371383836, 0.04745885742626814, 0.023340421685049906, 0.009725175702104127, 0.9303156868401918, 0.02711682495274102, 0.03963228262323688, 0.002085909611749309, 0.07142784051127073, 0.011904640085211788, 0.9166572865613077, 0.992147042328548, 0.993202745290849, 0.9848967625022135, 0.007739856679781638, 0.005804892509836229, 0.0019349641699454095, 0.011950689913388228, 0.015365172745784864, 0.9714203658168431, 0.9859695703331254, 0.008216413086109379, 0.04150564764976866, 0.004883017370561018, 0.7715167445486409, 0.1806716427107577, 0.995703535846333, 0.9931925869128959, 0.003925662398865201, 0.946783552071165, 0.0023581159453827274, 0.0023581159453827274, 0.044804202962271826, 0.0035371739180740914, 0.22555154737354613, 0.018777333973615338, 0.7349537933149107, 0.01788317521296699, 0.0012518222649076892, 0.0016094857691670288, 0.9944304637051461, 0.9916141959937538, 0.9862953348592983, 0.11725547780012711, 0.8733511449940502, 0.004043292337935418, 0.9936659101461256, 0.9878632355148804, 0.9955419272404284, 0.01610023052753428, 0.9821140621795911, 0.23738619806965203, 0.7077625535039626, 0.017584162819974224, 0.026376244229961335, 0.0058613876066580745, 0.004396040704993556, 0.9917944559470566, 0.9901110989903287, 0.994759280896766, 0.6919762870566492, 0.0504950419968366, 0.14468771649093562, 0.10273798929356369, 0.006020562699622825, 0.004272657399732327, 0.9956060427091256, 0.004395611667589958, 0.013603776538141165, 0.9862737990152345, 0.05139933944039218, 0.009637376145073534, 0.9388410594659136, 0.9899095241217011, 0.9833871395141986, 0.9961620711660913, 0.880627175307103, 0.012785875503551404, 0.015982344379439257, 0.0015982344379439255, 0.051143502014205616, 0.03835762651065421, 0.9947932874749337, 0.9873846502990195, 0.9954897299763786, 0.9982189696618781, 0.9941612894322833, 0.9782127071337408, 0.016440549699726737, 0.9919429760097553, 0.9902395679175288, 0.9860528752517174, 0.4563330937651842, 0.014171835210098889, 0.017006202252118668, 0.011337468168079111, 0.5016829664375007, 0.9932103639631521, 0.9857838252362889, 0.9897622265897963, 0.24381192205718802, 0.40593428260036973, 0.1998252350881077, 0.09614233008956125, 0.04587183069632661, 0.00816895615140063, 0.9948454129595338, 0.27196801763299716, 0.7000658231664186, 0.010072889541962858, 0.011751704465623335, 0.005036444770981429, 0.0016788149236604763, 0.9883339261099706, 0.9943491980016398, 0.9892359471135446, 0.01151921662526457, 0.06911529975158742, 0.9157777217085333, 0.9920111754785017, 0.6493715663257396, 0.18945448112119162, 0.054005415308109796, 0.038761951309853, 0.055747525479339144, 0.012630298741412775, 0.9924443497174588, 0.9888679543362798, 0.2533120329818333, 0.5203910242778967, 0.09177972209486715, 0.12298482760712197, 0.009177972209486714, 0.0036711888837946856, 0.9521645979852639, 0.044081694351169626, 0.9961138798566053, 0.9943333414848486, 0.9748494212983634, 0.01839338530751629, 0.9948861130371957, 0.47841969800233697, 0.37066062864398314, 0.008406735907389308, 0.01987046669019291, 0.03133419747299651, 0.09094559754357524, 0.007337814224667271, 0.9832671061054142, 0.9978607256183252, 0.9768679060985962, 0.00848923071718209, 0.0036382417359351812, 0.004850988981246908, 0.0036382417359351812, 0.0018191208679675906, 0.9878573445541375, 0.17995086084617168, 0.740324155586443, 0.02999181014102861, 0.003157032646424064, 0.0441984570499369, 0.003157032646424064, 0.9907806578393389, 0.9950712690112948, 0.9907772429522063, 0.9945494693264707, 0.8900440914238115, 0.06520469534240377, 0.026081878136961507, 0.01630117383560094, 0.9476549763571821, 0.045780433640443575, 0.9863567661210166, 0.2539868173071326, 0.16133068223800695, 0.08938591853727412, 0.34446280802169055, 0.12208808385578905, 0.029431948786663432, 0.9862031071578965, 0.05515747505732686, 0.9431928234802894, 0.9892923986674798, 0.005785335664722104, 0.9873461585312044, 0.0029240261358278513, 0.0024366884465232093, 0.0048733768930464185, 0.00048733768930464186, 0.0014620130679139256, 0.9959868759564554, 0.9790949741731327, 0.0038699406093799715, 0.011609821828139914, 0.08897896402799997, 0.9075854330855998, 0.8056253741845648, 0.009500299223874586, 0.17290544587451745, 0.005700179534324751, 0.007600239379099668, 0.02298146880539565, 0.9728821794284158, 0.9932646543708539, 0.9958079290654195, 0.9893161989331121, 0.7328831446985515, 0.07499614753247588, 0.10098491152887842, 0.06460064193391488, 0.025988763996402535, 0.0007425361141829296, 0.8829372064139346, 0.03746407871251786, 0.07796578542875339, 0.0010125426679058883, 0.9811018630530516, 0.01901360199715216, 0.9956902303734115, 0.9897078493160685, 0.010996753881289649, 0.003191926092469241, 0.18193978727074675, 0.8139411535796565, 0.9947594476472457, 0.36192573889305685, 0.5703072249223926, 0.01782210077882477, 0.024676754924526603, 0.024676754924526603, 0.3817632408975849, 0.01396694783771652, 0.003103766186159227, 0.5974749908356511, 0.003103766186159227, 0.9906929127502795, 0.004565405127881473, 0.9748772104254072, 0.00460934851264968, 0.013828045537949038, 0.006914022768974519, 0.9829166693756092, 0.015121794913470911, 0.015519310688582994, 0.07501000166148447, 0.010346207125721997, 0.9001200199378137, 0.1455932178141168, 0.009706214520941121, 0.8395875560614069, 0.9017523383100701, 0.0016016915422914211, 0.025627064676662738, 0.030432139303537, 0.012813532338331369, 0.02883044776124558, 0.18637408686931467, 0.1380111909095558, 0.6593868010123222, 0.0011795828282868018, 0.015334576767728422, 0.007877892656863842, 0.9926144747648442, 0.9913730937399753, 0.9891343694612711, 0.19355135872570606, 0.8064639946904419, 0.8022950760427537, 0.10125371687130284, 0.07172138278383951, 0.014063016232125395, 0.0028126032464250786, 0.007734658927668967, 0.00853562230418997, 0.00758721982594664, 0.7852772519854773, 0.19821611795285596, 0.00094840247824333, 0.00094840247824333, 0.012071556835688368, 0.279551842510678, 0.015248282318764253, 0.6467813083542504, 0.04383881166644723, 0.002541380386460709, 0.9951466400014645, 0.9943325710305075, 0.0015810285282318755, 0.927273231807995, 0.004743085584695626, 0.06640319818573877, 0.9958688126326796, 0.005923249325073275, 0.9951058866123103, 0.9821857359279813, 0.0013660441389818933, 0.0068302206949094665, 0.0027320882779637867, 0.00409813241694568, 0.0013660441389818933, 0.6793363971970781, 0.26594437749538735, 0.029624183822270996, 0.020198307151548408, 0.004039661430309681, 0.0006732769050516135, 0.988652932211546, 0.9869733610745222, 0.013576220495946926, 0.03394055123986731, 0.02036433074392039, 0.9299711039723645, 0.9864626598648846, 0.09281050441294886, 0.0013354029411935086, 0.8982254033202838, 0.006843940073616732, 0.00033385073529837716, 0.0005007761029475657, 0.20307542879458718, 0.7948328610884917, 0.3761626225520317, 0.3446065588870376, 0.05737466120908014, 0.16100764301798115, 0.03585916325567509, 0.025101414278972563, 0.00565195257909677, 0.10738709900283862, 0.01130390515819354, 0.8704006971809025, 0.00565195257909677, 0.988263570773517, 0.9952238860853562, 0.8460107184548857, 0.021659912972489544, 0.06243151386188162, 0.06497973891746862, 0.0038223375833805074, 0.0012741125277935025, 0.17896986360171177, 0.3656650450567348, 0.007725317853311299, 0.44034311763874406, 0.006437764877759416, 0.9959299633426305, 0.02398022487298771, 0.15644241940949127, 0.14844901111849537, 0.6074990301156887, 0.05138619615640224, 0.012561070171564992, 0.9897954515538733, 0.0027548691011639002, 0.1074398949453921, 0.0027548691011639002, 0.8843129814736119, 0.9931975459253042, 0.18207626710942307, 0.1229729762152648, 0.4060968051759907, 0.2383197213474124, 0.05052378092565143, 0.34668607540666024, 0.22818247144947457, 0.3908097577311443, 0.021431502843320818, 0.01260676637842401, 0.9930057655512361, 0.2534126543915736, 0.16759791460897253, 0.4901231111073389, 0.02246157618470766, 0.02937283039538694, 0.03686002245695616, 0.031059886744804872, 0.962856489088951, 0.05908818969985478, 0.44701500033803176, 0.49325793140748336, 0.9777864810053373, 0.020723798248668036, 0.9849818131089004, 0.33588195269084475, 0.0066379832547597785, 0.11019052202901232, 0.5363490469845901, 0.0013275966509519556, 0.00929317655666369, 0.6545106734806712, 0.18113764026217838, 0.04975247185867833, 0.020770449416729786, 0.08501393249638238, 0.00917764043995037, 0.9929883749629568, 0.02739207301684032, 0.9678532465950246, 0.9921967393153434, 0.9889293886513002, 0.9924765340934407, 0.9158943367365198, 0.0026859071458548967, 0.0443174679066058, 0.018801350020984278, 0.01745839644805683, 0.0013429535729274484, 0.01910784486189652, 0.9745000879567227, 0.9590641260060083, 0.013413484279804311, 0.02012022641970647, 0.9952961713389193, 0.18298143032678013, 0.42926923228320457, 0.07544731961341171, 0.2584287499401918, 0.053767055356684204, 0.005452167322559655, 0.9922944527058571, 0.002682197473585722, 0.06258460771700018, 0.18417755985288628, 0.7501212267794737, 0.9920139129939354, 0.9912313844883228, 0.0268075657687385, 0.01165546337771239, 0.9604101823235011, 0.001165546337771239, 0.10195504373466518, 0.4372738542397862, 0.011328338192740576, 0.4440708571554306, 0.006797002915644346, 0.09353539166094345, 0.0010751194443786604, 0.8966496166118028, 0.008600955555029283, 0.988137805131544, 0.002602645667598448, 0.004337742779330747, 0.004337742779330747, 0.9390257416303096, 0.006874273364789968, 0.027497093459159874, 0.013748546729579937, 0.012373692056621944, 0.9891599298833857, 0.5504673449116967, 0.35308183638076374, 0.00510479763442068, 0.06806396845894241, 0.01616519250899882, 0.0076571964516310214, 0.003047597803804257, 0.996564481843992, 0.9890625800121028, 0.9972924465077212, 0.9915184966572781, 0.005731320789926463, 0.7440331415091899, 0.03768795324638053, 0.029177770255262348, 0.18843976623190267, 0.9959299633426305, 0.9885983136358147, 0.008238319280298455, 0.9882623203734274, 0.0038864463056201112, 0.03109157044496089, 0.06606958719554189, 0.0019432231528100556, 0.8977690965982457, 0.9980140596980213, 0.9889596823517659, 0.9274181491004251, 0.004602571459555459, 0.05062828605511005, 0.011506428648888649, 0.0023012857297777297, 0.0023012857297777297, 0.36888025736635804, 0.001213421899231441, 0.627339121902655, 0.003033554748078602, 0.24155470995641787, 0.739605658320166, 0.006225636854546852, 0.0016601698278791606, 0.010376061424244753, 0.9847753779105608, 0.9882003485258056, 0.9729900343369466, 0.00835184578829997, 0.004175922894149985, 0.00835184578829997, 0.004175922894149985, 0.3590717623734809, 0.010639163329584618, 0.055855607480319244, 0.17820598577054234, 0.39364904319463084, 0.99120000638219, 0.09211789245484586, 0.9027553460574894, 0.004605894622742293, 0.30799703618603735, 0.28798278834723345, 0.1701211066298329, 0.03446898238905111, 0.18457584118008014, 0.01445473455024724, 0.9901908863196774, 0.9956314154712398, 0.9921606794520064, 0.9934629286774769, 0.09043809413562844, 0.003014603137854281, 0.7620916732495623, 0.13565714120344266, 0.007235047530850276, 0.0012058412551417125, 0.983452591577949, 0.008703120279450876, 0.9929982646412508, 0.8287136216050262, 0.07802138422235615, 0.00210868606006368, 0.06220623877187855, 0.00210868606006368, 0.027412918780827838, 0.9962644343698428, 0.09317500033137584, 0.08667441891290775, 0.8039052354172195, 0.01733488378258155, 0.9902096238460695, 0.9949020439951007, 0.9322984607714058, 0.0038556594738271537, 0.0100247146319506, 0.02082056115866663, 0.03238753958014809, 0.8491446670894351, 0.03185598074566762, 0.017494677950489593, 0.08512335838596428, 0.0005222291925519281, 0.015666875776557843, 0.962784987214568, 0.023340242114292555, 0.005835060528573139, 0.005835060528573139, 0.9838180643656191, 0.020292658749788885, 0.2079997521853361, 0.05580481156191944, 0.6113163448373902, 0.09892671140522082, 0.005073164687447221, 0.9939460455542318, 0.9882862145052023, 0.4398384255559131, 0.3450625510068383, 0.012734742833467417, 0.002204090105792438, 0.10702081958125503, 0.0933064811452132, 0.9814307275072311, 0.017715356092188286, 0.00798379596294797, 0.1836273071478033, 0.014370832733306345, 0.7808152451763114, 0.0015967591925895937, 0.01277407354071675, 0.001137399684452171, 0.9140902130713948, 0.008340931019315921, 0.003791332281507237, 0.06862311429528099, 0.003412199053356513, 0.9925391975345562, 0.9880881566797737, 0.002906141637293452, 0.002906141637293452, 0.005812283274586904, 0.99170748561428, 0.006425750446744795, 0.9873878124877808, 0.10620521272549001, 0.893472424516027, 0.9952931130258912, 0.009971542665809914, 0.034900399330334696, 0.004985771332904957, 0.8824815259241774, 0.06481502732776444, 0.004985771332904957, 0.9935236617987911, 0.9933994308823955, 0.046820519440474474, 0.9508167024834817, 0.9866477652702399, 0.9930440325738964, 0.004000203608745108, 0.9920504949687868, 0.8690659915396581, 0.008571609779569231, 0.001904802173237607, 0.11762153419742222, 0.00047620054330940173, 0.0023810027165470085, 0.99209201480342, 0.9946993574979911, 0.9900585806911857, 0.6341702810048832, 0.048453459672283206, 0.00213765263260073, 0.2928584106663, 0.00427530526520146, 0.018526322815872992, 0.5205232585560429, 0.02820569381338163, 0.008974538940621429, 0.4320599461413459, 0.0038462309745520406, 0.006410384957586734, 0.008992605113202021, 0.013488907669803034, 0.9756976547824194, 0.005769929610865288, 0.050006056627499164, 0.005769929610865288, 0.9385752167007535, 0.0019233098702884292, 0.9929771283563812, 0.01867568761893228, 0.9804735999939448, 0.626715713506602, 0.14928206909706618, 0.04303627217212718, 0.1533167196132031, 0.026225228354890003, 0.0013448835053789744, 0.3275471526902938, 0.08477691010807603, 0.5895848748425287, 0.9914714962495043, 0.9903188061192726, 0.8429909994595397, 0.08117091837406316, 0.023731032614344047, 0.03370885314537507, 0.01483189538396503, 0.0032360499019560064, 0.9967955131664222, 0.0074769306125087726, 0.9869548408511579, 0.23699965286828797, 0.11618638079877024, 0.31771320059132746, 0.31771320059132746, 0.004112792240664433, 0.007197386421162758, 0.9951195267924755, 0.9645411580042269, 0.026246017904876923, 0.02727844497748074, 0.35072286399618097, 0.05455688995496148, 0.5325791638460526, 0.032474339258905645, 0.9943506489003298, 0.9945250955430184, 0.9966479897553486, 0.47762656265596937, 0.5177236074221495, 0.001179324846064122, 0.001179324846064122, 0.9893638023478707, 0.9922113292351226, 0.9946996068143937, 0.9926975086067996, 0.11300964354733135, 0.654428572178637, 0.005136801979424153, 0.08013411087901678, 0.14485781581976112, 0.002054720791769661, 0.37782806223466125, 0.5757379995956743, 0.044979531218412055, 0.9835346406187075, 0.4615566949825104, 0.518999340427932, 0.015116485643532001, 0.0010077657095688, 0.0030232971287064, 0.0010077657095688, 0.7449892141711468, 0.029303660466641176, 0.007889447048711086, 0.029303660466641176, 0.18934672916906606, 0.9902283945693946, 0.9945173612597334, 0.0063826356723765704, 0.15797023289132012, 0.279240310666475, 0.0015956589180941426, 0.5536936445786675, 0.16249530598925344, 0.8353925346370593, 0.9960919306183725, 0.9958589502952236, 0.9889736384521889, 0.9851055705260773, 0.023232678151325282, 0.8185983640797395, 0.010505210990164476, 0.03373788914148976, 0.0012121397296343626, 0.11272899485599572, 0.9869356861741653, 0.9469993337318291, 0.04332676690276342, 0.28717245766133015, 0.4088309253017918, 0.024851462682230492, 0.1640521392748549, 0.016242786066817314, 0.09908099500758563, 0.9964429776011585, 0.7205320488185251, 0.14951752001174926, 0.06051899619523184, 0.04058332686033195, 0.02207163390649632, 0.007119881905321394, 0.7878267057907724, 0.15273204848459146, 0.01643319509011427, 0.02996641457609073, 0.01159990241655125, 0.0019333170694252084, 0.995489578058058, 0.0020913646597858363, 0.11132607884015673, 0.8824628200744131, 0.0054305404312271575, 0.998617942267468, 0.0007892414612699278, 0.6427056299608113, 0.00026308048708997595, 0.00578777071597947, 0.00026308048708997595, 0.35016012831675797, 0.4543850967227951, 0.351586947464216, 0.025915499813087172, 0.10884509921496612, 0.016413149881621875, 0.04146479970093948, 0.5152945176257592, 0.1072052649163173, 0.3461666187755894, 0.01254819894694808, 0.007092460274361959, 0.011729838146060162, 0.9952532758275064, 0.9937864492383619], \"Term\": [\"abuse\", \"abuse\", \"abuse\", \"account\", \"account\", \"account\", \"account\", \"account\", \"account\", \"acquisition\", \"action\", \"action\", \"ad\", \"ad\", \"ad\", \"ad\", \"ad\", \"additional\", \"address\", \"address\", \"address\", \"address\", \"agent\", \"agent\", \"agent\", \"amp\", \"amp\", \"amp\", \"amp\", \"amp\", \"amp\", \"android\", \"anonymous\", \"ante\", \"app\", \"app\", \"app\", \"app\", \"app\", \"app\", \"apple\", \"apple\", \"apple\", \"appraisal\", \"asset\", \"attacker\", \"auction\", \"auction\", \"auction\", \"audio\", \"authentication\", \"authentication\", \"authentication\", \"authentication\", \"auto\", \"auto\", \"auto\", \"auto\", \"available\", \"available\", \"available\", \"available\", \"available\", \"backup\", \"backup\", \"backup\", \"bad\", \"bad\", \"bad\", \"bad\", \"bad\", \"bad\", \"ball\", \"bank\", \"bank\", \"beat\", \"beat\", \"beat\", \"bid\", \"bid\", \"bid\", \"bigrock\", \"bonus\", \"bonus\", \"bookkeeping\", \"bowl\", \"brand\", \"brand\", \"brand\", \"brand\", \"brand\", \"brand\", \"breach\", \"breach\", \"broker\", \"brokerage\", \"browser\", \"browser\", \"browser\", \"browser\", \"browser\", \"btc\", \"bug\", \"business\", \"business\", \"business\", \"business\", \"business\", \"business\", \"button\", \"buyer\", \"bypass\", \"c\", \"c\", \"call\", \"call\", \"call\", \"call\", \"call\", \"call\", \"candomain\", \"candomain\", \"car\", \"car\", \"car\", \"car\", \"card\", \"card\", \"card\", \"card\", \"card\", \"career\", \"career\", \"chairman\", \"chance\", \"chance\", \"chance\", \"chance\", \"channel\", \"chat\", \"chat\", \"chat\", \"chat\", \"chat\", \"chat\", \"cheap\", \"cheap\", \"cheap\", \"cheap\", \"cheap\", \"cheap\", \"check\", \"check\", \"check\", \"check\", \"check\", \"check\", \"child\", \"child\", \"child\", \"chrome\", \"class\", \"class\", \"class\", \"class\", \"class\", \"click\", \"click\", \"client\", \"client\", \"client\", \"client\", \"client\", \"client\", \"cloud\", \"cloud\", \"cloud\", \"cloud\", \"club\", \"coin\", \"com\", \"com\", \"com\", \"com\", \"comment\", \"comment\", \"commission\", \"common\", \"common\", \"community\", \"community\", \"community\", \"community\", \"community\", \"community\", \"company\", \"company\", \"company\", \"company\", \"company\", \"company\", \"complaint\", \"concerned\", \"contract\", \"contract\", \"cookie\", \"core\", \"core\", \"coupon\", \"coupon\", \"coupon\", \"court\", \"cpanel\", \"cpanel\", \"creator\", \"credential\", \"cryptocurrency\", \"cryptocurrency\", \"customer\", \"customer\", \"customer\", \"customer\", \"customer\", \"customer\", \"damage\", \"data\", \"data\", \"datum\", \"datum\", \"datum\", \"datum\", \"datum\", \"day\", \"day\", \"day\", \"day\", \"day\", \"day\", \"deal\", \"deal\", \"deal\", \"deal\", \"decision\", \"decision\", \"decision\", \"degree\", \"department\", \"design\", \"design\", \"design\", \"design\", \"detail\", \"detail\", \"detail\", \"difference\", \"difference\", \"digital\", \"digital\", \"digital\", \"digital\", \"digitalmarketing\", \"discount\", \"discount\", \"dns\", \"dns\", \"dns\", \"dns\", \"dns\", \"domain\", \"domain\", \"domain\", \"domain\", \"domain\", \"domain\", \"domaine\", \"domainforsale\", \"domainnamesforsale\", \"dot\", \"dot\", \"dot\", \"double\", \"downim\", \"download\", \"e\", \"e\", \"easy\", \"easy\", \"easy\", \"easy\", \"easy\", \"easy\", \"economy\", \"election\", \"elementor\", \"email\", \"email\", \"email\", \"email\", \"email\", \"email\", \"employee\", \"employee\", \"engineer\", \"engineer\", \"entrepreneur\", \"entrepreneur\", \"entrepreneur\", \"entrepreneurship\", \"environment\", \"epik\", \"error\", \"error\", \"error\", \"error\", \"error\", \"error\", \"estas\", \"et\", \"eth\", \"ethereum\", \"exact\", \"exciting\", \"exciting\", \"expectation\", \"eye\", \"favor\", \"file\", \"file\", \"file\", \"file\", \"file\", \"firm\", \"forex\", \"forwarding\", \"free\", \"free\", \"free\", \"free\", \"free\", \"free\", \"ft\", \"full\", \"full\", \"full\", \"full\", \"full\", \"full\", \"funny\", \"gap\", \"giant\", \"gift\", \"gift\", \"gift\", \"gmail\", \"good\", \"good\", \"good\", \"good\", \"good\", \"good\", \"government\", \"grace\", \"great\", \"great\", \"great\", \"great\", \"great\", \"great\", \"group\", \"group\", \"growth\", \"h\", \"hold\", \"hold\", \"holder\", \"host\", \"host\", \"host\", \"host\", \"host\", \"host\", \"hostgator\", \"hostgator\", \"hostinger\", \"hour\", \"hour\", \"hour\", \"hour\", \"hour\", \"hour\", \"hub\", \"idea\", \"idea\", \"idea\", \"idea\", \"idea\", \"idea\", \"impact\", \"impression\", \"improvement\", \"inflation\", \"info\", \"info\", \"info\", \"info\", \"insight\", \"insight\", \"internal\", \"internet\", \"internet\", \"internet\", \"internet\", \"internet\", \"internet\", \"interview\", \"investor\", \"investor\", \"ip\", \"ip\", \"issue\", \"issue\", \"issue\", \"issue\", \"issue\", \"issue\", \"item\", \"jewellery\", \"jewellery\", \"jewellery\", \"jewelry\", \"jewelry\", \"job\", \"job\", \"job\", \"job\", \"job\", \"joke\", \"joke\", \"king\", \"knowledge\", \"lander\", \"last\", \"last\", \"last\", \"last\", \"last\", \"last\", \"late\", \"late\", \"late\", \"late\", \"launch\", \"launch\", \"lawsuit\", \"legit\", \"legit\", \"lesson\", \"lesson\", \"lesson\", \"letter\", \"life\", \"life\", \"life\", \"life\", \"life\", \"link\", \"link\", \"link\", \"link\", \"link\", \"listing\", \"listing\", \"little\", \"little\", \"little\", \"little\", \"load\", \"load\", \"local\", \"local\", \"local\", \"local\", \"logo\", \"logo\", \"logo\", \"long\", \"long\", \"long\", \"long\", \"long\", \"long\", \"look\", \"look\", \"look\", \"look\", \"look\", \"loss\", \"loss\", \"luck\", \"machine\", \"main\", \"main\", \"many\", \"many\", \"many\", \"many\", \"many\", \"many\", \"market\", \"market\", \"market\", \"market\", \"market\", \"market\", \"marketing\", \"marketing\", \"marketing\", \"marketing\", \"marketing\", \"marketing\", \"maximum\", \"measure\", \"medium\", \"medium\", \"medium\", \"medium\", \"mess\", \"metaverse\", \"metaverse\", \"minute\", \"minute\", \"minute\", \"minute\", \"minute\", \"minute\", \"month\", \"month\", \"month\", \"month\", \"month\", \"month\", \"monthly\", \"multifactor\", \"music\", \"music\", \"music\", \"music\", \"n\", \"name\", \"name\", \"name\", \"name\", \"name\", \"name\", \"namecheap\", \"namecheap\", \"new\", \"new\", \"new\", \"new\", \"new\", \"new\", \"night\", \"night\", \"night\", \"night\", \"night\", \"nightmare\", \"nocode\", \"number\", \"number\", \"number\", \"number\", \"number\", \"number\", \"old\", \"old\", \"old\", \"old\", \"old\", \"olhardigital\", \"online\", \"online\", \"online\", \"online\", \"online\", \"online\", \"operation\", \"order\", \"order\", \"order\", \"order\", \"original\", \"other\", \"other\", \"other\", \"other\", \"other\", \"owner\", \"owner\", \"owner\", \"owner\", \"owner\", \"ownership\", \"page\", \"page\", \"page\", \"page\", \"page\", \"page\", \"para\", \"para\", \"party\", \"party\", \"party\", \"password\", \"password\", \"pathetic\", \"payment\", \"payment\", \"payment\", \"payment\", \"payment\", \"payment\", \"people\", \"people\", \"people\", \"people\", \"people\", \"people\", \"peque\", \"perfect\", \"perfect\", \"period\", \"permission\", \"ph\", \"phone\", \"phone\", \"phone\", \"phone\", \"phone\", \"phone\", \"photo\", \"photo\", \"php\", \"php\", \"php\", \"picture\", \"platform\", \"platform\", \"platform\", \"platform\", \"platform\", \"policy\", \"policy\", \"popular\", \"popular\", \"popular\", \"popular\", \"por\", \"porque\", \"portfolio\", \"portfolio\", \"portfolio\", \"portfolio\", \"post\", \"post\", \"post\", \"post\", \"post\", \"premium\", \"premium\", \"premium\", \"premium\", \"price\", \"price\", \"price\", \"price\", \"problem\", \"problem\", \"problem\", \"problem\", \"problem\", \"problema\", \"product\", \"product\", \"product\", \"product\", \"product\", \"product\", \"program\", \"program\", \"programmer\", \"promo\", \"proud\", \"proud\", \"provider\", \"provider\", \"provider\", \"provider\", \"publieditorial\", \"purpose\", \"purpose\", \"query\", \"r\", \"r\", \"r\", \"r\", \"r\", \"rare\", \"re\", \"record\", \"record\", \"record\", \"record\", \"record\", \"record\", \"registrar\", \"registrar\", \"registrar\", \"registrar\", \"registration\", \"registration\", \"registration\", \"registration\", \"registration\", \"regular\", \"relationship\", \"reply\", \"reply\", \"reply\", \"reply\", \"reply\", \"report\", \"report\", \"report\", \"report\", \"report\", \"responsibility\", \"revenue\", \"revenue\", \"revenue\", \"right\", \"right\", \"right\", \"right\", \"right\", \"right\", \"roll\", \"saas\", \"sabe\", \"sad\", \"sale\", \"sale\", \"sale\", \"sale\", \"sale\", \"sale\", \"sample\", \"sample\", \"season\", \"security\", \"security\", \"security\", \"security\", \"security\", \"security\", \"senior\", \"seo\", \"seo\", \"seo\", \"seo\", \"separate\", \"ser\", \"server\", \"server\", \"server\", \"server\", \"server\", \"service\", \"service\", \"service\", \"service\", \"service\", \"service\", \"session\", \"session\", \"session\", \"session\", \"sftp\", \"share\", \"share\", \"share\", \"share\", \"share\", \"share\", \"signature\", \"sing\", \"site\", \"site\", \"site\", \"site\", \"site\", \"site\", \"size\", \"size\", \"small\", \"small\", \"small\", \"small\", \"small\", \"small\", \"social\", \"social\", \"social\", \"social\", \"social\", \"social\", \"son\", \"sorry\", \"sorry\", \"sorry\", \"sorry\", \"spvlog\", \"spvlog\", \"square\", \"startup\", \"startup\", \"steal\", \"strategy\", \"strategy\", \"strategy\", \"strategy\", \"strategy\", \"strategy\", \"stress\", \"student\", \"studio\", \"studio\", \"study\", \"stupid\", \"super\", \"super\", \"support\", \"support\", \"support\", \"support\", \"support\", \"support\", \"swag\", \"target\", \"tax\", \"team\", \"team\", \"team\", \"team\", \"team\", \"team\", \"tech\", \"tech\", \"tech\", \"tech\", \"tech\", \"tech\", \"technical\", \"technical\", \"technical\", \"technology\", \"technology\", \"technology\", \"technology\", \"technology\", \"template\", \"theft\", \"theft\", \"thing\", \"thing\", \"thing\", \"thing\", \"thing\", \"thing\", \"third\", \"third\", \"third\", \"thought\", \"tier\", \"time\", \"time\", \"time\", \"time\", \"time\", \"time\", \"tip\", \"tld\", \"tld\", \"today\", \"today\", \"today\", \"today\", \"today\", \"today\", \"token\", \"tonight\", \"tonight\", \"tool\", \"tool\", \"tool\", \"tool\", \"tool\", \"track\", \"trading\", \"transaction\", \"transfer\", \"transfer\", \"transfer\", \"transfer\", \"trend\", \"unauthorized\", \"uniregistry\", \"unusual\", \"update\", \"update\", \"update\", \"update\", \"update\", \"update\", \"url\", \"url\", \"url\", \"usd\", \"use\", \"use\", \"use\", \"use\", \"use\", \"use\", \"user\", \"user\", \"user\", \"user\", \"user\", \"utility\", \"various\", \"video\", \"video\", \"video\", \"video\", \"video\", \"vlog\", \"vlog\", \"volume\", \"wait\", \"wallet\", \"water\", \"web\", \"web\", \"web\", \"web\", \"web\", \"web\", \"webdev\", \"webmail\", \"webmail\", \"website\", \"website\", \"website\", \"website\", \"website\", \"website\", \"websitebuilder\", \"week\", \"week\", \"week\", \"week\", \"week\", \"week\", \"well\", \"well\", \"well\", \"well\", \"well\", \"well\", \"whois\", \"whois\", \"whole\", \"whole\", \"whole\", \"woocommerce\", \"wordpress\", \"wordpress\", \"wordpress\", \"wordpress\", \"wordpress\", \"wordpress\", \"work\", \"work\", \"work\", \"work\", \"work\", \"work\", \"year\", \"year\", \"year\", \"year\", \"year\", \"year\", \"youtube\", \"zoho\"]}, \"R\": 30, \"lambda.step\": 0.01, \"plot.opts\": {\"xlab\": \"PC1\", \"ylab\": \"PC2\"}, \"topic.order\": [6, 1, 4, 5, 2, 3]};\n",
       "\n",
       "function LDAvis_load_lib(url, callback){\n",
       "  var s = document.createElement('script');\n",
       "  s.src = url;\n",
       "  s.async = true;\n",
       "  s.onreadystatechange = s.onload = callback;\n",
       "  s.onerror = function(){console.warn(\"failed to load library \" + url);};\n",
       "  document.getElementsByTagName(\"head\")[0].appendChild(s);\n",
       "}\n",
       "\n",
       "if(typeof(LDAvis) !== \"undefined\"){\n",
       "   // already loaded: just create the visualization\n",
       "   !function(LDAvis){\n",
       "       new LDAvis(\"#\" + \"ldavis_el1298019165789254728350372427\", ldavis_el1298019165789254728350372427_data);\n",
       "   }(LDAvis);\n",
       "}else if(typeof define === \"function\" && define.amd){\n",
       "   // require.js is available: use it to load d3/LDAvis\n",
       "   require.config({paths: {d3: \"https://d3js.org/d3.v5\"}});\n",
       "   require([\"d3\"], function(d3){\n",
       "      window.d3 = d3;\n",
       "      LDAvis_load_lib(\"https://cdn.jsdelivr.net/gh/bmabey/pyLDAvis@3.3.1/pyLDAvis/js/ldavis.v3.0.0.js\", function(){\n",
       "        new LDAvis(\"#\" + \"ldavis_el1298019165789254728350372427\", ldavis_el1298019165789254728350372427_data);\n",
       "      });\n",
       "    });\n",
       "}else{\n",
       "    // require.js not available: dynamically load d3 & LDAvis\n",
       "    LDAvis_load_lib(\"https://d3js.org/d3.v5.js\", function(){\n",
       "         LDAvis_load_lib(\"https://cdn.jsdelivr.net/gh/bmabey/pyLDAvis@3.3.1/pyLDAvis/js/ldavis.v3.0.0.js\", function(){\n",
       "                 new LDAvis(\"#\" + \"ldavis_el1298019165789254728350372427\", ldavis_el1298019165789254728350372427_data);\n",
       "            })\n",
       "         });\n",
       "}\n",
       "</script>"
      ],
      "text/plain": [
       "PreparedData(topic_coordinates=              x         y  topics  cluster       Freq\n",
       "topic                                                \n",
       "5      0.148338  0.018267       1        1  34.382363\n",
       "0     -0.042319  0.067136       2        1  18.706659\n",
       "3      0.234942 -0.074172       3        1  17.750362\n",
       "4      0.051576  0.073145       4        1  12.935058\n",
       "1     -0.189866 -0.258928       5        1   8.728555\n",
       "2     -0.202671  0.174552       6        1   7.497003, topic_info=           Term          Freq         Total Category  logprob  loglift\n",
       "3        domain  22367.000000  22367.000000  Default  30.0000  30.0000\n",
       "8          name   5990.000000   5990.000000  Default  29.0000  29.0000\n",
       "433   wordpress   3801.000000   3801.000000  Default  28.0000  28.0000\n",
       "68          web   4949.000000   4949.000000  Default  27.0000  27.0000\n",
       "2665    bigrock   2119.000000   2119.000000  Default  26.0000  26.0000\n",
       "...         ...           ...           ...      ...      ...      ...\n",
       "295        site    380.538418   4083.317636   Topic6  -4.5325   0.2176\n",
       "2588      third    152.684918    259.504622   Topic6  -5.4457   2.0603\n",
       "659        user    167.656203    887.261168   Topic6  -5.3522   0.9244\n",
       "848      report    148.202536    375.969414   Topic6  -5.4755   1.6597\n",
       "365    provider    155.420034    822.544005   Topic6  -5.4279   0.9244\n",
       "\n",
       "[429 rows x 6 columns], token_table=      Topic      Freq     Term\n",
       "term                          \n",
       "377       3  0.017491    abuse\n",
       "377       5  0.192403    abuse\n",
       "377       6  0.787103    abuse\n",
       "82        1  0.892961  account\n",
       "82        2  0.007747  account\n",
       "...     ...       ...      ...\n",
       "70        4  0.012548     year\n",
       "70        5  0.007092     year\n",
       "70        6  0.011730     year\n",
       "2458      2  0.995253  youtube\n",
       "5908      1  0.993786     zoho\n",
       "\n",
       "[1008 rows x 3 columns], R=30, lambda_step=0.01, plot_opts={'xlab': 'PC1', 'ylab': 'PC2'}, topic_order=[6, 1, 4, 5, 2, 3])"
      ]
     },
     "execution_count": 65,
     "metadata": {},
     "output_type": "execute_result"
    }
   ],
   "source": [
    "# Visualize the topics\n",
    "pyLDAvis.enable_notebook()\n",
    "vis = pyLDAvis.gensim_models.prepare(optimal_model, doc_term_matrix, dictionary)\n",
    "vis"
   ]
  },
  {
   "cell_type": "code",
   "execution_count": null,
   "id": "79728afc",
   "metadata": {},
   "outputs": [],
   "source": []
  },
  {
   "cell_type": "code",
   "execution_count": null,
   "id": "16bc45d0",
   "metadata": {},
   "outputs": [],
   "source": []
  },
  {
   "cell_type": "code",
   "execution_count": null,
   "id": "5024ca68",
   "metadata": {},
   "outputs": [],
   "source": []
  },
  {
   "cell_type": "code",
   "execution_count": null,
   "id": "7e2affaa",
   "metadata": {},
   "outputs": [],
   "source": []
  },
  {
   "cell_type": "code",
   "execution_count": 8,
   "id": "5cc00126",
   "metadata": {
    "ExecuteTime": {
     "end_time": "2022-10-03T12:10:12.932259Z",
     "start_time": "2022-10-03T11:58:07.412754Z"
    }
   },
   "outputs": [],
   "source": [
    "#Second Iteration with 7 topics\n",
    "# Creating the object for LDA model using gensim library\n",
    "LDA = gensim.models.ldamodel.LdaModel\n",
    "\n",
    "# Build LDA model\n",
    "lda_model = LDA(corpus=doc_term_matrix, id2word=dictionary, num_topics=7, random_state=100,\n",
    "                chunksize=1000, passes=50,iterations=100)\n"
   ]
  },
  {
   "cell_type": "code",
   "execution_count": 9,
   "id": "b1794794",
   "metadata": {
    "ExecuteTime": {
     "end_time": "2022-10-03T12:10:12.968214Z",
     "start_time": "2022-10-03T12:10:12.932259Z"
    }
   },
   "outputs": [
    {
     "data": {
      "text/plain": [
       "[(0,\n",
       "  '0.024*\"video\" + 0.018*\"news\" + 0.017*\"r\" + 0.012*\"right\" + 0.011*\"future\" + 0.010*\"internet\" + 0.009*\"check\" + 0.009*\"family\" + 0.008*\"ecommerce\" + 0.008*\"man\"'),\n",
       " (1,\n",
       "  '0.154*\"email\" + 0.033*\"datum\" + 0.027*\"user\" + 0.022*\"address\" + 0.021*\"breach\" + 0.017*\"password\" + 0.017*\"detail\" + 0.016*\"account\" + 0.015*\"wordpress\" + 0.014*\"free\"'),\n",
       " (2,\n",
       "  '0.023*\"rare\" + 0.014*\"offer\" + 0.013*\"class\" + 0.013*\"e\" + 0.012*\"step\" + 0.012*\"recent\" + 0.010*\"hacker\" + 0.008*\"logo\" + 0.008*\"podcast\" + 0.008*\"super\"'),\n",
       " (3,\n",
       "  '0.027*\"customer\" + 0.026*\"service\" + 0.025*\"site\" + 0.022*\"time\" + 0.020*\"website\" + 0.017*\"support\" + 0.015*\"day\" + 0.014*\"issue\" + 0.012*\"company\" + 0.011*\"year\"'),\n",
       " (4,\n",
       "  '0.081*\"web\" + 0.059*\"website\" + 0.055*\"wordpress\" + 0.039*\"cheap\" + 0.037*\"bigrock\" + 0.036*\"amp\" + 0.013*\"use\" + 0.013*\"site\" + 0.013*\"easy\" + 0.012*\"bid\"'),\n",
       " (5,\n",
       "  '0.247*\"domain\" + 0.062*\"name\" + 0.028*\"registration\" + 0.023*\"com\" + 0.019*\"year\" + 0.019*\"sale\" + 0.017*\"registrar\" + 0.016*\"business\" + 0.010*\"premium\" + 0.010*\"price\"'),\n",
       " (6,\n",
       "  '0.028*\"social\" + 0.027*\"medium\" + 0.021*\"business\" + 0.015*\"amp\" + 0.014*\"marketing\" + 0.012*\"company\" + 0.012*\"new\" + 0.011*\"today\" + 0.011*\"people\" + 0.011*\"entrepreneur\"')]"
      ]
     },
     "execution_count": 9,
     "metadata": {},
     "output_type": "execute_result"
    }
   ],
   "source": [
    "lda_model.print_topics()  #Topics with their keywords (scored from highest to lowest)"
   ]
  },
  {
   "cell_type": "code",
   "execution_count": 10,
   "id": "e6f117d7",
   "metadata": {
    "ExecuteTime": {
     "end_time": "2022-10-03T12:13:13.185208Z",
     "start_time": "2022-10-03T12:12:55.497317Z"
    }
   },
   "outputs": [
    {
     "data": {
      "text/html": [
       "\n",
       "<link rel=\"stylesheet\" type=\"text/css\" href=\"https://cdn.jsdelivr.net/gh/bmabey/pyLDAvis@3.3.1/pyLDAvis/js/ldavis.v1.0.0.css\">\n",
       "\n",
       "\n",
       "<div id=\"ldavis_el2617216429961942088834346787\"></div>\n",
       "<script type=\"text/javascript\">\n",
       "\n",
       "var ldavis_el2617216429961942088834346787_data = {\"mdsDat\": {\"x\": [0.2386212660653289, 0.21849609585130428, 0.11122421797523989, 0.04852811479902464, -0.18738111069397728, -0.20852886200933654, -0.22095972198758365], \"y\": [-0.1350016029774685, -0.008408952580922663, 0.3404419275723467, -0.16038685287908463, -0.14768893020724388, 0.06690507349121876, 0.04413933758115396], \"topics\": [1, 2, 3, 4, 5, 6, 7], \"cluster\": [1, 1, 1, 1, 1, 1, 1], \"Freq\": [28.11873566604191, 20.364740028823512, 18.08047682505284, 12.586018071043359, 7.448180541520948, 7.139144729422105, 6.262704138095325]}, \"tinfo\": {\"Term\": [\"domain\", \"email\", \"web\", \"name\", \"website\", \"wordpress\", \"cheap\", \"bigrock\", \"customer\", \"social\", \"medium\", \"registration\", \"amp\", \"site\", \"service\", \"com\", \"datum\", \"time\", \"support\", \"account\", \"sale\", \"business\", \"registrar\", \"user\", \"issue\", \"year\", \"video\", \"address\", \"marketing\", \"hour\", \"customer\", \"support\", \"issue\", \"hour\", \"server\", \"client\", \"bad\", \"popular\", \"call\", \"phone\", \"problem\", \"number\", \"guy\", \"able\", \"minute\", \"chat\", \"beat\", \"need\", \"error\", \"plan\", \"solution\", \"due\", \"fee\", \"url\", \"launch\", \"card\", \"whois\", \"information\", \"message\", \"wrong\", \"process\", \"service\", \"week\", \"time\", \"site\", \"last\", \"day\", \"team\", \"account\", \"many\", \"company\", \"website\", \"help\", \"thing\", \"good\", \"year\", \"new\", \"way\", \"people\", \"social\", \"medium\", \"entrepreneur\", \"other\", \"update\", \"late\", \"small\", \"ad\", \"job\", \"employee\", \"buyer\", \"several\", \"technology\", \"digital\", \"community\", \"woman\", \"share\", \"story\", \"event\", \"group\", \"partner\", \"abortion\", \"key\", \"local\", \"art\", \"opportunity\", \"office\", \"space\", \"action\", \"article\", \"marketing\", \"life\", \"look\", \"business\", \"today\", \"security\", \"people\", \"part\", \"company\", \"new\", \"amp\", \"owner\", \"right\", \"page\", \"online\", \"good\", \"payment\", \"platform\", \"value\", \"great\", \"thing\", \"time\", \"domain\", \"name\", \"registration\", \"com\", \"sale\", \"registrar\", \"premium\", \"dns\", \"auction\", \"portfolio\", \"transfer\", \"renewal\", \"vlog\", \"candomain\", \"spvlog\", \"startup\", \"crypto\", \"ethereum\", \"buy\", \"domainname\", \"broker\", \"dot\", \"seller\", \"lesson\", \"career\", \"blockchain\", \"couple\", \"review\", \"jewellery\", \"authentication\", \"price\", \"market\", \"full\", \"available\", \"year\", \"business\", \"brand\", \"possible\", \"high\", \"day\", \"amp\", \"top\", \"today\", \"web\", \"bigrock\", \"easy\", \"bid\", \"size\", \"builder\", \"little\", \"design\", \"comhow\", \"namecheap\", \"template\", \"refund\", \"websitebuilder\", \"low\", \"program\", \"coupon\", \"hostinger\", \"hack\", \"appraisal\", \"promo\", \"government\", \"transaction\", \"complaint\", \"text\", \"webdesign\", \"html\", \"safe\", \"role\", \"package\", \"secure\", \"cheap\", \"wordpress\", \"use\", \"website\", \"idea\", \"system\", \"amp\", \"product\", \"month\", \"whole\", \"check\", \"store\", \"host\", \"code\", \"free\", \"site\", \"blog\", \"new\", \"email\", \"datum\", \"user\", \"address\", \"breach\", \"password\", \"detail\", \"order\", \"mail\", \"cpanel\", \"party\", \"gmail\", \"legit\", \"data\", \"signature\", \"apple\", \"form\", \"notice\", \"admin\", \"contract\", \"token\", \"claim\", \"button\", \"legitimate\", \"awful\", \"letter\", \"ready\", \"hostgator\", \"daily\", \"mistake\", \"student\", \"contact\", \"account\", \"free\", \"wordpress\", \"access\", \"private\", \"provider\", \"video\", \"news\", \"r\", \"future\", \"family\", \"man\", \"traffic\", \"database\", \"third\", \"abuse\", \"type\", \"c\", \"listing\", \"wait\", \"none\", \"nice\", \"shopify\", \"matter\", \"lol\", \"photo\", \"php\", \"session\", \"glad\", \"resource\", \"commercial\", \"cash\", \"center\", \"total\", \"smart\", \"black\", \"ecommerce\", \"right\", \"internet\", \"check\", \"available\", \"link\", \"rare\", \"offer\", \"class\", \"e\", \"step\", \"recent\", \"hacker\", \"logo\", \"podcast\", \"super\", \"insight\", \"newsletter\", \"kid\", \"music\", \"view\", \"trend\", \"holiday\", \"image\", \"chance\", \"strong\", \"olhardigital\", \"publieditorial\", \"gift\", \"politic\", \"proud\", \"lawsuit\", \"guide\", \"trial\", \"piece\", \"original\", \"live\"], \"Freq\": [21113.0, 5403.0, 4786.0, 5300.0, 6269.0, 3808.0, 2576.0, 2176.0, 3521.0, 2663.0, 2587.0, 2387.0, 4439.0, 4144.0, 3788.0, 1949.0, 1154.0, 3443.0, 2220.0, 1942.0, 1591.0, 3795.0, 1487.0, 945.0, 1908.0, 3619.0, 793.0, 785.0, 1392.0, 1525.0, 3520.2632098055124, 2219.4031401625693, 1907.2161394878922, 1525.1106303302338, 1357.7940089193391, 1239.238865031815, 1218.0933294356214, 1012.101484854198, 908.23376903468, 820.7501598416765, 814.7053291692329, 774.7841569315885, 731.3813110483109, 654.5057591830333, 630.1755134961412, 611.5367087611686, 577.098886676387, 551.6044573299087, 549.7473999108265, 546.1299450102103, 537.7142883375868, 497.80414794064086, 484.96401241311554, 473.3762843692494, 455.6041126101512, 443.4078719415419, 435.37273651922743, 407.22247650376926, 396.73740720399763, 377.96207957769263, 378.1508878316628, 3491.0538621814912, 1262.6850801901344, 2975.5011512388774, 3350.0225634807593, 1135.8451166426398, 2004.8995351982364, 1142.2591586110632, 1382.0610919104677, 997.6681290389158, 1622.9224527350952, 2642.1284429990765, 862.1953329744601, 1000.531772393321, 1226.6765341201967, 1525.809251771438, 1324.6690685822134, 840.0932100935036, 1021.4537664331776, 2662.294124377819, 2586.1703077492, 1023.4240420055196, 955.1722166925208, 941.3337689125262, 938.2996482363413, 664.1926763034905, 523.8076375673322, 515.9223972073644, 500.7266385462936, 427.25710681570325, 395.0955887851698, 389.5702896893446, 385.4394077508259, 378.3742653318645, 373.49971363890586, 362.3720829968421, 358.0308724793043, 357.29324536333365, 350.9706760718308, 338.78721744802766, 319.4539075659795, 317.2944028578803, 309.8424644364515, 306.93613437382265, 300.20076335429167, 298.6401960192198, 294.4352805693801, 285.48268645429613, 278.7951417992431, 1350.7116932236222, 630.4917177923854, 633.6301746928082, 2005.544367298338, 1068.6130409731727, 651.730920607959, 1026.732632749069, 449.649558373228, 1189.5359049668878, 1134.809921603735, 1405.3227321750023, 507.38705846866185, 589.6263833105664, 714.3744612568198, 524.255688019765, 731.3881588914728, 473.6583038205977, 537.0925796635322, 430.1392663244546, 477.4309691985949, 461.6473289548815, 467.5959260655576, 21112.647134589624, 5299.756300219228, 2386.182795130616, 1948.263007616979, 1590.7452403801967, 1487.0440322343813, 861.9419100540226, 762.5051619253628, 745.9891320130536, 736.34853548522, 719.4480643632755, 527.7517842634285, 514.0130778221746, 510.0548116772789, 510.01821147528653, 498.07851821991125, 373.43027134273115, 303.00913807108316, 302.52870577793806, 281.3256643307917, 268.9205802333616, 253.57327305774535, 234.11082753596858, 236.43627164018892, 231.13327592404613, 226.477519610563, 225.2362521738297, 220.88003334407887, 216.88643866544666, 213.73315839640128, 852.7151620642439, 852.5859287777301, 489.63980715250875, 544.766586309512, 1656.8370188140013, 1371.3974083260389, 420.8830094505047, 283.7335880433021, 329.9994622719184, 369.07834439334425, 315.03089366860206, 287.55304365013137, 293.39447165378175, 4785.821979412889, 2175.293936888286, 764.0511679898365, 723.7593938865722, 676.6658489548063, 525.7772335994133, 493.47691364829296, 490.05613839751476, 472.08336121827364, 451.49746340196083, 350.7829662685912, 331.82919690167853, 323.63834644676723, 309.1203149206071, 281.3575057011773, 265.31880073447525, 190.06942175370588, 184.54979847498433, 181.76197093584167, 163.38373432129794, 162.58808553381243, 159.7133817337318, 159.36601500595017, 151.74199722887673, 148.15980724077227, 149.72097959741453, 145.07747733769213, 145.09552757181473, 138.90230551778993, 138.5023233949107, 2295.562439373231, 3280.2216600491247, 795.6608486381141, 3489.500140956104, 529.3610003895791, 395.0408125038977, 2117.2395152278423, 670.7022729062509, 713.0769748692784, 256.899950234141, 467.1357989610668, 294.0177324408152, 548.8590707627698, 384.9686712107093, 537.3700483331436, 793.7449511440709, 305.28553230756245, 335.42582707708107, 5403.147071600991, 1153.3230834144117, 944.47123504065, 784.4174122358952, 721.150082458464, 611.4443830627445, 596.3074209641154, 369.51049876804916, 348.21525045087304, 326.7598323416765, 319.26832577744784, 241.5059408632554, 239.07995130692885, 235.2161006331919, 215.51457776190398, 210.38027156082222, 210.2282215783727, 196.9630229211016, 175.98172966027963, 175.7650158717711, 167.26403362733492, 166.29212843697678, 165.7145087577402, 159.71354384963024, 155.89363182284578, 155.5818867953063, 152.27425944776314, 148.59456147133187, 146.27136281076332, 144.067865859031, 144.1312363889688, 366.6036069416497, 560.1707323272917, 495.05905983638826, 527.6893331264349, 277.2658932548045, 227.0040755636283, 203.224951305765, 792.4255155768172, 605.3629089638358, 569.1218030006794, 378.0953116930512, 298.8747656769653, 271.9230926003949, 270.2876465234075, 268.66534979315236, 267.08454097788535, 259.24274446537714, 255.19877114815117, 214.73947086923883, 204.87404010694, 203.95876397938375, 196.06138872448219, 186.01171019448634, 184.38974298246671, 181.34442959773156, 180.85732318889, 179.86486133749617, 173.14929538866394, 158.6814206652877, 156.8217452746919, 156.66975891138813, 153.2881800129631, 153.22466145022784, 151.4312192249743, 148.3659621413171, 146.10130883925038, 141.23586225218347, 283.6937036524823, 401.42918837035256, 320.36792210788633, 313.23030606471366, 198.59453662313067, 163.62731677585847, 674.8394860223297, 417.4578405737344, 393.18253921944677, 375.5903602488958, 366.8805634794601, 349.3988898403434, 288.18791099856844, 241.67802296443955, 231.30035001174184, 225.3118089713252, 207.78717480163968, 202.25122659848742, 195.0214276778908, 191.121833833264, 181.07925577200075, 179.65109687161473, 174.49007943797, 169.4540343391648, 168.54381067867374, 164.19002725806226, 161.3026556421786, 161.3026556421786, 157.57912977144017, 157.38500213202593, 155.1845172306292, 150.89299285511953, 143.12973178707213, 140.54662148733485, 139.8523154437942, 137.75874321171113, 215.72961473108217], \"Total\": [21113.0, 5403.0, 4786.0, 5300.0, 6269.0, 3808.0, 2576.0, 2176.0, 3521.0, 2663.0, 2587.0, 2387.0, 4439.0, 4144.0, 3788.0, 1949.0, 1154.0, 3443.0, 2220.0, 1942.0, 1591.0, 3795.0, 1487.0, 945.0, 1908.0, 3619.0, 793.0, 785.0, 1392.0, 1525.0, 3521.1200003688796, 2220.2589272100213, 1908.0718745893118, 1525.966322746926, 1358.6498870634475, 1240.0953495673732, 1218.9498043123526, 1012.9790551745637, 909.0893779559472, 821.6057931046956, 815.5609740486138, 775.6410437344794, 732.2374173592538, 655.362362299364, 631.031718978252, 612.3922472528233, 577.9661287099849, 552.461013036691, 550.6033704874674, 546.986218049874, 538.5730910036182, 498.6609696986993, 485.8212006044274, 474.2380717962449, 456.4702598760614, 444.2643840857532, 436.23016477583246, 408.07881879152563, 397.59361319012726, 378.81883181885604, 379.0082439529675, 3788.7943253614385, 1368.6584535169352, 3443.8180496580185, 4144.490220364676, 1273.2274365445119, 2541.6956147286455, 1383.3883639186458, 1942.9375182432182, 1345.6648051736677, 2913.258985485664, 6269.723266944626, 1112.6151415696154, 1462.9002507265295, 2304.132918993079, 3619.8691423577907, 2795.492128292601, 1218.063638576384, 2048.907249290983, 2663.1662287282843, 2587.0430315646363, 1024.2889452873194, 956.036578190496, 942.1981525730524, 939.1639491214247, 665.0560427818236, 524.6718738612358, 516.7865983755494, 501.59033435096603, 428.12388110184133, 395.9605714305841, 390.43617908142573, 386.3039520461289, 379.23817946731384, 374.3631834038064, 363.23604197937004, 358.89485135188426, 358.15814466550154, 351.83462770329237, 339.65143207427633, 320.3247426107999, 318.16319078960066, 310.7064489225342, 307.80195963476376, 301.0647419944178, 299.50591715018436, 295.29971942769015, 286.3477387946023, 279.65991611841423, 1392.8270129772884, 749.1008524232637, 773.9290031689939, 3795.8142763151395, 1872.9355557589067, 986.7559256449546, 2048.907249290983, 561.10009533605, 2913.258985485664, 2795.492128292601, 4439.843483157115, 719.4186510309627, 991.7593731266487, 1604.3352793836184, 847.0786242258672, 2304.132918993079, 722.2056349413573, 1103.606211083119, 541.5622818870498, 1097.5119388692945, 1462.9002507265295, 3443.8180496580185, 21113.524624654547, 5300.633074490097, 2387.0667243585053, 1949.139154896796, 1591.6220916688303, 1487.92098498995, 862.8183908981392, 763.3827961310697, 746.8650898438518, 737.2264986135391, 720.3257538664955, 528.6293637870265, 514.88866870011, 510.93036823985346, 510.8937683035291, 498.9550458999987, 374.30725091289463, 303.88733795410025, 303.40575840074047, 282.2012427910929, 269.79867422799765, 254.45009551040465, 234.99113090395514, 237.32541281654895, 232.019871398699, 227.35408147079323, 226.1146915469795, 221.75872595219775, 217.76317477129913, 214.62572954109535, 991.6990975421407, 1077.3546121150239, 577.602638275949, 744.0785812798342, 3619.8691423577907, 3795.8142763151395, 804.8439711105309, 383.7614980368929, 790.054039664621, 2541.6956147286455, 4439.843483157115, 597.1462908901809, 1872.9355557589067, 4786.687205475207, 2176.170102616312, 764.9160259931675, 724.6258250425399, 677.5325384727735, 526.6419236066025, 494.3415934114556, 490.9218473641895, 472.9646875230411, 452.37025807936516, 351.646902689872, 332.6960040905922, 324.5035681492497, 309.9864629858014, 282.2246581302452, 266.18486487111016, 190.9341972956532, 185.41783579101417, 182.6289138724207, 164.250000255939, 163.45595299002966, 160.57963397961015, 160.2329033785278, 152.60882608996496, 149.0242994015801, 150.60521801620376, 145.94290911094657, 145.96329807356696, 139.76933902884062, 139.36799449975257, 2576.9174218402045, 3808.6265238580295, 1027.6857665986306, 6269.723266944626, 679.4417269622621, 503.97333973056016, 4439.843483157115, 1107.111507387371, 1379.4359244722393, 318.3422858668933, 781.0717938789548, 413.12953038369994, 1315.2664629880364, 835.1611055232298, 1720.0800411963335, 4144.490220364676, 658.915003498341, 2795.492128292601, 5403.995391748424, 1154.1716715701755, 945.3199754483047, 785.2656135385009, 721.9990270428459, 612.2925835502317, 597.1572569426169, 370.3593581059793, 349.06322657879406, 327.60792352681693, 320.11863786551606, 242.35343781277678, 239.92956623152676, 236.0650560287088, 216.36187235454338, 211.22821595932874, 211.07721547884822, 197.8124574340952, 176.82997859579157, 176.61498420688196, 168.11430770330426, 167.14153865149422, 166.5647538421733, 160.5640154082825, 156.74277124627747, 156.43153978982596, 153.1233404388838, 149.44380612372493, 147.12058828733518, 144.91739103418934, 144.9814975781455, 597.3005306186672, 1942.9375182432182, 1720.0800411963335, 3808.6265238580295, 804.9534128734144, 486.3048986695945, 814.3788401303385, 793.2649488998567, 606.2025819160019, 569.9597739677668, 378.93434117523714, 299.71384594030377, 272.7615707669562, 271.1275230710354, 269.50676876979395, 267.92612393320957, 260.0821127515809, 256.0385208464376, 215.57738240150317, 205.71460170781094, 204.79847198726299, 196.9001604765361, 186.85079297939305, 185.22896072406087, 182.18372312597833, 181.69671385893884, 180.7040613757362, 173.98840004909707, 159.52139682104357, 157.66083803142521, 157.50866172865702, 154.12687619071733, 154.06453999782744, 152.2709609038132, 149.2062181282242, 146.94103907238093, 142.07460130021383, 375.8679064993734, 991.7593731266487, 818.453605061443, 781.0717938789548, 744.0785812798342, 648.9771482773197, 675.6875056091843, 418.3034139230101, 394.02779081347455, 376.4347514993285, 367.7264131512551, 350.24465089347893, 289.0341902238471, 242.5236398005342, 232.14533801925742, 226.15977126533917, 208.63320993700188, 203.09655889507465, 195.86742595322596, 191.96703544138262, 181.92511592335973, 180.49649808494834, 175.3356516346309, 170.2996760065345, 169.38928781412326, 165.0358498899509, 162.14662841905604, 162.14662841905604, 158.42402106377315, 158.2325043334435, 156.03011414822564, 151.73951661471108, 143.97611174669998, 141.3930222259638, 140.6978649332575, 138.60466313735213, 330.6262263677158], \"Category\": [\"Default\", \"Default\", \"Default\", \"Default\", \"Default\", \"Default\", \"Default\", \"Default\", \"Default\", \"Default\", \"Default\", \"Default\", \"Default\", \"Default\", \"Default\", \"Default\", \"Default\", \"Default\", \"Default\", \"Default\", \"Default\", \"Default\", \"Default\", \"Default\", \"Default\", \"Default\", \"Default\", \"Default\", \"Default\", \"Default\", \"Topic1\", \"Topic1\", \"Topic1\", \"Topic1\", \"Topic1\", \"Topic1\", \"Topic1\", \"Topic1\", \"Topic1\", \"Topic1\", \"Topic1\", \"Topic1\", \"Topic1\", \"Topic1\", \"Topic1\", \"Topic1\", \"Topic1\", \"Topic1\", \"Topic1\", \"Topic1\", \"Topic1\", \"Topic1\", \"Topic1\", \"Topic1\", \"Topic1\", \"Topic1\", \"Topic1\", \"Topic1\", \"Topic1\", \"Topic1\", \"Topic1\", \"Topic1\", \"Topic1\", \"Topic1\", \"Topic1\", \"Topic1\", \"Topic1\", \"Topic1\", \"Topic1\", \"Topic1\", \"Topic1\", \"Topic1\", \"Topic1\", \"Topic1\", \"Topic1\", \"Topic1\", \"Topic1\", \"Topic1\", \"Topic1\", \"Topic2\", \"Topic2\", \"Topic2\", \"Topic2\", \"Topic2\", \"Topic2\", \"Topic2\", \"Topic2\", \"Topic2\", \"Topic2\", \"Topic2\", \"Topic2\", \"Topic2\", \"Topic2\", \"Topic2\", \"Topic2\", \"Topic2\", \"Topic2\", \"Topic2\", \"Topic2\", \"Topic2\", \"Topic2\", \"Topic2\", \"Topic2\", \"Topic2\", \"Topic2\", \"Topic2\", \"Topic2\", \"Topic2\", \"Topic2\", \"Topic2\", \"Topic2\", \"Topic2\", \"Topic2\", \"Topic2\", \"Topic2\", \"Topic2\", \"Topic2\", \"Topic2\", \"Topic2\", \"Topic2\", \"Topic2\", \"Topic2\", \"Topic2\", \"Topic2\", \"Topic2\", \"Topic2\", \"Topic2\", \"Topic2\", \"Topic2\", \"Topic2\", \"Topic2\", \"Topic3\", \"Topic3\", \"Topic3\", \"Topic3\", \"Topic3\", \"Topic3\", \"Topic3\", \"Topic3\", \"Topic3\", \"Topic3\", \"Topic3\", \"Topic3\", \"Topic3\", \"Topic3\", \"Topic3\", \"Topic3\", \"Topic3\", \"Topic3\", \"Topic3\", \"Topic3\", \"Topic3\", \"Topic3\", \"Topic3\", \"Topic3\", \"Topic3\", \"Topic3\", \"Topic3\", \"Topic3\", \"Topic3\", \"Topic3\", \"Topic3\", \"Topic3\", \"Topic3\", \"Topic3\", \"Topic3\", \"Topic3\", \"Topic3\", \"Topic3\", \"Topic3\", \"Topic3\", \"Topic3\", \"Topic3\", \"Topic3\", \"Topic4\", \"Topic4\", \"Topic4\", \"Topic4\", \"Topic4\", \"Topic4\", \"Topic4\", \"Topic4\", \"Topic4\", \"Topic4\", \"Topic4\", \"Topic4\", \"Topic4\", \"Topic4\", \"Topic4\", \"Topic4\", \"Topic4\", \"Topic4\", \"Topic4\", \"Topic4\", \"Topic4\", \"Topic4\", \"Topic4\", \"Topic4\", \"Topic4\", \"Topic4\", \"Topic4\", \"Topic4\", \"Topic4\", \"Topic4\", \"Topic4\", \"Topic4\", \"Topic4\", \"Topic4\", \"Topic4\", \"Topic4\", \"Topic4\", \"Topic4\", \"Topic4\", \"Topic4\", \"Topic4\", \"Topic4\", \"Topic4\", \"Topic4\", \"Topic4\", \"Topic4\", \"Topic4\", \"Topic4\", \"Topic5\", \"Topic5\", \"Topic5\", \"Topic5\", \"Topic5\", \"Topic5\", \"Topic5\", \"Topic5\", \"Topic5\", \"Topic5\", \"Topic5\", \"Topic5\", \"Topic5\", \"Topic5\", \"Topic5\", \"Topic5\", \"Topic5\", \"Topic5\", \"Topic5\", \"Topic5\", \"Topic5\", \"Topic5\", \"Topic5\", \"Topic5\", \"Topic5\", \"Topic5\", \"Topic5\", \"Topic5\", \"Topic5\", \"Topic5\", \"Topic5\", \"Topic5\", \"Topic5\", \"Topic5\", \"Topic5\", \"Topic5\", \"Topic5\", \"Topic5\", \"Topic6\", \"Topic6\", \"Topic6\", \"Topic6\", \"Topic6\", \"Topic6\", \"Topic6\", \"Topic6\", \"Topic6\", \"Topic6\", \"Topic6\", \"Topic6\", \"Topic6\", \"Topic6\", \"Topic6\", \"Topic6\", \"Topic6\", \"Topic6\", \"Topic6\", \"Topic6\", \"Topic6\", \"Topic6\", \"Topic6\", \"Topic6\", \"Topic6\", \"Topic6\", \"Topic6\", \"Topic6\", \"Topic6\", \"Topic6\", \"Topic6\", \"Topic6\", \"Topic6\", \"Topic6\", \"Topic6\", \"Topic6\", \"Topic7\", \"Topic7\", \"Topic7\", \"Topic7\", \"Topic7\", \"Topic7\", \"Topic7\", \"Topic7\", \"Topic7\", \"Topic7\", \"Topic7\", \"Topic7\", \"Topic7\", \"Topic7\", \"Topic7\", \"Topic7\", \"Topic7\", \"Topic7\", \"Topic7\", \"Topic7\", \"Topic7\", \"Topic7\", \"Topic7\", \"Topic7\", \"Topic7\", \"Topic7\", \"Topic7\", \"Topic7\", \"Topic7\", \"Topic7\", \"Topic7\"], \"logprob\": [30.0, 29.0, 28.0, 27.0, 26.0, 25.0, 24.0, 23.0, 22.0, 21.0, 20.0, 19.0, 18.0, 17.0, 16.0, 15.0, 14.0, 13.0, 12.0, 11.0, 10.0, 9.0, 8.0, 7.0, 6.0, 5.0, 4.0, 3.0, 2.0, 1.0, -3.6297, -4.091, -4.2426, -4.4662, -4.5824, -4.6738, -4.691, -4.8762, -4.9845, -5.0858, -5.0932, -5.1434, -5.2011, -5.3121, -5.35, -5.38, -5.438, -5.4832, -5.4865, -5.4931, -5.5087, -5.5858, -5.6119, -5.6361, -5.6744, -5.7015, -5.7198, -5.7866, -5.8127, -5.8612, -5.8607, -3.638, -4.655, -3.7978, -3.6793, -4.7609, -4.1927, -4.7552, -4.5647, -4.8906, -4.404, -3.9167, -5.0365, -4.8877, -4.6839, -4.4657, -4.6071, -5.0625, -4.867, -3.5864, -3.6154, -4.5425, -4.6115, -4.6261, -4.6293, -4.9748, -5.2122, -5.2274, -5.2573, -5.416, -5.4942, -5.5083, -5.519, -5.5375, -5.5505, -5.5807, -5.5928, -5.5948, -5.6127, -5.648, -5.7068, -5.7135, -5.7373, -5.7467, -5.7689, -5.7741, -5.7883, -5.8192, -5.8429, -4.265, -5.0269, -5.0219, -3.8697, -4.4993, -4.9937, -4.5392, -5.3649, -4.3921, -4.4392, -4.2254, -5.2441, -5.0939, -4.902, -5.2114, -4.8784, -5.3129, -5.1872, -5.4093, -5.305, -5.3386, -5.3258, -1.3968, -2.779, -3.577, -3.7797, -3.9824, -4.0499, -4.5952, -4.7178, -4.7397, -4.7527, -4.7759, -5.0858, -5.1122, -5.1199, -5.12, -5.1436, -5.4317, -5.6406, -5.6422, -5.7149, -5.76, -5.8187, -5.8986, -5.8887, -5.9114, -5.9318, -5.9373, -5.9568, -5.975, -5.9897, -4.606, -4.6061, -5.1607, -5.054, -3.9417, -4.1308, -5.312, -5.7064, -5.5553, -5.4434, -5.6017, -5.693, -5.6729, -2.5187, -3.3072, -4.3535, -4.4077, -4.475, -4.7273, -4.7907, -4.7976, -4.835, -4.8796, -5.132, -5.1875, -5.2125, -5.2584, -5.3525, -5.4112, -5.7448, -5.7742, -5.7895, -5.8961, -5.9009, -5.9188, -5.921, -5.97, -5.9939, -5.9834, -6.0149, -6.0148, -6.0584, -6.0613, -3.2534, -2.8965, -4.313, -2.8346, -4.7205, -5.0132, -3.3343, -4.4838, -4.4226, -5.4435, -4.8455, -5.3085, -4.6843, -5.039, -4.7055, -4.3154, -5.2709, -5.1768, -1.8728, -3.4171, -3.6169, -3.8026, -3.8867, -4.0517, -4.0768, -4.5554, -4.6147, -4.6783, -4.7015, -4.9806, -4.9907, -5.007, -5.0945, -5.1186, -5.1193, -5.1845, -5.2972, -5.2984, -5.348, -5.3538, -5.3573, -5.3942, -5.4184, -5.4204, -5.4419, -5.4663, -5.4821, -5.4973, -5.4968, -4.5633, -4.1393, -4.2629, -4.199, -4.8426, -5.0426, -5.1532, -3.7501, -4.0193, -4.0811, -4.49, -4.7251, -4.8196, -4.8257, -4.8317, -4.8376, -4.8674, -4.8831, -5.0557, -5.1028, -5.1072, -5.1467, -5.1994, -5.2081, -5.2248, -5.2275, -5.233, -5.271, -5.3583, -5.3701, -5.371, -5.3928, -5.3933, -5.405, -5.4255, -5.4409, -5.4747, -4.7773, -4.4301, -4.6557, -4.6782, -5.1339, -5.3276, -3.7797, -4.26, -4.3199, -4.3657, -4.3891, -4.438, -4.6306, -4.8066, -4.8505, -4.8767, -4.9577, -4.9847, -5.0211, -5.0413, -5.0952, -5.1032, -5.1323, -5.1616, -5.167, -5.1932, -5.2109, -5.2109, -5.2343, -5.2355, -5.2496, -5.2776, -5.3304, -5.3486, -5.3536, -5.3687, -4.9202], \"loglift\": [30.0, 29.0, 28.0, 27.0, 26.0, 25.0, 24.0, 23.0, 22.0, 21.0, 20.0, 19.0, 18.0, 17.0, 16.0, 15.0, 14.0, 13.0, 12.0, 11.0, 10.0, 9.0, 8.0, 7.0, 6.0, 5.0, 4.0, 3.0, 2.0, 1.0, 1.2685, 1.2683, 1.2683, 1.2682, 1.2681, 1.268, 1.268, 1.2679, 1.2678, 1.2677, 1.2677, 1.2676, 1.2676, 1.2674, 1.2674, 1.2673, 1.2672, 1.2672, 1.2672, 1.2672, 1.2671, 1.267, 1.267, 1.2669, 1.2668, 1.2668, 1.2668, 1.2666, 1.2666, 1.2665, 1.2665, 1.1869, 1.1881, 1.1226, 1.0559, 1.1546, 1.0315, 1.0772, 0.9281, 0.9695, 0.6837, 0.4046, 1.0137, 0.8888, 0.6383, 0.4048, 0.5219, 0.8972, 0.5727, 1.591, 1.591, 1.5905, 1.5905, 1.5904, 1.5904, 1.5901, 1.5897, 1.5897, 1.5896, 1.5893, 1.5892, 1.5891, 1.5891, 1.5891, 1.5891, 1.589, 1.589, 1.5889, 1.5889, 1.5888, 1.5886, 1.5886, 1.5886, 1.5885, 1.5885, 1.5885, 1.5884, 1.5883, 1.5883, 1.5607, 1.419, 1.3914, 0.9534, 1.0302, 1.1766, 0.9004, 1.3699, 0.6957, 0.6898, 0.441, 1.2422, 1.0714, 0.7823, 1.1116, 0.4438, 1.1695, 0.8712, 1.361, 0.759, 0.438, -0.4054, 1.7103, 1.7102, 1.71, 1.7099, 1.7098, 1.7097, 1.7093, 1.7092, 1.7092, 1.7091, 1.7091, 1.7087, 1.7086, 1.7086, 1.7086, 1.7086, 1.708, 1.7074, 1.7074, 1.7072, 1.7071, 1.7069, 1.7066, 1.7066, 1.7065, 1.7065, 1.7064, 1.7064, 1.7063, 1.7062, 1.5593, 1.4763, 1.5451, 1.3985, 0.9288, 0.6923, 1.062, 1.4084, 0.8373, -0.2192, -0.9354, 0.9796, -0.1434, 2.0724, 2.0722, 2.0715, 2.0714, 2.0713, 2.0709, 2.0708, 2.0708, 2.0707, 2.0707, 2.0701, 2.07, 2.0699, 2.0698, 2.0695, 2.0693, 2.068, 2.0679, 2.0678, 2.0673, 2.0673, 2.0672, 2.0672, 2.0669, 2.0668, 2.0667, 2.0666, 2.0666, 2.0664, 2.0664, 1.957, 1.9232, 1.8167, 1.4866, 1.823, 1.829, 1.3321, 1.5714, 1.4127, 1.8581, 1.5585, 1.7325, 1.1986, 1.2981, 0.9091, 0.4198, 1.3032, -0.0478, 2.597, 2.5965, 2.5963, 2.5961, 2.596, 2.5958, 2.5958, 2.5949, 2.5948, 2.5946, 2.5945, 2.5937, 2.5937, 2.5936, 2.5933, 2.5932, 2.5932, 2.5929, 2.5924, 2.5924, 2.5921, 2.5921, 2.5921, 2.5919, 2.5918, 2.5918, 2.5916, 2.5915, 2.5914, 2.5913, 2.5913, 2.1091, 1.3535, 1.3518, 0.6207, 1.5314, 1.8353, 1.2091, 2.6385, 2.6382, 2.6381, 2.6374, 2.6368, 2.6365, 2.6365, 2.6365, 2.6364, 2.6363, 2.6363, 2.6357, 2.6355, 2.6355, 2.6353, 2.6351, 2.635, 2.635, 2.6349, 2.6349, 2.6347, 2.6343, 2.6342, 2.6342, 2.6341, 2.6341, 2.634, 2.6339, 2.6338, 2.6337, 2.3582, 1.7351, 1.7016, 1.7258, 1.3187, 1.2618, 2.7693, 2.7685, 2.7684, 2.7683, 2.7683, 2.7681, 2.7676, 2.7671, 2.7669, 2.7668, 2.7665, 2.7664, 2.7662, 2.7661, 2.7659, 2.7659, 2.7657, 2.7656, 2.7656, 2.7654, 2.7653, 2.7653, 2.7652, 2.7652, 2.7651, 2.765, 2.7647, 2.7646, 2.7645, 2.7644, 2.3436]}, \"token.table\": {\"Topic\": [1, 2, 6, 1, 5, 1, 5, 2, 2, 5, 5, 1, 2, 3, 4, 5, 4, 2, 2, 3, 3, 3, 6, 5, 1, 1, 4, 4, 6, 3, 1, 2, 4, 2, 3, 5, 3, 4, 1, 2, 3, 5, 3, 2, 6, 1, 3, 1, 3, 6, 6, 7, 1, 3, 4, 4, 6, 5, 7, 1, 1, 4, 3, 4, 6, 2, 1, 2, 3, 4, 1, 5, 5, 3, 4, 5, 3, 1, 5, 5, 6, 5, 1, 2, 3, 4, 5, 2, 3, 3, 3, 3, 1, 7, 4, 3, 6, 5, 2, 2, 1, 3, 2, 6, 1, 5, 1, 2, 4, 5, 2, 3, 6, 7, 6, 5, 1, 2, 3, 4, 4, 1, 2, 3, 2, 7, 1, 4, 7, 1, 2, 1, 3, 4, 7, 1, 4, 5, 4, 1, 4, 2, 3, 4, 7, 1, 7, 1, 2, 4, 6, 1, 3, 2, 2, 7, 1, 2, 2, 1, 7, 5, 5, 3, 5, 2, 7, 1, 6, 6, 4, 1, 7, 2, 7, 6, 1, 2, 3, 4, 5, 6, 1, 2, 3, 4, 2, 3, 6, 2, 1, 1, 5, 1, 4, 7, 3, 4, 1, 1, 2, 4, 6, 7, 6, 6, 5, 1, 7, 2, 7, 1, 2, 3, 4, 6, 2, 5, 7, 2, 1, 2, 4, 1, 2, 3, 2, 4, 2, 5, 5, 2, 3, 5, 1, 2, 1, 6, 6, 7, 1, 1, 2, 7, 7, 1, 3, 3, 4, 3, 3, 4, 1, 5, 1, 1, 1, 4, 4, 4, 7, 1, 5, 7, 6, 7, 5, 7, 4, 3, 3, 3, 6, 3, 2, 6, 4, 4, 3, 4, 1, 2, 3, 1, 1, 4, 6, 2, 2, 6, 5, 1, 4, 4, 2, 6, 2, 1, 2, 3, 3, 7, 1, 4, 2, 7, 5, 7, 1, 3, 4, 1, 2, 2, 4, 4, 1, 2, 6, 1, 2, 1, 2, 3, 5, 1, 2, 3, 6, 6, 4, 3, 7, 7, 6, 2, 1, 1, 4, 5, 1, 2, 6, 7, 3, 6, 1, 2, 4, 4, 1, 4, 5, 4, 1, 7, 1, 3, 4, 2, 4, 5, 1, 1, 2, 3], \"Freq\": [0.9994470810040225, 0.9958643762576609, 0.9958393418904034, 0.6546962738114076, 0.34411929382497136, 0.7112941033994693, 0.2882233704078892, 0.995293349267308, 0.9987194399114798, 0.9983882987912868, 0.9953063467949131, 0.1355903653549349, 0.31645259688319527, 0.07094844698804734, 0.47681861039268636, 0.9941853603518328, 0.9965563291206997, 0.9973945596846903, 0.9976402906516828, 0.9988417053419478, 0.9970845548554068, 0.7324495204022484, 0.2674448707523806, 0.9952612089197376, 0.9992208011281577, 0.9983283990843178, 0.9991363473106922, 0.9994623110505447, 0.9924363588538734, 0.994044173467072, 0.15479993543697904, 0.3809292528890367, 0.46288215988508435, 0.47586863261401235, 0.5230827528211467, 0.9986163041701902, 0.9970397399828484, 0.9987811004444795, 0.11012129929754667, 0.5284768573944465, 0.36118732377257534, 0.9966094036754712, 0.9986626542525784, 0.997374869397734, 0.9973216930502115, 0.9988016822301933, 0.9981790703828027, 0.9971539827835735, 0.9956043790880891, 0.9930902984045359, 0.9916532942573598, 0.9977018156275004, 0.9993594836404561, 0.10904501541975485, 0.8909870299066089, 0.597896382457734, 0.40073140837102944, 0.9931702276962137, 0.9973915778596412, 0.999116721494234, 0.5376208219355483, 0.4609889007687886, 0.999415559995327, 0.9979603392208978, 0.9926886457536263, 0.9967350875139919, 0.5571080388273247, 0.40847724350247466, 0.034325818781720564, 0.9923055542742352, 0.3850657888446415, 0.6144310630694931, 0.9965179386695662, 0.9950702382965333, 0.9955487143430041, 0.998144356460392, 0.9965075458471446, 0.9996819192845565, 0.99238319870536, 0.9954882944277053, 0.9981196436285917, 0.9989848376987268, 0.7888434745613928, 0.06570416970162224, 0.14517867437065035, 0.9981222115716809, 0.9980620566372383, 0.9966245438618416, 0.9994985528452963, 0.9999751521991769, 0.9957433114779648, 0.998231104965782, 0.9986745108623627, 0.9988450813916704, 0.9988024489459766, 0.2421063315767602, 0.7555845952505483, 0.9998158044786746, 0.9988230747075103, 0.9987416194490336, 0.9989041649219598, 0.9970800430183298, 0.9967663874666786, 0.9976182416996312, 0.9983096649479155, 0.9948965809672804, 0.3214966668733525, 0.07790335146659896, 0.31219477416092273, 0.2877773057907947, 0.15062258070648885, 0.8483340752434428, 0.9975342926894951, 0.9973235052302929, 0.9958084833261289, 0.9985416430814165, 0.5325213618909654, 0.3172560028869566, 0.09374459182432644, 0.05642035619056684, 0.9972105452160713, 0.42459674787692414, 0.4346194178911863, 0.14031738019967022, 0.9976277840849814, 0.9932203215182163, 0.9983100872341154, 0.9977465178081082, 0.9964219104215798, 0.7747512754355819, 0.22469584554396227, 0.47971402077873815, 0.41769294685219943, 0.1012588962065938, 0.9923823157345424, 0.5823914937052321, 0.4174059138957865, 0.9970302809113581, 0.995107229040764, 0.99936674700318, 0.995981427309254, 0.06770264199942927, 0.15306684278131835, 0.7785803829934366, 0.9923683001811194, 0.9973563470049231, 0.9969649609609463, 0.1881597185810415, 0.29323592506136337, 0.12706890085992414, 0.3909812334151512, 0.9994382420266309, 0.9964953910499301, 0.9984779048488835, 0.9963440434868851, 0.9955713618586426, 0.8922207984168629, 0.10760057164006182, 0.9987606539598186, 0.9989697907675539, 0.9951264072061807, 0.996125670353483, 0.9964872863521237, 0.9944152090548622, 0.9972413504948826, 0.8410082540448528, 0.15752218091633752, 0.7473298578962456, 0.2527053540102769, 0.9965262470341024, 0.9972861004832766, 0.344800233340266, 0.6533057052762934, 0.9977263139372098, 0.9978408710962574, 0.9961655120549966, 0.13179503492225042, 0.8191965896147722, 0.047808002863953585, 0.9968177223731006, 0.996954057323039, 0.9972079249843928, 0.7416408574876869, 0.2578651077637549, 0.7917541637710364, 0.20791668544514907, 0.9699697000506333, 0.029436534198427806, 0.9935025857103612, 0.9995968248104456, 0.9985069850962536, 0.9983650283381594, 0.9936695587214035, 0.4828060428068133, 0.5168779407226094, 0.9949624921843526, 0.9998805662491252, 0.996970936848981, 0.9991655283797186, 0.47397736755898806, 0.406010801644869, 0.11983578726963094, 0.9980162045628361, 0.9946008002250735, 0.9954466718292875, 0.9954283405642863, 0.9958927893387812, 0.9991735304111901, 0.9968840466521988, 0.998310827528891, 0.9929284473551145, 0.050762702268986035, 0.6185966509057833, 0.13694124333028793, 0.15819074660567742, 0.03541583879231584, 0.9964634118649552, 0.9990297042639422, 0.995637497875862, 0.9989157546749331, 0.29329236835551387, 0.7047356907878936, 0.9944956523785101, 0.39829579777457874, 0.4450441308467124, 0.15645108801474064, 0.8019959428637938, 0.19782566590640246, 0.9980820570362445, 0.9965055522134703, 0.9978889446239296, 0.6563227660754662, 0.207697077871983, 0.13569542420969555, 0.49831440654686215, 0.5012427967910161, 0.999262671819284, 0.9961037877600756, 0.994319161226736, 0.9950399749591897, 0.9981969965287424, 0.5128640943806462, 0.48658660544594873, 0.9950662889505779, 0.9922108018283889, 0.9990334892221489, 0.9983363340630788, 0.7400429731819989, 0.25797272656696435, 0.9990514911286402, 0.860139937723149, 0.1391551130196888, 0.5325876846162924, 0.4667853452042408, 0.9993121617310486, 0.997339783582405, 0.3938176029159875, 0.6060816778821734, 0.9956606976216797, 0.9923896483775269, 0.9933979786283624, 0.7490371433304573, 0.2492697378624309, 0.9929284473551145, 0.998316067182978, 0.9989825095129375, 0.9926638196654798, 0.9964463386084447, 0.9979079878266205, 0.9993810256060363, 0.9995531233594688, 0.9988094422479338, 0.9967705793251339, 0.9965785970814005, 0.5949023684444235, 0.40433194872239625, 0.9934004089638928, 0.9935391920259053, 0.999609146120749, 0.9973595480004326, 0.3384828925974718, 0.6607510358489569, 0.9957822625043656, 0.9995216670095545, 0.9214012955604208, 0.07838905321725723, 0.9967314928816196, 0.997574073026732, 0.996597138398947, 0.9933651804811902, 0.9983274670781624, 0.8083020641571768, 0.19157965341516367, 0.999214003103122, 0.9984120995617055, 0.9935958049682949, 0.9995620893973106, 0.9989359085828996, 0.9955986432015272, 0.9982505789677236, 0.9980859079232759, 0.9980245826101257, 0.2856247044126955, 0.7116412126892583, 0.9975066475640051, 0.9937234855903029, 0.993230187337412, 0.9948718940647562, 0.9994329818046929, 0.2142970500339168, 0.7837716181796032, 0.8255093289675514, 0.1734870743889775, 0.9988828415377593, 0.9981603628954966, 0.9960105447006974, 0.6842571798746134, 0.31581100609597546, 0.9965433608353904, 0.8641571526392127, 0.13589568126181167, 0.2722998121488221, 0.5707617631119428, 0.15643891168549975, 0.9933717259492818, 0.09377936504724729, 0.4236817742313137, 0.48229387738584323, 0.9919157650173291, 0.9958413551738899, 0.9963903642993498, 0.9981595078901744, 0.9972492647213872, 0.9972203562822521, 0.9959438882750753, 0.9987283433216458, 0.9973893454155724, 0.2247768797699215, 0.7745558281249243, 0.9986036733777061, 0.20496257533524198, 0.7939991657130995, 0.9984053891431722, 0.9949148531874541, 0.9982740565987721, 0.9961011819106119, 0.6896191409028126, 0.3095076382385243, 0.9998564340125629, 0.9931266283036172, 0.4213902093461144, 0.5566433878190534, 0.022010540836398102, 0.9984481891767116, 0.9228014460105566, 0.07671745988211279, 0.9971800098315883, 0.19161764775888301, 0.8073071389185726, 0.9963586606155767, 0.8612028455542693, 0.1386326531867848, 0.997838460630575, 0.42156220017556895, 0.12072259598736804, 0.45775135366377306], \"Term\": [\"able\", \"abortion\", \"abuse\", \"access\", \"access\", \"account\", \"account\", \"action\", \"ad\", \"address\", \"admin\", \"amp\", \"amp\", \"amp\", \"amp\", \"apple\", \"appraisal\", \"art\", \"article\", \"auction\", \"authentication\", \"available\", \"available\", \"awful\", \"bad\", \"beat\", \"bid\", \"bigrock\", \"black\", \"blockchain\", \"blog\", \"blog\", \"blog\", \"brand\", \"brand\", \"breach\", \"broker\", \"builder\", \"business\", \"business\", \"business\", \"button\", \"buy\", \"buyer\", \"c\", \"call\", \"candomain\", \"card\", \"career\", \"cash\", \"center\", \"chance\", \"chat\", \"cheap\", \"cheap\", \"check\", \"check\", \"claim\", \"class\", \"client\", \"code\", \"code\", \"com\", \"comhow\", \"commercial\", \"community\", \"company\", \"company\", \"company\", \"complaint\", \"contact\", \"contact\", \"contract\", \"couple\", \"coupon\", \"cpanel\", \"crypto\", \"customer\", \"daily\", \"data\", \"database\", \"datum\", \"day\", \"day\", \"day\", \"design\", \"detail\", \"digital\", \"dns\", \"domain\", \"domainname\", \"dot\", \"due\", \"e\", \"easy\", \"ecommerce\", \"ecommerce\", \"email\", \"employee\", \"entrepreneur\", \"error\", \"ethereum\", \"event\", \"family\", \"fee\", \"form\", \"free\", \"free\", \"free\", \"free\", \"full\", \"full\", \"future\", \"gift\", \"glad\", \"gmail\", \"good\", \"good\", \"good\", \"good\", \"government\", \"great\", \"great\", \"great\", \"group\", \"guide\", \"guy\", \"hack\", \"hacker\", \"help\", \"help\", \"high\", \"high\", \"high\", \"holiday\", \"host\", \"host\", \"hostgator\", \"hostinger\", \"hour\", \"html\", \"idea\", \"idea\", \"idea\", \"image\", \"information\", \"insight\", \"internet\", \"internet\", \"internet\", \"internet\", \"issue\", \"jewellery\", \"job\", \"key\", \"kid\", \"last\", \"last\", \"late\", \"launch\", \"lawsuit\", \"legit\", \"legitimate\", \"lesson\", \"letter\", \"life\", \"life\", \"link\", \"link\", \"listing\", \"little\", \"live\", \"live\", \"local\", \"logo\", \"lol\", \"look\", \"look\", \"look\", \"low\", \"mail\", \"man\", \"many\", \"many\", \"market\", \"market\", \"marketing\", \"marketing\", \"matter\", \"medium\", \"message\", \"minute\", \"mistake\", \"month\", \"month\", \"music\", \"name\", \"namecheap\", \"need\", \"new\", \"new\", \"new\", \"news\", \"newsletter\", \"nice\", \"none\", \"notice\", \"number\", \"offer\", \"office\", \"olhardigital\", \"online\", \"online\", \"online\", \"online\", \"online\", \"opportunity\", \"order\", \"original\", \"other\", \"owner\", \"owner\", \"package\", \"page\", \"page\", \"page\", \"part\", \"part\", \"partner\", \"party\", \"password\", \"payment\", \"payment\", \"payment\", \"people\", \"people\", \"phone\", \"photo\", \"php\", \"piece\", \"plan\", \"platform\", \"platform\", \"podcast\", \"politic\", \"popular\", \"portfolio\", \"possible\", \"possible\", \"premium\", \"price\", \"price\", \"private\", \"private\", \"problem\", \"process\", \"product\", \"product\", \"program\", \"promo\", \"proud\", \"provider\", \"provider\", \"publieditorial\", \"r\", \"rare\", \"ready\", \"recent\", \"refund\", \"registrar\", \"registration\", \"renewal\", \"resource\", \"review\", \"right\", \"right\", \"role\", \"safe\", \"sale\", \"secure\", \"security\", \"security\", \"seller\", \"server\", \"service\", \"service\", \"session\", \"several\", \"share\", \"shopify\", \"signature\", \"site\", \"site\", \"size\", \"small\", \"smart\", \"social\", \"solution\", \"space\", \"spvlog\", \"startup\", \"step\", \"store\", \"store\", \"story\", \"strong\", \"student\", \"super\", \"support\", \"system\", \"system\", \"team\", \"team\", \"technology\", \"template\", \"text\", \"thing\", \"thing\", \"third\", \"time\", \"time\", \"today\", \"today\", \"today\", \"token\", \"top\", \"top\", \"top\", \"total\", \"traffic\", \"transaction\", \"transfer\", \"trend\", \"trial\", \"type\", \"update\", \"url\", \"use\", \"use\", \"user\", \"value\", \"value\", \"video\", \"view\", \"vlog\", \"wait\", \"way\", \"way\", \"web\", \"webdesign\", \"website\", \"website\", \"website\", \"websitebuilder\", \"week\", \"week\", \"whois\", \"whole\", \"whole\", \"woman\", \"wordpress\", \"wordpress\", \"wrong\", \"year\", \"year\", \"year\"]}, \"R\": 30, \"lambda.step\": 0.01, \"plot.opts\": {\"xlab\": \"PC1\", \"ylab\": \"PC2\"}, \"topic.order\": [4, 7, 6, 5, 2, 1, 3]};\n",
       "\n",
       "function LDAvis_load_lib(url, callback){\n",
       "  var s = document.createElement('script');\n",
       "  s.src = url;\n",
       "  s.async = true;\n",
       "  s.onreadystatechange = s.onload = callback;\n",
       "  s.onerror = function(){console.warn(\"failed to load library \" + url);};\n",
       "  document.getElementsByTagName(\"head\")[0].appendChild(s);\n",
       "}\n",
       "\n",
       "if(typeof(LDAvis) !== \"undefined\"){\n",
       "   // already loaded: just create the visualization\n",
       "   !function(LDAvis){\n",
       "       new LDAvis(\"#\" + \"ldavis_el2617216429961942088834346787\", ldavis_el2617216429961942088834346787_data);\n",
       "   }(LDAvis);\n",
       "}else if(typeof define === \"function\" && define.amd){\n",
       "   // require.js is available: use it to load d3/LDAvis\n",
       "   require.config({paths: {d3: \"https://d3js.org/d3.v5\"}});\n",
       "   require([\"d3\"], function(d3){\n",
       "      window.d3 = d3;\n",
       "      LDAvis_load_lib(\"https://cdn.jsdelivr.net/gh/bmabey/pyLDAvis@3.3.1/pyLDAvis/js/ldavis.v3.0.0.js\", function(){\n",
       "        new LDAvis(\"#\" + \"ldavis_el2617216429961942088834346787\", ldavis_el2617216429961942088834346787_data);\n",
       "      });\n",
       "    });\n",
       "}else{\n",
       "    // require.js not available: dynamically load d3 & LDAvis\n",
       "    LDAvis_load_lib(\"https://d3js.org/d3.v5.js\", function(){\n",
       "         LDAvis_load_lib(\"https://cdn.jsdelivr.net/gh/bmabey/pyLDAvis@3.3.1/pyLDAvis/js/ldavis.v3.0.0.js\", function(){\n",
       "                 new LDAvis(\"#\" + \"ldavis_el2617216429961942088834346787\", ldavis_el2617216429961942088834346787_data);\n",
       "            })\n",
       "         });\n",
       "}\n",
       "</script>"
      ],
      "text/plain": [
       "PreparedData(topic_coordinates=              x         y  topics  cluster       Freq\n",
       "topic                                                \n",
       "3      0.238621 -0.135002       1        1  28.118736\n",
       "6      0.218496 -0.008409       2        1  20.364740\n",
       "5      0.111224  0.340442       3        1  18.080477\n",
       "4      0.048528 -0.160387       4        1  12.586018\n",
       "1     -0.187381 -0.147689       5        1   7.448181\n",
       "0     -0.208529  0.066905       6        1   7.139145\n",
       "2     -0.220960  0.044139       7        1   6.262704, topic_info=          Term          Freq         Total Category  logprob  loglift\n",
       "3       domain  21113.000000  21113.000000  Default  30.0000  30.0000\n",
       "292      email   5403.000000   5403.000000  Default  29.0000  29.0000\n",
       "68         web   4786.000000   4786.000000  Default  28.0000  28.0000\n",
       "8         name   5300.000000   5300.000000  Default  27.0000  27.0000\n",
       "69     website   6269.000000   6269.000000  Default  26.0000  26.0000\n",
       "...        ...           ...           ...      ...      ...      ...\n",
       "1610     guide    143.129732    143.976112   Topic7  -5.3304   2.7647\n",
       "602      trial    140.546621    141.393022   Topic7  -5.3486   2.7646\n",
       "259      piece    139.852315    140.697865   Topic7  -5.3536   2.7645\n",
       "528   original    137.758743    138.604663   Topic7  -5.3687   2.7644\n",
       "523       live    215.729615    330.626226   Topic7  -4.9202   2.3436\n",
       "\n",
       "[327 rows x 6 columns], token_table=       Topic      Freq       Term\n",
       "term                             \n",
       "120        1  0.999447       able\n",
       "23492      2  0.995864   abortion\n",
       "377        6  0.995839      abuse\n",
       "434        1  0.654696     access\n",
       "434        5  0.344119     access\n",
       "...      ...       ...        ...\n",
       "433        5  0.138633  wordpress\n",
       "101        1  0.997838      wrong\n",
       "70         1  0.421562       year\n",
       "70         2  0.120723       year\n",
       "70         3  0.457751       year\n",
       "\n",
       "[366 rows x 3 columns], R=30, lambda_step=0.01, plot_opts={'xlab': 'PC1', 'ylab': 'PC2'}, topic_order=[4, 7, 6, 5, 2, 1, 3])"
      ]
     },
     "execution_count": 10,
     "metadata": {},
     "output_type": "execute_result"
    }
   ],
   "source": [
    "pyLDAvis.enable_notebook()\n",
    "vis = pyLDAvis.gensim_models.prepare(lda_model, doc_term_matrix, dictionary)\n",
    "vis"
   ]
  },
  {
   "cell_type": "code",
   "execution_count": null,
   "id": "d5b09620",
   "metadata": {
    "ExecuteTime": {
     "start_time": "2022-10-03T12:14:32.029Z"
    }
   },
   "outputs": [
    {
     "name": "stdout",
     "output_type": "stream",
     "text": [
      "\n",
      "Perplexity:  -8.844895913450683\n"
     ]
    }
   ],
   "source": [
    "print('\\nPerplexity: ', lda_model.log_perplexity(doc_term_matrix,total_docs=10000))  # a measure of how good the model is. lower the better.\n",
    "\n",
    "# Compute Coherence Score\n",
    "from gensim.models.coherencemodel import CoherenceModel\n",
    "coherence_model_lda = CoherenceModel(model=lda_model, texts=tokenized_reviews, dictionary=dictionary , coherence='c_v')#'u_mass'\n",
    "coherence_lda = coherence_model_lda.get_coherence()\n",
    "print('\\nCoherence Score: ', coherence_lda)"
   ]
  },
  {
   "cell_type": "code",
   "execution_count": null,
   "id": "25c9cb1c",
   "metadata": {},
   "outputs": [],
   "source": []
  },
  {
   "cell_type": "code",
   "execution_count": null,
   "id": "3e182b72",
   "metadata": {},
   "outputs": [],
   "source": []
  },
  {
   "cell_type": "code",
   "execution_count": 11,
   "id": "ba5ec4bb",
   "metadata": {
    "ExecuteTime": {
     "end_time": "2022-10-03T13:35:41.848849Z",
     "start_time": "2022-10-03T13:22:08.735629Z"
    }
   },
   "outputs": [],
   "source": [
    "#Third Iteration\n",
    "# Creating the object for LDA model using gensim library\n",
    "LDA = gensim.models.ldamodel.LdaModel\n",
    "\n",
    "# Build LDA model\n",
    "lda_model = LDA(corpus=doc_term_matrix, id2word=dictionary, num_topics=7, random_state=100,\n",
    "                chunksize=1000, passes=50,iterations=100)"
   ]
  },
  {
   "cell_type": "code",
   "execution_count": 12,
   "id": "502ce2e2",
   "metadata": {
    "ExecuteTime": {
     "end_time": "2022-10-03T13:40:33.568016Z",
     "start_time": "2022-10-03T13:40:33.544079Z"
    }
   },
   "outputs": [
    {
     "data": {
      "text/plain": [
       "[(0,\n",
       "  '0.024*\"video\" + 0.018*\"news\" + 0.017*\"r\" + 0.012*\"right\" + 0.011*\"future\" + 0.010*\"internet\" + 0.009*\"check\" + 0.009*\"family\" + 0.008*\"ecommerce\" + 0.008*\"man\"'),\n",
       " (1,\n",
       "  '0.154*\"email\" + 0.033*\"datum\" + 0.027*\"user\" + 0.022*\"address\" + 0.021*\"breach\" + 0.017*\"password\" + 0.017*\"detail\" + 0.016*\"account\" + 0.015*\"wordpress\" + 0.014*\"free\"'),\n",
       " (2,\n",
       "  '0.023*\"rare\" + 0.014*\"offer\" + 0.013*\"class\" + 0.013*\"e\" + 0.012*\"step\" + 0.012*\"recent\" + 0.010*\"hacker\" + 0.008*\"logo\" + 0.008*\"podcast\" + 0.008*\"super\"'),\n",
       " (3,\n",
       "  '0.027*\"customer\" + 0.026*\"service\" + 0.025*\"site\" + 0.022*\"time\" + 0.020*\"website\" + 0.017*\"support\" + 0.015*\"day\" + 0.014*\"issue\" + 0.012*\"company\" + 0.011*\"year\"'),\n",
       " (4,\n",
       "  '0.081*\"web\" + 0.059*\"website\" + 0.055*\"wordpress\" + 0.039*\"cheap\" + 0.037*\"bigrock\" + 0.036*\"amp\" + 0.013*\"use\" + 0.013*\"site\" + 0.013*\"easy\" + 0.012*\"bid\"'),\n",
       " (5,\n",
       "  '0.247*\"domain\" + 0.062*\"name\" + 0.028*\"registration\" + 0.023*\"com\" + 0.019*\"year\" + 0.019*\"sale\" + 0.017*\"registrar\" + 0.016*\"business\" + 0.010*\"premium\" + 0.010*\"price\"'),\n",
       " (6,\n",
       "  '0.028*\"social\" + 0.027*\"medium\" + 0.021*\"business\" + 0.015*\"amp\" + 0.014*\"marketing\" + 0.012*\"company\" + 0.012*\"new\" + 0.011*\"today\" + 0.011*\"people\" + 0.011*\"entrepreneur\"')]"
      ]
     },
     "execution_count": 12,
     "metadata": {},
     "output_type": "execute_result"
    }
   ],
   "source": [
    "lda_model.print_topics()  #Topics with their keywords (scored from highest to lowest)"
   ]
  },
  {
   "cell_type": "code",
   "execution_count": 13,
   "id": "444096fd",
   "metadata": {
    "ExecuteTime": {
     "end_time": "2022-10-03T13:40:54.493621Z",
     "start_time": "2022-10-03T13:40:34.905385Z"
    }
   },
   "outputs": [
    {
     "data": {
      "text/html": [
       "\n",
       "<link rel=\"stylesheet\" type=\"text/css\" href=\"https://cdn.jsdelivr.net/gh/bmabey/pyLDAvis@3.3.1/pyLDAvis/js/ldavis.v1.0.0.css\">\n",
       "\n",
       "\n",
       "<div id=\"ldavis_el1454821963111174884581549157\"></div>\n",
       "<script type=\"text/javascript\">\n",
       "\n",
       "var ldavis_el1454821963111174884581549157_data = {\"mdsDat\": {\"x\": [0.2386212660653289, 0.21849609585130428, 0.11122421797523989, 0.04852811479902464, -0.18738111069397728, -0.20852886200933654, -0.22095972198758365], \"y\": [-0.1350016029774685, -0.008408952580922663, 0.3404419275723467, -0.16038685287908463, -0.14768893020724388, 0.06690507349121876, 0.04413933758115396], \"topics\": [1, 2, 3, 4, 5, 6, 7], \"cluster\": [1, 1, 1, 1, 1, 1, 1], \"Freq\": [28.11873566604191, 20.364740028823512, 18.08047682505284, 12.586018071043359, 7.448180541520948, 7.139144729422105, 6.262704138095325]}, \"tinfo\": {\"Term\": [\"domain\", \"email\", \"web\", \"name\", \"website\", \"wordpress\", \"cheap\", \"bigrock\", \"customer\", \"social\", \"medium\", \"registration\", \"amp\", \"site\", \"service\", \"com\", \"datum\", \"time\", \"support\", \"account\", \"sale\", \"business\", \"registrar\", \"user\", \"issue\", \"year\", \"video\", \"address\", \"marketing\", \"hour\", \"customer\", \"support\", \"issue\", \"hour\", \"server\", \"client\", \"bad\", \"popular\", \"call\", \"phone\", \"problem\", \"number\", \"guy\", \"able\", \"minute\", \"chat\", \"beat\", \"need\", \"error\", \"plan\", \"solution\", \"due\", \"fee\", \"url\", \"launch\", \"card\", \"whois\", \"information\", \"message\", \"wrong\", \"process\", \"service\", \"week\", \"time\", \"site\", \"last\", \"day\", \"team\", \"account\", \"many\", \"company\", \"website\", \"help\", \"thing\", \"good\", \"year\", \"new\", \"way\", \"people\", \"social\", \"medium\", \"entrepreneur\", \"other\", \"update\", \"late\", \"small\", \"ad\", \"job\", \"employee\", \"buyer\", \"several\", \"technology\", \"digital\", \"community\", \"woman\", \"share\", \"story\", \"event\", \"group\", \"partner\", \"abortion\", \"key\", \"local\", \"art\", \"opportunity\", \"office\", \"space\", \"action\", \"article\", \"marketing\", \"life\", \"look\", \"business\", \"today\", \"security\", \"people\", \"part\", \"company\", \"new\", \"amp\", \"owner\", \"right\", \"page\", \"online\", \"good\", \"payment\", \"platform\", \"value\", \"great\", \"thing\", \"time\", \"domain\", \"name\", \"registration\", \"com\", \"sale\", \"registrar\", \"premium\", \"dns\", \"auction\", \"portfolio\", \"transfer\", \"renewal\", \"vlog\", \"candomain\", \"spvlog\", \"startup\", \"crypto\", \"ethereum\", \"buy\", \"domainname\", \"broker\", \"dot\", \"seller\", \"lesson\", \"career\", \"blockchain\", \"couple\", \"review\", \"jewellery\", \"authentication\", \"price\", \"market\", \"full\", \"available\", \"year\", \"business\", \"brand\", \"possible\", \"high\", \"day\", \"amp\", \"top\", \"today\", \"web\", \"bigrock\", \"easy\", \"bid\", \"size\", \"builder\", \"little\", \"design\", \"comhow\", \"namecheap\", \"template\", \"refund\", \"websitebuilder\", \"low\", \"program\", \"coupon\", \"hostinger\", \"hack\", \"appraisal\", \"promo\", \"government\", \"transaction\", \"complaint\", \"text\", \"webdesign\", \"html\", \"safe\", \"role\", \"package\", \"secure\", \"cheap\", \"wordpress\", \"use\", \"website\", \"idea\", \"system\", \"amp\", \"product\", \"month\", \"whole\", \"check\", \"store\", \"host\", \"code\", \"free\", \"site\", \"blog\", \"new\", \"email\", \"datum\", \"user\", \"address\", \"breach\", \"password\", \"detail\", \"order\", \"mail\", \"cpanel\", \"party\", \"gmail\", \"legit\", \"data\", \"signature\", \"apple\", \"form\", \"notice\", \"admin\", \"contract\", \"token\", \"claim\", \"button\", \"legitimate\", \"awful\", \"letter\", \"ready\", \"hostgator\", \"daily\", \"mistake\", \"student\", \"contact\", \"account\", \"free\", \"wordpress\", \"access\", \"private\", \"provider\", \"video\", \"news\", \"r\", \"future\", \"family\", \"man\", \"traffic\", \"database\", \"third\", \"abuse\", \"type\", \"c\", \"listing\", \"wait\", \"none\", \"nice\", \"shopify\", \"matter\", \"lol\", \"photo\", \"php\", \"session\", \"glad\", \"resource\", \"commercial\", \"cash\", \"center\", \"total\", \"smart\", \"black\", \"ecommerce\", \"right\", \"internet\", \"check\", \"available\", \"link\", \"rare\", \"offer\", \"class\", \"e\", \"step\", \"recent\", \"hacker\", \"logo\", \"podcast\", \"super\", \"insight\", \"newsletter\", \"kid\", \"music\", \"view\", \"trend\", \"holiday\", \"image\", \"chance\", \"strong\", \"olhardigital\", \"publieditorial\", \"gift\", \"politic\", \"proud\", \"lawsuit\", \"guide\", \"trial\", \"piece\", \"original\", \"live\"], \"Freq\": [21113.0, 5403.0, 4786.0, 5300.0, 6269.0, 3808.0, 2576.0, 2176.0, 3521.0, 2663.0, 2587.0, 2387.0, 4439.0, 4144.0, 3788.0, 1949.0, 1154.0, 3443.0, 2220.0, 1942.0, 1591.0, 3795.0, 1487.0, 945.0, 1908.0, 3619.0, 793.0, 785.0, 1392.0, 1525.0, 3520.2632098055124, 2219.4031401625693, 1907.2161394878922, 1525.1106303302338, 1357.7940089193391, 1239.238865031815, 1218.0933294356214, 1012.101484854198, 908.23376903468, 820.7501598416765, 814.7053291692329, 774.7841569315885, 731.3813110483109, 654.5057591830333, 630.1755134961412, 611.5367087611686, 577.098886676387, 551.6044573299087, 549.7473999108265, 546.1299450102103, 537.7142883375868, 497.80414794064086, 484.96401241311554, 473.3762843692494, 455.6041126101512, 443.4078719415419, 435.37273651922743, 407.22247650376926, 396.73740720399763, 377.96207957769263, 378.1508878316628, 3491.0538621814912, 1262.6850801901344, 2975.5011512388774, 3350.0225634807593, 1135.8451166426398, 2004.8995351982364, 1142.2591586110632, 1382.0610919104677, 997.6681290389158, 1622.9224527350952, 2642.1284429990765, 862.1953329744601, 1000.531772393321, 1226.6765341201967, 1525.809251771438, 1324.6690685822134, 840.0932100935036, 1021.4537664331776, 2662.294124377819, 2586.1703077492, 1023.4240420055196, 955.1722166925208, 941.3337689125262, 938.2996482363413, 664.1926763034905, 523.8076375673322, 515.9223972073644, 500.7266385462936, 427.25710681570325, 395.0955887851698, 389.5702896893446, 385.4394077508259, 378.3742653318645, 373.49971363890586, 362.3720829968421, 358.0308724793043, 357.29324536333365, 350.9706760718308, 338.78721744802766, 319.4539075659795, 317.2944028578803, 309.8424644364515, 306.93613437382265, 300.20076335429167, 298.6401960192198, 294.4352805693801, 285.48268645429613, 278.7951417992431, 1350.7116932236222, 630.4917177923854, 633.6301746928082, 2005.544367298338, 1068.6130409731727, 651.730920607959, 1026.732632749069, 449.649558373228, 1189.5359049668878, 1134.809921603735, 1405.3227321750023, 507.38705846866185, 589.6263833105664, 714.3744612568198, 524.255688019765, 731.3881588914728, 473.6583038205977, 537.0925796635322, 430.1392663244546, 477.4309691985949, 461.6473289548815, 467.5959260655576, 21112.647134589624, 5299.756300219228, 2386.182795130616, 1948.263007616979, 1590.7452403801967, 1487.0440322343813, 861.9419100540226, 762.5051619253628, 745.9891320130536, 736.34853548522, 719.4480643632755, 527.7517842634285, 514.0130778221746, 510.0548116772789, 510.01821147528653, 498.07851821991125, 373.43027134273115, 303.00913807108316, 302.52870577793806, 281.3256643307917, 268.9205802333616, 253.57327305774535, 234.11082753596858, 236.43627164018892, 231.13327592404613, 226.477519610563, 225.2362521738297, 220.88003334407887, 216.88643866544666, 213.73315839640128, 852.7151620642439, 852.5859287777301, 489.63980715250875, 544.766586309512, 1656.8370188140013, 1371.3974083260389, 420.8830094505047, 283.7335880433021, 329.9994622719184, 369.07834439334425, 315.03089366860206, 287.55304365013137, 293.39447165378175, 4785.821979412889, 2175.293936888286, 764.0511679898365, 723.7593938865722, 676.6658489548063, 525.7772335994133, 493.47691364829296, 490.05613839751476, 472.08336121827364, 451.49746340196083, 350.7829662685912, 331.82919690167853, 323.63834644676723, 309.1203149206071, 281.3575057011773, 265.31880073447525, 190.06942175370588, 184.54979847498433, 181.76197093584167, 163.38373432129794, 162.58808553381243, 159.7133817337318, 159.36601500595017, 151.74199722887673, 148.15980724077227, 149.72097959741453, 145.07747733769213, 145.09552757181473, 138.90230551778993, 138.5023233949107, 2295.562439373231, 3280.2216600491247, 795.6608486381141, 3489.500140956104, 529.3610003895791, 395.0408125038977, 2117.2395152278423, 670.7022729062509, 713.0769748692784, 256.899950234141, 467.1357989610668, 294.0177324408152, 548.8590707627698, 384.9686712107093, 537.3700483331436, 793.7449511440709, 305.28553230756245, 335.42582707708107, 5403.147071600991, 1153.3230834144117, 944.47123504065, 784.4174122358952, 721.150082458464, 611.4443830627445, 596.3074209641154, 369.51049876804916, 348.21525045087304, 326.7598323416765, 319.26832577744784, 241.5059408632554, 239.07995130692885, 235.2161006331919, 215.51457776190398, 210.38027156082222, 210.2282215783727, 196.9630229211016, 175.98172966027963, 175.7650158717711, 167.26403362733492, 166.29212843697678, 165.7145087577402, 159.71354384963024, 155.89363182284578, 155.5818867953063, 152.27425944776314, 148.59456147133187, 146.27136281076332, 144.067865859031, 144.1312363889688, 366.6036069416497, 560.1707323272917, 495.05905983638826, 527.6893331264349, 277.2658932548045, 227.0040755636283, 203.224951305765, 792.4255155768172, 605.3629089638358, 569.1218030006794, 378.0953116930512, 298.8747656769653, 271.9230926003949, 270.2876465234075, 268.66534979315236, 267.08454097788535, 259.24274446537714, 255.19877114815117, 214.73947086923883, 204.87404010694, 203.95876397938375, 196.06138872448219, 186.01171019448634, 184.38974298246671, 181.34442959773156, 180.85732318889, 179.86486133749617, 173.14929538866394, 158.6814206652877, 156.8217452746919, 156.66975891138813, 153.2881800129631, 153.22466145022784, 151.4312192249743, 148.3659621413171, 146.10130883925038, 141.23586225218347, 283.6937036524823, 401.42918837035256, 320.36792210788633, 313.23030606471366, 198.59453662313067, 163.62731677585847, 674.8394860223297, 417.4578405737344, 393.18253921944677, 375.5903602488958, 366.8805634794601, 349.3988898403434, 288.18791099856844, 241.67802296443955, 231.30035001174184, 225.3118089713252, 207.78717480163968, 202.25122659848742, 195.0214276778908, 191.121833833264, 181.07925577200075, 179.65109687161473, 174.49007943797, 169.4540343391648, 168.54381067867374, 164.19002725806226, 161.3026556421786, 161.3026556421786, 157.57912977144017, 157.38500213202593, 155.1845172306292, 150.89299285511953, 143.12973178707213, 140.54662148733485, 139.8523154437942, 137.75874321171113, 215.72961473108217], \"Total\": [21113.0, 5403.0, 4786.0, 5300.0, 6269.0, 3808.0, 2576.0, 2176.0, 3521.0, 2663.0, 2587.0, 2387.0, 4439.0, 4144.0, 3788.0, 1949.0, 1154.0, 3443.0, 2220.0, 1942.0, 1591.0, 3795.0, 1487.0, 945.0, 1908.0, 3619.0, 793.0, 785.0, 1392.0, 1525.0, 3521.1200003688796, 2220.2589272100213, 1908.0718745893118, 1525.966322746926, 1358.6498870634475, 1240.0953495673732, 1218.9498043123526, 1012.9790551745637, 909.0893779559472, 821.6057931046956, 815.5609740486138, 775.6410437344794, 732.2374173592538, 655.362362299364, 631.031718978252, 612.3922472528233, 577.9661287099849, 552.461013036691, 550.6033704874674, 546.986218049874, 538.5730910036182, 498.6609696986993, 485.8212006044274, 474.2380717962449, 456.4702598760614, 444.2643840857532, 436.23016477583246, 408.07881879152563, 397.59361319012726, 378.81883181885604, 379.0082439529675, 3788.7943253614385, 1368.6584535169352, 3443.8180496580185, 4144.490220364676, 1273.2274365445119, 2541.6956147286455, 1383.3883639186458, 1942.9375182432182, 1345.6648051736677, 2913.258985485664, 6269.723266944626, 1112.6151415696154, 1462.9002507265295, 2304.132918993079, 3619.8691423577907, 2795.492128292601, 1218.063638576384, 2048.907249290983, 2663.1662287282843, 2587.0430315646363, 1024.2889452873194, 956.036578190496, 942.1981525730524, 939.1639491214247, 665.0560427818236, 524.6718738612358, 516.7865983755494, 501.59033435096603, 428.12388110184133, 395.9605714305841, 390.43617908142573, 386.3039520461289, 379.23817946731384, 374.3631834038064, 363.23604197937004, 358.89485135188426, 358.15814466550154, 351.83462770329237, 339.65143207427633, 320.3247426107999, 318.16319078960066, 310.7064489225342, 307.80195963476376, 301.0647419944178, 299.50591715018436, 295.29971942769015, 286.3477387946023, 279.65991611841423, 1392.8270129772884, 749.1008524232637, 773.9290031689939, 3795.8142763151395, 1872.9355557589067, 986.7559256449546, 2048.907249290983, 561.10009533605, 2913.258985485664, 2795.492128292601, 4439.843483157115, 719.4186510309627, 991.7593731266487, 1604.3352793836184, 847.0786242258672, 2304.132918993079, 722.2056349413573, 1103.606211083119, 541.5622818870498, 1097.5119388692945, 1462.9002507265295, 3443.8180496580185, 21113.524624654547, 5300.633074490097, 2387.0667243585053, 1949.139154896796, 1591.6220916688303, 1487.92098498995, 862.8183908981392, 763.3827961310697, 746.8650898438518, 737.2264986135391, 720.3257538664955, 528.6293637870265, 514.88866870011, 510.93036823985346, 510.8937683035291, 498.9550458999987, 374.30725091289463, 303.88733795410025, 303.40575840074047, 282.2012427910929, 269.79867422799765, 254.45009551040465, 234.99113090395514, 237.32541281654895, 232.019871398699, 227.35408147079323, 226.1146915469795, 221.75872595219775, 217.76317477129913, 214.62572954109535, 991.6990975421407, 1077.3546121150239, 577.602638275949, 744.0785812798342, 3619.8691423577907, 3795.8142763151395, 804.8439711105309, 383.7614980368929, 790.054039664621, 2541.6956147286455, 4439.843483157115, 597.1462908901809, 1872.9355557589067, 4786.687205475207, 2176.170102616312, 764.9160259931675, 724.6258250425399, 677.5325384727735, 526.6419236066025, 494.3415934114556, 490.9218473641895, 472.9646875230411, 452.37025807936516, 351.646902689872, 332.6960040905922, 324.5035681492497, 309.9864629858014, 282.2246581302452, 266.18486487111016, 190.9341972956532, 185.41783579101417, 182.6289138724207, 164.250000255939, 163.45595299002966, 160.57963397961015, 160.2329033785278, 152.60882608996496, 149.0242994015801, 150.60521801620376, 145.94290911094657, 145.96329807356696, 139.76933902884062, 139.36799449975257, 2576.9174218402045, 3808.6265238580295, 1027.6857665986306, 6269.723266944626, 679.4417269622621, 503.97333973056016, 4439.843483157115, 1107.111507387371, 1379.4359244722393, 318.3422858668933, 781.0717938789548, 413.12953038369994, 1315.2664629880364, 835.1611055232298, 1720.0800411963335, 4144.490220364676, 658.915003498341, 2795.492128292601, 5403.995391748424, 1154.1716715701755, 945.3199754483047, 785.2656135385009, 721.9990270428459, 612.2925835502317, 597.1572569426169, 370.3593581059793, 349.06322657879406, 327.60792352681693, 320.11863786551606, 242.35343781277678, 239.92956623152676, 236.0650560287088, 216.36187235454338, 211.22821595932874, 211.07721547884822, 197.8124574340952, 176.82997859579157, 176.61498420688196, 168.11430770330426, 167.14153865149422, 166.5647538421733, 160.5640154082825, 156.74277124627747, 156.43153978982596, 153.1233404388838, 149.44380612372493, 147.12058828733518, 144.91739103418934, 144.9814975781455, 597.3005306186672, 1942.9375182432182, 1720.0800411963335, 3808.6265238580295, 804.9534128734144, 486.3048986695945, 814.3788401303385, 793.2649488998567, 606.2025819160019, 569.9597739677668, 378.93434117523714, 299.71384594030377, 272.7615707669562, 271.1275230710354, 269.50676876979395, 267.92612393320957, 260.0821127515809, 256.0385208464376, 215.57738240150317, 205.71460170781094, 204.79847198726299, 196.9001604765361, 186.85079297939305, 185.22896072406087, 182.18372312597833, 181.69671385893884, 180.7040613757362, 173.98840004909707, 159.52139682104357, 157.66083803142521, 157.50866172865702, 154.12687619071733, 154.06453999782744, 152.2709609038132, 149.2062181282242, 146.94103907238093, 142.07460130021383, 375.8679064993734, 991.7593731266487, 818.453605061443, 781.0717938789548, 744.0785812798342, 648.9771482773197, 675.6875056091843, 418.3034139230101, 394.02779081347455, 376.4347514993285, 367.7264131512551, 350.24465089347893, 289.0341902238471, 242.5236398005342, 232.14533801925742, 226.15977126533917, 208.63320993700188, 203.09655889507465, 195.86742595322596, 191.96703544138262, 181.92511592335973, 180.49649808494834, 175.3356516346309, 170.2996760065345, 169.38928781412326, 165.0358498899509, 162.14662841905604, 162.14662841905604, 158.42402106377315, 158.2325043334435, 156.03011414822564, 151.73951661471108, 143.97611174669998, 141.3930222259638, 140.6978649332575, 138.60466313735213, 330.6262263677158], \"Category\": [\"Default\", \"Default\", \"Default\", \"Default\", \"Default\", \"Default\", \"Default\", \"Default\", \"Default\", \"Default\", \"Default\", \"Default\", \"Default\", \"Default\", \"Default\", \"Default\", \"Default\", \"Default\", \"Default\", \"Default\", \"Default\", \"Default\", \"Default\", \"Default\", \"Default\", \"Default\", \"Default\", \"Default\", \"Default\", \"Default\", \"Topic1\", \"Topic1\", \"Topic1\", \"Topic1\", \"Topic1\", \"Topic1\", \"Topic1\", \"Topic1\", \"Topic1\", \"Topic1\", \"Topic1\", \"Topic1\", \"Topic1\", \"Topic1\", \"Topic1\", \"Topic1\", \"Topic1\", \"Topic1\", \"Topic1\", \"Topic1\", \"Topic1\", \"Topic1\", \"Topic1\", \"Topic1\", \"Topic1\", \"Topic1\", \"Topic1\", \"Topic1\", \"Topic1\", \"Topic1\", \"Topic1\", \"Topic1\", \"Topic1\", \"Topic1\", \"Topic1\", \"Topic1\", \"Topic1\", \"Topic1\", \"Topic1\", \"Topic1\", \"Topic1\", \"Topic1\", \"Topic1\", \"Topic1\", \"Topic1\", \"Topic1\", \"Topic1\", \"Topic1\", \"Topic1\", \"Topic2\", \"Topic2\", \"Topic2\", \"Topic2\", \"Topic2\", \"Topic2\", \"Topic2\", \"Topic2\", \"Topic2\", \"Topic2\", \"Topic2\", \"Topic2\", \"Topic2\", \"Topic2\", \"Topic2\", \"Topic2\", \"Topic2\", \"Topic2\", \"Topic2\", \"Topic2\", \"Topic2\", \"Topic2\", \"Topic2\", \"Topic2\", \"Topic2\", \"Topic2\", \"Topic2\", \"Topic2\", \"Topic2\", \"Topic2\", \"Topic2\", \"Topic2\", \"Topic2\", \"Topic2\", \"Topic2\", \"Topic2\", \"Topic2\", \"Topic2\", \"Topic2\", \"Topic2\", \"Topic2\", \"Topic2\", \"Topic2\", \"Topic2\", \"Topic2\", \"Topic2\", \"Topic2\", \"Topic2\", \"Topic2\", \"Topic2\", \"Topic2\", \"Topic2\", \"Topic3\", \"Topic3\", \"Topic3\", \"Topic3\", \"Topic3\", \"Topic3\", \"Topic3\", \"Topic3\", \"Topic3\", \"Topic3\", \"Topic3\", \"Topic3\", \"Topic3\", \"Topic3\", \"Topic3\", \"Topic3\", \"Topic3\", \"Topic3\", \"Topic3\", \"Topic3\", \"Topic3\", \"Topic3\", \"Topic3\", \"Topic3\", \"Topic3\", \"Topic3\", \"Topic3\", \"Topic3\", \"Topic3\", \"Topic3\", \"Topic3\", \"Topic3\", \"Topic3\", \"Topic3\", \"Topic3\", \"Topic3\", \"Topic3\", \"Topic3\", \"Topic3\", \"Topic3\", \"Topic3\", \"Topic3\", \"Topic3\", \"Topic4\", \"Topic4\", \"Topic4\", \"Topic4\", \"Topic4\", \"Topic4\", \"Topic4\", \"Topic4\", \"Topic4\", \"Topic4\", \"Topic4\", \"Topic4\", \"Topic4\", \"Topic4\", \"Topic4\", \"Topic4\", \"Topic4\", \"Topic4\", \"Topic4\", \"Topic4\", \"Topic4\", \"Topic4\", \"Topic4\", \"Topic4\", \"Topic4\", \"Topic4\", \"Topic4\", \"Topic4\", \"Topic4\", \"Topic4\", \"Topic4\", \"Topic4\", \"Topic4\", \"Topic4\", \"Topic4\", \"Topic4\", \"Topic4\", \"Topic4\", \"Topic4\", \"Topic4\", \"Topic4\", \"Topic4\", \"Topic4\", \"Topic4\", \"Topic4\", \"Topic4\", \"Topic4\", \"Topic4\", \"Topic5\", \"Topic5\", \"Topic5\", \"Topic5\", \"Topic5\", \"Topic5\", \"Topic5\", \"Topic5\", \"Topic5\", \"Topic5\", \"Topic5\", \"Topic5\", \"Topic5\", \"Topic5\", \"Topic5\", \"Topic5\", \"Topic5\", \"Topic5\", \"Topic5\", \"Topic5\", \"Topic5\", \"Topic5\", \"Topic5\", \"Topic5\", \"Topic5\", \"Topic5\", \"Topic5\", \"Topic5\", \"Topic5\", \"Topic5\", \"Topic5\", \"Topic5\", \"Topic5\", \"Topic5\", \"Topic5\", \"Topic5\", \"Topic5\", \"Topic5\", \"Topic6\", \"Topic6\", \"Topic6\", \"Topic6\", \"Topic6\", \"Topic6\", \"Topic6\", \"Topic6\", \"Topic6\", \"Topic6\", \"Topic6\", \"Topic6\", \"Topic6\", \"Topic6\", \"Topic6\", \"Topic6\", \"Topic6\", \"Topic6\", \"Topic6\", \"Topic6\", \"Topic6\", \"Topic6\", \"Topic6\", \"Topic6\", \"Topic6\", \"Topic6\", \"Topic6\", \"Topic6\", \"Topic6\", \"Topic6\", \"Topic6\", \"Topic6\", \"Topic6\", \"Topic6\", \"Topic6\", \"Topic6\", \"Topic7\", \"Topic7\", \"Topic7\", \"Topic7\", \"Topic7\", \"Topic7\", \"Topic7\", \"Topic7\", \"Topic7\", \"Topic7\", \"Topic7\", \"Topic7\", \"Topic7\", \"Topic7\", \"Topic7\", \"Topic7\", \"Topic7\", \"Topic7\", \"Topic7\", \"Topic7\", \"Topic7\", \"Topic7\", \"Topic7\", \"Topic7\", \"Topic7\", \"Topic7\", \"Topic7\", \"Topic7\", \"Topic7\", \"Topic7\", \"Topic7\"], \"logprob\": [30.0, 29.0, 28.0, 27.0, 26.0, 25.0, 24.0, 23.0, 22.0, 21.0, 20.0, 19.0, 18.0, 17.0, 16.0, 15.0, 14.0, 13.0, 12.0, 11.0, 10.0, 9.0, 8.0, 7.0, 6.0, 5.0, 4.0, 3.0, 2.0, 1.0, -3.6297, -4.091, -4.2426, -4.4662, -4.5824, -4.6738, -4.691, -4.8762, -4.9845, -5.0858, -5.0932, -5.1434, -5.2011, -5.3121, -5.35, -5.38, -5.438, -5.4832, -5.4865, -5.4931, -5.5087, -5.5858, -5.6119, -5.6361, -5.6744, -5.7015, -5.7198, -5.7866, -5.8127, -5.8612, -5.8607, -3.638, -4.655, -3.7978, -3.6793, -4.7609, -4.1927, -4.7552, -4.5647, -4.8906, -4.404, -3.9167, -5.0365, -4.8877, -4.6839, -4.4657, -4.6071, -5.0625, -4.867, -3.5864, -3.6154, -4.5425, -4.6115, -4.6261, -4.6293, -4.9748, -5.2122, -5.2274, -5.2573, -5.416, -5.4942, -5.5083, -5.519, -5.5375, -5.5505, -5.5807, -5.5928, -5.5948, -5.6127, -5.648, -5.7068, -5.7135, -5.7373, -5.7467, -5.7689, -5.7741, -5.7883, -5.8192, -5.8429, -4.265, -5.0269, -5.0219, -3.8697, -4.4993, -4.9937, -4.5392, -5.3649, -4.3921, -4.4392, -4.2254, -5.2441, -5.0939, -4.902, -5.2114, -4.8784, -5.3129, -5.1872, -5.4093, -5.305, -5.3386, -5.3258, -1.3968, -2.779, -3.577, -3.7797, -3.9824, -4.0499, -4.5952, -4.7178, -4.7397, -4.7527, -4.7759, -5.0858, -5.1122, -5.1199, -5.12, -5.1436, -5.4317, -5.6406, -5.6422, -5.7149, -5.76, -5.8187, -5.8986, -5.8887, -5.9114, -5.9318, -5.9373, -5.9568, -5.975, -5.9897, -4.606, -4.6061, -5.1607, -5.054, -3.9417, -4.1308, -5.312, -5.7064, -5.5553, -5.4434, -5.6017, -5.693, -5.6729, -2.5187, -3.3072, -4.3535, -4.4077, -4.475, -4.7273, -4.7907, -4.7976, -4.835, -4.8796, -5.132, -5.1875, -5.2125, -5.2584, -5.3525, -5.4112, -5.7448, -5.7742, -5.7895, -5.8961, -5.9009, -5.9188, -5.921, -5.97, -5.9939, -5.9834, -6.0149, -6.0148, -6.0584, -6.0613, -3.2534, -2.8965, -4.313, -2.8346, -4.7205, -5.0132, -3.3343, -4.4838, -4.4226, -5.4435, -4.8455, -5.3085, -4.6843, -5.039, -4.7055, -4.3154, -5.2709, -5.1768, -1.8728, -3.4171, -3.6169, -3.8026, -3.8867, -4.0517, -4.0768, -4.5554, -4.6147, -4.6783, -4.7015, -4.9806, -4.9907, -5.007, -5.0945, -5.1186, -5.1193, -5.1845, -5.2972, -5.2984, -5.348, -5.3538, -5.3573, -5.3942, -5.4184, -5.4204, -5.4419, -5.4663, -5.4821, -5.4973, -5.4968, -4.5633, -4.1393, -4.2629, -4.199, -4.8426, -5.0426, -5.1532, -3.7501, -4.0193, -4.0811, -4.49, -4.7251, -4.8196, -4.8257, -4.8317, -4.8376, -4.8674, -4.8831, -5.0557, -5.1028, -5.1072, -5.1467, -5.1994, -5.2081, -5.2248, -5.2275, -5.233, -5.271, -5.3583, -5.3701, -5.371, -5.3928, -5.3933, -5.405, -5.4255, -5.4409, -5.4747, -4.7773, -4.4301, -4.6557, -4.6782, -5.1339, -5.3276, -3.7797, -4.26, -4.3199, -4.3657, -4.3891, -4.438, -4.6306, -4.8066, -4.8505, -4.8767, -4.9577, -4.9847, -5.0211, -5.0413, -5.0952, -5.1032, -5.1323, -5.1616, -5.167, -5.1932, -5.2109, -5.2109, -5.2343, -5.2355, -5.2496, -5.2776, -5.3304, -5.3486, -5.3536, -5.3687, -4.9202], \"loglift\": [30.0, 29.0, 28.0, 27.0, 26.0, 25.0, 24.0, 23.0, 22.0, 21.0, 20.0, 19.0, 18.0, 17.0, 16.0, 15.0, 14.0, 13.0, 12.0, 11.0, 10.0, 9.0, 8.0, 7.0, 6.0, 5.0, 4.0, 3.0, 2.0, 1.0, 1.2685, 1.2683, 1.2683, 1.2682, 1.2681, 1.268, 1.268, 1.2679, 1.2678, 1.2677, 1.2677, 1.2676, 1.2676, 1.2674, 1.2674, 1.2673, 1.2672, 1.2672, 1.2672, 1.2672, 1.2671, 1.267, 1.267, 1.2669, 1.2668, 1.2668, 1.2668, 1.2666, 1.2666, 1.2665, 1.2665, 1.1869, 1.1881, 1.1226, 1.0559, 1.1546, 1.0315, 1.0772, 0.9281, 0.9695, 0.6837, 0.4046, 1.0137, 0.8888, 0.6383, 0.4048, 0.5219, 0.8972, 0.5727, 1.591, 1.591, 1.5905, 1.5905, 1.5904, 1.5904, 1.5901, 1.5897, 1.5897, 1.5896, 1.5893, 1.5892, 1.5891, 1.5891, 1.5891, 1.5891, 1.589, 1.589, 1.5889, 1.5889, 1.5888, 1.5886, 1.5886, 1.5886, 1.5885, 1.5885, 1.5885, 1.5884, 1.5883, 1.5883, 1.5607, 1.419, 1.3914, 0.9534, 1.0302, 1.1766, 0.9004, 1.3699, 0.6957, 0.6898, 0.441, 1.2422, 1.0714, 0.7823, 1.1116, 0.4438, 1.1695, 0.8712, 1.361, 0.759, 0.438, -0.4054, 1.7103, 1.7102, 1.71, 1.7099, 1.7098, 1.7097, 1.7093, 1.7092, 1.7092, 1.7091, 1.7091, 1.7087, 1.7086, 1.7086, 1.7086, 1.7086, 1.708, 1.7074, 1.7074, 1.7072, 1.7071, 1.7069, 1.7066, 1.7066, 1.7065, 1.7065, 1.7064, 1.7064, 1.7063, 1.7062, 1.5593, 1.4763, 1.5451, 1.3985, 0.9288, 0.6923, 1.062, 1.4084, 0.8373, -0.2192, -0.9354, 0.9796, -0.1434, 2.0724, 2.0722, 2.0715, 2.0714, 2.0713, 2.0709, 2.0708, 2.0708, 2.0707, 2.0707, 2.0701, 2.07, 2.0699, 2.0698, 2.0695, 2.0693, 2.068, 2.0679, 2.0678, 2.0673, 2.0673, 2.0672, 2.0672, 2.0669, 2.0668, 2.0667, 2.0666, 2.0666, 2.0664, 2.0664, 1.957, 1.9232, 1.8167, 1.4866, 1.823, 1.829, 1.3321, 1.5714, 1.4127, 1.8581, 1.5585, 1.7325, 1.1986, 1.2981, 0.9091, 0.4198, 1.3032, -0.0478, 2.597, 2.5965, 2.5963, 2.5961, 2.596, 2.5958, 2.5958, 2.5949, 2.5948, 2.5946, 2.5945, 2.5937, 2.5937, 2.5936, 2.5933, 2.5932, 2.5932, 2.5929, 2.5924, 2.5924, 2.5921, 2.5921, 2.5921, 2.5919, 2.5918, 2.5918, 2.5916, 2.5915, 2.5914, 2.5913, 2.5913, 2.1091, 1.3535, 1.3518, 0.6207, 1.5314, 1.8353, 1.2091, 2.6385, 2.6382, 2.6381, 2.6374, 2.6368, 2.6365, 2.6365, 2.6365, 2.6364, 2.6363, 2.6363, 2.6357, 2.6355, 2.6355, 2.6353, 2.6351, 2.635, 2.635, 2.6349, 2.6349, 2.6347, 2.6343, 2.6342, 2.6342, 2.6341, 2.6341, 2.634, 2.6339, 2.6338, 2.6337, 2.3582, 1.7351, 1.7016, 1.7258, 1.3187, 1.2618, 2.7693, 2.7685, 2.7684, 2.7683, 2.7683, 2.7681, 2.7676, 2.7671, 2.7669, 2.7668, 2.7665, 2.7664, 2.7662, 2.7661, 2.7659, 2.7659, 2.7657, 2.7656, 2.7656, 2.7654, 2.7653, 2.7653, 2.7652, 2.7652, 2.7651, 2.765, 2.7647, 2.7646, 2.7645, 2.7644, 2.3436]}, \"token.table\": {\"Topic\": [1, 2, 6, 1, 5, 1, 5, 2, 2, 5, 5, 1, 2, 3, 4, 5, 4, 2, 2, 3, 3, 3, 6, 5, 1, 1, 4, 4, 6, 3, 1, 2, 4, 2, 3, 5, 3, 4, 1, 2, 3, 5, 3, 2, 6, 1, 3, 1, 3, 6, 6, 7, 1, 3, 4, 4, 6, 5, 7, 1, 1, 4, 3, 4, 6, 2, 1, 2, 3, 4, 1, 5, 5, 3, 4, 5, 3, 1, 5, 5, 6, 5, 1, 2, 3, 4, 5, 2, 3, 3, 3, 3, 1, 7, 4, 3, 6, 5, 2, 2, 1, 3, 2, 6, 1, 5, 1, 2, 4, 5, 2, 3, 6, 7, 6, 5, 1, 2, 3, 4, 4, 1, 2, 3, 2, 7, 1, 4, 7, 1, 2, 1, 3, 4, 7, 1, 4, 5, 4, 1, 4, 2, 3, 4, 7, 1, 7, 1, 2, 4, 6, 1, 3, 2, 2, 7, 1, 2, 2, 1, 7, 5, 5, 3, 5, 2, 7, 1, 6, 6, 4, 1, 7, 2, 7, 6, 1, 2, 3, 4, 5, 6, 1, 2, 3, 4, 2, 3, 6, 2, 1, 1, 5, 1, 4, 7, 3, 4, 1, 1, 2, 4, 6, 7, 6, 6, 5, 1, 7, 2, 7, 1, 2, 3, 4, 6, 2, 5, 7, 2, 1, 2, 4, 1, 2, 3, 2, 4, 2, 5, 5, 2, 3, 5, 1, 2, 1, 6, 6, 7, 1, 1, 2, 7, 7, 1, 3, 3, 4, 3, 3, 4, 1, 5, 1, 1, 1, 4, 4, 4, 7, 1, 5, 7, 6, 7, 5, 7, 4, 3, 3, 3, 6, 3, 2, 6, 4, 4, 3, 4, 1, 2, 3, 1, 1, 4, 6, 2, 2, 6, 5, 1, 4, 4, 2, 6, 2, 1, 2, 3, 3, 7, 1, 4, 2, 7, 5, 7, 1, 3, 4, 1, 2, 2, 4, 4, 1, 2, 6, 1, 2, 1, 2, 3, 5, 1, 2, 3, 6, 6, 4, 3, 7, 7, 6, 2, 1, 1, 4, 5, 1, 2, 6, 7, 3, 6, 1, 2, 4, 4, 1, 4, 5, 4, 1, 7, 1, 3, 4, 2, 4, 5, 1, 1, 2, 3], \"Freq\": [0.9994470810040225, 0.9958643762576609, 0.9958393418904034, 0.6546962738114076, 0.34411929382497136, 0.7112941033994693, 0.2882233704078892, 0.995293349267308, 0.9987194399114798, 0.9983882987912868, 0.9953063467949131, 0.1355903653549349, 0.31645259688319527, 0.07094844698804734, 0.47681861039268636, 0.9941853603518328, 0.9965563291206997, 0.9973945596846903, 0.9976402906516828, 0.9988417053419478, 0.9970845548554068, 0.7324495204022484, 0.2674448707523806, 0.9952612089197376, 0.9992208011281577, 0.9983283990843178, 0.9991363473106922, 0.9994623110505447, 0.9924363588538734, 0.994044173467072, 0.15479993543697904, 0.3809292528890367, 0.46288215988508435, 0.47586863261401235, 0.5230827528211467, 0.9986163041701902, 0.9970397399828484, 0.9987811004444795, 0.11012129929754667, 0.5284768573944465, 0.36118732377257534, 0.9966094036754712, 0.9986626542525784, 0.997374869397734, 0.9973216930502115, 0.9988016822301933, 0.9981790703828027, 0.9971539827835735, 0.9956043790880891, 0.9930902984045359, 0.9916532942573598, 0.9977018156275004, 0.9993594836404561, 0.10904501541975485, 0.8909870299066089, 0.597896382457734, 0.40073140837102944, 0.9931702276962137, 0.9973915778596412, 0.999116721494234, 0.5376208219355483, 0.4609889007687886, 0.999415559995327, 0.9979603392208978, 0.9926886457536263, 0.9967350875139919, 0.5571080388273247, 0.40847724350247466, 0.034325818781720564, 0.9923055542742352, 0.3850657888446415, 0.6144310630694931, 0.9965179386695662, 0.9950702382965333, 0.9955487143430041, 0.998144356460392, 0.9965075458471446, 0.9996819192845565, 0.99238319870536, 0.9954882944277053, 0.9981196436285917, 0.9989848376987268, 0.7888434745613928, 0.06570416970162224, 0.14517867437065035, 0.9981222115716809, 0.9980620566372383, 0.9966245438618416, 0.9994985528452963, 0.9999751521991769, 0.9957433114779648, 0.998231104965782, 0.9986745108623627, 0.9988450813916704, 0.9988024489459766, 0.2421063315767602, 0.7555845952505483, 0.9998158044786746, 0.9988230747075103, 0.9987416194490336, 0.9989041649219598, 0.9970800430183298, 0.9967663874666786, 0.9976182416996312, 0.9983096649479155, 0.9948965809672804, 0.3214966668733525, 0.07790335146659896, 0.31219477416092273, 0.2877773057907947, 0.15062258070648885, 0.8483340752434428, 0.9975342926894951, 0.9973235052302929, 0.9958084833261289, 0.9985416430814165, 0.5325213618909654, 0.3172560028869566, 0.09374459182432644, 0.05642035619056684, 0.9972105452160713, 0.42459674787692414, 0.4346194178911863, 0.14031738019967022, 0.9976277840849814, 0.9932203215182163, 0.9983100872341154, 0.9977465178081082, 0.9964219104215798, 0.7747512754355819, 0.22469584554396227, 0.47971402077873815, 0.41769294685219943, 0.1012588962065938, 0.9923823157345424, 0.5823914937052321, 0.4174059138957865, 0.9970302809113581, 0.995107229040764, 0.99936674700318, 0.995981427309254, 0.06770264199942927, 0.15306684278131835, 0.7785803829934366, 0.9923683001811194, 0.9973563470049231, 0.9969649609609463, 0.1881597185810415, 0.29323592506136337, 0.12706890085992414, 0.3909812334151512, 0.9994382420266309, 0.9964953910499301, 0.9984779048488835, 0.9963440434868851, 0.9955713618586426, 0.8922207984168629, 0.10760057164006182, 0.9987606539598186, 0.9989697907675539, 0.9951264072061807, 0.996125670353483, 0.9964872863521237, 0.9944152090548622, 0.9972413504948826, 0.8410082540448528, 0.15752218091633752, 0.7473298578962456, 0.2527053540102769, 0.9965262470341024, 0.9972861004832766, 0.344800233340266, 0.6533057052762934, 0.9977263139372098, 0.9978408710962574, 0.9961655120549966, 0.13179503492225042, 0.8191965896147722, 0.047808002863953585, 0.9968177223731006, 0.996954057323039, 0.9972079249843928, 0.7416408574876869, 0.2578651077637549, 0.7917541637710364, 0.20791668544514907, 0.9699697000506333, 0.029436534198427806, 0.9935025857103612, 0.9995968248104456, 0.9985069850962536, 0.9983650283381594, 0.9936695587214035, 0.4828060428068133, 0.5168779407226094, 0.9949624921843526, 0.9998805662491252, 0.996970936848981, 0.9991655283797186, 0.47397736755898806, 0.406010801644869, 0.11983578726963094, 0.9980162045628361, 0.9946008002250735, 0.9954466718292875, 0.9954283405642863, 0.9958927893387812, 0.9991735304111901, 0.9968840466521988, 0.998310827528891, 0.9929284473551145, 0.050762702268986035, 0.6185966509057833, 0.13694124333028793, 0.15819074660567742, 0.03541583879231584, 0.9964634118649552, 0.9990297042639422, 0.995637497875862, 0.9989157546749331, 0.29329236835551387, 0.7047356907878936, 0.9944956523785101, 0.39829579777457874, 0.4450441308467124, 0.15645108801474064, 0.8019959428637938, 0.19782566590640246, 0.9980820570362445, 0.9965055522134703, 0.9978889446239296, 0.6563227660754662, 0.207697077871983, 0.13569542420969555, 0.49831440654686215, 0.5012427967910161, 0.999262671819284, 0.9961037877600756, 0.994319161226736, 0.9950399749591897, 0.9981969965287424, 0.5128640943806462, 0.48658660544594873, 0.9950662889505779, 0.9922108018283889, 0.9990334892221489, 0.9983363340630788, 0.7400429731819989, 0.25797272656696435, 0.9990514911286402, 0.860139937723149, 0.1391551130196888, 0.5325876846162924, 0.4667853452042408, 0.9993121617310486, 0.997339783582405, 0.3938176029159875, 0.6060816778821734, 0.9956606976216797, 0.9923896483775269, 0.9933979786283624, 0.7490371433304573, 0.2492697378624309, 0.9929284473551145, 0.998316067182978, 0.9989825095129375, 0.9926638196654798, 0.9964463386084447, 0.9979079878266205, 0.9993810256060363, 0.9995531233594688, 0.9988094422479338, 0.9967705793251339, 0.9965785970814005, 0.5949023684444235, 0.40433194872239625, 0.9934004089638928, 0.9935391920259053, 0.999609146120749, 0.9973595480004326, 0.3384828925974718, 0.6607510358489569, 0.9957822625043656, 0.9995216670095545, 0.9214012955604208, 0.07838905321725723, 0.9967314928816196, 0.997574073026732, 0.996597138398947, 0.9933651804811902, 0.9983274670781624, 0.8083020641571768, 0.19157965341516367, 0.999214003103122, 0.9984120995617055, 0.9935958049682949, 0.9995620893973106, 0.9989359085828996, 0.9955986432015272, 0.9982505789677236, 0.9980859079232759, 0.9980245826101257, 0.2856247044126955, 0.7116412126892583, 0.9975066475640051, 0.9937234855903029, 0.993230187337412, 0.9948718940647562, 0.9994329818046929, 0.2142970500339168, 0.7837716181796032, 0.8255093289675514, 0.1734870743889775, 0.9988828415377593, 0.9981603628954966, 0.9960105447006974, 0.6842571798746134, 0.31581100609597546, 0.9965433608353904, 0.8641571526392127, 0.13589568126181167, 0.2722998121488221, 0.5707617631119428, 0.15643891168549975, 0.9933717259492818, 0.09377936504724729, 0.4236817742313137, 0.48229387738584323, 0.9919157650173291, 0.9958413551738899, 0.9963903642993498, 0.9981595078901744, 0.9972492647213872, 0.9972203562822521, 0.9959438882750753, 0.9987283433216458, 0.9973893454155724, 0.2247768797699215, 0.7745558281249243, 0.9986036733777061, 0.20496257533524198, 0.7939991657130995, 0.9984053891431722, 0.9949148531874541, 0.9982740565987721, 0.9961011819106119, 0.6896191409028126, 0.3095076382385243, 0.9998564340125629, 0.9931266283036172, 0.4213902093461144, 0.5566433878190534, 0.022010540836398102, 0.9984481891767116, 0.9228014460105566, 0.07671745988211279, 0.9971800098315883, 0.19161764775888301, 0.8073071389185726, 0.9963586606155767, 0.8612028455542693, 0.1386326531867848, 0.997838460630575, 0.42156220017556895, 0.12072259598736804, 0.45775135366377306], \"Term\": [\"able\", \"abortion\", \"abuse\", \"access\", \"access\", \"account\", \"account\", \"action\", \"ad\", \"address\", \"admin\", \"amp\", \"amp\", \"amp\", \"amp\", \"apple\", \"appraisal\", \"art\", \"article\", \"auction\", \"authentication\", \"available\", \"available\", \"awful\", \"bad\", \"beat\", \"bid\", \"bigrock\", \"black\", \"blockchain\", \"blog\", \"blog\", \"blog\", \"brand\", \"brand\", \"breach\", \"broker\", \"builder\", \"business\", \"business\", \"business\", \"button\", \"buy\", \"buyer\", \"c\", \"call\", \"candomain\", \"card\", \"career\", \"cash\", \"center\", \"chance\", \"chat\", \"cheap\", \"cheap\", \"check\", \"check\", \"claim\", \"class\", \"client\", \"code\", \"code\", \"com\", \"comhow\", \"commercial\", \"community\", \"company\", \"company\", \"company\", \"complaint\", \"contact\", \"contact\", \"contract\", \"couple\", \"coupon\", \"cpanel\", \"crypto\", \"customer\", \"daily\", \"data\", \"database\", \"datum\", \"day\", \"day\", \"day\", \"design\", \"detail\", \"digital\", \"dns\", \"domain\", \"domainname\", \"dot\", \"due\", \"e\", \"easy\", \"ecommerce\", \"ecommerce\", \"email\", \"employee\", \"entrepreneur\", \"error\", \"ethereum\", \"event\", \"family\", \"fee\", \"form\", \"free\", \"free\", \"free\", \"free\", \"full\", \"full\", \"future\", \"gift\", \"glad\", \"gmail\", \"good\", \"good\", \"good\", \"good\", \"government\", \"great\", \"great\", \"great\", \"group\", \"guide\", \"guy\", \"hack\", \"hacker\", \"help\", \"help\", \"high\", \"high\", \"high\", \"holiday\", \"host\", \"host\", \"hostgator\", \"hostinger\", \"hour\", \"html\", \"idea\", \"idea\", \"idea\", \"image\", \"information\", \"insight\", \"internet\", \"internet\", \"internet\", \"internet\", \"issue\", \"jewellery\", \"job\", \"key\", \"kid\", \"last\", \"last\", \"late\", \"launch\", \"lawsuit\", \"legit\", \"legitimate\", \"lesson\", \"letter\", \"life\", \"life\", \"link\", \"link\", \"listing\", \"little\", \"live\", \"live\", \"local\", \"logo\", \"lol\", \"look\", \"look\", \"look\", \"low\", \"mail\", \"man\", \"many\", \"many\", \"market\", \"market\", \"marketing\", \"marketing\", \"matter\", \"medium\", \"message\", \"minute\", \"mistake\", \"month\", \"month\", \"music\", \"name\", \"namecheap\", \"need\", \"new\", \"new\", \"new\", \"news\", \"newsletter\", \"nice\", \"none\", \"notice\", \"number\", \"offer\", \"office\", \"olhardigital\", \"online\", \"online\", \"online\", \"online\", \"online\", \"opportunity\", \"order\", \"original\", \"other\", \"owner\", \"owner\", \"package\", \"page\", \"page\", \"page\", \"part\", \"part\", \"partner\", \"party\", \"password\", \"payment\", \"payment\", \"payment\", \"people\", \"people\", \"phone\", \"photo\", \"php\", \"piece\", \"plan\", \"platform\", \"platform\", \"podcast\", \"politic\", \"popular\", \"portfolio\", \"possible\", \"possible\", \"premium\", \"price\", \"price\", \"private\", \"private\", \"problem\", \"process\", \"product\", \"product\", \"program\", \"promo\", \"proud\", \"provider\", \"provider\", \"publieditorial\", \"r\", \"rare\", \"ready\", \"recent\", \"refund\", \"registrar\", \"registration\", \"renewal\", \"resource\", \"review\", \"right\", \"right\", \"role\", \"safe\", \"sale\", \"secure\", \"security\", \"security\", \"seller\", \"server\", \"service\", \"service\", \"session\", \"several\", \"share\", \"shopify\", \"signature\", \"site\", \"site\", \"size\", \"small\", \"smart\", \"social\", \"solution\", \"space\", \"spvlog\", \"startup\", \"step\", \"store\", \"store\", \"story\", \"strong\", \"student\", \"super\", \"support\", \"system\", \"system\", \"team\", \"team\", \"technology\", \"template\", \"text\", \"thing\", \"thing\", \"third\", \"time\", \"time\", \"today\", \"today\", \"today\", \"token\", \"top\", \"top\", \"top\", \"total\", \"traffic\", \"transaction\", \"transfer\", \"trend\", \"trial\", \"type\", \"update\", \"url\", \"use\", \"use\", \"user\", \"value\", \"value\", \"video\", \"view\", \"vlog\", \"wait\", \"way\", \"way\", \"web\", \"webdesign\", \"website\", \"website\", \"website\", \"websitebuilder\", \"week\", \"week\", \"whois\", \"whole\", \"whole\", \"woman\", \"wordpress\", \"wordpress\", \"wrong\", \"year\", \"year\", \"year\"]}, \"R\": 30, \"lambda.step\": 0.01, \"plot.opts\": {\"xlab\": \"PC1\", \"ylab\": \"PC2\"}, \"topic.order\": [4, 7, 6, 5, 2, 1, 3]};\n",
       "\n",
       "function LDAvis_load_lib(url, callback){\n",
       "  var s = document.createElement('script');\n",
       "  s.src = url;\n",
       "  s.async = true;\n",
       "  s.onreadystatechange = s.onload = callback;\n",
       "  s.onerror = function(){console.warn(\"failed to load library \" + url);};\n",
       "  document.getElementsByTagName(\"head\")[0].appendChild(s);\n",
       "}\n",
       "\n",
       "if(typeof(LDAvis) !== \"undefined\"){\n",
       "   // already loaded: just create the visualization\n",
       "   !function(LDAvis){\n",
       "       new LDAvis(\"#\" + \"ldavis_el1454821963111174884581549157\", ldavis_el1454821963111174884581549157_data);\n",
       "   }(LDAvis);\n",
       "}else if(typeof define === \"function\" && define.amd){\n",
       "   // require.js is available: use it to load d3/LDAvis\n",
       "   require.config({paths: {d3: \"https://d3js.org/d3.v5\"}});\n",
       "   require([\"d3\"], function(d3){\n",
       "      window.d3 = d3;\n",
       "      LDAvis_load_lib(\"https://cdn.jsdelivr.net/gh/bmabey/pyLDAvis@3.3.1/pyLDAvis/js/ldavis.v3.0.0.js\", function(){\n",
       "        new LDAvis(\"#\" + \"ldavis_el1454821963111174884581549157\", ldavis_el1454821963111174884581549157_data);\n",
       "      });\n",
       "    });\n",
       "}else{\n",
       "    // require.js not available: dynamically load d3 & LDAvis\n",
       "    LDAvis_load_lib(\"https://d3js.org/d3.v5.js\", function(){\n",
       "         LDAvis_load_lib(\"https://cdn.jsdelivr.net/gh/bmabey/pyLDAvis@3.3.1/pyLDAvis/js/ldavis.v3.0.0.js\", function(){\n",
       "                 new LDAvis(\"#\" + \"ldavis_el1454821963111174884581549157\", ldavis_el1454821963111174884581549157_data);\n",
       "            })\n",
       "         });\n",
       "}\n",
       "</script>"
      ],
      "text/plain": [
       "PreparedData(topic_coordinates=              x         y  topics  cluster       Freq\n",
       "topic                                                \n",
       "3      0.238621 -0.135002       1        1  28.118736\n",
       "6      0.218496 -0.008409       2        1  20.364740\n",
       "5      0.111224  0.340442       3        1  18.080477\n",
       "4      0.048528 -0.160387       4        1  12.586018\n",
       "1     -0.187381 -0.147689       5        1   7.448181\n",
       "0     -0.208529  0.066905       6        1   7.139145\n",
       "2     -0.220960  0.044139       7        1   6.262704, topic_info=          Term          Freq         Total Category  logprob  loglift\n",
       "3       domain  21113.000000  21113.000000  Default  30.0000  30.0000\n",
       "292      email   5403.000000   5403.000000  Default  29.0000  29.0000\n",
       "68         web   4786.000000   4786.000000  Default  28.0000  28.0000\n",
       "8         name   5300.000000   5300.000000  Default  27.0000  27.0000\n",
       "69     website   6269.000000   6269.000000  Default  26.0000  26.0000\n",
       "...        ...           ...           ...      ...      ...      ...\n",
       "1610     guide    143.129732    143.976112   Topic7  -5.3304   2.7647\n",
       "602      trial    140.546621    141.393022   Topic7  -5.3486   2.7646\n",
       "259      piece    139.852315    140.697865   Topic7  -5.3536   2.7645\n",
       "528   original    137.758743    138.604663   Topic7  -5.3687   2.7644\n",
       "523       live    215.729615    330.626226   Topic7  -4.9202   2.3436\n",
       "\n",
       "[327 rows x 6 columns], token_table=       Topic      Freq       Term\n",
       "term                             \n",
       "120        1  0.999447       able\n",
       "23492      2  0.995864   abortion\n",
       "377        6  0.995839      abuse\n",
       "434        1  0.654696     access\n",
       "434        5  0.344119     access\n",
       "...      ...       ...        ...\n",
       "433        5  0.138633  wordpress\n",
       "101        1  0.997838      wrong\n",
       "70         1  0.421562       year\n",
       "70         2  0.120723       year\n",
       "70         3  0.457751       year\n",
       "\n",
       "[366 rows x 3 columns], R=30, lambda_step=0.01, plot_opts={'xlab': 'PC1', 'ylab': 'PC2'}, topic_order=[4, 7, 6, 5, 2, 1, 3])"
      ]
     },
     "execution_count": 13,
     "metadata": {},
     "output_type": "execute_result"
    }
   ],
   "source": [
    "pyLDAvis.enable_notebook()\n",
    "vis = pyLDAvis.gensim_models.prepare(lda_model, doc_term_matrix, dictionary)\n",
    "vis"
   ]
  },
  {
   "cell_type": "code",
   "execution_count": 14,
   "id": "90161873",
   "metadata": {
    "ExecuteTime": {
     "end_time": "2022-10-03T13:44:33.114877Z",
     "start_time": "2022-10-03T13:44:12.707003Z"
    }
   },
   "outputs": [
    {
     "name": "stdout",
     "output_type": "stream",
     "text": [
      "\n",
      "Perplexity:  -8.844895913450683\n",
      "\n",
      "Coherence Score:  -7.140638539793697\n"
     ]
    }
   ],
   "source": [
    "print('\\nPerplexity: ', lda_model.log_perplexity(doc_term_matrix,total_docs=10000))  # a measure of how good the model is. lower the better.\n",
    "\n",
    "# Compute Coherence Score\n",
    "from gensim.models.coherencemodel import CoherenceModel\n",
    "coherence_model_lda = CoherenceModel(model=lda_model, texts=tokenized_reviews, dictionary=dictionary , coherence='u_mass')#'u_mass'\n",
    "coherence_lda = coherence_model_lda.get_coherence()\n",
    "print('\\nCoherence Score: ', coherence_lda)"
   ]
  },
  {
   "cell_type": "code",
   "execution_count": null,
   "id": "e01d277c",
   "metadata": {},
   "outputs": [],
   "source": []
  },
  {
   "cell_type": "code",
   "execution_count": null,
   "id": "10fb7f2f",
   "metadata": {},
   "outputs": [],
   "source": []
  },
  {
   "cell_type": "code",
   "execution_count": null,
   "id": "ba551833",
   "metadata": {},
   "outputs": [],
   "source": []
  }
 ],
 "metadata": {
  "kernelspec": {
   "display_name": "Python 3",
   "language": "python",
   "name": "python3"
  },
  "language_info": {
   "codemirror_mode": {
    "name": "ipython",
    "version": 3
   },
   "file_extension": ".py",
   "mimetype": "text/x-python",
   "name": "python",
   "nbconvert_exporter": "python",
   "pygments_lexer": "ipython3",
   "version": "3.8.8"
  }
 },
 "nbformat": 4,
 "nbformat_minor": 5
}
