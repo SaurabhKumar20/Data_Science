{
 "cells": [
  {
   "cell_type": "code",
   "execution_count": 1,
   "id": "9a45d122",
   "metadata": {
    "ExecuteTime": {
     "end_time": "2022-10-03T08:30:52.382467Z",
     "start_time": "2022-10-03T08:30:42.859510Z"
    }
   },
   "outputs": [],
   "source": [
    "import pandas as pd\n",
    "import numpy as np\n",
    "\n",
    "import re\n",
    "import string\n",
    "\n",
    "import spacy\n",
    "\n",
    "import gensim\n",
    "from gensim import corpora\n",
    "\n",
    "# libraries for visualization\n",
    "import pyLDAvis\n",
    "import pyLDAvis.gensim_models\n",
    "import matplotlib.pyplot as plt\n",
    "import seaborn as sns\n",
    "%matplotlib inline"
   ]
  },
  {
   "cell_type": "code",
   "execution_count": 3,
   "id": "94672517",
   "metadata": {
    "ExecuteTime": {
     "end_time": "2022-10-03T08:30:59.800082Z",
     "start_time": "2022-10-03T08:30:59.354681Z"
    }
   },
   "outputs": [
    {
     "name": "stderr",
     "output_type": "stream",
     "text": [
      "C:\\ProgramData\\Anaconda3\\lib\\site-packages\\ipykernel\\ipkernel.py:287: DeprecationWarning: `should_run_async` will not call `transform_cell` automatically in the future. Please pass the result to `transformed_cell` argument and any exception that happen during thetransform in `preprocessing_exc_tuple` in IPython 7.17 and above.\n",
      "  and should_run_async(code)\n"
     ]
    }
   ],
   "source": [
    "#https://www.machinelearningplus.com/nlp/topic-modeling-gensim-python/#1introduction\n",
    "import numpy as np\n",
    "import json\n",
    "import glob\n",
    "\n",
    "#Gensim\n",
    "import gensim\n",
    "import gensim.corpora as corpora\n",
    "from gensim.utils import simple_preprocess\n",
    "from gensim.models import CoherenceModel\n",
    "\n",
    "#spacy\n",
    "import spacy\n",
    "from nltk.corpus import stopwords\n",
    "\n",
    "#vis\n",
    "import pyLDAvis\n",
    "\n",
    "\n",
    "import warnings\n",
    "warnings.filterwarnings(\"ignore\", category=DeprecationWarning)"
   ]
  },
  {
   "cell_type": "code",
   "execution_count": 2,
   "id": "2dbd3ec9",
   "metadata": {
    "ExecuteTime": {
     "end_time": "2022-10-03T08:30:52.399297Z",
     "start_time": "2022-10-03T08:30:52.386335Z"
    }
   },
   "outputs": [
    {
     "name": "stderr",
     "output_type": "stream",
     "text": [
      "C:\\ProgramData\\Anaconda3\\lib\\site-packages\\ipykernel\\ipkernel.py:287: DeprecationWarning: `should_run_async` will not call `transform_cell` automatically in the future. Please pass the result to `transformed_cell` argument and any exception that happen during thetransform in `preprocessing_exc_tuple` in IPython 7.17 and above.\n",
      "  and should_run_async(code)\n"
     ]
    }
   ],
   "source": [
    "import pyLDAvis.gensim_models\n",
    "import pandas as pd, numpy as np"
   ]
  },
  {
   "cell_type": "code",
   "execution_count": 4,
   "id": "dffe1c1f",
   "metadata": {
    "ExecuteTime": {
     "end_time": "2022-10-03T08:29:40.402220Z",
     "start_time": "2022-10-03T08:29:34.234414Z"
    }
   },
   "outputs": [],
   "source": [
    "df=pd.read_csv('data_latest_without_any special characters_follow tweetss.csv')"
   ]
  },
  {
   "cell_type": "code",
   "execution_count": 5,
   "id": "eb507353",
   "metadata": {
    "ExecuteTime": {
     "end_time": "2022-10-03T08:29:40.431620Z",
     "start_time": "2022-10-03T08:29:40.402220Z"
    }
   },
   "outputs": [
    {
     "data": {
      "text/plain": [
       "Index(['Unnamed: 0', 'user', 'date', 'tweets', 'user_location', 'tweetss'], dtype='object')"
      ]
     },
     "execution_count": 5,
     "metadata": {},
     "output_type": "execute_result"
    }
   ],
   "source": [
    "df.columns"
   ]
  },
  {
   "cell_type": "code",
   "execution_count": 6,
   "id": "d0a5e317",
   "metadata": {
    "ExecuteTime": {
     "end_time": "2022-10-03T08:29:40.525490Z",
     "start_time": "2022-10-03T08:29:40.436610Z"
    }
   },
   "outputs": [],
   "source": [
    "df=df[['user', 'date','user_location', 'tweetss']]"
   ]
  },
  {
   "cell_type": "code",
   "execution_count": 7,
   "id": "bff2c3fd",
   "metadata": {
    "ExecuteTime": {
     "end_time": "2022-10-03T08:29:40.566103Z",
     "start_time": "2022-10-03T08:29:40.528478Z"
    }
   },
   "outputs": [
    {
     "data": {
      "text/html": [
       "<div>\n",
       "<style scoped>\n",
       "    .dataframe tbody tr th:only-of-type {\n",
       "        vertical-align: middle;\n",
       "    }\n",
       "\n",
       "    .dataframe tbody tr th {\n",
       "        vertical-align: top;\n",
       "    }\n",
       "\n",
       "    .dataframe thead th {\n",
       "        text-align: right;\n",
       "    }\n",
       "</style>\n",
       "<table border=\"1\" class=\"dataframe\">\n",
       "  <thead>\n",
       "    <tr style=\"text-align: right;\">\n",
       "      <th></th>\n",
       "      <th>user</th>\n",
       "      <th>date</th>\n",
       "      <th>user_location</th>\n",
       "      <th>tweetss</th>\n",
       "    </tr>\n",
       "  </thead>\n",
       "  <tbody>\n",
       "    <tr>\n",
       "      <th>0</th>\n",
       "      <td>{'username': 'LatebirdVeloz', 'id': 2545627424...</td>\n",
       "      <td>2019-01-07 23:58:19+00:00</td>\n",
       "      <td>Riviera Maya / CDMX ???Ã½???Â« ????</td>\n",
       "      <td>go hell bob parsons spineless fuck stop cowar...</td>\n",
       "    </tr>\n",
       "    <tr>\n",
       "      <th>1</th>\n",
       "      <td>{'username': 'ANDREAG13353939', 'id': 87907853...</td>\n",
       "      <td>2019-01-07 23:56:23+00:00</td>\n",
       "      <td>Colorado, USA</td>\n",
       "      <td>proudly presenting check let know think none g...</td>\n",
       "    </tr>\n",
       "    <tr>\n",
       "      <th>2</th>\n",
       "      <td>{'username': 'GirlsinTech', 'id': 16014840, 'd...</td>\n",
       "      <td>2019-01-07 23:52:07+00:00</td>\n",
       "      <td>Global</td>\n",
       "      <td>want boss don t need go biz school entrepreneu...</td>\n",
       "    </tr>\n",
       "    <tr>\n",
       "      <th>3</th>\n",
       "      <td>{'username': 'mark_callwood', 'id': 9057451792...</td>\n",
       "      <td>2019-01-07 23:46:48+00:00</td>\n",
       "      <td>Surrey</td>\n",
       "      <td>every cunty elephant killing bob parsons hundr...</td>\n",
       "    </tr>\n",
       "    <tr>\n",
       "      <th>4</th>\n",
       "      <td>{'username': 'MccrelessTravis', 'id': 10715028...</td>\n",
       "      <td>2019-01-07 23:44:10+00:00</td>\n",
       "      <td>Mackinaw city, michigan</td>\n",
       "      <td>proudly presenting check let know think gocent...</td>\n",
       "    </tr>\n",
       "    <tr>\n",
       "      <th>...</th>\n",
       "      <td>...</td>\n",
       "      <td>...</td>\n",
       "      <td>...</td>\n",
       "      <td>...</td>\n",
       "    </tr>\n",
       "    <tr>\n",
       "      <th>307115</th>\n",
       "      <td>{'username': 'GoDaddyUK', 'id': 2511235328, 'd...</td>\n",
       "      <td>2022-09-23 07:50:12+00:00</td>\n",
       "      <td>UK</td>\n",
       "      <td>era advancing technology everevolving ways wor...</td>\n",
       "    </tr>\n",
       "    <tr>\n",
       "      <th>307116</th>\n",
       "      <td>{'username': 'ecarlesi', 'id': 19444180, 'disp...</td>\n",
       "      <td>2022-09-23 07:50:33+00:00</td>\n",
       "      <td>Roma, Lazio</td>\n",
       "      <td>possible threat phishing</td>\n",
       "    </tr>\n",
       "    <tr>\n",
       "      <th>307117</th>\n",
       "      <td>{'username': 'ecarlesi', 'id': 19444180, 'disp...</td>\n",
       "      <td>2022-09-23 07:55:09+00:00</td>\n",
       "      <td>Roma, Lazio</td>\n",
       "      <td>possible threat</td>\n",
       "    </tr>\n",
       "    <tr>\n",
       "      <th>307118</th>\n",
       "      <td>{'username': 'ARCH1V3S23', 'id': 1498900982209...</td>\n",
       "      <td>2022-09-23 08:04:14+00:00</td>\n",
       "      <td>she/they, minor, works on Ã¢ÂÂ¡Ã¯Â¸Â</td>\n",
       "      <td>adobe express u nawt hv layer something like c...</td>\n",
       "    </tr>\n",
       "    <tr>\n",
       "      <th>307119</th>\n",
       "      <td>{'username': 'ecarlesi', 'id': 19444180, 'disp...</td>\n",
       "      <td>2022-09-23 08:06:56+00:00</td>\n",
       "      <td>Roma, Lazio</td>\n",
       "      <td>possible threat</td>\n",
       "    </tr>\n",
       "  </tbody>\n",
       "</table>\n",
       "<p>307120 rows × 4 columns</p>\n",
       "</div>"
      ],
      "text/plain": [
       "                                                     user  \\\n",
       "0       {'username': 'LatebirdVeloz', 'id': 2545627424...   \n",
       "1       {'username': 'ANDREAG13353939', 'id': 87907853...   \n",
       "2       {'username': 'GirlsinTech', 'id': 16014840, 'd...   \n",
       "3       {'username': 'mark_callwood', 'id': 9057451792...   \n",
       "4       {'username': 'MccrelessTravis', 'id': 10715028...   \n",
       "...                                                   ...   \n",
       "307115  {'username': 'GoDaddyUK', 'id': 2511235328, 'd...   \n",
       "307116  {'username': 'ecarlesi', 'id': 19444180, 'disp...   \n",
       "307117  {'username': 'ecarlesi', 'id': 19444180, 'disp...   \n",
       "307118  {'username': 'ARCH1V3S23', 'id': 1498900982209...   \n",
       "307119  {'username': 'ecarlesi', 'id': 19444180, 'disp...   \n",
       "\n",
       "                             date                           user_location  \\\n",
       "0       2019-01-07 23:58:19+00:00     Riviera Maya / CDMX ???Ã½???Â« ????   \n",
       "1       2019-01-07 23:56:23+00:00                           Colorado, USA   \n",
       "2       2019-01-07 23:52:07+00:00                                  Global   \n",
       "3       2019-01-07 23:46:48+00:00                                  Surrey   \n",
       "4       2019-01-07 23:44:10+00:00                Mackinaw city, michigan    \n",
       "...                           ...                                     ...   \n",
       "307115  2022-09-23 07:50:12+00:00                                      UK   \n",
       "307116  2022-09-23 07:50:33+00:00                             Roma, Lazio   \n",
       "307117  2022-09-23 07:55:09+00:00                             Roma, Lazio   \n",
       "307118  2022-09-23 08:04:14+00:00  she/they, minor, works on Ã¢ÂÂ¡Ã¯Â¸Â   \n",
       "307119  2022-09-23 08:06:56+00:00                             Roma, Lazio   \n",
       "\n",
       "                                                  tweetss  \n",
       "0        go hell bob parsons spineless fuck stop cowar...  \n",
       "1       proudly presenting check let know think none g...  \n",
       "2       want boss don t need go biz school entrepreneu...  \n",
       "3       every cunty elephant killing bob parsons hundr...  \n",
       "4       proudly presenting check let know think gocent...  \n",
       "...                                                   ...  \n",
       "307115  era advancing technology everevolving ways wor...  \n",
       "307116                          possible threat phishing   \n",
       "307117                                   possible threat   \n",
       "307118  adobe express u nawt hv layer something like c...  \n",
       "307119                                   possible threat   \n",
       "\n",
       "[307120 rows x 4 columns]"
      ]
     },
     "execution_count": 7,
     "metadata": {},
     "output_type": "execute_result"
    }
   ],
   "source": [
    "df"
   ]
  },
  {
   "cell_type": "code",
   "execution_count": 4,
   "id": "6055852c",
   "metadata": {
    "ExecuteTime": {
     "end_time": "2022-10-03T08:31:09.424666Z",
     "start_time": "2022-10-03T08:31:09.409044Z"
    }
   },
   "outputs": [],
   "source": [
    "def clean_text(text ): \n",
    "    delete_dict = {sp_character: '' for sp_character in string.punctuation} \n",
    "    delete_dict[' '] = ' ' \n",
    "    table = str.maketrans(delete_dict)\n",
    "    text1 = text.translate(table)\n",
    "    #print('cleaned:'+text1)\n",
    "    textArr= text1.split()\n",
    "    text2 = ' '.join([w for w in textArr if ( not w.isdigit() and  ( not w.isdigit() and len(w)>3))]) \n",
    "    \n",
    "    return text2.lower()"
   ]
  },
  {
   "cell_type": "code",
   "execution_count": 5,
   "id": "128b13f0",
   "metadata": {
    "ExecuteTime": {
     "end_time": "2022-10-03T08:31:12.746731Z",
     "start_time": "2022-10-03T08:31:12.515851Z"
    }
   },
   "outputs": [
    {
     "name": "stderr",
     "output_type": "stream",
     "text": [
      "[nltk_data] Downloading package stopwords to\n",
      "[nltk_data]     C:\\Users\\Admin\\AppData\\Roaming\\nltk_data...\n",
      "[nltk_data]   Package stopwords is already up-to-date!\n"
     ]
    },
    {
     "data": {
      "text/plain": [
       "True"
      ]
     },
     "execution_count": 5,
     "metadata": {},
     "output_type": "execute_result"
    }
   ],
   "source": [
    "import nltk\n",
    "nltk.download('stopwords') # run this one time"
   ]
  },
  {
   "cell_type": "code",
   "execution_count": 10,
   "id": "c2380c19",
   "metadata": {
    "ExecuteTime": {
     "end_time": "2022-10-03T08:29:40.851051Z",
     "start_time": "2022-10-03T08:29:40.821412Z"
    }
   },
   "outputs": [],
   "source": [
    "review_data=df.copy()"
   ]
  },
  {
   "cell_type": "code",
   "execution_count": 11,
   "id": "2abae5e2",
   "metadata": {
    "ExecuteTime": {
     "end_time": "2022-10-03T08:29:40.982709Z",
     "start_time": "2022-10-03T08:29:40.851051Z"
    }
   },
   "outputs": [
    {
     "name": "stdout",
     "output_type": "stream",
     "text": [
      "<class 'pandas.core.frame.DataFrame'>\n",
      "RangeIndex: 307120 entries, 0 to 307119\n",
      "Data columns (total 4 columns):\n",
      " #   Column         Non-Null Count   Dtype \n",
      "---  ------         --------------   ----- \n",
      " 0   user           307120 non-null  object\n",
      " 1   date           307120 non-null  object\n",
      " 2   user_location  307120 non-null  object\n",
      " 3   tweetss        307120 non-null  object\n",
      "dtypes: object(4)\n",
      "memory usage: 9.4+ MB\n"
     ]
    }
   ],
   "source": [
    "review_data.info()"
   ]
  },
  {
   "cell_type": "code",
   "execution_count": 6,
   "id": "29c2f331",
   "metadata": {
    "ExecuteTime": {
     "end_time": "2022-10-03T08:31:22.541238Z",
     "start_time": "2022-10-03T08:31:19.977066Z"
    }
   },
   "outputs": [
    {
     "ename": "NameError",
     "evalue": "name 'review_data' is not defined",
     "output_type": "error",
     "traceback": [
      "\u001b[1;31m---------------------------------------------------------------------------\u001b[0m",
      "\u001b[1;31mNameError\u001b[0m                                 Traceback (most recent call last)",
      "\u001b[1;32m<ipython-input-6-834a24de73d9>\u001b[0m in \u001b[0;36m<module>\u001b[1;34m\u001b[0m\n\u001b[1;32m----> 1\u001b[1;33m \u001b[0mreview_data\u001b[0m\u001b[1;33m.\u001b[0m\u001b[0mdropna\u001b[0m\u001b[1;33m(\u001b[0m\u001b[0maxis\u001b[0m \u001b[1;33m=\u001b[0m \u001b[1;36m0\u001b[0m\u001b[1;33m,\u001b[0m \u001b[0mhow\u001b[0m \u001b[1;33m=\u001b[0m\u001b[1;34m'any'\u001b[0m\u001b[1;33m,\u001b[0m\u001b[0minplace\u001b[0m\u001b[1;33m=\u001b[0m\u001b[1;32mTrue\u001b[0m\u001b[1;33m)\u001b[0m\u001b[1;33m\u001b[0m\u001b[1;33m\u001b[0m\u001b[0m\n\u001b[0m\u001b[0;32m      2\u001b[0m \u001b[1;33m\u001b[0m\u001b[0m\n\u001b[0;32m      3\u001b[0m \u001b[1;33m\u001b[0m\u001b[0m\n\u001b[0;32m      4\u001b[0m \u001b[1;33m\u001b[0m\u001b[0m\n\u001b[0;32m      5\u001b[0m \u001b[0mreview_data\u001b[0m\u001b[1;33m[\u001b[0m\u001b[1;34m'tweets'\u001b[0m\u001b[1;33m]\u001b[0m \u001b[1;33m=\u001b[0m \u001b[0mreview_data\u001b[0m\u001b[1;33m[\u001b[0m\u001b[1;34m'tweetss'\u001b[0m\u001b[1;33m]\u001b[0m\u001b[1;33m.\u001b[0m\u001b[0mapply\u001b[0m\u001b[1;33m(\u001b[0m\u001b[0mclean_text\u001b[0m\u001b[1;33m)\u001b[0m\u001b[1;33m\u001b[0m\u001b[1;33m\u001b[0m\u001b[0m\n",
      "\u001b[1;31mNameError\u001b[0m: name 'review_data' is not defined"
     ]
    }
   ],
   "source": [
    "review_data.dropna(axis = 0, how ='any',inplace=True) \n",
    "\n",
    "\n",
    "\n",
    "review_data['tweets'] = review_data['tweetss'].apply(clean_text)\n",
    "review_data['Num_words_text'] = review_data['tweetss'].apply(lambda x:len(str(x).split())) \n",
    "\n",
    "mask = (review_data['Num_words_text'] < 100) & (review_data['Num_words_text'] >=20)\n",
    "df_short_reviews = review_data[mask]\n",
    "\n",
    "print('No of Short reviews')\n",
    "print(len(df_short_reviews))\n",
    "\n"
   ]
  },
  {
   "cell_type": "raw",
   "id": "d52475da",
   "metadata": {},
   "source": [
    "review_data.dropna(axis = 0, how ='any',inplace=True) \n",
    "\n",
    "\n",
    "\n",
    "\n",
    "\n",
    "\n",
    "review_data['Text'] = review_data['Text'].apply(clean_text)\n",
    "review_data['Num_words_text'] = review_data['Text'].apply(lambda x:len(str(x).split())) \n",
    "\n",
    "print('-------Dataset --------')\n",
    "print(review_data['Score'].value_counts())\n",
    "print(len(review_data))\n",
    "print('-------------------------')\n",
    "max_review_data_sentence_length  = review_data['Num_words_text'].max()\n",
    "\n",
    "mask = (review_data['Num_words_text'] < 100) & (review_data['Num_words_text'] >=20)\n",
    "df_short_reviews = review_data[mask]\n",
    "df_sampled = df_short_reviews.groupby('Score').apply(lambda x: x.sample(n=20000)).reset_index(drop = True)\n",
    "\n",
    "print('No of Short reviews')\n",
    "print(len(df_short_reviews))"
   ]
  },
  {
   "cell_type": "code",
   "execution_count": 13,
   "id": "c7b3751e",
   "metadata": {
    "ExecuteTime": {
     "end_time": "2022-10-03T08:29:47.136521Z",
     "start_time": "2022-10-03T08:29:47.081222Z"
    }
   },
   "outputs": [
    {
     "data": {
      "text/html": [
       "<div>\n",
       "<style scoped>\n",
       "    .dataframe tbody tr th:only-of-type {\n",
       "        vertical-align: middle;\n",
       "    }\n",
       "\n",
       "    .dataframe tbody tr th {\n",
       "        vertical-align: top;\n",
       "    }\n",
       "\n",
       "    .dataframe thead th {\n",
       "        text-align: right;\n",
       "    }\n",
       "</style>\n",
       "<table border=\"1\" class=\"dataframe\">\n",
       "  <thead>\n",
       "    <tr style=\"text-align: right;\">\n",
       "      <th></th>\n",
       "      <th>user</th>\n",
       "      <th>date</th>\n",
       "      <th>user_location</th>\n",
       "      <th>tweetss</th>\n",
       "      <th>tweets</th>\n",
       "      <th>Num_words_text</th>\n",
       "    </tr>\n",
       "  </thead>\n",
       "  <tbody>\n",
       "    <tr>\n",
       "      <th>8</th>\n",
       "      <td>{'username': 'ItsikRomano', 'id': 57819532, 'd...</td>\n",
       "      <td>2019-01-07 23:26:54+00:00</td>\n",
       "      <td>Montreal - Quebec - Canada</td>\n",
       "      <td>sell contact info spammers india since purcha...</td>\n",
       "      <td>sell contact info spammers india since purchas...</td>\n",
       "      <td>26</td>\n",
       "    </tr>\n",
       "    <tr>\n",
       "      <th>30</th>\n",
       "      <td>{'username': 'LaDonaHarvey', 'id': 225056299, ...</td>\n",
       "      <td>2019-01-07 22:14:10+00:00</td>\n",
       "      <td>San Diego</td>\n",
       "      <td>happen last time registered domain name phone ...</td>\n",
       "      <td>happen last time registered domain name phone ...</td>\n",
       "      <td>20</td>\n",
       "    </tr>\n",
       "    <tr>\n",
       "      <th>47</th>\n",
       "      <td>{'username': 'maryderrickart', 'id': 562518183...</td>\n",
       "      <td>2019-01-07 21:28:03+00:00</td>\n",
       "      <td>Canada</td>\n",
       "      <td>disgusting pos kills fun founder time boycott...</td>\n",
       "      <td>disgusting kills founder time boycott ahole kn...</td>\n",
       "      <td>26</td>\n",
       "    </tr>\n",
       "    <tr>\n",
       "      <th>58</th>\n",
       "      <td>{'username': '_STD_', 'id': 480888266, 'displa...</td>\n",
       "      <td>2019-01-07 20:59:56+00:00</td>\n",
       "      <td>Nor Cal</td>\n",
       "      <td>mmanerd top three things mentioned suffice wor...</td>\n",
       "      <td>mmanerd three things mentioned suffice wordpre...</td>\n",
       "      <td>20</td>\n",
       "    </tr>\n",
       "    <tr>\n",
       "      <th>65</th>\n",
       "      <td>{'username': 'LonTaylor7', 'id': 1045821487876...</td>\n",
       "      <td>2019-01-07 20:30:52+00:00</td>\n",
       "      <td>Newport, NJ</td>\n",
       "      <td>greatest plague since dawn time narcissistic ...</td>\n",
       "      <td>greatest plague since dawn time narcissistic p...</td>\n",
       "      <td>20</td>\n",
       "    </tr>\n",
       "    <tr>\n",
       "      <th>...</th>\n",
       "      <td>...</td>\n",
       "      <td>...</td>\n",
       "      <td>...</td>\n",
       "      <td>...</td>\n",
       "      <td>...</td>\n",
       "      <td>...</td>\n",
       "    </tr>\n",
       "    <tr>\n",
       "      <th>307096</th>\n",
       "      <td>{'username': 'OhINoSheTwitent', 'id': 13933296...</td>\n",
       "      <td>2022-09-23 02:56:49+00:00</td>\n",
       "      <td>World</td>\n",
       "      <td>quentin latham one confirmed via abuses ts mad...</td>\n",
       "      <td>quentin latham confirmed abuses made clear fed...</td>\n",
       "      <td>27</td>\n",
       "    </tr>\n",
       "    <tr>\n",
       "      <th>307100</th>\n",
       "      <td>{'username': 'codebeastmode', 'id': 9650420613...</td>\n",
       "      <td>2022-09-23 04:05:05+00:00</td>\n",
       "      <td>Tampa, FL</td>\n",
       "      <td>negative whos driving many votes take agree w...</td>\n",
       "      <td>negative whos driving many votes take agree we...</td>\n",
       "      <td>22</td>\n",
       "    </tr>\n",
       "    <tr>\n",
       "      <th>307104</th>\n",
       "      <td>{'username': 'TheAdamKingShow', 'id': 15649842...</td>\n",
       "      <td>2022-09-23 04:51:11+00:00</td>\n",
       "      <td>Los Angeles</td>\n",
       "      <td>check newly updated webpage   we   ve added ad...</td>\n",
       "      <td>check newly updated webpage added additional p...</td>\n",
       "      <td>24</td>\n",
       "    </tr>\n",
       "    <tr>\n",
       "      <th>307107</th>\n",
       "      <td>{'username': 'SmokingGun', 'id': 192824056, 'd...</td>\n",
       "      <td>2022-09-23 05:16:03+00:00</td>\n",
       "      <td>Perth, Western Australia</td>\n",
       "      <td>harmful effects week trespassing traps queen e...</td>\n",
       "      <td>harmful effects week trespassing traps queen e...</td>\n",
       "      <td>25</td>\n",
       "    </tr>\n",
       "    <tr>\n",
       "      <th>307114</th>\n",
       "      <td>{'username': 'ShirinRecruits', 'id': 148560969...</td>\n",
       "      <td>2022-09-23 07:21:23+00:00</td>\n",
       "      <td>Munich</td>\n",
       "      <td>it   s friday currently hiring several excitin...</td>\n",
       "      <td>friday currently hiring several exciting oppor...</td>\n",
       "      <td>24</td>\n",
       "    </tr>\n",
       "  </tbody>\n",
       "</table>\n",
       "<p>44274 rows × 6 columns</p>\n",
       "</div>"
      ],
      "text/plain": [
       "                                                     user  \\\n",
       "8       {'username': 'ItsikRomano', 'id': 57819532, 'd...   \n",
       "30      {'username': 'LaDonaHarvey', 'id': 225056299, ...   \n",
       "47      {'username': 'maryderrickart', 'id': 562518183...   \n",
       "58      {'username': '_STD_', 'id': 480888266, 'displa...   \n",
       "65      {'username': 'LonTaylor7', 'id': 1045821487876...   \n",
       "...                                                   ...   \n",
       "307096  {'username': 'OhINoSheTwitent', 'id': 13933296...   \n",
       "307100  {'username': 'codebeastmode', 'id': 9650420613...   \n",
       "307104  {'username': 'TheAdamKingShow', 'id': 15649842...   \n",
       "307107  {'username': 'SmokingGun', 'id': 192824056, 'd...   \n",
       "307114  {'username': 'ShirinRecruits', 'id': 148560969...   \n",
       "\n",
       "                             date               user_location  \\\n",
       "8       2019-01-07 23:26:54+00:00  Montreal - Quebec - Canada   \n",
       "30      2019-01-07 22:14:10+00:00                   San Diego   \n",
       "47      2019-01-07 21:28:03+00:00                      Canada   \n",
       "58      2019-01-07 20:59:56+00:00                     Nor Cal   \n",
       "65      2019-01-07 20:30:52+00:00                 Newport, NJ   \n",
       "...                           ...                         ...   \n",
       "307096  2022-09-23 02:56:49+00:00                      World    \n",
       "307100  2022-09-23 04:05:05+00:00                   Tampa, FL   \n",
       "307104  2022-09-23 04:51:11+00:00                 Los Angeles   \n",
       "307107  2022-09-23 05:16:03+00:00    Perth, Western Australia   \n",
       "307114  2022-09-23 07:21:23+00:00                      Munich   \n",
       "\n",
       "                                                  tweetss  \\\n",
       "8        sell contact info spammers india since purcha...   \n",
       "30      happen last time registered domain name phone ...   \n",
       "47       disgusting pos kills fun founder time boycott...   \n",
       "58      mmanerd top three things mentioned suffice wor...   \n",
       "65       greatest plague since dawn time narcissistic ...   \n",
       "...                                                   ...   \n",
       "307096  quentin latham one confirmed via abuses ts mad...   \n",
       "307100   negative whos driving many votes take agree w...   \n",
       "307104  check newly updated webpage   we   ve added ad...   \n",
       "307107  harmful effects week trespassing traps queen e...   \n",
       "307114  it   s friday currently hiring several excitin...   \n",
       "\n",
       "                                                   tweets  Num_words_text  \n",
       "8       sell contact info spammers india since purchas...              26  \n",
       "30      happen last time registered domain name phone ...              20  \n",
       "47      disgusting kills founder time boycott ahole kn...              26  \n",
       "58      mmanerd three things mentioned suffice wordpre...              20  \n",
       "65      greatest plague since dawn time narcissistic p...              20  \n",
       "...                                                   ...             ...  \n",
       "307096  quentin latham confirmed abuses made clear fed...              27  \n",
       "307100  negative whos driving many votes take agree we...              22  \n",
       "307104  check newly updated webpage added additional p...              24  \n",
       "307107  harmful effects week trespassing traps queen e...              25  \n",
       "307114  friday currently hiring several exciting oppor...              24  \n",
       "\n",
       "[44274 rows x 6 columns]"
      ]
     },
     "execution_count": 13,
     "metadata": {},
     "output_type": "execute_result"
    }
   ],
   "source": [
    "df_short_reviews"
   ]
  },
  {
   "cell_type": "code",
   "execution_count": 14,
   "id": "b766acfc",
   "metadata": {
    "ExecuteTime": {
     "end_time": "2022-10-03T08:29:47.163525Z",
     "start_time": "2022-10-03T08:29:47.140509Z"
    }
   },
   "outputs": [],
   "source": [
    "df_sampled=df_short_reviews.copy()"
   ]
  },
  {
   "cell_type": "code",
   "execution_count": 7,
   "id": "704ea012",
   "metadata": {
    "ExecuteTime": {
     "end_time": "2022-10-03T08:31:29.956906Z",
     "start_time": "2022-10-03T08:31:29.920967Z"
    }
   },
   "outputs": [
    {
     "ename": "NameError",
     "evalue": "name 'df_sampled' is not defined",
     "output_type": "error",
     "traceback": [
      "\u001b[1;31m---------------------------------------------------------------------------\u001b[0m",
      "\u001b[1;31mNameError\u001b[0m                                 Traceback (most recent call last)",
      "\u001b[1;32m<ipython-input-7-42f107d40973>\u001b[0m in \u001b[0;36m<module>\u001b[1;34m\u001b[0m\n\u001b[0;32m      8\u001b[0m \u001b[1;33m\u001b[0m\u001b[0m\n\u001b[0;32m      9\u001b[0m \u001b[1;31m# remove stopwords from the text\u001b[0m\u001b[1;33m\u001b[0m\u001b[1;33m\u001b[0m\u001b[1;33m\u001b[0m\u001b[0m\n\u001b[1;32m---> 10\u001b[1;33m \u001b[0mdf_sampled\u001b[0m\u001b[1;33m[\u001b[0m\u001b[1;34m'tweetss'\u001b[0m\u001b[1;33m]\u001b[0m\u001b[1;33m=\u001b[0m\u001b[0mdf_sampled\u001b[0m\u001b[1;33m[\u001b[0m\u001b[1;34m'tweetss'\u001b[0m\u001b[1;33m]\u001b[0m\u001b[1;33m.\u001b[0m\u001b[0mapply\u001b[0m\u001b[1;33m(\u001b[0m\u001b[0mremove_stopwords\u001b[0m\u001b[1;33m)\u001b[0m\u001b[1;33m\u001b[0m\u001b[1;33m\u001b[0m\u001b[0m\n\u001b[0m",
      "\u001b[1;31mNameError\u001b[0m: name 'df_sampled' is not defined"
     ]
    }
   ],
   "source": [
    "from nltk.corpus import stopwords\n",
    "stop_words = stopwords.words('english')\n",
    "# function to remove stopwords\n",
    "def remove_stopwords(text):\n",
    "    textArr = text.split(' ')\n",
    "    rem_text = \" \".join([i for i in textArr if i not in stop_words])\n",
    "    return rem_text\n",
    "\n",
    "# remove stopwords from the text\n",
    "df_sampled['tweetss']=df_sampled['tweetss'].apply(remove_stopwords)\n"
   ]
  },
  {
   "cell_type": "code",
   "execution_count": 10,
   "id": "e523d62c",
   "metadata": {
    "ExecuteTime": {
     "end_time": "2022-10-03T08:31:52.052884Z",
     "start_time": "2022-10-03T08:31:49.828887Z"
    }
   },
   "outputs": [],
   "source": [
    "nlp = spacy.load('en_core_web_md', disable=['parser', 'ner'])\n",
    "\n",
    "def lemmatization(texts,allowed_postags=['NOUN', 'ADJ']): \n",
    "       output = []\n",
    "       for sent in texts:\n",
    "             doc = nlp(sent) \n",
    "             output.append([token.lemma_ for token in doc if token.pos_ in allowed_postags ])\n",
    "       return output"
   ]
  },
  {
   "cell_type": "code",
   "execution_count": 8,
   "id": "563d1f68",
   "metadata": {
    "ExecuteTime": {
     "end_time": "2022-10-03T08:31:41.584582Z",
     "start_time": "2022-10-03T08:31:40.333571Z"
    }
   },
   "outputs": [],
   "source": [
    "#df_sampled.to_csv('df_sampled_rough.csv')\n",
    "df_sampled=pd.read_csv('df_sampled_rough.csv')"
   ]
  },
  {
   "cell_type": "code",
   "execution_count": 11,
   "id": "fddc324b",
   "metadata": {
    "ExecuteTime": {
     "end_time": "2022-10-03T08:36:29.838129Z",
     "start_time": "2022-10-03T08:31:55.348243Z"
    }
   },
   "outputs": [
    {
     "name": "stdout",
     "output_type": "stream",
     "text": [
      "happen last time registered domain name phone call phone call phone call may change damned number spitting nailsomg \n",
      "['last', 'time', 'domain', 'name', 'phone', 'call', 'phone', 'call', 'phone', 'call', 'number', 'nailsomg']\n"
     ]
    }
   ],
   "source": [
    "text_list=df_sampled['tweetss'].tolist()\n",
    "print(text_list[1])\n",
    "tokenized_reviews = lemmatization(text_list)\n",
    "print(tokenized_reviews[1])"
   ]
  },
  {
   "cell_type": "code",
   "execution_count": 12,
   "id": "320d6746",
   "metadata": {
    "ExecuteTime": {
     "end_time": "2022-10-03T08:36:35.256745Z",
     "start_time": "2022-10-03T08:36:35.243745Z"
    }
   },
   "outputs": [
    {
     "name": "stdout",
     "output_type": "stream",
     "text": [
      "['disgusting', 'fun', 'founder', 'time', 'boycott', 'ahole', 'd', 'love', 'jail', 'innocent', 'beautiful', 'animal', 'fun', 'camera', 'asshole', 'amp', 'picture']\n"
     ]
    }
   ],
   "source": [
    "print(tokenized_reviews[2])"
   ]
  },
  {
   "cell_type": "code",
   "execution_count": 13,
   "id": "cc8f5744",
   "metadata": {
    "ExecuteTime": {
     "end_time": "2022-10-03T08:36:44.034303Z",
     "start_time": "2022-10-03T08:36:42.061243Z"
    }
   },
   "outputs": [],
   "source": [
    "#Create vocabulary dictionary and document term matrix\n",
    "dictionary = corpora.Dictionary(tokenized_reviews)\n",
    "doc_term_matrix = [dictionary.doc2bow(rev) for rev in tokenized_reviews]"
   ]
  },
  {
   "cell_type": "code",
   "execution_count": 14,
   "id": "4b3966a6",
   "metadata": {
    "ExecuteTime": {
     "end_time": "2022-10-03T08:49:30.467437Z",
     "start_time": "2022-10-03T08:36:47.159832Z"
    }
   },
   "outputs": [],
   "source": [
    "# Creating the object for LDA model using gensim library\n",
    "LDA = gensim.models.ldamodel.LdaModel\n",
    "\n",
    "# Build LDA model\n",
    "lda_model = LDA(corpus=doc_term_matrix, id2word=dictionary, num_topics=10, random_state=100,\n",
    "                chunksize=1000, passes=50,iterations=100)"
   ]
  },
  {
   "cell_type": "code",
   "execution_count": 33,
   "id": "f89ec95f",
   "metadata": {
    "ExecuteTime": {
     "end_time": "2022-10-02T17:09:58.814844Z",
     "start_time": "2022-10-02T17:09:58.782930Z"
    }
   },
   "outputs": [
    {
     "data": {
      "text/plain": [
       "[(0,\n",
       "  '0.029*\"size\" + 0.022*\"system\" + 0.021*\"solution\" + 0.020*\"r\" + 0.019*\"large\" + 0.015*\"share\" + 0.014*\"whole\" + 0.013*\"world\" + 0.011*\"career\" + 0.010*\"man\"'),\n",
       " (1,\n",
       "  '0.067*\"provider\" + 0.048*\"detail\" + 0.029*\"order\" + 0.029*\"e\" + 0.026*\"cpanel\" + 0.021*\"similar\" + 0.019*\"data\" + 0.015*\"wordpress\" + 0.013*\"button\" + 0.012*\"hostgator\"'),\n",
       " (2,\n",
       "  '0.102*\"social\" + 0.099*\"medium\" + 0.047*\"amp\" + 0.026*\"video\" + 0.020*\"right\" + 0.020*\"life\" + 0.018*\"comhow\" + 0.012*\"step\" + 0.012*\"available\" + 0.010*\"recent\"'),\n",
       " (3,\n",
       "  '0.034*\"customer\" + 0.031*\"service\" + 0.029*\"time\" + 0.022*\"bigrock\" + 0.021*\"support\" + 0.019*\"day\" + 0.018*\"account\" + 0.018*\"issue\" + 0.018*\"website\" + 0.015*\"company\"'),\n",
       " (4,\n",
       "  '0.123*\"business\" + 0.027*\"online\" + 0.027*\"brand\" + 0.021*\"small\" + 0.019*\"rare\" + 0.017*\"startup\" + 0.017*\"platform\" + 0.016*\"owner\" + 0.015*\"market\" + 0.014*\"top\"'),\n",
       " (5,\n",
       "  '0.271*\"domain\" + 0.068*\"name\" + 0.031*\"registration\" + 0.025*\"com\" + 0.022*\"year\" + 0.019*\"registrar\" + 0.017*\"cheap\" + 0.015*\"sale\" + 0.013*\"price\" + 0.011*\"premium\"'),\n",
       " (6,\n",
       "  '0.025*\"people\" + 0.022*\"company\" + 0.021*\"datum\" + 0.019*\"other\" + 0.017*\"client\" + 0.017*\"site\" + 0.015*\"security\" + 0.014*\"good\" + 0.013*\"breach\" + 0.011*\"info\"'),\n",
       " (7,\n",
       "  '0.081*\"web\" + 0.067*\"website\" + 0.060*\"wordpress\" + 0.033*\"site\" + 0.019*\"cheap\" + 0.018*\"amp\" + 0.016*\"marketing\" + 0.016*\"popular\" + 0.016*\"late\" + 0.015*\"update\"'),\n",
       " (8,\n",
       "  '0.031*\"entrepreneur\" + 0.016*\"new\" + 0.016*\"today\" + 0.012*\"simple\" + 0.012*\"great\" + 0.012*\"amp\" + 0.011*\"news\" + 0.011*\"community\" + 0.011*\"woman\" + 0.011*\"story\"'),\n",
       " (9,\n",
       "  '0.200*\"email\" + 0.035*\"dns\" + 0.032*\"free\" + 0.029*\"address\" + 0.017*\"pro\" + 0.014*\"record\" + 0.013*\"mail\" + 0.013*\"contact\" + 0.013*\"art\" + 0.009*\"fast\"')]"
      ]
     },
     "execution_count": 33,
     "metadata": {},
     "output_type": "execute_result"
    }
   ],
   "source": [
    "lda_model.print_topics()  #Topics with their keywords (scored from highest to lowest)"
   ]
  },
  {
   "cell_type": "code",
   "execution_count": 16,
   "id": "dda30442",
   "metadata": {
    "ExecuteTime": {
     "end_time": "2022-10-03T08:51:33.391897Z",
     "start_time": "2022-10-03T08:51:15.253354Z"
    }
   },
   "outputs": [
    {
     "data": {
      "text/html": [
       "\n",
       "<link rel=\"stylesheet\" type=\"text/css\" href=\"https://cdn.jsdelivr.net/gh/bmabey/pyLDAvis@3.3.1/pyLDAvis/js/ldavis.v1.0.0.css\">\n",
       "\n",
       "\n",
       "<div id=\"ldavis_el2966824632205322722277043045\"></div>\n",
       "<script type=\"text/javascript\">\n",
       "\n",
       "var ldavis_el2966824632205322722277043045_data = {\"mdsDat\": {\"x\": [-0.2658664951336245, -0.13975258269526902, -0.13109876227733577, -0.1916860042436858, -0.044243826552034, 0.0591014866161866, 0.17443426657170025, 0.18071506074699614, 0.1669927296551261, 0.1914041273119406], \"y\": [0.11303613232105406, -0.3872602011775868, 0.03477419444258007, 0.13571554202510083, 0.049081463545039936, 0.020381940659689315, 0.03990123552665082, 0.02957866587801617, -0.07808521578068017, 0.042876242560136106], \"topics\": [1, 2, 3, 4, 5, 6, 7, 8, 9, 10], \"cluster\": [1, 1, 1, 1, 1, 1, 1, 1, 1, 1], \"Freq\": [22.999549563824814, 16.001445693532514, 13.420542074316339, 11.505433620894948, 8.083961453840448, 7.455055372676952, 5.953629974331399, 5.7994767929366535, 5.740884845991609, 3.040020607654323]}, \"tinfo\": {\"Term\": [\"domain\", \"email\", \"business\", \"web\", \"name\", \"social\", \"medium\", \"website\", \"wordpress\", \"customer\", \"amp\", \"registration\", \"site\", \"service\", \"bigrock\", \"com\", \"time\", \"provider\", \"support\", \"people\", \"free\", \"cheap\", \"company\", \"entrepreneur\", \"account\", \"issue\", \"dns\", \"registrar\", \"sale\", \"datum\", \"customer\", \"bigrock\", \"support\", \"account\", \"issue\", \"hour\", \"call\", \"phone\", \"problem\", \"experience\", \"minute\", \"chat\", \"error\", \"due\", \"card\", \"end\", \"information\", \"message\", \"process\", \"agent\", \"move\", \"reseller\", \"professional\", \"care\", \"response\", \"perfect\", \"fix\", \"vps\", \"hacker\", \"senior\", \"server\", \"time\", \"service\", \"bad\", \"last\", \"day\", \"number\", \"team\", \"able\", \"help\", \"access\", \"guy\", \"week\", \"company\", \"thing\", \"year\", \"website\", \"site\", \"good\", \"new\", \"people\", \"amp\", \"many\", \"domain\", \"name\", \"registration\", \"com\", \"registrar\", \"price\", \"premium\", \"auction\", \"portfolio\", \"transfer\", \"bid\", \"renewal\", \"vlog\", \"candomain\", \"spvlog\", \"namecheap\", \"offer\", \"refund\", \"buy\", \"worth\", \"broker\", \"dot\", \"coupon\", \"seller\", \"jewellery\", \"authentication\", \"dynadot\", \"legal\", \"woocommerce\", \"discount\", \"possible\", \"sale\", \"idea\", \"cheap\", \"year\", \"launch\", \"page\", \"code\", \"look\", \"market\", \"available\", \"today\", \"high\", \"amp\", \"good\", \"day\", \"web\", \"popular\", \"late\", \"blog\", \"app\", \"password\", \"beat\", \"builder\", \"ad\", \"design\", \"post\", \"url\", \"seo\", \"template\", \"class\", \"websitebuilder\", \"plugin\", \"short\", \"basic\", \"main\", \"jewelry\", \"form\", \"fine\", \"figure\", \"c\", \"newsletter\", \"notice\", \"version\", \"start\", \"mission\", \"wordpress\", \"update\", \"little\", \"easy\", \"website\", \"check\", \"full\", \"marketing\", \"use\", \"product\", \"site\", \"cheap\", \"host\", \"month\", \"amp\", \"free\", \"new\", \"page\", \"service\", \"datum\", \"other\", \"breach\", \"info\", \"value\", \"employee\", \"buyer\", \"whois\", \"question\", \"group\", \"office\", \"action\", \"sorry\", \"attack\", \"ticket\", \"true\", \"studio\", \"shit\", \"cybersecurity\", \"tip\", \"state\", \"database\", \"country\", \"side\", \"signature\", \"hostinger\", \"clear\", \"ip\", \"direct\", \"answer\", \"reason\", \"security\", \"client\", \"people\", \"law\", \"company\", \"much\", \"several\", \"user\", \"good\", \"many\", \"thing\", \"site\", \"right\", \"way\", \"well\", \"thank\", \"year\", \"work\", \"entrepreneur\", \"simple\", \"community\", \"woman\", \"story\", \"event\", \"open\", \"opportunity\", \"party\", \"program\", \"active\", \"abuse\", \"legit\", \"book\", \"podcast\", \"comment\", \"investment\", \"official\", \"fun\", \"stock\", \"amazing\", \"founder\", \"rep\", \"ceo\", \"night\", \"admin\", \"contract\", \"show\", \"member\", \"dev\", \"partner\", \"news\", \"job\", \"software\", \"thank\", \"today\", \"great\", \"new\", \"love\", \"amp\", \"week\", \"team\", \"lot\", \"big\", \"business\", \"online\", \"brand\", \"small\", \"rare\", \"startup\", \"crypto\", \"store\", \"ecommerce\", \"ethereum\", \"domainname\", \"lesson\", \"blockchain\", \"growth\", \"third\", \"domainer\", \"hack\", \"cryptocurrency\", \"strategy\", \"car\", \"youtube\", \"revenue\", \"government\", \"transaction\", \"success\", \"shopify\", \"html\", \"token\", \"safe\", \"tld\", \"owner\", \"top\", \"digital\", \"local\", \"technology\", \"platform\", \"market\", \"internet\", \"sale\", \"marketing\", \"company\", \"website\", \"email\", \"dns\", \"address\", \"pro\", \"mail\", \"art\", \"fast\", \"gmail\", \"management\", \"trading\", \"course\", \"appraisal\", \"mobile\", \"setup\", \"standard\", \"alternative\", \"reliable\", \"setting\", \"core\", \"building\", \"total\", \"trial\", \"biz\", \"activity\", \"cloudflare\", \"cliente\", \"individual\", \"track\", \"property\", \"recommendation\", \"record\", \"free\", \"contact\", \"bit\", \"level\", \"size\", \"system\", \"solution\", \"r\", \"large\", \"share\", \"whole\", \"career\", \"man\", \"traffic\", \"type\", \"policy\", \"listing\", \"wait\", \"complaint\", \"season\", \"nice\", \"executive\", \"org\", \"matter\", \"lol\", \"photo\", \"dear\", \"letter\", \"suggestion\", \"proud\", \"resource\", \"por\", \"mistake\", \"cash\", \"world\", \"life\", \"enough\", \"social\", \"medium\", \"video\", \"comhow\", \"step\", \"line\", \"global\", \"super\", \"insight\", \"music\", \"dollar\", \"view\", \"trend\", \"holiday\", \"text\", \"claim\", \"image\", \"olhardigital\", \"publieditorial\", \"daily\", \"history\", \"piece\", \"engineering\", \"set\", \"ok\", \"incident\", \"thread\", \"rule\", \"thought\", \"rapid\", \"recent\", \"life\", \"right\", \"amp\", \"available\", \"provider\", \"detail\", \"order\", \"e\", \"cpanel\", \"similar\", \"data\", \"button\", \"hostgator\", \"guide\", \"break\", \"certain\", \"steal\", \"saas\", \"bypass\", \"operation\", \"position\", \"ser\", \"multifactor\", \"speech\", \"paas\", \"reverseproxy\", \"area\", \"namesilo\", \"bar\", \"coffee\", \"constant\", \"brain\", \"n\", \"estas\", \"wordpress\", \"website\"], \"Freq\": [20500.0, 5631.0, 4344.0, 5108.0, 5146.0, 2753.0, 2675.0, 6601.0, 4040.0, 3659.0, 4617.0, 2317.0, 4284.0, 3939.0, 2412.0, 1892.0, 3613.0, 967.0, 2307.0, 2196.0, 1833.0, 2513.0, 3124.0, 1168.0, 1990.0, 1983.0, 978.0, 1444.0, 1650.0, 1147.0, 3658.5234331262095, 2411.4647650603056, 2306.5546091075807, 1990.0584815006662, 1982.1006780865944, 1584.985966056435, 943.8740418045223, 852.9525739241441, 846.6705498467288, 700.2068292059876, 654.9012881033109, 635.5219995681072, 571.3076519298124, 517.3217255174931, 460.7935180005042, 442.64722897662455, 423.1786413705852, 412.277987456258, 392.9657553702271, 366.564294246065, 357.8279990737877, 338.0210203099933, 329.3061083853602, 326.10213456192236, 325.66142734451745, 293.33508787487006, 292.9227905514984, 282.17204685203865, 278.68101683061576, 264.89471133969624, 1325.5656188707223, 3164.313611367451, 3334.474115613838, 1140.3480729923835, 1182.6798261301283, 2025.175941404838, 706.1238720824779, 1143.3173618815702, 605.1640562885173, 929.1711633711416, 698.4215049576406, 649.0494565494234, 980.1821896874457, 1592.9262786816537, 957.1378226163062, 1435.4976532808269, 1959.9452070593693, 1311.4945319953968, 1003.5092402593571, 991.4255316296219, 845.696272466476, 830.5616344157684, 699.8469536977626, 20499.797814000434, 5145.892243342845, 2316.9278734218797, 1891.679002557867, 1443.8503862756409, 950.3541420361022, 836.8895989150786, 724.3025489533914, 714.9679209216449, 698.5358327886281, 641.513337839305, 512.4091936938548, 499.06004325066164, 495.2165528726358, 495.18096076533124, 400.28104275994383, 322.2650427319817, 294.0943645963355, 293.71582917052643, 270.6607075483783, 261.0902114656063, 246.17794500156654, 235.13252183971295, 227.22658983462532, 210.57679898993356, 207.52053779555516, 203.403072599444, 202.3341311830798, 199.38253610662463, 188.72196139751802, 344.5272727897749, 1147.0359863207289, 479.6451114370987, 1301.58240276742, 1674.6197624196618, 322.06517124402546, 787.8737806263509, 463.6671040327469, 448.6457576074374, 525.1850720529926, 411.24376351040746, 568.7238910547354, 406.8616435638352, 701.3835530736565, 462.3282147709123, 383.7592709573356, 5107.247882236831, 1011.0858822627622, 989.6296952488193, 692.1613747610957, 679.4562462050413, 580.9756892787319, 576.5550289978495, 561.0572617416747, 552.4446051763962, 522.9399882386592, 488.8002057849462, 472.8410693893182, 442.32976451658635, 374.30349395098506, 365.4389589200208, 345.3358480390524, 300.7933286161958, 250.60113892618273, 240.64814911318285, 236.05817364398385, 205.20446272491404, 199.70870999306, 195.23322875791175, 192.17669139363184, 191.6802793197327, 187.96822080040732, 187.0969850160657, 182.00127628838428, 181.45837628124696, 174.63793868275206, 3819.1085485947215, 922.7045928530872, 472.90277799105314, 670.489384625598, 4275.391860955712, 633.904915032981, 526.3547275174554, 1026.7437025175095, 763.3598863192299, 774.5513842876046, 2073.0467899811024, 1210.604186412515, 787.1488472622381, 793.459289225123, 1161.5857285445068, 724.5298961646279, 867.8098950382256, 495.50532322164247, 535.6908377950431, 1146.557274852134, 1053.8862405727787, 716.8864172531889, 611.4303041967491, 590.1363718217914, 552.4759019634747, 471.43382308602264, 454.92809965714986, 401.90305916379305, 387.2344941207543, 329.5048725740839, 314.98619036154304, 314.3293561048615, 311.68747839523763, 306.60033829691463, 299.55377163569375, 281.2267201992376, 279.900483478222, 264.1154468700609, 254.85485261043488, 253.49784021796387, 250.93650524752266, 241.0884168225303, 225.670690508444, 214.17055291294483, 212.11164279088075, 209.7737791504732, 202.06413206096076, 200.02772838720833, 185.45748364870403, 512.169381851746, 831.0633997082264, 906.4192370638149, 1349.894285649911, 289.9534564472828, 1171.014855215383, 454.4431236282503, 331.27671168352583, 487.38224639366854, 748.2252051029287, 570.3542658579157, 592.4526140989333, 899.4182649265332, 437.7446033882226, 394.16680894661334, 353.64819716972767, 331.48812056879024, 359.1770199941306, 326.0723104606847, 1167.6644172196088, 475.9378197670759, 431.6853004376032, 426.1118386105925, 408.4708227065027, 407.63743309436893, 364.3097729686056, 342.484716201381, 328.16674009815466, 324.80048855550564, 272.5100699823294, 250.3543509969185, 245.73574073386968, 245.63501402162368, 232.540630269574, 230.15410547119103, 223.84432053919068, 219.76884207009766, 212.10357302735073, 200.2759578322914, 200.17432495276287, 198.5075279605095, 197.81032996054114, 183.30758457161255, 182.44843137987806, 180.8440533222022, 180.65132397880262, 176.5930804560632, 172.40182579064015, 170.85499823939662, 330.01279830047156, 434.434256613018, 384.31641851962286, 267.8694807206832, 407.4704495625842, 601.0793082657916, 469.14465677780754, 608.9510946090211, 259.22348992645806, 442.81840059856984, 318.9577351337163, 319.7673867166455, 255.31629205212283, 238.21705757505808, 4343.068840738511, 945.1892287140377, 940.9105962873815, 735.5872976305004, 658.7056867567983, 611.3903566587115, 458.3787794681223, 453.5240260391636, 378.12210887967996, 371.9464391117106, 345.29654970338214, 290.35459663044645, 277.98424968942606, 256.2760725883048, 250.3769441785795, 247.9542046155123, 206.78146156913644, 204.46626131602693, 204.20123910069015, 199.0584251705802, 192.24721987373414, 189.6112532741777, 182.1807506712445, 178.9551448718059, 177.29299645449748, 172.84662367799572, 167.77010626595506, 166.89140703758548, 162.52810972984574, 160.26050991791053, 572.9160916346391, 506.0243140724206, 336.0870686846645, 275.40501036262197, 320.0817193787184, 602.2127949719759, 518.8774491025149, 369.6456582693527, 502.6463704755302, 468.53745097095197, 359.55587222425, 256.932352405831, 5631.017615813926, 977.5522709894204, 817.4602007350444, 471.0003584238057, 362.8590597385944, 355.02663479234093, 253.51513607257868, 251.6488846633651, 228.33598684823292, 227.2012502988397, 222.97060237498448, 212.71414953746236, 196.4841821046849, 183.53933168048167, 171.07070787238231, 169.31573696060914, 161.99384924479267, 161.20804195977476, 151.06879742605952, 149.00093517205949, 145.2480841441404, 143.26733316383047, 136.18493929375177, 135.47020025680519, 133.1253013834131, 130.875365182872, 123.33607222429042, 121.5930746962376, 108.85126145433502, 103.55127913609681, 387.1746859118947, 888.8595161376722, 357.2122549480891, 175.76982261283746, 132.46159644101235, 782.7732350835869, 593.9635170212291, 582.2367744356059, 550.8461333876095, 524.6072581361867, 414.30251717586464, 373.98864963925325, 293.0219249094734, 263.1680182758261, 261.5932727628889, 246.99020408859576, 210.04135127166438, 198.28522720306142, 197.39372545116476, 184.3600231202568, 180.67432321671345, 180.01392180599817, 179.64010776267295, 179.0495463282033, 175.49841489139197, 175.02911421509435, 174.05562474149448, 164.80704772291176, 160.24975664292262, 159.3917918462189, 156.33904939119756, 151.60943368283384, 150.22582714485608, 148.39495922952733, 148.28902018178553, 359.9428986217243, 241.8774691383926, 153.86594432252716, 2752.8851286391255, 2674.182716386068, 693.6242876553034, 494.05811272449637, 334.29206948122186, 243.82058494873806, 215.68683971749843, 205.25935809585556, 189.32540283544947, 174.12975586740012, 166.8828723509235, 164.9729766073546, 163.66977010710002, 158.97266970980743, 158.73311572207172, 154.8834320359903, 154.3878827201965, 146.95037807689747, 146.95037807689747, 136.23869974913018, 130.41287547167306, 127.4041354288171, 124.16646581000698, 123.34982456237695, 122.0449020051125, 121.20771854562922, 115.20491327096477, 115.00463932346193, 110.38778982751248, 108.45097974863467, 270.8470443943701, 540.5505891529981, 550.7826800187764, 1282.9524850344824, 312.69072238318006, 966.6273569019756, 682.3858005483052, 422.82985144761534, 420.38213779541803, 373.8886746418992, 297.0395745302277, 269.13683626553086, 189.6339572021661, 170.03153454657087, 160.19469610538437, 136.53083597749213, 136.4950084114773, 132.88910621344874, 131.70461828309035, 127.43471007978576, 114.22258350499368, 111.44883365665802, 111.25077309869239, 102.91626027160049, 99.92479214444587, 99.74199939482487, 99.53920815488638, 98.78694285839626, 97.98009431185481, 94.67140322235026, 94.02532436359004, 88.1935494345239, 85.54288418028733, 83.40631977587309, 82.80236269558311, 220.15575602373843, 108.24421088880231], \"Total\": [20500.0, 5631.0, 4344.0, 5108.0, 5146.0, 2753.0, 2675.0, 6601.0, 4040.0, 3659.0, 4617.0, 2317.0, 4284.0, 3939.0, 2412.0, 1892.0, 3613.0, 967.0, 2307.0, 2196.0, 1833.0, 2513.0, 3124.0, 1168.0, 1990.0, 1983.0, 978.0, 1444.0, 1650.0, 1147.0, 3659.4596704152164, 2412.4216347619476, 2307.490812349212, 1990.9947229455934, 1983.0368898518582, 1585.9221677162072, 944.8102272717911, 853.8887678625935, 847.6067488649214, 701.1430953549527, 655.837483383393, 636.458190342301, 572.2438569853556, 518.2579884188176, 461.729739353313, 443.58347828025114, 424.1148722889462, 413.21424802057834, 393.90206368755315, 367.5004905040399, 358.76426442498115, 338.9582537705773, 330.2426306498408, 327.0383460620424, 326.5976177420427, 294.27153732259933, 293.85899254947157, 283.10851143215825, 279.6173037160132, 265.8310862978546, 1416.646994312181, 3613.9613860856803, 3939.8333927325593, 1267.5240667425307, 1337.0519336968134, 2627.9607545459, 806.6558862083818, 1463.9129458858663, 681.523619025344, 1172.2077211674705, 823.2536761593444, 761.6112916821102, 1427.7133909146103, 3124.223920188711, 1550.4222480959663, 3667.097807376554, 6601.124862844869, 4284.691473931162, 2378.0457461515593, 2946.1991814328935, 2196.422326575489, 4617.231686911523, 1391.3941348612382, 20500.755026986273, 5146.849427699515, 2317.885407055137, 1892.6361440731678, 1444.8075666375998, 951.3113192398528, 837.8467741874804, 725.2596723527263, 715.9251008055612, 699.4930770665595, 642.4704387250372, 513.3663777144637, 500.0171381431872, 496.17364599811765, 496.13805391502234, 401.23826158979057, 323.22228031064606, 295.05162609135937, 294.673013130305, 271.61792931851596, 262.0474332971258, 247.13513429444595, 236.08980467452457, 228.18435385084896, 211.53397959690378, 208.47942589541057, 204.3602227386978, 203.29152634859145, 200.33994299480955, 189.67914369736548, 370.05119732924385, 1650.5346670477913, 645.9979569806106, 2513.0441693296766, 3667.097807376554, 393.8309715951181, 1534.149639901073, 765.9785398064258, 735.3694745742869, 1163.340862743373, 724.7938110579054, 1927.9881008959655, 782.9304890684781, 4617.231686911523, 2378.0457461515593, 2627.9607545459, 5108.188212188622, 1012.0267073996538, 990.5699734155105, 693.1016284796909, 680.3965659449466, 581.9160993646856, 577.4952303498586, 561.9974825437793, 553.384906241045, 523.8802690764387, 489.74048238663124, 473.7815378093973, 443.27003691977814, 375.2436701362587, 366.379242199003, 346.2761104808481, 301.73366802841815, 251.54156482403667, 241.5884916639127, 236.99853533887992, 206.14559863340054, 200.6490921920461, 196.17357523516574, 193.1170473063195, 192.62056076557468, 188.90846087566797, 188.03743906920715, 182.94152328227395, 182.39876441039584, 175.57829778890144, 4040.084448792894, 996.6085119417528, 529.9889633071618, 791.7281361856994, 6601.124862844869, 790.7455252096073, 641.8223580269002, 1496.1165461888927, 1053.1559770719, 1166.9365955123226, 4284.691473931162, 2513.0441693296766, 1374.8291156829412, 1452.198760693582, 4617.231686911523, 1833.2252650060439, 2946.1991814328935, 1534.149639901073, 3939.8333927325593, 1147.492938115754, 1054.8220306237852, 717.8221716072086, 612.3659727426193, 591.0721292685873, 553.4115459893221, 472.3695690499444, 455.8637508429815, 402.83877672976377, 388.17016449269244, 330.44059340411224, 315.92185955111466, 315.2650581075112, 312.6231236574129, 307.53605617310166, 300.4895144989583, 282.1625763946919, 280.83614548583085, 265.0510815428271, 255.79054386018134, 254.4335792289193, 251.8721817906028, 242.02417126518262, 226.6063743156335, 215.10644041672455, 213.04755348045953, 210.70944971476726, 202.9998168580302, 200.96343027778457, 186.39310743913603, 601.3305667115894, 1067.9370772744142, 1278.6864089168243, 2196.422326575489, 341.6441465298088, 3124.223920188711, 706.1141847636944, 440.65086044852006, 937.3986638333147, 2378.0457461515593, 1391.3941348612382, 1550.4222480959663, 4284.691473931162, 989.3650206359894, 1278.3382331457929, 902.2521860026687, 875.1947913032404, 3667.097807376554, 1169.3808525527265, 1168.5965525788588, 476.8699725141854, 432.6173722765369, 427.0439102900804, 409.40290523677555, 408.5695206061545, 365.2418670064425, 343.41681721052794, 329.098937988264, 325.73258369647243, 273.44233357182827, 251.28648406880183, 246.66788066508636, 246.56710206554445, 233.4727032623407, 231.08624045614255, 224.7764172989972, 220.70097241840486, 213.0356698791052, 201.20805700402863, 201.10637945654605, 199.43959680493603, 198.74244932040878, 184.2396522018992, 183.3805256866097, 181.77619142990673, 181.58346284989304, 177.52518481928416, 173.33390789334993, 171.7871157985429, 387.5639854378851, 581.2069571572687, 582.818605798338, 379.3358274047786, 875.1947913032404, 1927.9881008959655, 1197.17974653723, 2946.1991814328935, 398.18483612425354, 4617.231686911523, 1427.7133909146103, 1463.9129458858663, 861.0338574179407, 937.649806074816, 4344.004092192522, 946.1244562514521, 941.8458411302944, 736.5225105721827, 659.640918382158, 612.3255658004679, 459.31401064608644, 454.4593322892047, 379.0573572998164, 372.8817000499927, 346.23174615149327, 291.28997245764793, 278.9194667306834, 257.21134569622785, 251.3123446124803, 248.8895112316974, 207.71682591764198, 205.40149638366702, 205.1365210325479, 199.99368952407758, 193.18296134989436, 190.54653396404552, 183.1161036990123, 179.8903881469444, 178.22827363046326, 173.78187839383492, 168.70552867743825, 167.82686482725245, 163.46338374982201, 161.19581120587335, 782.4103641617565, 691.8477630651662, 423.45714686917296, 343.8015150374338, 431.9545359598826, 1183.6937353102767, 1163.340862743373, 834.5504275255582, 1650.5346670477913, 1496.1165461888927, 3124.223920188711, 6601.124862844869, 5631.948187321494, 978.4828502232234, 818.3907771127487, 471.9311003370472, 363.7896175463574, 355.9572381159298, 254.44579896932945, 252.57940062033006, 229.26664114322904, 228.13199246054444, 223.90122562495927, 213.64478457932705, 197.41482505768903, 184.46993516592707, 172.00143546951585, 170.2463496082674, 162.92454262535517, 162.138615458085, 151.9997813261251, 149.93157095811657, 146.17874271417801, 144.19787306595993, 137.11556269664652, 136.4009057170085, 134.05588760573715, 131.80591988822425, 124.2666826898266, 122.52376895904501, 109.78190023429103, 104.481879894974, 468.5165561391506, 1833.2252650060439, 620.5638699636411, 288.2069008593282, 347.7341393529797, 783.7051749990255, 594.8954002802436, 583.168716476638, 551.7779219125713, 525.5391584725915, 415.2343904302502, 374.9205420486655, 293.95383493949083, 264.09984704185285, 262.52518604262235, 247.92209618258312, 210.97320346350784, 199.2171622581442, 198.3255910249919, 185.29188494571827, 181.60631240185606, 180.9457644967753, 180.57201849566255, 179.9814217196575, 176.430288345733, 175.9609776601745, 174.98751920352893, 165.73890130870882, 161.18163151441954, 160.3236817108188, 157.27095458400638, 152.54129083706394, 151.15762228450308, 149.32681659946704, 149.22087179314082, 670.7972127889641, 783.2620486237847, 203.97415885646777, 2753.8273754199417, 2675.1249678767467, 694.5664602144329, 495.00114891004586, 335.23432080267116, 244.76284891283095, 216.62902077835122, 206.20185772779524, 190.26764866852614, 175.07192287787652, 167.82511440083425, 165.91524497068534, 164.61199898718309, 159.91490658671145, 159.67535063627022, 155.825700026166, 155.33008926123986, 147.89253478023028, 147.89253478023028, 137.18093846311208, 131.35512581095972, 128.34638300681152, 125.10866888694264, 124.29210458329536, 122.987114806701, 122.15001750176324, 116.14717547970247, 115.94685192058313, 111.33001282339005, 109.39317708469869, 324.2947689512825, 783.2620486237847, 989.3650206359894, 4617.231686911523, 724.7938110579054, 967.5471786282676, 683.3056332776148, 423.74966629353713, 421.30191279758026, 374.8085113397838, 297.959408898401, 270.05668914419454, 190.55380416902247, 170.95134238344528, 161.11454138040963, 137.4507105082911, 137.41482882079566, 133.80895113405333, 132.62455304049547, 128.35462140619538, 115.1424368092263, 112.36866129277522, 112.1705537179555, 103.83612558748683, 100.84460683440842, 100.66243580372971, 100.45951965841647, 99.70677738471065, 98.90029289764993, 95.59124475846005, 94.94514988108389, 89.11342536320755, 86.46275580800103, 84.32612740501685, 83.72218556302428, 4040.084448792894, 6601.124862844869], \"Category\": [\"Default\", \"Default\", \"Default\", \"Default\", \"Default\", \"Default\", \"Default\", \"Default\", \"Default\", \"Default\", \"Default\", \"Default\", \"Default\", \"Default\", \"Default\", \"Default\", \"Default\", \"Default\", \"Default\", \"Default\", \"Default\", \"Default\", \"Default\", \"Default\", \"Default\", \"Default\", \"Default\", \"Default\", \"Default\", \"Default\", \"Topic1\", \"Topic1\", \"Topic1\", \"Topic1\", \"Topic1\", \"Topic1\", \"Topic1\", \"Topic1\", \"Topic1\", \"Topic1\", \"Topic1\", \"Topic1\", \"Topic1\", \"Topic1\", \"Topic1\", \"Topic1\", \"Topic1\", \"Topic1\", \"Topic1\", \"Topic1\", \"Topic1\", \"Topic1\", \"Topic1\", \"Topic1\", \"Topic1\", \"Topic1\", \"Topic1\", \"Topic1\", \"Topic1\", \"Topic1\", \"Topic1\", \"Topic1\", \"Topic1\", \"Topic1\", \"Topic1\", \"Topic1\", \"Topic1\", \"Topic1\", \"Topic1\", \"Topic1\", \"Topic1\", \"Topic1\", \"Topic1\", \"Topic1\", \"Topic1\", \"Topic1\", \"Topic1\", \"Topic1\", \"Topic1\", \"Topic1\", \"Topic1\", \"Topic1\", \"Topic1\", \"Topic2\", \"Topic2\", \"Topic2\", \"Topic2\", \"Topic2\", \"Topic2\", \"Topic2\", \"Topic2\", \"Topic2\", \"Topic2\", \"Topic2\", \"Topic2\", \"Topic2\", \"Topic2\", \"Topic2\", \"Topic2\", \"Topic2\", \"Topic2\", \"Topic2\", \"Topic2\", \"Topic2\", \"Topic2\", \"Topic2\", \"Topic2\", \"Topic2\", \"Topic2\", \"Topic2\", \"Topic2\", \"Topic2\", \"Topic2\", \"Topic2\", \"Topic2\", \"Topic2\", \"Topic2\", \"Topic2\", \"Topic2\", \"Topic2\", \"Topic2\", \"Topic2\", \"Topic2\", \"Topic2\", \"Topic2\", \"Topic2\", \"Topic2\", \"Topic2\", \"Topic2\", \"Topic3\", \"Topic3\", \"Topic3\", \"Topic3\", \"Topic3\", \"Topic3\", \"Topic3\", \"Topic3\", \"Topic3\", \"Topic3\", \"Topic3\", \"Topic3\", \"Topic3\", \"Topic3\", \"Topic3\", \"Topic3\", \"Topic3\", \"Topic3\", \"Topic3\", \"Topic3\", \"Topic3\", \"Topic3\", \"Topic3\", \"Topic3\", \"Topic3\", \"Topic3\", \"Topic3\", \"Topic3\", \"Topic3\", \"Topic3\", \"Topic3\", \"Topic3\", \"Topic3\", \"Topic3\", \"Topic3\", \"Topic3\", \"Topic3\", \"Topic3\", \"Topic3\", \"Topic3\", \"Topic3\", \"Topic3\", \"Topic3\", \"Topic3\", \"Topic3\", \"Topic3\", \"Topic3\", \"Topic3\", \"Topic3\", \"Topic4\", \"Topic4\", \"Topic4\", \"Topic4\", \"Topic4\", \"Topic4\", \"Topic4\", \"Topic4\", \"Topic4\", \"Topic4\", \"Topic4\", \"Topic4\", \"Topic4\", \"Topic4\", \"Topic4\", \"Topic4\", \"Topic4\", \"Topic4\", \"Topic4\", \"Topic4\", \"Topic4\", \"Topic4\", \"Topic4\", \"Topic4\", \"Topic4\", \"Topic4\", \"Topic4\", \"Topic4\", \"Topic4\", \"Topic4\", \"Topic4\", \"Topic4\", \"Topic4\", \"Topic4\", \"Topic4\", \"Topic4\", \"Topic4\", \"Topic4\", \"Topic4\", \"Topic4\", \"Topic4\", \"Topic4\", \"Topic4\", \"Topic4\", \"Topic4\", \"Topic4\", \"Topic4\", \"Topic4\", \"Topic4\", \"Topic5\", \"Topic5\", \"Topic5\", \"Topic5\", \"Topic5\", \"Topic5\", \"Topic5\", \"Topic5\", \"Topic5\", \"Topic5\", \"Topic5\", \"Topic5\", \"Topic5\", \"Topic5\", \"Topic5\", \"Topic5\", \"Topic5\", \"Topic5\", \"Topic5\", \"Topic5\", \"Topic5\", \"Topic5\", \"Topic5\", \"Topic5\", \"Topic5\", \"Topic5\", \"Topic5\", \"Topic5\", \"Topic5\", \"Topic5\", \"Topic5\", \"Topic5\", \"Topic5\", \"Topic5\", \"Topic5\", \"Topic5\", \"Topic5\", \"Topic5\", \"Topic5\", \"Topic5\", \"Topic5\", \"Topic5\", \"Topic5\", \"Topic5\", \"Topic6\", \"Topic6\", \"Topic6\", \"Topic6\", \"Topic6\", \"Topic6\", \"Topic6\", \"Topic6\", \"Topic6\", \"Topic6\", \"Topic6\", \"Topic6\", \"Topic6\", \"Topic6\", \"Topic6\", \"Topic6\", \"Topic6\", \"Topic6\", \"Topic6\", \"Topic6\", \"Topic6\", \"Topic6\", \"Topic6\", \"Topic6\", \"Topic6\", \"Topic6\", \"Topic6\", \"Topic6\", \"Topic6\", \"Topic6\", \"Topic6\", \"Topic6\", \"Topic6\", \"Topic6\", \"Topic6\", \"Topic6\", \"Topic6\", \"Topic6\", \"Topic6\", \"Topic6\", \"Topic6\", \"Topic6\", \"Topic7\", \"Topic7\", \"Topic7\", \"Topic7\", \"Topic7\", \"Topic7\", \"Topic7\", \"Topic7\", \"Topic7\", \"Topic7\", \"Topic7\", \"Topic7\", \"Topic7\", \"Topic7\", \"Topic7\", \"Topic7\", \"Topic7\", \"Topic7\", \"Topic7\", \"Topic7\", \"Topic7\", \"Topic7\", \"Topic7\", \"Topic7\", \"Topic7\", \"Topic7\", \"Topic7\", \"Topic7\", \"Topic7\", \"Topic7\", \"Topic7\", \"Topic7\", \"Topic7\", \"Topic7\", \"Topic7\", \"Topic8\", \"Topic8\", \"Topic8\", \"Topic8\", \"Topic8\", \"Topic8\", \"Topic8\", \"Topic8\", \"Topic8\", \"Topic8\", \"Topic8\", \"Topic8\", \"Topic8\", \"Topic8\", \"Topic8\", \"Topic8\", \"Topic8\", \"Topic8\", \"Topic8\", \"Topic8\", \"Topic8\", \"Topic8\", \"Topic8\", \"Topic8\", \"Topic8\", \"Topic8\", \"Topic8\", \"Topic8\", \"Topic8\", \"Topic8\", \"Topic8\", \"Topic8\", \"Topic8\", \"Topic9\", \"Topic9\", \"Topic9\", \"Topic9\", \"Topic9\", \"Topic9\", \"Topic9\", \"Topic9\", \"Topic9\", \"Topic9\", \"Topic9\", \"Topic9\", \"Topic9\", \"Topic9\", \"Topic9\", \"Topic9\", \"Topic9\", \"Topic9\", \"Topic9\", \"Topic9\", \"Topic9\", \"Topic9\", \"Topic9\", \"Topic9\", \"Topic9\", \"Topic9\", \"Topic9\", \"Topic9\", \"Topic9\", \"Topic9\", \"Topic9\", \"Topic9\", \"Topic9\", \"Topic9\", \"Topic9\", \"Topic10\", \"Topic10\", \"Topic10\", \"Topic10\", \"Topic10\", \"Topic10\", \"Topic10\", \"Topic10\", \"Topic10\", \"Topic10\", \"Topic10\", \"Topic10\", \"Topic10\", \"Topic10\", \"Topic10\", \"Topic10\", \"Topic10\", \"Topic10\", \"Topic10\", \"Topic10\", \"Topic10\", \"Topic10\", \"Topic10\", \"Topic10\", \"Topic10\", \"Topic10\", \"Topic10\", \"Topic10\", \"Topic10\", \"Topic10\", \"Topic10\", \"Topic10\"], \"logprob\": [30.0, 29.0, 28.0, 27.0, 26.0, 25.0, 24.0, 23.0, 22.0, 21.0, 20.0, 19.0, 18.0, 17.0, 16.0, 15.0, 14.0, 13.0, 12.0, 11.0, 10.0, 9.0, 8.0, 7.0, 6.0, 5.0, 4.0, 3.0, 2.0, 1.0, -3.3902, -3.8071, -3.8515, -3.9991, -4.0031, -4.2267, -4.7451, -4.8463, -4.8537, -5.0437, -5.1106, -5.1406, -5.2471, -5.3464, -5.4621, -5.5023, -5.5472, -5.5733, -5.6213, -5.6909, -5.715, -5.7719, -5.7981, -5.8078, -5.8092, -5.9137, -5.9151, -5.9525, -5.965, -6.0157, -4.4054, -3.5354, -3.483, -4.556, -4.5195, -3.9816, -5.0353, -4.5534, -5.1895, -4.7607, -5.0462, -5.1195, -4.7073, -4.2217, -4.7311, -4.3258, -4.0144, -4.4161, -4.6838, -4.6959, -4.8549, -4.8729, -5.0442, -1.3041, -2.6863, -3.4842, -3.687, -3.9572, -4.3754, -4.5026, -4.647, -4.66, -4.6833, -4.7684, -4.9931, -5.0195, -5.0273, -5.0273, -5.2401, -5.4569, -5.5483, -5.5496, -5.6314, -5.6674, -5.7262, -5.7721, -5.8063, -5.8824, -5.897, -5.9171, -5.9223, -5.937, -5.992, -5.3901, -4.1873, -5.0592, -4.0609, -3.8089, -5.4575, -4.5629, -5.0931, -5.126, -4.9685, -5.2131, -4.8889, -5.2238, -4.6792, -5.096, -5.2822, -2.5179, -4.1376, -4.159, -4.5165, -4.5351, -4.6916, -4.6993, -4.7265, -4.742, -4.7969, -4.8644, -4.8976, -4.9643, -5.1313, -5.1553, -5.2118, -5.3499, -5.5325, -5.573, -5.5923, -5.7323, -5.7595, -5.7822, -5.7979, -5.8005, -5.8201, -5.8247, -5.8523, -5.8553, -5.8936, -2.8086, -4.229, -4.8975, -4.5483, -2.6957, -4.6045, -4.7904, -4.1222, -4.4186, -4.4041, -3.4196, -3.9575, -4.3879, -4.38, -3.9988, -4.4708, -4.2904, -4.8508, -4.7728, -3.8579, -3.9421, -4.3275, -4.4866, -4.522, -4.588, -4.7466, -4.7822, -4.9062, -4.9434, -5.1048, -5.1499, -5.1519, -5.1604, -5.1768, -5.2001, -5.2632, -5.268, -5.326, -5.3617, -5.367, -5.3772, -5.4172, -5.4833, -5.5356, -5.5453, -5.5564, -5.5938, -5.6039, -5.6796, -4.6637, -4.1797, -4.0929, -3.6946, -5.2327, -3.8368, -4.7833, -5.0994, -4.7133, -4.2847, -4.5561, -4.5181, -4.1006, -4.8208, -4.9256, -5.0341, -5.0988, -5.0186, -5.1153, -3.4867, -4.3842, -4.4818, -4.4947, -4.537, -4.5391, -4.6514, -4.7132, -4.7559, -4.7662, -4.9418, -5.0266, -5.0452, -5.0456, -5.1004, -5.1107, -5.1385, -5.1569, -5.1924, -5.2498, -5.2503, -5.2586, -5.2621, -5.3383, -5.343, -5.3518, -5.3529, -5.3756, -5.3996, -5.4086, -4.7503, -4.4754, -4.598, -4.959, -4.5395, -4.1507, -4.3985, -4.1377, -4.9918, -4.4563, -4.7844, -4.7819, -5.0069, -5.0763, -2.0921, -3.6171, -3.6216, -3.8678, -3.9782, -4.0527, -4.3408, -4.3514, -4.5332, -4.5497, -4.6241, -4.7974, -4.8409, -4.9222, -4.9455, -4.9552, -5.1368, -5.1481, -5.1494, -5.1749, -5.2097, -5.2235, -5.2635, -5.2813, -5.2907, -5.3161, -5.3459, -5.3511, -5.3776, -5.3917, -4.1177, -4.2419, -4.6511, -4.8502, -4.6999, -4.0678, -4.2168, -4.5559, -4.2486, -4.3188, -4.5836, -4.9196, -1.6075, -3.3585, -3.5374, -4.0887, -4.3496, -4.3714, -4.7081, -4.7155, -4.8128, -4.8177, -4.8365, -4.8836, -4.963, -5.0311, -5.1015, -5.1118, -5.156, -5.1609, -5.2258, -5.2396, -5.2651, -5.2789, -5.3296, -5.3348, -5.3523, -5.3693, -5.4287, -5.4429, -5.5536, -5.6035, -4.2847, -3.4536, -4.3652, -5.0744, -5.3573, -3.5545, -3.8305, -3.8505, -3.9059, -3.9547, -4.1907, -4.2931, -4.5371, -4.6445, -4.6505, -4.708, -4.87, -4.9276, -4.9321, -5.0004, -5.0206, -5.0243, -5.0264, -5.0297, -5.0497, -5.0524, -5.058, -5.1126, -5.1406, -5.146, -5.1653, -5.196, -5.2052, -5.2175, -5.2182, -4.3314, -4.7289, -5.1813, -2.2868, -2.3158, -3.6653, -4.0045, -4.3952, -4.7107, -4.8334, -4.8829, -4.9637, -5.0474, -5.0899, -5.1014, -5.1093, -5.1384, -5.14, -5.1645, -5.1677, -5.2171, -5.2171, -5.2928, -5.3365, -5.3598, -5.3856, -5.3922, -5.4028, -5.4097, -5.4605, -5.4622, -5.5032, -5.5209, -4.6056, -3.9146, -3.8958, -3.0503, -4.462, -2.6976, -3.0458, -3.5245, -3.5303, -3.6475, -3.8776, -3.9762, -4.3263, -4.4354, -4.495, -4.6549, -4.6551, -4.6819, -4.6909, -4.7238, -4.8333, -4.8579, -4.8596, -4.9375, -4.967, -4.9688, -4.9709, -4.9785, -4.9867, -5.021, -5.0279, -5.0919, -5.1224, -5.1477, -5.155, -4.1771, -4.887], \"loglift\": [30.0, 29.0, 28.0, 27.0, 26.0, 25.0, 24.0, 23.0, 22.0, 21.0, 20.0, 19.0, 18.0, 17.0, 16.0, 15.0, 14.0, 13.0, 12.0, 11.0, 10.0, 9.0, 8.0, 7.0, 6.0, 5.0, 4.0, 3.0, 2.0, 1.0, 1.4694, 1.4693, 1.4693, 1.4692, 1.4692, 1.4691, 1.4687, 1.4686, 1.4686, 1.4684, 1.4683, 1.4682, 1.4681, 1.4679, 1.4677, 1.4676, 1.4675, 1.4674, 1.4673, 1.4671, 1.4671, 1.4669, 1.4669, 1.4668, 1.4668, 1.4665, 1.4665, 1.4664, 1.4663, 1.4662, 1.4032, 1.3368, 1.3029, 1.364, 1.347, 1.2091, 1.3366, 1.2225, 1.3509, 1.2373, 1.3053, 1.3098, 1.0936, 0.7961, 0.9874, 0.5318, 0.2554, 0.2858, 0.6069, 0.3806, 0.5153, -0.2458, 0.7825, 1.8324, 1.8323, 1.8321, 1.832, 1.8318, 1.8315, 1.8313, 1.8312, 1.8312, 1.8311, 1.831, 1.8306, 1.8306, 1.8306, 1.8306, 1.8301, 1.8295, 1.8292, 1.8292, 1.829, 1.8288, 1.8286, 1.8284, 1.8283, 1.828, 1.8279, 1.8278, 1.8278, 1.8277, 1.8274, 1.761, 1.4686, 1.5347, 1.1746, 1.0487, 1.6313, 1.1661, 1.3305, 1.3384, 1.0372, 1.2658, 0.6117, 1.1779, -0.052, 0.1947, -0.0915, 2.0082, 2.0075, 2.0074, 2.007, 2.007, 2.0068, 2.0068, 2.0067, 2.0067, 2.0066, 2.0065, 2.0064, 2.0063, 2.0059, 2.0058, 2.0057, 2.0053, 2.0046, 2.0045, 2.0044, 2.0038, 2.0037, 2.0036, 2.0035, 2.0035, 2.0034, 2.0034, 2.0032, 2.0032, 2.003, 1.9521, 1.9313, 1.8944, 1.8422, 1.574, 1.7873, 1.81, 1.6319, 1.6866, 1.5985, 1.2824, 1.278, 1.4507, 1.404, 0.6284, 1.0801, 0.7861, 0.8782, 0.013, 2.1615, 2.1615, 2.161, 2.1608, 2.1608, 2.1607, 2.1604, 2.1603, 2.16, 2.1599, 2.1595, 2.1594, 2.1594, 2.1594, 2.1593, 2.1592, 2.159, 2.159, 2.1588, 2.1587, 2.1587, 2.1586, 2.1585, 2.1582, 2.158, 2.1579, 2.1579, 2.1577, 2.1577, 2.1573, 2.0019, 1.9116, 1.8183, 1.6755, 1.9983, 1.181, 1.7216, 1.8771, 1.5083, 1.006, 1.2705, 1.2003, 0.6013, 1.3469, 0.9858, 1.2258, 1.1915, -0.161, 0.8852, 2.5145, 2.5133, 2.5131, 2.5131, 2.513, 2.513, 2.5127, 2.5126, 2.5125, 2.5124, 2.5119, 2.5116, 2.5115, 2.5115, 2.5113, 2.5112, 2.5111, 2.5111, 2.5109, 2.5106, 2.5106, 2.5106, 2.5106, 2.5102, 2.5102, 2.5101, 2.5101, 2.51, 2.5099, 2.5098, 2.3545, 2.2242, 2.0989, 2.1674, 1.7508, 1.3498, 1.5785, 0.9388, 2.0861, 0.1709, 1.0165, 0.994, 1.2997, 1.1451, 2.5961, 2.5953, 2.5953, 2.595, 2.5949, 2.5947, 2.5942, 2.5942, 2.5938, 2.5938, 2.5936, 2.5931, 2.5929, 2.5926, 2.5925, 2.5925, 2.5918, 2.5917, 2.5917, 2.5916, 2.5914, 2.5914, 2.5912, 2.5911, 2.591, 2.5909, 2.5907, 2.5907, 2.5905, 2.5905, 2.2846, 2.2835, 2.3652, 2.3745, 2.2965, 1.9205, 1.7889, 1.7819, 1.4073, 1.4353, 0.4342, -0.6499, 2.821, 2.8202, 2.82, 2.8192, 2.8186, 2.8186, 2.8175, 2.8175, 2.8171, 2.8171, 2.817, 2.8168, 2.8164, 2.8161, 2.8157, 2.8157, 2.8154, 2.8154, 2.815, 2.8149, 2.8148, 2.8147, 2.8144, 2.8143, 2.8142, 2.8141, 2.8137, 2.8135, 2.8127, 2.8122, 2.6305, 2.0973, 2.2689, 2.3267, 1.856, 2.8462, 2.8458, 2.8458, 2.8457, 2.8456, 2.8452, 2.8449, 2.8442, 2.8439, 2.8438, 2.8436, 2.843, 2.8427, 2.8427, 2.8424, 2.8423, 2.8422, 2.8422, 2.8422, 2.8421, 2.8421, 2.8421, 2.8418, 2.8416, 2.8416, 2.8415, 2.8413, 2.8412, 2.8411, 2.8411, 2.2249, 1.6724, 2.5655, 2.8572, 2.8572, 2.8562, 2.8556, 2.8547, 2.8537, 2.8532, 2.853, 2.8526, 2.8522, 2.8519, 2.8519, 2.8518, 2.8516, 2.8516, 2.8515, 2.8515, 2.8512, 2.8512, 2.8507, 2.8504, 2.8502, 2.85, 2.8499, 2.8499, 2.8498, 2.8494, 2.8494, 2.8491, 2.8489, 2.6775, 2.4867, 2.2718, 1.5769, 2.0169, 3.4924, 3.492, 3.4911, 3.4911, 3.4908, 3.4902, 3.4899, 3.4885, 3.4879, 3.4876, 3.4866, 3.4866, 3.4864, 3.4863, 3.4861, 3.4853, 3.4851, 3.4851, 3.4844, 3.4841, 3.4841, 3.4841, 3.484, 3.484, 3.4836, 3.4836, 3.4829, 3.4826, 3.4823, 3.4823, 0.5836, -0.6173]}, \"token.table\": {\"Topic\": [1, 4, 5, 1, 4, 1, 4, 5, 7, 3, 7, 5, 1, 7, 5, 1, 2, 3, 4, 5, 9, 4, 3, 7, 10, 7, 4, 2, 2, 2, 9, 1, 4, 10, 3, 3, 2, 1, 2, 5, 8, 1, 2, 7, 7, 6, 3, 5, 10, 6, 4, 10, 2, 3, 7, 6, 10, 2, 4, 10, 3, 1, 2, 6, 1, 1, 8, 8, 5, 10, 1, 2, 3, 3, 5, 9, 3, 4, 3, 4, 7, 7, 2, 3, 10, 2, 9, 5, 5, 1, 4, 6, 8, 10, 1, 7, 5, 7, 4, 2, 7, 10, 6, 6, 1, 4, 9, 10, 4, 4, 1, 2, 5, 8, 3, 10, 5, 3, 6, 4, 2, 7, 9, 2, 6, 6, 2, 1, 2, 10, 2, 3, 6, 7, 4, 1, 9, 7, 8, 5, 1, 10, 6, 5, 8, 1, 7, 3, 3, 1, 3, 5, 3, 5, 7, 2, 3, 5, 9, 7, 1, 2, 4, 5, 6, 1, 2, 3, 4, 5, 6, 4, 6, 10, 1, 4, 6, 1, 1, 3, 4, 5, 1, 2, 6, 9, 9, 1, 3, 4, 10, 4, 1, 6, 1, 2, 5, 9, 9, 7, 4, 1, 9, 1, 3, 4, 6, 5, 4, 1, 2, 3, 4, 5, 8, 1, 5, 3, 2, 6, 4, 5, 2, 5, 6, 8, 1, 3, 7, 8, 9, 9, 8, 3, 4, 4, 6, 8, 1, 2, 4, 1, 3, 5, 1, 5, 9, 7, 3, 8, 7, 1, 2, 4, 2, 6, 8, 3, 6, 8, 9, 5, 1, 1, 3, 8, 7, 1, 3, 1, 1, 4, 7, 10, 9, 10, 2, 2, 10, 1, 2, 3, 4, 5, 6, 5, 6, 3, 8, 5, 3, 1, 4, 2, 4, 5, 9, 9, 6, 5, 10, 5, 10, 8, 4, 1, 6, 10, 1, 2, 3, 5, 8, 5, 3, 1, 4, 1, 1, 8, 9, 1, 6, 3, 5, 8, 3, 8, 2, 10, 2, 8, 3, 2, 2, 7, 1, 1, 1, 3, 1, 5, 7, 8, 10, 9, 4, 8, 9, 6, 4, 7, 8, 9, 7, 2, 7, 2, 2, 2, 7, 2, 5, 1, 8, 1, 6, 10, 4, 9, 9, 10, 6, 2, 6, 8, 1, 4, 2, 1, 3, 10, 1, 7, 1, 3, 8, 9, 7, 7, 4, 8, 8, 4, 6, 3, 5, 4, 4, 10, 5, 1, 3, 4, 8, 6, 9, 5, 6, 8, 4, 10, 2, 7, 3, 6, 4, 10, 9, 5, 6, 5, 6, 4, 6, 8, 9, 1, 8, 1, 5, 4, 6, 3, 9, 3, 4, 5, 1, 4, 6, 9, 9, 4, 1, 4, 5, 4, 6, 1, 2, 3, 5, 6, 4, 6, 7, 7, 7, 8, 6, 2, 9, 7, 4, 8, 1, 3, 3, 1, 2, 3, 1, 4, 4, 3, 9, 9, 2, 1, 8, 1, 2, 3, 4, 5, 3, 1, 3, 6, 10, 3, 1, 4, 5, 1, 2, 3, 4, 4, 8, 5, 2, 3, 10, 1, 2, 3, 4, 8, 5, 6, 8, 2, 1, 2, 4, 5, 6], \"Freq\": [0.8877168495865463, 0.11151484391500416, 0.9948804088147869, 0.8478553090176533, 0.15062186005471204, 0.9995003889592827, 0.9970820013770983, 0.9983823515325871, 0.9897294984249227, 0.9974973906490291, 0.9983005953248212, 0.9957299609822333, 0.9986381228951465, 0.9926791404859181, 0.9944985362496414, 0.17997797302562, 0.15182257411667824, 0.25166595024761784, 0.04266625834662712, 0.09594493628200922, 0.2778721292320944, 0.9925259712750326, 0.997947423583764, 0.996981978377817, 0.992911440894498, 0.9973108058681531, 0.9980067896126079, 0.9982631429807204, 0.9977003683056423, 0.5670578221413156, 0.4318469545747732, 0.8993912067719071, 0.09940639653794762, 0.9938148649496719, 0.9975640741003037, 0.9991424511860322, 0.9992677659598304, 0.5076522139887474, 0.10558312853967645, 0.2538261069943737, 0.13224553473656445, 0.9994107022000372, 0.38860970943463435, 0.6106724005401397, 0.9918640694410846, 0.9967034687773472, 0.9984105816024306, 0.9977000092031998, 0.9946479174336216, 0.9991019325102298, 0.9988546305203032, 0.996720929949184, 0.9960028866379388, 0.998225112078324, 0.9937866924746837, 0.9997688556062075, 0.9970937123431488, 0.9977160679793661, 0.9971006408124491, 0.989446259189153, 0.996778325412883, 0.9991424444312689, 0.9976346063367458, 0.9950313956083202, 0.9984195530607687, 0.9968250020997678, 0.996755153952364, 0.9918183577238896, 0.9932715233279928, 0.989703958204971, 0.9992800935721252, 0.5180967433402861, 0.48188568063370696, 0.8017750082517914, 0.19728217868656064, 0.9947011306477215, 0.9962354794154691, 0.996633042724341, 0.2901415056990198, 0.7085396338633746, 0.9938855562109221, 0.9921235268021755, 0.6057610962798771, 0.39296140081948927, 0.9900453063451091, 0.9996638846430362, 0.9979774816437289, 0.9952994152572718, 0.9985729369274097, 0.5098866280697892, 0.37481308315739054, 0.1152286165129467, 0.9930278385041162, 0.9875055261463751, 0.4238081086084003, 0.5752832500882088, 0.9967868062392038, 0.9934224818127864, 0.9957683100004898, 0.9953839401238568, 0.99597489641942, 0.9978428682505268, 0.9971391888432968, 0.9931767956497786, 0.9998743884462145, 0.9960344189629075, 0.9913913807826177, 0.9960871580424718, 0.9965372047663131, 0.999570421656308, 0.7705594524184252, 0.1461209035697162, 0.08295405463072429, 0.995541775027623, 0.9983197132467109, 0.9980892396988562, 0.9954180743131751, 0.2054517219587243, 0.7934687192888662, 0.995205942312724, 0.9964195130570125, 0.999506531746455, 0.9950834867368924, 0.9999631707717458, 0.9964260798806047, 0.9964424228419704, 0.9954068275330957, 0.9975726598587401, 0.9933439946361919, 0.9969097866446057, 0.15156717882747325, 0.8462500817867257, 0.9972105612001615, 0.999831641327307, 0.9974493737986642, 0.9986846257608303, 0.9911383527871717, 0.24022650846904703, 0.7549975980455764, 0.999489513658463, 0.997826351527986, 0.9913740240037017, 0.997635442957178, 0.9986060619370002, 0.9968321864017027, 0.9983696689555589, 0.9982479609758337, 0.9942156980862096, 0.9940176691291939, 0.9970768546437219, 0.9967650379827044, 0.9977958398834611, 0.3954778574348362, 0.11946158728031603, 0.4849376762200957, 0.17917730437676666, 0.8195414095841674, 0.9951385142230269, 0.9970963226621662, 0.9977060654237556, 0.4221954105066288, 0.1942771709701818, 0.31454399109458003, 0.06854367720376543, 0.9939049396723357, 0.35165980815973297, 0.05011778738618522, 0.05262367675549448, 0.09355320312087907, 0.39175403806868114, 0.060976641319858686, 0.9969854342251632, 0.995290465539345, 0.993082304236102, 0.8521407272817678, 0.14705664322890294, 0.9965490233423545, 0.997792326484057, 0.7925216522842508, 0.04350764721904929, 0.09981166126723072, 0.06312874302371857, 0.4036118204771579, 0.5198418067538078, 0.07535790319035543, 0.9896834950094756, 0.9942787911005947, 0.3273134056202063, 0.5724347782735607, 0.0996487479332628, 0.9944350107452715, 0.9950830062896939, 0.9994185290205413, 0.9958179872173175, 0.15789523619663937, 0.7430364056312442, 0.09907152075083255, 0.9914370147627812, 0.9905852039542553, 0.9898067393253889, 0.997769352309859, 0.9973712964062561, 0.9933375501437212, 0.14498824278212277, 0.19171999045569954, 0.21927973908370635, 0.4433524779288052, 0.9965458240311553, 0.9950747893593943, 0.9994771202405944, 0.9974756793309457, 0.9944427693775901, 0.339728344342717, 0.6588670920586026, 0.9989740850631218, 0.8847823859235778, 0.11517877213206339, 0.9994246005524019, 0.8176096427759758, 0.18028038707172137, 0.8488364368177378, 0.14927813199208492, 0.9936469248286482, 0.9972923890079017, 0.9955715178014393, 0.9926689443250001, 0.4457428318324012, 0.16966985211684948, 0.37960034710888363, 0.3089642865056482, 0.690701152890726, 0.9968833141294959, 0.9938902740891017, 0.8924714149676864, 0.10566257767059291, 0.19778854084629624, 0.7998801284225215, 0.9945386887879744, 0.1400656453133682, 0.6105774247155565, 0.24885449604219786, 0.552823789563193, 0.14981989254968886, 0.29615560155171056, 0.24360545957538965, 0.650451691031195, 0.10547865259965325, 0.9978294665150613, 0.9957867446840879, 0.9958354877741427, 0.9944752488329179, 0.50309253320937, 0.08624443426446342, 0.40966106275620123, 0.45128647743186195, 0.4461289176897835, 0.10229160155122204, 0.6864438486534429, 0.3134782522088264, 0.9918931813854421, 0.9995794709068715, 0.9923044030474946, 0.997061456553362, 0.9987230321465121, 0.996706325347813, 0.9911146796691856, 0.9928332380444296, 0.4531060195132888, 0.5460685007204226, 0.9978697309047597, 0.29456992153416167, 0.6429555018101414, 0.06089666647100458, 0.991947642665246, 0.9938772427910999, 0.9842738253750527, 0.9998349616184721, 0.9969138995247255, 0.9908969642933046, 0.33636558120215887, 0.052270736130305216, 0.29461687637081124, 0.09537712241958289, 0.20670700196984335, 0.01459507567274756, 0.7467219630727235, 0.2512013977157088, 0.995190999537782, 0.994773215612946, 0.9924717977471121, 0.9944828057947263, 0.8752183081666876, 0.12396859889046566, 0.9962184527951745, 0.9986666486717829, 0.9968238816044909, 0.9919738355660066, 0.9939649774645043, 0.9988115133859797, 0.9965998777286379, 0.9900780560071076, 0.9958743511105941, 0.9982308746102521, 0.9945470943040655, 0.9992206925908639, 0.26712325088371536, 0.7323522619921957, 0.9934192353042071, 0.1629567243623776, 0.5136395951902142, 0.32330614113495715, 0.8514723049592778, 0.1470724890384207, 0.9966607671389592, 0.998425719161773, 0.3851718268221327, 0.6146358938651053, 0.9956790339488206, 0.9989591526483969, 0.9943566306441527, 0.9895097705500585, 0.49083642387251875, 0.5085774994341761, 0.9975684913347189, 0.9979753382055565, 0.9953870754791085, 0.9989854937699304, 0.9923416215007388, 0.9987078245971257, 0.9878199021236963, 0.9323034285254449, 0.06755821945836557, 0.9984880106642957, 0.9989893448139112, 0.9986215666592714, 0.9980270417940622, 0.9992841623008146, 0.9977099290135513, 0.33592227847469247, 0.6641320556578741, 0.9962372191397713, 0.9977509658746481, 0.9928776944776658, 0.991918694794165, 0.9994344682715696, 0.9939649774645043, 0.9979178351781998, 0.9985901539701428, 0.9872644974592885, 0.9990283829212264, 0.8514451590244302, 0.14634213670732393, 0.16343156003223097, 0.8356594862025395, 0.9953879094111018, 0.17075170333199452, 0.8260113648685234, 0.9964357895420182, 0.9994410559189697, 0.99961801085919, 0.9943253323872686, 0.9973383965647558, 0.9962642640112993, 0.9971729445738002, 0.9964515126750689, 0.9981701711538058, 0.9971317559407895, 0.9954258226599239, 0.44270819249142473, 0.5569228631570207, 0.9918337418834652, 0.9952908188855139, 0.9971652137671931, 0.694926330781993, 0.3047497335513012, 0.9966613913699518, 0.2209868025205366, 0.7781357326040929, 0.9948096623153089, 0.9968736301332215, 0.9971348459990587, 0.9895645186801987, 0.9360129978208209, 0.06353029396973897, 0.8462286771186611, 0.13604636200827905, 0.01751343093017025, 0.9896042907340953, 0.9929775183113034, 0.9974525108088514, 0.7511615878001213, 0.24736136879218495, 0.9970272442295274, 0.9970226571640757, 0.9955008059467342, 0.9978470165580169, 0.9970416320376245, 0.9973241074199047, 0.9948563119979994, 0.9967800684598346, 0.9981756609467384, 0.3059730223229283, 0.48381546550376076, 0.20981674070809497, 0.9991002037226226, 0.9992905708044459, 0.9996995543630197, 0.7064979910637987, 0.29261670525403605, 0.9979959204881581, 0.9959873190035547, 0.9916246702632764, 0.9977061749123214, 0.9941777493496946, 0.9923312835209309, 0.9978351944218841, 0.9943656052268577, 0.9939544318433309, 0.9963180356959999, 0.993995980966088, 0.9989892774631979, 0.9965732894934779, 0.9944596845709031, 0.9958797640369371, 0.9931084243512903, 0.9917436919069363, 0.9941714505337687, 0.9997872960765065, 0.9984948609792212, 0.7807841328353918, 0.21859223316476412, 0.25697148833808986, 0.7408187051188176, 0.9966856998925336, 0.9957704765727515, 0.15539397783376233, 0.378201519580701, 0.4650393307230976, 0.6172512044220644, 0.38183146605837215, 0.9947780336278191, 0.9880534207294134, 0.9901230875829353, 0.9982569322772354, 0.8754935822452053, 0.07996765021139834, 0.044272747521881435, 0.9969094093618509, 0.9925816235736665, 0.24170273653838562, 0.295126302768973, 0.15145321688671373, 0.3117239155784759, 0.9950731080622667, 0.2673998672487932, 0.7313747720426453, 0.9919362918828574, 0.9957251644844513, 0.9950379933636874, 0.9979994832094431, 0.995050385092187, 0.9992950937146836, 0.9962821726790965, 0.9916928520477415, 0.9983709431599486, 0.9962807018947434, 0.07324842114560076, 0.9261409961286234, 0.9983504257827123, 0.12153945169250206, 0.15287384158197526, 0.724489075323274, 0.4789851077490332, 0.5195228228814681, 0.9981861278590245, 0.9948534194676996, 0.9991844405872146, 0.9944836595886831, 0.9979657934386722, 0.9960844998034477, 0.9933160868542433, 0.49673864360401954, 0.03285515438010838, 0.08917827617457988, 0.30821263870863574, 0.07196843340404692, 0.9997673906795785, 0.2969190919311446, 0.6476168969416547, 0.03893275848280824, 0.016360847922736538, 0.9963147602672443, 0.6864122773074225, 0.08965384846464294, 0.22343420047047732, 0.31144285861466325, 0.1873090501988544, 0.10750874478869159, 0.39235150159996723, 0.9981052434167352, 0.9975447009554734, 0.9975554966013417, 0.9933116533089746, 0.9452772704147434, 0.05445430727709965, 0.5780836914887998, 0.04532312965814554, 0.05900558389456684, 0.2787800050670839, 0.03762674915015857, 0.28473582829284877, 0.17740085637093717, 0.5366748596095579, 0.9977250054145309, 0.39131762373870266, 0.45676447370197004, 0.09789757973672074, 0.05372095601151528, 0.993876471601697], \"Term\": [\"able\", \"able\", \"abuse\", \"access\", \"access\", \"account\", \"action\", \"active\", \"activity\", \"ad\", \"address\", \"admin\", \"agent\", \"alternative\", \"amazing\", \"amp\", \"amp\", \"amp\", \"amp\", \"amp\", \"amp\", \"answer\", \"app\", \"appraisal\", \"area\", \"art\", \"attack\", \"auction\", \"authentication\", \"available\", \"available\", \"bad\", \"bad\", \"bar\", \"basic\", \"beat\", \"bid\", \"big\", \"big\", \"big\", \"big\", \"bigrock\", \"bit\", \"bit\", \"biz\", \"blockchain\", \"blog\", \"book\", \"brain\", \"brand\", \"breach\", \"break\", \"broker\", \"builder\", \"building\", \"business\", \"button\", \"buy\", \"buyer\", \"bypass\", \"c\", \"call\", \"candomain\", \"car\", \"card\", \"care\", \"career\", \"cash\", \"ceo\", \"certain\", \"chat\", \"cheap\", \"cheap\", \"check\", \"check\", \"claim\", \"class\", \"clear\", \"client\", \"client\", \"cliente\", \"cloudflare\", \"code\", \"code\", \"coffee\", \"com\", \"comhow\", \"comment\", \"community\", \"company\", \"company\", \"company\", \"complaint\", \"constant\", \"contact\", \"contact\", \"contract\", \"core\", \"country\", \"coupon\", \"course\", \"cpanel\", \"crypto\", \"cryptocurrency\", \"customer\", \"cybersecurity\", \"daily\", \"data\", \"database\", \"datum\", \"day\", \"day\", \"day\", \"dear\", \"design\", \"detail\", \"dev\", \"digital\", \"digital\", \"direct\", \"discount\", \"dns\", \"dollar\", \"domain\", \"domainer\", \"domainname\", \"dot\", \"due\", \"dynadot\", \"e\", \"easy\", \"easy\", \"ecommerce\", \"email\", \"employee\", \"end\", \"engineering\", \"enough\", \"enough\", \"entrepreneur\", \"error\", \"estas\", \"ethereum\", \"event\", \"executive\", \"experience\", \"fast\", \"figure\", \"fine\", \"fix\", \"form\", \"founder\", \"free\", \"free\", \"free\", \"full\", \"full\", \"fun\", \"global\", \"gmail\", \"good\", \"good\", \"good\", \"good\", \"government\", \"great\", \"great\", \"great\", \"great\", \"great\", \"great\", \"group\", \"growth\", \"guide\", \"guy\", \"guy\", \"hack\", \"hacker\", \"help\", \"help\", \"help\", \"help\", \"high\", \"high\", \"high\", \"history\", \"holiday\", \"host\", \"host\", \"host\", \"hostgator\", \"hostinger\", \"hour\", \"html\", \"idea\", \"idea\", \"idea\", \"image\", \"incident\", \"individual\", \"info\", \"information\", \"insight\", \"internet\", \"internet\", \"internet\", \"internet\", \"investment\", \"ip\", \"issue\", \"jewellery\", \"jewelry\", \"job\", \"job\", \"large\", \"last\", \"last\", \"late\", \"launch\", \"launch\", \"law\", \"law\", \"legal\", \"legit\", \"lesson\", \"letter\", \"level\", \"level\", \"level\", \"life\", \"life\", \"line\", \"listing\", \"little\", \"little\", \"local\", \"local\", \"lol\", \"look\", \"look\", \"look\", \"lot\", \"lot\", \"lot\", \"love\", \"love\", \"love\", \"mail\", \"main\", \"man\", \"management\", \"many\", \"many\", \"many\", \"market\", \"market\", \"market\", \"marketing\", \"marketing\", \"matter\", \"medium\", \"member\", \"message\", \"minute\", \"mission\", \"mistake\", \"mobile\", \"month\", \"month\", \"move\", \"much\", \"much\", \"much\", \"multifactor\", \"music\", \"n\", \"name\", \"namecheap\", \"namesilo\", \"new\", \"new\", \"new\", \"new\", \"new\", \"new\", \"news\", \"news\", \"newsletter\", \"nice\", \"night\", \"notice\", \"number\", \"number\", \"offer\", \"office\", \"official\", \"ok\", \"olhardigital\", \"online\", \"open\", \"operation\", \"opportunity\", \"order\", \"org\", \"other\", \"owner\", \"owner\", \"paas\", \"page\", \"page\", \"page\", \"partner\", \"partner\", \"party\", \"password\", \"people\", \"people\", \"perfect\", \"phone\", \"photo\", \"piece\", \"platform\", \"platform\", \"plugin\", \"podcast\", \"policy\", \"popular\", \"por\", \"portfolio\", \"position\", \"possible\", \"possible\", \"post\", \"premium\", \"price\", \"pro\", \"problem\", \"process\", \"product\", \"product\", \"professional\", \"program\", \"property\", \"proud\", \"provider\", \"publieditorial\", \"question\", \"r\", \"rapid\", \"rare\", \"reason\", \"reason\", \"recent\", \"recent\", \"recommendation\", \"record\", \"record\", \"refund\", \"registrar\", \"registration\", \"reliable\", \"renewal\", \"rep\", \"reseller\", \"resource\", \"response\", \"revenue\", \"reverseproxy\", \"right\", \"right\", \"rule\", \"saas\", \"safe\", \"sale\", \"sale\", \"season\", \"security\", \"security\", \"seller\", \"senior\", \"seo\", \"ser\", \"server\", \"server\", \"service\", \"service\", \"service\", \"set\", \"setting\", \"setup\", \"several\", \"several\", \"share\", \"shit\", \"shopify\", \"short\", \"show\", \"side\", \"signature\", \"similar\", \"simple\", \"site\", \"site\", \"site\", \"size\", \"small\", \"social\", \"software\", \"software\", \"solution\", \"sorry\", \"speech\", \"spvlog\", \"standard\", \"start\", \"startup\", \"state\", \"steal\", \"step\", \"stock\", \"store\", \"story\", \"strategy\", \"studio\", \"success\", \"suggestion\", \"super\", \"support\", \"system\", \"team\", \"team\", \"technology\", \"technology\", \"template\", \"text\", \"thank\", \"thank\", \"thank\", \"thing\", \"thing\", \"third\", \"thought\", \"thread\", \"ticket\", \"time\", \"time\", \"time\", \"tip\", \"tld\", \"today\", \"today\", \"today\", \"today\", \"token\", \"top\", \"top\", \"total\", \"track\", \"trading\", \"traffic\", \"transaction\", \"transfer\", \"trend\", \"trial\", \"true\", \"type\", \"update\", \"update\", \"url\", \"use\", \"use\", \"use\", \"user\", \"user\", \"value\", \"version\", \"video\", \"view\", \"vlog\", \"vps\", \"wait\", \"way\", \"way\", \"way\", \"way\", \"way\", \"web\", \"website\", \"website\", \"website\", \"website\", \"websitebuilder\", \"week\", \"week\", \"week\", \"well\", \"well\", \"well\", \"well\", \"whois\", \"whole\", \"woman\", \"woocommerce\", \"wordpress\", \"wordpress\", \"work\", \"work\", \"work\", \"work\", \"work\", \"world\", \"world\", \"world\", \"worth\", \"year\", \"year\", \"year\", \"year\", \"youtube\"]}, \"R\": 30, \"lambda.step\": 0.01, \"plot.opts\": {\"xlab\": \"PC1\", \"ylab\": \"PC2\"}, \"topic.order\": [4, 6, 8, 7, 9, 5, 10, 1, 3, 2]};\n",
       "\n",
       "function LDAvis_load_lib(url, callback){\n",
       "  var s = document.createElement('script');\n",
       "  s.src = url;\n",
       "  s.async = true;\n",
       "  s.onreadystatechange = s.onload = callback;\n",
       "  s.onerror = function(){console.warn(\"failed to load library \" + url);};\n",
       "  document.getElementsByTagName(\"head\")[0].appendChild(s);\n",
       "}\n",
       "\n",
       "if(typeof(LDAvis) !== \"undefined\"){\n",
       "   // already loaded: just create the visualization\n",
       "   !function(LDAvis){\n",
       "       new LDAvis(\"#\" + \"ldavis_el2966824632205322722277043045\", ldavis_el2966824632205322722277043045_data);\n",
       "   }(LDAvis);\n",
       "}else if(typeof define === \"function\" && define.amd){\n",
       "   // require.js is available: use it to load d3/LDAvis\n",
       "   require.config({paths: {d3: \"https://d3js.org/d3.v5\"}});\n",
       "   require([\"d3\"], function(d3){\n",
       "      window.d3 = d3;\n",
       "      LDAvis_load_lib(\"https://cdn.jsdelivr.net/gh/bmabey/pyLDAvis@3.3.1/pyLDAvis/js/ldavis.v3.0.0.js\", function(){\n",
       "        new LDAvis(\"#\" + \"ldavis_el2966824632205322722277043045\", ldavis_el2966824632205322722277043045_data);\n",
       "      });\n",
       "    });\n",
       "}else{\n",
       "    // require.js not available: dynamically load d3 & LDAvis\n",
       "    LDAvis_load_lib(\"https://d3js.org/d3.v5.js\", function(){\n",
       "         LDAvis_load_lib(\"https://cdn.jsdelivr.net/gh/bmabey/pyLDAvis@3.3.1/pyLDAvis/js/ldavis.v3.0.0.js\", function(){\n",
       "                 new LDAvis(\"#\" + \"ldavis_el2966824632205322722277043045\", ldavis_el2966824632205322722277043045_data);\n",
       "            })\n",
       "         });\n",
       "}\n",
       "</script>"
      ],
      "text/plain": [
       "PreparedData(topic_coordinates=              x         y  topics  cluster       Freq\n",
       "topic                                                \n",
       "3     -0.265866  0.113036       1        1  22.999550\n",
       "5     -0.139753 -0.387260       2        1  16.001446\n",
       "7     -0.131099  0.034774       3        1  13.420542\n",
       "6     -0.191686  0.135716       4        1  11.505434\n",
       "8     -0.044244  0.049081       5        1   8.083961\n",
       "4      0.059101  0.020382       6        1   7.455055\n",
       "9      0.174434  0.039901       7        1   5.953630\n",
       "0      0.180715  0.029579       8        1   5.799477\n",
       "2      0.166993 -0.078085       9        1   5.740885\n",
       "1      0.191404  0.042876      10        1   3.040021, topic_info=           Term          Freq         Total Category  logprob  loglift\n",
       "3        domain  20500.000000  20500.000000  Default  30.0000  30.0000\n",
       "292       email   5631.000000   5631.000000  Default  29.0000  29.0000\n",
       "78     business   4344.000000   4344.000000  Default  28.0000  28.0000\n",
       "68          web   5108.000000   5108.000000  Default  27.0000  27.0000\n",
       "8          name   5146.000000   5146.000000  Default  26.0000  26.0000\n",
       "...         ...           ...           ...      ...      ...      ...\n",
       "1852      brain     85.542884     86.462756  Topic10  -5.1224   3.4826\n",
       "2943          n     83.406320     84.326127  Topic10  -5.1477   3.4823\n",
       "8807      estas     82.802363     83.722186  Topic10  -5.1550   3.4823\n",
       "433   wordpress    220.155756   4040.084449  Topic10  -4.1771   0.5836\n",
       "69      website    108.244211   6601.124863  Topic10  -4.8870  -0.6173\n",
       "\n",
       "[448 rows x 6 columns], token_table=      Topic      Freq     Term\n",
       "term                          \n",
       "120       1  0.887717     able\n",
       "120       4  0.111515     able\n",
       "377       5  0.994880    abuse\n",
       "434       1  0.847855   access\n",
       "434       4  0.150622   access\n",
       "...     ...       ...      ...\n",
       "70        1  0.391318     year\n",
       "70        2  0.456764     year\n",
       "70        4  0.097898     year\n",
       "70        5  0.053721     year\n",
       "2458      6  0.993876  youtube\n",
       "\n",
       "[519 rows x 3 columns], R=30, lambda_step=0.01, plot_opts={'xlab': 'PC1', 'ylab': 'PC2'}, topic_order=[4, 6, 8, 7, 9, 5, 10, 1, 3, 2])"
      ]
     },
     "execution_count": 16,
     "metadata": {},
     "output_type": "execute_result"
    }
   ],
   "source": [
    "pyLDAvis.enable_notebook()\n",
    "vis = pyLDAvis.gensim_models.prepare(lda_model, doc_term_matrix, dictionary)\n",
    "vis"
   ]
  },
  {
   "cell_type": "code",
   "execution_count": null,
   "id": "f996ab44",
   "metadata": {
    "ExecuteTime": {
     "start_time": "2022-10-02T17:13:20.888Z"
    }
   },
   "outputs": [
    {
     "name": "stdout",
     "output_type": "stream",
     "text": [
      "\n",
      "Perplexity:  -9.376410990924025\n"
     ]
    }
   ],
   "source": [
    "print('\\nPerplexity: ', lda_model.log_perplexity(doc_term_matrix,total_docs=10000))  # a measure of how good the model is. lower the better.\n",
    "\n",
    "# Compute Coherence Score\n",
    "from gensim.models.coherencemodel import CoherenceModel\n",
    "coherence_model_lda = CoherenceModel(model=lda_model, texts=tokenized_reviews, dictionary=dictionary , coherence='c_v')\n",
    "coherence_lda = coherence_model_lda.get_coherence()\n",
    "print('\\nCoherence Score: ', coherence_lda)"
   ]
  },
  {
   "cell_type": "code",
   "execution_count": 19,
   "id": "8a167340",
   "metadata": {
    "ExecuteTime": {
     "end_time": "2022-10-03T09:20:31.652356Z",
     "start_time": "2022-10-03T09:20:31.636402Z"
    }
   },
   "outputs": [],
   "source": [
    "def compute_coherence_values(dictionary, corpus, texts, limit, start=2, step=3):\n",
    "    \"\"\"\n",
    "    Compute c_v coherence for various number of topics\n",
    "\n",
    "    Parameters:\n",
    "    ----------\n",
    "    dictionary : Gensim dictionary\n",
    "    corpus : Gensim corpus\n",
    "    texts : List of input texts\n",
    "    limit : Max num of topics\n",
    "\n",
    "    Returns:\n",
    "    -------\n",
    "    model_list : List of LDA topic models\n",
    "    coherence_values : Coherence values corresponding to the LDA model with respective number of topics\n",
    "    \"\"\"\n",
    "    coherence_values = []\n",
    "    model_list = []\n",
    "    for num_topics in range(start, limit, step):\n",
    "        model = gensim.models.ldamodel.LdaModel(corpus=corpus, num_topics=num_topics, id2word=dictionary)\n",
    "        model_list.append(model)\n",
    "        coherencemodel = CoherenceModel(model=model, texts=texts, dictionary=dictionary, coherence='c_v')\n",
    "        coherence_values.append(coherencemodel.get_coherence())\n",
    "\n",
    "    return model_list, coherence_values"
   ]
  },
  {
   "cell_type": "code",
   "execution_count": null,
   "id": "582a410b",
   "metadata": {
    "ExecuteTime": {
     "start_time": "2022-10-03T09:20:37.235Z"
    }
   },
   "outputs": [],
   "source": [
    "model_list, coherence_values = compute_coherence_values(dictionary=dictionary, corpus=doc_term_matrix, texts=tokenized_reviews, start=2, limit=50, step=1)"
   ]
  },
  {
   "cell_type": "code",
   "execution_count": null,
   "id": "a2455d0f",
   "metadata": {
    "ExecuteTime": {
     "start_time": "2022-10-03T09:20:47.263Z"
    }
   },
   "outputs": [],
   "source": [
    "# Show graph\n",
    "limit=50; start=2; step=1;\n",
    "x = range(start, limit, step)\n",
    "plt.plot(x, coherence_values)\n",
    "plt.xlabel(\"Num Topics\")\n",
    "plt.ylabel(\"Coherence score\")\n",
    "plt.legend((\"coherence_values\"), loc='best')\n",
    "plt.show()# Print the coherence scores"
   ]
  },
  {
   "cell_type": "code",
   "execution_count": null,
   "id": "2a3a26b7",
   "metadata": {},
   "outputs": [],
   "source": [
    "# Print the coherence scores\n",
    "for m, cv in zip(x, coherence_values):\n",
    "    print(\"Num Topics =\", m, \" has Coherence Value of\", round(cv, 4))"
   ]
  },
  {
   "cell_type": "code",
   "execution_count": null,
   "id": "9a1b47b3",
   "metadata": {},
   "outputs": [],
   "source": [
    "# Select the model and print the topics\n",
    "optimal_model = model_list[7]\n",
    "model_topics = optimal_model.show_topics(formatted=False)\n",
    "optimal_model.print_topics(num_words=10)"
   ]
  },
  {
   "cell_type": "code",
   "execution_count": null,
   "id": "36968d64",
   "metadata": {},
   "outputs": [],
   "source": [
    "# Visualize the topics\n",
    "pyLDAvis.enable_notebook()\n",
    "vis = pyLDAvis.gensim.prepare(optimal_model, doc_term_matrix, dictionary)\n",
    "vis"
   ]
  }
 ],
 "metadata": {
  "kernelspec": {
   "display_name": "Python 3",
   "language": "python",
   "name": "python3"
  },
  "language_info": {
   "codemirror_mode": {
    "name": "ipython",
    "version": 3
   },
   "file_extension": ".py",
   "mimetype": "text/x-python",
   "name": "python",
   "nbconvert_exporter": "python",
   "pygments_lexer": "ipython3",
   "version": "3.8.8"
  }
 },
 "nbformat": 4,
 "nbformat_minor": 5
}
