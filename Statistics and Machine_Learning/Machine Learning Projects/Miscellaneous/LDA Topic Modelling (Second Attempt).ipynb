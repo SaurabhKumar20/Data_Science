{
 "cells": [
  {
   "cell_type": "code",
   "execution_count": 1,
   "id": "5f4b7722",
   "metadata": {
    "ExecuteTime": {
     "end_time": "2022-10-02T07:09:48.845960Z",
     "start_time": "2022-10-02T07:09:42.119883Z"
    }
   },
   "outputs": [],
   "source": [
    "import pandas as pd\n",
    "import matplotlib.pyplot as plt\n",
    "import seaborn as sns\n",
    "import numpy as np"
   ]
  },
  {
   "cell_type": "code",
   "execution_count": 2,
   "id": "50335a6d",
   "metadata": {
    "ExecuteTime": {
     "end_time": "2022-10-02T07:10:06.135867Z",
     "start_time": "2022-10-02T07:09:51.598569Z"
    }
   },
   "outputs": [],
   "source": [
    "df=pd.read_csv('Latest_df.csv',encoding='Latin-1')"
   ]
  },
  {
   "cell_type": "code",
   "execution_count": 3,
   "id": "898841d4",
   "metadata": {
    "ExecuteTime": {
     "end_time": "2022-10-02T07:10:06.337321Z",
     "start_time": "2022-10-02T07:10:06.135867Z"
    }
   },
   "outputs": [],
   "source": [
    "df=df[['user','date','tweets','user_location']]"
   ]
  },
  {
   "cell_type": "code",
   "execution_count": 4,
   "id": "076b163a",
   "metadata": {
    "ExecuteTime": {
     "end_time": "2022-10-02T07:10:06.389208Z",
     "start_time": "2022-10-02T07:10:06.338206Z"
    }
   },
   "outputs": [],
   "source": [
    "df1=df.copy()"
   ]
  },
  {
   "cell_type": "code",
   "execution_count": 6,
   "id": "e9b2c022",
   "metadata": {
    "ExecuteTime": {
     "end_time": "2022-10-01T15:21:31.921443Z",
     "start_time": "2022-10-01T15:21:31.851199Z"
    }
   },
   "outputs": [],
   "source": [
    "df=df[['date','tweets']]"
   ]
  },
  {
   "cell_type": "code",
   "execution_count": 6,
   "id": "e7cc94f2",
   "metadata": {
    "ExecuteTime": {
     "end_time": "2022-10-02T07:12:57.954210Z",
     "start_time": "2022-10-02T07:12:57.559383Z"
    }
   },
   "outputs": [],
   "source": [
    "df.dropna(inplace=True)"
   ]
  },
  {
   "cell_type": "code",
   "execution_count": 5,
   "id": "129c0598",
   "metadata": {
    "ExecuteTime": {
     "end_time": "2022-10-02T07:12:51.361640Z",
     "start_time": "2022-10-02T07:12:51.079870Z"
    }
   },
   "outputs": [
    {
     "name": "stdout",
     "output_type": "stream",
     "text": [
      "<class 'pandas.core.frame.DataFrame'>\n",
      "RangeIndex: 452583 entries, 0 to 452582\n",
      "Data columns (total 4 columns):\n",
      " #   Column         Non-Null Count   Dtype \n",
      "---  ------         --------------   ----- \n",
      " 0   user           452583 non-null  object\n",
      " 1   date           452583 non-null  object\n",
      " 2   tweets         452320 non-null  object\n",
      " 3   user_location  307280 non-null  object\n",
      "dtypes: object(4)\n",
      "memory usage: 13.8+ MB\n"
     ]
    }
   ],
   "source": [
    "df.info()"
   ]
  },
  {
   "cell_type": "code",
   "execution_count": 10,
   "id": "06f1942d",
   "metadata": {
    "ExecuteTime": {
     "end_time": "2022-10-02T08:01:11.029558Z",
     "start_time": "2022-10-02T08:01:11.010643Z"
    }
   },
   "outputs": [],
   "source": [
    "import re"
   ]
  },
  {
   "cell_type": "code",
   "execution_count": 35,
   "id": "9557a84a",
   "metadata": {
    "ExecuteTime": {
     "end_time": "2022-10-02T08:22:43.986304Z",
     "start_time": "2022-10-02T08:22:36.943753Z"
    }
   },
   "outputs": [],
   "source": [
    "#nltk.download('stopwords')\n",
    "#stemmer = nltk.SnowballStemmer(\"english\")\n",
    "#from nltk.corpus import stopwords\n",
    "import string\n",
    "#stopword=set(stopwords.words('english'))\n",
    "\n",
    "def clean(text):\n",
    "#    text = str(text).lower()\n",
    "#    text = re.sub('\\[.*?\\]', '', text)\n",
    "#    text=re.sub(r'@[A-Za-z0-9]+','',text)\n",
    "#    text=re.sub(r'#','',text)\n",
    "#    text=re.sub(r'\\n','',text)\n",
    "#    text=re.sub(r'RT[\\s]+','',text)\n",
    "#    text = re.sub('https?://\\S+|www\\.\\S+', '', text)\n",
    "#    text = re.sub('hxxps?://\\S+|www\\.\\S+', '', text)\n",
    "#    text = re.sub('godaddy', '', text)\n",
    "#    text = re.sub('<.*?>+', '', text)\n",
    "#    text = re.sub('[%s]' % re.escape(string.punctuation), '', text)\n",
    "#    text = re.sub('\\n', '', text)\n",
    "    text = re.sub(r'\\W+', ' ', text)\n",
    "#    text = re.sub('\\w*\\d\\w*', '', text)\n",
    "    text = [word for word in text.split(' ')]\n",
    "    text=\" \".join(text)\n",
    "    text = re.sub(\"[Ã]\",\"\", text)\n",
    "    text=re.sub(\"[^A-Za-z0-9'\\s]\",\"\", text)\n",
    "    #text = [stemmer.stem(word) for word in text.split(' ')]\n",
    "    #text=\" \".join(text)\n",
    "    return text\n",
    "df[\"tweetss\"] = df[\"tweets\"].apply(clean)"
   ]
  },
  {
   "cell_type": "code",
   "execution_count": 37,
   "id": "218e2b41",
   "metadata": {
    "ExecuteTime": {
     "end_time": "2022-10-02T08:23:00.261300Z",
     "start_time": "2022-10-02T08:23:00.238364Z"
    }
   },
   "outputs": [
    {
     "data": {
      "text/html": [
       "<div>\n",
       "<style scoped>\n",
       "    .dataframe tbody tr th:only-of-type {\n",
       "        vertical-align: middle;\n",
       "    }\n",
       "\n",
       "    .dataframe tbody tr th {\n",
       "        vertical-align: top;\n",
       "    }\n",
       "\n",
       "    .dataframe thead th {\n",
       "        text-align: right;\n",
       "    }\n",
       "</style>\n",
       "<table border=\"1\" class=\"dataframe\">\n",
       "  <thead>\n",
       "    <tr style=\"text-align: right;\">\n",
       "      <th></th>\n",
       "      <th>user</th>\n",
       "      <th>date</th>\n",
       "      <th>tweets</th>\n",
       "      <th>user_location</th>\n",
       "      <th>tweetss</th>\n",
       "    </tr>\n",
       "  </thead>\n",
       "  <tbody>\n",
       "    <tr>\n",
       "      <th>0</th>\n",
       "      <td>{'username': 'LatebirdVeloz', 'id': 2545627424...</td>\n",
       "      <td>2019-01-07 23:58:19+00:00</td>\n",
       "      <td>go hell bob parsons spineless fuck stop cowar...</td>\n",
       "      <td>Riviera Maya / CDMX ???Ã½???Â« ????</td>\n",
       "      <td>go hell bob parsons spineless fuck stop cowar...</td>\n",
       "    </tr>\n",
       "    <tr>\n",
       "      <th>2</th>\n",
       "      <td>{'username': 'ANDREAG13353939', 'id': 87907853...</td>\n",
       "      <td>2019-01-07 23:56:23+00:00</td>\n",
       "      <td>proudly presenting  check let know think none ...</td>\n",
       "      <td>Colorado, USA</td>\n",
       "      <td>proudly presenting check let know think none g...</td>\n",
       "    </tr>\n",
       "    <tr>\n",
       "      <th>3</th>\n",
       "      <td>{'username': 'GirlsinTech', 'id': 16014840, 'd...</td>\n",
       "      <td>2019-01-07 23:52:07+00:00</td>\n",
       "      <td>want boss donÂt need go biz school entreprene...</td>\n",
       "      <td>Global</td>\n",
       "      <td>want boss don t need go biz school entrepreneu...</td>\n",
       "    </tr>\n",
       "    <tr>\n",
       "      <th>4</th>\n",
       "      <td>{'username': 'mark_callwood', 'id': 9057451792...</td>\n",
       "      <td>2019-01-07 23:46:48+00:00</td>\n",
       "      <td>every cunty elephant killing  bob parsons hund...</td>\n",
       "      <td>Surrey</td>\n",
       "      <td>every cunty elephant killing bob parsons hundr...</td>\n",
       "    </tr>\n",
       "    <tr>\n",
       "      <th>5</th>\n",
       "      <td>{'username': 'MccrelessTravis', 'id': 10715028...</td>\n",
       "      <td>2019-01-07 23:44:10+00:00</td>\n",
       "      <td>proudly presenting  check let know think  goce...</td>\n",
       "      <td>Mackinaw city, michigan</td>\n",
       "      <td>proudly presenting check let know think gocent...</td>\n",
       "    </tr>\n",
       "    <tr>\n",
       "      <th>8</th>\n",
       "      <td>{'username': 'ichrs', 'id': 13260102, 'display...</td>\n",
       "      <td>2019-01-07 23:32:17+00:00</td>\n",
       "      <td>wtf  came running</td>\n",
       "      <td>Washington, USA</td>\n",
       "      <td>wtf came running</td>\n",
       "    </tr>\n",
       "    <tr>\n",
       "      <th>9</th>\n",
       "      <td>{'username': 'malcaresecurity', 'id': 74260895...</td>\n",
       "      <td>2019-01-07 23:31:12+00:00</td>\n",
       "      <td>start  suspends site   websitesecurity securit...</td>\n",
       "      <td>World</td>\n",
       "      <td>start suspends site websitesecurity security m...</td>\n",
       "    </tr>\n",
       "    <tr>\n",
       "      <th>10</th>\n",
       "      <td>{'username': 'ACELTICEYE', 'id': 1082385715571...</td>\n",
       "      <td>2019-01-07 23:28:42+00:00</td>\n",
       "      <td>proudly presenting  check let know think none ...</td>\n",
       "      <td>USA</td>\n",
       "      <td>proudly presenting check let know think none g...</td>\n",
       "    </tr>\n",
       "    <tr>\n",
       "      <th>11</th>\n",
       "      <td>{'username': 'ItsikRomano', 'id': 57819532, 'd...</td>\n",
       "      <td>2019-01-07 23:26:54+00:00</td>\n",
       "      <td>sell contact info spammers india since purcha...</td>\n",
       "      <td>Montreal - Quebec - Canada</td>\n",
       "      <td>sell contact info spammers india since purcha...</td>\n",
       "    </tr>\n",
       "    <tr>\n",
       "      <th>14</th>\n",
       "      <td>{'username': 'mdscan1941', 'id': 2796130142, '...</td>\n",
       "      <td>2019-01-07 23:17:44+00:00</td>\n",
       "      <td>refer friend get free lesson   via</td>\n",
       "      <td>Vaughan, Ontario</td>\n",
       "      <td>refer friend get free lesson via</td>\n",
       "    </tr>\n",
       "  </tbody>\n",
       "</table>\n",
       "</div>"
      ],
      "text/plain": [
       "                                                 user  \\\n",
       "0   {'username': 'LatebirdVeloz', 'id': 2545627424...   \n",
       "2   {'username': 'ANDREAG13353939', 'id': 87907853...   \n",
       "3   {'username': 'GirlsinTech', 'id': 16014840, 'd...   \n",
       "4   {'username': 'mark_callwood', 'id': 9057451792...   \n",
       "5   {'username': 'MccrelessTravis', 'id': 10715028...   \n",
       "8   {'username': 'ichrs', 'id': 13260102, 'display...   \n",
       "9   {'username': 'malcaresecurity', 'id': 74260895...   \n",
       "10  {'username': 'ACELTICEYE', 'id': 1082385715571...   \n",
       "11  {'username': 'ItsikRomano', 'id': 57819532, 'd...   \n",
       "14  {'username': 'mdscan1941', 'id': 2796130142, '...   \n",
       "\n",
       "                         date  \\\n",
       "0   2019-01-07 23:58:19+00:00   \n",
       "2   2019-01-07 23:56:23+00:00   \n",
       "3   2019-01-07 23:52:07+00:00   \n",
       "4   2019-01-07 23:46:48+00:00   \n",
       "5   2019-01-07 23:44:10+00:00   \n",
       "8   2019-01-07 23:32:17+00:00   \n",
       "9   2019-01-07 23:31:12+00:00   \n",
       "10  2019-01-07 23:28:42+00:00   \n",
       "11  2019-01-07 23:26:54+00:00   \n",
       "14  2019-01-07 23:17:44+00:00   \n",
       "\n",
       "                                               tweets  \\\n",
       "0    go hell bob parsons spineless fuck stop cowar...   \n",
       "2   proudly presenting  check let know think none ...   \n",
       "3   want boss donÂt need go biz school entreprene...   \n",
       "4   every cunty elephant killing  bob parsons hund...   \n",
       "5   proudly presenting  check let know think  goce...   \n",
       "8                                  wtf  came running    \n",
       "9   start  suspends site   websitesecurity securit...   \n",
       "10  proudly presenting  check let know think none ...   \n",
       "11   sell contact info spammers india since purcha...   \n",
       "14                refer friend get free lesson   via    \n",
       "\n",
       "                          user_location  \\\n",
       "0   Riviera Maya / CDMX ???Ã½???Â« ????   \n",
       "2                         Colorado, USA   \n",
       "3                                Global   \n",
       "4                                Surrey   \n",
       "5              Mackinaw city, michigan    \n",
       "8                       Washington, USA   \n",
       "9                                 World   \n",
       "10                                  USA   \n",
       "11           Montreal - Quebec - Canada   \n",
       "14                     Vaughan, Ontario   \n",
       "\n",
       "                                              tweetss  \n",
       "0    go hell bob parsons spineless fuck stop cowar...  \n",
       "2   proudly presenting check let know think none g...  \n",
       "3   want boss don t need go biz school entrepreneu...  \n",
       "4   every cunty elephant killing bob parsons hundr...  \n",
       "5   proudly presenting check let know think gocent...  \n",
       "8                                   wtf came running   \n",
       "9   start suspends site websitesecurity security m...  \n",
       "10  proudly presenting check let know think none g...  \n",
       "11   sell contact info spammers india since purcha...  \n",
       "14                  refer friend get free lesson via   "
      ]
     },
     "execution_count": 37,
     "metadata": {},
     "output_type": "execute_result"
    }
   ],
   "source": [
    "df.head(10)"
   ]
  },
  {
   "cell_type": "code",
   "execution_count": 55,
   "id": "bfeb2169",
   "metadata": {
    "ExecuteTime": {
     "end_time": "2022-10-02T08:37:14.630093Z",
     "start_time": "2022-10-02T08:37:14.296792Z"
    }
   },
   "outputs": [],
   "source": [
    "def zero_one(word,search):\n",
    "    if word.find(search)==-1:\n",
    "        return 0\n",
    "    else:\n",
    "        return 1\n",
    "    \n",
    "df['ª']=df['tweetss'].apply(lambda x: zero_one(x,'ª'))"
   ]
  },
  {
   "cell_type": "code",
   "execution_count": 56,
   "id": "9ab8af6b",
   "metadata": {
    "ExecuteTime": {
     "end_time": "2022-10-02T08:37:15.651162Z",
     "start_time": "2022-10-02T08:37:15.492897Z"
    }
   },
   "outputs": [
    {
     "name": "stdout",
     "output_type": "stream",
     "text": [
      "<class 'pandas.core.frame.DataFrame'>\n",
      "Int64Index: 307120 entries, 0 to 452582\n",
      "Data columns (total 11 columns):\n",
      " #   Column         Non-Null Count   Dtype \n",
      "---  ------         --------------   ----- \n",
      " 0   user           307120 non-null  object\n",
      " 1   date           307120 non-null  object\n",
      " 2   tweets         307120 non-null  object\n",
      " 3   user_location  307120 non-null  object\n",
      " 4   tweetss        307120 non-null  object\n",
      " 5   ã              307120 non-null  int64 \n",
      " 6   ¾              307120 non-null  int64 \n",
      " 7   ¹              307120 non-null  int64 \n",
      " 8   ³              307120 non-null  int64 \n",
      " 9   µ              307120 non-null  int64 \n",
      " 10  ª              307120 non-null  int64 \n",
      "dtypes: int64(6), object(5)\n",
      "memory usage: 28.1+ MB\n"
     ]
    }
   ],
   "source": [
    "df.info()"
   ]
  },
  {
   "cell_type": "code",
   "execution_count": 47,
   "id": "89e589c8",
   "metadata": {
    "ExecuteTime": {
     "end_time": "2022-10-02T08:35:43.298343Z",
     "start_time": "2022-10-02T08:35:43.276400Z"
    }
   },
   "outputs": [
    {
     "ename": "SyntaxError",
     "evalue": "invalid character in identifier (<ipython-input-47-759ed82445aa>, line 1)",
     "output_type": "error",
     "traceback": [
      "\u001b[1;36m  File \u001b[1;32m\"<ipython-input-47-759ed82445aa>\"\u001b[1;36m, line \u001b[1;32m1\u001b[0m\n\u001b[1;33m    â¹ã\u001b[0m\n\u001b[1;37m      ^\u001b[0m\n\u001b[1;31mSyntaxError\u001b[0m\u001b[1;31m:\u001b[0m invalid character in identifier\n"
     ]
    }
   ],
   "source": [
    "â¹ã\n",
    "âµã\n",
    "â¹â\n",
    "â¹\n",
    "â¾ã\n",
    "possible\n",
    "threat\n",
    "â³ã\n",
    "âªã\n",
    "ã¹â"
   ]
  },
  {
   "cell_type": "code",
   "execution_count": 60,
   "id": "195e8405",
   "metadata": {
    "ExecuteTime": {
     "end_time": "2022-10-02T08:40:58.373674Z",
     "start_time": "2022-10-02T08:40:58.362740Z"
    }
   },
   "outputs": [
    {
     "data": {
      "text/plain": [
       "Index(['user', 'date', 'tweets', 'user_location', 'tweetss', 'ã', '¾', '¹',\n",
       "       '³', 'µ', 'ª'],\n",
       "      dtype='object')"
      ]
     },
     "execution_count": 60,
     "metadata": {},
     "output_type": "execute_result"
    }
   ],
   "source": [
    "df.columns"
   ]
  },
  {
   "cell_type": "code",
   "execution_count": 63,
   "id": "fdad93bb",
   "metadata": {
    "ExecuteTime": {
     "end_time": "2022-10-02T08:42:32.732016Z",
     "start_time": "2022-10-02T08:42:32.653227Z"
    }
   },
   "outputs": [],
   "source": [
    "df=df[['user', 'date', 'user_location', 'tweetss']]"
   ]
  },
  {
   "cell_type": "code",
   "execution_count": 62,
   "id": "85d7c024",
   "metadata": {
    "ExecuteTime": {
     "end_time": "2022-10-02T08:42:30.287584Z",
     "start_time": "2022-10-02T08:42:14.785749Z"
    }
   },
   "outputs": [],
   "source": [
    "df.to_csv('data_latest_without_any special characters_follow tweetss.csv')"
   ]
  },
  {
   "cell_type": "code",
   "execution_count": 69,
   "id": "bbb1ba3b",
   "metadata": {
    "ExecuteTime": {
     "end_time": "2022-10-02T09:08:49.025807Z",
     "start_time": "2022-10-02T09:08:40.894054Z"
    }
   },
   "outputs": [],
   "source": [
    "df=pd.read_csv('data_latest_without_any special characters_follow tweetss.csv')"
   ]
  },
  {
   "cell_type": "code",
   "execution_count": 70,
   "id": "282323b4",
   "metadata": {
    "ExecuteTime": {
     "end_time": "2022-10-02T09:09:16.111113Z",
     "start_time": "2022-10-02T09:08:54.585254Z"
    }
   },
   "outputs": [],
   "source": [
    "from sklearn.feature_extraction.text import CountVectorizer\n",
    "\n",
    "count_vect = CountVectorizer(max_df=0.8, min_df=2, stop_words='english')\n",
    "doc_term_matrix = count_vect.fit_transform(df['tweetss'].values.astype('U'))"
   ]
  },
  {
   "cell_type": "code",
   "execution_count": 71,
   "id": "7a362944",
   "metadata": {
    "ExecuteTime": {
     "end_time": "2022-10-02T09:09:16.155994Z",
     "start_time": "2022-10-02T09:09:16.121089Z"
    }
   },
   "outputs": [
    {
     "data": {
      "text/plain": [
       "<307120x54907 sparse matrix of type '<class 'numpy.int64'>'\n",
       "\twith 2672999 stored elements in Compressed Sparse Row format>"
      ]
     },
     "execution_count": 71,
     "metadata": {},
     "output_type": "execute_result"
    }
   ],
   "source": [
    "doc_term_matrix"
   ]
  },
  {
   "cell_type": "code",
   "execution_count": null,
   "id": "c542274b",
   "metadata": {},
   "outputs": [],
   "source": [
    "#Next, we will use LDA to create topics along with the probability distribution for each word in our vocabulary for each topic"
   ]
  },
  {
   "cell_type": "code",
   "execution_count": 72,
   "id": "9737ece0",
   "metadata": {
    "ExecuteTime": {
     "end_time": "2022-10-02T09:36:50.525159Z",
     "start_time": "2022-10-02T09:15:40.012083Z"
    }
   },
   "outputs": [
    {
     "data": {
      "text/plain": [
       "LatentDirichletAllocation(n_components=20, random_state=42)"
      ]
     },
     "execution_count": 72,
     "metadata": {},
     "output_type": "execute_result"
    }
   ],
   "source": [
    "from sklearn.decomposition import LatentDirichletAllocation\n",
    "\n",
    "LDA = LatentDirichletAllocation(n_components=20, random_state=42)\n",
    "LDA.fit(doc_term_matrix)"
   ]
  },
  {
   "cell_type": "code",
   "execution_count": null,
   "id": "b928a215",
   "metadata": {},
   "outputs": [],
   "source": [
    "#In the script above we use the LatentDirichletAllocation class from the sklearn.decomposition library to perform LDA on our document-term matrix. The parameter n_components specifies the number of categories, or topics, that we want our text to be divided into. "
   ]
  },
  {
   "cell_type": "code",
   "execution_count": 73,
   "id": "a580ed7a",
   "metadata": {
    "ExecuteTime": {
     "end_time": "2022-10-02T09:45:47.182175Z",
     "start_time": "2022-10-02T09:45:45.701603Z"
    }
   },
   "outputs": [
    {
     "name": "stdout",
     "output_type": "stream",
     "text": [
      "importanti\n",
      "ifthen\n",
      "inzeo\n",
      "niyeyse\n",
      "azn\n",
      "positions\n",
      "morality\n",
      "tumban\n",
      "underhand\n",
      "shorting\n"
     ]
    }
   ],
   "source": [
    "import random\n",
    "\n",
    "for i in range(10):\n",
    "    random_id = random.randint(0,len(count_vect.get_feature_names()))\n",
    "    print(count_vect.get_feature_names()[random_id])"
   ]
  },
  {
   "cell_type": "code",
   "execution_count": 74,
   "id": "5887d272",
   "metadata": {
    "ExecuteTime": {
     "end_time": "2022-10-02T09:46:08.983671Z",
     "start_time": "2022-10-02T09:46:08.963721Z"
    }
   },
   "outputs": [],
   "source": [
    "first_topic = LDA.components_[0]"
   ]
  },
  {
   "cell_type": "code",
   "execution_count": 76,
   "id": "98c63f74",
   "metadata": {
    "ExecuteTime": {
     "end_time": "2022-10-02T09:46:19.689196Z",
     "start_time": "2022-10-02T09:46:19.667257Z"
    }
   },
   "outputs": [],
   "source": [
    "top_topic_words = first_topic.argsort()[-15:]"
   ]
  },
  {
   "cell_type": "code",
   "execution_count": 23,
   "id": "710fb229",
   "metadata": {
    "ExecuteTime": {
     "end_time": "2022-10-01T15:52:51.147354Z",
     "start_time": "2022-10-01T15:52:50.398705Z"
    }
   },
   "outputs": [
    {
     "name": "stdout",
     "output_type": "stream",
     "text": [
      "security\n",
      "sedo\n",
      "auction\n",
      "million\n",
      "domainnames\n",
      "breach\n",
      "data\n",
      "sale\n",
      "domains\n",
      "domain\n"
     ]
    }
   ],
   "source": [
    "for i in top_topic_words:\n",
    "    print(count_vect.get_feature_names()[i])"
   ]
  },
  {
   "cell_type": "code",
   "execution_count": 77,
   "id": "180fce23",
   "metadata": {
    "ExecuteTime": {
     "end_time": "2022-10-02T09:46:28.721214Z",
     "start_time": "2022-10-02T09:46:27.640919Z"
    }
   },
   "outputs": [
    {
     "name": "stdout",
     "output_type": "stream",
     "text": [
      "away\n",
      "im\n",
      "start\n",
      "super\n",
      "sure\n",
      "thank\n",
      "people\n",
      "amp\n",
      "buy\n",
      "like\n",
      "sell\n",
      "help\n",
      "make\n",
      "right\n",
      "want\n"
     ]
    }
   ],
   "source": [
    "for i in top_topic_words:\n",
    "    print(count_vect.get_feature_names()[i])"
   ]
  },
  {
   "cell_type": "code",
   "execution_count": 25,
   "id": "7836c517",
   "metadata": {
    "ExecuteTime": {
     "end_time": "2022-10-01T15:54:40.844492Z",
     "start_time": "2022-10-01T15:54:40.083189Z"
    }
   },
   "outputs": [
    {
     "name": "stdout",
     "output_type": "stream",
     "text": [
      "way\n",
      "congrats\n",
      "awesome\n",
      "looks\n",
      "love\n",
      "new\n",
      "site\n",
      "job\n",
      "great\n",
      "website\n"
     ]
    }
   ],
   "source": [
    "#Second Topic\n",
    "second_topic = LDA.components_[1]\n",
    "top_topic_words = second_topic.argsort()[-10:]\n",
    "for i in top_topic_words:\n",
    "    print(count_vect.get_feature_names()[i])"
   ]
  },
  {
   "cell_type": "code",
   "execution_count": 78,
   "id": "3b053353",
   "metadata": {
    "ExecuteTime": {
     "end_time": "2022-10-02T09:50:00.557118Z",
     "start_time": "2022-10-02T09:49:59.363809Z"
    }
   },
   "outputs": [
    {
     "name": "stdout",
     "output_type": "stream",
     "text": [
      "selling\n",
      "domain\n",
      "music\n",
      "il\n",
      "youtube\n",
      "trending\n",
      "la\n",
      "live\n",
      "le\n",
      "di\n",
      "auctioning\n",
      "et\n",
      "video\n",
      "sold\n",
      "com\n"
     ]
    }
   ],
   "source": [
    "#Second Topic\n",
    "second_topic = LDA.components_[1]\n",
    "top_topic_words = second_topic.argsort()[-15:]\n",
    "for i in top_topic_words:\n",
    "    print(count_vect.get_feature_names()[i])"
   ]
  },
  {
   "cell_type": "code",
   "execution_count": 26,
   "id": "8fdf92e3",
   "metadata": {
    "ExecuteTime": {
     "end_time": "2022-10-01T15:55:36.893677Z",
     "start_time": "2022-10-01T15:55:36.050975Z"
    }
   },
   "outputs": [
    {
     "name": "stdout",
     "output_type": "stream",
     "text": [
      "â¹ã\n",
      "âµã\n",
      "â¹â\n",
      "â¹\n",
      "â¾ã\n",
      "possible\n",
      "threat\n",
      "â³ã\n",
      "âªã\n",
      "ã¹â\n"
     ]
    }
   ],
   "source": [
    "#Third Topic\n",
    "third_topic = LDA.components_[2]\n",
    "top_topic_words = third_topic.argsort()[-10:]\n",
    "for i in top_topic_words:\n",
    "    print(count_vect.get_feature_names()[i])"
   ]
  },
  {
   "cell_type": "code",
   "execution_count": 79,
   "id": "5e266e49",
   "metadata": {
    "ExecuteTime": {
     "end_time": "2022-10-02T09:52:23.354295Z",
     "start_time": "2022-10-02T09:52:22.222291Z"
    }
   },
   "outputs": [
    {
     "name": "stdout",
     "output_type": "stream",
     "text": [
      "make\n",
      "professional\n",
      "ssl\n",
      "link\n",
      "review\n",
      "new\n",
      "better\n",
      "free\n",
      "wordpress\n",
      "company\n",
      "love\n",
      "web\n",
      "domain\n",
      "website\n",
      "hosting\n"
     ]
    }
   ],
   "source": [
    "#Third Topic\n",
    "third_topic = LDA.components_[2]\n",
    "top_topic_words = third_topic.argsort()[-15:]\n",
    "for i in top_topic_words:\n",
    "    print(count_vect.get_feature_names()[i])"
   ]
  },
  {
   "cell_type": "code",
   "execution_count": 27,
   "id": "54024ad6",
   "metadata": {
    "ExecuteTime": {
     "end_time": "2022-10-01T15:56:15.146274Z",
     "start_time": "2022-10-01T15:56:14.317123Z"
    }
   },
   "outputs": [
    {
     "name": "stdout",
     "output_type": "stream",
     "text": [
      "amp\n",
      "best\n",
      "texas\n",
      "site\n",
      "com\n",
      "website\n",
      "wordpress\n",
      "web\n",
      "domain\n",
      "hosting\n"
     ]
    }
   ],
   "source": [
    "#Fourth Topic\n",
    "fourth_topic = LDA.components_[3]\n",
    "top_topic_words = fourth_topic.argsort()[-10:]\n",
    "for i in top_topic_words:\n",
    "    print(count_vect.get_feature_names()[i])"
   ]
  },
  {
   "cell_type": "code",
   "execution_count": 80,
   "id": "816f49d1",
   "metadata": {
    "ExecuteTime": {
     "end_time": "2022-10-02T09:52:49.166401Z",
     "start_time": "2022-10-02T09:52:48.069332Z"
    }
   },
   "outputs": [
    {
     "name": "stdout",
     "output_type": "stream",
     "text": [
      "wordpress\n",
      "updated\n",
      "web\n",
      "youtube\n",
      "hosting\n",
      "registration\n",
      "domains\n",
      "cheap\n",
      "domain\n",
      "rt\n",
      "offer\n",
      "media\n",
      "social\n",
      "amp\n",
      "thank\n"
     ]
    }
   ],
   "source": [
    "#Fourth Topic\n",
    "fourth_topic = LDA.components_[3]\n",
    "top_topic_words = fourth_topic.argsort()[-15:]\n",
    "for i in top_topic_words:\n",
    "    print(count_vect.get_feature_names()[i])"
   ]
  },
  {
   "cell_type": "code",
   "execution_count": 28,
   "id": "2af2b42f",
   "metadata": {
    "ExecuteTime": {
     "end_time": "2022-10-01T15:57:14.278554Z",
     "start_time": "2022-10-01T15:57:13.459267Z"
    }
   },
   "outputs": [
    {
     "name": "stdout",
     "output_type": "stream",
     "text": [
      "good\n",
      "dont\n",
      "company\n",
      "sold\n",
      "people\n",
      "com\n",
      "use\n",
      "like\n",
      "domains\n",
      "domain\n"
     ]
    }
   ],
   "source": [
    "#Fifth Topic\n",
    "fifth_topic = LDA.components_[4]\n",
    "top_topic_words = fifth_topic.argsort()[-10:]\n",
    "for i in top_topic_words:\n",
    "    print(count_vect.get_feature_names()[i])"
   ]
  },
  {
   "cell_type": "code",
   "execution_count": 81,
   "id": "b3697d76",
   "metadata": {
    "ExecuteTime": {
     "end_time": "2022-10-02T09:53:28.137807Z",
     "start_time": "2022-10-02T09:53:27.020777Z"
    }
   },
   "outputs": [
    {
     "name": "stdout",
     "output_type": "stream",
     "text": [
      "afternic\n",
      "premium\n",
      "sedo\n",
      "available\n",
      "domainsforsale\n",
      "sold\n",
      "domainname\n",
      "auction\n",
      "names\n",
      "com\n",
      "buy\n",
      "domainnames\n",
      "sale\n",
      "domains\n",
      "domain\n"
     ]
    }
   ],
   "source": [
    "#Fifth Topic\n",
    "fifth_topic = LDA.components_[4]\n",
    "top_topic_words = fifth_topic.argsort()[-15:]\n",
    "for i in top_topic_words:\n",
    "    print(count_vect.get_feature_names()[i])"
   ]
  },
  {
   "cell_type": "code",
   "execution_count": 29,
   "id": "f179c342",
   "metadata": {
    "ExecuteTime": {
     "end_time": "2022-10-01T15:57:59.887051Z",
     "start_time": "2022-10-01T15:57:58.924624Z"
    }
   },
   "outputs": [
    {
     "name": "stdout",
     "output_type": "stream",
     "text": [
      "websitebuilder\n",
      "posted\n",
      "builder\n",
      "website\n",
      "proudly\n",
      "presenting\n",
      "let\n",
      "think\n",
      "know\n",
      "check\n"
     ]
    }
   ],
   "source": [
    "#Sixth Topic\n",
    "sixth_topic = LDA.components_[5]\n",
    "top_topic_words = sixth_topic.argsort()[-10:]\n",
    "for i in top_topic_words:\n",
    "    print(count_vect.get_feature_names()[i])"
   ]
  },
  {
   "cell_type": "code",
   "execution_count": 82,
   "id": "dae1980c",
   "metadata": {
    "ExecuteTime": {
     "end_time": "2022-10-02T09:54:02.211302Z",
     "start_time": "2022-10-02T09:54:01.131562Z"
    }
   },
   "outputs": [
    {
     "name": "stdout",
     "output_type": "stream",
     "text": [
      "alternatives\n",
      "hosted\n",
      "cheaper\n",
      "dns\n",
      "abortion\n",
      "going\n",
      "account\n",
      "registered\n",
      "used\n",
      "right\n",
      "page\n",
      "texas\n",
      "website\n",
      "site\n",
      "domain\n"
     ]
    }
   ],
   "source": [
    "#Sixth Topic\n",
    "sixth_topic = LDA.components_[5]\n",
    "top_topic_words = sixth_topic.argsort()[-15:]\n",
    "for i in top_topic_words:\n",
    "    print(count_vect.get_feature_names()[i])"
   ]
  },
  {
   "cell_type": "code",
   "execution_count": 30,
   "id": "e1892a0a",
   "metadata": {
    "ExecuteTime": {
     "end_time": "2022-10-01T15:58:50.782432Z",
     "start_time": "2022-10-01T15:58:50.002445Z"
    }
   },
   "outputs": [
    {
     "name": "stdout",
     "output_type": "stream",
     "text": [
      "el\n",
      "orgullo\n",
      "dinos\n",
      "opinas\n",
      "echa\n",
      "vistazo\n",
      "la\n",
      "lo\n",
      "en\n",
      "que\n"
     ]
    }
   ],
   "source": [
    "#Seventh Topic\n",
    "seventh_topic = LDA.components_[6]\n",
    "top_topic_words = seventh_topic.argsort()[-10:]\n",
    "for i in top_topic_words:\n",
    "    print(count_vect.get_feature_names()[i])"
   ]
  },
  {
   "cell_type": "code",
   "execution_count": 83,
   "id": "0fb7316e",
   "metadata": {
    "ExecuteTime": {
     "end_time": "2022-10-02T09:54:45.318186Z",
     "start_time": "2022-10-02T09:54:44.230798Z"
    }
   },
   "outputs": [
    {
     "name": "stdout",
     "output_type": "stream",
     "text": [
      "sale\n",
      "new\n",
      "hiring\n",
      "save\n",
      "domain\n",
      "remote\n",
      "day\n",
      "watch\n",
      "today\n",
      "senior\n",
      "click\n",
      "work\n",
      "promo\n",
      "coupon\n",
      "code\n"
     ]
    }
   ],
   "source": [
    "#Seventh Topic\n",
    "seventh_topic = LDA.components_[6]\n",
    "top_topic_words = seventh_topic.argsort()[-15:]\n",
    "for i in top_topic_words:\n",
    "    print(count_vect.get_feature_names()[i])"
   ]
  },
  {
   "cell_type": "code",
   "execution_count": 31,
   "id": "bf727fb4",
   "metadata": {
    "ExecuteTime": {
     "end_time": "2022-10-01T15:59:29.251628Z",
     "start_time": "2022-10-01T15:59:28.476918Z"
    }
   },
   "outputs": [
    {
     "name": "stdout",
     "output_type": "stream",
     "text": [
      "domainname\n",
      "small\n",
      "online\n",
      "domainnameforsale\n",
      "new\n",
      "startup\n",
      "domain\n",
      "marketing\n",
      "brand\n",
      "business\n"
     ]
    }
   ],
   "source": [
    "#Eighth Topic\n",
    "eighth_topic = LDA.components_[7]\n",
    "top_topic_words = eighth_topic.argsort()[-10:]\n",
    "for i in top_topic_words:\n",
    "    print(count_vect.get_feature_names()[i])"
   ]
  },
  {
   "cell_type": "code",
   "execution_count": 84,
   "id": "77587f1b",
   "metadata": {
    "ExecuteTime": {
     "end_time": "2022-10-02T09:55:39.588954Z",
     "start_time": "2022-10-02T09:55:38.523819Z"
    }
   },
   "outputs": [
    {
     "name": "stdout",
     "output_type": "stream",
     "text": [
      "problem\n",
      "dont\n",
      "hours\n",
      "need\n",
      "phone\n",
      "account\n",
      "email\n",
      "days\n",
      "time\n",
      "website\n",
      "issue\n",
      "service\n",
      "customer\n",
      "help\n",
      "support\n"
     ]
    }
   ],
   "source": [
    "#Eighth Topic\n",
    "eighth_topic = LDA.components_[7]\n",
    "top_topic_words = eighth_topic.argsort()[-15:]\n",
    "for i in top_topic_words:\n",
    "    print(count_vect.get_feature_names()[i])"
   ]
  },
  {
   "cell_type": "code",
   "execution_count": 32,
   "id": "f0ce1bb0",
   "metadata": {
    "ExecuteTime": {
     "end_time": "2022-10-01T16:01:45.456384Z",
     "start_time": "2022-10-01T16:01:44.657121Z"
    }
   },
   "outputs": [
    {
     "name": "stdout",
     "output_type": "stream",
     "text": [
      "need\n",
      "account\n",
      "site\n",
      "domain\n",
      "time\n",
      "service\n",
      "customer\n",
      "email\n",
      "help\n",
      "support\n"
     ]
    }
   ],
   "source": [
    "#Ninth Topic\n",
    "ninth_topic = LDA.components_[8]\n",
    "top_topic_words = ninth_topic.argsort()[-10:]\n",
    "for i in top_topic_words:\n",
    "    print(count_vect.get_feature_names()[i])"
   ]
  },
  {
   "cell_type": "code",
   "execution_count": 85,
   "id": "284df77e",
   "metadata": {
    "ExecuteTime": {
     "end_time": "2022-10-02T09:56:29.852530Z",
     "start_time": "2022-10-02T09:56:28.801802Z"
    }
   },
   "outputs": [
    {
     "name": "stdout",
     "output_type": "stream",
     "text": [
      "need\n",
      "cpanel\n",
      "design\n",
      "seo\n",
      "malware\n",
      "hosting\n",
      "hostgator\n",
      "opendir\n",
      "website\n",
      "wordpress\n",
      "facebook\n",
      "blog\n",
      "phishing\n",
      "possible\n",
      "threat\n"
     ]
    }
   ],
   "source": [
    "#Ninth Topic\n",
    "ninth_topic = LDA.components_[8]\n",
    "top_topic_words = ninth_topic.argsort()[-15:]\n",
    "for i in top_topic_words:\n",
    "    print(count_vect.get_feature_names()[i])"
   ]
  },
  {
   "cell_type": "code",
   "execution_count": 33,
   "id": "86b77b5a",
   "metadata": {
    "ExecuteTime": {
     "end_time": "2022-10-01T16:02:21.614995Z",
     "start_time": "2022-10-01T16:02:20.785786Z"
    }
   },
   "outputs": [
    {
     "name": "stdout",
     "output_type": "stream",
     "text": [
      "subscribe\n",
      "gddy\n",
      "dont\n",
      "miss\n",
      "ve\n",
      "updates\n",
      "email\n",
      "latest\n",
      "marketing\n",
      "iã\n"
     ]
    }
   ],
   "source": [
    "#Tenth Topic\n",
    "tenth_topic = LDA.components_[9]\n",
    "top_topic_words = tenth_topic.argsort()[-10:]\n",
    "for i in top_topic_words:\n",
    "    print(count_vect.get_feature_names()[i])"
   ]
  },
  {
   "cell_type": "code",
   "execution_count": 86,
   "id": "3322f2c0",
   "metadata": {
    "ExecuteTime": {
     "end_time": "2022-10-02T09:59:52.621148Z",
     "start_time": "2022-10-02T09:59:51.316095Z"
    }
   },
   "outputs": [
    {
     "name": "stdout",
     "output_type": "stream",
     "text": [
      "ncelerinizi\n",
      "web\n",
      "gururla\n",
      "sa\n",
      "bu\n",
      "zda\n",
      "namefind\n",
      "al\n",
      "ok\n",
      "kar\n",
      "acquired\n",
      "ad\n",
      "na\n",
      "bir\n",
      "portfolio\n"
     ]
    }
   ],
   "source": [
    "#Tenth Topic\n",
    "tenth_topic = LDA.components_[9]\n",
    "top_topic_words = tenth_topic.argsort()[-15:]\n",
    "for i in top_topic_words:\n",
    "    print(count_vect.get_feature_names()[i])"
   ]
  },
  {
   "cell_type": "code",
   "execution_count": 87,
   "id": "eb33c19a",
   "metadata": {
    "ExecuteTime": {
     "end_time": "2022-10-02T10:00:24.046388Z",
     "start_time": "2022-10-02T10:00:22.783974Z"
    }
   },
   "outputs": [
    {
     "name": "stdout",
     "output_type": "stream",
     "text": [
      "presentamos\n",
      "websitebuilder\n",
      "trav\n",
      "en\n",
      "ginas\n",
      "creador\n",
      "web\n",
      "presentando\n",
      "orgullo\n",
      "dinos\n",
      "opinas\n",
      "echa\n",
      "vistazo\n",
      "lo\n",
      "que\n"
     ]
    }
   ],
   "source": [
    "#Eleventh Topic\n",
    "tenth_topic = LDA.components_[10]\n",
    "top_topic_words = tenth_topic.argsort()[-15:]\n",
    "for i in top_topic_words:\n",
    "    print(count_vect.get_feature_names()[i])"
   ]
  },
  {
   "cell_type": "code",
   "execution_count": 88,
   "id": "efe00ed1",
   "metadata": {
    "ExecuteTime": {
     "end_time": "2022-10-02T10:01:13.557987Z",
     "start_time": "2022-10-02T10:01:12.417283Z"
    }
   },
   "outputs": [
    {
     "name": "stdout",
     "output_type": "stream",
     "text": [
      "check\n",
      "information\n",
      "new\n",
      "like\n",
      "today\n",
      "entrepreneurs\n",
      "holiday\n",
      "phishing\n",
      "look\n",
      "bonus\n",
      "businesses\n",
      "test\n",
      "employees\n",
      "small\n",
      "business\n"
     ]
    }
   ],
   "source": [
    "# Twelfth Topic\n",
    "tenth_topic = LDA.components_[11]\n",
    "top_topic_words = tenth_topic.argsort()[-15:]\n",
    "for i in top_topic_words:\n",
    "    print(count_vect.get_feature_names()[i])"
   ]
  },
  {
   "cell_type": "code",
   "execution_count": 89,
   "id": "1dbe68e8",
   "metadata": {
    "ExecuteTime": {
     "end_time": "2022-10-02T10:01:44.161667Z",
     "start_time": "2022-10-02T10:01:42.933770Z"
    }
   },
   "outputs": [
    {
     "name": "stdout",
     "output_type": "stream",
     "text": [
      "used\n",
      "hosting\n",
      "ive\n",
      "time\n",
      "years\n",
      "people\n",
      "dont\n",
      "site\n",
      "really\n",
      "using\n",
      "thanks\n",
      "im\n",
      "good\n",
      "use\n",
      "like\n"
     ]
    }
   ],
   "source": [
    "# Thirteenth Topic\n",
    "tenth_topic = LDA.components_[12]\n",
    "top_topic_words = tenth_topic.argsort()[-15:]\n",
    "for i in top_topic_words:\n",
    "    print(count_vect.get_feature_names()[i])"
   ]
  },
  {
   "cell_type": "code",
   "execution_count": 90,
   "id": "b74d17a9",
   "metadata": {
    "ExecuteTime": {
     "end_time": "2022-10-02T10:23:23.496171Z",
     "start_time": "2022-10-02T10:23:22.472398Z"
    }
   },
   "outputs": [
    {
     "name": "stdout",
     "output_type": "stream",
     "text": [
      "companies\n",
      "earnings\n",
      "started\n",
      "openings\n",
      "running\n",
      "stock\n",
      "starting\n",
      "month\n",
      "published\n",
      "domainnameforsale\n",
      "ve\n",
      "listed\n",
      "check\n",
      "gddy\n",
      "website\n"
     ]
    }
   ],
   "source": [
    "# Fourteenth Topic\n",
    "tenth_topic = LDA.components_[13]\n",
    "top_topic_words = tenth_topic.argsort()[-15:]\n",
    "for i in top_topic_words:\n",
    "    print(count_vect.get_feature_names()[i])"
   ]
  },
  {
   "cell_type": "code",
   "execution_count": 91,
   "id": "993b2f0d",
   "metadata": {
    "ExecuteTime": {
     "end_time": "2022-10-02T10:23:54.888094Z",
     "start_time": "2022-10-02T10:23:53.974410Z"
    }
   },
   "outputs": [
    {
     "name": "stdout",
     "output_type": "stream",
     "text": [
      "new\n",
      "exposed\n",
      "account\n",
      "congrats\n",
      "amp\n",
      "cybersecurity\n",
      "users\n",
      "google\n",
      "hosting\n",
      "accounts\n",
      "security\n",
      "million\n",
      "customers\n",
      "breach\n",
      "data\n"
     ]
    }
   ],
   "source": [
    "# Fifteenth Topic\n",
    "tenth_topic = LDA.components_[14]\n",
    "top_topic_words = tenth_topic.argsort()[-15:]\n",
    "for i in top_topic_words:\n",
    "    print(count_vect.get_feature_names()[i])"
   ]
  },
  {
   "cell_type": "code",
   "execution_count": 92,
   "id": "5a32abee",
   "metadata": {
    "ExecuteTime": {
     "end_time": "2022-10-02T10:26:59.856648Z",
     "start_time": "2022-10-02T10:26:58.943070Z"
    }
   },
   "outputs": [
    {
     "name": "stdout",
     "output_type": "stream",
     "text": [
      "meto\n",
      "clickable\n",
      "added\n",
      "updated\n",
      "new\n",
      "gocentral\n",
      "websitebuilder\n",
      "builder\n",
      "website\n",
      "proudly\n",
      "presenting\n",
      "let\n",
      "think\n",
      "check\n",
      "know\n"
     ]
    }
   ],
   "source": [
    "# Sixteenth Topic\n",
    "tenth_topic = LDA.components_[15]\n",
    "top_topic_words = tenth_topic.argsort()[-15:]\n",
    "for i in top_topic_words:\n",
    "    print(count_vect.get_feature_names()[i])"
   ]
  },
  {
   "cell_type": "code",
   "execution_count": 93,
   "id": "263cc524",
   "metadata": {
    "ExecuteTime": {
     "end_time": "2022-10-02T10:27:35.026032Z",
     "start_time": "2022-10-02T10:27:34.154339Z"
    }
   },
   "outputs": [
    {
     "name": "stdout",
     "output_type": "stream",
     "text": [
      "est\n",
      "si\n",
      "dominio\n",
      "lo\n",
      "com\n",
      "una\n",
      "se\n",
      "los\n",
      "por\n",
      "para\n",
      "es\n",
      "la\n",
      "el\n",
      "en\n",
      "que\n"
     ]
    }
   ],
   "source": [
    "# Seventeenth Topic\n",
    "tenth_topic = LDA.components_[16]\n",
    "top_topic_words = tenth_topic.argsort()[-15:]\n",
    "for i in top_topic_words:\n",
    "    print(count_vect.get_feature_names()[i])"
   ]
  },
  {
   "cell_type": "code",
   "execution_count": 94,
   "id": "5d1c57da",
   "metadata": {
    "ExecuteTime": {
     "end_time": "2022-10-02T10:28:10.368361Z",
     "start_time": "2022-10-02T10:28:09.460318Z"
    }
   },
   "outputs": [
    {
     "name": "stdout",
     "output_type": "stream",
     "text": [
      "newsletter\n",
      "registry\n",
      "gmail\n",
      "job\n",
      "opportunities\n",
      "free\n",
      "business\n",
      "beat\n",
      "subscribe\n",
      "miss\n",
      "updates\n",
      "latest\n",
      "dont\n",
      "marketing\n",
      "email\n"
     ]
    }
   ],
   "source": [
    "# Eighteenth Topic\n",
    "tenth_topic = LDA.components_[17]\n",
    "top_topic_words = tenth_topic.argsort()[-15:]\n",
    "for i in top_topic_words:\n",
    "    print(count_vect.get_feature_names()[i])"
   ]
  },
  {
   "cell_type": "code",
   "execution_count": 95,
   "id": "1b1ce71b",
   "metadata": {
    "ExecuteTime": {
     "end_time": "2022-10-02T10:28:44.968682Z",
     "start_time": "2022-10-02T10:28:44.010765Z"
    }
   },
   "outputs": [
    {
     "name": "stdout",
     "output_type": "stream",
     "text": [
      "site\n",
      "websites\n",
      "thanks\n",
      "ecommerce\n",
      "build\n",
      "uk\n",
      "managed\n",
      "pro\n",
      "website\n",
      "business\n",
      "online\n",
      "great\n",
      "new\n",
      "amp\n",
      "wordpress\n"
     ]
    }
   ],
   "source": [
    "# Nineteenth Topic\n",
    "tenth_topic = LDA.components_[18]\n",
    "top_topic_words = tenth_topic.argsort()[-15:]\n",
    "for i in top_topic_words:\n",
    "    print(count_vect.get_feature_names()[i])"
   ]
  },
  {
   "cell_type": "code",
   "execution_count": 96,
   "id": "bbcd48f6",
   "metadata": {
    "ExecuteTime": {
     "end_time": "2022-10-02T10:29:11.880047Z",
     "start_time": "2022-10-02T10:29:10.960078Z"
    }
   },
   "outputs": [
    {
     "name": "stdout",
     "output_type": "stream",
     "text": [
      "cybersecurity\n",
      "bid\n",
      "news\n",
      "domainsforsale\n",
      "estimated\n",
      "salea\n",
      "congratulations\n",
      "technology\n",
      "value\n",
      "sedo\n",
      "namejet\n",
      "gt\n",
      "brandbucket\n",
      "domain\n",
      "killerlaunch\n"
     ]
    }
   ],
   "source": [
    "# Twentyth Topic\n",
    "tenth_topic = LDA.components_[19]\n",
    "top_topic_words = tenth_topic.argsort()[-15:]\n",
    "for i in top_topic_words:\n",
    "    print(count_vect.get_feature_names()[i])"
   ]
  },
  {
   "cell_type": "code",
   "execution_count": null,
   "id": "7cd28c70",
   "metadata": {},
   "outputs": [],
   "source": []
  }
 ],
 "metadata": {
  "kernelspec": {
   "display_name": "Python 3",
   "language": "python",
   "name": "python3"
  },
  "language_info": {
   "codemirror_mode": {
    "name": "ipython",
    "version": 3
   },
   "file_extension": ".py",
   "mimetype": "text/x-python",
   "name": "python",
   "nbconvert_exporter": "python",
   "pygments_lexer": "ipython3",
   "version": "3.8.8"
  }
 },
 "nbformat": 4,
 "nbformat_minor": 5
}
