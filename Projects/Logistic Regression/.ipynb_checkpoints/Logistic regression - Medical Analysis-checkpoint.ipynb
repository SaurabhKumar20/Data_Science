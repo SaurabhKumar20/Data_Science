{
 "cells": [
  {
   "cell_type": "markdown",
   "metadata": {
    "_uuid": "6d24889e8175ca8987fd0d0e2dd2b74bf1c6c739"
   },
   "source": [
    "# Prediction of back pain using Logistic Regression, Python\n",
    "\n",
    "The data comprises of 13 columns and 310 observations. 12 columns are numerical attributes of the spine/ back. The last column is the Status of the patient - Abnormal indicates presence of Back pain and Normal indicates no back pain. The intent is to predict the Status of Spinal pain (whether the person has spinal pain or not) based on the 12 variables. "
   ]
  },
  {
   "cell_type": "code",
   "execution_count": 3,
   "metadata": {
    "ExecuteTime": {
     "end_time": "2021-10-01T19:51:42.325827Z",
     "start_time": "2021-10-01T19:51:42.318845Z"
    },
    "_cell_guid": "b1076dfc-b9ad-4769-8c92-a6c4dae69d19",
    "_uuid": "8f2839f25d086af736a60e9eeb907d3b93b6e0e5"
   },
   "outputs": [],
   "source": [
    "#Loading the necessary libraries\n",
    "import numpy as np # linear algebra\n",
    "import pandas as pd # data processing, CSV file I/O (e.g. pd.read_csv)\n",
    "\n",
    "import matplotlib.pyplot as plt\n",
    "import seaborn as sns\n",
    "\n",
    "from sklearn import preprocessing\n",
    "from sklearn.linear_model import LogisticRegression\n",
    "from sklearn.model_selection import train_test_split\n",
    "from sklearn.metrics import classification_report\n",
    "import statsmodels.api as sm"
   ]
  },
  {
   "cell_type": "code",
   "execution_count": 4,
   "metadata": {
    "ExecuteTime": {
     "end_time": "2021-10-01T19:51:42.889764Z",
     "start_time": "2021-10-01T19:51:42.329818Z"
    },
    "_uuid": "b0eb0f23e708da845d757429778f2162a1668ebd"
   },
   "outputs": [],
   "source": [
    "#Loading Lower Back Pain Symptoms Dataset\n",
    "back_data = pd.read_csv(\"Dataset_spine.csv\")"
   ]
  },
  {
   "cell_type": "code",
   "execution_count": 5,
   "metadata": {
    "ExecuteTime": {
     "end_time": "2021-10-01T19:51:43.238112Z",
     "start_time": "2021-10-01T19:51:42.892751Z"
    }
   },
   "outputs": [
    {
     "data": {
      "text/html": [
       "<div>\n",
       "<style scoped>\n",
       "    .dataframe tbody tr th:only-of-type {\n",
       "        vertical-align: middle;\n",
       "    }\n",
       "\n",
       "    .dataframe tbody tr th {\n",
       "        vertical-align: top;\n",
       "    }\n",
       "\n",
       "    .dataframe thead th {\n",
       "        text-align: right;\n",
       "    }\n",
       "</style>\n",
       "<table border=\"1\" class=\"dataframe\">\n",
       "  <thead>\n",
       "    <tr style=\"text-align: right;\">\n",
       "      <th></th>\n",
       "      <th>Col1</th>\n",
       "      <th>Col2</th>\n",
       "      <th>Col3</th>\n",
       "      <th>Col4</th>\n",
       "      <th>Col5</th>\n",
       "      <th>Col6</th>\n",
       "      <th>Col7</th>\n",
       "      <th>Col8</th>\n",
       "      <th>Col9</th>\n",
       "      <th>Col10</th>\n",
       "      <th>Col11</th>\n",
       "      <th>Col12</th>\n",
       "      <th>Class_att</th>\n",
       "      <th>Unnamed: 13</th>\n",
       "    </tr>\n",
       "  </thead>\n",
       "  <tbody>\n",
       "    <tr>\n",
       "      <th>0</th>\n",
       "      <td>63.027818</td>\n",
       "      <td>22.552586</td>\n",
       "      <td>39.609117</td>\n",
       "      <td>40.475232</td>\n",
       "      <td>98.672917</td>\n",
       "      <td>-0.254400</td>\n",
       "      <td>0.744503</td>\n",
       "      <td>12.5661</td>\n",
       "      <td>14.5386</td>\n",
       "      <td>15.30468</td>\n",
       "      <td>-28.658501</td>\n",
       "      <td>43.5123</td>\n",
       "      <td>Abnormal</td>\n",
       "      <td>NaN</td>\n",
       "    </tr>\n",
       "    <tr>\n",
       "      <th>1</th>\n",
       "      <td>39.056951</td>\n",
       "      <td>10.060991</td>\n",
       "      <td>25.015378</td>\n",
       "      <td>28.995960</td>\n",
       "      <td>114.405425</td>\n",
       "      <td>4.564259</td>\n",
       "      <td>0.415186</td>\n",
       "      <td>12.8874</td>\n",
       "      <td>17.5323</td>\n",
       "      <td>16.78486</td>\n",
       "      <td>-25.530607</td>\n",
       "      <td>16.1102</td>\n",
       "      <td>Abnormal</td>\n",
       "      <td>NaN</td>\n",
       "    </tr>\n",
       "    <tr>\n",
       "      <th>2</th>\n",
       "      <td>68.832021</td>\n",
       "      <td>22.218482</td>\n",
       "      <td>50.092194</td>\n",
       "      <td>46.613539</td>\n",
       "      <td>105.985135</td>\n",
       "      <td>-3.530317</td>\n",
       "      <td>0.474889</td>\n",
       "      <td>26.8343</td>\n",
       "      <td>17.4861</td>\n",
       "      <td>16.65897</td>\n",
       "      <td>-29.031888</td>\n",
       "      <td>19.2221</td>\n",
       "      <td>Abnormal</td>\n",
       "      <td>Prediction is done by using binary classificat...</td>\n",
       "    </tr>\n",
       "    <tr>\n",
       "      <th>3</th>\n",
       "      <td>69.297008</td>\n",
       "      <td>24.652878</td>\n",
       "      <td>44.311238</td>\n",
       "      <td>44.644130</td>\n",
       "      <td>101.868495</td>\n",
       "      <td>11.211523</td>\n",
       "      <td>0.369345</td>\n",
       "      <td>23.5603</td>\n",
       "      <td>12.7074</td>\n",
       "      <td>11.42447</td>\n",
       "      <td>-30.470246</td>\n",
       "      <td>18.8329</td>\n",
       "      <td>Abnormal</td>\n",
       "      <td>NaN</td>\n",
       "    </tr>\n",
       "    <tr>\n",
       "      <th>4</th>\n",
       "      <td>49.712859</td>\n",
       "      <td>9.652075</td>\n",
       "      <td>28.317406</td>\n",
       "      <td>40.060784</td>\n",
       "      <td>108.168725</td>\n",
       "      <td>7.918501</td>\n",
       "      <td>0.543360</td>\n",
       "      <td>35.4940</td>\n",
       "      <td>15.9546</td>\n",
       "      <td>8.87237</td>\n",
       "      <td>-16.378376</td>\n",
       "      <td>24.9171</td>\n",
       "      <td>Abnormal</td>\n",
       "      <td>NaN</td>\n",
       "    </tr>\n",
       "  </tbody>\n",
       "</table>\n",
       "</div>"
      ],
      "text/plain": [
       "        Col1       Col2       Col3       Col4        Col5       Col6  \\\n",
       "0  63.027818  22.552586  39.609117  40.475232   98.672917  -0.254400   \n",
       "1  39.056951  10.060991  25.015378  28.995960  114.405425   4.564259   \n",
       "2  68.832021  22.218482  50.092194  46.613539  105.985135  -3.530317   \n",
       "3  69.297008  24.652878  44.311238  44.644130  101.868495  11.211523   \n",
       "4  49.712859   9.652075  28.317406  40.060784  108.168725   7.918501   \n",
       "\n",
       "       Col7     Col8     Col9     Col10      Col11    Col12 Class_att  \\\n",
       "0  0.744503  12.5661  14.5386  15.30468 -28.658501  43.5123  Abnormal   \n",
       "1  0.415186  12.8874  17.5323  16.78486 -25.530607  16.1102  Abnormal   \n",
       "2  0.474889  26.8343  17.4861  16.65897 -29.031888  19.2221  Abnormal   \n",
       "3  0.369345  23.5603  12.7074  11.42447 -30.470246  18.8329  Abnormal   \n",
       "4  0.543360  35.4940  15.9546   8.87237 -16.378376  24.9171  Abnormal   \n",
       "\n",
       "                                         Unnamed: 13  \n",
       "0                                                NaN  \n",
       "1                                                NaN  \n",
       "2  Prediction is done by using binary classificat...  \n",
       "3                                                NaN  \n",
       "4                                                NaN  "
      ]
     },
     "execution_count": 5,
     "metadata": {},
     "output_type": "execute_result"
    }
   ],
   "source": [
    "back_data.head()"
   ]
  },
  {
   "cell_type": "code",
   "execution_count": 6,
   "metadata": {
    "ExecuteTime": {
     "end_time": "2021-10-01T19:51:43.411165Z",
     "start_time": "2021-10-01T19:51:43.242068Z"
    }
   },
   "outputs": [
    {
     "name": "stdout",
     "output_type": "stream",
     "text": [
      "<class 'pandas.core.frame.DataFrame'>\n",
      "RangeIndex: 310 entries, 0 to 309\n",
      "Data columns (total 14 columns):\n",
      " #   Column       Non-Null Count  Dtype  \n",
      "---  ------       --------------  -----  \n",
      " 0   Col1         310 non-null    float64\n",
      " 1   Col2         310 non-null    float64\n",
      " 2   Col3         310 non-null    float64\n",
      " 3   Col4         310 non-null    float64\n",
      " 4   Col5         310 non-null    float64\n",
      " 5   Col6         310 non-null    float64\n",
      " 6   Col7         310 non-null    float64\n",
      " 7   Col8         310 non-null    float64\n",
      " 8   Col9         310 non-null    float64\n",
      " 9   Col10        310 non-null    float64\n",
      " 10  Col11        310 non-null    float64\n",
      " 11  Col12        310 non-null    float64\n",
      " 12  Class_att    310 non-null    object \n",
      " 13  Unnamed: 13  14 non-null     object \n",
      "dtypes: float64(12), object(2)\n",
      "memory usage: 34.0+ KB\n"
     ]
    }
   ],
   "source": [
    "back_data.info()"
   ]
  },
  {
   "cell_type": "code",
   "execution_count": 7,
   "metadata": {
    "ExecuteTime": {
     "end_time": "2021-10-01T19:51:43.427115Z",
     "start_time": "2021-10-01T19:51:43.415149Z"
    },
    "_uuid": "028ccc53ffbb744ecde50b5cfaf3a4dcd0aa8ac7"
   },
   "outputs": [],
   "source": [
    "del back_data['Unnamed: 13']\n",
    "back_data.columns = ['pelvic_incidence','pelvic tilt','lumbar_lordosis_angle','sacral_slope','pelvic_radius','degree_spondylolisthesis','pelvic_slope','Direct_tilt','thoracic_slope','cervical_tilt','sacrum_angle','scoliosis_slope','Status']"
   ]
  },
  {
   "cell_type": "code",
   "execution_count": 8,
   "metadata": {
    "ExecuteTime": {
     "end_time": "2021-10-01T19:51:44.220432Z",
     "start_time": "2021-10-01T19:51:43.431106Z"
    }
   },
   "outputs": [
    {
     "data": {
      "image/png": "[encoded data removed]",
      "text/plain": [
       "<Figure size 432x288 with 1 Axes>"
      ]
     },
     "metadata": {
      "needs_background": "light"
     },
     "output_type": "display_data"
    }
   ],
   "source": [
    "sns.countplot(x = 'Status', data = back_data)\n",
    "plt.show()"
   ]
  },
  {
   "cell_type": "code",
   "execution_count": 9,
   "metadata": {
    "ExecuteTime": {
     "end_time": "2021-10-01T19:51:44.888947Z",
     "start_time": "2021-10-01T19:51:44.224421Z"
    },
    "_uuid": "56d7f534ea8ac8275a2b83cce6cb4fcea909f143"
   },
   "outputs": [
    {
     "name": "stdout",
     "output_type": "stream",
     "text": [
      "<class 'pandas.core.frame.DataFrame'>\n",
      "RangeIndex: 310 entries, 0 to 309\n",
      "Data columns (total 13 columns):\n",
      " #   Column                    Non-Null Count  Dtype  \n",
      "---  ------                    --------------  -----  \n",
      " 0   pelvic_incidence          310 non-null    float64\n",
      " 1   pelvic tilt               310 non-null    float64\n",
      " 2   lumbar_lordosis_angle     310 non-null    float64\n",
      " 3   sacral_slope              310 non-null    float64\n",
      " 4   pelvic_radius             310 non-null    float64\n",
      " 5   degree_spondylolisthesis  310 non-null    float64\n",
      " 6   pelvic_slope              310 non-null    float64\n",
      " 7   Direct_tilt               310 non-null    float64\n",
      " 8   thoracic_slope            310 non-null    float64\n",
      " 9   cervical_tilt             310 non-null    float64\n",
      " 10  sacrum_angle              310 non-null    float64\n",
      " 11  scoliosis_slope           310 non-null    float64\n",
      " 12  Status                    310 non-null    object \n",
      "dtypes: float64(12), object(1)\n",
      "memory usage: 31.6+ KB\n",
      "pelvic_incidence            0\n",
      "pelvic tilt                 0\n",
      "lumbar_lordosis_angle       0\n",
      "sacral_slope                0\n",
      "pelvic_radius               0\n",
      "degree_spondylolisthesis    0\n",
      "pelvic_slope                0\n",
      "Direct_tilt                 0\n",
      "thoracic_slope              0\n",
      "cervical_tilt               0\n",
      "sacrum_angle                0\n",
      "scoliosis_slope             0\n",
      "Status                      0\n",
      "dtype: int64\n",
      "       pelvic_incidence  pelvic tilt  lumbar_lordosis_angle  sacral_slope  \\\n",
      "count        310.000000   310.000000             310.000000    310.000000   \n",
      "mean          60.496653    17.542822              51.930930     42.953831   \n",
      "std           17.236520    10.008330              18.554064     13.423102   \n",
      "min           26.147921    -6.554948              14.000000     13.366931   \n",
      "25%           46.430294    10.667069              37.000000     33.347122   \n",
      "50%           58.691038    16.357689              49.562398     42.404912   \n",
      "75%           72.877696    22.120395              63.000000     52.695888   \n",
      "max          129.834041    49.431864             125.742385    121.429566   \n",
      "\n",
      "       pelvic_radius  degree_spondylolisthesis  pelvic_slope  Direct_tilt  \\\n",
      "count     310.000000                310.000000    310.000000   310.000000   \n",
      "mean      117.920655                 26.296694      0.472979    21.321526   \n",
      "std        13.317377                 37.559027      0.285787     8.639423   \n",
      "min        70.082575                -11.058179      0.003220     7.027000   \n",
      "25%       110.709196                  1.603727      0.224367    13.054400   \n",
      "50%       118.268178                 11.767934      0.475989    21.907150   \n",
      "75%       125.467674                 41.287352      0.704846    28.954075   \n",
      "max       163.071041                418.543082      0.998827    36.743900   \n",
      "\n",
      "       thoracic_slope  cervical_tilt  sacrum_angle  scoliosis_slope  \n",
      "count      310.000000     310.000000    310.000000       310.000000  \n",
      "mean        13.064511      11.933317    -14.053139        25.645981  \n",
      "std          3.399713       2.893265     12.225582        10.450558  \n",
      "min          7.037800       7.030600    -35.287375         7.007900  \n",
      "25%         10.417800       9.541140    -24.289522        17.189075  \n",
      "50%         12.938450      11.953835    -14.622856        24.931950  \n",
      "75%         15.889525      14.371810     -3.497094        33.979600  \n",
      "max         19.324000      16.821080      6.972071        44.341200  \n"
     ]
    }
   ],
   "source": [
    "## Understanding the structure of the data variables\n",
    "back_data.info()\n",
    "\n",
    "##Checking for missing values. There are no missing values\n",
    "print(back_data.isnull().sum())\n",
    "print(back_data.describe())"
   ]
  },
  {
   "cell_type": "code",
   "execution_count": 10,
   "metadata": {
    "ExecuteTime": {
     "end_time": "2021-10-01T19:51:46.093715Z",
     "start_time": "2021-10-01T19:51:44.896925Z"
    },
    "_uuid": "a900fea36313f4633bdb57ed36f4f2214a1d85c2"
   },
   "outputs": [
    {
     "data": {
      "image/png": "[encoded data removed]",
      "text/plain": [
       "<Figure size 432x288 with 2 Axes>"
      ]
     },
     "metadata": {
      "needs_background": "light"
     },
     "output_type": "display_data"
    }
   ],
   "source": [
    "corr_back = back_data.corr()\n",
    "\n",
    "# Generate the correlation plot \n",
    "sns.heatmap(corr_back, center=0, square=True, linewidths=.5)\n",
    "plt.show()"
   ]
  },
  {
   "cell_type": "code",
   "execution_count": 11,
   "metadata": {
    "ExecuteTime": {
     "end_time": "2021-10-01T19:51:46.138601Z",
     "start_time": "2021-10-01T19:51:46.095869Z"
    },
    "_uuid": "bb590a1746146919e0a2259ff22195e9df7e4cba"
   },
   "outputs": [
    {
     "data": {
      "text/html": [
       "<div>\n",
       "<style scoped>\n",
       "    .dataframe tbody tr th:only-of-type {\n",
       "        vertical-align: middle;\n",
       "    }\n",
       "\n",
       "    .dataframe tbody tr th {\n",
       "        vertical-align: top;\n",
       "    }\n",
       "\n",
       "    .dataframe thead th {\n",
       "        text-align: right;\n",
       "    }\n",
       "</style>\n",
       "<table border=\"1\" class=\"dataframe\">\n",
       "  <thead>\n",
       "    <tr style=\"text-align: right;\">\n",
       "      <th></th>\n",
       "      <th>pelvic_incidence</th>\n",
       "      <th>pelvic tilt</th>\n",
       "      <th>lumbar_lordosis_angle</th>\n",
       "      <th>sacral_slope</th>\n",
       "      <th>pelvic_radius</th>\n",
       "      <th>degree_spondylolisthesis</th>\n",
       "      <th>pelvic_slope</th>\n",
       "      <th>Direct_tilt</th>\n",
       "      <th>thoracic_slope</th>\n",
       "      <th>cervical_tilt</th>\n",
       "      <th>sacrum_angle</th>\n",
       "      <th>scoliosis_slope</th>\n",
       "    </tr>\n",
       "  </thead>\n",
       "  <tbody>\n",
       "    <tr>\n",
       "      <th>pelvic_incidence</th>\n",
       "      <td>1.000000</td>\n",
       "      <td>0.629199</td>\n",
       "      <td>0.717282</td>\n",
       "      <td>0.814960</td>\n",
       "      <td>-0.247467</td>\n",
       "      <td>0.638743</td>\n",
       "      <td>0.043290</td>\n",
       "      <td>-0.078411</td>\n",
       "      <td>-0.089740</td>\n",
       "      <td>0.016750</td>\n",
       "      <td>0.019240</td>\n",
       "      <td>-0.007251</td>\n",
       "    </tr>\n",
       "    <tr>\n",
       "      <th>pelvic tilt</th>\n",
       "      <td>0.629199</td>\n",
       "      <td>1.000000</td>\n",
       "      <td>0.432764</td>\n",
       "      <td>0.062345</td>\n",
       "      <td>0.032668</td>\n",
       "      <td>0.397862</td>\n",
       "      <td>0.008852</td>\n",
       "      <td>-0.072119</td>\n",
       "      <td>-0.063394</td>\n",
       "      <td>0.028931</td>\n",
       "      <td>0.032859</td>\n",
       "      <td>-0.056550</td>\n",
       "    </tr>\n",
       "    <tr>\n",
       "      <th>lumbar_lordosis_angle</th>\n",
       "      <td>0.717282</td>\n",
       "      <td>0.432764</td>\n",
       "      <td>1.000000</td>\n",
       "      <td>0.598387</td>\n",
       "      <td>-0.080344</td>\n",
       "      <td>0.533667</td>\n",
       "      <td>0.029486</td>\n",
       "      <td>-0.112939</td>\n",
       "      <td>-0.063582</td>\n",
       "      <td>0.063875</td>\n",
       "      <td>0.057199</td>\n",
       "      <td>-0.049054</td>\n",
       "    </tr>\n",
       "    <tr>\n",
       "      <th>sacral_slope</th>\n",
       "      <td>0.814960</td>\n",
       "      <td>0.062345</td>\n",
       "      <td>0.598387</td>\n",
       "      <td>1.000000</td>\n",
       "      <td>-0.342128</td>\n",
       "      <td>0.523557</td>\n",
       "      <td>0.048988</td>\n",
       "      <td>-0.046914</td>\n",
       "      <td>-0.067968</td>\n",
       "      <td>-0.000063</td>\n",
       "      <td>0.000207</td>\n",
       "      <td>0.032853</td>\n",
       "    </tr>\n",
       "    <tr>\n",
       "      <th>pelvic_radius</th>\n",
       "      <td>-0.247467</td>\n",
       "      <td>0.032668</td>\n",
       "      <td>-0.080344</td>\n",
       "      <td>-0.342128</td>\n",
       "      <td>1.000000</td>\n",
       "      <td>-0.026065</td>\n",
       "      <td>0.015767</td>\n",
       "      <td>0.063433</td>\n",
       "      <td>0.060477</td>\n",
       "      <td>-0.039800</td>\n",
       "      <td>0.029738</td>\n",
       "      <td>-0.030145</td>\n",
       "    </tr>\n",
       "    <tr>\n",
       "      <th>degree_spondylolisthesis</th>\n",
       "      <td>0.638743</td>\n",
       "      <td>0.397862</td>\n",
       "      <td>0.533667</td>\n",
       "      <td>0.523557</td>\n",
       "      <td>-0.026065</td>\n",
       "      <td>1.000000</td>\n",
       "      <td>0.085925</td>\n",
       "      <td>-0.063812</td>\n",
       "      <td>-0.057286</td>\n",
       "      <td>0.056576</td>\n",
       "      <td>0.023021</td>\n",
       "      <td>-0.041023</td>\n",
       "    </tr>\n",
       "    <tr>\n",
       "      <th>pelvic_slope</th>\n",
       "      <td>0.043290</td>\n",
       "      <td>0.008852</td>\n",
       "      <td>0.029486</td>\n",
       "      <td>0.048988</td>\n",
       "      <td>0.015767</td>\n",
       "      <td>0.085925</td>\n",
       "      <td>1.000000</td>\n",
       "      <td>0.012694</td>\n",
       "      <td>-0.011770</td>\n",
       "      <td>0.088017</td>\n",
       "      <td>0.060743</td>\n",
       "      <td>-0.073893</td>\n",
       "    </tr>\n",
       "    <tr>\n",
       "      <th>Direct_tilt</th>\n",
       "      <td>-0.078411</td>\n",
       "      <td>-0.072119</td>\n",
       "      <td>-0.112939</td>\n",
       "      <td>-0.046914</td>\n",
       "      <td>0.063433</td>\n",
       "      <td>-0.063812</td>\n",
       "      <td>0.012694</td>\n",
       "      <td>1.000000</td>\n",
       "      <td>0.009887</td>\n",
       "      <td>0.072738</td>\n",
       "      <td>-0.037428</td>\n",
       "      <td>-0.024021</td>\n",
       "    </tr>\n",
       "    <tr>\n",
       "      <th>thoracic_slope</th>\n",
       "      <td>-0.089740</td>\n",
       "      <td>-0.063394</td>\n",
       "      <td>-0.063582</td>\n",
       "      <td>-0.067968</td>\n",
       "      <td>0.060477</td>\n",
       "      <td>-0.057286</td>\n",
       "      <td>-0.011770</td>\n",
       "      <td>0.009887</td>\n",
       "      <td>1.000000</td>\n",
       "      <td>0.052451</td>\n",
       "      <td>0.011354</td>\n",
       "      <td>0.009541</td>\n",
       "    </tr>\n",
       "    <tr>\n",
       "      <th>cervical_tilt</th>\n",
       "      <td>0.016750</td>\n",
       "      <td>0.028931</td>\n",
       "      <td>0.063875</td>\n",
       "      <td>-0.000063</td>\n",
       "      <td>-0.039800</td>\n",
       "      <td>0.056576</td>\n",
       "      <td>0.088017</td>\n",
       "      <td>0.072738</td>\n",
       "      <td>0.052451</td>\n",
       "      <td>1.000000</td>\n",
       "      <td>0.057451</td>\n",
       "      <td>0.021243</td>\n",
       "    </tr>\n",
       "    <tr>\n",
       "      <th>sacrum_angle</th>\n",
       "      <td>0.019240</td>\n",
       "      <td>0.032859</td>\n",
       "      <td>0.057199</td>\n",
       "      <td>0.000207</td>\n",
       "      <td>0.029738</td>\n",
       "      <td>0.023021</td>\n",
       "      <td>0.060743</td>\n",
       "      <td>-0.037428</td>\n",
       "      <td>0.011354</td>\n",
       "      <td>0.057451</td>\n",
       "      <td>1.000000</td>\n",
       "      <td>0.015337</td>\n",
       "    </tr>\n",
       "    <tr>\n",
       "      <th>scoliosis_slope</th>\n",
       "      <td>-0.007251</td>\n",
       "      <td>-0.056550</td>\n",
       "      <td>-0.049054</td>\n",
       "      <td>0.032853</td>\n",
       "      <td>-0.030145</td>\n",
       "      <td>-0.041023</td>\n",
       "      <td>-0.073893</td>\n",
       "      <td>-0.024021</td>\n",
       "      <td>0.009541</td>\n",
       "      <td>0.021243</td>\n",
       "      <td>0.015337</td>\n",
       "      <td>1.000000</td>\n",
       "    </tr>\n",
       "  </tbody>\n",
       "</table>\n",
       "</div>"
      ],
      "text/plain": [
       "                          pelvic_incidence  pelvic tilt  \\\n",
       "pelvic_incidence                  1.000000     0.629199   \n",
       "pelvic tilt                       0.629199     1.000000   \n",
       "lumbar_lordosis_angle             0.717282     0.432764   \n",
       "sacral_slope                      0.814960     0.062345   \n",
       "pelvic_radius                    -0.247467     0.032668   \n",
       "degree_spondylolisthesis          0.638743     0.397862   \n",
       "pelvic_slope                      0.043290     0.008852   \n",
       "Direct_tilt                      -0.078411    -0.072119   \n",
       "thoracic_slope                   -0.089740    -0.063394   \n",
       "cervical_tilt                     0.016750     0.028931   \n",
       "sacrum_angle                      0.019240     0.032859   \n",
       "scoliosis_slope                  -0.007251    -0.056550   \n",
       "\n",
       "                          lumbar_lordosis_angle  sacral_slope  pelvic_radius  \\\n",
       "pelvic_incidence                       0.717282      0.814960      -0.247467   \n",
       "pelvic tilt                            0.432764      0.062345       0.032668   \n",
       "lumbar_lordosis_angle                  1.000000      0.598387      -0.080344   \n",
       "sacral_slope                           0.598387      1.000000      -0.342128   \n",
       "pelvic_radius                         -0.080344     -0.342128       1.000000   \n",
       "degree_spondylolisthesis               0.533667      0.523557      -0.026065   \n",
       "pelvic_slope                           0.029486      0.048988       0.015767   \n",
       "Direct_tilt                           -0.112939     -0.046914       0.063433   \n",
       "thoracic_slope                        -0.063582     -0.067968       0.060477   \n",
       "cervical_tilt                          0.063875     -0.000063      -0.039800   \n",
       "sacrum_angle                           0.057199      0.000207       0.029738   \n",
       "scoliosis_slope                       -0.049054      0.032853      -0.030145   \n",
       "\n",
       "                          degree_spondylolisthesis  pelvic_slope  Direct_tilt  \\\n",
       "pelvic_incidence                          0.638743      0.043290    -0.078411   \n",
       "pelvic tilt                               0.397862      0.008852    -0.072119   \n",
       "lumbar_lordosis_angle                     0.533667      0.029486    -0.112939   \n",
       "sacral_slope                              0.523557      0.048988    -0.046914   \n",
       "pelvic_radius                            -0.026065      0.015767     0.063433   \n",
       "degree_spondylolisthesis                  1.000000      0.085925    -0.063812   \n",
       "pelvic_slope                              0.085925      1.000000     0.012694   \n",
       "Direct_tilt                              -0.063812      0.012694     1.000000   \n",
       "thoracic_slope                           -0.057286     -0.011770     0.009887   \n",
       "cervical_tilt                             0.056576      0.088017     0.072738   \n",
       "sacrum_angle                              0.023021      0.060743    -0.037428   \n",
       "scoliosis_slope                          -0.041023     -0.073893    -0.024021   \n",
       "\n",
       "                          thoracic_slope  cervical_tilt  sacrum_angle  \\\n",
       "pelvic_incidence               -0.089740       0.016750      0.019240   \n",
       "pelvic tilt                    -0.063394       0.028931      0.032859   \n",
       "lumbar_lordosis_angle          -0.063582       0.063875      0.057199   \n",
       "sacral_slope                   -0.067968      -0.000063      0.000207   \n",
       "pelvic_radius                   0.060477      -0.039800      0.029738   \n",
       "degree_spondylolisthesis       -0.057286       0.056576      0.023021   \n",
       "pelvic_slope                   -0.011770       0.088017      0.060743   \n",
       "Direct_tilt                     0.009887       0.072738     -0.037428   \n",
       "thoracic_slope                  1.000000       0.052451      0.011354   \n",
       "cervical_tilt                   0.052451       1.000000      0.057451   \n",
       "sacrum_angle                    0.011354       0.057451      1.000000   \n",
       "scoliosis_slope                 0.009541       0.021243      0.015337   \n",
       "\n",
       "                          scoliosis_slope  \n",
       "pelvic_incidence                -0.007251  \n",
       "pelvic tilt                     -0.056550  \n",
       "lumbar_lordosis_angle           -0.049054  \n",
       "sacral_slope                     0.032853  \n",
       "pelvic_radius                   -0.030145  \n",
       "degree_spondylolisthesis        -0.041023  \n",
       "pelvic_slope                    -0.073893  \n",
       "Direct_tilt                     -0.024021  \n",
       "thoracic_slope                   0.009541  \n",
       "cervical_tilt                    0.021243  \n",
       "sacrum_angle                     0.015337  \n",
       "scoliosis_slope                  1.000000  "
      ]
     },
     "execution_count": 11,
     "metadata": {},
     "output_type": "execute_result"
    }
   ],
   "source": [
    "# Seeing the correlation values\n",
    "corr_back"
   ]
  },
  {
   "cell_type": "markdown",
   "metadata": {},
   "source": [
    "- pelvic_incidence is strongly correlated with pelvic tilt, sacral_slope & lumbar_lordosis_angle. This indicates multi-collinearity.\n",
    "\n",
    "- pelvic_tilt and lumbar_lordosis_angle are also correlated (0.43 is significant).\n",
    "\n",
    "- These 4 columns seem to have caused multi-collinearity problem.\n",
    "\n",
    "- Column pelvic_incidence can be considered to remove."
   ]
  },
  {
   "cell_type": "code",
   "execution_count": 12,
   "metadata": {
    "ExecuteTime": {
     "end_time": "2021-10-01T19:51:46.314007Z",
     "start_time": "2021-10-01T19:51:46.139658Z"
    },
    "_uuid": "d5d94b6d7ec0dded9307e74469b65d62577c4281"
   },
   "outputs": [
    {
     "data": {
      "text/html": [
       "<div>\n",
       "<style scoped>\n",
       "    .dataframe tbody tr th:only-of-type {\n",
       "        vertical-align: middle;\n",
       "    }\n",
       "\n",
       "    .dataframe tbody tr th {\n",
       "        vertical-align: top;\n",
       "    }\n",
       "\n",
       "    .dataframe thead th {\n",
       "        text-align: right;\n",
       "    }\n",
       "</style>\n",
       "<table border=\"1\" class=\"dataframe\">\n",
       "  <thead>\n",
       "    <tr style=\"text-align: right;\">\n",
       "      <th></th>\n",
       "      <th>pelvic_incidence</th>\n",
       "      <th>pelvic tilt</th>\n",
       "      <th>lumbar_lordosis_angle</th>\n",
       "      <th>sacral_slope</th>\n",
       "      <th>pelvic_radius</th>\n",
       "      <th>degree_spondylolisthesis</th>\n",
       "      <th>pelvic_slope</th>\n",
       "      <th>Direct_tilt</th>\n",
       "      <th>thoracic_slope</th>\n",
       "      <th>cervical_tilt</th>\n",
       "      <th>sacrum_angle</th>\n",
       "      <th>scoliosis_slope</th>\n",
       "    </tr>\n",
       "    <tr>\n",
       "      <th>Status</th>\n",
       "      <th></th>\n",
       "      <th></th>\n",
       "      <th></th>\n",
       "      <th></th>\n",
       "      <th></th>\n",
       "      <th></th>\n",
       "      <th></th>\n",
       "      <th></th>\n",
       "      <th></th>\n",
       "      <th></th>\n",
       "      <th></th>\n",
       "      <th></th>\n",
       "    </tr>\n",
       "  </thead>\n",
       "  <tbody>\n",
       "    <tr>\n",
       "      <th>Abnormal</th>\n",
       "      <td>64.692562</td>\n",
       "      <td>19.791111</td>\n",
       "      <td>55.925370</td>\n",
       "      <td>44.90145</td>\n",
       "      <td>115.077713</td>\n",
       "      <td>37.777705</td>\n",
       "      <td>0.483979</td>\n",
       "      <td>21.085875</td>\n",
       "      <td>12.948913</td>\n",
       "      <td>12.132737</td>\n",
       "      <td>-13.826677</td>\n",
       "      <td>25.146915</td>\n",
       "    </tr>\n",
       "    <tr>\n",
       "      <th>Normal</th>\n",
       "      <td>51.685244</td>\n",
       "      <td>12.821414</td>\n",
       "      <td>43.542605</td>\n",
       "      <td>38.86383</td>\n",
       "      <td>123.890834</td>\n",
       "      <td>2.186572</td>\n",
       "      <td>0.449880</td>\n",
       "      <td>21.816394</td>\n",
       "      <td>13.307268</td>\n",
       "      <td>11.514534</td>\n",
       "      <td>-14.528711</td>\n",
       "      <td>26.694019</td>\n",
       "    </tr>\n",
       "  </tbody>\n",
       "</table>\n",
       "</div>"
      ],
      "text/plain": [
       "          pelvic_incidence  pelvic tilt  lumbar_lordosis_angle  sacral_slope  \\\n",
       "Status                                                                         \n",
       "Abnormal         64.692562    19.791111              55.925370      44.90145   \n",
       "Normal           51.685244    12.821414              43.542605      38.86383   \n",
       "\n",
       "          pelvic_radius  degree_spondylolisthesis  pelvic_slope  Direct_tilt  \\\n",
       "Status                                                                         \n",
       "Abnormal     115.077713                 37.777705      0.483979    21.085875   \n",
       "Normal       123.890834                  2.186572      0.449880    21.816394   \n",
       "\n",
       "          thoracic_slope  cervical_tilt  sacrum_angle  scoliosis_slope  \n",
       "Status                                                                  \n",
       "Abnormal       12.948913      12.132737    -13.826677        25.146915  \n",
       "Normal         13.307268      11.514534    -14.528711        26.694019  "
      ]
     },
     "execution_count": 12,
     "metadata": {},
     "output_type": "execute_result"
    }
   ],
   "source": [
    "# Checking out the mean difference\n",
    "back_data.groupby('Status').mean()"
   ]
  },
  {
   "cell_type": "markdown",
   "metadata": {},
   "source": [
    "#### Till pelvic_slope, the mean values seem all different from each other. But pelvic_slope onwards, the values are close."
   ]
  },
  {
   "cell_type": "code",
   "execution_count": 13,
   "metadata": {
    "ExecuteTime": {
     "end_time": "2021-10-01T19:51:46.495119Z",
     "start_time": "2021-10-01T19:51:46.316993Z"
    },
    "_uuid": "2a981585b6de217e0bc0972ebd573d54511788f6"
   },
   "outputs": [
    {
     "data": {
      "text/html": [
       "<div>\n",
       "<style scoped>\n",
       "    .dataframe tbody tr th:only-of-type {\n",
       "        vertical-align: middle;\n",
       "    }\n",
       "\n",
       "    .dataframe tbody tr th {\n",
       "        vertical-align: top;\n",
       "    }\n",
       "\n",
       "    .dataframe thead th {\n",
       "        text-align: right;\n",
       "    }\n",
       "</style>\n",
       "<table border=\"1\" class=\"dataframe\">\n",
       "  <thead>\n",
       "    <tr style=\"text-align: right;\">\n",
       "      <th></th>\n",
       "      <th>pelvic_incidence</th>\n",
       "      <th>pelvic tilt</th>\n",
       "      <th>lumbar_lordosis_angle</th>\n",
       "      <th>sacral_slope</th>\n",
       "      <th>pelvic_radius</th>\n",
       "      <th>degree_spondylolisthesis</th>\n",
       "      <th>pelvic_slope</th>\n",
       "      <th>Direct_tilt</th>\n",
       "      <th>thoracic_slope</th>\n",
       "      <th>cervical_tilt</th>\n",
       "      <th>sacrum_angle</th>\n",
       "      <th>scoliosis_slope</th>\n",
       "    </tr>\n",
       "    <tr>\n",
       "      <th>Status</th>\n",
       "      <th></th>\n",
       "      <th></th>\n",
       "      <th></th>\n",
       "      <th></th>\n",
       "      <th></th>\n",
       "      <th></th>\n",
       "      <th></th>\n",
       "      <th></th>\n",
       "      <th></th>\n",
       "      <th></th>\n",
       "      <th></th>\n",
       "      <th></th>\n",
       "    </tr>\n",
       "  </thead>\n",
       "  <tbody>\n",
       "    <tr>\n",
       "      <th>Abnormal</th>\n",
       "      <td>65.274888</td>\n",
       "      <td>18.798899</td>\n",
       "      <td>56.150000</td>\n",
       "      <td>44.639597</td>\n",
       "      <td>115.650323</td>\n",
       "      <td>31.946516</td>\n",
       "      <td>0.501280</td>\n",
       "      <td>21.7506</td>\n",
       "      <td>12.77005</td>\n",
       "      <td>11.973735</td>\n",
       "      <td>-14.892070</td>\n",
       "      <td>24.50940</td>\n",
       "    </tr>\n",
       "    <tr>\n",
       "      <th>Normal</th>\n",
       "      <td>50.123115</td>\n",
       "      <td>13.482435</td>\n",
       "      <td>42.638923</td>\n",
       "      <td>37.059694</td>\n",
       "      <td>123.874328</td>\n",
       "      <td>1.152710</td>\n",
       "      <td>0.418732</td>\n",
       "      <td>22.4146</td>\n",
       "      <td>13.40975</td>\n",
       "      <td>11.330750</td>\n",
       "      <td>-13.974694</td>\n",
       "      <td>27.72795</td>\n",
       "    </tr>\n",
       "  </tbody>\n",
       "</table>\n",
       "</div>"
      ],
      "text/plain": [
       "          pelvic_incidence  pelvic tilt  lumbar_lordosis_angle  sacral_slope  \\\n",
       "Status                                                                         \n",
       "Abnormal         65.274888    18.798899              56.150000     44.639597   \n",
       "Normal           50.123115    13.482435              42.638923     37.059694   \n",
       "\n",
       "          pelvic_radius  degree_spondylolisthesis  pelvic_slope  Direct_tilt  \\\n",
       "Status                                                                         \n",
       "Abnormal     115.650323                 31.946516      0.501280      21.7506   \n",
       "Normal       123.874328                  1.152710      0.418732      22.4146   \n",
       "\n",
       "          thoracic_slope  cervical_tilt  sacrum_angle  scoliosis_slope  \n",
       "Status                                                                  \n",
       "Abnormal        12.77005      11.973735    -14.892070         24.50940  \n",
       "Normal          13.40975      11.330750    -13.974694         27.72795  "
      ]
     },
     "execution_count": 13,
     "metadata": {},
     "output_type": "execute_result"
    }
   ],
   "source": [
    "# Checking out the median difference\n",
    "back_data.groupby('Status').median()"
   ]
  },
  {
   "cell_type": "markdown",
   "metadata": {},
   "source": [
    "#### The degree_spondylolisthesis as a discriminatory variable is evident.\n",
    "\n",
    "#### Median values are comparable for the last 6, compared to the first 6, where the median values seem to be significantly away from each other."
   ]
  },
  {
   "cell_type": "code",
   "execution_count": 14,
   "metadata": {
    "ExecuteTime": {
     "end_time": "2021-10-01T19:51:49.175512Z",
     "start_time": "2021-10-01T19:51:46.499075Z"
    },
    "_uuid": "5672c2a87c6c2f89a6fc19977987126d32bdb0cb",
    "scrolled": false
   },
   "outputs": [
    {
     "data": {
      "image/png": "[encoded data removed]",
      "text/plain": [
       "<Figure size 1080x1080 with 12 Axes>"
      ]
     },
     "metadata": {
      "needs_background": "light"
     },
     "output_type": "display_data"
    }
   ],
   "source": [
    "## Generating 3*4 matrix of box plots\n",
    "fig, axes = plt.subplots(3, 4, figsize = (15,15))\n",
    "axes = axes.flatten()\n",
    "\n",
    "for i in range(0,len(back_data.columns)-1):\n",
    "    sns.boxplot(x=\"Status\", y=back_data.iloc[:,i], data=back_data, orient='v', ax=axes[i])\n",
    "\n",
    "plt.tight_layout()\n",
    "plt.show()"
   ]
  },
  {
   "cell_type": "markdown",
   "metadata": {},
   "source": [
    "### OBSERVATIONS:\n",
    "-> In degree_spondylolisthesis vs Status boxplot, we notice distinct change in the value of degree_spondylolisthesis when u go from normal scenario to abnormal scenario. There is a clear differentiation between the normal and abnormal data.\n",
    "\n",
    "->Therefore, degree_spondylolisthesis could be one of the discriminatory variable.\n",
    "\n",
    "->Sacram_angle is non-discriminatory. There is hardly any area where there's no overlap.\n",
    "Most of the things are similar with similar range of values.\n",
    "\n",
    "-> It can be seen that the first six have discriminatory power.\n"
   ]
  },
  {
   "cell_type": "code",
   "execution_count": 15,
   "metadata": {
    "ExecuteTime": {
     "end_time": "2021-10-01T19:51:49.755152Z",
     "start_time": "2021-10-01T19:51:49.180466Z"
    }
   },
   "outputs": [
    {
     "data": {
      "image/png": "[encoded data removed]",
      "text/plain": [
       "<Figure size 720x720 with 1 Axes>"
      ]
     },
     "metadata": {
      "needs_background": "light"
     },
     "output_type": "display_data"
    }
   ],
   "source": [
    "plt.figure(figsize=(10,10))\n",
    "ax = sns.scatterplot(x=\"Direct_tilt\", y=\"pelvic_radius\", hue = \"Status\", data = back_data, palette =['red','green'])\n",
    "plt.show()"
   ]
  },
  {
   "cell_type": "code",
   "execution_count": 16,
   "metadata": {
    "ExecuteTime": {
     "end_time": "2021-10-01T19:51:50.110738Z",
     "start_time": "2021-10-01T19:51:49.761859Z"
    }
   },
   "outputs": [
    {
     "data": {
      "image/png": "[encoded data removed]",
      "text/plain": [
       "<Figure size 720x720 with 1 Axes>"
      ]
     },
     "metadata": {
      "needs_background": "light"
     },
     "output_type": "display_data"
    }
   ],
   "source": [
    "plt.figure(figsize=(10,10))\n",
    "ax = sns.scatterplot(y=\"degree_spondylolisthesis\", x=\"pelvic_radius\", hue = \"Status\", data = back_data, palette =['red','green'])\n",
    "plt.show()"
   ]
  },
  {
   "cell_type": "markdown",
   "metadata": {},
   "source": [
    "#### Scatter-plot of 'degree_spondylolisthesis' and 'pelvic_radius' shows that the classes are seperable by linear boundary, although there is some degree of error here."
   ]
  },
  {
   "cell_type": "code",
   "execution_count": 17,
   "metadata": {
    "ExecuteTime": {
     "end_time": "2021-10-01T19:51:50.500297Z",
     "start_time": "2021-10-01T19:51:50.116722Z"
    }
   },
   "outputs": [
    {
     "data": {
      "image/png": "[encoded data removed]",
      "text/plain": [
       "<Figure size 720x720 with 1 Axes>"
      ]
     },
     "metadata": {
      "needs_background": "light"
     },
     "output_type": "display_data"
    }
   ],
   "source": [
    "plt.figure(figsize=(10,10))\n",
    "ax = sns.scatterplot(y=\"degree_spondylolisthesis\", x=\"pelvic_slope\", hue = \"Status\", data = back_data, palette =['red','green'])\n",
    "plt.show()"
   ]
  },
  {
   "cell_type": "markdown",
   "metadata": {},
   "source": [
    "#### Again, with these pair of variables (from the set of first six), the classes are seperable by a linear boundary."
   ]
  },
  {
   "cell_type": "code",
   "execution_count": 18,
   "metadata": {
    "ExecuteTime": {
     "end_time": "2021-10-01T19:51:50.554558Z",
     "start_time": "2021-10-01T19:51:50.504283Z"
    },
    "_uuid": "7ae643d9a3ddf74c97c97fefa016f14cc207e6b8"
   },
   "outputs": [],
   "source": [
    "# Converting Normal->0 and abnormal->1, in Status column\n",
    "back_data.loc[back_data.Status=='Abnormal','Status'] = 1\n",
    "back_data.loc[back_data.Status=='Normal','Status'] = 0"
   ]
  },
  {
   "cell_type": "code",
   "execution_count": 19,
   "metadata": {
    "ExecuteTime": {
     "end_time": "2021-10-01T19:51:50.695674Z",
     "start_time": "2021-10-01T19:51:50.557533Z"
    },
    "_uuid": "d588a2896d3be010e52c3cadc287ac304be2b4bd"
   },
   "outputs": [],
   "source": [
    "# Status column goes into y-dataframe, everyhting else goes into X-dataframe\n",
    "X = back_data.loc[:, back_data.columns != \"Status\"]\n",
    "y = back_data.loc[:, back_data.columns == \"Status\"]"
   ]
  },
  {
   "cell_type": "code",
   "execution_count": 20,
   "metadata": {
    "ExecuteTime": {
     "end_time": "2021-10-01T19:51:50.839156Z",
     "start_time": "2021-10-01T19:51:50.698629Z"
    }
   },
   "outputs": [
    {
     "data": {
      "text/plain": [
       "Index(['pelvic_incidence', 'pelvic tilt', 'lumbar_lordosis_angle',\n",
       "       'sacral_slope', 'pelvic_radius', 'degree_spondylolisthesis',\n",
       "       'pelvic_slope', 'Direct_tilt', 'thoracic_slope', 'cervical_tilt',\n",
       "       'sacrum_angle', 'scoliosis_slope'],\n",
       "      dtype='object')"
      ]
     },
     "execution_count": 20,
     "metadata": {},
     "output_type": "execute_result"
    }
   ],
   "source": [
    "X.columns"
   ]
  },
  {
   "cell_type": "code",
   "execution_count": 21,
   "metadata": {
    "ExecuteTime": {
     "end_time": "2021-10-01T19:51:50.952355Z",
     "start_time": "2021-10-01T19:51:50.842767Z"
    },
    "_uuid": "bcdcebb8e975d4283098da23cfdf94029e05b758"
   },
   "outputs": [],
   "source": [
    "# Pipeline created for data-preprocessing (Splitting +Scaling)\n",
    "# Building the model by SK Learn\n",
    "def data_preprocess(X,y):\n",
    "    X_train, X_test, y_train, y_test = train_test_split(X, y.values.ravel(), test_size=0.3, random_state=0) #70:30 train-test split\n",
    "    #X_train, X_test, y_train, y_test created\n",
    "    from sklearn.preprocessing import StandardScaler\n",
    "    scaler = StandardScaler(copy=True, with_mean=True, with_std=True)\n",
    "    \n",
    "    scaler.fit(X_train)\n",
    "\n",
    "    # Now apply the Z-transformation to the data:\n",
    "    train_scaled = scaler.transform(X_train)\n",
    "    test_scaled = scaler.transform(X_test)\n",
    "    y_train=y_train.astype('int')\n",
    "    y_test=y_test.astype('int')\n",
    "    return(train_scaled, test_scaled, y_train, y_test)"
   ]
  },
  {
   "cell_type": "markdown",
   "metadata": {},
   "source": [
    "#### (x-mu)/sigma done to do standard scaling.\n",
    "\n",
    "#### y(Output column) is not scaled"
   ]
  },
  {
   "cell_type": "code",
   "execution_count": 22,
   "metadata": {
    "ExecuteTime": {
     "end_time": "2021-10-01T19:51:51.108838Z",
     "start_time": "2021-10-01T19:51:50.955160Z"
    },
    "_uuid": "6b3af39348e13776ed9e2e668b87728f91272ccb"
   },
   "outputs": [],
   "source": [
    "def logistic_regression(x,y):\n",
    "    logreg = LogisticRegression().fit(x, y) #LogisticRegression function has been imported from SK Learn\n",
    "    return(logreg)"
   ]
  },
  {
   "cell_type": "code",
   "execution_count": 23,
   "metadata": {
    "ExecuteTime": {
     "end_time": "2021-10-01T19:51:51.271934Z",
     "start_time": "2021-10-01T19:51:51.108838Z"
    }
   },
   "outputs": [],
   "source": [
    "X_train_scaled, X_test_scaled, y_train, y_test = data_preprocess(X,y)"
   ]
  },
  {
   "cell_type": "code",
   "execution_count": 24,
   "metadata": {
    "ExecuteTime": {
     "end_time": "2021-10-01T19:51:52.705444Z",
     "start_time": "2021-10-01T19:51:51.274932Z"
    }
   },
   "outputs": [],
   "source": [
    "logreg_result = logistic_regression(X_train_scaled, y_train)"
   ]
  },
  {
   "cell_type": "code",
   "execution_count": 25,
   "metadata": {
    "ExecuteTime": {
     "end_time": "2021-10-01T19:51:52.726355Z",
     "start_time": "2021-10-01T19:51:52.714388Z"
    },
    "_uuid": "ab02e7254146b8c317b3d9caf30a8f6eb98008a9"
   },
   "outputs": [
    {
     "name": "stdout",
     "output_type": "stream",
     "text": [
      "Training set score: 0.876\n",
      "Test set score: 0.817\n"
     ]
    }
   ],
   "source": [
    "print(\"Training set score: {:.3f}\".format(logreg_result.score(X_train_scaled,y_train)))\n",
    "print(\"Test set score: {:.3f}\".format(logreg_result.score(X_test_scaled,y_test)))"
   ]
  },
  {
   "cell_type": "markdown",
   "metadata": {},
   "source": [
    "The score method gives a sense of how our model is doing. \n",
    "\n",
    "This score method computes the mis-classification accuracy.\n",
    "\n",
    "Thinking in terms of Confusion matrix, it computes (TP+TN)/(All Predictions)\n",
    "\n",
    "Results of test and train data, shows that these are comparable numbers. So, the model is generalisable."
   ]
  },
  {
   "cell_type": "code",
   "execution_count": 26,
   "metadata": {
    "ExecuteTime": {
     "end_time": "2021-10-01T19:51:54.026498Z",
     "start_time": "2021-10-01T19:51:52.731343Z"
    },
    "_uuid": "9afeb023dfd9075e7ec3b65ba602e6c0ab4d8692"
   },
   "outputs": [
    {
     "name": "stdout",
     "output_type": "stream",
     "text": [
      "Warning: Maximum number of iterations has been exceeded.\n",
      "         Current function value: 0.473055\n",
      "         Iterations: 35\n"
     ]
    },
    {
     "name": "stderr",
     "output_type": "stream",
     "text": [
      "D:\\Anaconda_Python\\lib\\site-packages\\statsmodels\\base\\model.py:567: ConvergenceWarning: Maximum Likelihood optimization failed to converge. Check mle_retvals\n",
      "  warn(\"Maximum Likelihood optimization failed to converge. \"\n"
     ]
    },
    {
     "name": "stdout",
     "output_type": "stream",
     "text": [
      "                           Results: Logit\n",
      "=====================================================================\n",
      "Model:                Logit             Pseudo R-squared:  0.248     \n",
      "Dependent Variable:   y                 AIC:               229.3058  \n",
      "Date:                 2021-10-02 01:21  BIC:               269.8646  \n",
      "No. Observations:     217               Log-Likelihood:    -102.65   \n",
      "Df Model:             11                LL-Null:           -136.45   \n",
      "Df Residuals:         205               LLR p-value:       3.4943e-10\n",
      "Converged:            0.0000            Scale:             1.0000    \n",
      "No. Iterations:       35.0000                                        \n",
      "---------------------------------------------------------------------\n",
      "     Coef.     Std.Err.      z    P>|z|      [0.025         0.975]   \n",
      "---------------------------------------------------------------------\n",
      "x1   0.0814 11580039.8361  0.0000 1.0000 -22696460.9368 22696461.0996\n",
      "x2   0.0765  6600560.9761  0.0000 1.0000 -12936861.7143 12936861.8674\n",
      "x3  -0.2797        0.3142 -0.8904 0.3733        -0.8955        0.3361\n",
      "x4  -0.5412  9111339.5244 -0.0000 1.0000 -17857897.8599 17857896.7775\n",
      "x5  -1.1234        0.2351 -4.7773 0.0000        -1.5842       -0.6625\n",
      "x6   2.3250        0.4401  5.2832 0.0000         1.4625        3.1875\n",
      "x7   0.1711        0.1790  0.9561 0.3390        -0.1797        0.5220\n",
      "x8  -0.2115        0.1770 -1.1950 0.2321        -0.5583        0.1354\n",
      "x9   0.0724        0.1738  0.4166 0.6770        -0.2683        0.4131\n",
      "x10  0.2003        0.1772  1.1301 0.2584        -0.1471        0.5476\n",
      "x11 -0.1042        0.1804 -0.5778 0.5634        -0.4578        0.2493\n",
      "x12 -0.2749        0.1764 -1.5579 0.1193        -0.6207        0.0709\n",
      "=====================================================================\n",
      "\n"
     ]
    }
   ],
   "source": [
    "# While the previous model implemented was good in predicting the Target variable on a test set, \n",
    "# We did not interpret anything about the individual features - which variable(s) influence the Target variable more.\n",
    "#Stats Model used, Logit fn used from SM\n",
    "\n",
    "logit_model = sm.Logit(y_train, X_train_scaled)\n",
    "result = logit_model.fit()\n",
    "print(result.summary2())"
   ]
  },
  {
   "cell_type": "markdown",
   "metadata": {
    "_uuid": "3ea795f74a1be5edcddf2061a4ebc1c533df6626"
   },
   "source": [
    "## Understanding the model result summary\n",
    "\n",
    " - The above model did not converge because some variables were highly correlated with each other and this would have led to the correlation/ covariance matrix to be singular. \n",
    " - In fact, it was very intersting to note that in our data, the Pelvic Incidence column values are an exact sum of Pelvic Tilt and Sacral Slope. So that explains.\n",
    " - Also in our statistical test results, the Standard error values are very high and p-value is 1 for these three variables. Hence we will remove them and re run the model. "
   ]
  },
  {
   "cell_type": "code",
   "execution_count": 27,
   "metadata": {
    "ExecuteTime": {
     "end_time": "2021-10-01T19:51:54.040460Z",
     "start_time": "2021-10-01T19:51:54.030488Z"
    }
   },
   "outputs": [],
   "source": [
    "#Removing the highly correlated variables which also had high standard error. Choosing to keep pelvic_incidence\n",
    "cols_to_include = [cols for cols in X.columns if cols not in ['lumbar_lordosis_angle', 'pelvic tilt','sacral_slope']] #'pelvic tilt','sacral_slope'\n",
    "X = back_data[cols_to_include]"
   ]
  },
  {
   "cell_type": "code",
   "execution_count": 28,
   "metadata": {
    "ExecuteTime": {
     "end_time": "2021-10-01T19:51:54.268907Z",
     "start_time": "2021-10-01T19:51:54.048438Z"
    },
    "_uuid": "d70534e20ba22ff158669774dec9efd5072e3cc5"
   },
   "outputs": [],
   "source": [
    "#Removing the highly correlated variables which also had high standard error\n",
    "cols_to_include = [cols for cols in X.columns if cols not in ['lumbar_lordosis_angle', 'pelvic_incidence']] #'pelvic tilt','sacral_slope'\n",
    "X = back_data[cols_to_include]"
   ]
  },
  {
   "cell_type": "code",
   "execution_count": 29,
   "metadata": {
    "ExecuteTime": {
     "end_time": "2021-10-01T19:51:54.452537Z",
     "start_time": "2021-10-01T19:51:54.272896Z"
    }
   },
   "outputs": [],
   "source": [
    "#Removing the highly correlated variables which also had high standard error\n",
    "cols_to_include1 = [cols for cols in X.columns if cols not in ['lumbar_lordosis_angle', 'pelvic_incidence']] #'pelvic tilt','sacral_slope'\n",
    "X = back_data[cols_to_include1]\n"
   ]
  },
  {
   "cell_type": "code",
   "execution_count": 30,
   "metadata": {
    "ExecuteTime": {
     "end_time": "2021-10-01T19:51:54.667110Z",
     "start_time": "2021-10-01T19:51:54.456478Z"
    },
    "_uuid": "d4434a23b84fb7060183a4d1c3867adf42081851",
    "scrolled": true
   },
   "outputs": [
    {
     "name": "stdout",
     "output_type": "stream",
     "text": [
      "Training set score: 0.857\n",
      "Test set score: 0.796\n"
     ]
    }
   ],
   "source": [
    "X_train_scaled, X_test_scaled, y_train, y_test = data_preprocess(X,y)\n",
    "\n",
    "logreg_result = logistic_regression(X_train_scaled, y_train) #log_reg  is the model object  used, prior to using .predict\n",
    "\n",
    "print(\"Training set score: {:.3f}\".format(logreg_result.score(X_train_scaled,y_train)))\n",
    "print(\"Test set score: {:.3f}\".format(logreg_result.score(X_test_scaled,y_test)))"
   ]
  },
  {
   "cell_type": "markdown",
   "metadata": {},
   "source": [
    "#### Generalisability is there, but the accuracy has gone down."
   ]
  },
  {
   "cell_type": "code",
   "execution_count": 31,
   "metadata": {
    "ExecuteTime": {
     "end_time": "2021-10-01T19:51:54.772442Z",
     "start_time": "2021-10-01T19:51:54.671100Z"
    }
   },
   "outputs": [
    {
     "data": {
      "text/plain": [
       "['pelvic_radius',\n",
       " 'degree_spondylolisthesis',\n",
       " 'pelvic_slope',\n",
       " 'Direct_tilt',\n",
       " 'thoracic_slope',\n",
       " 'cervical_tilt',\n",
       " 'sacrum_angle',\n",
       " 'scoliosis_slope']"
      ]
     },
     "execution_count": 31,
     "metadata": {},
     "output_type": "execute_result"
    }
   ],
   "source": [
    "cols_to_include"
   ]
  },
  {
   "cell_type": "markdown",
   "metadata": {
    "_uuid": "4f92de61e5d3c9fe09e954e1e82eefc6d9fbbd7f"
   },
   "source": [
    "The test results indicate that the predictive power has gone down after removing the highly correlated variables. Let us look at the statistical summary below."
   ]
  },
  {
   "cell_type": "code",
   "execution_count": 32,
   "metadata": {
    "ExecuteTime": {
     "end_time": "2021-10-01T19:51:54.941992Z",
     "start_time": "2021-10-01T19:51:54.776424Z"
    },
    "_uuid": "181e028da6b161038e67fb990dddd79fde7b493f"
   },
   "outputs": [
    {
     "name": "stdout",
     "output_type": "stream",
     "text": [
      "Optimization terminated successfully.\n",
      "         Current function value: 0.492672\n",
      "         Iterations 6\n",
      "                         Results: Logit\n",
      "=================================================================\n",
      "Model:              Logit            Pseudo R-squared: 0.216     \n",
      "Dependent Variable: y                AIC:              229.8196  \n",
      "Date:               2021-10-02 01:21 BIC:              256.8588  \n",
      "No. Observations:   217              Log-Likelihood:   -106.91   \n",
      "Df Model:           7                LL-Null:          -136.45   \n",
      "Df Residuals:       209              LLR p-value:      2.3044e-10\n",
      "Converged:          1.0000           Scale:            1.0000    \n",
      "No. Iterations:     6.0000                                       \n",
      "--------------------------------------------------------------------\n",
      "       Coef.     Std.Err.       z       P>|z|      [0.025     0.975]\n",
      "--------------------------------------------------------------------\n",
      "x1    -0.9124      0.2040    -4.4732    0.0000    -1.3121    -0.5126\n",
      "x2     1.6950      0.2635     6.4324    0.0000     1.1785     2.2115\n",
      "x3     0.1335      0.1734     0.7695    0.4416    -0.2065     0.4734\n",
      "x4    -0.1804      0.1691    -1.0669    0.2860    -0.5119     0.1510\n",
      "x5     0.0426      0.1694     0.2517    0.8013    -0.2894     0.3746\n",
      "x6     0.2252      0.1716     1.3123    0.1894    -0.1111     0.5615\n",
      "x7    -0.1035      0.1744    -0.5931    0.5531    -0.4453     0.2384\n",
      "x8    -0.2738      0.1727    -1.5855    0.1129    -0.6122     0.0647\n",
      "=================================================================\n",
      "\n"
     ]
    }
   ],
   "source": [
    "# to get the statistical summary of the new model\n",
    "logit_model=sm.Logit(y_train,X_train_scaled)\n",
    "result=logit_model.fit()\n",
    "print(result.summary2())"
   ]
  },
  {
   "cell_type": "markdown",
   "metadata": {},
   "source": [
    "#### No Convergence error indicates optimisation has been reached. No multicollinearity."
   ]
  },
  {
   "cell_type": "code",
   "execution_count": 33,
   "metadata": {
    "ExecuteTime": {
     "end_time": "2021-10-01T19:51:55.026768Z",
     "start_time": "2021-10-01T19:51:54.946984Z"
    },
    "_uuid": "4bae1b585c5f4108fea6903f9440dec672031994"
   },
   "outputs": [],
   "source": [
    "# considering only the variables which have p-value less than 0.05\n",
    "X_trim_1 = back_data.loc[:,['pelvic_radius','degree_spondylolisthesis','sacral_slope']]"
   ]
  },
  {
   "cell_type": "code",
   "execution_count": 34,
   "metadata": {
    "ExecuteTime": {
     "end_time": "2021-10-01T19:51:55.161409Z",
     "start_time": "2021-10-01T19:51:55.030756Z"
    },
    "_uuid": "f2166b9ab4eb654a4baf6277dc5f4bdfc29f129f"
   },
   "outputs": [
    {
     "name": "stdout",
     "output_type": "stream",
     "text": [
      "Training set score: 0.866\n",
      "Test set score: 0.828\n"
     ]
    }
   ],
   "source": [
    "X_train_scaled, X_test_scaled, y_train, y_test = data_preprocess(X_trim_1,y)\n",
    "\n",
    "logreg_result = logistic_regression(X_train_scaled, y_train)\n",
    "\n",
    "print(\"Training set score: {:.3f}\".format(logreg_result.score(X_train_scaled,y_train)))\n",
    "print(\"Test set score: {:.3f}\".format(logreg_result.score(X_test_scaled,y_test)))"
   ]
  },
  {
   "cell_type": "code",
   "execution_count": 35,
   "metadata": {
    "ExecuteTime": {
     "end_time": "2021-10-01T19:51:55.282954Z",
     "start_time": "2021-10-01T19:51:55.165400Z"
    }
   },
   "outputs": [
    {
     "data": {
      "text/html": [
       "<div>\n",
       "<style scoped>\n",
       "    .dataframe tbody tr th:only-of-type {\n",
       "        vertical-align: middle;\n",
       "    }\n",
       "\n",
       "    .dataframe tbody tr th {\n",
       "        vertical-align: top;\n",
       "    }\n",
       "\n",
       "    .dataframe thead th {\n",
       "        text-align: right;\n",
       "    }\n",
       "</style>\n",
       "<table border=\"1\" class=\"dataframe\">\n",
       "  <thead>\n",
       "    <tr style=\"text-align: right;\">\n",
       "      <th></th>\n",
       "      <th>pelvic_radius</th>\n",
       "      <th>degree_spondylolisthesis</th>\n",
       "      <th>sacral_slope</th>\n",
       "    </tr>\n",
       "  </thead>\n",
       "  <tbody>\n",
       "    <tr>\n",
       "      <th>0</th>\n",
       "      <td>98.672917</td>\n",
       "      <td>-0.254400</td>\n",
       "      <td>40.475232</td>\n",
       "    </tr>\n",
       "    <tr>\n",
       "      <th>1</th>\n",
       "      <td>114.405425</td>\n",
       "      <td>4.564259</td>\n",
       "      <td>28.995960</td>\n",
       "    </tr>\n",
       "    <tr>\n",
       "      <th>2</th>\n",
       "      <td>105.985135</td>\n",
       "      <td>-3.530317</td>\n",
       "      <td>46.613539</td>\n",
       "    </tr>\n",
       "    <tr>\n",
       "      <th>3</th>\n",
       "      <td>101.868495</td>\n",
       "      <td>11.211523</td>\n",
       "      <td>44.644130</td>\n",
       "    </tr>\n",
       "    <tr>\n",
       "      <th>4</th>\n",
       "      <td>108.168725</td>\n",
       "      <td>7.918501</td>\n",
       "      <td>40.060784</td>\n",
       "    </tr>\n",
       "    <tr>\n",
       "      <th>...</th>\n",
       "      <td>...</td>\n",
       "      <td>...</td>\n",
       "      <td>...</td>\n",
       "    </tr>\n",
       "    <tr>\n",
       "      <th>305</th>\n",
       "      <td>117.449062</td>\n",
       "      <td>-4.245395</td>\n",
       "      <td>34.286877</td>\n",
       "    </tr>\n",
       "    <tr>\n",
       "      <th>306</th>\n",
       "      <td>114.365845</td>\n",
       "      <td>-0.421010</td>\n",
       "      <td>33.215251</td>\n",
       "    </tr>\n",
       "    <tr>\n",
       "      <th>307</th>\n",
       "      <td>125.670725</td>\n",
       "      <td>-2.707880</td>\n",
       "      <td>38.751628</td>\n",
       "    </tr>\n",
       "    <tr>\n",
       "      <th>308</th>\n",
       "      <td>118.545842</td>\n",
       "      <td>0.214750</td>\n",
       "      <td>36.559635</td>\n",
       "    </tr>\n",
       "    <tr>\n",
       "      <th>309</th>\n",
       "      <td>123.945244</td>\n",
       "      <td>-0.199249</td>\n",
       "      <td>28.767649</td>\n",
       "    </tr>\n",
       "  </tbody>\n",
       "</table>\n",
       "<p>310 rows × 3 columns</p>\n",
       "</div>"
      ],
      "text/plain": [
       "     pelvic_radius  degree_spondylolisthesis  sacral_slope\n",
       "0        98.672917                 -0.254400     40.475232\n",
       "1       114.405425                  4.564259     28.995960\n",
       "2       105.985135                 -3.530317     46.613539\n",
       "3       101.868495                 11.211523     44.644130\n",
       "4       108.168725                  7.918501     40.060784\n",
       "..             ...                       ...           ...\n",
       "305     117.449062                 -4.245395     34.286877\n",
       "306     114.365845                 -0.421010     33.215251\n",
       "307     125.670725                 -2.707880     38.751628\n",
       "308     118.545842                  0.214750     36.559635\n",
       "309     123.945244                 -0.199249     28.767649\n",
       "\n",
       "[310 rows x 3 columns]"
      ]
     },
     "execution_count": 35,
     "metadata": {},
     "output_type": "execute_result"
    }
   ],
   "source": [
    "X_trim_1"
   ]
  },
  {
   "cell_type": "code",
   "execution_count": 36,
   "metadata": {
    "ExecuteTime": {
     "end_time": "2021-10-01T19:51:55.476452Z",
     "start_time": "2021-10-01T19:51:55.286945Z"
    },
    "_uuid": "a46ccac9e40ef9fd66340ec61791f61cf4441d38"
   },
   "outputs": [
    {
     "name": "stdout",
     "output_type": "stream",
     "text": [
      "Optimization terminated successfully.\n",
      "         Current function value: 0.489130\n",
      "         Iterations 7\n",
      "                         Results: Logit\n",
      "=================================================================\n",
      "Model:              Logit            Pseudo R-squared: 0.222     \n",
      "Dependent Variable: y                AIC:              218.2826  \n",
      "Date:               2021-10-02 01:21 BIC:              228.4223  \n",
      "No. Observations:   217              Log-Likelihood:   -106.14   \n",
      "Df Model:           2                LL-Null:          -136.45   \n",
      "Df Residuals:       214              LLR p-value:      6.8758e-14\n",
      "Converged:          1.0000           Scale:            1.0000    \n",
      "No. Iterations:     7.0000                                       \n",
      "--------------------------------------------------------------------\n",
      "       Coef.     Std.Err.       z       P>|z|      [0.025     0.975]\n",
      "--------------------------------------------------------------------\n",
      "x1    -1.1034      0.2320    -4.7566    0.0000    -1.5580    -0.6487\n",
      "x2     2.1952      0.3522     6.2325    0.0000     1.5049     2.8856\n",
      "x3    -0.6405      0.2353    -2.7219    0.0065    -1.1017    -0.1793\n",
      "=================================================================\n",
      "\n"
     ]
    }
   ],
   "source": [
    "logit_model=sm.Logit(y_train,X_train_scaled)\n",
    "result=logit_model.fit()\n",
    "print(result.summary2())"
   ]
  },
  {
   "cell_type": "code",
   "execution_count": 37,
   "metadata": {
    "ExecuteTime": {
     "end_time": "2021-10-01T19:51:55.568228Z",
     "start_time": "2021-10-01T19:51:55.481439Z"
    },
    "_uuid": "b294216656fda6656dd0e99af28559b95b3bbe56"
   },
   "outputs": [],
   "source": [
    "# assigning the model predicted values to y_pred\n",
    "y_pred = logreg_result.predict(X_test_scaled)\n",
    "\n",
    "# assigning the string Normal and Abnormal to the 0 and 1 values respectively. This is useful in plotting, and interpreting. \n",
    "# the confusion matrix\n",
    "y_pred_string = y_pred.astype(str)\n",
    "y_pred_string[np.where(y_pred_string == '0')] = 'Normal'\n",
    "y_pred_string[np.where(y_pred_string == '1')] = 'Abnormal'\n",
    "\n",
    "y_test_string = y_test.astype(str)\n",
    "y_test_string[np.where(y_test_string == '0')] = 'Normal'\n",
    "y_test_string[np.where(y_test_string == '1')] = 'Abnormal'"
   ]
  },
  {
   "cell_type": "code",
   "execution_count": 38,
   "metadata": {
    "ExecuteTime": {
     "end_time": "2021-10-01T19:51:55.747178Z",
     "start_time": "2021-10-01T19:51:55.571191Z"
    }
   },
   "outputs": [
    {
     "data": {
      "text/plain": [
       "array([0, 1, 0, 1, 1, 0, 1, 1, 1, 0, 1, 0, 0, 1, 1, 1, 0, 1, 0, 0, 0, 0,\n",
       "       0, 1, 1, 0, 1, 1, 0, 1, 1, 1, 0, 1, 1, 1, 1, 1, 1, 0, 1, 1, 0, 1,\n",
       "       0, 0, 1, 1, 1, 1, 0, 1, 1, 1, 1, 0, 1, 1, 1, 1, 1, 0, 0, 1, 0, 1,\n",
       "       1, 1, 1, 1, 0, 1, 0, 1, 0, 1, 1, 0, 0, 1, 0, 0, 1, 0, 1, 0, 0, 0,\n",
       "       1, 1, 1, 1, 0])"
      ]
     },
     "execution_count": 38,
     "metadata": {},
     "output_type": "execute_result"
    }
   ],
   "source": [
    "y_pred"
   ]
  },
  {
   "cell_type": "code",
   "execution_count": 39,
   "metadata": {
    "ExecuteTime": {
     "end_time": "2021-10-01T19:51:56.349516Z",
     "start_time": "2021-10-01T19:51:55.751167Z"
    },
    "_uuid": "03452a992109465f16ba28e701520a3c8f60a65c"
   },
   "outputs": [
    {
     "name": "stderr",
     "output_type": "stream",
     "text": [
      "D:\\Anaconda_Python\\lib\\site-packages\\sklearn\\utils\\validation.py:68: FutureWarning: Pass labels=['Abnormal', 'Normal'] as keyword args. From version 0.25 passing these as positional arguments will result in an error\n",
      "  warnings.warn(\"Pass {} as keyword args. From version 0.25 \"\n"
     ]
    },
    {
     "data": {
      "image/png": "[encoded data removed]",
      "text/plain": [
       "<Figure size 432x288 with 2 Axes>"
      ]
     },
     "metadata": {
      "needs_background": "light"
     },
     "output_type": "display_data"
    }
   ],
   "source": [
    "# Gauging model accuracy\n",
    "\n",
    "from sklearn.metrics import confusion_matrix\n",
    "ax= plt.subplot()\n",
    "labels = ['Abnormal','Normal']\n",
    "cm = confusion_matrix(y_test_string, y_pred_string, labels)\n",
    "sns.heatmap(cm, annot=True, ax = ax); #annot=True to annotate cells\n",
    "\n",
    "# labels, title and ticks\n",
    "ax.set_xlabel('Predicted labels');ax.set_ylabel('True labels'); \n",
    "ax.set_title('Confusion Matrix'); \n",
    "ax.xaxis.set_ticklabels(['Abnormal', 'Normal']); ax.yaxis.set_ticklabels(['Abnormal', 'Normal']);\n",
    "plt.show()"
   ]
  },
  {
   "cell_type": "code",
   "execution_count": 118,
   "metadata": {
    "ExecuteTime": {
     "end_time": "2021-10-01T22:05:04.445556Z",
     "start_time": "2021-10-01T22:05:04.430560Z"
    }
   },
   "outputs": [
    {
     "name": "stdout",
     "output_type": "stream",
     "text": [
      "              precision    recall  f1-score   support\n",
      "\n",
      "    Abnormal       0.69      0.83      0.76        30\n",
      "      Normal       0.91      0.83      0.87        63\n",
      "\n",
      "    accuracy                           0.83        93\n",
      "   macro avg       0.80      0.83      0.81        93\n",
      "weighted avg       0.84      0.83      0.83        93\n",
      "\n"
     ]
    }
   ],
   "source": [
    "# Classification report from SK Learn\n",
    "print(classification_report(y_test, y_pred, target_names=labels))"
   ]
  },
  {
   "cell_type": "code",
   "execution_count": 40,
   "metadata": {
    "ExecuteTime": {
     "end_time": "2021-10-01T19:51:56.370028Z",
     "start_time": "2021-10-01T19:51:56.352472Z"
    }
   },
   "outputs": [
    {
     "name": "stdout",
     "output_type": "stream",
     "text": [
      "              precision    recall  f1-score   support\n",
      "\n",
      "    Abnormal       0.69      0.83      0.76        30\n",
      "      Normal       0.91      0.83      0.87        63\n",
      "\n",
      "    accuracy                           0.83        93\n",
      "   macro avg       0.80      0.83      0.81        93\n",
      "weighted avg       0.84      0.83      0.83        93\n",
      "\n"
     ]
    }
   ],
   "source": [
    "# Classification report from SK Learn\n",
    "print(classification_report(y_test, y_pred, target_names=labels))"
   ]
  },
  {
   "cell_type": "markdown",
   "metadata": {},
   "source": [
    "- Balanced metric, F1 score is the Harmonic Mean of precision and recall.\n",
    "- F1 score preferred in case, precision & recall seem equally relevant.\n",
    "- Support is the number of points tht we have belonging to these classes."
   ]
  },
  {
   "cell_type": "code",
   "execution_count": 41,
   "metadata": {
    "ExecuteTime": {
     "end_time": "2021-10-01T19:51:56.468157Z",
     "start_time": "2021-10-01T19:51:56.373020Z"
    }
   },
   "outputs": [],
   "source": [
    "# Scaling - Without scaling , Min max scaling\n",
    "# Dont remove all three correlated columns just the two or the one that solves the problem"
   ]
  },
  {
   "cell_type": "code",
   "execution_count": 42,
   "metadata": {
    "ExecuteTime": {
     "end_time": "2021-10-01T19:51:56.600156Z",
     "start_time": "2021-10-01T19:51:56.468157Z"
    }
   },
   "outputs": [
    {
     "data": {
      "text/plain": [
       "array([0, 1, 0, 1, 1, 0, 1, 1, 1, 0, 1, 0, 0, 1, 1, 1, 0, 1, 0, 0, 0, 0,\n",
       "       0, 1, 1, 0, 1, 1, 0, 1, 1, 1, 0, 1, 1, 1, 1, 1, 1, 0, 1, 1, 0, 1,\n",
       "       0, 0, 1, 1, 1, 1, 0, 1, 1, 1, 1, 0, 1, 1, 1, 1, 1, 0, 0, 1, 0, 1,\n",
       "       1, 1, 1, 1, 0, 1, 0, 1, 0, 1, 1, 0, 0, 1, 0, 0, 1, 0, 1, 0, 0, 0,\n",
       "       1, 1, 1, 1, 0])"
      ]
     },
     "execution_count": 42,
     "metadata": {},
     "output_type": "execute_result"
    }
   ],
   "source": [
    "y_pred"
   ]
  },
  {
   "cell_type": "code",
   "execution_count": 43,
   "metadata": {
    "ExecuteTime": {
     "end_time": "2021-10-01T19:51:56.951319Z",
     "start_time": "2021-10-01T19:51:56.603151Z"
    }
   },
   "outputs": [
    {
     "data": {
      "image/png": "[encoded data removed]",
      "text/plain": [
       "<Figure size 432x288 with 1 Axes>"
      ]
     },
     "metadata": {
      "needs_background": "light"
     },
     "output_type": "display_data"
    },
    {
     "data": {
      "text/plain": [
       "0.8293650793650793"
      ]
     },
     "execution_count": 43,
     "metadata": {},
     "output_type": "execute_result"
    }
   ],
   "source": [
    "from sklearn import metrics\n",
    "fpr, tpr, threshholds = metrics.roc_curve(y_test,  y_pred)\n",
    "auc = metrics.roc_auc_score(y_test, y_pred)#Area under the curve using this function\n",
    "plt.plot(fpr,tpr,label=\"ROC curve , auc=\"+str(auc))\n",
    "plt.legend(loc=4)\n",
    "plt.show()\n",
    "auc"
   ]
  },
  {
   "cell_type": "code",
   "execution_count": 44,
   "metadata": {
    "ExecuteTime": {
     "end_time": "2021-10-01T19:51:57.459920Z",
     "start_time": "2021-10-01T19:51:56.954273Z"
    }
   },
   "outputs": [
    {
     "data": {
      "image/png": "[encoded data removed]",
      "text/plain": [
       "<Figure size 432x288 with 1 Axes>"
      ]
     },
     "metadata": {
      "needs_background": "light"
     },
     "output_type": "display_data"
    },
    {
     "data": {
      "text/plain": [
       "0.8489795918367348"
      ]
     },
     "execution_count": 44,
     "metadata": {},
     "output_type": "execute_result"
    }
   ],
   "source": [
    "y_pred_train = logreg_result.predict(X_train_scaled) # getting predictions using model objects\n",
    "fpr, tpr, threshholds = metrics.roc_curve(y_train,  y_pred_train)\n",
    "auc = metrics.roc_auc_score(y_train,  y_pred_train)\n",
    "plt.plot(fpr,tpr,label=\"ROC curve , auc=\"+str(auc))\n",
    "plt.legend(loc=4)\n",
    "plt.show()\n",
    "\n",
    "auc"
   ]
  },
  {
   "cell_type": "markdown",
   "metadata": {},
   "source": [
    "- Notice that auc is more for train data, as compared to auc for test data.\n",
    "- .predict gives discrete labels, not probabilities using 0.5 threshold in the backend."
   ]
  },
  {
   "cell_type": "code",
   "execution_count": 45,
   "metadata": {
    "ExecuteTime": {
     "end_time": "2021-10-01T19:51:57.477872Z",
     "start_time": "2021-10-01T19:51:57.466902Z"
    }
   },
   "outputs": [
    {
     "data": {
      "text/plain": [
       "array([0, 1, 0, 1, 1, 0, 1, 1, 1, 0, 1, 0, 0, 1, 1, 1, 0, 1, 0, 0, 0, 0,\n",
       "       0, 1, 1, 0, 1, 1, 0, 1, 1, 1, 0, 1, 1, 1, 1, 1, 1, 0, 1, 1, 0, 1,\n",
       "       0, 0, 1, 1, 1, 1, 0, 1, 1, 1, 1, 0, 1, 1, 1, 1, 1, 0, 0, 1, 0, 1,\n",
       "       1, 1, 1, 1, 0, 1, 0, 1, 0, 1, 1, 0, 0, 1, 0, 0, 1, 0, 1, 0, 0, 0,\n",
       "       1, 1, 1, 1, 0])"
      ]
     },
     "execution_count": 45,
     "metadata": {},
     "output_type": "execute_result"
    }
   ],
   "source": [
    "y_pred"
   ]
  },
  {
   "cell_type": "code",
   "execution_count": 95,
   "metadata": {
    "ExecuteTime": {
     "end_time": "2021-10-01T21:15:14.583999Z",
     "start_time": "2021-10-01T21:15:14.574026Z"
    }
   },
   "outputs": [],
   "source": [
    "y_pred_train = logreg_result.predict_proba(X_train_scaled) # gives two probabilities(adding to 1) for every row, as shown below"
   ]
  },
  {
   "cell_type": "code",
   "execution_count": 97,
   "metadata": {
    "ExecuteTime": {
     "end_time": "2021-10-01T21:20:48.497275Z",
     "start_time": "2021-10-01T21:20:48.479321Z"
    }
   },
   "outputs": [
    {
     "data": {
      "text/plain": [
       "array([[4.07791877e-02, 9.59220812e-01],\n",
       "       [8.36692697e-01, 1.63307303e-01],\n",
       "       [5.55793483e-01, 4.44206517e-01],\n",
       "       [5.67902337e-04, 9.99432098e-01],\n",
       "       [6.27543138e-01, 3.72456862e-01],\n",
       "       [3.23144453e-02, 9.67685555e-01],\n",
       "       [6.40382942e-01, 3.59617058e-01],\n",
       "       [4.76824757e-01, 5.23175243e-01],\n",
       "       [6.84250486e-01, 3.15749514e-01],\n",
       "       [5.28262937e-01, 4.71737063e-01],\n",
       "       [2.17958861e-01, 7.82041139e-01],\n",
       "       [9.45181845e-02, 9.05481815e-01],\n",
       "       [6.46784990e-04, 9.99353215e-01],\n",
       "       [4.80838631e-03, 9.95191614e-01],\n",
       "       [1.07082797e-02, 9.89291720e-01],\n",
       "       [2.45527960e-01, 7.54472040e-01],\n",
       "       [9.18645111e-01, 8.13548891e-02],\n",
       "       [1.72687825e-02, 9.82731218e-01],\n",
       "       [3.72288257e-01, 6.27711743e-01],\n",
       "       [5.89977577e-01, 4.10022423e-01],\n",
       "       [2.99528076e-01, 7.00471924e-01],\n",
       "       [2.86362532e-01, 7.13637468e-01],\n",
       "       [3.77308067e-01, 6.22691933e-01],\n",
       "       [1.14992429e-02, 9.88500757e-01],\n",
       "       [3.58986576e-03, 9.96410134e-01],\n",
       "       [7.65877981e-01, 2.34122019e-01],\n",
       "       [6.34882531e-02, 9.36511747e-01],\n",
       "       [5.69788338e-01, 4.30211662e-01],\n",
       "       [2.42313591e-02, 9.75768641e-01],\n",
       "       [4.85591961e-01, 5.14408039e-01],\n",
       "       [1.26578231e-02, 9.87342177e-01],\n",
       "       [1.37425880e-01, 8.62574120e-01],\n",
       "       [6.85628946e-01, 3.14371054e-01],\n",
       "       [3.21255103e-01, 6.78744897e-01],\n",
       "       [1.26507221e-03, 9.98734928e-01],\n",
       "       [1.14182293e-02, 9.88581771e-01],\n",
       "       [7.35302157e-01, 2.64697843e-01],\n",
       "       [3.32612984e-01, 6.67387016e-01],\n",
       "       [1.14713112e-02, 9.88528689e-01],\n",
       "       [3.95272261e-03, 9.96047277e-01],\n",
       "       [1.72156031e-01, 8.27843969e-01],\n",
       "       [7.76601867e-01, 2.23398133e-01],\n",
       "       [6.73768773e-01, 3.26231227e-01],\n",
       "       [4.11671592e-01, 5.88328408e-01],\n",
       "       [8.17307872e-01, 1.82692128e-01],\n",
       "       [4.27683962e-02, 9.57231604e-01],\n",
       "       [5.69298510e-01, 4.30701490e-01],\n",
       "       [1.62458621e-05, 9.99983754e-01],\n",
       "       [1.32253400e-01, 8.67746600e-01],\n",
       "       [2.89002205e-01, 7.10997795e-01],\n",
       "       [4.76899262e-01, 5.23100738e-01],\n",
       "       [8.36583399e-02, 9.16341660e-01],\n",
       "       [2.47731156e-01, 7.52268844e-01],\n",
       "       [4.78541327e-02, 9.52145867e-01],\n",
       "       [4.35198763e-03, 9.95648012e-01],\n",
       "       [2.38918585e-03, 9.97610814e-01],\n",
       "       [8.84007413e-04, 9.99115993e-01],\n",
       "       [8.91386028e-02, 9.10861397e-01],\n",
       "       [2.75725270e-01, 7.24274730e-01],\n",
       "       [1.86331098e-02, 9.81366890e-01],\n",
       "       [6.19755180e-01, 3.80244820e-01],\n",
       "       [2.40273693e-01, 7.59726307e-01],\n",
       "       [2.90456625e-04, 9.99709543e-01],\n",
       "       [2.30770206e-01, 7.69229794e-01],\n",
       "       [1.00181928e-02, 9.89981807e-01],\n",
       "       [6.63107483e-01, 3.36892517e-01],\n",
       "       [1.53452909e-01, 8.46547091e-01],\n",
       "       [6.26650601e-03, 9.93733494e-01],\n",
       "       [1.13462344e-02, 9.88653766e-01],\n",
       "       [2.62194872e-01, 7.37805128e-01],\n",
       "       [2.12165003e-01, 7.87834997e-01],\n",
       "       [4.40309544e-03, 9.95596905e-01],\n",
       "       [6.85093003e-01, 3.14906997e-01],\n",
       "       [8.96483940e-01, 1.03516060e-01],\n",
       "       [4.65357807e-01, 5.34642193e-01],\n",
       "       [7.00284013e-01, 2.99715987e-01],\n",
       "       [6.58566972e-01, 3.41433028e-01],\n",
       "       [9.22210230e-01, 7.77897701e-02],\n",
       "       [1.88278291e-03, 9.98117217e-01],\n",
       "       [2.14494223e-01, 7.85505777e-01],\n",
       "       [5.43831916e-01, 4.56168084e-01],\n",
       "       [2.74179563e-01, 7.25820437e-01],\n",
       "       [4.21818398e-04, 9.99578182e-01],\n",
       "       [1.72212116e-01, 8.27787884e-01],\n",
       "       [2.09141849e-01, 7.90858151e-01],\n",
       "       [5.51904657e-01, 4.48095343e-01],\n",
       "       [7.37812206e-01, 2.62187794e-01],\n",
       "       [5.98502105e-01, 4.01497895e-01],\n",
       "       [4.94849047e-01, 5.05150953e-01],\n",
       "       [3.64442913e-01, 6.35557087e-01],\n",
       "       [2.82606802e-03, 9.97173932e-01],\n",
       "       [4.19490319e-01, 5.80509681e-01],\n",
       "       [8.94936264e-01, 1.05063736e-01],\n",
       "       [5.22528297e-01, 4.77471703e-01],\n",
       "       [6.23951948e-01, 3.76048052e-01],\n",
       "       [1.17423000e-02, 9.88257700e-01],\n",
       "       [8.75396824e-01, 1.24603176e-01],\n",
       "       [2.65310641e-01, 7.34689359e-01],\n",
       "       [8.42442577e-03, 9.91575574e-01],\n",
       "       [5.27998162e-01, 4.72001838e-01],\n",
       "       [2.66614093e-02, 9.73338591e-01],\n",
       "       [9.88212592e-02, 9.01178741e-01],\n",
       "       [8.33552211e-01, 1.66447789e-01],\n",
       "       [7.60827931e-01, 2.39172069e-01],\n",
       "       [5.29661780e-01, 4.70338220e-01],\n",
       "       [7.07571427e-01, 2.92428573e-01],\n",
       "       [5.27559850e-03, 9.94724402e-01],\n",
       "       [4.83687293e-03, 9.95163127e-01],\n",
       "       [7.09843061e-01, 2.90156939e-01],\n",
       "       [4.67803195e-01, 5.32196805e-01],\n",
       "       [3.43060271e-03, 9.96569397e-01],\n",
       "       [2.30085882e-02, 9.76991412e-01],\n",
       "       [1.08207985e-01, 8.91792015e-01],\n",
       "       [3.80439197e-04, 9.99619561e-01],\n",
       "       [6.20105950e-01, 3.79894050e-01],\n",
       "       [2.06560096e-02, 9.79343990e-01],\n",
       "       [6.26610777e-01, 3.73389223e-01],\n",
       "       [1.19420509e-02, 9.88057949e-01],\n",
       "       [8.32343169e-01, 1.67656831e-01],\n",
       "       [6.38180589e-04, 9.99361819e-01],\n",
       "       [5.70785802e-01, 4.29214198e-01],\n",
       "       [3.36684907e-02, 9.66331509e-01],\n",
       "       [3.67420819e-03, 9.96325792e-01],\n",
       "       [2.36540901e-01, 7.63459099e-01],\n",
       "       [8.36989832e-02, 9.16301017e-01],\n",
       "       [6.92321511e-01, 3.07678489e-01],\n",
       "       [3.99996056e-06, 9.99996000e-01],\n",
       "       [4.53521364e-01, 5.46478636e-01],\n",
       "       [8.37187938e-01, 1.62812062e-01],\n",
       "       [3.48222322e-02, 9.65177768e-01],\n",
       "       [8.27881779e-02, 9.17211822e-01],\n",
       "       [3.46195390e-01, 6.53804610e-01],\n",
       "       [4.66701939e-01, 5.33298061e-01],\n",
       "       [9.16717176e-01, 8.32828243e-02],\n",
       "       [8.00782710e-01, 1.99217290e-01],\n",
       "       [1.11187358e-04, 9.99888813e-01],\n",
       "       [1.07573238e-02, 9.89242676e-01],\n",
       "       [6.28266951e-01, 3.71733049e-01],\n",
       "       [4.42248276e-03, 9.95577517e-01],\n",
       "       [5.60390406e-01, 4.39609594e-01],\n",
       "       [3.12306714e-02, 9.68769329e-01],\n",
       "       [7.95946927e-05, 9.99920405e-01],\n",
       "       [6.82515420e-02, 9.31748458e-01],\n",
       "       [6.72373216e-01, 3.27626784e-01],\n",
       "       [6.32536733e-01, 3.67463267e-01],\n",
       "       [1.33012856e-01, 8.66987144e-01],\n",
       "       [3.74139723e-02, 9.62586028e-01],\n",
       "       [4.75177264e-01, 5.24822736e-01],\n",
       "       [8.03881172e-01, 1.96118828e-01],\n",
       "       [5.83488220e-01, 4.16511780e-01],\n",
       "       [1.32199661e-03, 9.98678003e-01],\n",
       "       [5.09308254e-01, 4.90691746e-01],\n",
       "       [7.09310868e-01, 2.90689132e-01],\n",
       "       [9.19478843e-02, 9.08052116e-01],\n",
       "       [1.77017997e-02, 9.82298200e-01],\n",
       "       [1.86041916e-01, 8.13958084e-01],\n",
       "       [5.50825812e-03, 9.94491742e-01],\n",
       "       [7.06762973e-02, 9.29323703e-01],\n",
       "       [7.90908228e-01, 2.09091772e-01],\n",
       "       [7.25940932e-01, 2.74059068e-01],\n",
       "       [1.74272697e-02, 9.82572730e-01],\n",
       "       [6.51969365e-01, 3.48030635e-01],\n",
       "       [1.14368437e-01, 8.85631563e-01],\n",
       "       [5.61168233e-02, 9.43883177e-01],\n",
       "       [6.86366900e-02, 9.31363310e-01],\n",
       "       [4.21108761e-01, 5.78891239e-01],\n",
       "       [9.66348790e-01, 3.36512096e-02],\n",
       "       [6.06216159e-01, 3.93783841e-01],\n",
       "       [5.04385760e-01, 4.95614240e-01],\n",
       "       [3.94202884e-01, 6.05797116e-01],\n",
       "       [4.63201812e-01, 5.36798188e-01],\n",
       "       [4.83269837e-01, 5.16730163e-01],\n",
       "       [8.45115472e-02, 9.15488453e-01],\n",
       "       [7.34466146e-01, 2.65533854e-01],\n",
       "       [5.47354859e-03, 9.94526451e-01],\n",
       "       [1.93626444e-01, 8.06373556e-01],\n",
       "       [3.58736737e-03, 9.96412633e-01],\n",
       "       [2.54049903e-03, 9.97459501e-01],\n",
       "       [1.33868465e-01, 8.66131535e-01],\n",
       "       [3.18064043e-01, 6.81935957e-01],\n",
       "       [3.07996244e-04, 9.99692004e-01],\n",
       "       [1.08397782e-01, 8.91602218e-01],\n",
       "       [3.14797643e-01, 6.85202357e-01],\n",
       "       [2.59147224e-02, 9.74085278e-01],\n",
       "       [5.49699839e-02, 9.45030016e-01],\n",
       "       [3.64623318e-01, 6.35376682e-01],\n",
       "       [5.31226261e-01, 4.68773739e-01],\n",
       "       [1.14481112e-01, 8.85518888e-01],\n",
       "       [7.12329153e-01, 2.87670847e-01],\n",
       "       [7.45064328e-03, 9.92549357e-01],\n",
       "       [9.21957211e-02, 9.07804279e-01],\n",
       "       [4.07151860e-05, 9.99959285e-01],\n",
       "       [6.57697774e-01, 3.42302226e-01],\n",
       "       [6.66133815e-16, 1.00000000e+00],\n",
       "       [8.20255206e-01, 1.79744794e-01],\n",
       "       [6.28710616e-03, 9.93712894e-01],\n",
       "       [4.77824445e-01, 5.22175555e-01],\n",
       "       [1.99403763e-02, 9.80059624e-01],\n",
       "       [7.73086140e-01, 2.26913860e-01],\n",
       "       [4.29875427e-02, 9.57012457e-01],\n",
       "       [8.46465603e-01, 1.53534397e-01],\n",
       "       [4.56101907e-01, 5.43898093e-01],\n",
       "       [2.27517287e-01, 7.72482713e-01],\n",
       "       [2.85340016e-01, 7.14659984e-01],\n",
       "       [1.87635171e-01, 8.12364829e-01],\n",
       "       [9.61498180e-02, 9.03850182e-01],\n",
       "       [7.11675253e-01, 2.88324747e-01],\n",
       "       [8.05474855e-01, 1.94525145e-01],\n",
       "       [9.24783607e-01, 7.52163930e-02],\n",
       "       [6.87909497e-01, 3.12090503e-01],\n",
       "       [4.29518820e-02, 9.57048118e-01],\n",
       "       [1.04624229e-01, 8.95375771e-01],\n",
       "       [9.09573551e-01, 9.04264490e-02],\n",
       "       [1.79478448e-04, 9.99820522e-01],\n",
       "       [1.09014989e-02, 9.89098501e-01],\n",
       "       [3.96209117e-01, 6.03790883e-01],\n",
       "       [3.02401157e-02, 9.69759884e-01]])"
      ]
     },
     "execution_count": 97,
     "metadata": {},
     "output_type": "execute_result"
    }
   ],
   "source": [
    "y_pred_train # probabilities of o/p belonging to 0 & 1"
   ]
  },
  {
   "cell_type": "code",
   "execution_count": 48,
   "metadata": {
    "ExecuteTime": {
     "end_time": "2021-10-01T19:51:57.934633Z",
     "start_time": "2021-10-01T19:51:57.811323Z"
    }
   },
   "outputs": [],
   "source": [
    "## ROC - With different threshholds \n",
    "## Scaling variants - Min max / No scale"
   ]
  },
  {
   "cell_type": "markdown",
   "metadata": {},
   "source": [
    "#### Code below works for any thresholds. Verified the results for threshold=0.5"
   ]
  },
  {
   "cell_type": "code",
   "execution_count": 121,
   "metadata": {
    "ExecuteTime": {
     "end_time": "2021-10-01T22:09:48.595864Z",
     "start_time": "2021-10-01T22:09:48.585889Z"
    }
   },
   "outputs": [
    {
     "data": {
      "text/plain": [
       "array([1, 0, 1, 1, 1, 1, 1, 1, 0, 1, 1, 1, 1, 1, 1, 1, 0, 1, 1, 1, 1, 1,\n",
       "       1, 1, 1, 0, 1, 1, 1, 1, 1, 1, 0, 1, 1, 1, 0, 1, 1, 1, 1, 0, 0, 1,\n",
       "       0, 1, 1, 1, 1, 1, 1, 1, 1, 1, 1, 1, 1, 1, 1, 1, 1, 1, 1, 1, 1, 0,\n",
       "       1, 1, 1, 1, 1, 1, 0, 0, 1, 0, 0, 0, 1, 1, 1, 1, 1, 1, 1, 1, 0, 1,\n",
       "       1, 1, 1, 1, 0, 1, 1, 1, 0, 1, 1, 1, 1, 1, 0, 0, 1, 0, 1, 1, 0, 1,\n",
       "       1, 1, 1, 1, 1, 1, 1, 1, 0, 1, 1, 1, 1, 1, 1, 0, 1, 1, 0, 1, 1, 1,\n",
       "       1, 0, 0, 1, 1, 1, 1, 1, 1, 1, 1, 0, 1, 1, 1, 1, 0, 1, 1, 1, 0, 1,\n",
       "       1, 1, 1, 1, 0, 0, 1, 0, 1, 1, 1, 1, 0, 1, 1, 1, 1, 1, 1, 0, 1, 1,\n",
       "       1, 1, 1, 1, 1, 1, 1, 1, 1, 1, 1, 1, 0, 1, 1, 1, 0, 1, 0, 1, 1, 1,\n",
       "       0, 1, 0, 1, 1, 1, 1, 1, 0, 0, 0, 0, 1, 1, 0, 1, 1, 1, 1])"
      ]
     },
     "execution_count": 121,
     "metadata": {},
     "output_type": "execute_result"
    }
   ],
   "source": [
    "threshold = 0.35\n",
    "LR_Grid_ytest_THR = ((y_pred_train[:, 1])>= threshold).astype(int)\n",
    "LR_Grid_ytest_THR"
   ]
  },
  {
   "cell_type": "code",
   "execution_count": 122,
   "metadata": {
    "ExecuteTime": {
     "end_time": "2021-10-01T22:09:59.606444Z",
     "start_time": "2021-10-01T22:09:59.349144Z"
    }
   },
   "outputs": [
    {
     "data": {
      "image/png": "[encoded data removed]",
      "text/plain": [
       "<Figure size 432x288 with 1 Axes>"
      ]
     },
     "metadata": {
      "needs_background": "light"
     },
     "output_type": "display_data"
    },
    {
     "data": {
      "text/plain": [
       "0.779251700680272"
      ]
     },
     "execution_count": 122,
     "metadata": {},
     "output_type": "execute_result"
    }
   ],
   "source": [
    "from sklearn import metrics\n",
    "fpr, tpr, threshholds = metrics.roc_curve(y_train,  LR_Grid_ytest_THR)\n",
    "auc = metrics.roc_auc_score(y_train, LR_Grid_ytest_THR)#Area under the curve using this function\n",
    "plt.plot(fpr,tpr,label=\"ROC curve , auc=\"+str(auc))\n",
    "plt.legend(loc=4)\n",
    "plt.show()\n",
    "auc"
   ]
  },
  {
   "cell_type": "code",
   "execution_count": 123,
   "metadata": {
    "ExecuteTime": {
     "end_time": "2021-10-01T22:10:05.350781Z",
     "start_time": "2021-10-01T22:10:05.335821Z"
    }
   },
   "outputs": [
    {
     "name": "stdout",
     "output_type": "stream",
     "text": [
      "              precision    recall  f1-score   support\n",
      "\n",
      "    Abnormal       0.91      0.59      0.71        70\n",
      "      Normal       0.83      0.97      0.90       147\n",
      "\n",
      "    accuracy                           0.85       217\n",
      "   macro avg       0.87      0.78      0.80       217\n",
      "weighted avg       0.86      0.85      0.84       217\n",
      "\n"
     ]
    }
   ],
   "source": [
    "# Classification report from SK Learn \n",
    "print(classification_report(y_train, LR_Grid_ytest_THR, target_names=labels))"
   ]
  }
 ],
 "metadata": {
  "kernelspec": {
   "display_name": "Python 3",
   "language": "python",
   "name": "python3"
  },
  "language_info": {
   "codemirror_mode": {
    "name": "ipython",
    "version": 3
   },
   "file_extension": ".py",
   "mimetype": "text/x-python",
   "name": "python",
   "nbconvert_exporter": "python",
   "pygments_lexer": "ipython3",
   "version": "3.8.3"
  }
 },
 "nbformat": 4,
 "nbformat_minor": 1
}
