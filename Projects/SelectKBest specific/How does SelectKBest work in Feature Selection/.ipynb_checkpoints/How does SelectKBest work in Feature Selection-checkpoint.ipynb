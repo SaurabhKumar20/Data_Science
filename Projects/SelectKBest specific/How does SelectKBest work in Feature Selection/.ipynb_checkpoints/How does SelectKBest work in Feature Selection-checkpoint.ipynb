{
 "cells": [
  {
   "cell_type": "markdown",
   "id": "56d435d9",
   "metadata": {},
   "source": [
    "url: https://www.youtube.com/watch?v=UW9U0bYJ-Ys"
   ]
  },
  {
   "cell_type": "code",
   "execution_count": 26,
   "id": "8ff85343",
   "metadata": {
    "ExecuteTime": {
     "end_time": "2021-11-11T19:26:09.980591Z",
     "start_time": "2021-11-11T19:26:09.972610Z"
    }
   },
   "outputs": [],
   "source": [
    "import matplotlib.pyplot as plt\n",
    "import numpy as np\n",
    "import pandas as pd\n",
    "import seaborn as sns\n",
    "import warnings\n",
    "from scipy import stats\n",
    "from scipy.stats.stats import pearsonr\n",
    "from sklearn.model_selection import train_test_split, GridSearchCV\n",
    "from sklearn.feature_selection import SelectKBest, f_regression"
   ]
  },
  {
   "cell_type": "code",
   "execution_count": 6,
   "id": "bba46a38",
   "metadata": {
    "ExecuteTime": {
     "end_time": "2021-11-11T19:21:54.872135Z",
     "start_time": "2021-11-11T19:21:54.851190Z"
    }
   },
   "outputs": [],
   "source": [
    "%matplotlib inline\n",
    "warnings.filterwarnings(\"ignore\")\n",
    "pd.set_option('display.expand_frame_repr', False)"
   ]
  },
  {
   "cell_type": "code",
   "execution_count": 15,
   "id": "ce40baba",
   "metadata": {
    "ExecuteTime": {
     "end_time": "2021-11-11T19:24:59.941433Z",
     "start_time": "2021-11-11T19:24:59.881184Z"
    }
   },
   "outputs": [],
   "source": [
    "df = pd.read_excel('data.xlsx')"
   ]
  },
  {
   "cell_type": "code",
   "execution_count": 16,
   "id": "a0f98d3c",
   "metadata": {
    "ExecuteTime": {
     "end_time": "2021-11-11T19:25:02.582867Z",
     "start_time": "2021-11-11T19:25:02.570900Z"
    }
   },
   "outputs": [
    {
     "name": "stdout",
     "output_type": "stream",
     "text": [
      "Total number of rows in dataset = 155\n",
      "Total number of columns in dataset = 5\n"
     ]
    }
   ],
   "source": [
    "print (\"Total number of rows in dataset = {}\".format(df.shape[0]))\n",
    "print (\"Total number of columns in dataset = {}\".format(df.shape[1]))"
   ]
  },
  {
   "cell_type": "code",
   "execution_count": 17,
   "id": "11523c14",
   "metadata": {
    "ExecuteTime": {
     "end_time": "2021-11-11T19:25:07.423320Z",
     "start_time": "2021-11-11T19:25:07.390407Z"
    }
   },
   "outputs": [
    {
     "data": {
      "text/html": [
       "<div>\n",
       "<style scoped>\n",
       "    .dataframe tbody tr th:only-of-type {\n",
       "        vertical-align: middle;\n",
       "    }\n",
       "\n",
       "    .dataframe tbody tr th {\n",
       "        vertical-align: top;\n",
       "    }\n",
       "\n",
       "    .dataframe thead th {\n",
       "        text-align: right;\n",
       "    }\n",
       "</style>\n",
       "<table border=\"1\" class=\"dataframe\">\n",
       "  <thead>\n",
       "    <tr style=\"text-align: right;\">\n",
       "      <th></th>\n",
       "      <th>X1</th>\n",
       "      <th>X2</th>\n",
       "      <th>X3</th>\n",
       "      <th>X4</th>\n",
       "      <th>Y</th>\n",
       "    </tr>\n",
       "  </thead>\n",
       "  <tbody>\n",
       "    <tr>\n",
       "      <th>0</th>\n",
       "      <td>2.53</td>\n",
       "      <td>285</td>\n",
       "      <td>62.750</td>\n",
       "      <td>1394.46</td>\n",
       "      <td>1187.0</td>\n",
       "    </tr>\n",
       "    <tr>\n",
       "      <th>1</th>\n",
       "      <td>2.85</td>\n",
       "      <td>280</td>\n",
       "      <td>37.875</td>\n",
       "      <td>1366.42</td>\n",
       "      <td>1149.1</td>\n",
       "    </tr>\n",
       "    <tr>\n",
       "      <th>2</th>\n",
       "      <td>2.27</td>\n",
       "      <td>266</td>\n",
       "      <td>44.000</td>\n",
       "      <td>1498.58</td>\n",
       "      <td>1268.3</td>\n",
       "    </tr>\n",
       "    <tr>\n",
       "      <th>3</th>\n",
       "      <td>2.43</td>\n",
       "      <td>280</td>\n",
       "      <td>59.250</td>\n",
       "      <td>1420.60</td>\n",
       "      <td>1124.9</td>\n",
       "    </tr>\n",
       "    <tr>\n",
       "      <th>4</th>\n",
       "      <td>2.46</td>\n",
       "      <td>281</td>\n",
       "      <td>23.938</td>\n",
       "      <td>1454.60</td>\n",
       "      <td>1194.5</td>\n",
       "    </tr>\n",
       "  </tbody>\n",
       "</table>\n",
       "</div>"
      ],
      "text/plain": [
       "     X1   X2      X3       X4       Y\n",
       "0  2.53  285  62.750  1394.46  1187.0\n",
       "1  2.85  280  37.875  1366.42  1149.1\n",
       "2  2.27  266  44.000  1498.58  1268.3\n",
       "3  2.43  280  59.250  1420.60  1124.9\n",
       "4  2.46  281  23.938  1454.60  1194.5"
      ]
     },
     "execution_count": 17,
     "metadata": {},
     "output_type": "execute_result"
    }
   ],
   "source": [
    "df.head()"
   ]
  },
  {
   "cell_type": "code",
   "execution_count": 19,
   "id": "9ec6da28",
   "metadata": {
    "ExecuteTime": {
     "end_time": "2021-11-11T19:25:20.419420Z",
     "start_time": "2021-11-11T19:25:20.405424Z"
    }
   },
   "outputs": [],
   "source": [
    "# Split df into x and Y\n",
    "target_col = \"Y\"\n",
    "X = df.loc[:, df.columns != target_col]\n",
    "y = df.loc[:, target_col]"
   ]
  },
  {
   "cell_type": "code",
   "execution_count": 20,
   "id": "b8120e9b",
   "metadata": {
    "ExecuteTime": {
     "end_time": "2021-11-11T19:25:21.086745Z",
     "start_time": "2021-11-11T19:25:21.075771Z"
    }
   },
   "outputs": [
    {
     "data": {
      "text/plain": [
       "(155, 4)"
      ]
     },
     "execution_count": 20,
     "metadata": {},
     "output_type": "execute_result"
    }
   ],
   "source": [
    "X.shape"
   ]
  },
  {
   "cell_type": "code",
   "execution_count": 21,
   "id": "1f7a3e37",
   "metadata": {
    "ExecuteTime": {
     "end_time": "2021-11-11T19:25:21.751504Z",
     "start_time": "2021-11-11T19:25:21.743526Z"
    }
   },
   "outputs": [
    {
     "data": {
      "text/plain": [
       "(155,)"
      ]
     },
     "execution_count": 21,
     "metadata": {},
     "output_type": "execute_result"
    }
   ],
   "source": [
    "y.shape"
   ]
  },
  {
   "cell_type": "code",
   "execution_count": 22,
   "id": "dd645862",
   "metadata": {
    "ExecuteTime": {
     "end_time": "2021-11-11T19:25:29.602125Z",
     "start_time": "2021-11-11T19:25:29.584171Z"
    }
   },
   "outputs": [],
   "source": [
    "# Split the data into train and test with 70% data being used for training\n",
    "X_train, X_test, y_train, y_test = train_test_split(X, y, \n",
    "                                                    test_size=0.30, \n",
    "                                                    random_state=42)"
   ]
  },
  {
   "cell_type": "code",
   "execution_count": 23,
   "id": "09a88c6d",
   "metadata": {
    "ExecuteTime": {
     "end_time": "2021-11-11T19:25:30.315579Z",
     "start_time": "2021-11-11T19:25:30.292638Z"
    }
   },
   "outputs": [
    {
     "data": {
      "text/html": [
       "<div>\n",
       "<style scoped>\n",
       "    .dataframe tbody tr th:only-of-type {\n",
       "        vertical-align: middle;\n",
       "    }\n",
       "\n",
       "    .dataframe tbody tr th {\n",
       "        vertical-align: top;\n",
       "    }\n",
       "\n",
       "    .dataframe thead th {\n",
       "        text-align: right;\n",
       "    }\n",
       "</style>\n",
       "<table border=\"1\" class=\"dataframe\">\n",
       "  <thead>\n",
       "    <tr style=\"text-align: right;\">\n",
       "      <th></th>\n",
       "      <th>X1</th>\n",
       "      <th>X2</th>\n",
       "      <th>X3</th>\n",
       "      <th>X4</th>\n",
       "    </tr>\n",
       "  </thead>\n",
       "  <tbody>\n",
       "    <tr>\n",
       "      <th>141</th>\n",
       "      <td>2.12</td>\n",
       "      <td>236</td>\n",
       "      <td>15.778</td>\n",
       "      <td>2471.65</td>\n",
       "    </tr>\n",
       "    <tr>\n",
       "      <th>66</th>\n",
       "      <td>4.55</td>\n",
       "      <td>328</td>\n",
       "      <td>13.375</td>\n",
       "      <td>1549.38</td>\n",
       "    </tr>\n",
       "    <tr>\n",
       "      <th>119</th>\n",
       "      <td>0.74</td>\n",
       "      <td>335</td>\n",
       "      <td>15.610</td>\n",
       "      <td>1848.36</td>\n",
       "    </tr>\n",
       "    <tr>\n",
       "      <th>27</th>\n",
       "      <td>3.79</td>\n",
       "      <td>436</td>\n",
       "      <td>8.000</td>\n",
       "      <td>841.15</td>\n",
       "    </tr>\n",
       "    <tr>\n",
       "      <th>79</th>\n",
       "      <td>0.70</td>\n",
       "      <td>620</td>\n",
       "      <td>86.625</td>\n",
       "      <td>872.81</td>\n",
       "    </tr>\n",
       "  </tbody>\n",
       "</table>\n",
       "</div>"
      ],
      "text/plain": [
       "       X1   X2      X3       X4\n",
       "141  2.12  236  15.778  2471.65\n",
       "66   4.55  328  13.375  1549.38\n",
       "119  0.74  335  15.610  1848.36\n",
       "27   3.79  436   8.000   841.15\n",
       "79   0.70  620  86.625   872.81"
      ]
     },
     "execution_count": 23,
     "metadata": {},
     "output_type": "execute_result"
    }
   ],
   "source": [
    "X_train.head()"
   ]
  },
  {
   "cell_type": "code",
   "execution_count": 27,
   "id": "48e92a8c",
   "metadata": {
    "ExecuteTime": {
     "end_time": "2021-11-11T19:26:15.996779Z",
     "start_time": "2021-11-11T19:26:15.980823Z"
    }
   },
   "outputs": [],
   "source": [
    "X_new = SelectKBest(f_regression, k=2).fit_transform(X_train, y_train)"
   ]
  },
  {
   "cell_type": "code",
   "execution_count": 28,
   "id": "a52f7029",
   "metadata": {
    "ExecuteTime": {
     "end_time": "2021-11-11T19:26:17.171820Z",
     "start_time": "2021-11-11T19:26:17.150844Z"
    }
   },
   "outputs": [
    {
     "data": {
      "text/plain": [
       "array([[ 236.  , 2471.65],\n",
       "       [ 328.  , 1549.38],\n",
       "       [ 335.  , 1848.36],\n",
       "       [ 436.  ,  841.15],\n",
       "       [ 620.  ,  872.81]])"
      ]
     },
     "execution_count": 28,
     "metadata": {},
     "output_type": "execute_result"
    }
   ],
   "source": [
    "X_new[0:5]"
   ]
  },
  {
   "cell_type": "markdown",
   "id": "8d413ec1",
   "metadata": {},
   "source": [
    "# Relationship of Features with Response Variables"
   ]
  },
  {
   "cell_type": "code",
   "execution_count": 29,
   "id": "3fcbcc9b",
   "metadata": {
    "ExecuteTime": {
     "end_time": "2021-11-11T19:26:19.294765Z",
     "start_time": "2021-11-11T19:26:19.280803Z"
    }
   },
   "outputs": [],
   "source": [
    "def plot_join_plot(df, feature, target):\n",
    "    j = sns.jointplot(feature, target, data = df, kind = 'reg')\n",
    "    j.annotate(stats.pearsonr)\n",
    "    return plt.show()"
   ]
  },
  {
   "cell_type": "code",
   "execution_count": 30,
   "id": "db6b4bcf",
   "metadata": {
    "ExecuteTime": {
     "end_time": "2021-11-11T19:26:19.587247Z",
     "start_time": "2021-11-11T19:26:19.565277Z"
    }
   },
   "outputs": [],
   "source": [
    "train_df = pd.concat([X_train, y_train], axis=1)"
   ]
  },
  {
   "cell_type": "code",
   "execution_count": 31,
   "id": "d27160f8",
   "metadata": {
    "ExecuteTime": {
     "end_time": "2021-11-11T19:26:21.283159Z",
     "start_time": "2021-11-11T19:26:20.159608Z"
    }
   },
   "outputs": [
    {
     "ename": "AttributeError",
     "evalue": "'JointGrid' object has no attribute 'annotate'",
     "output_type": "error",
     "traceback": [
      "\u001b[1;31m---------------------------------------------------------------------------\u001b[0m",
      "\u001b[1;31mAttributeError\u001b[0m                            Traceback (most recent call last)",
      "\u001b[1;32m<ipython-input-31-704d0185203e>\u001b[0m in \u001b[0;36m<module>\u001b[1;34m\u001b[0m\n\u001b[1;32m----> 1\u001b[1;33m \u001b[0mplot_join_plot\u001b[0m\u001b[1;33m(\u001b[0m\u001b[0mtrain_df\u001b[0m\u001b[1;33m,\u001b[0m \u001b[1;34m\"X1\"\u001b[0m\u001b[1;33m,\u001b[0m \u001b[0mtarget_col\u001b[0m\u001b[1;33m)\u001b[0m\u001b[1;33m\u001b[0m\u001b[1;33m\u001b[0m\u001b[0m\n\u001b[0m",
      "\u001b[1;32m<ipython-input-29-433909494302>\u001b[0m in \u001b[0;36mplot_join_plot\u001b[1;34m(df, feature, target)\u001b[0m\n\u001b[0;32m      1\u001b[0m \u001b[1;32mdef\u001b[0m \u001b[0mplot_join_plot\u001b[0m\u001b[1;33m(\u001b[0m\u001b[0mdf\u001b[0m\u001b[1;33m,\u001b[0m \u001b[0mfeature\u001b[0m\u001b[1;33m,\u001b[0m \u001b[0mtarget\u001b[0m\u001b[1;33m)\u001b[0m\u001b[1;33m:\u001b[0m\u001b[1;33m\u001b[0m\u001b[1;33m\u001b[0m\u001b[0m\n\u001b[0;32m      2\u001b[0m     \u001b[0mj\u001b[0m \u001b[1;33m=\u001b[0m \u001b[0msns\u001b[0m\u001b[1;33m.\u001b[0m\u001b[0mjointplot\u001b[0m\u001b[1;33m(\u001b[0m\u001b[0mfeature\u001b[0m\u001b[1;33m,\u001b[0m \u001b[0mtarget\u001b[0m\u001b[1;33m,\u001b[0m \u001b[0mdata\u001b[0m \u001b[1;33m=\u001b[0m \u001b[0mdf\u001b[0m\u001b[1;33m,\u001b[0m \u001b[0mkind\u001b[0m \u001b[1;33m=\u001b[0m \u001b[1;34m'reg'\u001b[0m\u001b[1;33m)\u001b[0m\u001b[1;33m\u001b[0m\u001b[1;33m\u001b[0m\u001b[0m\n\u001b[1;32m----> 3\u001b[1;33m     \u001b[0mj\u001b[0m\u001b[1;33m.\u001b[0m\u001b[0mannotate\u001b[0m\u001b[1;33m(\u001b[0m\u001b[0mstats\u001b[0m\u001b[1;33m.\u001b[0m\u001b[0mpearsonr\u001b[0m\u001b[1;33m)\u001b[0m\u001b[1;33m\u001b[0m\u001b[1;33m\u001b[0m\u001b[0m\n\u001b[0m\u001b[0;32m      4\u001b[0m     \u001b[1;32mreturn\u001b[0m \u001b[0mplt\u001b[0m\u001b[1;33m.\u001b[0m\u001b[0mshow\u001b[0m\u001b[1;33m(\u001b[0m\u001b[1;33m)\u001b[0m\u001b[1;33m\u001b[0m\u001b[1;33m\u001b[0m\u001b[0m\n",
      "\u001b[1;31mAttributeError\u001b[0m: 'JointGrid' object has no attribute 'annotate'"
     ]
    },
    {
     "data": {
      "image/png": "[encoded data removed]",
      "text/plain": [
       "<Figure size 432x432 with 3 Axes>"
      ]
     },
     "metadata": {
      "needs_background": "light"
     },
     "output_type": "display_data"
    }
   ],
   "source": [
    "plot_join_plot(train_df, \"X1\", target_col)"
   ]
  },
  {
   "cell_type": "code",
   "execution_count": null,
   "id": "571e4d88",
   "metadata": {
    "ExecuteTime": {
     "end_time": "2021-11-11T19:26:21.287150Z",
     "start_time": "2021-11-11T19:26:20.584Z"
    }
   },
   "outputs": [],
   "source": [
    "plot_join_plot(train_df, \"X2\", target_col)"
   ]
  },
  {
   "cell_type": "code",
   "execution_count": null,
   "id": "e4f38bea",
   "metadata": {
    "ExecuteTime": {
     "end_time": "2021-11-11T19:26:21.289143Z",
     "start_time": "2021-11-11T19:26:21.105Z"
    }
   },
   "outputs": [],
   "source": [
    "plot_join_plot(train_df, \"X3\", target_col)"
   ]
  },
  {
   "cell_type": "code",
   "execution_count": 32,
   "id": "0d94d549",
   "metadata": {
    "ExecuteTime": {
     "end_time": "2021-11-11T19:26:23.954046Z",
     "start_time": "2021-11-11T19:26:23.002203Z"
    }
   },
   "outputs": [
    {
     "ename": "AttributeError",
     "evalue": "'JointGrid' object has no attribute 'annotate'",
     "output_type": "error",
     "traceback": [
      "\u001b[1;31m---------------------------------------------------------------------------\u001b[0m",
      "\u001b[1;31mAttributeError\u001b[0m                            Traceback (most recent call last)",
      "\u001b[1;32m<ipython-input-32-39ba1e49002b>\u001b[0m in \u001b[0;36m<module>\u001b[1;34m\u001b[0m\n\u001b[1;32m----> 1\u001b[1;33m \u001b[0mplot_join_plot\u001b[0m\u001b[1;33m(\u001b[0m\u001b[0mtrain_df\u001b[0m\u001b[1;33m,\u001b[0m \u001b[1;34m\"X4\"\u001b[0m\u001b[1;33m,\u001b[0m \u001b[0mtarget_col\u001b[0m\u001b[1;33m)\u001b[0m\u001b[1;33m\u001b[0m\u001b[1;33m\u001b[0m\u001b[0m\n\u001b[0m",
      "\u001b[1;32m<ipython-input-29-433909494302>\u001b[0m in \u001b[0;36mplot_join_plot\u001b[1;34m(df, feature, target)\u001b[0m\n\u001b[0;32m      1\u001b[0m \u001b[1;32mdef\u001b[0m \u001b[0mplot_join_plot\u001b[0m\u001b[1;33m(\u001b[0m\u001b[0mdf\u001b[0m\u001b[1;33m,\u001b[0m \u001b[0mfeature\u001b[0m\u001b[1;33m,\u001b[0m \u001b[0mtarget\u001b[0m\u001b[1;33m)\u001b[0m\u001b[1;33m:\u001b[0m\u001b[1;33m\u001b[0m\u001b[1;33m\u001b[0m\u001b[0m\n\u001b[0;32m      2\u001b[0m     \u001b[0mj\u001b[0m \u001b[1;33m=\u001b[0m \u001b[0msns\u001b[0m\u001b[1;33m.\u001b[0m\u001b[0mjointplot\u001b[0m\u001b[1;33m(\u001b[0m\u001b[0mfeature\u001b[0m\u001b[1;33m,\u001b[0m \u001b[0mtarget\u001b[0m\u001b[1;33m,\u001b[0m \u001b[0mdata\u001b[0m \u001b[1;33m=\u001b[0m \u001b[0mdf\u001b[0m\u001b[1;33m,\u001b[0m \u001b[0mkind\u001b[0m \u001b[1;33m=\u001b[0m \u001b[1;34m'reg'\u001b[0m\u001b[1;33m)\u001b[0m\u001b[1;33m\u001b[0m\u001b[1;33m\u001b[0m\u001b[0m\n\u001b[1;32m----> 3\u001b[1;33m     \u001b[0mj\u001b[0m\u001b[1;33m.\u001b[0m\u001b[0mannotate\u001b[0m\u001b[1;33m(\u001b[0m\u001b[0mstats\u001b[0m\u001b[1;33m.\u001b[0m\u001b[0mpearsonr\u001b[0m\u001b[1;33m)\u001b[0m\u001b[1;33m\u001b[0m\u001b[1;33m\u001b[0m\u001b[0m\n\u001b[0m\u001b[0;32m      4\u001b[0m     \u001b[1;32mreturn\u001b[0m \u001b[0mplt\u001b[0m\u001b[1;33m.\u001b[0m\u001b[0mshow\u001b[0m\u001b[1;33m(\u001b[0m\u001b[1;33m)\u001b[0m\u001b[1;33m\u001b[0m\u001b[1;33m\u001b[0m\u001b[0m\n",
      "\u001b[1;31mAttributeError\u001b[0m: 'JointGrid' object has no attribute 'annotate'"
     ]
    },
    {
     "data": {
      "image/png": "[encoded data removed]",
      "text/plain": [
       "<Figure size 432x432 with 3 Axes>"
      ]
     },
     "metadata": {
      "needs_background": "light"
     },
     "output_type": "display_data"
    }
   ],
   "source": [
    "plot_join_plot(train_df, \"X4\", target_col)"
   ]
  },
  {
   "cell_type": "markdown",
   "id": "224bd87e",
   "metadata": {},
   "source": [
    "# Correlation Analysis using Pearson Analysis"
   ]
  },
  {
   "cell_type": "code",
   "execution_count": 33,
   "id": "7c035416",
   "metadata": {
    "ExecuteTime": {
     "end_time": "2021-11-11T19:26:24.280708Z",
     "start_time": "2021-11-11T19:26:24.262762Z"
    }
   },
   "outputs": [
    {
     "data": {
      "text/plain": [
       "(-0.39252459117962657, 2.6493289966554645e-05)"
      ]
     },
     "execution_count": 33,
     "metadata": {},
     "output_type": "execute_result"
    }
   ],
   "source": [
    "pearsonr(X_train[\"X4\"], y_train)"
   ]
  },
  {
   "cell_type": "code",
   "execution_count": 34,
   "id": "c0b23056",
   "metadata": {
    "ExecuteTime": {
     "end_time": "2021-11-11T19:26:24.843101Z",
     "start_time": "2021-11-11T19:26:24.823155Z"
    }
   },
   "outputs": [],
   "source": [
    "out_list = []\n",
    "for column in X_train.columns:\n",
    "    corr_tuple = pearsonr(X_train[column], y_train)\n",
    "    out_list.append([column, corr_tuple[0], corr_tuple[1]])"
   ]
  },
  {
   "cell_type": "code",
   "execution_count": 35,
   "id": "007dfa8f",
   "metadata": {
    "ExecuteTime": {
     "end_time": "2021-11-11T19:26:25.361269Z",
     "start_time": "2021-11-11T19:26:25.339327Z"
    }
   },
   "outputs": [],
   "source": [
    "corr_df = pd.DataFrame(out_list, columns=[\"Features\", \"Correlation\", \"P-Value\"])"
   ]
  },
  {
   "cell_type": "code",
   "execution_count": 36,
   "id": "b916b500",
   "metadata": {
    "ExecuteTime": {
     "end_time": "2021-11-11T19:26:25.884917Z",
     "start_time": "2021-11-11T19:26:25.868958Z"
    }
   },
   "outputs": [
    {
     "data": {
      "text/html": [
       "<div>\n",
       "<style scoped>\n",
       "    .dataframe tbody tr th:only-of-type {\n",
       "        vertical-align: middle;\n",
       "    }\n",
       "\n",
       "    .dataframe tbody tr th {\n",
       "        vertical-align: top;\n",
       "    }\n",
       "\n",
       "    .dataframe thead th {\n",
       "        text-align: right;\n",
       "    }\n",
       "</style>\n",
       "<table border=\"1\" class=\"dataframe\">\n",
       "  <thead>\n",
       "    <tr style=\"text-align: right;\">\n",
       "      <th></th>\n",
       "      <th>Features</th>\n",
       "      <th>Correlation</th>\n",
       "      <th>P-Value</th>\n",
       "    </tr>\n",
       "  </thead>\n",
       "  <tbody>\n",
       "    <tr>\n",
       "      <th>0</th>\n",
       "      <td>X1</td>\n",
       "      <td>-0.091239</td>\n",
       "      <td>3.476728e-01</td>\n",
       "    </tr>\n",
       "    <tr>\n",
       "      <th>1</th>\n",
       "      <td>X2</td>\n",
       "      <td>0.506263</td>\n",
       "      <td>2.274708e-08</td>\n",
       "    </tr>\n",
       "    <tr>\n",
       "      <th>2</th>\n",
       "      <td>X3</td>\n",
       "      <td>0.019741</td>\n",
       "      <td>8.393037e-01</td>\n",
       "    </tr>\n",
       "    <tr>\n",
       "      <th>3</th>\n",
       "      <td>X4</td>\n",
       "      <td>-0.392525</td>\n",
       "      <td>2.649329e-05</td>\n",
       "    </tr>\n",
       "  </tbody>\n",
       "</table>\n",
       "</div>"
      ],
      "text/plain": [
       "  Features  Correlation       P-Value\n",
       "0       X1    -0.091239  3.476728e-01\n",
       "1       X2     0.506263  2.274708e-08\n",
       "2       X3     0.019741  8.393037e-01\n",
       "3       X4    -0.392525  2.649329e-05"
      ]
     },
     "execution_count": 36,
     "metadata": {},
     "output_type": "execute_result"
    }
   ],
   "source": [
    "corr_df.head()"
   ]
  },
  {
   "cell_type": "code",
   "execution_count": 37,
   "id": "821995ad",
   "metadata": {
    "ExecuteTime": {
     "end_time": "2021-11-11T19:26:26.337650Z",
     "start_time": "2021-11-11T19:26:26.323652Z"
    }
   },
   "outputs": [],
   "source": [
    "corr_df.sort_values(by=['P-Value'], inplace=True)"
   ]
  },
  {
   "cell_type": "code",
   "execution_count": 38,
   "id": "beedfa98",
   "metadata": {
    "ExecuteTime": {
     "end_time": "2021-11-11T19:26:26.853925Z",
     "start_time": "2021-11-11T19:26:26.821975Z"
    }
   },
   "outputs": [
    {
     "data": {
      "text/html": [
       "<div>\n",
       "<style scoped>\n",
       "    .dataframe tbody tr th:only-of-type {\n",
       "        vertical-align: middle;\n",
       "    }\n",
       "\n",
       "    .dataframe tbody tr th {\n",
       "        vertical-align: top;\n",
       "    }\n",
       "\n",
       "    .dataframe thead th {\n",
       "        text-align: right;\n",
       "    }\n",
       "</style>\n",
       "<table border=\"1\" class=\"dataframe\">\n",
       "  <thead>\n",
       "    <tr style=\"text-align: right;\">\n",
       "      <th></th>\n",
       "      <th>Features</th>\n",
       "      <th>Correlation</th>\n",
       "      <th>P-Value</th>\n",
       "    </tr>\n",
       "  </thead>\n",
       "  <tbody>\n",
       "    <tr>\n",
       "      <th>1</th>\n",
       "      <td>X2</td>\n",
       "      <td>0.506263</td>\n",
       "      <td>2.274708e-08</td>\n",
       "    </tr>\n",
       "    <tr>\n",
       "      <th>3</th>\n",
       "      <td>X4</td>\n",
       "      <td>-0.392525</td>\n",
       "      <td>2.649329e-05</td>\n",
       "    </tr>\n",
       "    <tr>\n",
       "      <th>0</th>\n",
       "      <td>X1</td>\n",
       "      <td>-0.091239</td>\n",
       "      <td>3.476728e-01</td>\n",
       "    </tr>\n",
       "    <tr>\n",
       "      <th>2</th>\n",
       "      <td>X3</td>\n",
       "      <td>0.019741</td>\n",
       "      <td>8.393037e-01</td>\n",
       "    </tr>\n",
       "  </tbody>\n",
       "</table>\n",
       "</div>"
      ],
      "text/plain": [
       "  Features  Correlation       P-Value\n",
       "1       X2     0.506263  2.274708e-08\n",
       "3       X4    -0.392525  2.649329e-05\n",
       "0       X1    -0.091239  3.476728e-01\n",
       "2       X3     0.019741  8.393037e-01"
      ]
     },
     "execution_count": 38,
     "metadata": {},
     "output_type": "execute_result"
    }
   ],
   "source": [
    "corr_df.head()"
   ]
  }
 ],
 "metadata": {
  "kernelspec": {
   "display_name": "Python 3",
   "language": "python",
   "name": "python3"
  },
  "language_info": {
   "codemirror_mode": {
    "name": "ipython",
    "version": 3
   },
   "file_extension": ".py",
   "mimetype": "text/x-python",
   "name": "python",
   "nbconvert_exporter": "python",
   "pygments_lexer": "ipython3",
   "version": "3.8.8"
  }
 },
 "nbformat": 4,
 "nbformat_minor": 5
}
