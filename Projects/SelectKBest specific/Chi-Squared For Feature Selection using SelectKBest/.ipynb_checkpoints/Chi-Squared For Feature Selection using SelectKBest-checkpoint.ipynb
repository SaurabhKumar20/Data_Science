{
 "cells": [
  {
   "cell_type": "markdown",
   "id": "cb6aec37",
   "metadata": {},
   "source": [
    "SelectKBest uses Chi-squared test for feature selection for categorical features & target columns. \n",
    "\n",
    "We calculate Chi-square between each feature & the target & select the desired \n",
    "number of features with best Chi-square scores or the lowest p-values. \n",
    "\n",
    "The Chi-squared (χ2) test is used in statistics to test the independence of two events. More specifically in feature selection we use it to test whether the occurrence of a specific feature & the target are independent or not.\n",
    "\n",
    "For each feature & target combination, a corresponding high χ2 chi-square score or a low p-value indicates that the target column is dependent on the feature column."
   ]
  },
  {
   "cell_type": "markdown",
   "id": "bd37a756",
   "metadata": {},
   "source": [
    "url: https://www.youtube.com/watch?v=fMIwIKLGke0"
   ]
  },
  {
   "cell_type": "code",
   "execution_count": 3,
   "id": "07393d3f",
   "metadata": {
    "ExecuteTime": {
     "end_time": "2021-11-11T18:30:35.771629Z",
     "start_time": "2021-11-11T18:30:27.505757Z"
    }
   },
   "outputs": [],
   "source": [
    "import pandas as pd\n",
    "import numpy as np\n",
    "from scipy import stats\n",
    "from sklearn.feature_selection import SelectKBest, chi2"
   ]
  },
  {
   "cell_type": "code",
   "execution_count": 2,
   "id": "d8eb86dd",
   "metadata": {
    "ExecuteTime": {
     "end_time": "2021-11-11T18:30:21.162290Z",
     "start_time": "2021-11-11T18:30:18.661182Z"
    }
   },
   "outputs": [],
   "source": [
    "df = pd.read_excel('accident.xlsx')"
   ]
  },
  {
   "cell_type": "code",
   "execution_count": 4,
   "id": "d961c2b3",
   "metadata": {
    "ExecuteTime": {
     "end_time": "2021-11-11T18:30:40.839932Z",
     "start_time": "2021-11-11T18:30:40.791837Z"
    }
   },
   "outputs": [
    {
     "data": {
      "text/html": [
       "<div>\n",
       "<style scoped>\n",
       "    .dataframe tbody tr th:only-of-type {\n",
       "        vertical-align: middle;\n",
       "    }\n",
       "\n",
       "    .dataframe tbody tr th {\n",
       "        vertical-align: top;\n",
       "    }\n",
       "\n",
       "    .dataframe thead th {\n",
       "        text-align: right;\n",
       "    }\n",
       "</style>\n",
       "<table border=\"1\" class=\"dataframe\">\n",
       "  <thead>\n",
       "    <tr style=\"text-align: right;\">\n",
       "      <th></th>\n",
       "      <th>is_adult</th>\n",
       "      <th>is_male</th>\n",
       "      <th>accident</th>\n",
       "    </tr>\n",
       "  </thead>\n",
       "  <tbody>\n",
       "    <tr>\n",
       "      <th>0</th>\n",
       "      <td>1</td>\n",
       "      <td>0</td>\n",
       "      <td>1</td>\n",
       "    </tr>\n",
       "    <tr>\n",
       "      <th>1</th>\n",
       "      <td>1</td>\n",
       "      <td>1</td>\n",
       "      <td>1</td>\n",
       "    </tr>\n",
       "    <tr>\n",
       "      <th>2</th>\n",
       "      <td>1</td>\n",
       "      <td>1</td>\n",
       "      <td>0</td>\n",
       "    </tr>\n",
       "    <tr>\n",
       "      <th>3</th>\n",
       "      <td>1</td>\n",
       "      <td>1</td>\n",
       "      <td>0</td>\n",
       "    </tr>\n",
       "    <tr>\n",
       "      <th>4</th>\n",
       "      <td>1</td>\n",
       "      <td>0</td>\n",
       "      <td>0</td>\n",
       "    </tr>\n",
       "  </tbody>\n",
       "</table>\n",
       "</div>"
      ],
      "text/plain": [
       "   is_adult  is_male  accident\n",
       "0         1        0         1\n",
       "1         1        1         1\n",
       "2         1        1         0\n",
       "3         1        1         0\n",
       "4         1        0         0"
      ]
     },
     "execution_count": 4,
     "metadata": {},
     "output_type": "execute_result"
    }
   ],
   "source": [
    "df.head()"
   ]
  },
  {
   "cell_type": "code",
   "execution_count": 5,
   "id": "f9b6610f",
   "metadata": {
    "ExecuteTime": {
     "end_time": "2021-11-11T18:30:46.594873Z",
     "start_time": "2021-11-11T18:30:46.266200Z"
    }
   },
   "outputs": [
    {
     "data": {
      "text/html": [
       "<div>\n",
       "<style scoped>\n",
       "    .dataframe tbody tr th:only-of-type {\n",
       "        vertical-align: middle;\n",
       "    }\n",
       "\n",
       "    .dataframe tbody tr th {\n",
       "        vertical-align: top;\n",
       "    }\n",
       "\n",
       "    .dataframe thead th {\n",
       "        text-align: right;\n",
       "    }\n",
       "</style>\n",
       "<table border=\"1\" class=\"dataframe\">\n",
       "  <thead>\n",
       "    <tr style=\"text-align: right;\">\n",
       "      <th>accident</th>\n",
       "      <th>0</th>\n",
       "      <th>1</th>\n",
       "      <th>All</th>\n",
       "    </tr>\n",
       "    <tr>\n",
       "      <th>is_adult</th>\n",
       "      <th></th>\n",
       "      <th></th>\n",
       "      <th></th>\n",
       "    </tr>\n",
       "  </thead>\n",
       "  <tbody>\n",
       "    <tr>\n",
       "      <th>1</th>\n",
       "      <td>781</td>\n",
       "      <td>146</td>\n",
       "      <td>927</td>\n",
       "    </tr>\n",
       "    <tr>\n",
       "      <th>All</th>\n",
       "      <td>781</td>\n",
       "      <td>146</td>\n",
       "      <td>927</td>\n",
       "    </tr>\n",
       "  </tbody>\n",
       "</table>\n",
       "</div>"
      ],
      "text/plain": [
       "accident    0    1  All\n",
       "is_adult               \n",
       "1         781  146  927\n",
       "All       781  146  927"
      ]
     },
     "execution_count": 5,
     "metadata": {},
     "output_type": "execute_result"
    }
   ],
   "source": [
    "adult_accident_crosstab = pd.crosstab(df['is_adult'], df['accident'], \n",
    "                                      margins=True)\n",
    "adult_accident_crosstab"
   ]
  },
  {
   "cell_type": "code",
   "execution_count": 6,
   "id": "8bced1dc",
   "metadata": {
    "ExecuteTime": {
     "end_time": "2021-11-11T18:30:47.919540Z",
     "start_time": "2021-11-11T18:30:47.840898Z"
    }
   },
   "outputs": [
    {
     "data": {
      "text/html": [
       "<div>\n",
       "<style scoped>\n",
       "    .dataframe tbody tr th:only-of-type {\n",
       "        vertical-align: middle;\n",
       "    }\n",
       "\n",
       "    .dataframe tbody tr th {\n",
       "        vertical-align: top;\n",
       "    }\n",
       "\n",
       "    .dataframe thead th {\n",
       "        text-align: right;\n",
       "    }\n",
       "</style>\n",
       "<table border=\"1\" class=\"dataframe\">\n",
       "  <thead>\n",
       "    <tr style=\"text-align: right;\">\n",
       "      <th>accident</th>\n",
       "      <th>0</th>\n",
       "      <th>1</th>\n",
       "      <th>All</th>\n",
       "    </tr>\n",
       "    <tr>\n",
       "      <th>is_male</th>\n",
       "      <th></th>\n",
       "      <th></th>\n",
       "      <th></th>\n",
       "    </tr>\n",
       "  </thead>\n",
       "  <tbody>\n",
       "    <tr>\n",
       "      <th>0</th>\n",
       "      <td>154</td>\n",
       "      <td>47</td>\n",
       "      <td>201</td>\n",
       "    </tr>\n",
       "    <tr>\n",
       "      <th>1</th>\n",
       "      <td>627</td>\n",
       "      <td>99</td>\n",
       "      <td>726</td>\n",
       "    </tr>\n",
       "    <tr>\n",
       "      <th>All</th>\n",
       "      <td>781</td>\n",
       "      <td>146</td>\n",
       "      <td>927</td>\n",
       "    </tr>\n",
       "  </tbody>\n",
       "</table>\n",
       "</div>"
      ],
      "text/plain": [
       "accident    0    1  All\n",
       "is_male                \n",
       "0         154   47  201\n",
       "1         627   99  726\n",
       "All       781  146  927"
      ]
     },
     "execution_count": 6,
     "metadata": {},
     "output_type": "execute_result"
    }
   ],
   "source": [
    "gender_accident_crosstab = pd.crosstab(df['is_male'], df['accident'], \n",
    "                                       margins=True)\n",
    "gender_accident_crosstab"
   ]
  },
  {
   "cell_type": "code",
   "execution_count": 7,
   "id": "51e9a2ab",
   "metadata": {
    "ExecuteTime": {
     "end_time": "2021-11-11T18:30:48.760875Z",
     "start_time": "2021-11-11T18:30:48.750902Z"
    }
   },
   "outputs": [],
   "source": [
    "def check_categorical_dependency(crosstab_table, confidence_interval):\n",
    "    stat, p, dof, expected = stats.chi2_contingency(crosstab_table)\n",
    "    print (\"Chi-Square Statistic value = {}\".format(stat))\n",
    "    print (\"P - Value = {}\".format(p))\n",
    "    alpha = 1.0 - confidence_interval\n",
    "    if p <= alpha:\n",
    "        print('Dependent (reject H0)')\n",
    "    else:\n",
    "\t      print('Independent (fail to reject H0)')\n",
    "    return expected"
   ]
  },
  {
   "cell_type": "code",
   "execution_count": 8,
   "id": "07fa89b7",
   "metadata": {
    "ExecuteTime": {
     "end_time": "2021-11-11T18:30:49.970813Z",
     "start_time": "2021-11-11T18:30:49.961835Z"
    }
   },
   "outputs": [
    {
     "name": "stdout",
     "output_type": "stream",
     "text": [
      "Chi-Square Statistic value = 0.0\n",
      "P - Value = 1.0\n",
      "Independent (fail to reject H0)\n"
     ]
    }
   ],
   "source": [
    "exp_table_1 = check_categorical_dependency(adult_accident_crosstab, 0.95)"
   ]
  },
  {
   "cell_type": "code",
   "execution_count": 9,
   "id": "2402a89e",
   "metadata": {
    "ExecuteTime": {
     "end_time": "2021-11-11T18:30:50.554769Z",
     "start_time": "2021-11-11T18:30:50.524846Z"
    }
   },
   "outputs": [
    {
     "data": {
      "text/html": [
       "<div>\n",
       "<style scoped>\n",
       "    .dataframe tbody tr th:only-of-type {\n",
       "        vertical-align: middle;\n",
       "    }\n",
       "\n",
       "    .dataframe tbody tr th {\n",
       "        vertical-align: top;\n",
       "    }\n",
       "\n",
       "    .dataframe thead th {\n",
       "        text-align: right;\n",
       "    }\n",
       "</style>\n",
       "<table border=\"1\" class=\"dataframe\">\n",
       "  <thead>\n",
       "    <tr style=\"text-align: right;\">\n",
       "      <th></th>\n",
       "      <th>0</th>\n",
       "      <th>1</th>\n",
       "      <th>2</th>\n",
       "    </tr>\n",
       "  </thead>\n",
       "  <tbody>\n",
       "    <tr>\n",
       "      <th>0</th>\n",
       "      <td>781.0</td>\n",
       "      <td>146.0</td>\n",
       "      <td>927.0</td>\n",
       "    </tr>\n",
       "    <tr>\n",
       "      <th>1</th>\n",
       "      <td>781.0</td>\n",
       "      <td>146.0</td>\n",
       "      <td>927.0</td>\n",
       "    </tr>\n",
       "  </tbody>\n",
       "</table>\n",
       "</div>"
      ],
      "text/plain": [
       "       0      1      2\n",
       "0  781.0  146.0  927.0\n",
       "1  781.0  146.0  927.0"
      ]
     },
     "execution_count": 9,
     "metadata": {},
     "output_type": "execute_result"
    }
   ],
   "source": [
    "pd.DataFrame(exp_table_1)"
   ]
  },
  {
   "cell_type": "code",
   "execution_count": 10,
   "id": "20f16590",
   "metadata": {
    "ExecuteTime": {
     "end_time": "2021-11-11T18:30:50.779446Z",
     "start_time": "2021-11-11T18:30:50.757506Z"
    }
   },
   "outputs": [
    {
     "name": "stdout",
     "output_type": "stream",
     "text": [
      "Chi-Square Statistic value = 11.270043347013548\n",
      "P - Value = 0.023691007358727482\n",
      "Dependent (reject H0)\n"
     ]
    }
   ],
   "source": [
    "exp_table_2 = check_categorical_dependency(gender_accident_crosstab, 0.95)"
   ]
  },
  {
   "cell_type": "code",
   "execution_count": 11,
   "id": "a5a47ce0",
   "metadata": {
    "ExecuteTime": {
     "end_time": "2021-11-11T18:30:50.980908Z",
     "start_time": "2021-11-11T18:30:50.962959Z"
    }
   },
   "outputs": [
    {
     "data": {
      "text/html": [
       "<div>\n",
       "<style scoped>\n",
       "    .dataframe tbody tr th:only-of-type {\n",
       "        vertical-align: middle;\n",
       "    }\n",
       "\n",
       "    .dataframe tbody tr th {\n",
       "        vertical-align: top;\n",
       "    }\n",
       "\n",
       "    .dataframe thead th {\n",
       "        text-align: right;\n",
       "    }\n",
       "</style>\n",
       "<table border=\"1\" class=\"dataframe\">\n",
       "  <thead>\n",
       "    <tr style=\"text-align: right;\">\n",
       "      <th></th>\n",
       "      <th>0</th>\n",
       "      <th>1</th>\n",
       "      <th>2</th>\n",
       "    </tr>\n",
       "  </thead>\n",
       "  <tbody>\n",
       "    <tr>\n",
       "      <th>0</th>\n",
       "      <td>169.343042</td>\n",
       "      <td>31.656958</td>\n",
       "      <td>201.0</td>\n",
       "    </tr>\n",
       "    <tr>\n",
       "      <th>1</th>\n",
       "      <td>611.656958</td>\n",
       "      <td>114.343042</td>\n",
       "      <td>726.0</td>\n",
       "    </tr>\n",
       "    <tr>\n",
       "      <th>2</th>\n",
       "      <td>781.000000</td>\n",
       "      <td>146.000000</td>\n",
       "      <td>927.0</td>\n",
       "    </tr>\n",
       "  </tbody>\n",
       "</table>\n",
       "</div>"
      ],
      "text/plain": [
       "            0           1      2\n",
       "0  169.343042   31.656958  201.0\n",
       "1  611.656958  114.343042  726.0\n",
       "2  781.000000  146.000000  927.0"
      ]
     },
     "execution_count": 11,
     "metadata": {},
     "output_type": "execute_result"
    }
   ],
   "source": [
    "pd.DataFrame(exp_table_2)"
   ]
  },
  {
   "cell_type": "markdown",
   "id": "255ee11e",
   "metadata": {},
   "source": [
    "# Feature Selection using Chi-Square"
   ]
  },
  {
   "cell_type": "code",
   "execution_count": 12,
   "id": "a203abb9",
   "metadata": {
    "ExecuteTime": {
     "end_time": "2021-11-11T18:30:51.417766Z",
     "start_time": "2021-11-11T18:30:51.403765Z"
    }
   },
   "outputs": [],
   "source": [
    "X = df[[\"is_adult\",\t\"is_male\"]]"
   ]
  },
  {
   "cell_type": "code",
   "execution_count": 13,
   "id": "7947b730",
   "metadata": {
    "ExecuteTime": {
     "end_time": "2021-11-11T18:30:51.692224Z",
     "start_time": "2021-11-11T18:30:51.673270Z"
    }
   },
   "outputs": [],
   "source": [
    "y = df[[\"accident\"]]"
   ]
  },
  {
   "cell_type": "code",
   "execution_count": 14,
   "id": "b887a7dd",
   "metadata": {
    "ExecuteTime": {
     "end_time": "2021-11-11T18:30:51.941040Z",
     "start_time": "2021-11-11T18:30:51.911121Z"
    }
   },
   "outputs": [],
   "source": [
    "X_new = SelectKBest(chi2, k=1).fit_transform(X, y)"
   ]
  },
  {
   "cell_type": "code",
   "execution_count": 15,
   "id": "34c0e7e2",
   "metadata": {
    "ExecuteTime": {
     "end_time": "2021-11-11T18:30:52.445190Z",
     "start_time": "2021-11-11T18:30:52.427207Z"
    }
   },
   "outputs": [
    {
     "data": {
      "text/plain": [
       "(927, 1)"
      ]
     },
     "execution_count": 15,
     "metadata": {},
     "output_type": "execute_result"
    }
   ],
   "source": [
    "X_new.shape"
   ]
  },
  {
   "cell_type": "code",
   "execution_count": 16,
   "id": "a9a03224",
   "metadata": {
    "ExecuteTime": {
     "end_time": "2021-11-11T18:30:52.832397Z",
     "start_time": "2021-11-11T18:30:52.793468Z"
    }
   },
   "outputs": [
    {
     "data": {
      "text/html": [
       "<div>\n",
       "<style scoped>\n",
       "    .dataframe tbody tr th:only-of-type {\n",
       "        vertical-align: middle;\n",
       "    }\n",
       "\n",
       "    .dataframe tbody tr th {\n",
       "        vertical-align: top;\n",
       "    }\n",
       "\n",
       "    .dataframe thead th {\n",
       "        text-align: right;\n",
       "    }\n",
       "</style>\n",
       "<table border=\"1\" class=\"dataframe\">\n",
       "  <thead>\n",
       "    <tr style=\"text-align: right;\">\n",
       "      <th>accident</th>\n",
       "      <th>0</th>\n",
       "      <th>1</th>\n",
       "    </tr>\n",
       "    <tr>\n",
       "      <th>row_0</th>\n",
       "      <th></th>\n",
       "      <th></th>\n",
       "    </tr>\n",
       "  </thead>\n",
       "  <tbody>\n",
       "    <tr>\n",
       "      <th>0</th>\n",
       "      <td>154</td>\n",
       "      <td>47</td>\n",
       "    </tr>\n",
       "    <tr>\n",
       "      <th>1</th>\n",
       "      <td>627</td>\n",
       "      <td>99</td>\n",
       "    </tr>\n",
       "  </tbody>\n",
       "</table>\n",
       "</div>"
      ],
      "text/plain": [
       "accident    0   1\n",
       "row_0            \n",
       "0         154  47\n",
       "1         627  99"
      ]
     },
     "execution_count": 16,
     "metadata": {},
     "output_type": "execute_result"
    }
   ],
   "source": [
    "pd.crosstab(np.squeeze(X_new), np.squeeze(y))"
   ]
  },
  {
   "cell_type": "code",
   "execution_count": null,
   "id": "93e8ec90",
   "metadata": {},
   "outputs": [],
   "source": []
  }
 ],
 "metadata": {
  "kernelspec": {
   "display_name": "Python 3",
   "language": "python",
   "name": "python3"
  },
  "language_info": {
   "codemirror_mode": {
    "name": "ipython",
    "version": 3
   },
   "file_extension": ".py",
   "mimetype": "text/x-python",
   "name": "python",
   "nbconvert_exporter": "python",
   "pygments_lexer": "ipython3",
   "version": "3.8.8"
  }
 },
 "nbformat": 4,
 "nbformat_minor": 5
}
