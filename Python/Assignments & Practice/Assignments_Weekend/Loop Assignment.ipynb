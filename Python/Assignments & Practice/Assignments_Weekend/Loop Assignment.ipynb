{
 "cells": [
  {
   "cell_type": "markdown",
   "metadata": {},
   "source": [
    "## Q. W. A P. which takes one number from 0 to 9 from the user and prints\n",
    "#### it in the word. And if the word is not from 0 to 9 then\n",
    "#### it should print that number is outside of the range and program should exit.\n",
    "#### For exapmple:-\n",
    "#### input = 1\n",
    "#### output = one"
   ]
  },
  {
   "cell_type": "code",
   "execution_count": 15,
   "metadata": {},
   "outputs": [
    {
     "name": "stdout",
     "output_type": "stream",
     "text": [
      "Enter a number from 0 to 9: 9\n",
      "Nine\n"
     ]
    }
   ],
   "source": [
    "num=int(input(\"Enter a number from 0 to 9: \"))\n",
    "if num==0:\n",
    "    print(\"Zero\")\n",
    "elif num==1:\n",
    "    print(\"One\")\n",
    "elif num==2:\n",
    "    print(\"Two\")\n",
    "elif num==3:\n",
    "    print(\"Three\")\n",
    "elif num==4:\n",
    "    print(\"Four\")\n",
    "elif num==5:\n",
    "    print(\"Five\")\n",
    "elif num==6:\n",
    "    print(\"Six\")\n",
    "elif num==7:\n",
    "    print(\"Seven\")\n",
    "elif num==8:\n",
    "    print(\"Eight\")\n",
    "elif num==9:\n",
    "    print(\"Nine\")\n",
    "else:\n",
    "    print(\"Number is not in the range 0-9\")"
   ]
  },
  {
   "cell_type": "markdown",
   "metadata": {},
   "source": [
    "## Q. W. A P. to implement calculator but the operation to be done and two numbers will be taken as input from user:-\n",
    "## Operation console should show below:-\n",
    "#### Please select any one operation from below:-\n",
    "#### * To add enter 1\n",
    "#### * to subtract enter 2\n",
    "#### * To multiply enter 3\n",
    "#### * To divide enter 4\n",
    "#### * To divide and find quotient enter 5\n",
    "#### * To divide and find remainder enter 6\n",
    "#### * To divide and find num1 to the power of num2 enter 7\n",
    "#### * To come out of the program enter 8"
   ]
  },
  {
   "cell_type": "code",
   "execution_count": 40,
   "metadata": {},
   "outputs": [
    {
     "name": "stdout",
     "output_type": "stream",
     "text": [
      "Enter the first number: 2\n",
      "Enter the second number: 3\n",
      "Please select any one operation from below:-\n",
      "* To add enter 1\n",
      "* to subtract enter 2\n",
      "* To multiply enter 3\n",
      "* To divide enter 4\n",
      "* To divide and find quotient enter 5\n",
      "* To divide and find remainder enter 6\n",
      "* To divide and find num1 to the power of num2 enter 7\n",
      "* To come out of the program enter 8\n",
      "\n",
      "Enter the operation that needs to be done: 6\n",
      "2\n"
     ]
    }
   ],
   "source": [
    "num1=int(input(\"Enter the first number: \"))\n",
    "num2=int(input(\"Enter the second number: \"))\n",
    "print(\"\"\"Please select any one operation from below:-\n",
    "* To add enter 1\n",
    "* to subtract enter 2\n",
    "* To multiply enter 3\n",
    "* To divide enter 4\n",
    "* To divide and find quotient enter 5\n",
    "* To divide and find remainder enter 6\n",
    "* To divide and find num1 to the power of num2 enter 7\n",
    "* To come out of the program enter 8\"\"\")\n",
    "print()\n",
    "Operation=int(input(\"Enter the operation that needs to be done: \"))\n",
    "if Operation==1:\n",
    "    print(num1+num2)\n",
    "elif Operation==2:\n",
    "    print(num1-num2)\n",
    "elif Operation==3:\n",
    "    print(num1*num2)\n",
    "elif Operation==4:\n",
    "    print(num1/num2)\n",
    "elif Operation==5:\n",
    "    print(num1//num2)\n",
    "elif Operation==6:\n",
    "    print(num1%num2)\n",
    "elif Operation==7:\n",
    "    print(num1**num2)\n",
    "elif Operation==8:\n",
    "    print(\"Out of Program\")\n",
    "else:\n",
    "    print(\"Number entered is not in the range 1-8\")"
   ]
  },
  {
   "cell_type": "markdown",
   "metadata": {},
   "source": [
    "## Q. W A P to check whether a year entered by user is an leap year or not ?\n",
    "#### Check with below input:-\n",
    "#### leap year:- 2012 , 1968 , 2004 , 1200 , 1600 , 2400\n",
    "#### Non-lear year:- 1971 , 2006 , 1700 , 1800 , 1900"
   ]
  },
  {
   "cell_type": "code",
   "execution_count": 39,
   "metadata": {},
   "outputs": [
    {
     "name": "stdout",
     "output_type": "stream",
     "text": [
      "Enter a year: 2400\n",
      "2400 is a leap year\n"
     ]
    }
   ],
   "source": [
    "year=int(input(\"Enter a year: \"))\n",
    "if year%400==0:\n",
    "    print(f'{year} is a leap year')\n",
    "elif year%100==0 and year%400!=0:\n",
    "    print(f'{year} is a non-leap year')\n",
    "elif year%100!=0 and year%4==0:\n",
    "    print(f'{year} is a leap year')\n",
    "else:\n",
    "    print(f'{year} is a non-leap year')      \n",
    "              "
   ]
  },
  {
   "cell_type": "markdown",
   "metadata": {},
   "source": [
    "## Q. W A P which takes one number from the user and checks whether it is an even or odd number?, If it even then prints number is even number else prints that number is odd number."
   ]
  },
  {
   "cell_type": "code",
   "execution_count": 74,
   "metadata": {},
   "outputs": [
    {
     "name": "stdout",
     "output_type": "stream",
     "text": [
      "Enter an integer: 25\n",
      "25 is an odd number\n"
     ]
    }
   ],
   "source": [
    "num=int(input(\"Enter an integer: \"))\n",
    "if(num%2==0):\n",
    "    print(f'{num} is an even number')\n",
    "else:\n",
    "    print(f'{num} is an odd number')"
   ]
  },
  {
   "cell_type": "markdown",
   "metadata": {},
   "source": [
    "## Q. W A P which takes two numbers from the user and prints below output:-\n",
    "#### 1 . num1 is greater than num2 if num1 is greater than num2\n",
    "#### 2 . num1 is smaller than num2 if num1 is smaller than num2\n",
    "#### 3 . num1 is equal to num2 if num1 and num2 are equal\n",
    "#### Note:- 1 . Do this problem using if - else\n",
    "#### 2 . Do this using ternary operator"
   ]
  },
  {
   "cell_type": "code",
   "execution_count": 48,
   "metadata": {},
   "outputs": [
    {
     "name": "stdout",
     "output_type": "stream",
     "text": [
      "Enter the first number: 2\n",
      "Enter the second number: 3\n",
      "num1 is smaller than num2\n"
     ]
    }
   ],
   "source": [
    "num1=int(input(\"Enter the first number: \"))\n",
    "num2=int(input(\"Enter the second number: \"))\n",
    "if num1>num2:\n",
    "    print(\"num1 is greater than num2\")\n",
    "elif num1<num2:\n",
    "    print(\"num1 is smaller than num2\")\n",
    "elif num1==num2:\n",
    "    print(\"num1 is equal to num2\")"
   ]
  },
  {
   "cell_type": "markdown",
   "metadata": {},
   "source": [
    "## Q. W A P which takes three numbers from the user and prints below output:-\n",
    "#### 1 . num1 is greater than num2 and num3 if num1 is greater than num2 and num3\n",
    "#### 2 . num2 is greater than num1 and num3 if num2 is greater than num1 and num3\n",
    "#### 3 . num3 is greater than num1 and num2 if num3 is greater than num1 and num2\n",
    "#### Note:- 1 . Do this problem using if - elif - else \n",
    "####        2 . Do this using ternary operator a = a if a>b else b"
   ]
  },
  {
   "cell_type": "code",
   "execution_count": 42,
   "metadata": {},
   "outputs": [
    {
     "name": "stdout",
     "output_type": "stream",
     "text": [
      "Enter the first number: 1441\n",
      "Enter the second number: 121\n",
      "Enter the third number: 786\n",
      "1441 is greater than 121 and 786\n"
     ]
    }
   ],
   "source": [
    "num1=int(input(\"Enter the first number: \"))\n",
    "num2=int(input(\"Enter the second number: \"))\n",
    "num3=int(input(\"Enter the third number: \"))\n",
    "if num1>num2 and num1>num3:\n",
    "    print(f'{num1} is greater than {num2} and {num3}')\n",
    "elif num2>num1 and num2>num3:\n",
    "    print(f'{num2} is greater than {num1} and {num3}')\n",
    "elif num3>num1 and num3>num2:\n",
    "    print(f'{num3} is greater than {num1} and {num2}')"
   ]
  },
  {
   "cell_type": "markdown",
   "metadata": {},
   "source": [
    "# Loops - for loop, while loop"
   ]
  },
  {
   "cell_type": "markdown",
   "metadata": {},
   "source": [
    "## Q. Write a Python program to find the length of the my_str using loop:-"
   ]
  },
  {
   "cell_type": "code",
   "execution_count": 26,
   "metadata": {},
   "outputs": [
    {
     "name": "stdout",
     "output_type": "stream",
     "text": [
      "Enter a string: Write a Python program to find the length of the my_str\n",
      "55\n"
     ]
    }
   ],
   "source": [
    "my_str=str(input(\"Enter a string: \"))\n",
    "counter=0\n",
    "for i in my_str:\n",
    "    counter+=1\n",
    "print(counter)"
   ]
  },
  {
   "cell_type": "markdown",
   "metadata": {},
   "source": [
    "## Q. Write a Python program to find the total number of times letter 'p' is appeared in the below string using loop:-"
   ]
  },
  {
   "cell_type": "code",
   "execution_count": 27,
   "metadata": {},
   "outputs": [
    {
     "name": "stdout",
     "output_type": "stream",
     "text": [
      "Enter a string: peter piper picked a peck of pickled peppers.\n",
      "9\n"
     ]
    }
   ],
   "source": [
    "my_str=str(input(\"Enter a string: \"))\n",
    "i=0\n",
    "count=0\n",
    "for i in my_str:\n",
    "    if i=='p' or i=='P':\n",
    "        count+=1\n",
    "    else:\n",
    "        continue\n",
    "print(count)"
   ]
  },
  {
   "cell_type": "markdown",
   "metadata": {},
   "source": [
    "## Q. Write a Python Program, to print all the indexes of all occurences of letter 'p' appeared in the string using loop:-"
   ]
  },
  {
   "cell_type": "code",
   "execution_count": 1,
   "metadata": {},
   "outputs": [
    {
     "name": "stdout",
     "output_type": "stream",
     "text": [
      "Enter a string: peter piper picked a peck of pickled peppers\n",
      "0\n",
      "6\n",
      "8\n",
      "12\n",
      "21\n",
      "29\n",
      "37\n",
      "39\n",
      "40\n"
     ]
    }
   ],
   "source": [
    "my_str=str(input(\"Enter a string: \"))\n",
    "i=0\n",
    "j=0\n",
    "count=0\n",
    "for i in my_str:\n",
    "    if i=='p' or i=='P':\n",
    "        count+=1\n",
    "        print(j)\n",
    "        j+=1\n",
    "    else:\n",
    "        j+=1"
   ]
  },
  {
   "cell_type": "markdown",
   "metadata": {},
   "source": [
    "## Q. Write a python program to find below output using loop:-"
   ]
  },
  {
   "cell_type": "markdown",
   "metadata": {},
   "source": [
    "#### Input:- 'peter piper picked a peck of pickled peppers.'\n",
    "#### Output:- [ 'peter' , 'piper' , 'picked' , 'a' , 'peck' , 'of' , 'pickled' , 'peppers' ]"
   ]
  },
  {
   "cell_type": "code",
   "execution_count": 24,
   "metadata": {},
   "outputs": [
    {
     "name": "stdout",
     "output_type": "stream",
     "text": [
      "Enter a string: peter piper picked a peck of pickled peppers.\n",
      "['peter', 'piper', 'picked', 'a', 'peck', 'of', 'pickled', 'peppers.']\n"
     ]
    }
   ],
   "source": [
    "lst=[]\n",
    "word=''\n",
    "my_str=str(input(\"Enter a string: \"))\n",
    "count=0\n",
    "for i in my_str:\n",
    "    if i!=' ':\n",
    "        word=word+i        \n",
    "    else:\n",
    "        lst.append(word)\n",
    "        word=''\n",
    "lst.append(word)    \n",
    "print(lst)        "
   ]
  },
  {
   "cell_type": "markdown",
   "metadata": {},
   "source": [
    "## Q. Write a python program to find below output using loop:-"
   ]
  },
  {
   "cell_type": "markdown",
   "metadata": {},
   "source": [
    "#### Input:- 'peter piper picked a peck of pickled peppers.'\n",
    "#### Output:- 'peppers pickled of peck a picked piper peter'"
   ]
  },
  {
   "cell_type": "code",
   "execution_count": 37,
   "metadata": {},
   "outputs": [
    {
     "name": "stdout",
     "output_type": "stream",
     "text": [
      "Enter a string: peter piper picked a peck of pickled peppers.\n",
      "peppers. pickled of peck a picked piper peter \n"
     ]
    }
   ],
   "source": [
    "lst=[]\n",
    "j=0\n",
    "word=''\n",
    "my_str=str(input(\"Enter a string: \"))\n",
    "count=0\n",
    "for i in my_str:\n",
    "    if i!=' ':\n",
    "        word=word+i        \n",
    "    else:\n",
    "        lst.append(word)\n",
    "        word=''\n",
    "lst.append(word)\n",
    "\n",
    "my_str=''\n",
    "lst.reverse()\n",
    "\n",
    "for i in lst:\n",
    "    my_str=my_str+lst[j]+' '\n",
    "    j+=1\n",
    "print(my_str)"
   ]
  },
  {
   "cell_type": "markdown",
   "metadata": {},
   "source": [
    "## Q. Write a python program to find below output using loop:-"
   ]
  },
  {
   "cell_type": "markdown",
   "metadata": {},
   "source": [
    "#### Input:- 'peter piper picked a peck of pickled peppers.'\n",
    "#### Output:- '.sreppep delkcip fo kcep a dekcip repip retep'"
   ]
  },
  {
   "cell_type": "code",
   "execution_count": 48,
   "metadata": {},
   "outputs": [
    {
     "name": "stdout",
     "output_type": "stream",
     "text": [
      "Enter a string: peter piper picked a peck of pickled peppers.\n",
      ".sreppep delkcip fo kcep a dekcip repip retep\n"
     ]
    }
   ],
   "source": [
    "string=''\n",
    "my_str=str(input(\"Enter a string: \"))\n",
    "# for i in my_str:\n",
    "\n",
    "l=len(my_str)\n",
    "\n",
    "while l!=0:\n",
    "    string=string+my_str[l-1]\n",
    "    l-=1\n",
    "\n",
    "print(string)"
   ]
  },
  {
   "cell_type": "markdown",
   "metadata": {},
   "source": [
    "## Q. Write a python program to find below output using loop:-"
   ]
  },
  {
   "cell_type": "markdown",
   "metadata": {},
   "source": [
    "#### Input:- 'peter piper picked a peck of pickled peppers.'\n",
    "#### Output:- 'retep repip dekcip a kcep fo delkcip sreppep'"
   ]
  },
  {
   "cell_type": "code",
   "execution_count": 50,
   "metadata": {},
   "outputs": [
    {
     "name": "stdout",
     "output_type": "stream",
     "text": [
      "Enter a string: peter piper picked a peck of pickled peppers\n",
      "retep repip dekcip a kcep fo delkcip sreppep \n"
     ]
    }
   ],
   "source": [
    "string=''\n",
    "my_str=str(input(\"Enter a string: \"))\n",
    "# for i in my_str:\n",
    "\n",
    "l=len(my_str)\n",
    "\n",
    "while l!=0:\n",
    "    string=string+my_str[l-1]\n",
    "    l-=1\n",
    "\n",
    "# print(string)\n",
    "\n",
    "lst=[]\n",
    "j=0\n",
    "word=''\n",
    "my_str=string\n",
    "count=0\n",
    "for i in my_str:\n",
    "    if i!=' ':\n",
    "        word=word+i        \n",
    "    else:\n",
    "        lst.append(word)\n",
    "        word=''\n",
    "lst.append(word)\n",
    "\n",
    "my_str=''\n",
    "lst.reverse()\n",
    "\n",
    "for i in lst:\n",
    "    my_str=my_str+lst[j]+' '\n",
    "    j+=1\n",
    "print(my_str)"
   ]
  },
  {
   "cell_type": "markdown",
   "metadata": {},
   "source": [
    "## Q. Write a python program to find below output using loop:-"
   ]
  },
  {
   "cell_type": "markdown",
   "metadata": {},
   "source": [
    "#### Input:- 'peter piper picked a peck of pickled peppers.'\n",
    "#### Output:- 'Peter Piper Picked A Peck Of Pickled Peppers'"
   ]
  },
  {
   "cell_type": "code",
   "execution_count": 73,
   "metadata": {},
   "outputs": [
    {
     "name": "stdout",
     "output_type": "stream",
     "text": [
      "Enter a string: peter piper picked a peck of pickled peppers.\n",
      "Peter PiPer Picked A Peck Of pickled peppers.\n"
     ]
    }
   ],
   "source": [
    "my_str=str(input(\"Enter a string: \"))\n",
    "i=0\n",
    "a=\"\"\n",
    "j=0\n",
    "lst=[]\n",
    "lst.append(my_str)\n",
    "\n",
    "count=0\n",
    "for i in my_str:\n",
    "    if i==' ':\n",
    "        j+=1\n",
    "        my_str=my_str.replace(my_str[j], chr(ord(my_str[j])).upper(),1)\n",
    "#       lst[j]=chr(ord(lst[j])-32)\n",
    "    else:\n",
    "        j+=1\n",
    "# my_str=str(lst)        \n",
    "print(my_str)\n",
    "# chr(ord(my_str[j])-32)"
   ]
  },
  {
   "cell_type": "markdown",
   "metadata": {},
   "source": [
    "## Q. Write a python program to find below output using loop:-\n",
    "#### Input:- 'Peter Piper Picked A Peck Of Pickled Peppers.'\n",
    "#### Output:- 'Peter piper picked a peck of pickled peppers'"
   ]
  },
  {
   "cell_type": "code",
   "execution_count": 38,
   "metadata": {},
   "outputs": [
    {
     "name": "stdout",
     "output_type": "stream",
     "text": [
      "Enter a string: Peter Piper Picked A Peck Of Pickled Peppers.\n",
      "Peter piper picked a peck of pickled peppers.\n"
     ]
    }
   ],
   "source": [
    "my_str=str(input(\"Enter a string: \"))\n",
    "# my_str1=my_str.lower()\n",
    "\n",
    "i=0\n",
    "\n",
    "j=0\n",
    "count=0\n",
    "for i in my_str:\n",
    "    if ord(i)>=65 and ord(i)<91:       \n",
    "        my_str=my_str.replace(my_str[j],chr(ord(i)+32))\n",
    "        j+=1\n",
    "    else:\n",
    "        j+=1\n",
    "my_str=my_str.replace(my_str[0],chr(ord(my_str[0])-32),1)\n",
    "print(my_str)\n",
    "\n",
    "# word.replace(letter,\"!\")\n",
    "# my_str[j]=i\n",
    "# my_str1.capitalize()Peter Piper Picked A Peck Of Pickled Peppers\n"
   ]
  },
  {
   "cell_type": "markdown",
   "metadata": {},
   "source": [
    "## Q. Write a python program to implement index method using loop. If sub_str is found in my_str then it will print the index of first occurrence of first character of matching string in my_str:-\n",
    "#### Input:- my_str = 'Peter Piper Picked A Peck Of Pickled Peppers.' ,\n",
    "#### sub_str = 'Pickl'\n",
    "#### Output:- 29"
   ]
  },
  {
   "cell_type": "code",
   "execution_count": 1,
   "metadata": {},
   "outputs": [
    {
     "name": "stdout",
     "output_type": "stream",
     "text": [
      "Enter a string: Peter Piper Picked A Peck Of Pickled Peppers.\n",
      "Enter a word: Pickl\n",
      "29\n"
     ]
    }
   ],
   "source": [
    "my_str=str(input(\"Enter a string: \"))\n",
    "# for i in my_str:\n",
    "word=str(input(\"Enter a word: \"))\n",
    "\n",
    "j=0\n",
    "n=0\n",
    "count=0\n",
    "\n",
    "# my_str.find(word)\n",
    "\n",
    "for i in range(len(my_str)-len(word)+1):\n",
    "    if word in my_str and my_str[j]==word[0]:\n",
    "        for t in word:\n",
    "            if t==my_str[j+n]:\n",
    "                count+=1\n",
    "                n+=1\n",
    "            else:\n",
    "                n+=1\n",
    "        if count==len(word):\n",
    "            print(j)\n",
    "            n=0\n",
    "        else:\n",
    "            j+=1\n",
    "            count=0\n",
    "            n=0\n",
    "    else:\n",
    "        j+=1\n",
    "        count=0\n",
    "        n=0\n",
    "        \n",
    "if word not in my_str:\n",
    "    print(\"The word doesn't exist in the string\")\n",
    "else:\n",
    "    n=0"
   ]
  },
  {
   "cell_type": "markdown",
   "metadata": {},
   "source": [
    "## Q. Write a python program to implement replace method using loop. If sub_str is found in my_str then it will replace the first occurrence of sub_str with new_str else it will will print sub_str not found:-\n",
    "#### Input:- my_str = 'Peter Piper Picked A Peck Of Pickled Peppers.' ,\n",
    "#### sub_str = 'Peck' , new_str = 'Pack'\n",
    "#### Output:- 'Peter Piper Picked A Pack Of Pickled Peppers.'"
   ]
  },
  {
   "cell_type": "code",
   "execution_count": 16,
   "metadata": {},
   "outputs": [
    {
     "name": "stdout",
     "output_type": "stream",
     "text": [
      "Enter a sentence: Peter Piper Picked A Peck Of Pickled Peppers.\n",
      "Enter a string to be changed: Peck\n",
      "Enter a new string to replace the above string: Pack\n",
      "Peter Piper Picked A Pack Of Pickled Peppers.\n"
     ]
    }
   ],
   "source": [
    "my_str=str(input(\"Enter a sentence: \"))\n",
    "sub_str=str(input(\"Enter a string to be changed: \"))\n",
    "new_str=str(input(\"Enter a new string to replace the above string: \"))\n",
    "\n",
    "if sub_str in my_str:\n",
    "    my_str=my_str.replace(sub_str,new_str,1)\n",
    "else:\n",
    "    print(\"sub_str not found\")\n",
    "\n",
    "print(my_str)\n",
    "    "
   ]
  },
  {
   "cell_type": "markdown",
   "metadata": {},
   "source": [
    "## Q. Write a python program to find below output (implements rjust and ljust) using loop:-\n",
    "#### Input:- 'Peter Piper Picked A Peck Of Pickled Peppers.' , sub_str ='Peck' ,\n",
    "#### Output:-  *********************Peck********************"
   ]
  },
  {
   "cell_type": "code",
   "execution_count": 29,
   "metadata": {},
   "outputs": [
    {
     "name": "stdout",
     "output_type": "stream",
     "text": [
      "Enter a sentence: Peter Piper Picked A Peck Of Pickled Peppers.\n",
      "Enter a string to be changed: Peck\n",
      "*********************Peck********************\n"
     ]
    }
   ],
   "source": [
    "my_str=str(input(\"Enter a sentence: \"))\n",
    "word=str(input(\"Enter a string to be changed: \"))\n",
    "\n",
    "# Code to first find the position of the first alphabet of the sub string entered\n",
    "j=0\n",
    "n=0\n",
    "count=0\n",
    "pos=0\n",
    "\n",
    "# my_str.find(word)\n",
    "\n",
    "for i in range(len(my_str)-len(word)+1):\n",
    "    if word in my_str and my_str[j]==word[0]:\n",
    "        for t in word:\n",
    "            if t==my_str[j+n]:\n",
    "                count+=1\n",
    "                n+=1\n",
    "            else:\n",
    "                n+=1\n",
    "        if count==len(word):\n",
    "            pos=j\n",
    "            n=0\n",
    "        else:\n",
    "            j+=1\n",
    "            count=0\n",
    "            n=0\n",
    "    else:\n",
    "        j+=1\n",
    "        count=0\n",
    "        n=0\n",
    "\n",
    "#Code to finally right adjust and left adjust the strings with '*'        \n",
    "if word not in my_str:\n",
    "    print(\"The word doesn't exist in the string\")\n",
    "else:\n",
    "    str1=word.rjust(pos+len(word),'*')\n",
    "    str2=str1.ljust(len(my_str),'*')\n",
    "    print(str2)"
   ]
  },
  {
   "cell_type": "markdown",
   "metadata": {},
   "source": [
    "## Q. Write a python program to find below output using loop:-\n",
    "#### Input:- 'This is Python class' , sep = ' is' ,\n",
    "#### Output:- [ 'This' , 'is' , 'Python class' ]"
   ]
  },
  {
   "cell_type": "code",
   "execution_count": 36,
   "metadata": {},
   "outputs": [
    {
     "name": "stdout",
     "output_type": "stream",
     "text": [
      "Enter a sentence: This is Python class\n",
      "Enter a seperator word: is\n",
      "['This ', 'is', ' Python class']\n"
     ]
    }
   ],
   "source": [
    "my_str=str(input(\"Enter a sentence: \"))\n",
    "sep=str(input(\"Enter a seperator word: \"))\n",
    "\n",
    "lst=[]\n",
    "pos=0\n",
    "\n",
    "word=sep\n",
    "\n",
    "if word not in my_str:\n",
    "    print(\"The word doesn't exist in the string\")\n",
    "else:\n",
    "    # Code to first find the position of the first alphabet of the sub string entered\n",
    "    j=0\n",
    "    n=0\n",
    "    count=0\n",
    "    pos=0\n",
    "\n",
    "    # my_str.find(word)\n",
    "\n",
    "    for i in range(len(my_str)-len(word)+1):\n",
    "        if word in my_str and my_str[j]==word[0]:\n",
    "            for t in word:\n",
    "                if t==my_str[j+n]:\n",
    "                    count+=1\n",
    "                    n+=1\n",
    "                else:\n",
    "                    n+=1\n",
    "            if count==len(word):\n",
    "                pos=j\n",
    "                n=0\n",
    "            else:\n",
    "                j+=1\n",
    "                count=0\n",
    "                n=0\n",
    "        else:\n",
    "            j+=1\n",
    "            count=0\n",
    "            n=0\n",
    "    lst.append(my_str[:pos]) \n",
    "    lst.append(sep)\n",
    "    lst.append(my_str[len(sep)+pos:])\n",
    "    print(lst)    \n",
    "    "
   ]
  }
 ],
 "metadata": {
  "kernelspec": {
   "display_name": "Python 3",
   "language": "python",
   "name": "python3"
  },
  "language_info": {
   "codemirror_mode": {
    "name": "ipython",
    "version": 3
   },
   "file_extension": ".py",
   "mimetype": "text/x-python",
   "name": "python",
   "nbconvert_exporter": "python",
   "pygments_lexer": "ipython3",
   "version": "3.8.3"
  }
 },
 "nbformat": 4,
 "nbformat_minor": 4
}
