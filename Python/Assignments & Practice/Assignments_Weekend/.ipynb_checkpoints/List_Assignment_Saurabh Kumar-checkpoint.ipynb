{
 "cells": [
  {
   "cell_type": "code",
   "execution_count": 1,
   "metadata": {
    "ExecuteTime": {
     "end_time": "2021-01-10T10:12:14.672288Z",
     "start_time": "2021-01-10T10:12:14.648323Z"
    },
    "id": "gtlAv2oq9yzd"
   },
   "outputs": [
    {
     "data": {
      "text/plain": [
       "[110, 120, 130, 140]"
      ]
     },
     "execution_count": 1,
     "metadata": {},
     "output_type": "execute_result"
    }
   ],
   "source": [
    "#Write a Python program to find the sum of all elements in a list using loop.\n",
    "#Input:- [10,20,30,40]\n",
    "#Output:- 100\n",
    "\n",
    "lst=[10,20,30,40]\n",
    "[i+100 for i in lst]\n"
   ]
  },
  {
   "cell_type": "code",
   "execution_count": 3,
   "metadata": {
    "ExecuteTime": {
     "end_time": "2021-01-10T10:18:56.345524Z",
     "start_time": "2021-01-10T10:18:56.329516Z"
    },
    "id": "gTbA8psa93Y_"
   },
   "outputs": [
    {
     "name": "stdout",
     "output_type": "stream",
     "text": [
      "240000\n"
     ]
    }
   ],
   "source": [
    "#Write a Python program to find the multiplication of all elements in a list using loop.\n",
    "#Input:- [10,20,30,40]\n",
    "#Output:- 240000\n",
    "\n",
    "lst=[10,20,30,40]\n",
    "j=1\n",
    "for i in lst:\n",
    "    j*=i\n",
    "print(j)"
   ]
  },
  {
   "cell_type": "code",
   "execution_count": 9,
   "metadata": {
    "ExecuteTime": {
     "end_time": "2021-01-10T10:23:40.727478Z",
     "start_time": "2021-01-10T10:23:40.711475Z"
    },
    "id": "XBCrEtLN94Lj"
   },
   "outputs": [
    {
     "name": "stdout",
     "output_type": "stream",
     "text": [
      "Largest number: 2321\n"
     ]
    }
   ],
   "source": [
    "#Write a Python program to find the largest number from a list using loop.\n",
    "#Input:- [10,100,2321, 1,200,2]\n",
    "#Output:- 2321\n",
    "\n",
    "lst=[10,100,2321, 1,200,2]\n",
    "\n",
    "j=lst[0]\n",
    "for i in lst:\n",
    "    if i>j:\n",
    "        j=i\n",
    "    else:\n",
    "        continue\n",
    "print('Largest number:',j)"
   ]
  },
  {
   "cell_type": "code",
   "execution_count": 10,
   "metadata": {
    "ExecuteTime": {
     "end_time": "2021-01-10T10:26:45.130114Z",
     "start_time": "2021-01-10T10:26:45.114104Z"
    },
    "id": "l3paUtbH94Vw"
   },
   "outputs": [
    {
     "name": "stdout",
     "output_type": "stream",
     "text": [
      "Smallest number: 1\n"
     ]
    }
   ],
   "source": [
    "#Write a Python program to find the smallest number from a list using loop.\n",
    "#Input:- [10,100,2321, 1,200,2]\n",
    "#Output:- 1\n",
    "\n",
    "lst=[10,100,2321, 1,200,2]\n",
    "\n",
    "j=lst[0]\n",
    "for i in lst:\n",
    "    if i<j:\n",
    "        j=i\n",
    "    else:\n",
    "        continue\n",
    "print('Smallest number:',j)\n"
   ]
  },
  {
   "cell_type": "code",
   "execution_count": 24,
   "metadata": {
    "ExecuteTime": {
     "end_time": "2021-01-10T10:52:10.922010Z",
     "start_time": "2021-01-10T10:52:10.899702Z"
    },
    "id": "JTVgy5VD94cE"
   },
   "outputs": [
    {
     "name": "stdout",
     "output_type": "stream",
     "text": [
      "Number of strings having length more than 2, and that are palindromes: 2\n"
     ]
    }
   ],
   "source": [
    "#Write a Python program to count the number of strings having length more than 2 and are palindrome in a list using loop.\n",
    "#Input:- ['ab', 'abc', 'aba', 'xyz', '1991']\n",
    "#Output:- 2\n",
    "\n",
    "lst=['ab', 'abc', 'aba', 'xyz', '1991']\n",
    "\n",
    "j=0\n",
    "for i in lst:\n",
    "    if len(i)>2 and (i == i[::-1]):\n",
    "        j+=1\n",
    "    else:\n",
    "        continue\n",
    "print('Number of strings having length more than 2, and that are palindromes:',j)\n"
   ]
  },
  {
   "cell_type": "code",
   "execution_count": 133,
   "metadata": {
    "ExecuteTime": {
     "end_time": "2021-01-10T16:06:48.838856Z",
     "start_time": "2021-01-10T16:06:48.828884Z"
    },
    "id": "xs-ZGJbJ94gr"
   },
   "outputs": [
    {
     "name": "stdout",
     "output_type": "stream",
     "text": [
      "[2, 3, 9, 10, 10, 80, 215, 298, 315, 483, 1991]\n"
     ]
    }
   ],
   "source": [
    "#Write a Python program to sort a list in ascending order using loop.\n",
    "#Input:- [100,10,1,298,65,483,49876,2,80,9,9213]\n",
    "#Output:- [1,2,9,10,65,80,100,298,483,9213,49876]\n",
    "#BUBBLE SORT LOGIC\n",
    "\n",
    "Input=[10,10,3,298,1991,483,315,2,80,9,215]\n",
    "b=len(Input)\n",
    "\n",
    "for i in range(0,b-2):\n",
    "    for k in range(0,b-1):\n",
    "        if Input[k]>Input[k+1]:\n",
    "            a=Input[k]\n",
    "            Input[k]=Input[k+1]\n",
    "            Input[k+1]=a\n",
    "        else:\n",
    "            continue\n",
    "print(Input)"
   ]
  },
  {
   "cell_type": "code",
   "execution_count": 124,
   "metadata": {
    "ExecuteTime": {
     "end_time": "2021-01-10T15:27:10.938741Z",
     "start_time": "2021-01-10T15:27:10.928769Z"
    },
    "id": "VhKQJizZ94kg"
   },
   "outputs": [
    {
     "name": "stdout",
     "output_type": "stream",
     "text": [
      "[(9, 1), (2, 3), (5, 4), (5, 5), (7, 6), (5, 9)]\n"
     ]
    }
   ],
   "source": [
    "#Write a Python program to get a sorted list in increasing order of last element in each tuple in a given list using loop.\n",
    "#Input:- [(5,4),(9,1),(2,3),(5,9),(7,6),(5,5)]\n",
    "#output:- [(9,1),(2,3),(5,4),(5,5),(7,6),(5,9)]\n",
    "\n",
    "Input= [(5,4),(9,1),(2,3),(5,9),(7,6),(5,5)]\n",
    "lst=[]\n",
    "lst2=[]\n",
    "j=0\n",
    "\n",
    "for i in Input:\n",
    "    lst2.append(Input[j][1])\n",
    "    j+=1\n",
    "lst2.sort()\n",
    "lst2\n",
    "\n",
    "for k in lst2:\n",
    "    for i in Input:\n",
    "        if i[1]==k:\n",
    "            lst.append(i)\n",
    "print(lst)"
   ]
  },
  {
   "cell_type": "code",
   "execution_count": 119,
   "metadata": {
    "ExecuteTime": {
     "end_time": "2021-01-10T15:09:26.723798Z",
     "start_time": "2021-01-10T15:09:26.679916Z"
    },
    "id": "YJrCLYp694n_"
   },
   "outputs": [
    {
     "name": "stdout",
     "output_type": "stream",
     "text": [
      "[1, 1, 1, 10, 10, 11, 11, 29, 29, 92, 768, 876, 876]\n",
      "[1, 10, 11, 29, 92, 768, 876]\n"
     ]
    }
   ],
   "source": [
    "#Write a Python program to remove duplicate element from a list using loop.\n",
    "#Input:- [10,1,11,1,29,876,768,10,11,1,92,29,876]\n",
    "#Output:- [10,1,11,29,876,768,92]\n",
    "\n",
    "Input=[10,1,11,1,29,876,768,10,11,1,92,29,876]\n",
    "\n",
    "Input.sort()\n",
    "print(Input)\n",
    "\n",
    "lst=[]\n",
    "j=Input[0]\n",
    "lst.append(j)\n",
    "\n",
    "for i in Input:\n",
    "    if j==i:\n",
    "        continue\n",
    "    else:\n",
    "        lst.append(i)\n",
    "        j=i\n",
    "print(lst)\n",
    "    \n",
    "    \n",
    "    "
   ]
  },
  {
   "cell_type": "code",
   "execution_count": 38,
   "metadata": {
    "ExecuteTime": {
     "end_time": "2021-01-10T12:41:07.498940Z",
     "start_time": "2021-01-10T12:41:07.491958Z"
    },
    "id": "koYe4YCu94rh"
   },
   "outputs": [
    {
     "name": "stdout",
     "output_type": "stream",
     "text": [
      "[]: List is empty\n",
      "[10, 20, 30]: List is not empty\n"
     ]
    }
   ],
   "source": [
    "#Write a Python program to check a list is empty or not?\n",
    "#Input:- []\n",
    "#Output:- List is empty\n",
    "#Input:- [10,20,30]\n",
    "#Output:- List is not empty\n",
    "\n",
    "lst1=[]\n",
    "lst2=[10,20,30]\n",
    "lst=[lst1,lst2]\n",
    "for i in lst:\n",
    "    if len(i)==0:\n",
    "        print(f'{i}: List is empty') \n",
    "    else:\n",
    "        print(f'{i}: List is not empty')"
   ]
  },
  {
   "cell_type": "code",
   "execution_count": 42,
   "metadata": {
    "ExecuteTime": {
     "end_time": "2021-01-10T12:44:29.078077Z",
     "start_time": "2021-01-10T12:44:29.068098Z"
    },
    "id": "mES1WANa94u5"
   },
   "outputs": [
    {
     "name": "stdout",
     "output_type": "stream",
     "text": [
      "out_lst [10, 10.2, (10+20j), 'Python', [10, 20], (10, 20)]\n"
     ]
    }
   ],
   "source": [
    "#Write a Python program to copy a list using loop.\n",
    "#inp_lst = [10,10.20,10+20j, 'Python', [10,20], (10,20)]\n",
    "#out_lst = [10,10.20,10+20j, 'Python', [10,20], (10,20)]\n",
    "\n",
    "inp_lst = [10,10.20,10+20j, 'Python', [10,20], (10,20)]\n",
    "out_lst=[]\n",
    "\n",
    "for i in inp_lst:\n",
    "    out_lst.append(i)\n",
    "print('out_lst', out_lst)\n"
   ]
  },
  {
   "cell_type": "code",
   "execution_count": 109,
   "metadata": {
    "ExecuteTime": {
     "end_time": "2021-01-10T13:49:38.253521Z",
     "start_time": "2021-01-10T13:49:38.244549Z"
    },
    "id": "CpBh31WO94yi"
   },
   "outputs": [
    {
     "name": "stdout",
     "output_type": "stream",
     "text": [
      "['would', 'much', 'could', 'woodchuck', 'wood', 'chuck']\n"
     ]
    }
   ],
   "source": [
    "#Write a Python program to find the list of words that are longer than or equal to 4 from a given string.\n",
    "#Input:- 'How much wood would a woodchuck chuck if a woodchuck could chuck wood'\n",
    "#Output:- ['much', 'wood', 'would', 'woodchuck', 'chuck', 'could']\n",
    "#Note:- Duplicate should be avoided.\n",
    "\n",
    "Input='How much wood would a woodchuck chuck if a woodchuck could chuck wood'\n",
    "lst=Input.split()\n",
    "a=set([each for each in lst if len(each)>=4])\n",
    "print(list(a))"
   ]
  },
  {
   "cell_type": "code",
   "execution_count": 75,
   "metadata": {
    "ExecuteTime": {
     "end_time": "2021-01-10T13:21:50.455559Z",
     "start_time": "2021-01-10T13:21:50.448579Z"
    }
   },
   "outputs": [
    {
     "name": "stdout",
     "output_type": "stream",
     "text": [
      "{1, 34, 23}\n"
     ]
    }
   ],
   "source": [
    "lst=[1,23,34]\n",
    "a=set(lst)\n",
    "print(a)"
   ]
  },
  {
   "cell_type": "code",
   "execution_count": 24,
   "metadata": {
    "ExecuteTime": {
     "end_time": "2021-01-11T16:11:07.452771Z",
     "start_time": "2021-01-11T16:11:07.439801Z"
    },
    "id": "YVfj0fgZ9416"
   },
   "outputs": [
    {
     "name": "stdout",
     "output_type": "stream",
     "text": [
      "[True]\n"
     ]
    }
   ],
   "source": [
    "#Write a Python program which takes two list as input and returns True if they have at least 3 common elements.\n",
    "#inp_lst1 = [10,20,'Python', 10.20, 10+20j, [10,20,30], (10,20,30)]\n",
    "#inp_lst2 = [(10,20,30),1,20+3j,100.2, 10+20j, [10,20,30],'Python']\n",
    "#Output:- True\n",
    "\n",
    "inp_lst1 = [10,20,'Python', 10.20, 10+20j, [10,20,30], (10,20,30)]\n",
    "inp_lst2 = [(10,20,30),1,20+3j,100.2, 10+20j, [10,20,30],'Python']\n",
    "k=0\n",
    "\n",
    "for i in inp_lst1:\n",
    "    for j in inp_lst2:\n",
    "        if i==j:\n",
    "            k+=1\n",
    "        else:\n",
    "            continue\n",
    "print([True if k>=3 else print('Number of common elements in the given lists are less than 3') ])          \n"
   ]
  },
  {
   "cell_type": "code",
   "execution_count": 2,
   "metadata": {
    "ExecuteTime": {
     "end_time": "2021-01-13T12:25:08.551184Z",
     "start_time": "2021-01-13T12:25:08.538217Z"
    },
    "id": "7vwc3pjR945O"
   },
   "outputs": [
    {
     "name": "stdout",
     "output_type": "stream",
     "text": [
      "[[0, 0, 0, 0], [0, 1, 2, 3], [0, 2, 4, 6], [0, 3, 6, 9]]\n"
     ]
    }
   ],
   "source": [
    "#Write a Python program to create a 4X4 2D matrix with below elements using loop and list comprehension both.\n",
    "#Output:- [[0,0,0,0],[0,1,2,3],[0,2,4,6],[0,3,6,9]]\n",
    "\n",
    "a=[]\n",
    "b=[]\n",
    "num=3\n",
    "i=0\n",
    "while i<=num:\n",
    "    j=0\n",
    "    while j<=num:\n",
    "        product=i*j\n",
    "        b.append(product)\n",
    "        j=j+1\n",
    "    a.append(b)\n",
    "    i+=1\n",
    "    b=[]\n",
    "    \n",
    "print(a)"
   ]
  },
  {
   "cell_type": "code",
   "execution_count": 15,
   "metadata": {
    "ExecuteTime": {
     "end_time": "2021-01-13T13:29:42.456328Z",
     "start_time": "2021-01-13T13:29:42.442398Z"
    },
    "id": "Pxafor84948b"
   },
   "outputs": [
    {
     "name": "stdout",
     "output_type": "stream",
     "text": [
      "[[[0, 0, 0, 0, 0, 0], [0, 0, 0, 0, 0, 0], [0, 0, 0, 0, 0, 0], [0, 0, 0, 0, 0, 0]], [[0, 0, 0, 0, 0, 0], [1, 1, 1, 1, 1, 1], [2, 2, 2, 2, 2, 2], [3, 3, 3, 3, 3, 3]], [[0, 0, 0, 0, 0, 0], [2, 2, 2, 2, 2, 2], [4, 4, 4, 4, 4, 4], [6, 6, 6, 6, 6, 6]]]\n"
     ]
    }
   ],
   "source": [
    "# Write a Python program to create a 3X4X6 3D matrix wiith below elements using loop\n",
    "#Output:- \n",
    "# [\n",
    "#     [[0,0,0,0,0,0],[0,0,0,0,0,0],[0,0,0,0,0,0],[0,0,0,0,0,0]],\n",
    "#     [[0,0,0,0,0,0],[1,1,1,1,1,1],[2,2,2,2,2,2],[3,3,3,3,3,3]],\n",
    "#     [[0,0,0,0,0,0],[2,2,2,2,2,2],[4,4,4,4,4,4],[6,6,6,6,6,6]]\n",
    "# ]\n",
    "\n",
    "output1=[]\n",
    "output2=[]\n",
    "Output=[]\n",
    "a=0\n",
    "\n",
    "for i in range(0,3):    \n",
    "    for j in range(0,4):\n",
    "        product=a*j\n",
    "        for k in range(0,6):           \n",
    "            output2.append(product)        \n",
    "        output1.append(output2)\n",
    "        output2=[]\n",
    "    j=j+1\n",
    "    a+=1\n",
    "    Output.append(output1)\n",
    "    output1=[]\n",
    "print(Output)"
   ]
  },
  {
   "cell_type": "code",
   "execution_count": 44,
   "metadata": {
    "ExecuteTime": {
     "end_time": "2021-01-10T12:47:02.626772Z",
     "start_time": "2021-01-10T12:47:02.617826Z"
    },
    "id": "lYNv8gk794_p"
   },
   "outputs": [
    {
     "name": "stdout",
     "output_type": "stream",
     "text": [
      "[21, 87, 45, 33, 1]\n"
     ]
    }
   ],
   "source": [
    "#Write a Python program which takes a list of numbers as input and prints a new list after removing even numbers from it.\n",
    "#Input:- [10,21,22,98,87,45,33,1,2,100]\n",
    "#Output:- [21,87,45,33,1]\n",
    "\n",
    "Input= [10,21,22,98,87,45,33,1,2,100]\n",
    "Output=[]\n",
    "\n",
    "[Output.append(i) for i in Input  if i%2!=0]\n",
    "\n",
    "print(Output)\n"
   ]
  },
  {
   "cell_type": "code",
   "execution_count": 9,
   "metadata": {
    "ExecuteTime": {
     "end_time": "2021-01-11T15:57:18.555910Z",
     "start_time": "2021-01-11T15:57:18.546934Z"
    },
    "id": "3BaCb-rB95B7"
   },
   "outputs": [
    {
     "name": "stdout",
     "output_type": "stream",
     "text": [
      "[100, 87, 1, 33, 10, 98, 21, 2, 22, 45]\n"
     ]
    }
   ],
   "source": [
    "#Write a Python program which takes a list from the user and prints it after reshuffling the elements of the list.\n",
    "Input= [10,21,22,98,87,45,33,1,2,100]\n",
    "#Output:- [1,87,21,10,33,2,100,45,98,22] (It may be any randon list but with same elements)\n",
    "\n",
    "import random\n",
    "\n",
    "random.shuffle(Input)\n",
    "\n",
    "print(Input)\n"
   ]
  }
 ],
 "metadata": {
  "colab": {
   "name": "List_Assignment.ipynb",
   "provenance": []
  },
  "kernelspec": {
   "display_name": "Python 3",
   "language": "python",
   "name": "python3"
  },
  "language_info": {
   "codemirror_mode": {
    "name": "ipython",
    "version": 3
   },
   "file_extension": ".py",
   "mimetype": "text/x-python",
   "name": "python",
   "nbconvert_exporter": "python",
   "pygments_lexer": "ipython3",
   "version": "3.8.3"
  }
 },
 "nbformat": 4,
 "nbformat_minor": 1
}
