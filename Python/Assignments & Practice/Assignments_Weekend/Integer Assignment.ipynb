{
 "cells": [
  {
   "cell_type": "markdown",
   "metadata": {},
   "source": [
    "### Q. Declare an int value and store it in a variable.\n",
    "###  Check the type and print the id of the same."
   ]
  },
  {
   "cell_type": "code",
   "execution_count": 1,
   "metadata": {},
   "outputs": [
    {
     "name": "stdout",
     "output_type": "stream",
     "text": [
      "200\n",
      "<class 'int'>\n",
      "140715055271936\n"
     ]
    }
   ],
   "source": [
    "a=200\n",
    "print(a)\n",
    "print(type(a))\n",
    "print(id(a))"
   ]
  },
  {
   "cell_type": "markdown",
   "metadata": {},
   "source": [
    "### Q. Take one int value between 0 - 256.\n",
    "### Assign it to two different variables.\n",
    "### Check the id of both the variables. It should come the same. Check why?"
   ]
  },
  {
   "cell_type": "code",
   "execution_count": 2,
   "metadata": {},
   "outputs": [
    {
     "name": "stdout",
     "output_type": "stream",
     "text": [
      "150\n",
      "140715055270336\n",
      "\n",
      "150\n",
      "140715055270336\n"
     ]
    }
   ],
   "source": [
    "a=150\n",
    "b=150\n",
    "print(a)\n",
    "print(id(a))\n",
    "print()\n",
    "print(b)\n",
    "print(id(b))\n",
    "# Ids of these two numbers should come same because the Interning for integers is defined only for integers lying from \n",
    "# 0 to 256. The Object Reusability Concept is valid for this integer range. So, any two variables which are assigned same \n",
    "# value in this integer range, will be pointing to the ID of the same assigned object. \n"
   ]
  },
  {
   "cell_type": "markdown",
   "metadata": {},
   "source": [
    "### Q. Take one int value either less than -5 or greater than 256.\n",
    "### Assign it to two different variables.\n",
    "### Check the id of both the variables. It should come different.Check why?"
   ]
  },
  {
   "cell_type": "code",
   "execution_count": 3,
   "metadata": {},
   "outputs": [
    {
     "name": "stdout",
     "output_type": "stream",
     "text": [
      "350\n",
      "1691507995536\n",
      "\n",
      "350\n",
      "1691507995792\n"
     ]
    }
   ],
   "source": [
    "a=350\n",
    "b=350\n",
    "print(a)\n",
    "print(id(a))\n",
    "print()\n",
    "print(b)\n",
    "print(id(b))\n",
    "# Ids of these two numbers should be different because the Interning for integers is only defined only for integers lying \n",
    "# from 0 to 256. So, any two variables which are assigned same value outside this integer range, will be pointing to \n",
    "# different IDs.\n"
   ]
  },
  {
   "cell_type": "markdown",
   "metadata": {},
   "source": [
    "## Q. Arithmetic Operations on integers\n",
    "#### Take two different integer values.\n",
    "#### Store them in two different variables.\n",
    "#### Do below operations on them:-\n",
    "#### Find sum of both numbers\n",
    "#### Find difference between them\n",
    "#### Find the product of both numbers.\n",
    "#### Find value after dividing first num with second number\n",
    "#### Find the remainder after dividing first number with second number\n",
    "#### Find the quotient after dividing first number with second number\n",
    "#### Find the result of the first num to the power of the second number."
   ]
  },
  {
   "cell_type": "code",
   "execution_count": 4,
   "metadata": {},
   "outputs": [
    {
     "name": "stdout",
     "output_type": "stream",
     "text": [
      "480\n",
      "20\n",
      "57500\n",
      "1.0869565217391304\n",
      "20\n",
      "1\n",
      "335893805378354437589548279447511356478521109968151432807727507548514775054395404835113680467197655880531299020133820550385979723707926956510961932997109133034119651916316294752928864883916612775021628242576912509747179815202102683044405485382013888031846270121504495641400260769280500250388854510674718767404556274414062500000000000000000000000000000000000000000000000000000000000000000000000000000000000000000000000000000000000000000000000000000000000000000000000000000000000000000000000000000000000000000000000000000000000000000000000000000000000000\n"
     ]
    }
   ],
   "source": [
    "a=250\n",
    "b=230\n",
    "print(a+b)\n",
    "print(a-b)\n",
    "print(a*b)\n",
    "print(a/b)\n",
    "print(a%b)\n",
    "print(a//b)\n",
    "print(a**b)"
   ]
  },
  {
   "cell_type": "markdown",
   "metadata": {},
   "source": [
    "## Q. Comparison Operators on integers\n",
    "#### Take two different integer values.\n",
    "#### Store them in two different variables.\n",
    "#### Do below operations on them:-\n",
    "#### Compare the two numbers with below operator:-\n",
    "#### Greater than, '>'\n",
    "#### Smaller than, '<'\n",
    "#### Greater than or equal to, '>='\n",
    "#### Less than or equal to, '<='\n",
    "#### Observe their output(return type should be boolean)"
   ]
  },
  {
   "cell_type": "code",
   "execution_count": 5,
   "metadata": {},
   "outputs": [
    {
     "name": "stdout",
     "output_type": "stream",
     "text": [
      "True\n",
      "False\n",
      "True\n",
      "False\n"
     ]
    }
   ],
   "source": [
    "a=250\n",
    "b=230\n",
    "print(a>b)\n",
    "print(a<b)\n",
    "print(a>=b)\n",
    "print(a<=b)"
   ]
  },
  {
   "cell_type": "markdown",
   "metadata": {},
   "source": [
    "## Q. Equality Operator\n",
    "#### Take two different integer values.\n",
    "#### Store them in two different variables.\n",
    "#### Equate them using equality operators (==, !=)\n",
    "#### Observe the output(return type should be boolean)"
   ]
  },
  {
   "cell_type": "code",
   "execution_count": 6,
   "metadata": {},
   "outputs": [
    {
     "name": "stdout",
     "output_type": "stream",
     "text": [
      "False\n",
      "True\n"
     ]
    }
   ],
   "source": [
    "a=250\n",
    "b=230\n",
    "print(a==b)\n",
    "print(a!=b)"
   ]
  },
  {
   "cell_type": "markdown",
   "metadata": {},
   "source": [
    "## Q. Logical operators\n",
    "#### Observe the output of below code\n",
    "#### Cross check the output manually\n",
    "#### print ( 10 and 20 )\n",
    "#### #----------------------------------------->Output is 20\n",
    "#### print ( 0 and 20 )\n",
    "#### #----------------------------------------->Output is 0\n",
    "#### print ( 20 and 0 )\n",
    "#### #----------------------------------------->Output is 0\n",
    "#### print ( 0 and 0 )\n",
    "#### #----------------------------------------->Output is 0\n",
    "#### print ( 10 or 20 )\n",
    "#### #----------------------------------------->Output is 10\n",
    "#### print ( 0 or 20 )\n",
    "#### #----------------------------------------->Output is 20\n",
    "#### print ( 20 or 0 )\n",
    "#### #----------------------------------------->Output is 20\n",
    "#### print ( 0 or 0 )\n",
    "#### #----------------------------------------->Output is 0\n",
    "#### print ( not 10 )\n",
    "#### #----------------------------------------->Output is False\n",
    "#### print ( not 0 )\n",
    "#### #----------------------------------------->Output is True"
   ]
  },
  {
   "cell_type": "code",
   "execution_count": 7,
   "metadata": {},
   "outputs": [
    {
     "name": "stdout",
     "output_type": "stream",
     "text": [
      "20\n",
      "0\n",
      "0\n",
      "0\n",
      "10\n",
      "20\n",
      "20\n",
      "0\n",
      "False\n",
      "True\n"
     ]
    }
   ],
   "source": [
    "print ( 10 and 20 )\n",
    "#----------------------------------------->Output is 20\n",
    "print ( 0 and 20 )\n",
    "#----------------------------------------->Output is 0\n",
    "print ( 20 and 0 )\n",
    "#----------------------------------------->Output is 0\n",
    "print ( 0 and 0 )\n",
    "#----------------------------------------->Output is 0\n",
    "print ( 10 or 20 )\n",
    "#----------------------------------------->Output is 10\n",
    "print ( 0 or 20 )\n",
    "#----------------------------------------->Output is 20\n",
    "print ( 20 or 0 )\n",
    "#----------------------------------------->Output is 20\n",
    "print ( 0 or 0 )\n",
    "#----------------------------------------->Output is 0\n",
    "print ( not 10 )\n",
    "#----------------------------------------->Output is False\n",
    "print ( not 0 )\n",
    "#----------------------------------------->Output is True"
   ]
  },
  {
   "cell_type": "markdown",
   "metadata": {},
   "source": [
    "## Q. Bitwise Operators\n",
    "#### Do below operations on the values provided below:-\n",
    "#### Bitwise and(&) -----------------------------------------> 10, 20\n",
    "#### -------> Output is 0\n",
    "#### Bitwise or(|) -----------------------------------------> 10, 20\n",
    "#### -------> Output is 30\n",
    "#### Bitwise(^) -----------------------------------------> 10, 20\n",
    "#### -------> Output is 30\n",
    "#### Bitwise negation(~) ------------------------------------> 10\n",
    "#### -------> Output is -11\n",
    "#### Bitwise left shift ------------------------------------> 10,2\n",
    "#### -------> Output is 40\n",
    "#### Bitwise right shift ------------------------------------> 10,2\n",
    "#### -------> Output is 2\n",
    "#### Cross check the output manually"
   ]
  },
  {
   "cell_type": "code",
   "execution_count": 8,
   "metadata": {},
   "outputs": [
    {
     "name": "stdout",
     "output_type": "stream",
     "text": [
      "0\n",
      "30\n",
      "30\n",
      "-11\n",
      "40\n",
      "2\n"
     ]
    }
   ],
   "source": [
    "print(10 & 20)     #Bitwise and(&)\n",
    "print(10 | 20)     #Bitwise or(|)\n",
    "print(10 ^ 20)     #Bitwise xor(^)\n",
    "print(~10)         #Bitwise negation(~)\n",
    "print(10<<2)       #Bitwise leftshift (10,2)\n",
    "print(10>>2)       #Bitwise Rightshift (10,2)"
   ]
  },
  {
   "cell_type": "markdown",
   "metadata": {},
   "source": [
    "### Verification for the previous question"
   ]
  },
  {
   "cell_type": "code",
   "execution_count": 10,
   "metadata": {},
   "outputs": [],
   "source": [
    "# print(bin(10))\n",
    "# print(bin(20))\n",
    "# #0000000000000000000000000000000000000000000000000000000000101000\n",
    "# #0000000000000000000000000000000000000000000000000000000000000010\n",
    "# print(int(0b101000))\n",
    "# print(int(0b10))"
   ]
  },
  {
   "cell_type": "markdown",
   "metadata": {},
   "source": [
    "## Q. What is the output of expression inside print statement. Cross check before running the program."
   ]
  },
  {
   "cell_type": "code",
   "execution_count": 11,
   "metadata": {},
   "outputs": [
    {
     "name": "stdout",
     "output_type": "stream",
     "text": [
      "True\n",
      "False\n",
      "False\n",
      "True\n"
     ]
    }
   ],
   "source": [
    "a = 10\n",
    "b = 10\n",
    "print(a is b) #True or False?               is & is not compare the Ids of the numbers\n",
    "print(a is not b) #True or False?\n",
    "a = 1000\n",
    "b = 1000\n",
    "print(a is b) #True or False?               Here, both a & b lies outside the range, so they have different Ids\n",
    "print(a is not b) #True or False?"
   ]
  },
  {
   "cell_type": "markdown",
   "metadata": {},
   "source": [
    "## Q. What is the output of expression inside print statement. Cross check before running the program."
   ]
  },
  {
   "cell_type": "code",
   "execution_count": 12,
   "metadata": {},
   "outputs": [
    {
     "name": "stdout",
     "output_type": "stream",
     "text": [
      "20\n"
     ]
    }
   ],
   "source": [
    "print ( 10 +( 10 * 32 )// 2 ** 5 & 20 +(~( -10 ))<< 2 )"
   ]
  },
  {
   "cell_type": "code",
   "execution_count": 13,
   "metadata": {},
   "outputs": [],
   "source": [
    "# STEP-BY-STEP Execution\n",
    "\n",
    "# print ( 10 +( 10 * 32 )// 2 ** 5 & 20 +(~( -10 ))<< 2 )\n",
    "# print ( 10 +( 10 * 32 )// 2 ** 5 & 20 +9 << 2 )\n",
    "# print ( 10 +( 10 * 32 )// 2 ** 5 & 29 << 2 )\n",
    "# print ( 10 +( 10 * 32 )// 2 ** 5 & 116 )\n",
    "# print ( 10 +320// 32 & 116 )\n",
    "# print ( 20 & 116 )\n",
    "# 20\n",
    "\n",
    "# bin(20)  # 0b0010100\n",
    "# bin(56)  # 0b1110100"
   ]
  },
  {
   "cell_type": "markdown",
   "metadata": {},
   "source": [
    "## Q. Membership operation\n",
    "#### in, not in are two membership operators and it returns boolean value"
   ]
  },
  {
   "cell_type": "code",
   "execution_count": 14,
   "metadata": {},
   "outputs": [
    {
     "name": "stdout",
     "output_type": "stream",
     "text": [
      "True\n",
      "True\n",
      "True\n",
      "True\n",
      "True\n",
      "True\n"
     ]
    }
   ],
   "source": [
    "print ( '2' in 'Python2.7.8' )\n",
    "print ( 10 in [ 10 , 10.20 , 10 + 20j , 'Python' ])\n",
    "print ( 10 in ( 10 , 10.20 , 10 + 20j , 'Python' ))\n",
    "print ( 2 in { 1 , 2 , 3 })\n",
    "print ( 3 in { 1 : 100 , 2 : 200 , 3 : 300 })\n",
    "print ( 10 in range ( 20 ))"
   ]
  },
  {
   "cell_type": "markdown",
   "metadata": {},
   "source": [
    "## Q. An integer can be represented in binary, octal or hexadecimal form.\n",
    "#### Declare one binary, one octal and one hexadecimal value and store them in three different variables.\n",
    "#### Convert 9876 to its binary, octal and hexadecimal equivalent and print their corresponding value."
   ]
  },
  {
   "cell_type": "code",
   "execution_count": 15,
   "metadata": {},
   "outputs": [
    {
     "name": "stdout",
     "output_type": "stream",
     "text": [
      "0b10011010010100\n",
      "0o23224\n",
      "0x2694\n"
     ]
    }
   ],
   "source": [
    "a= 0b1000100\n",
    "b= 0o5734\n",
    "c= 0x563cd\n",
    "print(bin(9876)) \n",
    "print(oct(9876))\n",
    "print(hex(9876))"
   ]
  },
  {
   "cell_type": "markdown",
   "metadata": {},
   "source": [
    "## Q. What will be the output of following:-"
   ]
  },
  {
   "cell_type": "code",
   "execution_count": 16,
   "metadata": {},
   "outputs": [
    {
     "name": "stdout",
     "output_type": "stream",
     "text": [
      "80\n",
      "3870\n",
      "64222\n",
      "0b1010000\n",
      "0o7436\n",
      "0xfade\n",
      "0b1010000\n",
      "0b1111101011011110\n",
      "0o175336\n",
      "0o7436\n",
      "0x50\n",
      "0xfade\n"
     ]
    }
   ],
   "source": [
    "a = 0b1010000\n",
    "print (a)\n",
    "b = 0o7436\n",
    "print (b)\n",
    "c = 0xfade\n",
    "print (c)\n",
    "print ( bin ( 80 ))\n",
    "print ( oct ( 3870 ))\n",
    "print ( hex ( 64222 ))\n",
    "print ( bin ( 0b1010000))\n",
    "print ( bin ( 0xfade ))\n",
    "print ( oct ( 0xfade ))\n",
    "print ( oct ( 0o7436))\n",
    "print ( hex ( 0b1010000))\n",
    "print ( hex ( 0xfade ))"
   ]
  }
 ],
 "metadata": {
  "kernelspec": {
   "display_name": "Python 3",
   "language": "python",
   "name": "python3"
  },
  "language_info": {
   "codemirror_mode": {
    "name": "ipython",
    "version": 3
   },
   "file_extension": ".py",
   "mimetype": "text/x-python",
   "name": "python",
   "nbconvert_exporter": "python",
   "pygments_lexer": "ipython3",
   "version": "3.8.3"
  }
 },
 "nbformat": 4,
 "nbformat_minor": 4
}
