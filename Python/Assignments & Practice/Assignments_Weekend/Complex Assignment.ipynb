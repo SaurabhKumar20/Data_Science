{
 "cells": [
  {
   "cell_type": "markdown",
   "metadata": {},
   "source": [
    "## Q. Declare a complex number and store it in a variable.\n",
    "#### Check the type and print the id of the same."
   ]
  },
  {
   "cell_type": "code",
   "execution_count": 1,
   "metadata": {},
   "outputs": [
    {
     "name": "stdout",
     "output_type": "stream",
     "text": [
      "(20+10j)\n",
      "<class 'complex'> 1635992523600\n"
     ]
    }
   ],
   "source": [
    "a=20+10j\n",
    "print(a)\n",
    "print(type(a), id(a))"
   ]
  },
  {
   "cell_type": "markdown",
   "metadata": {},
   "source": [
    "## Q. Arithmetic Operations on complex number\n",
    "#### Take two different complex numbers.\n",
    "#### Store them in two different variables.\n",
    "#### Do below operations on them:-\n",
    "#### Find sum of both numbers\n",
    "#### Find difference between them\n",
    "#### Find the product of both numbers.\n",
    "#### Find value after dividing first num with second number\n",
    "#### Find the result of the first num to the power of the second number."
   ]
  },
  {
   "cell_type": "code",
   "execution_count": 2,
   "metadata": {},
   "outputs": [
    {
     "name": "stdout",
     "output_type": "stream",
     "text": [
      "(30+40j)\n",
      "(10-20j)\n",
      "(-100+700j)\n",
      "(0.4999999999999999-0.5j)\n",
      "(-25412390.85566285-12788183.053630497j)\n"
     ]
    }
   ],
   "source": [
    "a=20+10j\n",
    "b=10+30j\n",
    "print(a+b)\n",
    "print(a-b)\n",
    "print(a*b)\n",
    "print(a/b)\n",
    "print(a**b)"
   ]
  },
  {
   "cell_type": "markdown",
   "metadata": {},
   "source": [
    "## Q. Comparison Operation not applicable between instance of complex values.\n",
    "#### Object reusability concept is not applicable on complex number"
   ]
  },
  {
   "cell_type": "code",
   "execution_count": 3,
   "metadata": {},
   "outputs": [
    {
     "ename": "TypeError",
     "evalue": "'>' not supported between instances of 'complex' and 'complex'",
     "output_type": "error",
     "traceback": [
      "\u001b[1;31m---------------------------------------------------------------------------\u001b[0m",
      "\u001b[1;31mTypeError\u001b[0m                                 Traceback (most recent call last)",
      "\u001b[1;32m<ipython-input-3-27786418da17>\u001b[0m in \u001b[0;36m<module>\u001b[1;34m\u001b[0m\n\u001b[0;32m      1\u001b[0m \u001b[0ma\u001b[0m\u001b[1;33m=\u001b[0m\u001b[1;36m20\u001b[0m\u001b[1;33m+\u001b[0m\u001b[1;36m10j\u001b[0m\u001b[1;33m\u001b[0m\u001b[1;33m\u001b[0m\u001b[0m\n\u001b[0;32m      2\u001b[0m \u001b[0mb\u001b[0m\u001b[1;33m=\u001b[0m\u001b[1;36m10\u001b[0m\u001b[1;33m+\u001b[0m\u001b[1;36m30j\u001b[0m\u001b[1;33m\u001b[0m\u001b[1;33m\u001b[0m\u001b[0m\n\u001b[1;32m----> 3\u001b[1;33m \u001b[0mprint\u001b[0m\u001b[1;33m(\u001b[0m\u001b[0ma\u001b[0m\u001b[1;33m>\u001b[0m\u001b[0mb\u001b[0m\u001b[1;33m)\u001b[0m\u001b[1;33m\u001b[0m\u001b[1;33m\u001b[0m\u001b[0m\n\u001b[0m",
      "\u001b[1;31mTypeError\u001b[0m: '>' not supported between instances of 'complex' and 'complex'"
     ]
    }
   ],
   "source": [
    "a=20+10j\n",
    "b=10+30j\n",
    "print(a>b)"
   ]
  },
  {
   "cell_type": "markdown",
   "metadata": {},
   "source": [
    "## Q. Equality Operator\n",
    "#### Take two different complex numbers.\n",
    "#### Store them in two different variables.\n",
    "#### Equate them using equality operators (==, !=)\n",
    "#### Observe the output(return type should be boolean)"
   ]
  },
  {
   "cell_type": "code",
   "execution_count": 4,
   "metadata": {},
   "outputs": [
    {
     "name": "stdout",
     "output_type": "stream",
     "text": [
      "False\n",
      "True\n"
     ]
    }
   ],
   "source": [
    "a=20+10j\n",
    "b=10+30j\n",
    "print(a==b)\n",
    "print(a!=b)"
   ]
  },
  {
   "cell_type": "markdown",
   "metadata": {},
   "source": [
    "## Q. Logical operators\n",
    "#### Observe the output of below code\n",
    "#### Cross check the output manually"
   ]
  },
  {
   "cell_type": "code",
   "execution_count": 5,
   "metadata": {},
   "outputs": [
    {
     "name": "stdout",
     "output_type": "stream",
     "text": [
      "(20+30j)\n",
      "0j\n",
      "0j\n",
      "0j\n",
      "(10+20j)\n",
      "(20+30j)\n",
      "(20+30j)\n",
      "0j\n",
      "False\n",
      "True\n"
     ]
    }
   ],
   "source": [
    "print ( 10 + 20j and 20 + 30j ) #20+30j\n",
    "#----------------------------------------->Output is 20+30j\n",
    "print ( 0 + 0j and 20 + 30j ) #0+0j\n",
    "#----------------------------------------->Output is 0j\n",
    "print ( 20 + 30j and 0 + 0j ) #0+0j\n",
    "#----------------------------------------->Output is 0j\n",
    "print ( 0 + 0j and 0 + 0j ) #0+0j\n",
    "#----------------------------------------->Output is 0j\n",
    "print ( 10 + 20j or 20 + 30j ) #10+20j\n",
    "#----------------------------------------->Output is 10+20j\n",
    "print ( 0 + 0j or 20 + 30j ) #20+30j\n",
    "#----------------------------------------->Output is 20+30j\n",
    "print ( 20 + 30j or 0 + 0j ) #20+30j\n",
    "#----------------------------------------->Output is 20+30j\n",
    "print ( 0 + 0j or 0 + 0j ) #0+0j\n",
    "#----------------------------------------->Output is 0j\n",
    "print ( not 10 + 20j ) #False\n",
    "#----------------------------------------->Output is False\n",
    "print ( not 0 + 0j ) #True\n",
    "#----------------------------------------->Output is True"
   ]
  },
  {
   "cell_type": "markdown",
   "metadata": {},
   "source": [
    "## Q. What is the output of the expression inside the print statement.\n",
    "#### Cross check before running the program."
   ]
  },
  {
   "cell_type": "code",
   "execution_count": 6,
   "metadata": {},
   "outputs": [
    {
     "name": "stdout",
     "output_type": "stream",
     "text": [
      "False\n",
      "True\n"
     ]
    }
   ],
   "source": [
    "a = 10 + 20j\n",
    "b = 10 + 20j\n",
    "print (a is b) #False #True or False?\n",
    "print (a is not b) #True #True or False?\n",
    "# This is because Object Reusability Concept does not apply on derived data-types like Complex numbers."
   ]
  },
  {
   "cell_type": "markdown",
   "metadata": {},
   "source": [
    "## Q. Membership operation\n",
    "#### in, not in are two membership operators and it returns boolean value"
   ]
  },
  {
   "cell_type": "code",
   "execution_count": 7,
   "metadata": {},
   "outputs": [
    {
     "name": "stdout",
     "output_type": "stream",
     "text": [
      "True\n",
      "True\n",
      "True\n",
      "True\n",
      "True\n",
      "True\n"
     ]
    }
   ],
   "source": [
    "print ( '2.7' in 'Python2.7.8' ) #True\n",
    "print ( 10 + 20j in [ 10 , 10.20 , 10 + 20j , 'Python' ]) #True\n",
    "print ( 10 + 20j in ( 10 , 10.20 , 10 + 20j , 'Python' )) #True\n",
    "print ( 30 + 40j in { 1 , 20.30 , 30 + 40j }) #True\n",
    "print ( 30 + 40j in { 1 : 100 , 2.3 : 200 , 30 + 40j : 300 }) #True\n",
    "print ( 10 in range ( 20 )) #True"
   ]
  }
 ],
 "metadata": {
  "kernelspec": {
   "display_name": "Python 3",
   "language": "python",
   "name": "python3"
  },
  "language_info": {
   "codemirror_mode": {
    "name": "ipython",
    "version": 3
   },
   "file_extension": ".py",
   "mimetype": "text/x-python",
   "name": "python",
   "nbconvert_exporter": "python",
   "pygments_lexer": "ipython3",
   "version": "3.8.3"
  }
 },
 "nbformat": 4,
 "nbformat_minor": 4
}
