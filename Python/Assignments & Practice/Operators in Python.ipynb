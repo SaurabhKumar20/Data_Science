{
 "cells": [
  {
   "cell_type": "code",
   "execution_count": null,
   "metadata": {},
   "outputs": [],
   "source": [
    "Operators\n",
    "    Arithmetic\n",
    "    Comaprison \n",
    "    Equality\n",
    "    Logical \n",
    "    Bitwise\n",
    "    Assignment\n",
    "    Compound Assignment\n",
    "    Identity \n",
    "    Membership\n",
    "    Operator Precedence"
   ]
  },
  {
   "cell_type": "code",
   "execution_count": 1,
   "metadata": {
    "ExecuteTime": {
     "end_time": "2020-11-05T14:41:55.972936Z",
     "start_time": "2020-11-05T14:41:55.960243Z"
    }
   },
   "outputs": [
    {
     "name": "stdout",
     "output_type": "stream",
     "text": [
      "(10, 20, 30) <class 'tuple'>\n"
     ]
    }
   ],
   "source": [
    "tpl = 10,20,30\n",
    "print(tpl, type(tpl))"
   ]
  },
  {
   "cell_type": "code",
   "execution_count": 2,
   "metadata": {
    "ExecuteTime": {
     "end_time": "2020-11-05T14:42:30.082931Z",
     "start_time": "2020-11-05T14:42:30.075438Z"
    }
   },
   "outputs": [
    {
     "name": "stdout",
     "output_type": "stream",
     "text": [
      "10 <class 'int'>\n"
     ]
    }
   ],
   "source": [
    "tpl = (10)\n",
    "print(tpl, type(tpl))"
   ]
  },
  {
   "cell_type": "code",
   "execution_count": 9,
   "metadata": {
    "ExecuteTime": {
     "end_time": "2020-11-05T14:45:33.958112Z",
     "start_time": "2020-11-05T14:45:33.948526Z"
    }
   },
   "outputs": [
    {
     "name": "stdout",
     "output_type": "stream",
     "text": [
      "(10,) <class 'tuple'>\n"
     ]
    }
   ],
   "source": [
    "tpl = (10,)\n",
    "print(tpl, type(tpl))"
   ]
  },
  {
   "cell_type": "code",
   "execution_count": 4,
   "metadata": {
    "ExecuteTime": {
     "end_time": "2020-11-05T14:44:21.204161Z",
     "start_time": "2020-11-05T14:44:21.190225Z"
    }
   },
   "outputs": [
    {
     "name": "stdout",
     "output_type": "stream",
     "text": [
      "() <class 'tuple'>\n"
     ]
    }
   ],
   "source": [
    "tpl = ()\n",
    "print(tpl, type(tpl))"
   ]
  },
  {
   "cell_type": "code",
   "execution_count": 7,
   "metadata": {
    "ExecuteTime": {
     "end_time": "2020-11-05T14:45:12.725612Z",
     "start_time": "2020-11-05T14:45:12.718110Z"
    }
   },
   "outputs": [
    {
     "name": "stdout",
     "output_type": "stream",
     "text": [
      "{} <class 'dict'>\n"
     ]
    }
   ],
   "source": [
    "d = {}\n",
    "print(d, type(d))"
   ]
  },
  {
   "cell_type": "code",
   "execution_count": 8,
   "metadata": {
    "ExecuteTime": {
     "end_time": "2020-11-05T14:45:22.415374Z",
     "start_time": "2020-11-05T14:45:22.407669Z"
    }
   },
   "outputs": [
    {
     "name": "stdout",
     "output_type": "stream",
     "text": [
      "set() <class 'set'>\n"
     ]
    }
   ],
   "source": [
    "s = set()\n",
    "print(s, type(s))"
   ]
  },
  {
   "cell_type": "code",
   "execution_count": 13,
   "metadata": {
    "ExecuteTime": {
     "end_time": "2020-11-05T14:54:19.266419Z",
     "start_time": "2020-11-05T14:54:19.244587Z"
    },
    "scrolled": true
   },
   "outputs": [
    {
     "name": "stdout",
     "output_type": "stream",
     "text": [
      "3\n",
      "4\n",
      "PythonClass\n",
      "[10, 20, 30, 1, 2, 3]\n",
      "PythonPythonPython\n",
      "[10, 20, 30, 10, 20, 30, 10, 20, 30, 10, 20, 30]\n"
     ]
    },
    {
     "ename": "TypeError",
     "evalue": "can't multiply sequence by non-int of type 'float'",
     "output_type": "error",
     "traceback": [
      "\u001b[1;31m---------------------------------------------------------------------------\u001b[0m",
      "\u001b[1;31mTypeError\u001b[0m                                 Traceback (most recent call last)",
      "\u001b[1;32m<ipython-input-13-fb02f591844a>\u001b[0m in \u001b[0;36m<module>\u001b[1;34m\u001b[0m\n\u001b[0;32m     47\u001b[0m \u001b[0mprint\u001b[0m\u001b[1;33m(\u001b[0m\u001b[1;34m'Python'\u001b[0m \u001b[1;33m*\u001b[0m \u001b[1;36m3\u001b[0m\u001b[1;33m)\u001b[0m\u001b[1;33m\u001b[0m\u001b[1;33m\u001b[0m\u001b[0m\n\u001b[0;32m     48\u001b[0m \u001b[0mprint\u001b[0m\u001b[1;33m(\u001b[0m\u001b[1;33m[\u001b[0m\u001b[1;36m10\u001b[0m\u001b[1;33m,\u001b[0m\u001b[1;36m20\u001b[0m\u001b[1;33m,\u001b[0m\u001b[1;36m30\u001b[0m\u001b[1;33m]\u001b[0m \u001b[1;33m*\u001b[0m \u001b[1;36m4\u001b[0m\u001b[1;33m)\u001b[0m\u001b[1;33m\u001b[0m\u001b[1;33m\u001b[0m\u001b[0m\n\u001b[1;32m---> 49\u001b[1;33m \u001b[0mprint\u001b[0m\u001b[1;33m(\u001b[0m\u001b[1;33m[\u001b[0m\u001b[1;36m10\u001b[0m\u001b[1;33m,\u001b[0m\u001b[1;36m20\u001b[0m\u001b[1;33m,\u001b[0m\u001b[1;36m30\u001b[0m\u001b[1;33m]\u001b[0m \u001b[1;33m*\u001b[0m \u001b[1;36m4.0\u001b[0m\u001b[1;33m)\u001b[0m\u001b[1;33m\u001b[0m\u001b[1;33m\u001b[0m\u001b[0m\n\u001b[0m\u001b[0;32m     50\u001b[0m \u001b[1;33m\u001b[0m\u001b[0m\n\u001b[0;32m     51\u001b[0m \u001b[1;33m\u001b[0m\u001b[0m\n",
      "\u001b[1;31mTypeError\u001b[0m: can't multiply sequence by non-int of type 'float'"
     ]
    }
   ],
   "source": [
    "# Arithmetic - +, _, *, /(Float Division), //(Floor Division), %(Modulo), **(Exponent)\n",
    "# /(Float Division), //(Floor Division)\n",
    "\n",
    "import math\n",
    "\n",
    "# Floor - lowest nearest whole number\n",
    "# ceil - highest nearest whole number\n",
    "\n",
    "# ceil = 4\n",
    "# value = 3.9\n",
    "# Floor = 3\n",
    "\n",
    "\n",
    "# ceil = 4\n",
    "# value = 3.01\n",
    "# Floor = 3\n",
    "\n",
    "# math.floor(3.01)\n",
    "# math.ceil(3.01)\n",
    "\n",
    "print(math.floor(3.9))\n",
    "print(math.ceil(3.9))\n",
    "\n",
    "\n",
    "# Float Division - True Division - resut in floating point number after division\n",
    "# Floor Division - gives floor value of float division result\n",
    "\n",
    "# a = 10\n",
    "# b = 3\n",
    "# print(a/b)\n",
    "# print(a//b)\n",
    "\n",
    "# % - Modulo - Returns Remainder\n",
    "# print(a%b)\n",
    "\n",
    "# ** - Exponent\n",
    "# print(a**b)\n",
    "\n",
    "\n",
    "# +(Concatenation), *(Repetition)\n",
    "# Operand should be of same type (both should be of same seq type) =  +(Concatenation)\n",
    "print('Python' + 'Class')\n",
    "print([10,20,30] + [1,2,3])\n",
    "# print([10,20,30] + (10,20,30))\n",
    "\n",
    "# One operand shouldbe of seq type and other should be of int\n",
    "print('Python' * 3)\n",
    "print([10,20,30] * 4)\n",
    "print([10,20,30] * 4.0)\n",
    "\n",
    "\n",
    "\n"
   ]
  },
  {
   "cell_type": "code",
   "execution_count": 37,
   "metadata": {
    "ExecuteTime": {
     "end_time": "2020-11-05T14:59:02.090785Z",
     "start_time": "2020-11-05T14:59:02.078279Z"
    }
   },
   "outputs": [
    {
     "name": "stdout",
     "output_type": "stream",
     "text": [
      "True\n",
      "True\n",
      "True\n"
     ]
    }
   ],
   "source": [
    "# Comaprison - <, >, <=, >=\n",
    "# Comparison between difefernt data type is not possible\n",
    "# Exception - int and float\n",
    "\n",
    "print(10<10.20)\n",
    "# print(10+20j<10.20)\n",
    "# print(10+20j<20+30j)\n",
    "\n",
    "# print('Python' < ['Python'])\n",
    "print('Python' < 'python')\n",
    "\n",
    "# print('A' <= 65)\n",
    "\n",
    "# print(ord('A') <= 65)"
   ]
  },
  {
   "cell_type": "code",
   "execution_count": 40,
   "metadata": {
    "ExecuteTime": {
     "end_time": "2020-11-05T14:59:58.996719Z",
     "start_time": "2020-11-05T14:59:58.986593Z"
    }
   },
   "outputs": [
    {
     "name": "stdout",
     "output_type": "stream",
     "text": [
      "<class 'int'>\n",
      "80\n",
      "\n",
      "97\n",
      "112\n",
      "\n",
      "P\n",
      "A\n"
     ]
    }
   ],
   "source": [
    "# How to get the Ascii value\n",
    "print(type(ord('A')))\n",
    "print(ord('P'))\n",
    "print()\n",
    "print(ord('a'))\n",
    "print(ord('p'))\n",
    "print()\n",
    "\n",
    "\n",
    "# How to get the charcter from ASCII value\n",
    "print(chr(80))\n",
    "print(chr(65))"
   ]
  },
  {
   "cell_type": "code",
   "execution_count": 45,
   "metadata": {
    "ExecuteTime": {
     "end_time": "2020-11-05T15:03:22.622929Z",
     "start_time": "2020-11-05T15:03:22.605791Z"
    }
   },
   "outputs": [
    {
     "name": "stdout",
     "output_type": "stream",
     "text": [
      "False\n",
      "True\n"
     ]
    },
    {
     "data": {
      "text/plain": [
       "True"
      ]
     },
     "execution_count": 45,
     "metadata": {},
     "output_type": "execute_result"
    }
   ],
   "source": [
    "# Equality Operator - ==, !=\n",
    "# Used to compare the content \n",
    "# can be used with different data type\n",
    "\n",
    "print('65' == 65)\n",
    "print('A' == 'A')\n",
    "\n",
    "int('65') == 65\n",
    "\n",
    "ord('a') == 97"
   ]
  },
  {
   "cell_type": "code",
   "execution_count": 14,
   "metadata": {
    "ExecuteTime": {
     "end_time": "2020-11-05T15:18:45.179352Z",
     "start_time": "2020-11-05T15:18:45.162835Z"
    }
   },
   "outputs": [
    {
     "name": "stdout",
     "output_type": "stream",
     "text": [
      "-2\n",
      "8\n"
     ]
    }
   ],
   "source": [
    "# Bitwise Operator - &, |, ^, ~, <<, >>\n",
    "# Works on bits\n",
    "# Works only on integers\n",
    "# \n",
    "\n",
    "# & Truth Table\n",
    "# 1 & 1 = 1\n",
    "# 1 & 0 = 0\n",
    "# 0 & 1 = 0\n",
    "# 0 & 0 = 0\n",
    "\n",
    "# | Truth Table\n",
    "# 1 | 1 = 1\n",
    "# 1 | 0 = 1\n",
    "# 0 | 1 = 1\n",
    "# 0 | 0 = 0\n",
    "\n",
    "#The above is actually vertical bar sign.\n",
    "\n",
    "# ^ Truth Table\n",
    "# 1 ^ 1 = 0\n",
    "# 1 ^ 0 = 1\n",
    "# 0 ^ 1 = 1\n",
    "# 0 ^ 0 = 0\n",
    "\n",
    "# print(37 ^ 56)\n",
    "\n",
    "\n",
    "# print(bin(56))\n",
    "\n",
    "# 37 = 100101\n",
    "# 56 = 111000\n",
    "# =================\n",
    "# &  = 100000\n",
    "# |  = 111101\n",
    "# ^  = 011101\n",
    "\n",
    "# print(0b100000)\n",
    "# print(0b111101)\n",
    "# print(0b11101)\n",
    "\n",
    "# Bitwise left shift(<<) and right shift(>>)\n",
    "# print(num << bit)\n",
    "# print(num >> bit)\n",
    "# Use either 32 bith or 64 bit representation of binary number\n",
    "\n",
    "# print(bin(69))\n",
    "# print(69 << 3)\n",
    "\n",
    "# 69 = 00000000000000000000001000101000\n",
    "\n",
    "# print(0b1000101000)\n",
    "\n",
    "# print(69>>3)\n",
    "\n",
    "\n",
    "# 69 = 00000000000000000000000000001000\n",
    "# print(0b1000)\n",
    "\n",
    "# ~n = -(n+1)\n",
    "\n",
    "print(~True)\n",
    "print(~-9)\n",
    "\n"
   ]
  },
  {
   "cell_type": "code",
   "execution_count": 44,
   "metadata": {
    "ExecuteTime": {
     "end_time": "2020-11-05T15:25:52.189004Z",
     "start_time": "2020-11-05T15:25:52.180367Z"
    }
   },
   "outputs": [
    {
     "name": "stdout",
     "output_type": "stream",
     "text": [
      "20\n",
      "False\n",
      "0\n",
      "0.0\n"
     ]
    }
   ],
   "source": [
    "# Logical - True or False - and, or, not\n",
    "\n",
    "\n",
    "# and Truth Table\n",
    "# True and True = True\n",
    "# True and False = False\n",
    "# False and True = False\n",
    "# False and False = False\n",
    "\n",
    "# or Truth Table\n",
    "# True and True = True\n",
    "# True and False = True\n",
    "# False and True = True\n",
    "# False and False = False\n",
    "\n",
    "# Not Truth Table\n",
    "# not True = False\n",
    "# not False = True\n",
    "\n",
    "\n",
    "# A and B =returns A if A is False else B\n",
    "# A or B =returns A if A is True else B\n",
    "\n",
    "print((10<20) and (10*2))\n",
    "print((10>20) and (10*0))\n",
    "print(0 and 0.0)\n",
    "print(0 or 0.0)\n",
    "\n",
    "\n",
    "\n",
    "\n"
   ]
  },
  {
   "cell_type": "code",
   "execution_count": 65,
   "metadata": {
    "ExecuteTime": {
     "end_time": "2020-11-05T15:27:05.025353Z",
     "start_time": "2020-11-05T15:27:05.016693Z"
    }
   },
   "outputs": [
    {
     "name": "stdout",
     "output_type": "stream",
     "text": [
      "12\n"
     ]
    }
   ],
   "source": [
    "# Assignment - =\n",
    "# a = 10\n",
    "\n",
    "# Compound assignment - +=,-=, *=, /=, //=, %=, **=, &=, |=, ^=, <<= >>=,~=\n",
    "a += 2\n",
    "print(a)\n"
   ]
  },
  {
   "cell_type": "code",
   "execution_count": 66,
   "metadata": {
    "ExecuteTime": {
     "end_time": "2020-11-05T15:28:35.375798Z",
     "start_time": "2020-11-05T15:28:35.359561Z"
    }
   },
   "outputs": [
    {
     "ename": "NameError",
     "evalue": "name 'x' is not defined",
     "output_type": "error",
     "traceback": [
      "\u001b[0;31m---------------------------------------------------------------------------\u001b[0m",
      "\u001b[0;31mNameError\u001b[0m                                 Traceback (most recent call last)",
      "\u001b[0;32m<ipython-input-66-5876e6ff1592>\u001b[0m in \u001b[0;36m<module>\u001b[0;34m\u001b[0m\n\u001b[0;32m----> 1\u001b[0;31m \u001b[0mx\u001b[0m \u001b[0;34m+=\u001b[0m \u001b[0;36m9\u001b[0m\u001b[0;34m\u001b[0m\u001b[0;34m\u001b[0m\u001b[0m\n\u001b[0m",
      "\u001b[0;31mNameError\u001b[0m: name 'x' is not defined"
     ]
    }
   ],
   "source": [
    "# x += 9"
   ]
  },
  {
   "cell_type": "code",
   "execution_count": 71,
   "metadata": {
    "ExecuteTime": {
     "end_time": "2020-11-05T15:31:25.607710Z",
     "start_time": "2020-11-05T15:31:25.593787Z"
    }
   },
   "outputs": [
    {
     "name": "stdout",
     "output_type": "stream",
     "text": [
      "False\n",
      "True\n",
      "False\n",
      "True\n",
      "False\n"
     ]
    }
   ],
   "source": [
    "# Membership - checks element is part of seq or map - in, not in\n",
    "\n",
    "print('a' in 'Pythin')\n",
    "print('i' in 'Pythin')\n",
    "print('I' in 'Pythin')\n",
    "\n",
    "\n",
    "# In case of dictionary, membership operator looks for key\n",
    "print(1 in {1:100, 2:200, 'a':'Python'})\n",
    "print(100 in {1:100, 2:200, 'a':'Python'})\n",
    "\n",
    "\n"
   ]
  },
  {
   "cell_type": "code",
   "execution_count": 75,
   "metadata": {
    "ExecuteTime": {
     "end_time": "2020-11-05T15:35:58.156844Z",
     "start_time": "2020-11-05T15:35:58.145919Z"
    }
   },
   "outputs": [
    {
     "name": "stdout",
     "output_type": "stream",
     "text": [
      "4551333568\n",
      "4551333568\n",
      "True\n",
      "\n",
      "4835855024\n",
      "4835854672\n",
      "False\n"
     ]
    }
   ],
   "source": [
    "# identity operator - returns True if ids are same - is, is not\n",
    "a = 10\n",
    "b = 10\n",
    "print(id(a))\n",
    "print(id(b))\n",
    "print(a is b)\n",
    "print()\n",
    "a = 260\n",
    "b = 260\n",
    "print(id(a))\n",
    "print(id(b))\n",
    "print(a is b)\n",
    "\n",
    "\n",
    "\n",
    "# if (a is b) == True:"
   ]
  },
  {
   "cell_type": "code",
   "execution_count": null,
   "metadata": {},
   "outputs": [],
   "source": [
    "# operator Precedence\n",
    "# ()\n",
    "# **\tExponentiation (raise to the power)\n",
    "# ~ + -\tComplement, unary plus and minus (method names for the last two are +@ and -@)\n",
    "# * / % //\tMultiply, divide, modulo and floor division\n",
    "# + -\tAddition and subtraction\n",
    "# >> <<\tRight and left bitwise shift\n",
    "# &\tBitwise 'AND'td>\n",
    "# ^ |\tBitwise exclusive `OR' and regular `OR'\n",
    "# <= < > >=\tComparison operators\n",
    "# <> == !=\tEquality operators\n",
    "# = %= /= //= -= += *= **=\tAssignment operators\n",
    "# is is not\tIdentity operators\n",
    "# in not in\tMembership operators\n",
    "# not or and\tLogical operators\n",
    "\n",
    "\n",
    "\n"
   ]
  },
  {
   "cell_type": "code",
   "execution_count": 20,
   "metadata": {},
   "outputs": [
    {
     "ename": "ZeroDivisionError",
     "evalue": "division by zero",
     "output_type": "error",
     "traceback": [
      "\u001b[1;31m---------------------------------------------------------------------------\u001b[0m",
      "\u001b[1;31mZeroDivisionError\u001b[0m                         Traceback (most recent call last)",
      "\u001b[1;32m<ipython-input-20-bc757c3fda29>\u001b[0m in \u001b[0;36m<module>\u001b[1;34m\u001b[0m\n\u001b[1;32m----> 1\u001b[1;33m \u001b[1;36m1\u001b[0m \u001b[1;33m/\u001b[0m \u001b[1;36m0\u001b[0m\u001b[1;33m\u001b[0m\u001b[1;33m\u001b[0m\u001b[0m\n\u001b[0m",
      "\u001b[1;31mZeroDivisionError\u001b[0m: division by zero"
     ]
    }
   ],
   "source": []
  },
  {
   "cell_type": "code",
   "execution_count": 32,
   "metadata": {},
   "outputs": [
    {
     "name": "stdout",
     "output_type": "stream",
     "text": [
      "61\n"
     ]
    }
   ],
   "source": [
    "print(37 | 56)"
   ]
  },
  {
   "cell_type": "code",
   "execution_count": 27,
   "metadata": {},
   "outputs": [
    {
     "name": "stdout",
     "output_type": "stream",
     "text": [
      "1\n"
     ]
    }
   ],
   "source": [
    "print(1 & 1)"
   ]
  },
  {
   "cell_type": "code",
   "execution_count": 34,
   "metadata": {},
   "outputs": [
    {
     "data": {
      "text/plain": [
       "1"
      ]
     },
     "execution_count": 34,
     "metadata": {},
     "output_type": "execute_result"
    }
   ],
   "source": [
    "1 | 0"
   ]
  },
  {
   "cell_type": "code",
   "execution_count": 38,
   "metadata": {},
   "outputs": [
    {
     "name": "stdout",
     "output_type": "stream",
     "text": [
      "17\n"
     ]
    }
   ],
   "source": [
    "print(0b10001)"
   ]
  },
  {
   "cell_type": "code",
   "execution_count": 41,
   "metadata": {},
   "outputs": [
    {
     "name": "stdout",
     "output_type": "stream",
     "text": [
      "11\n"
     ]
    }
   ],
   "source": [
    "# ~n = -(n+1)\n",
    "\n",
    "#print(~True)\n",
    "print(~-12)"
   ]
  },
  {
   "cell_type": "code",
   "execution_count": null,
   "metadata": {},
   "outputs": [],
   "source": []
  },
  {
   "cell_type": "code",
   "execution_count": null,
   "metadata": {},
   "outputs": [],
   "source": []
  },
  {
   "cell_type": "code",
   "execution_count": null,
   "metadata": {},
   "outputs": [],
   "source": []
  },
  {
   "cell_type": "code",
   "execution_count": null,
   "metadata": {},
   "outputs": [],
   "source": []
  },
  {
   "cell_type": "code",
   "execution_count": null,
   "metadata": {},
   "outputs": [],
   "source": []
  },
  {
   "cell_type": "code",
   "execution_count": null,
   "metadata": {},
   "outputs": [],
   "source": []
  },
  {
   "cell_type": "code",
   "execution_count": null,
   "metadata": {},
   "outputs": [],
   "source": []
  },
  {
   "cell_type": "code",
   "execution_count": null,
   "metadata": {},
   "outputs": [],
   "source": []
  },
  {
   "cell_type": "code",
   "execution_count": null,
   "metadata": {},
   "outputs": [],
   "source": []
  },
  {
   "cell_type": "code",
   "execution_count": null,
   "metadata": {},
   "outputs": [],
   "source": []
  },
  {
   "cell_type": "code",
   "execution_count": null,
   "metadata": {},
   "outputs": [],
   "source": []
  },
  {
   "cell_type": "code",
   "execution_count": null,
   "metadata": {},
   "outputs": [],
   "source": []
  },
  {
   "cell_type": "code",
   "execution_count": null,
   "metadata": {},
   "outputs": [],
   "source": []
  }
 ],
 "metadata": {
  "kernelspec": {
   "display_name": "Python 3",
   "language": "python",
   "name": "python3"
  },
  "language_info": {
   "codemirror_mode": {
    "name": "ipython",
    "version": 3
   },
   "file_extension": ".py",
   "mimetype": "text/x-python",
   "name": "python",
   "nbconvert_exporter": "python",
   "pygments_lexer": "ipython3",
   "version": "3.8.3"
  },
  "varInspector": {
   "cols": {
    "lenName": 16,
    "lenType": 16,
    "lenVar": 40
   },
   "kernels_config": {
    "python": {
     "delete_cmd_postfix": "",
     "delete_cmd_prefix": "del ",
     "library": "var_list.py",
     "varRefreshCmd": "print(var_dic_list())"
    },
    "r": {
     "delete_cmd_postfix": ") ",
     "delete_cmd_prefix": "rm(",
     "library": "var_list.r",
     "varRefreshCmd": "cat(var_dic_list()) "
    }
   },
   "types_to_exclude": [
    "module",
    "function",
    "builtin_function_or_method",
    "instance",
    "_Feature"
   ],
   "window_display": false
  }
 },
 "nbformat": 4,
 "nbformat_minor": 2
}
