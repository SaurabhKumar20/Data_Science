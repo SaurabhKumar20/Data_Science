{
 "cells": [
  {
   "cell_type": "code",
   "execution_count": null,
   "metadata": {},
   "outputs": [],
   "source": [
    "* 2. What is the output of below Code:\n",
    "\n",
    "str1=\"python\"\n",
    "list1=list(str1)\n",
    "list1[0]=list1[1:3]\n",
    "print (list1)\n",
    "\n",
    "1. [['y', 't'], 'y', 't', 'h', 'o', 'n']\n",
    "\n",
    "2. Error\n",
    "\n",
    "3. None of the Above\n",
    "\n",
    "4. ['y', 't', 'h', 'o', 'n']\n",
    "\n",
    "Ans:- 1"
   ]
  },
  {
   "cell_type": "code",
   "execution_count": 1,
   "metadata": {
    "ExecuteTime": {
     "end_time": "2021-01-31T11:30:30.174913Z",
     "start_time": "2021-01-31T11:30:30.167695Z"
    }
   },
   "outputs": [
    {
     "name": "stdout",
     "output_type": "stream",
     "text": [
      "[['y', 't'], 'y', 't', 'h', 'o', 'n']\n"
     ]
    }
   ],
   "source": [
    "3. What should be the output of following Program?\n",
    "\n",
    "list1= [[9, 8, 7], [6, 5, 4], [3, 2, 1]]\n",
    "print (list1[2][2])\n",
    "\n",
    " \n",
    "\n",
    "1. [1,]\n",
    "\n",
    "2. [2]\n",
    "\n",
    "3. [1]\n",
    "\n",
    "4. 1\n",
    "\n",
    "Ans:- 4"
   ]
  },
  {
   "cell_type": "code",
   "execution_count": 2,
   "metadata": {
    "ExecuteTime": {
     "end_time": "2021-01-31T11:31:00.547269Z",
     "start_time": "2021-01-31T11:31:00.539873Z"
    }
   },
   "outputs": [
    {
     "name": "stdout",
     "output_type": "stream",
     "text": [
      "1\n"
     ]
    }
   ],
   "source": [
    "* 4. What should be the output of following Program?\n",
    "list1= [[9, 8, 7], [6, 5, 4], [3, 2, 1]]\n",
    "print (list1[2])\n",
    "\n",
    "1. [3,2,1]\n",
    "\n",
    "2. [6, 5, 4]\n",
    "\n",
    "3. Error\n",
    "\n",
    "4. None Of the Above\n",
    "\n",
    "Ans:- 1"
   ]
  },
  {
   "cell_type": "code",
   "execution_count": null,
   "metadata": {},
   "outputs": [],
   "source": [
    "5. What is output?\n",
    "print(\"abcdef\".find(\"cd\"))\n",
    "\n",
    "1. 2\n",
    "\n",
    "2. TRUE\n",
    "\n",
    "3. 3\n",
    "\n",
    "4. None of the above\n",
    "\n",
    "Ans:- 1"
   ]
  },
  {
   "cell_type": "code",
   "execution_count": 4,
   "metadata": {
    "ExecuteTime": {
     "end_time": "2021-01-31T11:32:17.955023Z",
     "start_time": "2021-01-31T11:32:17.948400Z"
    }
   },
   "outputs": [
    {
     "name": "stdout",
     "output_type": "stream",
     "text": [
      "2\n"
     ]
    }
   ],
   "source": [
    "6. What is length of sys.argv?\n",
    "\n",
    "1. No of argument\n",
    "\n",
    "2. No of argument + 1\n",
    "\n",
    "3. No of argument -1\n",
    "\n",
    "4. None of the above \n",
    "\n",
    "Ans:- 2"
   ]
  },
  {
   "cell_type": "code",
   "execution_count": null,
   "metadata": {},
   "outputs": [],
   "source": [
    "7. \n",
    "def foo():\n",
    "    return total + 1\n",
    "total = 10\n",
    "print (foo())\n",
    "\n",
    "1. 10\n",
    "\n",
    "2. 11\n",
    "\n",
    "3. Error\n",
    "\n",
    "4. None of the above\n",
    "\n",
    "Ans:- 2"
   ]
  },
  {
   "cell_type": "code",
   "execution_count": 5,
   "metadata": {
    "ExecuteTime": {
     "end_time": "2021-01-31T11:33:35.722213Z",
     "start_time": "2021-01-31T11:33:35.715156Z"
    }
   },
   "outputs": [
    {
     "name": "stdout",
     "output_type": "stream",
     "text": [
      "11\n"
     ]
    }
   ],
   "source": [
    "8. Output Of the Following Code?\n",
    "def foo():\n",
    "    try:\n",
    "        print(1)\n",
    "    finally:\n",
    "        print(2)\n",
    "foo()\n",
    "\n",
    "1. 1\n",
    "\n",
    "2. 2\n",
    "\n",
    "3. 1        2\n",
    "\n",
    "4. None of the above\n",
    "\n",
    "Ans:- 4"
   ]
  },
  {
   "cell_type": "code",
   "execution_count": null,
   "metadata": {},
   "outputs": [],
   "source": [
    "9. Output of The code Below:\n",
    "\n",
    "if (10 < 0) and (0 < -10):\n",
    "    print(\"A\")\n",
    "elif (10 > 0) or False:\n",
    "    print(\"B\")\n",
    "else:\n",
    "    print(\"C\")\n",
    "\n",
    "1. A\n",
    "\n",
    "2. B\n",
    "\n",
    "3. Error\n",
    "\n",
    "4. C\n",
    "\n",
    "Ans:- 2"
   ]
  },
  {
   "cell_type": "code",
   "execution_count": 8,
   "metadata": {
    "ExecuteTime": {
     "end_time": "2021-01-31T11:35:08.136783Z",
     "start_time": "2021-01-31T11:35:08.128395Z"
    }
   },
   "outputs": [
    {
     "name": "stdout",
     "output_type": "stream",
     "text": [
      "B\n"
     ]
    }
   ],
   "source": [
    "10. Which is best way to import the pandas module in your program ?\n",
    "\n",
    "1. import pandas\n",
    "\n",
    "2. import pandas as p\n",
    "\n",
    "3. from pandas import *\n",
    "\n",
    "4. All of the above\n",
    "\n",
    "Ans:- 4"
   ]
  },
  {
   "cell_type": "code",
   "execution_count": null,
   "metadata": {},
   "outputs": [],
   "source": [
    "12. What will be output for the following code?\n",
    "\n",
    "\n",
    "import pandas as pd\n",
    "import numpy as np\n",
    "\n",
    "s = pd.Series(np.random.randn(4))\n",
    "\n",
    "print s.ndim\n",
    "\n",
    "1. 0\n",
    "\n",
    "2. 1\n",
    "\n",
    "3. 2\n",
    "\n",
    "4. 3\n",
    "\n",
    "Ans:- 2"
   ]
  },
  {
   "cell_type": "code",
   "execution_count": 20,
   "metadata": {
    "ExecuteTime": {
     "end_time": "2021-01-31T11:36:58.177506Z",
     "start_time": "2021-01-31T11:36:58.169341Z"
    }
   },
   "outputs": [
    {
     "name": "stdout",
     "output_type": "stream",
     "text": [
      "1\n"
     ]
    }
   ],
   "source": [
    "Point out the wrong statement.\n",
    "\n",
    "1. A DataFrame is like a fixed-size dict in that you can get and set values by index label\n",
    "\n",
    "2. Series can be be passed into most NumPy methods expecting an ndarray\n",
    "\n",
    "3. A key difference between Series and ndarray is that operations between Series automatically align the data based on label\n",
    "\n",
    "4. None of the mentioned\n",
    "\n",
    "Ans:- 1"
   ]
  },
  {
   "cell_type": "code",
   "execution_count": null,
   "metadata": {},
   "outputs": [],
   "source": [
    "14. In pandas, Index values must be?\n",
    "\n",
    "1. unique\n",
    "\n",
    "2. hashable\n",
    "\n",
    "3. Both A and B\n",
    "\n",
    "4. None of the above\n",
    "\n",
    "Ans:- 3"
   ]
  },
  {
   "cell_type": "code",
   "execution_count": null,
   "metadata": {},
   "outputs": [],
   "source": [
    "# 15. Write a program that accepts a sentence and calculate the number of letters, digits and special characters.\n",
    "\n",
    "# input: hello world! 123\n",
    "# Output: letters: 10 digits: 3 special: 1\n",
    "my_str = 'hello world! 123'\n",
    "letters = 0\n",
    "digits = 0\n",
    "special = 0\n",
    "for i in my_str:\n",
    "    if i.isalpha():\n",
    "        letters += 1\n",
    "    elif i.isdigit():\n",
    "        digits += 1\n",
    "    elif i.isspace():\n",
    "        continue\n",
    "    else:\n",
    "        special += 1\n",
    "print('letters: ', letters, 'digits: ', digits, 'special: ', special)\n",
    "\n",
    "\n",
    "# * 16. a is input from the user. Write a program that computes the value of a+aa+aaa+aaaa with a given digit as the value of a.\n",
    "\n",
    "# Input: 9\n",
    "# Output: 11106\n",
    "num = input('Enter a number: ')\n",
    "total = 0\n",
    "for i in range(1,5):\n",
    "    total += int(num * i)\n",
    "print(total)\n",
    "\n",
    "\n",
    "# 17. Use a list comprehension to square each odd number in a list. The list is input by a sequence of comma-separated numbers.\n",
    "\n",
    "# Input: 1,2,3,4,5,6,7,8,9\n",
    "# Output: 1,9, 25, 49, 81\n",
    "\n",
    "lst = eval(input('Enter a list: '))\n",
    "print([i**2 for i in lst if i%2!=0])\n",
    "\n",
    "\n",
    "# 18. Given a list of numbers, write a Python program to print all odd numbers in given list.\n",
    "# Input: list1 = [2, 9, 5, 64, 15,10]\n",
    "# Output: [9, 5,15]\n",
    "\n",
    "list1 = [2, 9, 5, 64, 15,10]\n",
    "print([i for i in list1 if i%2 !=0])"
   ]
  },
  {
   "cell_type": "code",
   "execution_count": null,
   "metadata": {},
   "outputs": [],
   "source": []
  },
  {
   "cell_type": "code",
   "execution_count": null,
   "metadata": {},
   "outputs": [],
   "source": []
  }
 ],
 "metadata": {
  "kernelspec": {
   "display_name": "Python 3",
   "language": "python",
   "name": "python3"
  },
  "language_info": {
   "codemirror_mode": {
    "name": "ipython",
    "version": 3
   },
   "file_extension": ".py",
   "mimetype": "text/x-python",
   "name": "python",
   "nbconvert_exporter": "python",
   "pygments_lexer": "ipython3",
   "version": "3.8.8"
  },
  "latex_envs": {
   "LaTeX_envs_menu_present": true,
   "autoclose": false,
   "autocomplete": true,
   "bibliofile": "biblio.bib",
   "cite_by": "apalike",
   "current_citInitial": 1,
   "eqLabelWithNumbers": true,
   "eqNumInitial": 1,
   "hotkeys": {
    "equation": "Ctrl-E",
    "itemize": "Ctrl-I"
   },
   "labels_anchors": false,
   "latex_user_defs": false,
   "report_style_numbering": false,
   "user_envs_cfg": false
  },
  "varInspector": {
   "cols": {
    "lenName": 16,
    "lenType": 16,
    "lenVar": 40
   },
   "kernels_config": {
    "python": {
     "delete_cmd_postfix": "",
     "delete_cmd_prefix": "del ",
     "library": "var_list.py",
     "varRefreshCmd": "print(var_dic_list())"
    },
    "r": {
     "delete_cmd_postfix": ") ",
     "delete_cmd_prefix": "rm(",
     "library": "var_list.r",
     "varRefreshCmd": "cat(var_dic_list()) "
    }
   },
   "types_to_exclude": [
    "module",
    "function",
    "builtin_function_or_method",
    "instance",
    "_Feature"
   ],
   "window_display": false
  }
 },
 "nbformat": 4,
 "nbformat_minor": 2
}
