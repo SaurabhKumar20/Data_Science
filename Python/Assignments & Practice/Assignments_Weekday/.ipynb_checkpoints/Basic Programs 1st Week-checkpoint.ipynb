{
 "cells": [
  {
   "cell_type": "markdown",
   "metadata": {},
   "source": [
    "## Print Hello world! :"
   ]
  },
  {
   "cell_type": "code",
   "execution_count": 1,
   "metadata": {},
   "outputs": [
    {
     "name": "stdout",
     "output_type": "stream",
     "text": [
      "Hello World\n"
     ]
    }
   ],
   "source": [
    "print(\"Hello World\")"
   ]
  },
  {
   "cell_type": "markdown",
   "metadata": {},
   "source": [
    "## Declare the following variables:\n",
    "#### Int, Float, Boolean, String & print its value."
   ]
  },
  {
   "cell_type": "code",
   "execution_count": 4,
   "metadata": {},
   "outputs": [
    {
     "name": "stdout",
     "output_type": "stream",
     "text": [
      "20 <class 'int'>\n",
      "2.43 <class 'float'>\n",
      "True <class 'bool'>\n",
      "Hello <class 'str'>\n"
     ]
    }
   ],
   "source": [
    "a=20\n",
    "print(a, type(a))\n",
    "\n",
    "b=2.43\n",
    "print(b, type(b))\n",
    "\n",
    "c=True\n",
    "print(c, type(c))\n",
    "\n",
    "my_str=\"Hello\"\n",
    "print(my_str, type(my_str))\n"
   ]
  },
  {
   "cell_type": "markdown",
   "metadata": {},
   "source": [
    "## Program to calculate the Area Of Triangle:"
   ]
  },
  {
   "cell_type": "code",
   "execution_count": 16,
   "metadata": {},
   "outputs": [
    {
     "name": "stdout",
     "output_type": "stream",
     "text": [
      "Enter the height of the triangle: 20\n",
      "Enter the base of the triangle: 10\n",
      "Area of triange is: 100.0 square units\n"
     ]
    }
   ],
   "source": [
    "height=float(input(\"Enter the height of the triangle: \"))\n",
    "base=float(input(\"Enter the base of the triangle: \"))\n",
    "print(f'Area of triange is: {0.5*base*height} square units')"
   ]
  },
  {
   "cell_type": "markdown",
   "metadata": {},
   "source": [
    "## Program to swap two variables:"
   ]
  },
  {
   "cell_type": "code",
   "execution_count": 18,
   "metadata": {},
   "outputs": [
    {
     "name": "stdout",
     "output_type": "stream",
     "text": [
      "Enter the first number: 23\n",
      "Enter the second number: 45\n",
      "The first number is now 45, and the second number is now 23\n"
     ]
    }
   ],
   "source": [
    "num1=int(input(\"Enter the first number: \"))\n",
    "num2=int(input(\"Enter the second number: \"))\n",
    "num1=num1+num2\n",
    "num2=num1-num2               # Logic to swap two numbers\n",
    "num1=num1-num2\n",
    "print(f'The first number is now {num1}, and the second number is now {num2}')"
   ]
  },
  {
   "cell_type": "markdown",
   "metadata": {},
   "source": [
    "## Program is to check if a number is positive, negative or 0 (Using If…elif…else)."
   ]
  },
  {
   "cell_type": "code",
   "execution_count": 26,
   "metadata": {},
   "outputs": [
    {
     "name": "stdout",
     "output_type": "stream",
     "text": [
      "Enter a number: 20\n",
      "20 is positive\n"
     ]
    }
   ],
   "source": [
    "num1=int(input(\"Enter a number: \"))\n",
    "print(f'{num1} is positive' if num1>0 else\n",
    "     f'{num1} is negative' if num1<0 else\n",
    "     f'{num1} is equal to 0')"
   ]
  },
  {
   "cell_type": "markdown",
   "metadata": {},
   "source": [
    "## Program is to check if a number is Even or Odd:"
   ]
  },
  {
   "cell_type": "code",
   "execution_count": 32,
   "metadata": {},
   "outputs": [
    {
     "name": "stdout",
     "output_type": "stream",
     "text": [
      "Enter a number: -764\n",
      "-764 is Even\n"
     ]
    }
   ],
   "source": [
    "num1=int(input(\"Enter a number: \"))\n",
    "\n",
    "print(f'{num1} is Even' if num1%2==0 else\n",
    "     f'{num1} is Odd')"
   ]
  },
  {
   "cell_type": "markdown",
   "metadata": {},
   "source": [
    "## Program to print Odd number within a given range:"
   ]
  },
  {
   "cell_type": "code",
   "execution_count": 49,
   "metadata": {},
   "outputs": [
    {
     "name": "stdout",
     "output_type": "stream",
     "text": [
      "Enter a number: 29\n",
      "The positive odd numbers till number 29 are\n",
      "1\n",
      "3\n",
      "5\n",
      "7\n",
      "9\n",
      "11\n",
      "13\n",
      "15\n",
      "17\n",
      "19\n",
      "21\n",
      "23\n",
      "25\n",
      "27\n",
      "29\n"
     ]
    }
   ],
   "source": [
    "num1=int(input(\"Enter a number: \"))\n",
    "\n",
    "if num1>0:\n",
    "    print(f'The positive odd numbers till number {num1} are')\n",
    "    for i in range(num1+1):\n",
    "        if i%2!=0:\n",
    "            print(i)\n",
    "            i+=1\n",
    "        else:\n",
    "            i+=1\n",
    "else:\n",
    "    print(\"A non-positive number entered.\")"
   ]
  },
  {
   "cell_type": "markdown",
   "metadata": {},
   "source": [
    "## Python program to find the factorial of a number:"
   ]
  },
  {
   "cell_type": "code",
   "execution_count": 61,
   "metadata": {},
   "outputs": [
    {
     "name": "stdout",
     "output_type": "stream",
     "text": [
      "Enter a number: 5\n",
      "The factorial of a number 5 is\n",
      "120\n"
     ]
    }
   ],
   "source": [
    "num1=int(input(\"Enter a number: \"))\n",
    "F=1\n",
    "\n",
    "if num1>0:\n",
    "    print(f'The factorial of a number {num1} is')\n",
    "    for i in range(1,num1+1):\n",
    "        F*=i\n",
    "        i+=1\n",
    "    print(F)\n",
    "elif num1==0:\n",
    "    print(f'The factorial of a number {num1} is')\n",
    "    print(1)    \n",
    "else:\n",
    "    print(\"The factorial of a negative number is not defined\")"
   ]
  },
  {
   "cell_type": "markdown",
   "metadata": {},
   "source": [
    "## Program to reverse a given number:"
   ]
  },
  {
   "cell_type": "code",
   "execution_count": 13,
   "metadata": {},
   "outputs": [
    {
     "name": "stdout",
     "output_type": "stream",
     "text": [
      "Enter a string to check whether it is a palindrome or not: 12345\n",
      "The reverse of 12345 is 54321.\n"
     ]
    }
   ],
   "source": [
    "my_str=str(input(\"Enter a string to check whether it is a palindrome or not: \"))\n",
    "# for i in my_str:\n",
    "\n",
    "i=0\n",
    "n=0\n",
    "count=0\n",
    "b=len(my_str)\n",
    "reverse_str=\"\"\n",
    "\n",
    "# my_str.find(word)\n",
    "\n",
    "for i in range(b):\n",
    "    reverse_str=reverse_str+my_str[b-i-1]\n",
    "    i+=1\n",
    " \n",
    "print(f'The reverse of {my_str} is {reverse_str}.')"
   ]
  },
  {
   "cell_type": "markdown",
   "metadata": {},
   "source": [
    "## Program to find out the sum of Natural numbers:"
   ]
  },
  {
   "cell_type": "code",
   "execution_count": 11,
   "metadata": {},
   "outputs": [
    {
     "name": "stdout",
     "output_type": "stream",
     "text": [
      "Enter a natural number: 10\n",
      "The sum of all Natural numbers from 1 to 10 is 55.0\n"
     ]
    }
   ],
   "source": [
    "num1=int(input(\"Enter a natural number: \"))\n",
    "\n",
    "print(f'The sum of all Natural numbers from 1 to {num1} is {num1*(num1+1)/2}')"
   ]
  },
  {
   "cell_type": "markdown",
   "metadata": {},
   "source": [
    "# Strings:"
   ]
  },
  {
   "cell_type": "markdown",
   "metadata": {},
   "source": [
    "## Program to reverse a string without using recursion:"
   ]
  },
  {
   "cell_type": "code",
   "execution_count": 19,
   "metadata": {},
   "outputs": [
    {
     "name": "stdout",
     "output_type": "stream",
     "text": [
      "Enter a string: Hello World\n",
      "dlroW olleH\n"
     ]
    }
   ],
   "source": [
    "my_str=str(input(\"Enter a string: \"))\n",
    "txt = my_str[::-1]   \n",
    "# Create a slice that starts at the end of the string, and moves backwards.\n",
    "# In this particular example, the slice statement [::-1] means start at the end of the string and end at position 0, move \n",
    "# with the step -1, negative one, which means one step backwards.\n",
    "print(txt)"
   ]
  },
  {
   "cell_type": "markdown",
   "metadata": {},
   "source": [
    "## Program to check if string is palindrome or not:"
   ]
  },
  {
   "cell_type": "code",
   "execution_count": 19,
   "metadata": {},
   "outputs": [
    {
     "name": "stdout",
     "output_type": "stream",
     "text": [
      "Enter a string to check whether it is a palindrome or not: malayalam\n",
      "malayalam is a palindrome\n"
     ]
    }
   ],
   "source": [
    "my_str=str(input(\"Enter a string to check whether it is a palindrome or not: \"))\n",
    "# for i in my_str:\n",
    "\n",
    "i=0\n",
    "n=0\n",
    "count=0\n",
    "b=len(my_str)\n",
    "reverse_str=\"\"\n",
    "\n",
    "# my_str.find(word)\n",
    "\n",
    "for i in range(b):\n",
    "    reverse_str=reverse_str+my_str[b-i-1]\n",
    "    i+=1\n",
    "\n",
    "print(f'{my_str} is a palindrome' if my_str==reverse_str else\n",
    "      f'{my_str} is not a palindrome')"
   ]
  },
  {
   "cell_type": "markdown",
   "metadata": {},
   "source": [
    "## Python Program to Replace all Occurrences of ‘a’ with $ in a String:"
   ]
  },
  {
   "cell_type": "code",
   "execution_count": 24,
   "metadata": {},
   "outputs": [
    {
     "name": "stdout",
     "output_type": "stream",
     "text": [
      "Enter a sentence: Python Program to Replace all Occurrences of ‘a’ with $ in a String:\n",
      "Python Progr$m to Repl$ce $ll Occurrences of ‘$’ with $ in $ String:\n"
     ]
    }
   ],
   "source": [
    "my_str=str(input(\"Enter a sentence: \"))\n",
    "sub_str='a'\n",
    "new_str='$'\n",
    "\n",
    "if sub_str in my_str:\n",
    "    my_str=my_str.replace(sub_str,new_str)\n",
    "else:\n",
    "    print(\"sub_str not found\")\n",
    "\n",
    "print(my_str)\n",
    "    "
   ]
  },
  {
   "cell_type": "markdown",
   "metadata": {},
   "source": [
    "## Python Program to Count the Number of Vowels in a String"
   ]
  },
  {
   "cell_type": "code",
   "execution_count": 5,
   "metadata": {},
   "outputs": [
    {
     "name": "stdout",
     "output_type": "stream",
     "text": [
      "Enter a string: Hello India\n",
      "The number of vowels in Hello India is 5\n"
     ]
    }
   ],
   "source": [
    "my_str=str(input(\"Enter a string: \"))\n",
    "count=0\n",
    "\n",
    "for i in my_str:\n",
    "    if i=='a' or i=='e' or i=='i' or i=='o' or  i=='u' or i=='A' or i=='E' or i=='I' or i=='O' or  i=='U':\n",
    "        count+=1\n",
    "    else:\n",
    "        continue\n",
    "print(f'The number of vowels in {my_str} is {count}')   "
   ]
  },
  {
   "cell_type": "markdown",
   "metadata": {},
   "source": [
    "## Input Two Strings and Display the Larger String without Using Built-in Functions:"
   ]
  },
  {
   "cell_type": "code",
   "execution_count": 10,
   "metadata": {},
   "outputs": [
    {
     "name": "stdout",
     "output_type": "stream",
     "text": [
      "Enter the first string: Hellos dsfaf ewf\n",
      "Enter the second string: sadffd jijij nbm\n",
      " The string Hellos dsfaf ewf is of the same size as sadffd jijij nbm\n"
     ]
    }
   ],
   "source": [
    "my_str1=str(input(\"Enter the first string: \"))\n",
    "my_str2=str(input(\"Enter the second string: \"))\n",
    "count1=0\n",
    "count2=0\n",
    "\n",
    "for i in my_str1:\n",
    "    count1+=1\n",
    "for i in my_str2:\n",
    "    count2+=1  \n",
    "\n",
    "print(f' The string {my_str1} is larger than {my_str2}' if count1>count2 else\n",
    "      f' The string {my_str2} is larger than {my_str1}' if count2>count1 else\n",
    "      f' The string {my_str1} is of the same size as {my_str2}')\n",
    "    "
   ]
  },
  {
   "cell_type": "markdown",
   "metadata": {},
   "source": [
    "## Count the number of digits & letters in a string:"
   ]
  },
  {
   "cell_type": "code",
   "execution_count": 15,
   "metadata": {},
   "outputs": [
    {
     "name": "stdout",
     "output_type": "stream",
     "text": [
      "Enter a string: 100% Python is an awesome language 120 in the world\n",
      "The number of digits in the string is 6 and the number of letters in the string is 35\n"
     ]
    }
   ],
   "source": [
    "my_str=str(input(\"Enter a string: \"))\n",
    "count_alphabets=0\n",
    "count_numbers=0\n",
    "\n",
    "for i in my_str:\n",
    "    if ord(i)>=65 and ord(i)<=90:\n",
    "        count_alphabets+=1\n",
    "    elif ord(i)>=97 and ord(i)<=122:\n",
    "        count_alphabets+=1\n",
    "    elif ord(i)>=48 and ord(i)<=57:\n",
    "        count_numbers+=1\n",
    "\n",
    "print(f'The number of digits in the string is {count_numbers} and the number of letters in the string is {count_alphabets}')\n"
   ]
  },
  {
   "cell_type": "markdown",
   "metadata": {},
   "source": [
    "## Count Number of Lowercase Characters in a String:"
   ]
  },
  {
   "cell_type": "code",
   "execution_count": 16,
   "metadata": {},
   "outputs": [
    {
     "name": "stdout",
     "output_type": "stream",
     "text": [
      "Enter a string: 100% Python is an awesome language 120 in the world\n",
      "The number of Lowercase characters in the string is 34\n"
     ]
    }
   ],
   "source": [
    "my_str=str(input(\"Enter a string: \"))\n",
    "count=0\n",
    "\n",
    "for i in my_str:\n",
    "    if ord(i)>=97 and ord(i)<=122:\n",
    "        count+=1\n",
    "    else:\n",
    "        continue\n",
    "\n",
    "print(f'The number of Lowercase characters in the string is {count}')"
   ]
  },
  {
   "cell_type": "markdown",
   "metadata": {},
   "source": [
    "## Program to check if a Substring is Present in a given String:"
   ]
  },
  {
   "cell_type": "code",
   "execution_count": 10,
   "metadata": {},
   "outputs": [
    {
     "name": "stdout",
     "output_type": "stream",
     "text": [
      "Enter a string: 100% Python is an awesome language 120 in the world.\n",
      "Enter a word: Python\n",
      "Python is present in the string.\n"
     ]
    }
   ],
   "source": [
    "my_str=str(input(\"Enter a string: \"))\n",
    "# for i in my_str:\n",
    "word=str(input(\"Enter a word: \"))\n",
    "\n",
    "j=0\n",
    "n=0\n",
    "count=0\n",
    "\n",
    "# my_str.find(word)\n",
    "\n",
    "for i in range(len(my_str)-len(word)+1):\n",
    "    if word in my_str and my_str[j]==word[0]:\n",
    "        for t in word:\n",
    "            if t==my_str[j+n]:\n",
    "                count+=1\n",
    "                n+=1\n",
    "            else:\n",
    "                n+=1\n",
    "        if count==len(word):\n",
    "            print(f'{word} is present in the string.')\n",
    "            n=0\n",
    "        else:\n",
    "            j+=1\n",
    "            count=0\n",
    "            n=0\n",
    "    else:\n",
    "        j+=1\n",
    "        count=0\n",
    "        n=0\n",
    "        \n",
    "if word not in my_str:\n",
    "    print(f'{word} does not exist in the string.')\n",
    "else:\n",
    "    n=0"
   ]
  },
  {
   "cell_type": "markdown",
   "metadata": {},
   "source": [
    "# Lists & Tuples:"
   ]
  },
  {
   "cell_type": "markdown",
   "metadata": {},
   "source": [
    "## Program to Find the Largest Number in a List:"
   ]
  },
  {
   "cell_type": "code",
   "execution_count": 23,
   "metadata": {},
   "outputs": [
    {
     "name": "stdout",
     "output_type": "stream",
     "text": [
      "Enter a number of elements in the list: 5\n",
      "Enter the element of list: 23\n",
      "Enter the element of list: 87\n",
      "Enter the element of list: 96\n",
      "Enter the element of list: 80\n",
      "Enter the element of list: 45\n",
      "Your list is ['23', '87', '96', '80', '45']\n",
      "The maximum element of the list is 96\n"
     ]
    }
   ],
   "source": [
    "n=int(input(\"Enter a number of elements in the list: \"))\n",
    "my_list=[]\n",
    "\n",
    "for i in range(n):\n",
    "    key=input(f'Enter the element of list: ')\n",
    "    my_list.append(key)\n",
    "print(f'Your list is {my_list}')\n",
    "\n",
    "print(f'The maximum element of the list is {max(my_list)}')"
   ]
  },
  {
   "cell_type": "markdown",
   "metadata": {},
   "source": [
    "## Program to Put Even and Odd elements in a List into Two Different Lists:"
   ]
  },
  {
   "cell_type": "code",
   "execution_count": 27,
   "metadata": {},
   "outputs": [
    {
     "name": "stdout",
     "output_type": "stream",
     "text": [
      "Enter number of elements in the list: 2\n",
      "Enter the element of list: 12\n",
      "Enter the element of list: 32\n"
     ]
    },
    {
     "ename": "TypeError",
     "evalue": "not all arguments converted during string formatting",
     "output_type": "error",
     "traceback": [
      "\u001b[1;31m---------------------------------------------------------------------------\u001b[0m",
      "\u001b[1;31mTypeError\u001b[0m                                 Traceback (most recent call last)",
      "\u001b[1;32m<ipython-input-27-dc7646b88bf1>\u001b[0m in \u001b[0;36m<module>\u001b[1;34m\u001b[0m\n\u001b[0;32m      9\u001b[0m \u001b[1;33m\u001b[0m\u001b[0m\n\u001b[0;32m     10\u001b[0m \u001b[1;32mfor\u001b[0m \u001b[0mi\u001b[0m \u001b[1;32min\u001b[0m \u001b[0mmy_list\u001b[0m\u001b[1;33m:\u001b[0m\u001b[1;33m\u001b[0m\u001b[1;33m\u001b[0m\u001b[0m\n\u001b[1;32m---> 11\u001b[1;33m     \u001b[1;32mif\u001b[0m \u001b[0mi\u001b[0m\u001b[1;33m%\u001b[0m\u001b[1;36m2\u001b[0m\u001b[1;33m==\u001b[0m\u001b[1;36m0\u001b[0m \u001b[1;32mand\u001b[0m \u001b[0mtype\u001b[0m\u001b[1;33m(\u001b[0m\u001b[0mi\u001b[0m\u001b[1;33m)\u001b[0m \u001b[1;32mis\u001b[0m \u001b[0mint\u001b[0m\u001b[1;33m:\u001b[0m\u001b[1;33m\u001b[0m\u001b[1;33m\u001b[0m\u001b[0m\n\u001b[0m\u001b[0;32m     12\u001b[0m         \u001b[0mmy_list_even\u001b[0m\u001b[1;33m.\u001b[0m\u001b[0mappend\u001b[0m\u001b[1;33m(\u001b[0m\u001b[0mi\u001b[0m\u001b[1;33m)\u001b[0m\u001b[1;33m\u001b[0m\u001b[1;33m\u001b[0m\u001b[0m\n\u001b[0;32m     13\u001b[0m     \u001b[1;32melif\u001b[0m \u001b[0mi\u001b[0m\u001b[1;33m%\u001b[0m\u001b[1;36m2\u001b[0m\u001b[1;33m!=\u001b[0m\u001b[1;36m0\u001b[0m \u001b[1;32mand\u001b[0m \u001b[0mtype\u001b[0m\u001b[1;33m(\u001b[0m\u001b[0mi\u001b[0m\u001b[1;33m)\u001b[0m \u001b[1;32mis\u001b[0m \u001b[0mint\u001b[0m\u001b[1;33m:\u001b[0m\u001b[1;33m\u001b[0m\u001b[1;33m\u001b[0m\u001b[0m\n",
      "\u001b[1;31mTypeError\u001b[0m: not all arguments converted during string formatting"
     ]
    }
   ],
   "source": [
    "n=int(input(\"Enter number of elements in the list: \"))\n",
    "my_list=[]\n",
    "my_list_odd=[]\n",
    "my_list_even=[]\n",
    "\n",
    "for i in range(n):\n",
    "    element=input(f'Enter the element of list: ')\n",
    "    my_list.append(element)\n",
    "\n",
    "for i in my_list:\n",
    "    if i%2==0 and type(i) is int:\n",
    "        my_list_even.append(i)\n",
    "    elif i%2!=0 and type(i) is int:\n",
    "        my_list_odd.append(i)\n",
    "    else:\n",
    "        continue\n",
    "        \n",
    "print(f'The list consisting of even elements is {my_list_even}')\n",
    "print(f'The list consisting of odd elements is {my_list_odd}')    "
   ]
  },
  {
   "cell_type": "code",
   "execution_count": null,
   "metadata": {},
   "outputs": [],
   "source": []
  },
  {
   "cell_type": "code",
   "execution_count": 26,
   "metadata": {},
   "outputs": [
    {
     "ename": "NameError",
     "evalue": "name 'is_integer' is not defined",
     "output_type": "error",
     "traceback": [
      "\u001b[1;31m---------------------------------------------------------------------------\u001b[0m",
      "\u001b[1;31mNameError\u001b[0m                                 Traceback (most recent call last)",
      "\u001b[1;32m<ipython-input-26-e6c46308d040>\u001b[0m in \u001b[0;36m<module>\u001b[1;34m\u001b[0m\n\u001b[1;32m----> 1\u001b[1;33m \u001b[0mis_integer\u001b[0m\u001b[1;33m(\u001b[0m\u001b[1;36m20\u001b[0m\u001b[1;33m)\u001b[0m\u001b[1;33m\u001b[0m\u001b[1;33m\u001b[0m\u001b[0m\n\u001b[0m",
      "\u001b[1;31mNameError\u001b[0m: name 'is_integer' is not defined"
     ]
    }
   ],
   "source": [
    "def is_int(val):\n",
    "    if type(val) == int:\n",
    "        return True\n",
    "    else:\n",
    "        if val.is_integer():\n",
    "            return True\n",
    "        else:\n",
    "            return False"
   ]
  },
  {
   "cell_type": "code",
   "execution_count": null,
   "metadata": {},
   "outputs": [],
   "source": []
  },
  {
   "cell_type": "code",
   "execution_count": null,
   "metadata": {},
   "outputs": [],
   "source": []
  },
  {
   "cell_type": "code",
   "execution_count": null,
   "metadata": {},
   "outputs": [],
   "source": []
  },
  {
   "cell_type": "code",
   "execution_count": null,
   "metadata": {},
   "outputs": [],
   "source": []
  },
  {
   "cell_type": "markdown",
   "metadata": {},
   "source": [
    "# DICTIONARY"
   ]
  },
  {
   "cell_type": "markdown",
   "metadata": {},
   "source": [
    "## Program to Check if a Given Key Exists in a Dictionary or Not:"
   ]
  },
  {
   "cell_type": "code",
   "execution_count": 25,
   "metadata": {},
   "outputs": [
    {
     "name": "stdout",
     "output_type": "stream",
     "text": [
      "Enter a key: 6\n",
      "Key 6 exists in the dictionary\n"
     ]
    }
   ],
   "source": [
    "dictionary={1:'One', 2:'Two', 3:'Three', 4:'Four', 5:'Five', 6:'Six'}\n",
    "\n",
    "key=int(input(\"Enter a key: \"))\n",
    "\n",
    "print(f'Key {key} exists in the dictionary' if key in dictionary else\n",
    "      f'{key} does not exist in the dictionary')"
   ]
  },
  {
   "cell_type": "markdown",
   "metadata": {},
   "source": [
    "## Program to Sum All the Items in a Dictionary:"
   ]
  },
  {
   "cell_type": "code",
   "execution_count": 14,
   "metadata": {},
   "outputs": [
    {
     "name": "stdout",
     "output_type": "stream",
     "text": [
      "Enter a number of elements in the dictionary:5\n",
      "Enter a key: 1\n",
      "Enter value corrs. to the key 1: 10\n",
      "Enter a key: 2\n",
      "Enter value corrs. to the key 2: 20\n",
      "Enter a key: 3\n",
      "Enter value corrs. to the key 3: 30\n",
      "Enter a key: 4\n",
      "Enter value corrs. to the key 4: 40\n",
      "Enter a key: 5\n",
      "Enter value corrs. to the key 5: 50\n",
      "The sum of all elements in dictionary is 150.\n"
     ]
    }
   ],
   "source": [
    "n=int(input(\"Enter a number of elements in the dictionary:\"))\n",
    "my_dict={}\n",
    "sum=0\n",
    "j=0\n",
    "\n",
    "for i in range(n):\n",
    "    key=input(f'Enter a key: ')\n",
    "    value=input(f'Enter value corrs. to the key {key}: ')\n",
    "    my_dict.update({key:value})\n",
    "\n",
    "for j in my_dict:\n",
    "    sum+=int(my_dict[j])\n",
    "    \n",
    "print(f'The sum of all elements in dictionary is {sum}.')"
   ]
  },
  {
   "cell_type": "markdown",
   "metadata": {},
   "source": [
    "## Program to Remove the Given Key from a Dictionary:"
   ]
  },
  {
   "cell_type": "code",
   "execution_count": 23,
   "metadata": {},
   "outputs": [
    {
     "name": "stdout",
     "output_type": "stream",
     "text": [
      "Enter a number of elements in the dictionary:5\n",
      "Enter a key: 1\n",
      "Enter value corrs. to the key 1: AB\n",
      "Enter a key: 2\n",
      "Enter value corrs. to the key 2: CD\n",
      "Enter a key: 3\n",
      "Enter value corrs. to the key 3: EF\n",
      "Enter a key: 4\n",
      "Enter value corrs. to the key 4: GH\n",
      "Enter a key: 5\n",
      "Enter value corrs. to the key 5: IJ\n",
      "Enter the key you wish to delete from this dictionary: 4\n",
      "The altered dictionary is: {'1': 'AB', '2': 'CD', '3': 'EF', '5': 'IJ'}\n"
     ]
    }
   ],
   "source": [
    "n=int(input(\"Enter a number of elements in the dictionary:\"))\n",
    "my_dict={}\n",
    "for i in range(n):\n",
    "    key=input(f'Enter a key: ')\n",
    "    value=input(f'Enter value corrs. to the key {key}: ')\n",
    "    my_dict.update({key:value})\n",
    "    \n",
    "key1=input(f'Enter the key you wish to delete from this dictionary: ')\n",
    "\n",
    "if key1 in my_dict:\n",
    "        del my_dict[key1]\n",
    "        print(f'The altered dictionary is: {my_dict}')\n",
    "else:\n",
    "    print(\"The entered key does not lie in the dictionary\")\n",
    "           "
   ]
  },
  {
   "cell_type": "markdown",
   "metadata": {},
   "source": [
    "## Write a Python program to iterate over dictionaries using for loops:"
   ]
  },
  {
   "cell_type": "code",
   "execution_count": 18,
   "metadata": {},
   "outputs": [
    {
     "ename": "SyntaxError",
     "evalue": "invalid syntax (<ipython-input-18-155d424caf91>, line 10)",
     "output_type": "error",
     "traceback": [
      "\u001b[1;36m  File \u001b[1;32m\"<ipython-input-18-155d424caf91>\"\u001b[1;36m, line \u001b[1;32m10\u001b[0m\n\u001b[1;33m    print(range(my_dict[]))\u001b[0m\n\u001b[1;37m                        ^\u001b[0m\n\u001b[1;31mSyntaxError\u001b[0m\u001b[1;31m:\u001b[0m invalid syntax\n"
     ]
    }
   ],
   "source": [
    "n=int(input(\"Enter a number of elements in the dictionary: \"))\n",
    "my_dict={}\n",
    "\n",
    "for i in range(n):\n",
    "    key=input(f'Enter a key: ')\n",
    "    value=input(f'Enter value corrs. to the key {key}: ')\n",
    "    my_dict.update({key:value})\n",
    "\n",
    "  \n",
    "# for j in sorted(my_dict):\n",
    "#                print(\"The  of the dictionary \")        \n",
    "               \n",
    "               "
   ]
  },
  {
   "cell_type": "markdown",
   "metadata": {},
   "source": [
    "## Write a Python program to sort a dictionary by key:"
   ]
  },
  {
   "cell_type": "code",
   "execution_count": 16,
   "metadata": {},
   "outputs": [
    {
     "name": "stdout",
     "output_type": "stream",
     "text": [
      "Enter a number of elements in the dictionary: 5\n",
      "Enter a key: 2\n",
      "Enter value corrs. to the key 2: 20\n",
      "Enter a key: 4\n",
      "Enter value corrs. to the key 4: 40\n",
      "Enter a key: 1\n",
      "Enter value corrs. to the key 1: 10\n",
      "Enter a key: 3\n",
      "Enter value corrs. to the key 3: 30\n",
      "Enter a key: 5\n",
      "Enter value corrs. to the key 5: 50\n",
      "The dictionary entered by you is {'2': '20', '4': '40', '1': '10', '3': '30', '5': '50'}\n",
      "The sorted dictionary according to keys is {'1': '10', '2': '20', '3': '30', '4': '40', '5': '50'}\n"
     ]
    }
   ],
   "source": [
    "n=int(input(\"Enter a number of elements in the dictionary: \"))\n",
    "my_dict={}\n",
    "my_dict2={}\n",
    "\n",
    "for i in range(n):\n",
    "    key=input(f'Enter a key: ')\n",
    "    value=input(f'Enter value corrs. to the key {key}: ')\n",
    "    my_dict.update({key:value})\n",
    "\n",
    "print(f'The dictionary entered by you is {my_dict}')\n",
    "\n",
    "for i in sorted(my_dict):\n",
    "    my_dict2.update({i:my_dict[i]})\n",
    "print(f'The sorted dictionary according to keys is {my_dict2}')"
   ]
  },
  {
   "cell_type": "code",
   "execution_count": null,
   "metadata": {},
   "outputs": [],
   "source": []
  },
  {
   "cell_type": "code",
   "execution_count": null,
   "metadata": {},
   "outputs": [],
   "source": []
  },
  {
   "cell_type": "code",
   "execution_count": null,
   "metadata": {},
   "outputs": [],
   "source": []
  },
  {
   "cell_type": "code",
   "execution_count": null,
   "metadata": {},
   "outputs": [],
   "source": []
  },
  {
   "cell_type": "code",
   "execution_count": null,
   "metadata": {},
   "outputs": [],
   "source": []
  }
 ],
 "metadata": {
  "kernelspec": {
   "display_name": "Python 3",
   "language": "python",
   "name": "python3"
  },
  "language_info": {
   "codemirror_mode": {
    "name": "ipython",
    "version": 3
   },
   "file_extension": ".py",
   "mimetype": "text/x-python",
   "name": "python",
   "nbconvert_exporter": "python",
   "pygments_lexer": "ipython3",
   "version": "3.8.3"
  }
 },
 "nbformat": 4,
 "nbformat_minor": 4
}
