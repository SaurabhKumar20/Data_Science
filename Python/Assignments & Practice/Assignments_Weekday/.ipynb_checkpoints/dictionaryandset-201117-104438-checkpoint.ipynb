{
 "cells": [
  {
   "cell_type": "code",
   "execution_count": null,
   "metadata": {},
   "outputs": [],
   "source": [
    "### dictionary\n",
    "### syntax:\n",
    "# {'key1':'val1','key2':'val2','key3','val3',.......,'keyN':'valN'}\n",
    "# [key1,key2,key3...keyN] => any python constant values like, string, int, float,\n",
    "# [val1,val2,val3...valN] => any python supported data types; eg, list, tuple, dictionary"
   ]
  },
  {
   "cell_type": "code",
   "execution_count": 1,
   "metadata": {},
   "outputs": [],
   "source": [
    "students = {'name':['Peter','Jack','Jack','Rossy'],\n",
    "'rollno':(1,2,3,4),\n",
    "'address':{'city':['A','B','C','D'],\n",
    "          'state':['MH','TN','KL','DL']},\n",
    "'contactno':[12,45,67,89]}"
   ]
  },
  {
   "cell_type": "code",
   "execution_count": 2,
   "metadata": {},
   "outputs": [
    {
     "name": "stdout",
     "output_type": "stream",
     "text": [
      "<class 'dict'>\n"
     ]
    },
    {
     "data": {
      "text/plain": [
       "{'name': ['Peter', 'Jack', 'Jack', 'Rossy'],\n",
       " 'rollno': (1, 2, 3, 4),\n",
       " 'address': {'city': ['A', 'B', 'C', 'D'], 'state': ['MH', 'TN', 'KL', 'DL']},\n",
       " 'contactno': [12, 45, 67, 89]}"
      ]
     },
     "execution_count": 2,
     "metadata": {},
     "output_type": "execute_result"
    }
   ],
   "source": [
    "print(type(students))\n",
    "students"
   ]
  },
  {
   "cell_type": "markdown",
   "metadata": {},
   "source": [
    "# \n",
    "- unordered data type\n",
    "- key values can not be duplicates, field members can take duplicate value\n",
    "- index by name\n",
    "- mutable "
   ]
  },
  {
   "cell_type": "code",
   "execution_count": 3,
   "metadata": {},
   "outputs": [
    {
     "data": {
      "text/plain": [
       "{'name': ['Peter', 'Jack', 'Jack', 'Rossy'],\n",
       " 'rollno': (1, 2, 3, 4),\n",
       " 'address': {'city': ['A', 'B', 'C', 'D'], 'state': ['MH', 'TN', 'KL', 'DL']},\n",
       " 'contactno': [125, 45, 67, 89]}"
      ]
     },
     "execution_count": 3,
     "metadata": {},
     "output_type": "execute_result"
    }
   ],
   "source": [
    "{'name':['Peter','Jack','Jack','Rossy'],\n",
    "'rollno':(1,2,3,4),\n",
    "'address':{'city':['A','B','C','D'],\n",
    "          'state':['MH','TN','KL','DL']},\n",
    "'contactno':[12,45,67,89],\n",
    "'contactno':[125,45,67,89]}"
   ]
  },
  {
   "cell_type": "code",
   "execution_count": 4,
   "metadata": {},
   "outputs": [
    {
     "data": {
      "text/plain": [
       "{'name': ['Peter', 'Jack', 'Jack', 'Rossy'],\n",
       " 'rollno': (1, 2, 3, 4),\n",
       " 'address': {'city': ['A', 'B', 'C', 'D'], 'state': ['MH', 'TN', 'KL', 'DL']},\n",
       " 'contactno': [12, 45, 67, 89],\n",
       " 'contactno2': [12, 45, 67, 89]}"
      ]
     },
     "execution_count": 4,
     "metadata": {},
     "output_type": "execute_result"
    }
   ],
   "source": [
    "{'name':['Peter','Jack','Jack','Rossy'],\n",
    "'rollno':(1,2,3,4),\n",
    "'address':{'city':['A','B','C','D'],\n",
    "          'state':['MH','TN','KL','DL']},\n",
    "'contactno':[12,45,67,89],\n",
    "'contactno2':[12,45,67,89]}"
   ]
  },
  {
   "cell_type": "code",
   "execution_count": 5,
   "metadata": {},
   "outputs": [],
   "source": [
    "### access values of the elements in dictionary"
   ]
  },
  {
   "cell_type": "code",
   "execution_count": 6,
   "metadata": {},
   "outputs": [
    {
     "data": {
      "text/plain": [
       "{'name': ['Peter', 'Jack', 'Jack', 'Rossy'],\n",
       " 'rollno': (1, 2, 3, 4),\n",
       " 'address': {'city': ['A', 'B', 'C', 'D'], 'state': ['MH', 'TN', 'KL', 'DL']},\n",
       " 'contactno': [12, 45, 67, 89]}"
      ]
     },
     "execution_count": 6,
     "metadata": {},
     "output_type": "execute_result"
    }
   ],
   "source": [
    "students"
   ]
  },
  {
   "cell_type": "code",
   "execution_count": 8,
   "metadata": {},
   "outputs": [
    {
     "data": {
      "text/plain": [
       "1"
      ]
     },
     "execution_count": 8,
     "metadata": {},
     "output_type": "execute_result"
    }
   ],
   "source": [
    "students['rollno'][0]"
   ]
  },
  {
   "cell_type": "code",
   "execution_count": 10,
   "metadata": {},
   "outputs": [
    {
     "data": {
      "text/plain": [
       "'Peter'"
      ]
     },
     "execution_count": 10,
     "metadata": {},
     "output_type": "execute_result"
    }
   ],
   "source": [
    "students['name'][0]"
   ]
  },
  {
   "cell_type": "code",
   "execution_count": 15,
   "metadata": {},
   "outputs": [
    {
     "data": {
      "text/plain": [
       "'MH'"
      ]
     },
     "execution_count": 15,
     "metadata": {},
     "output_type": "execute_result"
    }
   ],
   "source": [
    "## first student state info\n",
    "students['address']['state'][0]"
   ]
  },
  {
   "cell_type": "code",
   "execution_count": 20,
   "metadata": {},
   "outputs": [
    {
     "data": {
      "text/plain": [
       "{'name': ['Peter', 'Jack', 'Jill', 'Rossy'],\n",
       " 'rollno': (1, 2, 3, 8, 5),\n",
       " 'address': {'city': ['A', 'B', 'C', 'D'], 'state': ['MH', 'TN', 'KL', 'DL']},\n",
       " 'contactno': [12, 45, 67]}"
      ]
     },
     "execution_count": 20,
     "metadata": {},
     "output_type": "execute_result"
    }
   ],
   "source": [
    "{'name':['Peter','Jack','Jill','Rossy'],\n",
    "'rollno':(1,2,3,8,5),\n",
    "'address':{'city':['A','B','C','D'],\n",
    "          'state':['MH','TN','KL','DL']},\n",
    "'contactno':[12,45,67]}"
   ]
  },
  {
   "cell_type": "code",
   "execution_count": 21,
   "metadata": {},
   "outputs": [],
   "source": [
    "# loop through dictionary"
   ]
  },
  {
   "cell_type": "code",
   "execution_count": 27,
   "metadata": {},
   "outputs": [],
   "source": [
    "# students.keys()"
   ]
  },
  {
   "cell_type": "code",
   "execution_count": 22,
   "metadata": {},
   "outputs": [
    {
     "name": "stdout",
     "output_type": "stream",
     "text": [
      "name\n",
      "rollno\n",
      "address\n",
      "contactno\n"
     ]
    }
   ],
   "source": [
    "for k in students.keys():\n",
    "    print(k)"
   ]
  },
  {
   "cell_type": "code",
   "execution_count": 25,
   "metadata": {},
   "outputs": [
    {
     "name": "stdout",
     "output_type": "stream",
     "text": [
      "['Peter', 'Jack', 'Jack', 'Rossy']\n",
      "(1, 2, 3, 4)\n",
      "{'city': ['A', 'B', 'C', 'D'], 'state': ['MH', 'TN', 'KL', 'DL']}\n",
      "[12, 45, 67, 89]\n"
     ]
    }
   ],
   "source": [
    "for v in students.values():\n",
    "    print(v)"
   ]
  },
  {
   "cell_type": "code",
   "execution_count": 24,
   "metadata": {},
   "outputs": [
    {
     "name": "stdout",
     "output_type": "stream",
     "text": [
      "('name', ['Peter', 'Jack', 'Jack', 'Rossy'])\n",
      "('rollno', (1, 2, 3, 4))\n",
      "('address', {'city': ['A', 'B', 'C', 'D'], 'state': ['MH', 'TN', 'KL', 'DL']})\n",
      "('contactno', [12, 45, 67, 89])\n"
     ]
    }
   ],
   "source": [
    "for i in students.items():\n",
    "    print(i)"
   ]
  },
  {
   "cell_type": "code",
   "execution_count": 29,
   "metadata": {},
   "outputs": [],
   "source": [
    "students.update({'scores':[100,80,90,70]})"
   ]
  },
  {
   "cell_type": "code",
   "execution_count": 30,
   "metadata": {},
   "outputs": [
    {
     "data": {
      "text/plain": [
       "{'name': ['Peter', 'Jack', 'Jack', 'Rossy'],\n",
       " 'rollno': (1, 2, 3, 4),\n",
       " 'address': {'city': ['A', 'B', 'C', 'D'], 'state': ['MH', 'TN', 'KL', 'DL']},\n",
       " 'contactno': [12, 45, 67, 89],\n",
       " 'scores': [100, 80, 90, 70]}"
      ]
     },
     "execution_count": 30,
     "metadata": {},
     "output_type": "execute_result"
    }
   ],
   "source": [
    "students"
   ]
  },
  {
   "cell_type": "code",
   "execution_count": 37,
   "metadata": {},
   "outputs": [],
   "source": [
    "students = {'NAMES': ['Peter', 'Jack', 'Jack', 'Rossy'],\n",
    " 'rollno': (1, 2, 3, 4),\n",
    " 'address': {'city': ['A', 'B', 'C', 'D'], 'state': ['MH', 'TN', 'KL', 'DL']},\n",
    " 'contactno': [12, 45, 67, 89],\n",
    " 'scores': [100, 80, 90, 70]}"
   ]
  },
  {
   "cell_type": "code",
   "execution_count": 38,
   "metadata": {},
   "outputs": [
    {
     "data": {
      "text/plain": [
       "{'NAMES': ['Peter', 'Jack', 'Jack', 'Rossy'],\n",
       " 'rollno': (1, 2, 3, 4),\n",
       " 'address': {'city': ['A', 'B', 'C', 'D'], 'state': ['MH', 'TN', 'KL', 'DL']},\n",
       " 'contactno': [12, 45, 67, 89],\n",
       " 'scores': [100, 80, 90, 70]}"
      ]
     },
     "execution_count": 38,
     "metadata": {},
     "output_type": "execute_result"
    }
   ],
   "source": [
    "students"
   ]
  },
  {
   "cell_type": "code",
   "execution_count": 39,
   "metadata": {},
   "outputs": [
    {
     "data": {
      "text/plain": [
       "{'name': 'Peter', 'rollno': 5, 'address': 'MH', 'scores': 90}"
      ]
     },
     "execution_count": 39,
     "metadata": {},
     "output_type": "execute_result"
    }
   ],
   "source": [
    "{'name': 'Peter','rollno' :5, 'address':'MH','scores':90}"
   ]
  },
  {
   "cell_type": "code",
   "execution_count": 63,
   "metadata": {},
   "outputs": [
    {
     "data": {
      "text/plain": [
       "{'a': 1, 'b': 2}"
      ]
     },
     "execution_count": 63,
     "metadata": {},
     "output_type": "execute_result"
    }
   ],
   "source": [
    "dict(zip(['a','b'],[1,2]))"
   ]
  },
  {
   "cell_type": "markdown",
   "metadata": {},
   "source": [
    "## sets\n",
    " - unordered data\n",
    " - unindexable\n",
    " - duplicate members not allowed"
   ]
  },
  {
   "cell_type": "code",
   "execution_count": 40,
   "metadata": {},
   "outputs": [
    {
     "data": {
      "text/plain": [
       "[1, 2, 3, 4, 2]"
      ]
     },
     "execution_count": 40,
     "metadata": {},
     "output_type": "execute_result"
    }
   ],
   "source": [
    "mylist = [1,2,3,4,2]\n",
    "mylist"
   ]
  },
  {
   "cell_type": "code",
   "execution_count": 43,
   "metadata": {},
   "outputs": [
    {
     "name": "stdout",
     "output_type": "stream",
     "text": [
      "<class 'dict'>\n",
      "<class 'set'>\n"
     ]
    }
   ],
   "source": [
    "print(type({}))\n",
    "print(type({1,2,3,4,5,6}))"
   ]
  },
  {
   "cell_type": "code",
   "execution_count": 44,
   "metadata": {},
   "outputs": [
    {
     "data": {
      "text/plain": [
       "{1, 2, 3, 4}"
      ]
     },
     "execution_count": 44,
     "metadata": {},
     "output_type": "execute_result"
    }
   ],
   "source": [
    "{1,2,3,4}"
   ]
  },
  {
   "cell_type": "code",
   "execution_count": 48,
   "metadata": {},
   "outputs": [
    {
     "data": {
      "text/plain": [
       "{1, 2, 3, 4, 5, 6, 7}"
      ]
     },
     "execution_count": 48,
     "metadata": {},
     "output_type": "execute_result"
    }
   ],
   "source": [
    "set1 = {7,1,2,3,3,4,6,7,1,2,3,4,5,7}\n",
    "set1"
   ]
  },
  {
   "cell_type": "code",
   "execution_count": 61,
   "metadata": {},
   "outputs": [
    {
     "name": "stdout",
     "output_type": "stream",
     "text": [
      "{1, 2, 3, 4, 5, 6, 7, 8, 9, 10, 11, 12, 13, 14, 15, 16, 17, 18, 19, 20}\n",
      "\n",
      "\n",
      "{15, 16, 17, 18, 19, 20, 21, 22, 23, 24, 25, 26, 27, 28, 29, 30}\n"
     ]
    }
   ],
   "source": [
    "set1 = set(range(1,21))\n",
    "set2 = set(range(15,31))\n",
    "print(set1)\n",
    "\n",
    "print('\\n')\n",
    "print(set2)"
   ]
  },
  {
   "cell_type": "code",
   "execution_count": 62,
   "metadata": {},
   "outputs": [
    {
     "data": {
      "text/plain": [
       "{1,\n",
       " 2,\n",
       " 3,\n",
       " 4,\n",
       " 5,\n",
       " 6,\n",
       " 7,\n",
       " 8,\n",
       " 9,\n",
       " 10,\n",
       " 11,\n",
       " 12,\n",
       " 13,\n",
       " 14,\n",
       " 21,\n",
       " 22,\n",
       " 23,\n",
       " 24,\n",
       " 25,\n",
       " 26,\n",
       " 27,\n",
       " 28,\n",
       " 29,\n",
       " 30}"
      ]
     },
     "execution_count": 62,
     "metadata": {},
     "output_type": "execute_result"
    }
   ],
   "source": [
    "set1.symmetric_difference(set2)"
   ]
  },
  {
   "cell_type": "code",
   "execution_count": 59,
   "metadata": {},
   "outputs": [
    {
     "data": {
      "text/plain": [
       "{15, 16, 17, 18, 19, 20}"
      ]
     },
     "execution_count": 59,
     "metadata": {},
     "output_type": "execute_result"
    }
   ],
   "source": [
    "## common elements\n",
    "set1.intersection(set2)"
   ]
  },
  {
   "cell_type": "code",
   "execution_count": 60,
   "metadata": {},
   "outputs": [
    {
     "name": "stdout",
     "output_type": "stream",
     "text": [
      "{1, 2, 3, 4, 5, 6, 7, 8, 9, 10, 11, 12, 13, 14, 15, 16, 17, 18, 19, 20}\n",
      "{15, 16, 17, 18, 19, 20}\n"
     ]
    }
   ],
   "source": [
    "print(set1)\n",
    "set1.intersection_update(set2)\n",
    "print(set1)"
   ]
  },
  {
   "cell_type": "code",
   "execution_count": 52,
   "metadata": {},
   "outputs": [
    {
     "data": {
      "text/plain": [
       "{1, 2, 3, 4, 5, 6, 7, 8, 9, 10, 11, 12, 13, 14}"
      ]
     },
     "execution_count": 52,
     "metadata": {},
     "output_type": "execute_result"
    }
   ],
   "source": [
    "set1.difference(set2)"
   ]
  },
  {
   "cell_type": "code",
   "execution_count": 53,
   "metadata": {},
   "outputs": [
    {
     "data": {
      "text/plain": [
       "{21, 22, 23, 24, 25, 26, 27, 28, 29, 30}"
      ]
     },
     "execution_count": 53,
     "metadata": {},
     "output_type": "execute_result"
    }
   ],
   "source": [
    "set2.difference(set1)"
   ]
  },
  {
   "cell_type": "code",
   "execution_count": 51,
   "metadata": {
    "scrolled": true
   },
   "outputs": [
    {
     "data": {
      "text/plain": [
       "{1,\n",
       " 2,\n",
       " 3,\n",
       " 4,\n",
       " 5,\n",
       " 6,\n",
       " 7,\n",
       " 8,\n",
       " 9,\n",
       " 10,\n",
       " 11,\n",
       " 12,\n",
       " 13,\n",
       " 14,\n",
       " 15,\n",
       " 16,\n",
       " 17,\n",
       " 18,\n",
       " 19,\n",
       " 20,\n",
       " 21,\n",
       " 22,\n",
       " 23,\n",
       " 24,\n",
       " 25,\n",
       " 26,\n",
       " 27,\n",
       " 28,\n",
       " 29,\n",
       " 30}"
      ]
     },
     "execution_count": 51,
     "metadata": {},
     "output_type": "execute_result"
    }
   ],
   "source": [
    "## union elements\n",
    "set1.union(set2)"
   ]
  },
  {
   "cell_type": "code",
   "execution_count": null,
   "metadata": {},
   "outputs": [],
   "source": []
  }
 ],
 "metadata": {
  "kernelspec": {
   "display_name": "Python 3",
   "language": "python",
   "name": "python3"
  },
  "language_info": {
   "codemirror_mode": {
    "name": "ipython",
    "version": 3
   },
   "file_extension": ".py",
   "mimetype": "text/x-python",
   "name": "python",
   "nbconvert_exporter": "python",
   "pygments_lexer": "ipython3",
   "version": "3.8.3"
  }
 },
 "nbformat": 4,
 "nbformat_minor": 4
}
