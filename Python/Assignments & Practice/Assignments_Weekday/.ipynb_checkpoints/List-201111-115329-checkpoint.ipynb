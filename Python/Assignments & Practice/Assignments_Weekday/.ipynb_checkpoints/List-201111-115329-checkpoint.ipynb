{
 "cells": [
  {
   "cell_type": "markdown",
   "metadata": {},
   "source": [
    "### List, Tuple, Set, Dictionary"
   ]
  },
  {
   "cell_type": "markdown",
   "metadata": {},
   "source": [
    "### List\n",
    "- ordered data\n",
    "- indexed\n",
    "- duplicate members allowed\n",
    "- mutable data\n",
    "- supports hetreogenous data type"
   ]
  },
  {
   "cell_type": "code",
   "execution_count": 1,
   "metadata": {},
   "outputs": [],
   "source": [
    "### syntax: [val1, val2, val3,.....valN]\n",
    "intList = [1,2,3,4,5,6,7,8,9,10]\n",
    "floatList = [1.1,1.2,1.3]\n",
    "floatList = [1.1,1.2,1.3,1.3,1.1] # duplicate members\n",
    "strList = ['a','b','c']\n",
    "mixList = [1,2,'3','a',True, 5.6] # hetreogenous data"
   ]
  },
  {
   "cell_type": "code",
   "execution_count": 2,
   "metadata": {},
   "outputs": [
    {
     "name": "stdout",
     "output_type": "stream",
     "text": [
      "<class 'int'>\n",
      "<class 'bool'>\n",
      "<class 'str'>\n"
     ]
    }
   ],
   "source": [
    "print(type(mixList[0]))\n",
    "print(type(mixList[4]))\n",
    "print(type(mixList[3]))"
   ]
  },
  {
   "cell_type": "code",
   "execution_count": 3,
   "metadata": {},
   "outputs": [
    {
     "name": "stdout",
     "output_type": "stream",
     "text": [
      "1\n",
      "2\n",
      "True\n",
      "5.6\n",
      "a\n"
     ]
    }
   ],
   "source": [
    "# Indexing \n",
    "print(mixList[0])\n",
    "print(mixList[1])\n",
    "print(mixList[4])\n",
    "print(mixList[5])\n",
    "print(mixList[3])\n",
    "# since, data positions are retained in the order enetered, makes it called ordered data"
   ]
  },
  {
   "cell_type": "code",
   "execution_count": 4,
   "metadata": {},
   "outputs": [
    {
     "name": "stdout",
     "output_type": "stream",
     "text": [
      "<class 'list'>\n",
      "<class 'int'>\n"
     ]
    }
   ],
   "source": [
    "### Indexing on list \n",
    "# Syntax: <list_obj>[position]\n",
    "mixList = [1,2,'3','a',True, 5.6, [10,20,30], '9','10',10.1]\n",
    "print(type(mixList[6]))\n",
    "print(type(mixList[6][1]))"
   ]
  },
  {
   "cell_type": "code",
   "execution_count": 5,
   "metadata": {},
   "outputs": [
    {
     "name": "stdout",
     "output_type": "stream",
     "text": [
      "10.1\n",
      "10.1\n",
      "[10, 20, 30]\n",
      "20\n",
      "20\n"
     ]
    }
   ],
   "source": [
    "### Negative indexing on list\n",
    "print(mixList[9])\n",
    "print(mixList[-1])\n",
    "print(mixList[-4])\n",
    "print(mixList[-4][1])\n",
    "print(mixList[-4][-2])"
   ]
  },
  {
   "cell_type": "code",
   "execution_count": 6,
   "metadata": {},
   "outputs": [],
   "source": [
    "### slicing on the list object\n",
    "# syntax: <list_obj>[start:end] => end is excluded, default value of start = 0; end = length - 1"
   ]
  },
  {
   "cell_type": "code",
   "execution_count": 7,
   "metadata": {},
   "outputs": [
    {
     "name": "stdout",
     "output_type": "stream",
     "text": [
      "[True, 5.6, [10, 20, 30]]\n",
      "[1, 2, '3', 'a']\n",
      "[1, 2, '3', 'a']\n",
      "[1, 2, '3', 'a', True, 5.6, [10, 20, 30], '9', '10', 10.1]\n",
      "[5.6, [10, 20, 30], '9', '10', 10.1]\n",
      "[True]\n"
     ]
    }
   ],
   "source": [
    "print(mixList[4:7])\n",
    "print(mixList[0:4])\n",
    "print(mixList[:4])\n",
    "print(mixList[:])\n",
    "print(mixList[5:])\n",
    "print(mixList[4:5])"
   ]
  },
  {
   "cell_type": "code",
   "execution_count": 8,
   "metadata": {},
   "outputs": [],
   "source": [
    "### negative slicing on the list object\n",
    "# syntax: <list_obj>[start:end] => end is excluded, default value of start = -(lenght - 1); end = 1"
   ]
  },
  {
   "cell_type": "code",
   "execution_count": 9,
   "metadata": {},
   "outputs": [
    {
     "name": "stdout",
     "output_type": "stream",
     "text": [
      "[1, 2, '3', 'a', True]\n",
      "[5.6]\n",
      "[1, 2, '3', 'a', True, 5.6, [10, 20, 30], '9', '10']\n",
      "[[10, 20, 30], '9', '10', 10.1]\n",
      "[1, 2, '3']\n",
      "[1, 2, '3']\n",
      "[True, 5.6]\n",
      "[1, 2, '3', 'a']\n"
     ]
    }
   ],
   "source": [
    "mixList = [1,2,'3','a',True, 5.6, [10,20,30], '9','10',10.1]\n",
    "print(mixList[:-5])\n",
    "print(mixList[-5:-4]) # [5.6]\n",
    "print(mixList[:-1])  \n",
    "print(mixList[-4:])\n",
    "print(mixList[-10:-7])\n",
    "print(mixList[:-7])\n",
    "print(mixList[-6:-4])\n",
    "print(mixList[:4])"
   ]
  },
  {
   "cell_type": "code",
   "execution_count": 10,
   "metadata": {},
   "outputs": [
    {
     "name": "stdout",
     "output_type": "stream",
     "text": [
      "101\n",
      "101\n"
     ]
    }
   ],
   "source": [
    "sList = [1,[2],3,[1,2,3,[4,5,7,[10,20,90,[100,101]]]]]\n",
    "# fetch 101\n",
    "print(sList[3][3][3][3][-1])\n",
    "print(sList[3][3][3][3][1])"
   ]
  },
  {
   "cell_type": "code",
   "execution_count": 11,
   "metadata": {},
   "outputs": [
    {
     "name": "stdout",
     "output_type": "stream",
     "text": [
      "[1, 2, '3', 'a', True, 5.6, [10, 20, 30], '9', '10', 10.1]\n",
      "[1, 2, '3', 'a', False, 5.6, [10, 20, 30], '9', '10', 10.1]\n"
     ]
    }
   ],
   "source": [
    "### Modify a value in the list\n",
    "mixList = [1,2,'3','a',True, 5.6, [10,20,30], '9','10',10.1]\n",
    "print(mixList)\n",
    "mixList[4] = False  # mutable\n",
    "print(mixList)"
   ]
  },
  {
   "cell_type": "code",
   "execution_count": 12,
   "metadata": {},
   "outputs": [],
   "source": [
    "mixList[6] = [-10,-20,-30]"
   ]
  },
  {
   "cell_type": "code",
   "execution_count": 13,
   "metadata": {},
   "outputs": [
    {
     "name": "stdout",
     "output_type": "stream",
     "text": [
      "[1, 2, '3', 'a', False, 5.6, [-10, -20, -30], '9', '10', 10.1]\n"
     ]
    }
   ],
   "source": [
    "print(mixList)"
   ]
  },
  {
   "cell_type": "code",
   "execution_count": 14,
   "metadata": {},
   "outputs": [
    {
     "name": "stdout",
     "output_type": "stream",
     "text": [
      "[1, 2, '3', 'a', False, 5.6, [-10, -20, -30], '9', '10', 10.1]\n",
      "[1, 2, '3', 'a', False, 5.6, [-10, -20, -30], '9', '10', 10.1, 'b']\n"
     ]
    }
   ],
   "source": [
    "### Inbuilt methods on list: append(), extend(), remove(), pop(), insert()\n",
    "print(mixList)\n",
    "mixList.append('b')\n",
    "print(mixList)"
   ]
  },
  {
   "cell_type": "code",
   "execution_count": 15,
   "metadata": {},
   "outputs": [
    {
     "name": "stdout",
     "output_type": "stream",
     "text": [
      "[1, 2, '3', 'a', False, 5.6, [-10, -20, -30], '9', '10', 10.1, 'b']\n",
      "[1, 2, '3', 'a', False, 5.6, [-10, -20, -30], '9', '10', 10.1, 'b', ['b', 'c']]\n"
     ]
    }
   ],
   "source": [
    "print(mixList)\n",
    "mixList.append(['b','c'])\n",
    "print(mixList)"
   ]
  },
  {
   "cell_type": "code",
   "execution_count": 16,
   "metadata": {},
   "outputs": [
    {
     "name": "stdout",
     "output_type": "stream",
     "text": [
      "[1, 2, '3', 'a', False, 5.6, [-10, -20, -30], '9', '10', 10.1, 'b', ['b', 'c']]\n",
      "[1, 2, '3', 'a', False, 5.6, [-10, -20, -30], '9', '10', 10.1, 'b', ['b', 'c'], 'b', 'c']\n"
     ]
    }
   ],
   "source": [
    "print(mixList)\n",
    "mixList.extend(['b','c'])\n",
    "print(mixList)"
   ]
  },
  {
   "cell_type": "code",
   "execution_count": 17,
   "metadata": {},
   "outputs": [
    {
     "name": "stdout",
     "output_type": "stream",
     "text": [
      "[1, 2, '3', 'a', False, 5.6, [-10, -20, -30], '9', '10', 10.1, 'b', ['b', 'c'], 'b', 'c']\n",
      "[1, 2, '3', ['b', 'c'], 'a', False, 5.6, [-10, -20, -30], '9', '10', 10.1, 'b', ['b', 'c'], 'b', 'c']\n"
     ]
    }
   ],
   "source": [
    "print(mixList)\n",
    "mixList.insert(3,['b','c'])\n",
    "print(mixList)"
   ]
  },
  {
   "cell_type": "code",
   "execution_count": 18,
   "metadata": {},
   "outputs": [
    {
     "name": "stdout",
     "output_type": "stream",
     "text": [
      "[1, 2, '3', ['b', 'c'], 'a', False, 5.6, [-10, -20, -30], '9', '10', 10.1, 'b', ['b', 'c'], 'b', 'c']\n",
      "[1, 2, '3', ['b', 'c'], 'a', False, 5.6, [-10, -20, -30], '9', '10', 10.1, ['b', 'c'], 'b', 'c']\n"
     ]
    }
   ],
   "source": [
    "print(mixList)\n",
    "mixList.remove(\"b\") # removes an element by value\n",
    "print(mixList)"
   ]
  },
  {
   "cell_type": "code",
   "execution_count": 19,
   "metadata": {},
   "outputs": [
    {
     "name": "stdout",
     "output_type": "stream",
     "text": [
      "[1, 2, '3', ['b', 'c'], 'a', False, 5.6, [-10, -20, -30], '9', '10', 10.1, ['b', 'c'], 'b', 'c']\n",
      "[2, '3', ['b', 'c'], 'a', False, 5.6, [-10, -20, -30], '9', '10', 10.1, ['b', 'c'], 'b', 'c']\n"
     ]
    }
   ],
   "source": [
    "print(mixList)\n",
    "mixList.remove(1) # removes an element by value\n",
    "print(mixList)"
   ]
  },
  {
   "cell_type": "code",
   "execution_count": 20,
   "metadata": {},
   "outputs": [
    {
     "name": "stdout",
     "output_type": "stream",
     "text": [
      "[2, '3', ['b', 'c'], 'a', False, 5.6, [-10, -20, -30], '9', '10', 10.1, ['b', 'c'], 'b', 'c']\n",
      "[2, '3', 'a', False, 5.6, [-10, -20, -30], '9', '10', 10.1, ['b', 'c'], 'b', 'c']\n"
     ]
    }
   ],
   "source": [
    "print(mixList)\n",
    "mixList.remove(['b', 'c']) # removes an element by value\n",
    "print(mixList)"
   ]
  },
  {
   "cell_type": "code",
   "execution_count": 21,
   "metadata": {},
   "outputs": [
    {
     "name": "stdout",
     "output_type": "stream",
     "text": [
      "[2, '3', 'a', False, 5.6, [-10, -20, -30], '9', '10', 10.1, ['b', 'c'], 'b', 'c']\n",
      "[2, '3', 'a', False, 5.6, [-10, -20, -30], '9', '10', 10.1, ['b', 'c'], 'c']\n"
     ]
    }
   ],
   "source": [
    "print(mixList)\n",
    "mixList.pop(-2) # removes an element by index  # default position is last position\n",
    "print(mixList)"
   ]
  },
  {
   "cell_type": "code",
   "execution_count": 22,
   "metadata": {},
   "outputs": [
    {
     "data": {
      "text/plain": [
       "[2, '3', 'a', False, 5.6, [-10, -20, -30], '9', '10', 10.1, ['b', 'c'], 'c']"
      ]
     },
     "execution_count": 22,
     "metadata": {},
     "output_type": "execute_result"
    }
   ],
   "source": [
    "### loop through the list\n",
    "mixList"
   ]
  },
  {
   "cell_type": "code",
   "execution_count": 23,
   "metadata": {},
   "outputs": [
    {
     "name": "stdout",
     "output_type": "stream",
     "text": [
      "2\n",
      "3\n",
      "a\n",
      "False\n",
      "5.6\n",
      "[-10, -20, -30]\n",
      "9\n",
      "10\n",
      "10.1\n",
      "['b', 'c']\n",
      "c\n"
     ]
    }
   ],
   "source": [
    "for each in mixList:\n",
    "    print(each)"
   ]
  },
  {
   "cell_type": "code",
   "execution_count": 24,
   "metadata": {},
   "outputs": [
    {
     "name": "stdout",
     "output_type": "stream",
     "text": [
      "1\n",
      "4\n",
      "9\n",
      "16\n",
      "25\n",
      "36\n",
      "49\n",
      "64\n",
      "81\n",
      "100\n"
     ]
    }
   ],
   "source": [
    "## squaring of each element of the list\n",
    "mylist = [1,2,3,4,5,6,7,8,9,10]\n",
    "for each in mylist:\n",
    "    print(each**2)"
   ]
  },
  {
   "cell_type": "code",
   "execution_count": 25,
   "metadata": {},
   "outputs": [
    {
     "data": {
      "text/plain": [
       "[3, 4, 5, 6, 7, 8, 9, 10, 11, 12]"
      ]
     },
     "execution_count": 25,
     "metadata": {},
     "output_type": "execute_result"
    }
   ],
   "source": [
    "## adding 2 to each element of the list\n",
    "mylist = [1,2,3,4,5,6,7,8,9,10]\n",
    "o_list = []\n",
    "for each in mylist:\n",
    "    o_list.append(each+2)\n",
    "o_list \n",
    "# mylist = o_list"
   ]
  },
  {
   "cell_type": "code",
   "execution_count": 26,
   "metadata": {},
   "outputs": [],
   "source": [
    "# i_mylist = [1,2,3,4,5,6,7,8,9,10]\n",
    "# o_mylist = [3,4,5,6,7,8,9,10,11,12]"
   ]
  },
  {
   "cell_type": "code",
   "execution_count": 27,
   "metadata": {},
   "outputs": [],
   "source": [
    "# mylist * 2"
   ]
  },
  {
   "cell_type": "markdown",
   "metadata": {},
   "source": [
    "### '+' and '*'"
   ]
  },
  {
   "cell_type": "code",
   "execution_count": 28,
   "metadata": {},
   "outputs": [],
   "source": [
    "# example\n",
    "# <list_obj> + scalar # error\n",
    "# <list_obj> + <list_obj> # concatenation\n",
    "# <list_obj> * scalar # replication operation\n",
    "# <list_obj> * <list_obj> # error"
   ]
  },
  {
   "cell_type": "code",
   "execution_count": 29,
   "metadata": {},
   "outputs": [
    {
     "name": "stdout",
     "output_type": "stream",
     "text": [
      "[1, 2, 3, 3, 4, 5]\n",
      "[1, 2, 3, 1, 2, 3, 1, 2, 3]\n"
     ]
    }
   ],
   "source": [
    "# print([1,2,3] + 3 ) # error\n",
    "print([1,2,3] + [3,4,5])\n",
    "print([1,2,3] * 3 ) # replication of the list elements\n",
    "# print([1,2,3] * [3,4,5]) # error"
   ]
  },
  {
   "cell_type": "markdown",
   "metadata": {},
   "source": [
    "#### check if an element exists in the list"
   ]
  },
  {
   "cell_type": "code",
   "execution_count": 30,
   "metadata": {},
   "outputs": [
    {
     "name": "stdout",
     "output_type": "stream",
     "text": [
      "False\n",
      "True\n",
      "True\n",
      "True\n"
     ]
    }
   ],
   "source": [
    "# in, not in\n",
    "mixList = [1,2,'3','a',True, 5.6, [10,20,30], '9','10',10.1]\n",
    "\n",
    "print(3 in mixList)\n",
    "print('3'in mixList)\n",
    "print( [10,20,30] in mixList)\n",
    "print(True in mixList)"
   ]
  },
  {
   "cell_type": "markdown",
   "metadata": {},
   "source": [
    "#### copying a list object"
   ]
  },
  {
   "cell_type": "code",
   "execution_count": 31,
   "metadata": {},
   "outputs": [
    {
     "name": "stdout",
     "output_type": "stream",
     "text": [
      "[1, 2, '3', 'a', True, 10.1]\n",
      "[1, 2, '3', 'a', True, 10.1]\n",
      "[1, 2, '3', 'a', True, 10.1, 'extra']\n",
      "[1, 2, '3', 'a', True, 10.1, 'extra']\n"
     ]
    }
   ],
   "source": [
    "mixList1 = [1,2,'3','a',True, 10.1]\n",
    "mixList2 = mixList1 # copy by reference\n",
    "print(mixList1)\n",
    "print(mixList2)\n",
    "mixList2.append('extra')\n",
    "print(mixList1)\n",
    "print(mixList2)"
   ]
  },
  {
   "cell_type": "code",
   "execution_count": 32,
   "metadata": {},
   "outputs": [
    {
     "name": "stdout",
     "output_type": "stream",
     "text": [
      "[1, 2, '3', 'a', True, 10.1]\n",
      "[1, 2, '3', 'a', True, 10.1]\n",
      "[1, 2, '3', 'a', True, 10.1]\n",
      "[1, 2, '3', 'a', True, 10.1, 'extra']\n"
     ]
    }
   ],
   "source": [
    "mixList1 = [1,2,'3','a',True, 10.1]\n",
    "mixList2 = mixList1.copy() # copy by value\n",
    "print(mixList1)\n",
    "print(mixList2)\n",
    "mixList2.append('extra')\n",
    "print(mixList1)\n",
    "print(mixList2)"
   ]
  },
  {
   "cell_type": "code",
   "execution_count": 33,
   "metadata": {},
   "outputs": [
    {
     "data": {
      "text/plain": [
       "10"
      ]
     },
     "execution_count": 33,
     "metadata": {},
     "output_type": "execute_result"
    }
   ],
   "source": [
    "len(mixList) # lenght of the list"
   ]
  },
  {
   "cell_type": "code",
   "execution_count": 2,
   "metadata": {},
   "outputs": [
    {
     "data": {
      "text/plain": [
       "3"
      ]
     },
     "execution_count": 2,
     "metadata": {},
     "output_type": "execute_result"
    }
   ],
   "source": [
    "lst=[2,3,4,5,3,2,1,1,56,78,98,56,7,3,56]\n",
    "lst.count(56)"
   ]
  },
  {
   "cell_type": "code",
   "execution_count": 3,
   "metadata": {},
   "outputs": [
    {
     "name": "stdout",
     "output_type": "stream",
     "text": [
      "6\n"
     ]
    }
   ],
   "source": [
    "print(2*3)   # multiplies it"
   ]
  },
  {
   "cell_type": "code",
   "execution_count": 4,
   "metadata": {},
   "outputs": [
    {
     "name": "stdout",
     "output_type": "stream",
     "text": [
      "8\n"
     ]
    }
   ],
   "source": [
    "print(2**3)  # squares it"
   ]
  },
  {
   "cell_type": "code",
   "execution_count": 8,
   "metadata": {},
   "outputs": [
    {
     "data": {
      "text/plain": [
       "['1', '34', '562', '65643']"
      ]
     },
     "execution_count": 8,
     "metadata": {},
     "output_type": "execute_result"
    }
   ],
   "source": [
    "'1.34.562.65643'.split('.')"
   ]
  }
 ],
 "metadata": {
  "kernelspec": {
   "display_name": "Python 3",
   "language": "python",
   "name": "python3"
  },
  "language_info": {
   "codemirror_mode": {
    "name": "ipython",
    "version": 3
   },
   "file_extension": ".py",
   "mimetype": "text/x-python",
   "name": "python",
   "nbconvert_exporter": "python",
   "pygments_lexer": "ipython3",
   "version": "3.8.3"
  }
 },
 "nbformat": 4,
 "nbformat_minor": 4
}
