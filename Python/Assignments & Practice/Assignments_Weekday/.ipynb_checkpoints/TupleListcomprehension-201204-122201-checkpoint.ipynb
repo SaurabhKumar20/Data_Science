{
 "cells": [
  {
   "cell_type": "code",
   "execution_count": 1,
   "metadata": {},
   "outputs": [],
   "source": [
    "# list, tuple, disctionary, set"
   ]
  },
  {
   "cell_type": "code",
   "execution_count": 2,
   "metadata": {},
   "outputs": [],
   "source": [
    "# tuple\n",
    "# syntax: (val1,val2,val3,val4....valN)"
   ]
  },
  {
   "cell_type": "markdown",
   "metadata": {},
   "source": [
    "List \n",
    "    - ordered data\n",
    "    - mutable\n",
    "    - hetreogeous data\n",
    "    - duplicate members allowed\n",
    "    - indexable\n",
    "\n",
    "Tuple \n",
    "    - ordered data\n",
    "    - immutable\n",
    "    - hetreogeous data\n",
    "    - duplicate members allowed\n",
    "    - indexable    "
   ]
  },
  {
   "cell_type": "code",
   "execution_count": 3,
   "metadata": {},
   "outputs": [
    {
     "name": "stdout",
     "output_type": "stream",
     "text": [
      "<class 'list'>\n",
      "<class 'tuple'>\n",
      "[1, 2, 3, 4, 5, 6, 7, 8, 9]\n",
      "(1, 2, 3, 4, 5, 6, 7, 8, 9)\n"
     ]
    }
   ],
   "source": [
    "mylist = list(range(1,10))\n",
    "mytuple = (1,2,3,4,5,6,7,8,9)\n",
    "\n",
    "print(type(mylist))\n",
    "print(type(mytuple))\n",
    "print(mylist)\n",
    "print(mytuple)"
   ]
  },
  {
   "cell_type": "code",
   "execution_count": 4,
   "metadata": {},
   "outputs": [
    {
     "data": {
      "text/plain": [
       "[1, 2, 3, 4, 5, 6, 7, 8, 9]"
      ]
     },
     "execution_count": 4,
     "metadata": {},
     "output_type": "execute_result"
    }
   ],
   "source": [
    "mylist"
   ]
  },
  {
   "cell_type": "code",
   "execution_count": 5,
   "metadata": {},
   "outputs": [
    {
     "data": {
      "text/plain": [
       "(1, 2, 3, 4, 5, 6, 7, 8, 9)"
      ]
     },
     "execution_count": 5,
     "metadata": {},
     "output_type": "execute_result"
    }
   ],
   "source": [
    "tuple(mylist)"
   ]
  },
  {
   "cell_type": "code",
   "execution_count": 6,
   "metadata": {},
   "outputs": [
    {
     "data": {
      "text/plain": [
       "[1, 2, 3, 4, 5, 6, 7, 8, 9]"
      ]
     },
     "execution_count": 6,
     "metadata": {},
     "output_type": "execute_result"
    }
   ],
   "source": [
    "list(mytuple)"
   ]
  },
  {
   "cell_type": "code",
   "execution_count": 7,
   "metadata": {},
   "outputs": [
    {
     "name": "stdout",
     "output_type": "stream",
     "text": [
      "<class 'tuple'>\n",
      "(1, 2, 3, 4, 5, 6, 7, 8, 9, 1, 2, 3, 4, 5)\n"
     ]
    }
   ],
   "source": [
    "mytuple = (1,2,3,4,5,6,7,8,9,1,2,3,4,5)\n",
    "\n",
    "print(type(mytuple))\n",
    "print(mytuple)"
   ]
  },
  {
   "cell_type": "code",
   "execution_count": 8,
   "metadata": {},
   "outputs": [
    {
     "name": "stdout",
     "output_type": "stream",
     "text": [
      "<class 'tuple'>\n",
      "(1, 2, 3, 4, 5, 6.0, '7', 8, 9, 1, 2, 3, 4, [5], (1, 2))\n"
     ]
    }
   ],
   "source": [
    "mytuple = (1,2,3,4,5,6.0,'7',8,9,1,2,3,4,[5],(1,2)) # mixed data type\n",
    "\n",
    "print(type(mytuple))\n",
    "print(mytuple)"
   ]
  },
  {
   "cell_type": "markdown",
   "metadata": {},
   "source": [
    "#### indexing/negative indexing - works similar to the list object"
   ]
  },
  {
   "cell_type": "code",
   "execution_count": 9,
   "metadata": {},
   "outputs": [
    {
     "name": "stdout",
     "output_type": "stream",
     "text": [
      "(1, 2)\n",
      "(1, 2)\n"
     ]
    }
   ],
   "source": [
    "# fetch tuple (1,2)\n",
    "print(mytuple[-1])\n",
    "print(mytuple[14])"
   ]
  },
  {
   "cell_type": "code",
   "execution_count": 10,
   "metadata": {},
   "outputs": [
    {
     "name": "stdout",
     "output_type": "stream",
     "text": [
      "(3, 4, 5, (6.0, 70, (30, 80, 'B')))\n",
      "(6.0, 70, (30, 80, 'B'))\n",
      "(30, 80, 'B')\n",
      "B\n",
      "[5, [20, 40, 90, 'String']]\n",
      "String\n"
     ]
    }
   ],
   "source": [
    "mytuple = (1,2,(3,4,5,(6.0, 70,(30,80,'B'))),'7',8,9,1,2,3,4,[5,[20,40,90,'String']],(1,2))\n",
    "# fetch 'B'\n",
    "print(mytuple[2])\n",
    "print(mytuple[2][-1])\n",
    "print(mytuple[2][-1][-1])\n",
    "print(mytuple[2][-1][-1][-1])\n",
    "\n",
    "# fetch ['String']\n",
    "print(mytuple[-2])\n",
    "print(mytuple[-2][-1][-1])"
   ]
  },
  {
   "cell_type": "markdown",
   "metadata": {},
   "source": [
    "#### slicing/negative slicing - works similar to the list object"
   ]
  },
  {
   "cell_type": "code",
   "execution_count": 11,
   "metadata": {},
   "outputs": [
    {
     "name": "stdout",
     "output_type": "stream",
     "text": [
      "(8, 9, 1, 2)\n",
      "(8, 9, 1, 2)\n",
      "([5, [20, 40, 90, 'String']], (1, 2))\n",
      "([5, [20, 40, 90, 'String']], (1, 2))\n",
      "([5, [20, 40, 90, 'String']], (1, 2))\n"
     ]
    }
   ],
   "source": [
    "mytuple = (1,2,(3,4,5,(6.0, 70,(30,80,'B'))),'7',8,9,1,2,3,4,[5,[20,40,90,'String']],(1,2))\n",
    "# fetch '8,9,1,2'\n",
    "print(mytuple[-8:-4])\n",
    "print(mytuple[4:8])\n",
    "\n",
    "# fetch [5,[20,40,90,'String']],(1,2)\n",
    "print(mytuple[-2:])\n",
    "print(mytuple[10:])\n",
    "print(mytuple[len(mytuple)-2:])"
   ]
  },
  {
   "cell_type": "code",
   "execution_count": 12,
   "metadata": {},
   "outputs": [
    {
     "name": "stdout",
     "output_type": "stream",
     "text": [
      "[1, 2, (3, 4, 5, (6.0, 70, (30, 80, 'B'))), '7', 8, 9, 1, 2, 3, 4, [5, [20, 40, 90, 'String']], (1, 2)]\n"
     ]
    }
   ],
   "source": [
    "## tuple is immutable\n",
    "# mytuple[2][-1][-1][-1] = 'C'\n",
    "mytuple = (1,2,(3,4,5,(6.0, 70,(30,80,'B'))),'7',8,9,1,2,3,4,[5,[20,40,90,'String']],(1,2))\n",
    "\n",
    "mylist = list(mytuple) \n",
    "print(mylist)\n",
    "# mylist[2][-1][-1][-1] = 'C'"
   ]
  },
  {
   "cell_type": "code",
   "execution_count": 13,
   "metadata": {},
   "outputs": [
    {
     "name": "stdout",
     "output_type": "stream",
     "text": [
      "[1, 2, (3, 4, 5, (6.0, 70, (30, 80, 'B'))), 7, 8, 9, 1, 2, 3, 4, [5, [20, 40, 90, 'String']], (1, 2)]\n"
     ]
    }
   ],
   "source": [
    "# mytuple[3] = 7\n",
    "mylist[3] = 7\n",
    "print(mylist)"
   ]
  },
  {
   "cell_type": "code",
   "execution_count": 14,
   "metadata": {},
   "outputs": [],
   "source": [
    "# write -> modify, insert, drop/remove"
   ]
  },
  {
   "cell_type": "code",
   "execution_count": 15,
   "metadata": {},
   "outputs": [],
   "source": [
    "# t = (1,2,[3,4])\n",
    "# t[-1][1] = 9\n",
    "# t"
   ]
  },
  {
   "cell_type": "code",
   "execution_count": 16,
   "metadata": {},
   "outputs": [
    {
     "data": {
      "text/plain": [
       "2"
      ]
     },
     "execution_count": 16,
     "metadata": {},
     "output_type": "execute_result"
    }
   ],
   "source": [
    "mytuple.count(1)"
   ]
  },
  {
   "cell_type": "code",
   "execution_count": 17,
   "metadata": {},
   "outputs": [
    {
     "data": {
      "text/plain": [
       "1"
      ]
     },
     "execution_count": 17,
     "metadata": {},
     "output_type": "execute_result"
    }
   ],
   "source": [
    "mytuple.index((2))"
   ]
  },
  {
   "cell_type": "code",
   "execution_count": 18,
   "metadata": {},
   "outputs": [
    {
     "name": "stdout",
     "output_type": "stream",
     "text": [
      "1\n",
      "4\n",
      "9\n",
      "16\n",
      "25\n",
      "36\n",
      "49\n",
      "64\n",
      "81\n",
      "100\n"
     ]
    }
   ],
   "source": [
    "for each in [1,2,3,4,5,6,7,8,9,10]:\n",
    "    print(each**2)"
   ]
  },
  {
   "cell_type": "code",
   "execution_count": 19,
   "metadata": {},
   "outputs": [
    {
     "name": "stdout",
     "output_type": "stream",
     "text": [
      "1\n",
      "4\n",
      "9\n",
      "16\n",
      "25\n",
      "36\n",
      "49\n",
      "64\n",
      "81\n",
      "100\n"
     ]
    }
   ],
   "source": [
    "for each in (1,2,3,4,5,6,7,8,9,10):\n",
    "    print(each**2)"
   ]
  },
  {
   "cell_type": "code",
   "execution_count": 20,
   "metadata": {},
   "outputs": [
    {
     "name": "stdout",
     "output_type": "stream",
     "text": [
      "64\n",
      "48\n",
      "88\n",
      "88\n",
      "72\n"
     ]
    }
   ],
   "source": [
    "from sys import getsizeof\n",
    "print(getsizeof([]))\n",
    "print(getsizeof(()))\n",
    "\n",
    "print(getsizeof([1,2,3]))\n",
    "print(getsizeof([1,2,[2,3,4]]))\n",
    "print(getsizeof((1,2,3)))"
   ]
  },
  {
   "cell_type": "code",
   "execution_count": 21,
   "metadata": {},
   "outputs": [],
   "source": [
    "# print(len([1,2,3,4]))\n",
    "# print(len([1,2,3,[1,2,3,4,5]]))"
   ]
  },
  {
   "cell_type": "markdown",
   "metadata": {},
   "source": [
    "### list comprehension"
   ]
  },
  {
   "cell_type": "code",
   "execution_count": 22,
   "metadata": {},
   "outputs": [
    {
     "data": {
      "text/plain": [
       "[1, 4, 9, 16, 25, 36, 49, 64, 81, 100]"
      ]
     },
     "execution_count": 22,
     "metadata": {},
     "output_type": "execute_result"
    }
   ],
   "source": [
    "# generate a list of square of integers from 1:10\n",
    "o_list = []\n",
    "for i in range(1,11):\n",
    "    o_list.append(i**2)\n",
    "    \n",
    "o_list"
   ]
  },
  {
   "cell_type": "markdown",
   "metadata": {},
   "source": [
    "syntax of list comprehension"
   ]
  },
  {
   "cell_type": "code",
   "execution_count": 23,
   "metadata": {},
   "outputs": [],
   "source": [
    "# [<output_expression> for <variable> in <iterable> (<conditional statements>)]"
   ]
  },
  {
   "cell_type": "code",
   "execution_count": 24,
   "metadata": {},
   "outputs": [
    {
     "data": {
      "text/plain": [
       "[1, 4, 9, 16, 25, 36, 49, 64, 81, 100]"
      ]
     },
     "execution_count": 24,
     "metadata": {},
     "output_type": "execute_result"
    }
   ],
   "source": [
    "# generate a list of square of integers from 1:10\n",
    "[each**2 for each in range(1,11)]"
   ]
  },
  {
   "cell_type": "code",
   "execution_count": 25,
   "metadata": {},
   "outputs": [
    {
     "data": {
      "text/plain": [
       "[4, 16, 36, 64, 100]"
      ]
     },
     "execution_count": 25,
     "metadata": {},
     "output_type": "execute_result"
    }
   ],
   "source": [
    "# generate a list of square of even integers from 1:10\n",
    "o_list = []\n",
    "for i in range(1,11):\n",
    "    if(i%2==0):\n",
    "        o_list.append(i**2)\n",
    "o_list        "
   ]
  },
  {
   "cell_type": "code",
   "execution_count": 26,
   "metadata": {},
   "outputs": [
    {
     "data": {
      "text/plain": [
       "[4, 16, 36, 64, 100]"
      ]
     },
     "execution_count": 26,
     "metadata": {},
     "output_type": "execute_result"
    }
   ],
   "source": [
    "[i**2 for i in range(1,11) if(i%2==0)]"
   ]
  },
  {
   "cell_type": "code",
   "execution_count": 27,
   "metadata": {},
   "outputs": [
    {
     "data": {
      "text/plain": [
       "[1.0,\n",
       " 4,\n",
       " 1.7320508075688772,\n",
       " 16,\n",
       " 2.23606797749979,\n",
       " 36,\n",
       " 2.6457513110645907,\n",
       " 64,\n",
       " 3.0,\n",
       " 100]"
      ]
     },
     "execution_count": 27,
     "metadata": {},
     "output_type": "execute_result"
    }
   ],
   "source": [
    "# generate a list of square of even integers and square root of odd integers between 1 : 10\n",
    "o_list = []\n",
    "for i in range(1,11):\n",
    "    if(i%2==0):\n",
    "        o_list.append(i**2)\n",
    "    else:\n",
    "        o_list.append(i**0.5)\n",
    "o_list     "
   ]
  },
  {
   "cell_type": "code",
   "execution_count": 28,
   "metadata": {},
   "outputs": [
    {
     "data": {
      "text/plain": [
       "[1.0,\n",
       " 4,\n",
       " 1.7320508075688772,\n",
       " 16,\n",
       " 2.23606797749979,\n",
       " 36,\n",
       " 2.6457513110645907,\n",
       " 64,\n",
       " 3.0,\n",
       " 100]"
      ]
     },
     "execution_count": 28,
     "metadata": {},
     "output_type": "execute_result"
    }
   ],
   "source": [
    "[i**2 if i%2 == 0 else i**0.5 for i in range(1,11)]"
   ]
  },
  {
   "cell_type": "code",
   "execution_count": 29,
   "metadata": {},
   "outputs": [
    {
     "data": {
      "text/plain": [
       "['N',\n",
       " 'N',\n",
       " 'N',\n",
       " 'N',\n",
       " 'N',\n",
       " 'N',\n",
       " 'N',\n",
       " 'N',\n",
       " 'N',\n",
       " 'N',\n",
       " 'Z',\n",
       " 'P',\n",
       " 'P',\n",
       " 'P',\n",
       " 'P',\n",
       " 'P',\n",
       " 'P',\n",
       " 'P',\n",
       " 'P',\n",
       " 'P']"
      ]
     },
     "execution_count": 29,
     "metadata": {},
     "output_type": "execute_result"
    }
   ],
   "source": [
    "# generate a list encoded values on integer (I) -10:10 => if I == 0; 'Z'; I == positive number; 'P' else 'N' \n",
    "\n",
    "o_list = []\n",
    "for each in range(-10,10):\n",
    "    if each > 0:\n",
    "        o_list.append('P')\n",
    "    elif each < 0:\n",
    "        o_list.append('N')\n",
    "    else:\n",
    "        o_list.append('Z')\n",
    "o_list        "
   ]
  },
  {
   "cell_type": "code",
   "execution_count": 30,
   "metadata": {},
   "outputs": [
    {
     "data": {
      "text/plain": [
       "['N',\n",
       " 'N',\n",
       " 'N',\n",
       " 'N',\n",
       " 'N',\n",
       " 'N',\n",
       " 'N',\n",
       " 'N',\n",
       " 'N',\n",
       " 'N',\n",
       " 'Z',\n",
       " 'P',\n",
       " 'P',\n",
       " 'P',\n",
       " 'P',\n",
       " 'P',\n",
       " 'P',\n",
       " 'P',\n",
       " 'P',\n",
       " 'P',\n",
       " 'P']"
      ]
     },
     "execution_count": 30,
     "metadata": {},
     "output_type": "execute_result"
    }
   ],
   "source": [
    "['P' if i > 0 else ('N' if  i < 0 else 'Z') for i in range(-10,11)]"
   ]
  },
  {
   "cell_type": "code",
   "execution_count": 31,
   "metadata": {},
   "outputs": [
    {
     "name": "stdout",
     "output_type": "stream",
     "text": [
      "4\n",
      "5\n",
      "8\n",
      "10\n"
     ]
    }
   ],
   "source": [
    "### Map it to list comprehension\n",
    "for i in range(1,3):\n",
    "    for j in range(4,6):\n",
    "        print(i*j)        "
   ]
  },
  {
   "cell_type": "code",
   "execution_count": 32,
   "metadata": {},
   "outputs": [
    {
     "data": {
      "text/plain": [
       "[4, 5, 8, 10]"
      ]
     },
     "execution_count": 32,
     "metadata": {},
     "output_type": "execute_result"
    }
   ],
   "source": [
    "[i*j for i in range(1,3) for j in range(4,6)]"
   ]
  },
  {
   "cell_type": "code",
   "execution_count": 33,
   "metadata": {},
   "outputs": [
    {
     "name": "stdout",
     "output_type": "stream",
     "text": [
      "(1, 4, 4)\n",
      "(1, 5, 5)\n",
      "(2, 4, 8)\n",
      "(2, 5, 10)\n",
      "(3, 4, 12)\n",
      "(3, 5, 15)\n",
      "(4, 4, 16)\n",
      "(4, 5, 20)\n",
      "(5, 4, 20)\n",
      "(5, 5, 25)\n",
      "(6, 4, 24)\n",
      "(6, 5, 30)\n",
      "(7, 4, 28)\n",
      "(7, 5, 35)\n",
      "(8, 4, 32)\n",
      "(8, 5, 40)\n",
      "(9, 4, 36)\n",
      "(9, 5, 45)\n"
     ]
    }
   ],
   "source": [
    "### Map it to list comprehension\n",
    "for i in range(1,10):\n",
    "    for j in range(4,6):\n",
    "        print((i,j,i*j)) # multiple outputs"
   ]
  },
  {
   "cell_type": "code",
   "execution_count": 34,
   "metadata": {},
   "outputs": [
    {
     "data": {
      "text/plain": [
       "[(1, 4, 4), (1, 5, 5), (2, 4, 8), (2, 5, 10)]"
      ]
     },
     "execution_count": 34,
     "metadata": {},
     "output_type": "execute_result"
    }
   ],
   "source": [
    "[(i,j,i*j) for i in range(1,3) for j in range(4,6)]"
   ]
  },
  {
   "cell_type": "code",
   "execution_count": 35,
   "metadata": {},
   "outputs": [
    {
     "data": {
      "text/plain": [
       "[[1, 4, 4], [1, 5, 5], [2, 4, 8], [2, 5, 10]]"
      ]
     },
     "execution_count": 35,
     "metadata": {},
     "output_type": "execute_result"
    }
   ],
   "source": [
    "[[i,j,i*j] for i in range(1,3) for j in range(4,6)]"
   ]
  },
  {
   "cell_type": "markdown",
   "metadata": {},
   "source": [
    " list generator"
   ]
  },
  {
   "cell_type": "code",
   "execution_count": 36,
   "metadata": {},
   "outputs": [],
   "source": [
    "# (<output_expression> for <variable> in <iterable> (<conditional statements>))"
   ]
  },
  {
   "cell_type": "code",
   "execution_count": 37,
   "metadata": {},
   "outputs": [
    {
     "data": {
      "text/plain": [
       "[4, 16, 36, 64, 100]"
      ]
     },
     "execution_count": 37,
     "metadata": {},
     "output_type": "execute_result"
    }
   ],
   "source": [
    "[i**2 for i in range(1,11) if(i%2==0)] # list comprehension"
   ]
  },
  {
   "cell_type": "code",
   "execution_count": 38,
   "metadata": {},
   "outputs": [
    {
     "data": {
      "text/plain": [
       "<generator object <genexpr> at 0x000001D587F513C8>"
      ]
     },
     "execution_count": 38,
     "metadata": {},
     "output_type": "execute_result"
    }
   ],
   "source": [
    "(i**2 for i in range(1,11) if(i%2==0)) # list generator"
   ]
  },
  {
   "cell_type": "code",
   "execution_count": 39,
   "metadata": {},
   "outputs": [
    {
     "data": {
      "text/plain": [
       "[4, 16, 36, 64, 100]"
      ]
     },
     "execution_count": 39,
     "metadata": {},
     "output_type": "execute_result"
    }
   ],
   "source": [
    "list((i**2 for i in range(1,11) if(i%2==0)))"
   ]
  },
  {
   "cell_type": "code",
   "execution_count": 40,
   "metadata": {},
   "outputs": [
    {
     "name": "stdout",
     "output_type": "stream",
     "text": [
      "4\n",
      "16\n",
      "36\n",
      "64\n",
      "100\n"
     ]
    }
   ],
   "source": [
    "for each in (i**2 for i in range(1,11) if(i%2==0)):\n",
    "    print(each)"
   ]
  },
  {
   "cell_type": "code",
   "execution_count": 41,
   "metadata": {},
   "outputs": [
    {
     "name": "stdout",
     "output_type": "stream",
     "text": [
      "range(1, 10)\n"
     ]
    }
   ],
   "source": [
    "print(range(1,10))"
   ]
  },
  {
   "cell_type": "code",
   "execution_count": 42,
   "metadata": {},
   "outputs": [
    {
     "name": "stdout",
     "output_type": "stream",
     "text": [
      "<generator object <genexpr> at 0x000001D587F6F248>\n"
     ]
    }
   ],
   "source": [
    "print((i**2 for i in range(1,11) if(i%2==0)))"
   ]
  },
  {
   "cell_type": "code",
   "execution_count": 43,
   "metadata": {},
   "outputs": [
    {
     "data": {
      "text/plain": [
       "range(1, 10)"
      ]
     },
     "execution_count": 43,
     "metadata": {},
     "output_type": "execute_result"
    }
   ],
   "source": [
    "range(1,10)"
   ]
  },
  {
   "cell_type": "code",
   "execution_count": 44,
   "metadata": {},
   "outputs": [
    {
     "name": "stdout",
     "output_type": "stream",
     "text": [
      "1\n",
      "2\n",
      "3\n",
      "4\n",
      "5\n",
      "6\n",
      "7\n",
      "8\n",
      "9\n"
     ]
    }
   ],
   "source": [
    "for each in range(1,10):\n",
    "    print(each)"
   ]
  },
  {
   "cell_type": "code",
   "execution_count": 45,
   "metadata": {},
   "outputs": [
    {
     "name": "stdout",
     "output_type": "stream",
     "text": [
      "1\n",
      "2\n",
      "3\n"
     ]
    }
   ],
   "source": [
    "for each in [i for i in range(1,4)]:\n",
    "    print(each)"
   ]
  },
  {
   "cell_type": "code",
   "execution_count": 46,
   "metadata": {},
   "outputs": [
    {
     "name": "stdout",
     "output_type": "stream",
     "text": [
      "1\n",
      "2\n",
      "3\n"
     ]
    }
   ],
   "source": [
    "for each in (i for i in range(1,4)):\n",
    "    print(each)"
   ]
  },
  {
   "cell_type": "code",
   "execution_count": null,
   "metadata": {},
   "outputs": [],
   "source": []
  },
  {
   "cell_type": "code",
   "execution_count": 4,
   "metadata": {},
   "outputs": [
    {
     "data": {
      "text/plain": [
       "8"
      ]
     },
     "execution_count": 4,
     "metadata": {},
     "output_type": "execute_result"
    }
   ],
   "source": [
    "mytuple = (1,2,(3,4,5,(6.0, 70,(30,80,'B'))),'7',8,9,1,2,3,4,[5,[20,40,90,'String']],(1,2))\n",
    "# fetch '8,9,1,2'\n",
    "mytuple[4]\n"
   ]
  },
  {
   "cell_type": "code",
   "execution_count": null,
   "metadata": {},
   "outputs": [],
   "source": []
  },
  {
   "cell_type": "code",
   "execution_count": null,
   "metadata": {},
   "outputs": [],
   "source": []
  }
 ],
 "metadata": {
  "kernelspec": {
   "display_name": "Python 3",
   "language": "python",
   "name": "python3"
  },
  "language_info": {
   "codemirror_mode": {
    "name": "ipython",
    "version": 3
   },
   "file_extension": ".py",
   "mimetype": "text/x-python",
   "name": "python",
   "nbconvert_exporter": "python",
   "pygments_lexer": "ipython3",
   "version": "3.8.3"
  }
 },
 "nbformat": 4,
 "nbformat_minor": 4
}
