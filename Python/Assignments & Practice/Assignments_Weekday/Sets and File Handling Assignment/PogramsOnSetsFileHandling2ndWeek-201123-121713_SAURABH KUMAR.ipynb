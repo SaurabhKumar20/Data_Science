{
 "cells": [
  {
   "cell_type": "markdown",
   "metadata": {},
   "source": [
    "# Python Programming Examples on Sets & FileHandling:"
   ]
  },
  {
   "cell_type": "markdown",
   "metadata": {},
   "source": [
    "## ✓ Python Program to Count the Number of Vowels Present in a String using Sets:"
   ]
  },
  {
   "cell_type": "code",
   "execution_count": 50,
   "metadata": {},
   "outputs": [
    {
     "name": "stdout",
     "output_type": "stream",
     "text": [
      "Enter string :Hello World\n",
      "Count of the vowels is:\n",
      "3\n"
     ]
    }
   ],
   "source": [
    "s=str(input(\"Enter string :\"))\n",
    "count = 0\n",
    "vowels = set(\"aeiou\")\n",
    "for letter in s:\n",
    "    if letter in vowels:\n",
    "        count += 1\n",
    "print(\"Count of the vowels is:\")\n",
    "print(count)\n"
   ]
  },
  {
   "cell_type": "markdown",
   "metadata": {},
   "source": [
    "## ✓ Python Program to Check Common Letters in Two Input Strings:"
   ]
  },
  {
   "cell_type": "code",
   "execution_count": 55,
   "metadata": {},
   "outputs": [
    {
     "name": "stdout",
     "output_type": "stream",
     "text": [
      "Enter the first string :Machine Learning\n",
      "Enter the second string :Python Language\n",
      "The list of common letters is:  ['a', 'L', 'n', 'g', 'h', 'e']\n"
     ]
    }
   ],
   "source": [
    "my_str1 = str(input(\"Enter the first string :\"))\n",
    "my_str2 = str(input(\"Enter the second string :\"))\n",
    "set1=set(my_str1)\n",
    "set2=set(my_str2)\n",
    "lst=[]\n",
    "for letter in set1:\n",
    "    if letter in set2:\n",
    "        if letter!=' ':\n",
    "            lst.append(letter)\n",
    "print(\"The list of common letters is: \",lst)\n"
   ]
  },
  {
   "cell_type": "code",
   "execution_count": 59,
   "metadata": {},
   "outputs": [
    {
     "name": "stdout",
     "output_type": "stream",
     "text": [
      "Enter first string:Machine Learning\n",
      "Enter second string:Python Language\n",
      "The common letters are:\n",
      "a\n",
      "L\n",
      "n\n",
      "g\n",
      " \n",
      "h\n",
      "e\n"
     ]
    }
   ],
   "source": [
    "# ALTERNATIVE\n",
    "s1= str(input(\"Enter first string:\"))\n",
    "s2=str(input(\"Enter second string:\"))\n",
    "a=list(set(s1)&set(s2))\n",
    "print(\"The common letters are:\")\n",
    "for i in a:\n",
    "    print(i)\n"
   ]
  },
  {
   "cell_type": "markdown",
   "metadata": {},
   "source": [
    "## ✓ Python Program that Displays which Letters are in the First String but not in the Second:"
   ]
  },
  {
   "cell_type": "code",
   "execution_count": 62,
   "metadata": {},
   "outputs": [
    {
     "name": "stdout",
     "output_type": "stream",
     "text": [
      "Enter the first string :Machine\n",
      "Enter the second string :Python\n",
      "a\n",
      "i\n",
      "M\n",
      "c\n",
      "e\n"
     ]
    }
   ],
   "source": [
    "my_str1 = str(input(\"Enter the first string :\"))\n",
    "my_str2 = str(input(\"Enter the second string :\"))\n",
    "set1=set(my_str1)\n",
    "set2=set(my_str2)\n",
    "a=list(set1-set2)\n",
    "for i in a:\n",
    "    print(i)"
   ]
  },
  {
   "cell_type": "markdown",
   "metadata": {},
   "source": [
    "## ✓ Python Program that Displays which Letters are Present in Both the Strings:"
   ]
  },
  {
   "cell_type": "code",
   "execution_count": 61,
   "metadata": {},
   "outputs": [
    {
     "name": "stdout",
     "output_type": "stream",
     "text": [
      "Enter first string:Machine\n",
      "Enter second string:Python\n",
      "The common letters are:\n",
      "a\n",
      "y\n",
      "n\n",
      "i\n",
      "o\n",
      "t\n",
      "M\n",
      "P\n",
      "c\n",
      "h\n",
      "e\n"
     ]
    }
   ],
   "source": [
    "s1= str(input(\"Enter first string:\"))\n",
    "s2=str(input(\"Enter second string:\"))\n",
    "a=list(set(s1)|set(s2))\n",
    "print(\"The common letters are:\")\n",
    "for i in a:\n",
    "    print(i)"
   ]
  },
  {
   "cell_type": "markdown",
   "metadata": {},
   "source": [
    "## ✓ Python Program that Displays which Letters are in the Two Strings but not in Both:"
   ]
  },
  {
   "cell_type": "code",
   "execution_count": 65,
   "metadata": {},
   "outputs": [
    {
     "name": "stdout",
     "output_type": "stream",
     "text": [
      "Enter first string:Machine Learning\n",
      "Enter second string:Python\n",
      "The common letters are:\n",
      "a\n",
      "L\n",
      "r\n",
      "y\n",
      " \n",
      "i\n",
      "o\n",
      "t\n",
      "M\n",
      "g\n",
      "P\n",
      "c\n",
      "e\n"
     ]
    }
   ],
   "source": [
    "s1= str(input(\"Enter first string:\"))\n",
    "s2=str(input(\"Enter second string:\"))\n",
    "a=list((set(s1)|set(s2))-(set(s1)&set(s2)))\n",
    "print(\"The common letters are:\")\n",
    "for i in a:\n",
    "    print(i)"
   ]
  },
  {
   "cell_type": "markdown",
   "metadata": {},
   "source": [
    "# File Handling:"
   ]
  },
  {
   "cell_type": "markdown",
   "metadata": {},
   "source": [
    "## ✓ Python Program to Read the Contents of a File:"
   ]
  },
  {
   "cell_type": "code",
   "execution_count": 14,
   "metadata": {},
   "outputs": [],
   "source": [
    "file=open(file=\"Text.txt\", mode='w')\n",
    "file.write(\"File Handling is an interesting topic\")\n",
    "file.write(\"\\n\")\n",
    "file.write(\" Exception handling is even better\")\n",
    "\n",
    "file.close()\n",
    "# New file by the name \"text.txt\" created in the same directory"
   ]
  },
  {
   "cell_type": "code",
   "execution_count": 19,
   "metadata": {},
   "outputs": [
    {
     "data": {
      "text/plain": [
       "'File Handling is an interesting topic\\n Exception handling is even better'"
      ]
     },
     "execution_count": 19,
     "metadata": {},
     "output_type": "execute_result"
    }
   ],
   "source": [
    "file=open(file=\"Text.txt\", mode='r')\n",
    "file.read()"
   ]
  },
  {
   "cell_type": "markdown",
   "metadata": {},
   "source": [
    "## ✓ Python Program to Count the Number of Words in a Text File:"
   ]
  },
  {
   "cell_type": "code",
   "execution_count": 18,
   "metadata": {},
   "outputs": [
    {
     "name": "stdout",
     "output_type": "stream",
     "text": [
      "File Handling is an interesting topic\n",
      " Exception handling is even better\n",
      "11\n"
     ]
    }
   ],
   "source": [
    "file=open(file=\"Text.txt\", mode='r')\n",
    "my_str=file.read()\n",
    "print(my_str)\n",
    "\n",
    "print(len(my_str.split()))"
   ]
  },
  {
   "cell_type": "markdown",
   "metadata": {},
   "source": [
    "## ✓ Python Program to Read a String from the User and Append it into a File:"
   ]
  },
  {
   "cell_type": "code",
   "execution_count": 22,
   "metadata": {},
   "outputs": [
    {
     "name": "stdout",
     "output_type": "stream",
     "text": [
      "Enter a string: Machine Learning is the future.\n"
     ]
    }
   ],
   "source": [
    "my_str1=str(input(\"Enter a string: \"))\n",
    "file=open(file=\"text.txt\", mode='a')\n",
    "file.write(\"\\n\")\n",
    "file.write(my_str1)\n",
    "file.close()"
   ]
  },
  {
   "cell_type": "markdown",
   "metadata": {},
   "source": [
    "## ✓ Python Program to Copy the Contents of One File into Another:"
   ]
  },
  {
   "cell_type": "code",
   "execution_count": 28,
   "metadata": {},
   "outputs": [],
   "source": [
    "file=open(file=\"Text2.txt\", mode='w')\n",
    "file.write(\"Hello World\")\n",
    "file.write(\"\\n\")\n",
    "\n",
    "file.close()\n",
    "# New file by the name \"text2.txt\" created in the same directory"
   ]
  },
  {
   "cell_type": "code",
   "execution_count": 24,
   "metadata": {},
   "outputs": [],
   "source": [
    "file=open(file=\"Text.txt\", mode='r')\n",
    "my_str=file.read(-1)\n",
    "file.close()\n",
    "\n",
    "file1=open(file=\"Text2.txt\", mode='w')\n",
    "file1.write(my_str)\n",
    "file1.close()\n"
   ]
  },
  {
   "cell_type": "markdown",
   "metadata": {},
   "source": [
    "## ✓ Python Program that Reads a Text File and Counts the Number of Times a Certain Letter Appears in the Text File:"
   ]
  },
  {
   "cell_type": "code",
   "execution_count": 27,
   "metadata": {},
   "outputs": [
    {
     "name": "stdout",
     "output_type": "stream",
     "text": [
      "Enter a character you wish to count in the text.txt file: c\n"
     ]
    },
    {
     "data": {
      "text/plain": [
       "3"
      ]
     },
     "execution_count": 27,
     "metadata": {},
     "output_type": "execute_result"
    }
   ],
   "source": [
    "file=open(file=\"Text.txt\", mode='r')\n",
    "my_str=file.read(-1)\n",
    "\n",
    "str1=str(input(\"Enter a character you wish to count in the text.txt file: \"))\n",
    "my_str.count(str1)"
   ]
  },
  {
   "cell_type": "markdown",
   "metadata": {},
   "source": [
    "## ✓ Python Program to Append the Contents of One File to Another File:"
   ]
  },
  {
   "cell_type": "code",
   "execution_count": 29,
   "metadata": {},
   "outputs": [],
   "source": [
    "with open(\"text.txt\",'r') as file:\n",
    "    my_str=file.read(-1)\n",
    "    \n",
    "with open(\"text2.txt\",'a') as file2:\n",
    "    file2.write(my_str)    "
   ]
  },
  {
   "cell_type": "markdown",
   "metadata": {},
   "source": [
    "## ✓ Python Program to Count the Number of Blank Spaces in a Text File:"
   ]
  },
  {
   "cell_type": "code",
   "execution_count": 43,
   "metadata": {},
   "outputs": [
    {
     "data": {
      "text/plain": [
       "14"
      ]
     },
     "execution_count": 43,
     "metadata": {},
     "output_type": "execute_result"
    }
   ],
   "source": [
    "with open(\"text.txt\",'r') as file:\n",
    "    my_str=file.read(-1)\n",
    "\n",
    "my_str.count(' ')"
   ]
  },
  {
   "cell_type": "markdown",
   "metadata": {},
   "source": [
    "## ✓ Python Program to Read the Contents of a File in Reverse Order:"
   ]
  },
  {
   "cell_type": "code",
   "execution_count": 33,
   "metadata": {},
   "outputs": [
    {
     "name": "stdout",
     "output_type": "stream",
     "text": [
      ".erutuf eht si gninraeL enihcaM\n",
      "retteb neve si gnildnah noitpecxE \n",
      "cipot gnitseretni na si gnildnaH eliF\n",
      "File Handling is an interesting topic\n",
      " Exception handling is even better\n",
      "Machine Learning is the future.\n"
     ]
    }
   ],
   "source": [
    "with open(\"text.txt\",'r') as file:\n",
    "    my_str=file.read(-1)\n",
    "\n",
    "print(my_str[::-1])\n",
    "print(my_str)"
   ]
  },
  {
   "cell_type": "code",
   "execution_count": 44,
   "metadata": {},
   "outputs": [
    {
     "name": "stdout",
     "output_type": "stream",
     "text": [
      ".erutuf eht si gninraeL enihcaM\n",
      "retteb neve si gnildnah noitpecxE \n",
      "cipot gnitseretni na si gnildnaH eliF\n"
     ]
    }
   ],
   "source": [
    "# ALternative to above method\n",
    "string=''\n",
    "\n",
    "l=len(my_str)\n",
    "\n",
    "while l!=0:\n",
    "    string=string+my_str[l-1]\n",
    "    l-=1\n",
    "\n",
    "print(string)"
   ]
  },
  {
   "cell_type": "code",
   "execution_count": 5,
   "metadata": {},
   "outputs": [
    {
     "name": "stdout",
     "output_type": "stream",
     "text": [
      "0\n",
      "Hello\n",
      "world\n",
      "12\n"
     ]
    }
   ],
   "source": [
    "file=open(file=\"Text23.txt\", mode='r')\n",
    "print(file.tell())\n",
    "print(file.read(-1))\n",
    "print(file.tell())\n",
    "\n",
    "\n",
    "\n",
    "file.close()"
   ]
  }
 ],
 "metadata": {
  "kernelspec": {
   "display_name": "Python 3",
   "language": "python",
   "name": "python3"
  },
  "language_info": {
   "codemirror_mode": {
    "name": "ipython",
    "version": 3
   },
   "file_extension": ".py",
   "mimetype": "text/x-python",
   "name": "python",
   "nbconvert_exporter": "python",
   "pygments_lexer": "ipython3",
   "version": "3.8.3"
  }
 },
 "nbformat": 4,
 "nbformat_minor": 4
}
