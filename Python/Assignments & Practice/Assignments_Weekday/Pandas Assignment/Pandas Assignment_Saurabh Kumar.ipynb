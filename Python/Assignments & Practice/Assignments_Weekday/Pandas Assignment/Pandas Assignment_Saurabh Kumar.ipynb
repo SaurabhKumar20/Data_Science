{
 "cells": [
  {
   "cell_type": "markdown",
   "metadata": {},
   "source": [
    "# Python Pandas (Data Series & Frames):"
   ]
  },
  {
   "cell_type": "markdown",
   "metadata": {},
   "source": [
    "## Write a Python program to create and display a one-dimensional array-like object containing an array of data using Pandas module."
   ]
  },
  {
   "cell_type": "code",
   "execution_count": 7,
   "metadata": {
    "ExecuteTime": {
     "end_time": "2020-12-26T12:24:23.161567Z",
     "start_time": "2020-12-26T12:24:23.148606Z"
    }
   },
   "outputs": [
    {
     "name": "stdout",
     "output_type": "stream",
     "text": [
      "0    1\n",
      "1    2\n",
      "2    3\n",
      "3    4\n",
      "4    5\n",
      "5    6\n",
      "6    7\n",
      "7    8\n",
      "8    9\n",
      "dtype: int32\n"
     ]
    }
   ],
   "source": [
    "# !pip install pandas\n",
    "# import pandas as pd\n",
    "# import numpy as np\n",
    "\n",
    "p=pd.Series(data=np.array(range(1,10)))\n",
    "print(p)"
   ]
  },
  {
   "cell_type": "markdown",
   "metadata": {},
   "source": [
    "## Write a Python program to convert a Panda module Series to Python list and its type."
   ]
  },
  {
   "cell_type": "code",
   "execution_count": 13,
   "metadata": {
    "ExecuteTime": {
     "end_time": "2020-12-26T12:27:13.119449Z",
     "start_time": "2020-12-26T12:27:13.110474Z"
    }
   },
   "outputs": [
    {
     "name": "stdout",
     "output_type": "stream",
     "text": [
      "[1, 2, 3, 4, 5, 6, 7, 8, 9] <class 'list'>\n"
     ]
    }
   ],
   "source": [
    "p=pd.Series(data=np.array(range(1,10)))\n",
    "s=list(p)\n",
    "print(s, type(s))"
   ]
  },
  {
   "cell_type": "markdown",
   "metadata": {
    "ExecuteTime": {
     "end_time": "2020-12-26T12:27:27.640356Z",
     "start_time": "2020-12-26T12:27:27.633346Z"
    }
   },
   "source": [
    "## Write a Python program to add, subtract, multiply and divide two Pandas Series."
   ]
  },
  {
   "cell_type": "code",
   "execution_count": 23,
   "metadata": {
    "ExecuteTime": {
     "end_time": "2020-12-26T12:33:55.998308Z",
     "start_time": "2020-12-26T12:33:55.975369Z"
    }
   },
   "outputs": [
    {
     "name": "stdout",
     "output_type": "stream",
     "text": [
      "Addition of two series \n",
      "0    1\n",
      "1    2\n",
      "2    3\n",
      "3    4\n",
      "4    5\n",
      "5    6\n",
      "6    7\n",
      "7    8\n",
      "8    9\n",
      "dtype: int32\n",
      " and \n",
      "0    11\n",
      "1    12\n",
      "2    13\n",
      "3    14\n",
      "4    15\n",
      "5    16\n",
      "6    17\n",
      "7    18\n",
      "8    19\n",
      "dtype: int32\n",
      " is \n",
      "0    12\n",
      "1    14\n",
      "2    16\n",
      "3    18\n",
      "4    20\n",
      "5    22\n",
      "6    24\n",
      "7    26\n",
      "8    28\n",
      "dtype: int32\n",
      "\n",
      "Subtraction of two series \n",
      "0    1\n",
      "1    2\n",
      "2    3\n",
      "3    4\n",
      "4    5\n",
      "5    6\n",
      "6    7\n",
      "7    8\n",
      "8    9\n",
      "dtype: int32\n",
      " and \n",
      "0    11\n",
      "1    12\n",
      "2    13\n",
      "3    14\n",
      "4    15\n",
      "5    16\n",
      "6    17\n",
      "7    18\n",
      "8    19\n",
      "dtype: int32\n",
      " is \n",
      "0   -10\n",
      "1   -10\n",
      "2   -10\n",
      "3   -10\n",
      "4   -10\n",
      "5   -10\n",
      "6   -10\n",
      "7   -10\n",
      "8   -10\n",
      "dtype: int32\n",
      "\n",
      "Multiplication of two series \n",
      "0    1\n",
      "1    2\n",
      "2    3\n",
      "3    4\n",
      "4    5\n",
      "5    6\n",
      "6    7\n",
      "7    8\n",
      "8    9\n",
      "dtype: int32\n",
      " and \n",
      "0    11\n",
      "1    12\n",
      "2    13\n",
      "3    14\n",
      "4    15\n",
      "5    16\n",
      "6    17\n",
      "7    18\n",
      "8    19\n",
      "dtype: int32\n",
      " is \n",
      "0     11\n",
      "1     24\n",
      "2     39\n",
      "3     56\n",
      "4     75\n",
      "5     96\n",
      "6    119\n",
      "7    144\n",
      "8    171\n",
      "dtype: int32\n",
      "\n",
      "Division of two series \n",
      "0    1\n",
      "1    2\n",
      "2    3\n",
      "3    4\n",
      "4    5\n",
      "5    6\n",
      "6    7\n",
      "7    8\n",
      "8    9\n",
      "dtype: int32\n",
      " and \n",
      "0    11\n",
      "1    12\n",
      "2    13\n",
      "3    14\n",
      "4    15\n",
      "5    16\n",
      "6    17\n",
      "7    18\n",
      "8    19\n",
      "dtype: int32\n",
      " is \n",
      "0    0.090909\n",
      "1    0.166667\n",
      "2    0.230769\n",
      "3    0.285714\n",
      "4    0.333333\n",
      "5    0.375000\n",
      "6    0.411765\n",
      "7    0.444444\n",
      "8    0.473684\n",
      "dtype: float64\n"
     ]
    }
   ],
   "source": [
    "p=pd.Series(data=np.array(range(1,10)))\n",
    "q=pd.Series(data=np.array(range(11,20)))\n",
    "\n",
    "print(f'Addition of two series \\n{p}\\n and \\n{q}\\n is \\n{p+q}')\n",
    "print()\n",
    "print(f'Subtraction of two series \\n{p}\\n and \\n{q}\\n is \\n{p-q}')\n",
    "print()\n",
    "print(f'Multiplication of two series \\n{p}\\n and \\n{q}\\n is \\n{p*q}')\n",
    "print()\n",
    "print(f'Division of two series \\n{p}\\n and \\n{q}\\n is \\n{p/q}')"
   ]
  },
  {
   "cell_type": "markdown",
   "metadata": {},
   "source": [
    "## Write a Python program to compare the elements of the two Pandas Series."
   ]
  },
  {
   "cell_type": "code",
   "execution_count": 29,
   "metadata": {
    "ExecuteTime": {
     "end_time": "2020-12-26T12:36:07.371866Z",
     "start_time": "2020-12-26T12:36:07.361859Z"
    }
   },
   "outputs": [
    {
     "name": "stdout",
     "output_type": "stream",
     "text": [
      "0    False\n",
      "1    False\n",
      "2    False\n",
      "3    False\n",
      "4    False\n",
      "5    False\n",
      "6    False\n",
      "7    False\n",
      "8    False\n",
      "dtype: bool\n"
     ]
    }
   ],
   "source": [
    "p=pd.Series(data=np.array(range(1,10)))\n",
    "q=pd.Series(data=np.array(range(11,20)))\n",
    "print(p>q)"
   ]
  },
  {
   "cell_type": "markdown",
   "metadata": {
    "ExecuteTime": {
     "end_time": "2020-12-26T12:36:53.616018Z",
     "start_time": "2020-12-26T12:36:53.612028Z"
    }
   },
   "source": [
    "# DATAFRAMES"
   ]
  },
  {
   "cell_type": "markdown",
   "metadata": {},
   "source": [
    "## Write a Python program to display the following data columnwise."
   ]
  },
  {
   "cell_type": "code",
   "execution_count": null,
   "metadata": {},
   "outputs": [],
   "source": []
  },
  {
   "cell_type": "markdown",
   "metadata": {},
   "source": [
    "## Write a Python program to create and display a Data Frame from a specified dictionary data which has the index labels."
   ]
  },
  {
   "cell_type": "code",
   "execution_count": 36,
   "metadata": {
    "ExecuteTime": {
     "end_time": "2020-12-26T13:31:11.050165Z",
     "start_time": "2020-12-26T13:31:11.039188Z"
    }
   },
   "outputs": [
    {
     "name": "stdout",
     "output_type": "stream",
     "text": [
      "   a  b  c  d\n",
      "A  1  4  3  7\n",
      "B  2  5  2  8\n",
      "C  3  6  5  9\n"
     ]
    }
   ],
   "source": [
    "p=pd.DataFrame(data={'a':[1,2,3],'b':[4,5,6], 'c':[3,2,5], 'd':[7,8,9]}, index=list(\"ABC\"))\n",
    "print(p)"
   ]
  },
  {
   "cell_type": "markdown",
   "metadata": {
    "ExecuteTime": {
     "end_time": "2020-12-26T13:31:41.869108Z",
     "start_time": "2020-12-26T13:31:41.865116Z"
    }
   },
   "source": [
    "## Write a Python program to select the specified columns and rows from a given Data Frame."
   ]
  },
  {
   "cell_type": "code",
   "execution_count": 51,
   "metadata": {
    "ExecuteTime": {
     "end_time": "2020-12-26T13:45:38.849336Z",
     "start_time": "2020-12-26T13:45:38.833379Z"
    }
   },
   "outputs": [
    {
     "name": "stdout",
     "output_type": "stream",
     "text": [
      "Dataframe is: \n",
      "   a  b  c  d\n",
      "A  1  4  3  7\n",
      "B  2  5  2  8\n",
      "C  3  6  5  9\n",
      "Selecting elements of 2nd, 3rd rows; and 3rd & 4th columns: \n",
      "\n",
      "   c  d\n",
      "B  2  8\n",
      "C  5  9\n"
     ]
    }
   ],
   "source": [
    "p=pd.DataFrame(data={'a':[1,2,3],'b':[4,5,6], 'c':[3,2,5], 'd':[7,8,9]}, index=list(\"ABC\"))\n",
    "print(f'Dataframe is: \\n{p}')\n",
    "print(f'Selecting elements of 2nd, 3rd rows; and 3rd & 4th columns: \\n')\n",
    "print(p.loc['B':'C','c':'d'])"
   ]
  },
  {
   "cell_type": "markdown",
   "metadata": {},
   "source": [
    "## Write a Python program to select the rows the score is between 15 and 20 (inclusive)."
   ]
  },
  {
   "cell_type": "code",
   "execution_count": 92,
   "metadata": {
    "ExecuteTime": {
     "end_time": "2020-12-26T14:53:10.451227Z",
     "start_time": "2020-12-26T14:53:10.426298Z"
    }
   },
   "outputs": [
    {
     "name": "stdout",
     "output_type": "stream",
     "text": [
      "The given DataFrame is\n",
      "        name  score  attempts qualify\n",
      "a  Anastasia   12.5         1     yes\n",
      "b       Dima    9.0         3      no\n",
      "c  Katherine   16.5         2     yes\n",
      "d      James    NaN         3      no\n",
      "e      Emily    9.0         2      no\n",
      "f    Michael   20.0         3     yes\n",
      "g    Matthew   14.5         1     yes\n",
      "h      Laura    NaN         1      no\n",
      "i      Kevin    8.0         2      no\n",
      "j      Jonas   19.0         1     yes\n",
      "Rows where score between 15 and 20 (inclusive):\n",
      "        name  score  attempts qualify\n",
      "c  Katherine   16.5         2     yes\n",
      "f    Michael   20.0         3     yes\n",
      "j      Jonas   19.0         1     yes\n"
     ]
    }
   ],
   "source": [
    "import pandas as pd\n",
    "import numpy as np\n",
    "exam_data = {'name': ['Anastasia', 'Dima', 'Katherine', 'James',\n",
    "'Emily', 'Michael', 'Matthew', 'Laura', 'Kevin', 'Jonas'],\n",
    " 'score': [12.5, 9, 16.5, np.nan, 9, 20, 14.5, np.nan, 8, 19],\n",
    " 'attempts': [1, 3, 2, 3, 2, 3, 1, 1, 2, 1],\n",
    " 'qualify': ['yes', 'no', 'yes', 'no', 'no', 'yes', 'yes', 'no', 'no',\n",
    "'yes']}\n",
    "labels = ['a', 'b', 'c', 'd', 'e', 'f', 'g', 'h', 'i', 'j']\n",
    "\n",
    "df = pd.DataFrame(exam_data , index=labels)\n",
    "print(f'The given DataFrame is\\n{df}')\n",
    "print(\"Rows where score between 15 and 20 (inclusive):\")\n",
    "print(df[df['score'].between(15, 20)])\n",
    "\n",
    "# Following code also works here:\n",
    "# print(df[(df['score'] >= 15) & (df['score']<=20)])\n"
   ]
  },
  {
   "cell_type": "markdown",
   "metadata": {
    "ExecuteTime": {
     "end_time": "2020-12-26T14:28:01.243327Z",
     "start_time": "2020-12-26T14:28:01.229367Z"
    }
   },
   "source": [
    "## Write a Python program to select the rows where number of attempts in the examination is less than 2 and score greater than 15."
   ]
  },
  {
   "cell_type": "code",
   "execution_count": 86,
   "metadata": {
    "ExecuteTime": {
     "end_time": "2020-12-26T14:38:00.779180Z",
     "start_time": "2020-12-26T14:38:00.756242Z"
    }
   },
   "outputs": [
    {
     "name": "stdout",
     "output_type": "stream",
     "text": [
      "The given DataFrame is\n",
      "        name  score  attempts qualify\n",
      "a  Anastasia   12.5         1     yes\n",
      "b       Dima    9.0         3      no\n",
      "c  Katherine   16.5         2     yes\n",
      "d      James    NaN         3      no\n",
      "e      Emily    9.0         2      no\n",
      "f    Michael   20.0         3     yes\n",
      "g    Matthew   14.5         1     yes\n",
      "h      Laura    NaN         1      no\n",
      "i      Kevin    8.0         2      no\n",
      "j      Jonas   19.0         1     yes\n",
      "Rows where number of attempts in the examination is less than 2 and score greater than 15:\n",
      "        name  score  attempts qualify\n",
      "c  Katherine   16.5         2     yes\n",
      "j      Jonas   19.0         1     yes\n"
     ]
    }
   ],
   "source": [
    "import pandas as pd\n",
    "import numpy as np\n",
    "exam_data = {'name': ['Anastasia', 'Dima', 'Katherine', 'James',\n",
    "'Emily', 'Michael', 'Matthew', 'Laura', 'Kevin', 'Jonas'],\n",
    " 'score': [12.5, 9, 16.5, np.nan, 9, 20, 14.5, np.nan, 8, 19],\n",
    " 'attempts': [1, 3, 2, 3, 2, 3, 1, 1, 2, 1],\n",
    " 'qualify': ['yes', 'no', 'yes', 'no', 'no', 'yes', 'yes', 'no', 'no',\n",
    "'yes']}\n",
    "labels = ['a', 'b', 'c', 'd', 'e', 'f', 'g', 'h', 'i', 'j']\n",
    "\n",
    "\n",
    "df = pd.DataFrame(exam_data , index=labels)\n",
    "print(f'The given DataFrame is\\n{df}')\n",
    "print(\"Rows where number of attempts in the examination is less than 2 and score greater than 15:\")\n",
    "print(df[(df['attempts'] < 3) & (df['score'] > 15)])\n"
   ]
  },
  {
   "cell_type": "markdown",
   "metadata": {},
   "source": [
    "## Write a Python program to append a new row 'k' to Data Frame with given values for each column. Now delete the new row and return the original data frame."
   ]
  },
  {
   "cell_type": "code",
   "execution_count": 101,
   "metadata": {
    "ExecuteTime": {
     "end_time": "2020-12-26T15:34:38.872923Z",
     "start_time": "2020-12-26T15:34:38.860923Z"
    }
   },
   "outputs": [
    {
     "ename": "SyntaxError",
     "evalue": "invalid syntax (<ipython-input-101-08f4ac344a7a>, line 13)",
     "output_type": "error",
     "traceback": [
      "\u001b[1;36m  File \u001b[1;32m\"<ipython-input-101-08f4ac344a7a>\"\u001b[1;36m, line \u001b[1;32m13\u001b[0m\n\u001b[1;33m    l=pd.DataFrame(['name':'k','score':'ABC', 'attempts': 17, 'qualify': 3, 'labels':'yes'],index='k')\u001b[0m\n\u001b[1;37m                          ^\u001b[0m\n\u001b[1;31mSyntaxError\u001b[0m\u001b[1;31m:\u001b[0m invalid syntax\n"
     ]
    }
   ],
   "source": [
    "import pandas as pd\n",
    "import numpy as np\n",
    "exam_data = {'name': ['Anastasia', 'Dima', 'Katherine', 'James',\n",
    "'Emily', 'Michael', 'Matthew', 'Laura', 'Kevin', 'Jonas'],\n",
    " 'score': [12.5, 9, 16.5, np.nan, 9, 20, 14.5, np.nan, 8, 19],\n",
    " 'attempts': [1, 3, 2, 3, 2, 3, 1, 1, 2, 1],\n",
    " 'qualify': ['yes', 'no', 'yes', 'no', 'no', 'yes', 'yes', 'no', 'no',\n",
    "'yes']}\n",
    "labels = ['a', 'b', 'c', 'd', 'e', 'f', 'g', 'h', 'i', 'j']\n",
    "df = pd.DataFrame(exam_data , index=labels)\n",
    "print(f'The given DataFrame is\\n{df}')\n",
    "\n",
    "l=pd.DataFrame(['name':'k','score':'ABC', 'attempts': 17, 'qualify': 3, 'labels':'yes'],index='k')\n",
    "df.append(l)\n"
   ]
  },
  {
   "cell_type": "code",
   "execution_count": null,
   "metadata": {},
   "outputs": [],
   "source": []
  },
  {
   "cell_type": "code",
   "execution_count": null,
   "metadata": {},
   "outputs": [],
   "source": []
  },
  {
   "cell_type": "code",
   "execution_count": null,
   "metadata": {},
   "outputs": [],
   "source": []
  },
  {
   "cell_type": "markdown",
   "metadata": {},
   "source": [
    "## Write a Python program to sort the data frame first by 'name' in descending order, then by 'score' in ascending order."
   ]
  },
  {
   "cell_type": "code",
   "execution_count": 107,
   "metadata": {
    "ExecuteTime": {
     "end_time": "2020-12-26T15:52:13.465352Z",
     "start_time": "2020-12-26T15:52:13.118465Z"
    }
   },
   "outputs": [
    {
     "name": "stdout",
     "output_type": "stream",
     "text": [
      "Orginal rows:\n",
      "        name  score  attempts qualify\n",
      "a  Anastasia   12.5         1     yes\n",
      "b       Dima    9.0         3      no\n",
      "c  Katherine   16.5         2     yes\n",
      "d      James    NaN         3      no\n",
      "e      Emily    9.0         2      no\n",
      "f    Michael   20.0         3     yes\n",
      "g    Matthew   14.5         1     yes\n",
      "h      Laura    NaN         1      no\n",
      "i      Kevin    8.0         2      no\n",
      "j      Jonas   19.0         1     yes\n",
      "Sort the data frame first by ‘name’ in descending order, then by ‘score’ in ascending order:\n",
      "        name  score  attempts qualify\n",
      "a  Anastasia   12.5         1     yes\n",
      "b       Dima    9.0         3      no\n",
      "c  Katherine   16.5         2     yes\n",
      "d      James    NaN         3      no\n",
      "e      Emily    9.0         2      no\n",
      "f    Michael   20.0         3     yes\n",
      "g    Matthew   14.5         1     yes\n",
      "h      Laura    NaN         1      no\n",
      "i      Kevin    8.0         2      no\n",
      "j      Jonas   19.0         1     yes\n"
     ]
    }
   ],
   "source": [
    "# import pandas as pd\n",
    "# import numpy as np\n",
    "exam_data = {'name': ['Anastasia', 'Dima', 'Katherine', 'James',\n",
    "'Emily', 'Michael', 'Matthew', 'Laura', 'Kevin', 'Jonas'],\n",
    " 'score': [12.5, 9, 16.5, np.nan, 9, 20, 14.5, np.nan, 8, 19],\n",
    " 'attempts': [1, 3, 2, 3, 2, 3, 1, 1, 2, 1],\n",
    " 'qualify': ['yes', 'no', 'yes', 'no', 'no', 'yes', 'yes', 'no', 'no',\n",
    "'yes']}\n",
    "labels = ['a', 'b', 'c', 'd', 'e', 'f', 'g', 'h', 'i', 'j']\n",
    "df = pd.DataFrame(exam_data , index=labels)\n",
    "print(\"Orginal rows:\")\n",
    "print(df)\n",
    "df.sort_values(by=['name', 'score'], ascending=[False, True])\n",
    "print(\"Sort the data frame first by ‘name’ in descending order, then by ‘score’ in ascending order:\")\n",
    "print(df)"
   ]
  },
  {
   "cell_type": "markdown",
   "metadata": {},
   "source": [
    "## Write a Python program to insert a new column in existing Data Frame."
   ]
  },
  {
   "cell_type": "code",
   "execution_count": 105,
   "metadata": {
    "ExecuteTime": {
     "end_time": "2020-12-26T15:47:17.411307Z",
     "start_time": "2020-12-26T15:47:17.213597Z"
    }
   },
   "outputs": [
    {
     "name": "stdout",
     "output_type": "stream",
     "text": [
      "Orginal rows:\n",
      "        name  score  attempts qualify\n",
      "a  Anastasia   12.5         1     yes\n",
      "b       Dima    9.0         3      no\n",
      "c  Katherine   16.5         2     yes\n",
      "d      James    NaN         3      no\n",
      "e      Emily    9.0         2      no\n",
      "f    Michael   20.0         3     yes\n",
      "g    Matthew   14.5         1     yes\n",
      "h      Laura    NaN         1      no\n",
      "i      Kevin    8.0         2      no\n",
      "j      Jonas   19.0         1     yes\n",
      "\n",
      "New DataFrame after inserting the 'color' column\n",
      "        name  score  attempts qualify   color\n",
      "a  Anastasia   12.5         1     yes     Red\n",
      "b       Dima    9.0         3      no    Blue\n",
      "c  Katherine   16.5         2     yes  Orange\n",
      "d      James    NaN         3      no     Red\n",
      "e      Emily    9.0         2      no   White\n",
      "f    Michael   20.0         3     yes   White\n",
      "g    Matthew   14.5         1     yes    Blue\n",
      "h      Laura    NaN         1      no   Green\n",
      "i      Kevin    8.0         2      no   Green\n",
      "j      Jonas   19.0         1     yes     Red\n"
     ]
    }
   ],
   "source": [
    "import pandas as pd\n",
    "import numpy as np\n",
    "exam_data = {'name': ['Anastasia', 'Dima', 'Katherine', 'James',\n",
    "'Emily', 'Michael', 'Matthew', 'Laura', 'Kevin', 'Jonas'],\n",
    " 'score': [12.5, 9, 16.5, np.nan, 9, 20, 14.5, np.nan, 8, 19],\n",
    " 'attempts': [1, 3, 2, 3, 2, 3, 1, 1, 2, 1],\n",
    " 'qualify': ['yes', 'no', 'yes', 'no', 'no', 'yes', 'yes', 'no', 'no',\n",
    "'yes']}\n",
    "labels = ['a', 'b', 'c', 'd', 'e', 'f', 'g', 'h', 'i', 'j']\n",
    "df = pd.DataFrame(exam_data , index=labels)\n",
    "print(\"Orginal rows:\")\n",
    "print(df)\n",
    "color =['Red','Blue','Orange','Red','White','White','Blue','Green','Green','Red']\n",
    "df['color'] = color\n",
    "print(\"\\nNew DataFrame after inserting the 'color' column\")\n",
    "print(df)"
   ]
  },
  {
   "cell_type": "markdown",
   "metadata": {},
   "source": [
    "## Write a Python program to change the name 'James' to 'Suresh' in name column of the data frame."
   ]
  },
  {
   "cell_type": "code",
   "execution_count": 103,
   "metadata": {
    "ExecuteTime": {
     "end_time": "2020-12-26T15:37:26.827042Z",
     "start_time": "2020-12-26T15:37:26.212436Z"
    }
   },
   "outputs": [
    {
     "name": "stdout",
     "output_type": "stream",
     "text": [
      "The given DataFrame is\n",
      "        name  score  attempts qualify\n",
      "a  Anastasia   12.5         1     yes\n",
      "b       Dima    9.0         3      no\n",
      "c  Katherine   16.5         2     yes\n",
      "d      James    NaN         3      no\n",
      "e      Emily    9.0         2      no\n",
      "f    Michael   20.0         3     yes\n",
      "g    Matthew   14.5         1     yes\n",
      "h      Laura    NaN         1      no\n",
      "i      Kevin    8.0         2      no\n",
      "j      Jonas   19.0         1     yes\n",
      "Orginal rows:\n",
      "        name  score  attempts qualify\n",
      "a  Anastasia   12.5         1     yes\n",
      "b       Dima    9.0         3      no\n",
      "c  Katherine   16.5         2     yes\n",
      "d      James    NaN         3      no\n",
      "e      Emily    9.0         2      no\n",
      "f    Michael   20.0         3     yes\n",
      "g    Matthew   14.5         1     yes\n",
      "h      Laura    NaN         1      no\n",
      "i      Kevin    8.0         2      no\n",
      "j      Jonas   19.0         1     yes\n",
      "\n",
      "Change the name 'James' to ‘Suresh’:\n",
      "        name  score  attempts qualify\n",
      "a  Anastasia   12.5         1     yes\n",
      "b       Dima    9.0         3      no\n",
      "c  Katherine   16.5         2     yes\n",
      "d     Suresh    NaN         3      no\n",
      "e      Emily    9.0         2      no\n",
      "f    Michael   20.0         3     yes\n",
      "g    Matthew   14.5         1     yes\n",
      "h      Laura    NaN         1      no\n",
      "i      Kevin    8.0         2      no\n",
      "j      Jonas   19.0         1     yes\n"
     ]
    }
   ],
   "source": [
    "import pandas as pd\n",
    "import numpy as np\n",
    "exam_data = {'name': ['Anastasia', 'Dima', 'Katherine', 'James',\n",
    "'Emily', 'Michael', 'Matthew', 'Laura', 'Kevin', 'Jonas'],\n",
    " 'score': [12.5, 9, 16.5, np.nan, 9, 20, 14.5, np.nan, 8, 19],\n",
    " 'attempts': [1, 3, 2, 3, 2, 3, 1, 1, 2, 1],\n",
    " 'qualify': ['yes', 'no', 'yes', 'no', 'no', 'yes', 'yes', 'no', 'no',\n",
    "'yes']}\n",
    "labels = ['a', 'b', 'c', 'd', 'e', 'f', 'g', 'h', 'i', 'j']\n",
    "\n",
    "df = pd.DataFrame(exam_data , index=labels)\n",
    "\n",
    "print(\"Orginal rows:\")\n",
    "print(df)\n",
    "print(\"\\nChange the name 'James' to ‘Suresh’:\")\n",
    "df['name'] = df['name'].replace('James', 'Suresh')\n",
    "print(df)"
   ]
  }
 ],
 "metadata": {
  "kernelspec": {
   "display_name": "Python 3",
   "language": "python",
   "name": "python3"
  },
  "language_info": {
   "codemirror_mode": {
    "name": "ipython",
    "version": 3
   },
   "file_extension": ".py",
   "mimetype": "text/x-python",
   "name": "python",
   "nbconvert_exporter": "python",
   "pygments_lexer": "ipython3",
   "version": "3.8.3"
  }
 },
 "nbformat": 4,
 "nbformat_minor": 4
}
