{
 "cells": [
  {
   "cell_type": "markdown",
   "metadata": {},
   "source": [
    "# File I/O"
   ]
  },
  {
   "cell_type": "code",
   "execution_count": 1,
   "metadata": {},
   "outputs": [],
   "source": [
    "# read mode = 'r'\n",
    "# write = 'w'\n",
    "# appending = 'a'\n",
    "\n",
    "# file = open(\"C:/Users/Dell/Desktop/text.txt\", 'w') # if file not existing, create else open\n",
    "file = open(\"text.txt\", 'a') # if file not existing, create else open\n",
    "##writing to the text.txt\n",
    "file.write(\"This is 1st line.\\n\")\n",
    "file.write(\"This is 2nd line.\\n\")\n",
    "file.write(\"This is 3rd line.\")\n",
    "file.close() # close the file"
   ]
  },
  {
   "cell_type": "code",
   "execution_count": 2,
   "metadata": {},
   "outputs": [],
   "source": [
    "file = open(\"text.txt\", 'a') # if file not existing, create else open\n",
    "##writing to the text.txt\n",
    "file.write(\"\\nThis is 1st line.\\n This is 2nd line.\\n This is 3rd line.\")\n",
    "file.close() # close the file"
   ]
  },
  {
   "cell_type": "code",
   "execution_count": 3,
   "metadata": {},
   "outputs": [],
   "source": [
    "file = open(\"text.txt\", 'a') # if file not existing, create else open\n",
    "##writing to the text.txt\n",
    "file.writelines([\"\\nThis is 1st line.\",\"\\nThis is 2nd line.\", \"\\nThis is 3rd line.\"])\n",
    "file.close() # close the file"
   ]
  },
  {
   "cell_type": "code",
   "execution_count": 4,
   "metadata": {},
   "outputs": [],
   "source": [
    "## another way to open \n",
    "with open(\"text.txt\", 'a') as f:\n",
    "    f.writelines([\"\\nThis is 5th line.\",\"\\nThis is 8th line.\", \"\\nThis is 9th line.\"])\n",
    "    f.writelines([\"\\nThis is 1st line.\",\"\\nThis is 2nd line.\", \"\\nThis is 3rd line.\"])\n",
    "    f.writelines([\"\\nThis is 1st line.\",\"\\nThis is 2nd line.\", \"\\nThis is 3rd line.\"])"
   ]
  },
  {
   "cell_type": "code",
   "execution_count": 5,
   "metadata": {},
   "outputs": [],
   "source": [
    "## another way to open \n",
    "with open(\"text.txt\", 'a') as f:\n",
    "    for each in range(1,11):\n",
    "        f.write(\"\\n\" + str(each) )"
   ]
  },
  {
   "cell_type": "markdown",
   "metadata": {},
   "source": [
    "## reading a file\n",
    " - read()\n",
    " - readline() \n",
    " - readlines()"
   ]
  },
  {
   "cell_type": "code",
   "execution_count": 6,
   "metadata": {},
   "outputs": [
    {
     "name": "stdout",
     "output_type": "stream",
     "text": [
      "This is 1st line.\n",
      "This is 2nd line.\n",
      "This is 3rd line.\n",
      "This is 1st line.\n",
      " This is 2nd line.\n",
      " This is \n"
     ]
    }
   ],
   "source": [
    "with open(\"text.txt\", 'r') as file:\n",
    "    print(file.read(100))"
   ]
  },
  {
   "cell_type": "code",
   "execution_count": 7,
   "metadata": {},
   "outputs": [
    {
     "name": "stdout",
     "output_type": "stream",
     "text": [
      "This is 1st line.\n",
      "\n",
      "This is 2nd line.\n",
      "\n",
      "This is 3rd line.\n",
      "\n"
     ]
    }
   ],
   "source": [
    "with open(\"text.txt\", 'r') as file:\n",
    "    print(file.readline())\n",
    "    print(file.readline())\n",
    "    print(file.readline())"
   ]
  },
  {
   "cell_type": "code",
   "execution_count": 8,
   "metadata": {},
   "outputs": [
    {
     "name": "stdout",
     "output_type": "stream",
     "text": [
      "This is 1st line.\n",
      "\n",
      "This is 2nd line.\n",
      "\n",
      "This is 3rd line.\n",
      "\n",
      "This is 1st line.\n",
      "\n"
     ]
    }
   ],
   "source": [
    "file = open(\"text.txt\", 'r') \n",
    "print(file.readline())\n",
    "print(file.readline())\n",
    "print(file.readline())\n",
    "print(file.readline())\n",
    "file.close()"
   ]
  },
  {
   "cell_type": "code",
   "execution_count": 9,
   "metadata": {},
   "outputs": [
    {
     "name": "stdout",
     "output_type": "stream",
     "text": [
      "['This is 1st line.\\n', 'This is 2nd line.\\n', 'This is 3rd line.\\n', 'This is 1st line.\\n', ' This is 2nd line.\\n', ' This is 3rd line.\\n', 'This is 1st line.\\n', 'This is 2nd line.\\n', 'This is 3rd line.\\n', 'This is 5th line.\\n', 'This is 8th line.\\n', 'This is 9th line.\\n', 'This is 1st line.\\n', 'This is 2nd line.\\n', 'This is 3rd line.\\n', 'This is 1st line.\\n', 'This is 2nd line.\\n', 'This is 3rd line.\\n', '1\\n', '2\\n', '3\\n', '4\\n', '5\\n', '6\\n', '7\\n', '8\\n', '9\\n', '10']\n"
     ]
    }
   ],
   "source": [
    "with open(\"text.txt\", 'r') as file:\n",
    "    list_lines = file.readlines()\n",
    "    print(list_lines)"
   ]
  },
  {
   "cell_type": "code",
   "execution_count": 10,
   "metadata": {},
   "outputs": [
    {
     "data": {
      "text/plain": [
       "'This is 1st line.\\n'"
      ]
     },
     "execution_count": 10,
     "metadata": {},
     "output_type": "execute_result"
    }
   ],
   "source": [
    "list_lines[0]"
   ]
  },
  {
   "cell_type": "markdown",
   "metadata": {},
   "source": [
    "open (mode)\n",
    "operation\n",
    "close()\n",
    "\n",
    "write operation\n",
    " - write()\n",
    " - writeline()\n",
    "\n",
    "read operation\n",
    "    - read()\n",
    "    - readline()\n",
    "    - readlines()"
   ]
  },
  {
   "cell_type": "markdown",
   "metadata": {},
   "source": [
    "## Exception Handling"
   ]
  },
  {
   "cell_type": "code",
   "execution_count": 11,
   "metadata": {},
   "outputs": [
    {
     "name": "stdout",
     "output_type": "stream",
     "text": [
      "1\n",
      "2\n",
      "3\n",
      "4\n",
      "5\n",
      "6\n",
      "7\n",
      "8\n",
      "9\n"
     ]
    }
   ],
   "source": [
    "for each in range(1,10):\n",
    "    print(each)"
   ]
  },
  {
   "cell_type": "code",
   "execution_count": 12,
   "metadata": {},
   "outputs": [
    {
     "data": {
      "text/plain": [
       "20"
      ]
     },
     "execution_count": 12,
     "metadata": {},
     "output_type": "execute_result"
    }
   ],
   "source": [
    "n = 10\n",
    "n*2"
   ]
  },
  {
   "cell_type": "code",
   "execution_count": 13,
   "metadata": {},
   "outputs": [],
   "source": [
    "# int(input()) # ValueError: invalid literal for int() with base 10: '5.7'"
   ]
  },
  {
   "cell_type": "code",
   "execution_count": 14,
   "metadata": {},
   "outputs": [],
   "source": [
    "# try:\n",
    "# except:\n",
    "# finally:"
   ]
  },
  {
   "cell_type": "code",
   "execution_count": 15,
   "metadata": {},
   "outputs": [
    {
     "name": "stdout",
     "output_type": "stream",
     "text": [
      "4\n",
      "16\n",
      "Hello World!\n"
     ]
    }
   ],
   "source": [
    "try:\n",
    "    n = int(input())\n",
    "    print(n**2)\n",
    "except:\n",
    "    print('Only integer input acceptable!')\n",
    "finally:    \n",
    "    print('Hello World!')"
   ]
  },
  {
   "cell_type": "code",
   "execution_count": 16,
   "metadata": {},
   "outputs": [
    {
     "name": "stdout",
     "output_type": "stream",
     "text": [
      "6\n",
      "8\n",
      "0.75\n",
      "Hello World!\n"
     ]
    }
   ],
   "source": [
    "try:\n",
    "    n1 = int(input())\n",
    "    n2 = int(input())\n",
    "    print(n1/n2)\n",
    "except ValueError:\n",
    "    print('Error: only integer input acceptable!')\n",
    "except ZeroDivisionError :\n",
    "    print(\"Error - divide by zero.\")\n",
    "except:\n",
    "    print('Error: unknown!')\n",
    "finally:    \n",
    "    print('Hello World!')"
   ]
  },
  {
   "cell_type": "code",
   "execution_count": 17,
   "metadata": {},
   "outputs": [
    {
     "name": "stdout",
     "output_type": "stream",
     "text": [
      "3\n",
      "5\n",
      "0.6\n",
      "Error:Unkown!\n",
      "Hello World!\n"
     ]
    }
   ],
   "source": [
    "try:\n",
    "    n1 = int(input())\n",
    "    n2 = int(input())\n",
    "    print(n1/n2)\n",
    "    open('t.txt','r')\n",
    "except ValueError:\n",
    "    print('Error: only integer input acceptable!')\n",
    "except ZeroDivisionError as e :\n",
    "    print(e)\n",
    "except :\n",
    "    print(\"Error:Unkown!\")\n",
    "finally:    \n",
    "    print('Hello World!')"
   ]
  },
  {
   "cell_type": "code",
   "execution_count": 18,
   "metadata": {},
   "outputs": [],
   "source": [
    "# 2/0"
   ]
  },
  {
   "cell_type": "code",
   "execution_count": 19,
   "metadata": {},
   "outputs": [],
   "source": [
    "# EOFError\n",
    "# Exception\n",
    "# ValueError/FileNotFoundError/ZeroDivisionError"
   ]
  },
  {
   "cell_type": "code",
   "execution_count": 20,
   "metadata": {},
   "outputs": [],
   "source": [
    "## code to clear a file\n",
    "with open(\"text.txt\", 'w') as file:\n",
    "    file.truncate(0)"
   ]
  },
  {
   "cell_type": "code",
   "execution_count": null,
   "metadata": {},
   "outputs": [],
   "source": []
  }
 ],
 "metadata": {
  "kernelspec": {
   "display_name": "Python 3",
   "language": "python",
   "name": "python3"
  },
  "language_info": {
   "codemirror_mode": {
    "name": "ipython",
    "version": 3
   },
   "file_extension": ".py",
   "mimetype": "text/x-python",
   "name": "python",
   "nbconvert_exporter": "python",
   "pygments_lexer": "ipython3",
   "version": "3.7.6"
  }
 },
 "nbformat": 4,
 "nbformat_minor": 4
}
