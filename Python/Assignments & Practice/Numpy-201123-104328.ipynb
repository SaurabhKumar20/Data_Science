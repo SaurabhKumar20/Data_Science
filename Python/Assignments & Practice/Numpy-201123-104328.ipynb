{
 "cells": [
  {
   "cell_type": "code",
   "execution_count": 1,
   "metadata": {},
   "outputs": [],
   "source": [
    "## numpy, pandas, matplotlib/seaborn"
   ]
  },
  {
   "cell_type": "code",
   "execution_count": 2,
   "metadata": {
    "ExecuteTime": {
     "end_time": "2020-12-23T12:54:44.982308Z",
     "start_time": "2020-12-23T12:54:37.270832Z"
    }
   },
   "outputs": [
    {
     "name": "stdout",
     "output_type": "stream",
     "text": [
      "Requirement already satisfied: numpy in d:\\anaconda_python\\lib\\site-packages (1.18.5)\n"
     ]
    }
   ],
   "source": [
    "# installion of package\n",
    "# !pip install <package_name>\n",
    "!pip install numpy\n",
    "\n",
    "# Numpy - Numerical Python \n",
    "import numpy as np"
   ]
  },
  {
   "cell_type": "code",
   "execution_count": 3,
   "metadata": {},
   "outputs": [],
   "source": [
    "# len(dir(np))"
   ]
  },
  {
   "cell_type": "code",
   "execution_count": 4,
   "metadata": {},
   "outputs": [],
   "source": [
    "## main datastructure in numpy package -> NDArray"
   ]
  },
  {
   "cell_type": "code",
   "execution_count": 5,
   "metadata": {},
   "outputs": [
    {
     "name": "stdout",
     "output_type": "stream",
     "text": [
      "<class 'numpy.ndarray'>\n",
      "[1 2 3 4 5 6 7 8 9]\n"
     ]
    },
    {
     "data": {
      "text/plain": [
       "array([1, 2, 3, 4, 5, 6, 7, 8, 9])"
      ]
     },
     "execution_count": 5,
     "metadata": {},
     "output_type": "execute_result"
    }
   ],
   "source": [
    "### creating an array\n",
    "arr = np.array(range(1,10))\n",
    "print(type(arr))\n",
    "print(arr)\n",
    "arr"
   ]
  },
  {
   "cell_type": "code",
   "execution_count": 6,
   "metadata": {},
   "outputs": [
    {
     "data": {
      "text/plain": [
       "[1, 2, 3, 4, 5, 6, 7, 8, 9]"
      ]
     },
     "execution_count": 6,
     "metadata": {},
     "output_type": "execute_result"
    }
   ],
   "source": [
    "list(range(1,10))"
   ]
  },
  {
   "cell_type": "markdown",
   "metadata": {},
   "source": [
    "list properties\n",
    "    - mutable\n",
    "    - ordered/indexable\n",
    "    - hetrogenous data\n",
    "    - duplicate members allowed\n",
    "    \n",
    "    \n",
    "array properties\n",
    "    - ordered/indexable\n",
    "    - duplicate members allowed\n",
    "    - mutable\n",
    "    - homogeous data"
   ]
  },
  {
   "cell_type": "code",
   "execution_count": 7,
   "metadata": {},
   "outputs": [
    {
     "name": "stdout",
     "output_type": "stream",
     "text": [
      "[1, 2, 3, 4, 5, 6, 7, 8, 9]\n",
      "<class 'numpy.ndarray'>\n",
      "[1 2 3 4 5 6 7 8 9]\n"
     ]
    },
    {
     "data": {
      "text/plain": [
       "array([1, 2, 3, 4, 5, 6, 7, 8, 9])"
      ]
     },
     "execution_count": 7,
     "metadata": {},
     "output_type": "execute_result"
    }
   ],
   "source": [
    "list_ = list(range(1,10))\n",
    "print(list_)\n",
    "arr = np.array(list_)\n",
    "print(type(arr))\n",
    "print(arr)\n",
    "arr"
   ]
  },
  {
   "cell_type": "code",
   "execution_count": 8,
   "metadata": {},
   "outputs": [
    {
     "name": "stdout",
     "output_type": "stream",
     "text": [
      "[1, 2, 1.4, '7']\n",
      "<class 'numpy.ndarray'>\n",
      "['1' '2' '1.4' '7']\n"
     ]
    },
    {
     "data": {
      "text/plain": [
       "array(['1', '2', '1.4', '7'], dtype='<U32')"
      ]
     },
     "execution_count": 8,
     "metadata": {},
     "output_type": "execute_result"
    }
   ],
   "source": [
    "list_ = [1,2,1.4,'7']\n",
    "print(list_)\n",
    "arr = np.array(list_)\n",
    "print(type(arr))\n",
    "print(arr)\n",
    "arr\n",
    "\n",
    "# int-> float -> str"
   ]
  },
  {
   "cell_type": "code",
   "execution_count": 9,
   "metadata": {},
   "outputs": [
    {
     "name": "stdout",
     "output_type": "stream",
     "text": [
      "[1, 2, 1.4]\n",
      "<class 'numpy.ndarray'>\n",
      "[1.  2.  1.4]\n"
     ]
    },
    {
     "data": {
      "text/plain": [
       "array([1. , 2. , 1.4])"
      ]
     },
     "execution_count": 9,
     "metadata": {},
     "output_type": "execute_result"
    }
   ],
   "source": [
    "list_ = [1,2,1.4]\n",
    "print(list_)\n",
    "arr = np.array(list_)\n",
    "print(type(arr))\n",
    "print(arr)\n",
    "arr\n",
    "\n",
    "# int-> float -> str"
   ]
  },
  {
   "cell_type": "code",
   "execution_count": 10,
   "metadata": {},
   "outputs": [
    {
     "name": "stdout",
     "output_type": "stream",
     "text": [
      "[1, 2, 1.4, '7', [1, 2, 3]]\n",
      "<class 'numpy.ndarray'>\n",
      "[1 2 1.4 '7' list([1, 2, 3])]\n"
     ]
    },
    {
     "data": {
      "text/plain": [
       "array([1, 2, 1.4, '7', list([1, 2, 3])], dtype=object)"
      ]
     },
     "execution_count": 10,
     "metadata": {},
     "output_type": "execute_result"
    }
   ],
   "source": [
    "list_ = [1,2,1.4,'7',[1,2,3]]\n",
    "print(list_)\n",
    "arr = np.array(list_)\n",
    "print(type(arr))\n",
    "print(arr)\n",
    "arr\n",
    "\n",
    "# int-> float -> str"
   ]
  },
  {
   "cell_type": "markdown",
   "metadata": {},
   "source": [
    "# creating array objects"
   ]
  },
  {
   "cell_type": "code",
   "execution_count": 11,
   "metadata": {},
   "outputs": [
    {
     "name": "stdout",
     "output_type": "stream",
     "text": [
      "<class 'numpy.ndarray'>\n"
     ]
    },
    {
     "data": {
      "text/plain": [
       "array([           nan, 0.0000000e+000, 1.3243022e-311, 2.0236929e-320,\n",
       "       0.0000000e+000, 0.0000000e+000, 0.0000000e+000, 0.0000000e+000,\n",
       "       0.0000000e+000, 0.0000000e+000])"
      ]
     },
     "execution_count": 11,
     "metadata": {},
     "output_type": "execute_result"
    }
   ],
   "source": [
    "# using np.empty()\n",
    "arr = np.empty(10) # 1D - array\n",
    "print(type(arr))\n",
    "arr"
   ]
  },
  {
   "cell_type": "code",
   "execution_count": 12,
   "metadata": {},
   "outputs": [
    {
     "name": "stdout",
     "output_type": "stream",
     "text": [
      "<class 'numpy.ndarray'>\n"
     ]
    },
    {
     "data": {
      "text/plain": [
       "array([[1413566533, 1432108360],\n",
       "       [1936876915, 1818575964],\n",
       "       [1330380908, 1095516483],\n",
       "       [1094996048, 1128087892],\n",
       "       [1934974010, 1551069797]])"
      ]
     },
     "execution_count": 12,
     "metadata": {},
     "output_type": "execute_result"
    }
   ],
   "source": [
    "# using np.empty()\n",
    "arr = np.empty((5,2), dtype = int) # 2D -array\n",
    "print(type(arr))\n",
    "arr"
   ]
  },
  {
   "cell_type": "code",
   "execution_count": 13,
   "metadata": {},
   "outputs": [
    {
     "name": "stdout",
     "output_type": "stream",
     "text": [
      "<class 'numpy.ndarray'>\n"
     ]
    },
    {
     "data": {
      "text/plain": [
       "array([[[1.32429832e-311, 6.27463370e-322],\n",
       "        [0.00000000e+000, 0.00000000e+000]],\n",
       "\n",
       "       [[1.33511969e-306, 5.30276956e+180],\n",
       "        [1.57076922e-076, 6.97801880e-076]],\n",
       "\n",
       "       [[5.06793393e-086, 3.35708901e-143],\n",
       "        [6.01433264e+175, 6.93885958e+218]],\n",
       "\n",
       "       [[5.56218858e+180, 3.94356143e+180],\n",
       "        [8.23036828e-067, 3.60501323e+175]],\n",
       "\n",
       "       [[1.20743555e+161, 1.61964581e-051],\n",
       "        [7.11889322e-144, 1.50008929e+248]]])"
      ]
     },
     "execution_count": 13,
     "metadata": {},
     "output_type": "execute_result"
    }
   ],
   "source": [
    "# using np.empty()\n",
    "arr = np.empty((5,2,2)) # 3D -array\n",
    "print(type(arr))\n",
    "arr"
   ]
  },
  {
   "cell_type": "code",
   "execution_count": 14,
   "metadata": {},
   "outputs": [
    {
     "name": "stdout",
     "output_type": "stream",
     "text": [
      "<class 'numpy.ndarray'>\n"
     ]
    },
    {
     "data": {
      "text/plain": [
       "array([1, 1, 1, 1, 1, 1, 1, 1, 1, 1])"
      ]
     },
     "execution_count": 14,
     "metadata": {},
     "output_type": "execute_result"
    }
   ],
   "source": [
    "# using np.ones()\n",
    "arr = np.ones(10, int) # 1D - array\n",
    "print(type(arr))\n",
    "arr"
   ]
  },
  {
   "cell_type": "code",
   "execution_count": 15,
   "metadata": {},
   "outputs": [
    {
     "name": "stdout",
     "output_type": "stream",
     "text": [
      "<class 'numpy.ndarray'>\n"
     ]
    },
    {
     "data": {
      "text/plain": [
       "array([[1., 1., 1.],\n",
       "       [1., 1., 1.]])"
      ]
     },
     "execution_count": 15,
     "metadata": {},
     "output_type": "execute_result"
    }
   ],
   "source": [
    "arr = np.ones((2,3)) # 1D - array\n",
    "print(type(arr))\n",
    "arr"
   ]
  },
  {
   "cell_type": "code",
   "execution_count": 16,
   "metadata": {},
   "outputs": [
    {
     "name": "stdout",
     "output_type": "stream",
     "text": [
      "<class 'numpy.ndarray'>\n"
     ]
    },
    {
     "data": {
      "text/plain": [
       "array([0., 0., 0., 0., 0., 0., 0., 0., 0., 0.])"
      ]
     },
     "execution_count": 16,
     "metadata": {},
     "output_type": "execute_result"
    }
   ],
   "source": [
    "# using np.zeros()\n",
    "arr = np.zeros(10) # 1D - array\n",
    "print(type(arr))\n",
    "arr"
   ]
  },
  {
   "cell_type": "code",
   "execution_count": 17,
   "metadata": {},
   "outputs": [
    {
     "name": "stdout",
     "output_type": "stream",
     "text": [
      "<class 'numpy.ndarray'>\n"
     ]
    },
    {
     "data": {
      "text/plain": [
       "array([[0., 0.],\n",
       "       [0., 0.],\n",
       "       [0., 0.],\n",
       "       [0., 0.],\n",
       "       [0., 0.]])"
      ]
     },
     "execution_count": 17,
     "metadata": {},
     "output_type": "execute_result"
    }
   ],
   "source": [
    "# using np.zeros()\n",
    "arr = np.zeros((5,2)) # 1D - array\n",
    "print(type(arr))\n",
    "arr"
   ]
  },
  {
   "cell_type": "code",
   "execution_count": 18,
   "metadata": {},
   "outputs": [
    {
     "name": "stdout",
     "output_type": "stream",
     "text": [
      "<class 'numpy.ndarray'>\n"
     ]
    },
    {
     "data": {
      "text/plain": [
       "array([1.        , 1.22222222, 1.44444444, 1.66666667, 1.88888889,\n",
       "       2.11111111, 2.33333333, 2.55555556, 2.77777778, 3.        ])"
      ]
     },
     "execution_count": 18,
     "metadata": {},
     "output_type": "execute_result"
    }
   ],
   "source": [
    "# using np.linspace()\n",
    "arr = np.linspace(start = 1, stop = 3, num = 10) # 1D - array\n",
    "print(type(arr))\n",
    "arr"
   ]
  },
  {
   "cell_type": "code",
   "execution_count": 19,
   "metadata": {},
   "outputs": [
    {
     "name": "stdout",
     "output_type": "stream",
     "text": [
      "<class 'numpy.ndarray'>\n"
     ]
    },
    {
     "data": {
      "text/plain": [
       "array([1.        , 1.04081633, 1.08163265, 1.12244898, 1.16326531,\n",
       "       1.20408163, 1.24489796, 1.28571429, 1.32653061, 1.36734694,\n",
       "       1.40816327, 1.44897959, 1.48979592, 1.53061224, 1.57142857,\n",
       "       1.6122449 , 1.65306122, 1.69387755, 1.73469388, 1.7755102 ,\n",
       "       1.81632653, 1.85714286, 1.89795918, 1.93877551, 1.97959184,\n",
       "       2.02040816, 2.06122449, 2.10204082, 2.14285714, 2.18367347,\n",
       "       2.2244898 , 2.26530612, 2.30612245, 2.34693878, 2.3877551 ,\n",
       "       2.42857143, 2.46938776, 2.51020408, 2.55102041, 2.59183673,\n",
       "       2.63265306, 2.67346939, 2.71428571, 2.75510204, 2.79591837,\n",
       "       2.83673469, 2.87755102, 2.91836735, 2.95918367, 3.        ])"
      ]
     },
     "execution_count": 19,
     "metadata": {},
     "output_type": "execute_result"
    }
   ],
   "source": [
    "# using np.linspace()\n",
    "arr = np.linspace(start = 1, stop = 3) # 1D - array   # start, stop, step, length => length = stop - start /step\n",
    "print(type(arr))\n",
    "arr"
   ]
  },
  {
   "cell_type": "code",
   "execution_count": 20,
   "metadata": {},
   "outputs": [
    {
     "name": "stdout",
     "output_type": "stream",
     "text": [
      "<class 'numpy.ndarray'>\n"
     ]
    },
    {
     "data": {
      "text/plain": [
       "array([0, 1, 2, 3, 4, 5, 6, 7, 8, 9])"
      ]
     },
     "execution_count": 20,
     "metadata": {},
     "output_type": "execute_result"
    }
   ],
   "source": [
    "# using np.arange()\n",
    "arr = np.arange(10) # 1D - array  \n",
    "print(type(arr))\n",
    "arr"
   ]
  },
  {
   "cell_type": "code",
   "execution_count": 21,
   "metadata": {},
   "outputs": [
    {
     "name": "stdout",
     "output_type": "stream",
     "text": [
      "<class 'numpy.ndarray'>\n"
     ]
    },
    {
     "data": {
      "text/plain": [
       "array([ 5. ,  5.5,  6. ,  6.5,  7. ,  7.5,  8. ,  8.5,  9. ,  9.5, 10. ,\n",
       "       10.5, 11. , 11.5, 12. , 12.5, 13. , 13.5, 14. , 14.5, 15. , 15.5,\n",
       "       16. , 16.5, 17. , 17.5, 18. , 18.5, 19. , 19.5, 20. , 20.5, 21. ,\n",
       "       21.5, 22. , 22.5, 23. , 23.5, 24. , 24.5, 25. , 25.5, 26. , 26.5,\n",
       "       27. , 27.5, 28. , 28.5, 29. , 29.5, 30. , 30.5, 31. , 31.5, 32. ,\n",
       "       32.5, 33. , 33.5, 34. , 34.5, 35. , 35.5, 36. , 36.5, 37. , 37.5,\n",
       "       38. , 38.5, 39. , 39.5, 40. , 40.5, 41. , 41.5, 42. , 42.5, 43. ,\n",
       "       43.5, 44. , 44.5, 45. , 45.5, 46. , 46.5, 47. , 47.5, 48. , 48.5,\n",
       "       49. , 49.5])"
      ]
     },
     "execution_count": 21,
     "metadata": {},
     "output_type": "execute_result"
    }
   ],
   "source": [
    "# using np.arange()\n",
    "arr = np.arange(start = 5, stop = 50, step = 0.5) # 1D - array  \n",
    "print(type(arr))\n",
    "arr"
   ]
  },
  {
   "cell_type": "code",
   "execution_count": 22,
   "metadata": {},
   "outputs": [
    {
     "name": "stdout",
     "output_type": "stream",
     "text": [
      "6\n",
      "4\n",
      "6\n",
      "4\n",
      "4\n",
      "4\n",
      "6\n",
      "6\n",
      "5\n",
      "4\n"
     ]
    }
   ],
   "source": [
    "# using np.random.xxx\n",
    "for each in range(1,11):\n",
    "    r_num = np.random.randint(2,7)\n",
    "    print(r_num)"
   ]
  },
  {
   "cell_type": "code",
   "execution_count": 23,
   "metadata": {},
   "outputs": [
    {
     "name": "stdout",
     "output_type": "stream",
     "text": [
      "<class 'numpy.ndarray'>\n"
     ]
    },
    {
     "data": {
      "text/plain": [
       "array([4, 4, 4, 4, 4, 4, 4, 4, 4])"
      ]
     },
     "execution_count": 23,
     "metadata": {},
     "output_type": "execute_result"
    }
   ],
   "source": [
    "arr = np.random.randint(3,5, size = 9) #1D array\n",
    "print(type(arr))\n",
    "arr"
   ]
  },
  {
   "cell_type": "code",
   "execution_count": 24,
   "metadata": {},
   "outputs": [
    {
     "name": "stdout",
     "output_type": "stream",
     "text": [
      "<class 'numpy.ndarray'>\n"
     ]
    },
    {
     "data": {
      "text/plain": [
       "array([[3, 4, 3],\n",
       "       [4, 4, 3]])"
      ]
     },
     "execution_count": 24,
     "metadata": {},
     "output_type": "execute_result"
    }
   ],
   "source": [
    "arr = np.random.randint(3,5, size = (2,3))\n",
    "print(type(arr))\n",
    "arr"
   ]
  },
  {
   "cell_type": "code",
   "execution_count": 25,
   "metadata": {},
   "outputs": [
    {
     "name": "stdout",
     "output_type": "stream",
     "text": [
      "<class 'numpy.ndarray'>\n"
     ]
    },
    {
     "data": {
      "text/plain": [
       "array([0.9791233 , 0.54010357, 0.2712509 , 0.26124037, 0.78277215])"
      ]
     },
     "execution_count": 25,
     "metadata": {},
     "output_type": "execute_result"
    }
   ],
   "source": [
    "arr = np.random.rand(5) #1D array\n",
    "print(type(arr))\n",
    "arr"
   ]
  },
  {
   "cell_type": "code",
   "execution_count": 26,
   "metadata": {},
   "outputs": [
    {
     "name": "stdout",
     "output_type": "stream",
     "text": [
      "<class 'numpy.ndarray'>\n"
     ]
    },
    {
     "data": {
      "text/plain": [
       "array([[0.80780581, 0.80369137, 0.15427045],\n",
       "       [0.81471791, 0.65455699, 0.5250931 ],\n",
       "       [0.65730452, 0.6166759 , 0.82750558],\n",
       "       [0.09892517, 0.0514111 , 0.60841702],\n",
       "       [0.49058176, 0.6049211 , 0.84759572]])"
      ]
     },
     "execution_count": 26,
     "metadata": {},
     "output_type": "execute_result"
    }
   ],
   "source": [
    "arr = np.random.rand(5,3) #1D array\n",
    "print(type(arr))\n",
    "arr"
   ]
  },
  {
   "cell_type": "code",
   "execution_count": 27,
   "metadata": {},
   "outputs": [
    {
     "name": "stdout",
     "output_type": "stream",
     "text": [
      "<class 'numpy.ndarray'>\n"
     ]
    },
    {
     "data": {
      "text/plain": [
       "array([ 0.19708463, -1.13961511, -1.63299884,  0.19652555,  1.25433523])"
      ]
     },
     "execution_count": 27,
     "metadata": {},
     "output_type": "execute_result"
    }
   ],
   "source": [
    "arr = np.random.randn(5) #1D array\n",
    "print(type(arr))\n",
    "arr"
   ]
  },
  {
   "cell_type": "code",
   "execution_count": 28,
   "metadata": {},
   "outputs": [],
   "source": [
    "# np.random.rand()"
   ]
  },
  {
   "cell_type": "code",
   "execution_count": 29,
   "metadata": {},
   "outputs": [
    {
     "name": "stdout",
     "output_type": "stream",
     "text": [
      "<class 'numpy.ndarray'>\n"
     ]
    },
    {
     "data": {
      "text/plain": [
       "array([[-2.21803083,  0.65933505, -1.09994558,  0.29092559, -1.25554357],\n",
       "       [ 0.91476133,  0.48813382,  1.35638151, -1.62290613,  0.27817929],\n",
       "       [-0.48833551,  0.63331672,  0.27896154,  0.85538958,  1.11339959],\n",
       "       [ 1.34329876, -0.20263798,  0.98009928, -1.17029003, -0.18813662],\n",
       "       [-1.8248726 , -0.56511461,  0.26738061, -0.1579234 , -0.83368827]])"
      ]
     },
     "execution_count": 29,
     "metadata": {},
     "output_type": "execute_result"
    }
   ],
   "source": [
    "arr = np.random.randn(5,5) #1D array\n",
    "print(type(arr))\n",
    "arr"
   ]
  },
  {
   "cell_type": "code",
   "execution_count": 30,
   "metadata": {},
   "outputs": [],
   "source": [
    "## np.empty(), np.ones(), np.zeros(), np.linspace(), np.arange(), np.random.randint,rand,randn()"
   ]
  },
  {
   "cell_type": "code",
   "execution_count": 31,
   "metadata": {},
   "outputs": [],
   "source": [
    "# np.array([[1,2,3],\n",
    "# [1,2,4]])"
   ]
  },
  {
   "cell_type": "code",
   "execution_count": 32,
   "metadata": {},
   "outputs": [
    {
     "name": "stdout",
     "output_type": "stream",
     "text": [
      "[1, 2, 3, 4, 5, 6, 7, 8, 9, 10]\n"
     ]
    }
   ],
   "source": [
    "# \n",
    "mylist =  list(range(1,11))\n",
    "print(mylist)\n",
    "# mylist + 2\n",
    "\n",
    "# loop\n",
    "# list comprehsion\n",
    "# map"
   ]
  },
  {
   "cell_type": "code",
   "execution_count": 33,
   "metadata": {},
   "outputs": [
    {
     "name": "stdout",
     "output_type": "stream",
     "text": [
      "[ 1  2  3  4  5  6  7  8  9 10]\n"
     ]
    },
    {
     "data": {
      "text/plain": [
       "array([ 3,  4,  5,  6,  7,  8,  9, 10, 11, 12])"
      ]
     },
     "execution_count": 33,
     "metadata": {},
     "output_type": "execute_result"
    }
   ],
   "source": [
    "arr = np.array(mylist)\n",
    "print(arr)\n",
    "arr+2"
   ]
  },
  {
   "cell_type": "code",
   "execution_count": 34,
   "metadata": {},
   "outputs": [],
   "source": [
    "# num_list = [1,2,3,4,5,'6']\n",
    "# arr = np.array(num_list)\n",
    "# arr*2"
   ]
  },
  {
   "cell_type": "code",
   "execution_count": 35,
   "metadata": {},
   "outputs": [
    {
     "name": "stdout",
     "output_type": "stream",
     "text": [
      "[0.5 1.  1.5 2.  2.5 3.  3.5 4.  4.5]\n",
      "[ 1  4  9 16 25 36 49 64 81]\n",
      "[0 1 1 2 2 3 3 4 4]\n",
      "[ 3  4  5  6  7  8  9 10 11]\n",
      "[ 2  4  6  8 10 12 14 16 18]\n"
     ]
    }
   ],
   "source": [
    "print(np.array(range(1,10))/2)\n",
    "print(np.array(range(1,10))**2)\n",
    "print(np.array(range(1,10))//2)\n",
    "print(np.array(range(1,10))+2)\n",
    "print(np.array(range(1,10))*2)"
   ]
  },
  {
   "cell_type": "code",
   "execution_count": 36,
   "metadata": {},
   "outputs": [],
   "source": [
    "# np.sum(), np.mean(), np.max(), np.min(), np.sort(),np.std(), np.rank(), np.sin(),np.consine(), np.dot(), np.log(), np.exmp()"
   ]
  },
  {
   "cell_type": "code",
   "execution_count": 37,
   "metadata": {},
   "outputs": [
    {
     "name": "stdout",
     "output_type": "stream",
     "text": [
      "[ 0.          1.11111111  2.22222222  3.33333333  4.44444444  5.55555556\n",
      "  6.66666667  7.77777778  8.88888889 10.        ]\n",
      "[11. 12. 13. 14. 15. 16. 17. 18. 19. 20.]\n"
     ]
    }
   ],
   "source": [
    "arr1  = np.linspace(start = 0 , stop = 10, num = 10)\n",
    "print(arr1)\n",
    "arr2  = np.linspace(start = 11 , stop = 20, num = 10)\n",
    "print(arr2)"
   ]
  },
  {
   "cell_type": "code",
   "execution_count": 38,
   "metadata": {},
   "outputs": [
    {
     "data": {
      "text/plain": [
       "array([11.        , 13.11111111, 15.22222222, 17.33333333, 19.44444444,\n",
       "       21.55555556, 23.66666667, 25.77777778, 27.88888889, 30.        ])"
      ]
     },
     "execution_count": 38,
     "metadata": {},
     "output_type": "execute_result"
    }
   ],
   "source": [
    "arr1 + arr2 "
   ]
  },
  {
   "cell_type": "code",
   "execution_count": 39,
   "metadata": {},
   "outputs": [
    {
     "data": {
      "text/plain": [
       "array([  0.        ,  13.33333333,  28.88888889,  46.66666667,\n",
       "        66.66666667,  88.88888889, 113.33333333, 140.        ,\n",
       "       168.88888889, 200.        ])"
      ]
     },
     "execution_count": 39,
     "metadata": {},
     "output_type": "execute_result"
    }
   ],
   "source": [
    "arr1 * arr2 "
   ]
  },
  {
   "cell_type": "code",
   "execution_count": 40,
   "metadata": {},
   "outputs": [
    {
     "data": {
      "text/plain": [
       "array([0.        , 0.09259259, 0.17094017, 0.23809524, 0.2962963 ,\n",
       "       0.34722222, 0.39215686, 0.43209877, 0.46783626, 0.5       ])"
      ]
     },
     "execution_count": 40,
     "metadata": {},
     "output_type": "execute_result"
    }
   ],
   "source": [
    "arr1 / arr2 "
   ]
  },
  {
   "cell_type": "code",
   "execution_count": 41,
   "metadata": {},
   "outputs": [
    {
     "name": "stdout",
     "output_type": "stream",
     "text": [
      "[[ 0.          1.11111111]\n",
      " [ 2.22222222  3.33333333]\n",
      " [ 4.44444444  5.55555556]\n",
      " [ 6.66666667  7.77777778]\n",
      " [ 8.88888889 10.        ]]\n",
      "[[11. 12.]\n",
      " [13. 14.]\n",
      " [15. 16.]\n",
      " [17. 18.]\n",
      " [19. 20.]]\n"
     ]
    }
   ],
   "source": [
    "arr1  = np.linspace(start = 0 , stop = 10, num = 10).reshape((5,2))\n",
    "print(arr1)\n",
    "arr2  = np.linspace(start = 11 , stop = 20, num = 10).reshape((5,2))\n",
    "print(arr2)"
   ]
  },
  {
   "cell_type": "code",
   "execution_count": 42,
   "metadata": {},
   "outputs": [
    {
     "data": {
      "text/plain": [
       "array([[11.        , 13.11111111],\n",
       "       [15.22222222, 17.33333333],\n",
       "       [19.44444444, 21.55555556],\n",
       "       [23.66666667, 25.77777778],\n",
       "       [27.88888889, 30.        ]])"
      ]
     },
     "execution_count": 42,
     "metadata": {},
     "output_type": "execute_result"
    }
   ],
   "source": [
    "arr1 + arr2"
   ]
  },
  {
   "cell_type": "code",
   "execution_count": 43,
   "metadata": {},
   "outputs": [
    {
     "data": {
      "text/plain": [
       "array([[  0.        ,  13.33333333],\n",
       "       [ 28.88888889,  46.66666667],\n",
       "       [ 66.66666667,  88.88888889],\n",
       "       [113.33333333, 140.        ],\n",
       "       [168.88888889, 200.        ]])"
      ]
     },
     "execution_count": 43,
     "metadata": {},
     "output_type": "execute_result"
    }
   ],
   "source": [
    "arr1 * arr2"
   ]
  },
  {
   "cell_type": "code",
   "execution_count": 44,
   "metadata": {},
   "outputs": [],
   "source": [
    "# np.dot(arr1,arr2) # np.dot is used for matrix multiple "
   ]
  },
  {
   "cell_type": "code",
   "execution_count": 45,
   "metadata": {},
   "outputs": [
    {
     "name": "stdout",
     "output_type": "stream",
     "text": [
      "[[ 0.          1.11111111]\n",
      " [ 2.22222222  3.33333333]\n",
      " [ 4.44444444  5.55555556]\n",
      " [ 6.66666667  7.77777778]\n",
      " [ 8.88888889 10.        ]]\n",
      "[[11. 12. 13. 14. 15.]\n",
      " [16. 17. 18. 19. 20.]]\n"
     ]
    }
   ],
   "source": [
    "arr1  = np.linspace(start = 0 , stop = 10, num = 10).reshape((5,2))\n",
    "print(arr1)\n",
    "arr2  = np.linspace(start = 11 , stop = 20, num = 10).reshape((2,5))\n",
    "print(arr2)"
   ]
  },
  {
   "cell_type": "code",
   "execution_count": 49,
   "metadata": {},
   "outputs": [
    {
     "name": "stdout",
     "output_type": "stream",
     "text": [
      "[[ 0.          1.11111111]\n",
      " [ 2.22222222  3.33333333]\n",
      " [ 4.44444444  5.55555556]\n",
      " [ 6.66666667  7.77777778]\n",
      " [ 8.88888889 10.        ]]\n",
      "[[11. 12. 13. 14. 15.]\n",
      " [16. 17. 18. 19. 20.]]\n"
     ]
    }
   ],
   "source": [
    "arr1  = np.linspace(start = 0 , stop = 10, num = 10).reshape((5,2))\n",
    "print(arr1)\n",
    "arr2  = np.linspace(start = 11 , stop = 20, num = 10).reshape((2,5))\n",
    "print(arr2)"
   ]
  },
  {
   "cell_type": "code",
   "execution_count": 50,
   "metadata": {},
   "outputs": [
    {
     "data": {
      "text/plain": [
       "array([[ 17.77777778,  18.88888889,  20.        ,  21.11111111,\n",
       "         22.22222222],\n",
       "       [ 77.77777778,  83.33333333,  88.88888889,  94.44444444,\n",
       "        100.        ],\n",
       "       [137.77777778, 147.77777778, 157.77777778, 167.77777778,\n",
       "        177.77777778],\n",
       "       [197.77777778, 212.22222222, 226.66666667, 241.11111111,\n",
       "        255.55555556],\n",
       "       [257.77777778, 276.66666667, 295.55555556, 314.44444444,\n",
       "        333.33333333]])"
      ]
     },
     "execution_count": 50,
     "metadata": {},
     "output_type": "execute_result"
    }
   ],
   "source": [
    "np.dot(arr1,arr2)"
   ]
  },
  {
   "cell_type": "code",
   "execution_count": 51,
   "metadata": {},
   "outputs": [
    {
     "data": {
      "text/plain": [
       "array([[ 0.        ,  1.11111111,  2.22222222,  3.33333333,  4.44444444,\n",
       "         5.55555556,  6.66666667,  7.77777778,  8.88888889, 10.        ]])"
      ]
     },
     "execution_count": 51,
     "metadata": {},
     "output_type": "execute_result"
    }
   ],
   "source": [
    "np.reshape(a = arr1, newshape = (1,10))"
   ]
  },
  {
   "cell_type": "code",
   "execution_count": 52,
   "metadata": {},
   "outputs": [
    {
     "data": {
      "text/plain": [
       "array([[ 0.        ,  1.11111111,  2.22222222,  3.33333333,  4.44444444,\n",
       "         5.55555556,  6.66666667,  7.77777778,  8.88888889, 10.        ]])"
      ]
     },
     "execution_count": 52,
     "metadata": {},
     "output_type": "execute_result"
    }
   ],
   "source": [
    "arr1.reshape((1,10))"
   ]
  },
  {
   "cell_type": "code",
   "execution_count": null,
   "metadata": {},
   "outputs": [],
   "source": []
  }
 ],
 "metadata": {
  "kernelspec": {
   "display_name": "Python 3",
   "language": "python",
   "name": "python3"
  },
  "language_info": {
   "codemirror_mode": {
    "name": "ipython",
    "version": 3
   },
   "file_extension": ".py",
   "mimetype": "text/x-python",
   "name": "python",
   "nbconvert_exporter": "python",
   "pygments_lexer": "ipython3",
   "version": "3.8.8"
  }
 },
 "nbformat": 4,
 "nbformat_minor": 4
}
