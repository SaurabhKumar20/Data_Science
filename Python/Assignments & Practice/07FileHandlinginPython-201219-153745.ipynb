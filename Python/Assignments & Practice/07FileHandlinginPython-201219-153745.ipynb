{
 "cells": [
  {
   "cell_type": "code",
   "execution_count": null,
   "metadata": {},
   "outputs": [],
   "source": [
    "# File Handling in Python\n",
    "    Types of files in Python\n",
    "    Why file handling is required in Python? open() & close() function\n",
    "    Different modes in File Handling\n",
    "    seek() and tell() methods\n",
    "    Functions to read and write"
   ]
  },
  {
   "cell_type": "code",
   "execution_count": null,
   "metadata": {},
   "outputs": [],
   "source": [
    "Text File\n",
    "Binary File"
   ]
  },
  {
   "cell_type": "code",
   "execution_count": null,
   "metadata": {},
   "outputs": [],
   "source": [
    "# Open\n",
    "# Operation\n",
    "# Close"
   ]
  },
  {
   "cell_type": "code",
   "execution_count": null,
   "metadata": {},
   "outputs": [],
   "source": [
    "# f = open('File Name', 'mode')\n",
    "# f.close()"
   ]
  },
  {
   "cell_type": "code",
   "execution_count": null,
   "metadata": {},
   "outputs": [],
   "source": [
    "# Mode \n",
    "    Read Mode - 'r'\n",
    "    Write Mode - 'w'\n",
    "    Append Mode - 'a'\n",
    "    Read and Write Mode - 'r+'\n",
    "    Write and Read Mode - 'w+'\n",
    "    Append and Read Mode - 'a+'\n",
    "    "
   ]
  },
  {
   "cell_type": "code",
   "execution_count": 9,
   "metadata": {
    "ExecuteTime": {
     "end_time": "2020-12-19T07:12:01.483069Z",
     "start_time": "2020-12-19T07:12:01.476737Z"
    }
   },
   "outputs": [],
   "source": [
    "# Read Mode - 'r'\n",
    "# 1. If File Exists then it will open the file in read mode and places the cursor at the begining of the File\n",
    "# 2. If File Not Exists then it will give FileNotFoundError.\n",
    "# 3. It allows only to read from the file, you are not allowed to write into the file.\n",
    "\n",
    "# File does not Exist\n",
    "# f = open('abc.txt', 'r')\n",
    "# f.close()\n",
    "\n",
    "# IF File Exist\n",
    "# f = open('my_mod.py', 'r')\n",
    "# # To chevk the cursor position - tell()\n",
    "# print(f.tell())\n",
    "# print(f.read())\n",
    "# print(f.tell())\n",
    "# f.close()\n",
    "\n",
    "# Trying to write into the File\n",
    "# f = open('my_mod.py', 'r')\n",
    "# To chevk the cursor position - tell()\n",
    "# print(f.tell())\n",
    "# print(f.write('ABC'))\n",
    "# print(f.tell())\n",
    "# f.close()\n"
   ]
  },
  {
   "cell_type": "code",
   "execution_count": 3,
   "metadata": {
    "ExecuteTime": {
     "end_time": "2020-12-19T07:08:17.201934Z",
     "start_time": "2020-12-19T07:08:17.198228Z"
    }
   },
   "outputs": [],
   "source": [
    "# Write Mode - 'w'\n",
    "# 1. If File Exists then it will open the file in Write mode and places the cursor at the begining of the File after deleting the content of the file\n",
    "# 2. If File Not Exists then it will create a file with this name.\n",
    "# 3. It allows only to write into the file, you are not allowed to read from the file.\n",
    "\n",
    "# File does not Exist\n",
    "# f = open('abc.txt', 'w')\n",
    "# f.close()\n",
    "\n",
    "# # IF File Exist\n",
    "# f = open('my_mod.py', 'w')\n",
    "# To chevk the cursor position - tell()\n",
    "# print(f.tell())\n",
    "# print(f.write('XYZ'))\n",
    "# print(f.tell())\n",
    "# f.seek(0)\n",
    "# print(f.read())\n",
    "# f.close()\n"
   ]
  },
  {
   "cell_type": "code",
   "execution_count": 8,
   "metadata": {
    "ExecuteTime": {
     "end_time": "2020-12-19T07:11:53.172699Z",
     "start_time": "2020-12-19T07:11:53.166006Z"
    }
   },
   "outputs": [],
   "source": [
    "# Append Mode - 'a'\n",
    "# 1. If File Exists then it will open the file in append mode and places the cursor at the end of the File.\n",
    "# 2. If File Not Exists then it will create a file with this name.\n",
    "# 3. It allows only to write into the file, you are not allowed to read from the file.\n",
    "\n",
    "# f = open('my_mod.py', 'a')\n",
    "# # print(f.tell())\n",
    "# f.write('\\n\\tHello Python')\n",
    "# print(f.read())\n",
    "# f.close()\n",
    "\n",
    "\n",
    "\n"
   ]
  },
  {
   "cell_type": "code",
   "execution_count": null,
   "metadata": {},
   "outputs": [],
   "source": [
    "# Read and write Mode - 'r+'\n",
    "# 1. If File Exists then it will open the file in read mode and places the cursor at the begining of the File\n",
    "# 2. If File Not Exists then it will give FileNotFoundError.\n",
    "# 3. It allows only to read from the file, you are allowed to write into the file as well."
   ]
  },
  {
   "cell_type": "code",
   "execution_count": null,
   "metadata": {},
   "outputs": [],
   "source": [
    "# Write and read Mode - 'w+'\n",
    "# 1. If File Exists then it will open the file in Write mode and places the cursor at the begining of the File after deleting the content of the file\n",
    "# 2. If File Not Exists then it will create a file with this name.\n",
    "# 3. It allows only to write into the file, you are allowed to read from the file as well."
   ]
  },
  {
   "cell_type": "code",
   "execution_count": null,
   "metadata": {},
   "outputs": [],
   "source": [
    "# Append and read Mode - 'a+'\n",
    "# 1. If File Exists then it will open the file in append mode and places the cursor at the end of the File.\n",
    "# 2. If File Not Exists then it will create a file with this name.\n",
    "# 3. It allows only to write into the file, you are allowed to read from the file as well."
   ]
  },
  {
   "cell_type": "code",
   "execution_count": 12,
   "metadata": {
    "ExecuteTime": {
     "end_time": "2020-12-19T07:18:33.583609Z",
     "start_time": "2020-12-19T07:18:33.578417Z"
    }
   },
   "outputs": [],
   "source": [
    "# f = open('/Users/vigneshkarthick/Desktop/LB_DSC_OCT_11_WKND/file1.py', 'r')\n",
    "# print(f.read())"
   ]
  },
  {
   "cell_type": "code",
   "execution_count": 15,
   "metadata": {
    "ExecuteTime": {
     "end_time": "2020-12-19T07:20:33.428758Z",
     "start_time": "2020-12-19T07:20:33.414508Z"
    }
   },
   "outputs": [
    {
     "name": "stdout",
     "output_type": "stream",
     "text": [
      "Hello Python TestHello Python TestHello Python Test\n"
     ]
    }
   ],
   "source": [
    "# f = open('f1.py', 'a+')\n",
    "# f.write('Hello Python Test')\n",
    "# f.seek(0)\n",
    "# print(f.read())\n",
    "# f.close()"
   ]
  },
  {
   "cell_type": "markdown",
   "metadata": {},
   "source": [
    "# Binary file \n",
    "    read - rb\n",
    "    write - wb\n",
    "    append - ab\n",
    "    read and write - r+b/rb+\n",
    "    write and read - w+b/wb+\n",
    "    append and read - a+b/ab+"
   ]
  },
  {
   "cell_type": "code",
   "execution_count": 16,
   "metadata": {
    "ExecuteTime": {
     "end_time": "2020-12-19T07:23:48.552921Z",
     "start_time": "2020-12-19T07:23:48.545028Z"
    }
   },
   "outputs": [],
   "source": [
    "f = open('f1.pdf', 'wb')\n",
    "f.close()"
   ]
  },
  {
   "cell_type": "code",
   "execution_count": 18,
   "metadata": {
    "ExecuteTime": {
     "end_time": "2020-12-19T07:27:27.774360Z",
     "start_time": "2020-12-19T07:27:27.765099Z"
    }
   },
   "outputs": [],
   "source": [
    "with open('f1.txt', 'w+') as f:\n",
    "    f.writelines(['ABC\\n','XYZ\\n', 'PQR\\n', 'MNO\\n'])\n",
    "    f.seek(0)\n",
    "    f.readlines()\n",
    "    "
   ]
  },
  {
   "cell_type": "code",
   "execution_count": null,
   "metadata": {},
   "outputs": [],
   "source": [
    "1. Download one imga efrom google andcopy the image into a new filw called new.jpeg\n",
    "2. Copy the below content and give me the\n",
    "    total no of letters\n",
    "    total no of lines\n",
    "    total no of words\n",
    "    \n",
    "What is Lorem Ipsum?\n",
    "Lorem Ipsum is simply dummy text of the printing and typesetting industry. \n",
    "Lorem Ipsum has been the industrys standard dummy text ever since the 1500s, when an unknown printer took a galley of type and scrambled it to make a type specimen book. \n",
    "It has survived not only five centuries, but also the leap into electronic typesetting, remaining essentially unchanged. \n",
    "It was popularised in the 1960s with the release of Letraset sheets containing Lorem Ipsum passages, and more recently with desktop publishing software like Aldus PageMaker including versions of Lorem Ipsum.\n",
    "\n",
    "Why do we use it?\n",
    "It is a long established fact that a reader will be distracted by the readable content of a page when looking at its layout. \n",
    "The point of using Lorem Ipsum is that it has a more-or-less normal distribution of letters, as opposed to using Content here, content here, making it look like readable English. \n",
    "Many desktop publishing packages and web page editors now use Lorem Ipsum as their default model text, and a search for lorem ipsum will uncover many web sites still in their infancy. \n",
    "Various versions have evolved over the years, sometimes by accident, sometimes on purpose (injected humour and the like).   \n"
   ]
  },
  {
   "cell_type": "code",
   "execution_count": 21,
   "metadata": {
    "ExecuteTime": {
     "end_time": "2020-12-19T07:45:44.975845Z",
     "start_time": "2020-12-19T07:45:44.969901Z"
    }
   },
   "outputs": [],
   "source": [
    "# with open('download.jpeg', 'rb') as f1:\n",
    "#     with open('new.jpeg', 'wb') as f2:\n",
    "#         c = f1.read()\n",
    "#         f2.write(c)"
   ]
  },
  {
   "cell_type": "code",
   "execution_count": 25,
   "metadata": {
    "ExecuteTime": {
     "end_time": "2020-12-19T07:50:22.536480Z",
     "start_time": "2020-12-19T07:50:22.520954Z"
    }
   },
   "outputs": [
    {
     "name": "stdout",
     "output_type": "stream",
     "text": [
      "No of Lines =  11\n",
      "No of Characters =  1232\n",
      "No of Words =  204\n"
     ]
    }
   ],
   "source": [
    "with open('f1.txt','r') as f1:\n",
    "    no_of_lines = len(f1.readlines())\n",
    "    f1.seek(0)\n",
    "    no_of_char = len(f1.read())\n",
    "    f1.seek(0)\n",
    "    no_of_words = 0\n",
    "    for i in f1.readlines():\n",
    "        no_of_words += len(i.split())\n",
    "print('No of Lines = ', no_of_lines)\n",
    "print('No of Characters = ', no_of_char)\n",
    "print('No of Words = ', no_of_words)"
   ]
  },
  {
   "cell_type": "markdown",
   "metadata": {},
   "source": [
    "# String"
   ]
  },
  {
   "cell_type": "code",
   "execution_count": 34,
   "metadata": {
    "ExecuteTime": {
     "end_time": "2020-12-19T07:58:37.212903Z",
     "start_time": "2020-12-19T07:58:37.194202Z"
    }
   },
   "outputs": [
    {
     "name": "stdout",
     "output_type": "stream",
     "text": [
      "This is Python's class <class 'str'>\n",
      "This is Python's class <class 'str'>\n",
      "This is 'Python' and \"Java\" Class. <class 'str'>\n"
     ]
    }
   ],
   "source": [
    "# Any value kept inside quotation - '...',\"...\", '''...''', \"\"\"...\"\"\".\n",
    "\n",
    "s = 'Python'\n",
    "s1 = \"Python\"\n",
    "s2 = '''Python'''\n",
    "s3 = \"\"\"Python\"\"\"\n",
    "# print(s, type(s))\n",
    "# print(s1, type(s1))\n",
    "# print(s2, type(s2))\n",
    "# print(s3, type(s3))\n",
    "\n",
    "# Single and double quotation can be used to write single line string\n",
    "# And for multiline string we should use only '''...''',\"\"\"...\"\"\"\n",
    "# s1 = '''This is \n",
    "# Multiline\n",
    "# String'''\n",
    "# print(s1)\n",
    "\n",
    "# s2 = \"\"\"This is \n",
    "# Multiline\n",
    "# String\"\"\"\n",
    "# print(s2)\n",
    "\n",
    "\n",
    "# s1 = \"This is Python's class\"\n",
    "# print(s1, type(s1))\n",
    "\n",
    "# s2 = 'This is \"Python\" class'\n",
    "# print(s1, type(s2))\n",
    "\n",
    "# s3 = \"\"\"This is 'Python' and \"Java\" Class.\"\"\"\n",
    "# print(s3, type(s3))\n",
    "\n"
   ]
  },
  {
   "cell_type": "code",
   "execution_count": 41,
   "metadata": {
    "ExecuteTime": {
     "end_time": "2020-12-19T08:04:49.210874Z",
     "start_time": "2020-12-19T08:04:49.203941Z"
    }
   },
   "outputs": [
    {
     "name": "stdout",
     "output_type": "stream",
     "text": [
      "t\n",
      "t\n"
     ]
    }
   ],
   "source": [
    "# String supports +ve and -ve indexing both\n",
    "# +ve indeixng always starts from 0 from LHS\n",
    "# -ve indeixng always starts from -1 from RHS\n",
    "\n",
    "\n",
    "s = 'Python'\n",
    "\n",
    "#  -6  -5  -4  -3  -2  -1\n",
    "#   P   y   t   h   o   n \n",
    "#   0   1   2   3   4   5 \n",
    "\n",
    "# Indexing - accessing first letter from string\n",
    "# print(s[0])\n",
    "# print(s[-6])\n",
    "# print(s[-len(s)])\n",
    "\n",
    "# Indexing - accessing last letter from string\n",
    "# print(s[-1])\n",
    "# print(s[5])\n",
    "# print(s[len(s)-1])\n",
    "\n",
    "# print(s[2])\n",
    "# print(s[-4])\n"
   ]
  },
  {
   "cell_type": "code",
   "execution_count": 63,
   "metadata": {
    "ExecuteTime": {
     "end_time": "2020-12-19T08:19:18.712015Z",
     "start_time": "2020-12-19T08:19:18.698289Z"
    }
   },
   "outputs": [
    {
     "name": "stdout",
     "output_type": "stream",
     "text": [
      " repi\n"
     ]
    }
   ],
   "source": [
    "# Slicing on string - Accessing multiple elements from string\n",
    "# Syntax - str_name[start:end:step]\n",
    "\n",
    "# print(s)\n",
    "# print(s[2:4:1])\n",
    "\n",
    "# Default values\n",
    "# When step is +1\n",
    "# start = 0\n",
    "# stop = len(str)\n",
    "# start should always be on left compared to your stop\n",
    "\n",
    "# when step is -1\n",
    "# start = -1\n",
    "# stop = -(len(str)+1)\n",
    "# start should always be on right compared to your stop\n",
    "\n",
    "\n",
    "# When step is +ve slicing will be done from left to right - ----------------------------> step is +ve\n",
    "# When step is -ve slicing will be done from right to left - <---------------------------- step is -ve\n",
    "# Default value of step is +1\n",
    "\n",
    "\n",
    "\n",
    "my_str = 'Peter piper picked a peck of pickled peppers.'\n",
    "# print(my_str[6:11:1])\n",
    "# print(my_str[6:11:2])\n",
    "# print(my_str[6:11])\n",
    "# print(my_str[:11])\n",
    "# print(my_str[6:])\n",
    "# print(my_str[::])\n",
    "# print(my_str[::2])\n",
    "# print(my_str[::3])\n",
    "# print(my_str[::4])\n",
    "# print(my_str[11:6:1])\n",
    "\n",
    "# With -ve step value\n",
    "# print(my_str[::-1])\n",
    "# print(my_str[::-2])\n",
    "# print(my_str[::-3])\n",
    "# print(my_str[::-2])\n",
    "# print(my_str[:11:-1])\n",
    "# print(my_str[6:11:-1])\n",
    "print(my_str[11:6:-1])\n",
    "\n",
    "\n"
   ]
  },
  {
   "cell_type": "markdown",
   "metadata": {},
   "source": [
    "# Concatenation, Repetition, Membership"
   ]
  },
  {
   "cell_type": "code",
   "execution_count": 1,
   "metadata": {
    "ExecuteTime": {
     "end_time": "2020-12-22T04:30:17.154159Z",
     "start_time": "2020-12-22T04:30:17.140230Z"
    }
   },
   "outputs": [
    {
     "name": "stdout",
     "output_type": "stream",
     "text": [
      "PythonClass\n",
      "{10, 2, 3.4, 20}\n"
     ]
    }
   ],
   "source": [
    "# Concatenation\n",
    "#     1. Both are string type\n",
    "#     2. +\n",
    "#     3. Does not work on different data types\n",
    "\n",
    "str1 = 'Python'\n",
    "str2 = 'Class'\n",
    "print(str1+str2)\n",
    "\n",
    "print({2,3.4} | {10,20})\n"
   ]
  },
  {
   "cell_type": "code",
   "execution_count": 73,
   "metadata": {
    "ExecuteTime": {
     "end_time": "2020-12-19T08:25:33.467365Z",
     "start_time": "2020-12-19T08:25:33.462084Z"
    }
   },
   "outputs": [],
   "source": [
    "# Repetition -\n",
    "#     1. *\n",
    "#     2. One should be string type and other should be int type\n",
    "#     3. Other object can not be float or complex type\n",
    "\n",
    "# print('Hello' * 3)\n",
    "\n",
    "# print('Hello' * 3.5)\n"
   ]
  },
  {
   "cell_type": "code",
   "execution_count": 72,
   "metadata": {
    "ExecuteTime": {
     "end_time": "2020-12-19T08:25:30.679380Z",
     "start_time": "2020-12-19T08:25:30.670558Z"
    }
   },
   "outputs": [],
   "source": [
    "# Membership - in, not in\n",
    "\n",
    "# my_str = 'Peter piper picked a peck of pickled peppers.'\n",
    "# print('p' in my_str)\n",
    "# print('piper' in my_str)\n",
    "# print('g' in my_str)\n",
    "\n",
    "\n"
   ]
  },
  {
   "cell_type": "code",
   "execution_count": 14,
   "metadata": {
    "ExecuteTime": {
     "end_time": "2020-12-19T08:28:36.129214Z",
     "start_time": "2020-12-19T08:28:36.119508Z"
    }
   },
   "outputs": [
    {
     "name": "stdout",
     "output_type": "stream",
     "text": [
      "Peter piper picked a peck of pickled peppers. 2410127118864\n",
      "Peter giper picked a peck of pickled peppers. 2410127119536\n"
     ]
    }
   ],
   "source": [
    "# String is immutable type\n",
    "#     1. Item assignment is not possible\n",
    "#     2. A new object gets created if we apply any method on the existing string object\n",
    "    \n",
    "my_str =  'Peter piper picked a peck of pickled peppers.'\n",
    "print(my_str, id(my_str))\n",
    "# # my_str[0] = 'J'   # TypeError: 'str' object does not support item assignment\n",
    "# print(my_str, id(my_str))\n",
    "my_str = my_str.replace('piper', 'giper')\n",
    "# print(my_str, id(my_str))\n",
    "# print(new_str, id(new_str))\n",
    "print(my_str, id(my_str))"
   ]
  },
  {
   "cell_type": "code",
   "execution_count": 82,
   "metadata": {
    "ExecuteTime": {
     "end_time": "2020-12-19T08:31:30.420847Z",
     "start_time": "2020-12-19T08:31:30.407056Z"
    }
   },
   "outputs": [
    {
     "name": "stdout",
     "output_type": "stream",
     "text": [
      "True\n",
      "4410456248\n",
      "4410456248\n",
      "True\n",
      "4410829040\n",
      "4410829040\n"
     ]
    }
   ],
   "source": [
    "# String follows object reusabilty concept\n",
    "# string - A-Z, a-z, 0-9, _\n",
    "\n",
    "s1 = 'Python'\n",
    "s2 = 'Python'\n",
    "print(s1 is s2)\n",
    "print(id(s1))\n",
    "print(id(s2))\n",
    "\n",
    "print(s1[0] is s2[0])\n",
    "print(id(s1[0]))\n",
    "print(id(s2[0]))"
   ]
  },
  {
   "cell_type": "code",
   "execution_count": 88,
   "metadata": {
    "ExecuteTime": {
     "end_time": "2020-12-19T08:38:39.255487Z",
     "start_time": "2020-12-19T08:38:39.244968Z"
    }
   },
   "outputs": [
    {
     "name": "stdout",
     "output_type": "stream",
     "text": [
      "False\n",
      "4482832344\n",
      "4482832848\n",
      "\n",
      "True\n",
      "4410814280\n",
      "4410814280\n"
     ]
    }
   ],
   "source": [
    "s11 = 'Python$'\n",
    "s12 = 'Python$'\n",
    "print(s11 is s12)\n",
    "print(id(s11))\n",
    "print(id(s12))\n",
    "print()\n",
    "print(s11[-1] is s12[-1])\n",
    "print(id(s11[-1]))\n",
    "print(id(s12[-1]))"
   ]
  },
  {
   "cell_type": "code",
   "execution_count": null,
   "metadata": {},
   "outputs": [],
   "source": [
    "s11 = 'Python$'\n",
    "s12 = 'Jython$'\n",
    "print(s11 is s12)\n",
    "print(id(s11))\n",
    "print(id(s12))\n",
    "print()\n",
    "print(s11[-1] is s12[-1])\n",
    "print(id(s11[-1]))\n",
    "print(id(s12[-1]))"
   ]
  },
  {
   "cell_type": "code",
   "execution_count": 89,
   "metadata": {
    "ExecuteTime": {
     "end_time": "2020-12-19T08:44:00.126636Z",
     "start_time": "2020-12-19T08:44:00.120397Z"
    }
   },
   "outputs": [
    {
     "name": "stdout",
     "output_type": "stream",
     "text": [
      "['__add__', '__class__', '__contains__', '__delattr__', '__dir__', '__doc__', '__eq__', '__format__', '__ge__', '__getattribute__', '__getitem__', '__getnewargs__', '__gt__', '__hash__', '__init__', '__init_subclass__', '__iter__', '__le__', '__len__', '__lt__', '__mod__', '__mul__', '__ne__', '__new__', '__reduce__', '__reduce_ex__', '__repr__', '__rmod__', '__rmul__', '__setattr__', '__sizeof__', '__str__', '__subclasshook__', 'capitalize', 'casefold', 'center', 'count', 'encode', 'endswith', 'expandtabs', 'find', 'format', 'format_map', 'index', 'isalnum', 'isalpha', 'isascii', 'isdecimal', 'isdigit', 'isidentifier', 'islower', 'isnumeric', 'isprintable', 'isspace', 'istitle', 'isupper', 'join', 'ljust', 'lower', 'lstrip', 'maketrans', 'partition', 'replace', 'rfind', 'rindex', 'rjust', 'rpartition', 'rsplit', 'rstrip', 'split', 'splitlines', 'startswith', 'strip', 'swapcase', 'title', 'translate', 'upper', 'zfill']\n"
     ]
    }
   ],
   "source": [
    "# String methods\n",
    "print(dir(str))\n",
    "\n",
    "# 'capitalize', 'casefold', 'center', 'count', 'encode', 'endswith', 'expandtabs', 'find', 'format', 'format_map', \n",
    "# 'index', 'isalnum', 'isalpha', 'isascii', 'isdecimal', 'isdigit', 'isidentifier', 'islower', 'isnumeric', \n",
    "# 'isprintable', 'isspace', 'istitle', 'isupper', 'join', 'ljust', 'lower', 'lstrip', 'maketrans', 'partition', \n",
    "# 'replace', 'rfind', 'rindex', 'rjust', 'rpartition', 'rsplit', 'rstrip', 'split', 'splitlines', 'startswith', \n",
    "# 'strip', 'swapcase', 'title', 'translate', 'upper', 'zfill'"
   ]
  },
  {
   "cell_type": "code",
   "execution_count": 17,
   "metadata": {
    "ExecuteTime": {
     "end_time": "2020-12-19T08:48:40.872611Z",
     "start_time": "2020-12-19T08:48:40.861710Z"
    }
   },
   "outputs": [
    {
     "name": "stdout",
     "output_type": "stream",
     "text": [
      "peter piper picked a peck of pickled peppers. 2410127121168\n",
      "Peter piper picked a peck of pickled peppers.\n",
      "peter piper picked a peck of pickled peppers. 2410127121168\n"
     ]
    }
   ],
   "source": [
    "# capitalize, casefold, lower, upper, swapcase, title, \n",
    "\n",
    "my_str =  'peter piper picked a peck of pickled peppers.'\n",
    "# print(my_str.capitalize())\n",
    "# print(my_str.title())\n",
    "# print(my_str.upper())\n",
    "# print(my_str.lower())\n",
    "\n",
    "# new_str = my_str.title()\n",
    "# print(new_str)\n",
    "# print(new_str.swapcase())\n",
    "\n",
    "my_str = 'fließen'\n",
    "print(my_str.lower())\n",
    "print(my_str.casefold())\n",
    "\n"
   ]
  },
  {
   "cell_type": "code",
   "execution_count": 114,
   "metadata": {
    "ExecuteTime": {
     "end_time": "2020-12-19T08:57:34.776120Z",
     "start_time": "2020-12-19T08:57:34.771487Z"
    }
   },
   "outputs": [],
   "source": [
    "# 'isalnum', 'isalpha', 'isascii', 'isidentifier', 'islower', 'isnumeric', \n",
    "# 'isprintable', 'isspace', 'istitle', 'isupper'\n",
    "# These all methods returns boolean value - islower(), isupper(), istitle()\n",
    "\n",
    "# isalnum() - returns True if string is either Alpha or numeric or alphanumeric\n",
    "# isalpha() - returns True if string is alphabet\n",
    "\n",
    "\n",
    "s1 = 'Python'\n",
    "s2 = '9823427'\n",
    "s3 = 'Python3.67'\n",
    "s4 = 'fließen'\n",
    "# print(s1.isalpha())\n",
    "# print(s2.isalpha())\n",
    "# print(s3.isalpha())\n",
    "# print(s4.isalpha())\n",
    "\n",
    "# print(s1.isalnum())\n",
    "# print(s2.isalnum())\n",
    "# print(s3.isalnum())\n",
    "# print(s4.isalnum())\n",
    "\n",
    "\n",
    "# print(s1.isascii())\n",
    "# print(s4.isascii())\n",
    "\n",
    "\n",
    "# isidentifier returns True if it is valid identifier - exception - for keywords\n",
    "# print('num'.isidentifier())\n",
    "# print('num1'.isidentifier())\n",
    "# print('2num1'.isidentifier())\n",
    "# print('for'.isidentifier())\n",
    "\n",
    "\n",
    "# print(s2.isnumeric())\n",
    "\n",
    "# s1 = 'This is \\nPython class'\n",
    "# s2 = r'This is \\nPython class'\n",
    "# print(s1.isprintable())\n",
    "\n",
    "# print(s2.isprintable())\n",
    "\n",
    "# print('\\n\\t \\r'.isspace())\n",
    "\n"
   ]
  },
  {
   "cell_type": "code",
   "execution_count": 117,
   "metadata": {
    "ExecuteTime": {
     "end_time": "2020-12-19T09:20:23.060360Z",
     "start_time": "2020-12-19T09:20:23.052341Z"
    }
   },
   "outputs": [
    {
     "name": "stdout",
     "output_type": "stream",
     "text": [
      "Peter piper     picked a peck        of pickled peppers.\n",
      "     Peter piper     picked a peck        of pickled peppers.\n",
      "Peter piper     picked a peck        of pickled peppers.         \n"
     ]
    }
   ],
   "source": [
    "# strip, lstrip, rstrip - used to remove the unneccessary spaces from string\n",
    "# Does not remove the string from the middle of the string\n",
    "\n",
    "my_str = '     Peter piper     picked a peck        of pickled peppers.         '\n",
    "print(my_str.strip())\n",
    "print(my_str.rstrip())\n",
    "print(my_str.lstrip())\n"
   ]
  },
  {
   "cell_type": "code",
   "execution_count": 123,
   "metadata": {
    "ExecuteTime": {
     "end_time": "2020-12-19T09:23:05.316525Z",
     "start_time": "2020-12-19T09:23:05.305188Z"
    }
   },
   "outputs": [
    {
     "name": "stdout",
     "output_type": "stream",
     "text": [
      "True\n",
      "True\n"
     ]
    }
   ],
   "source": [
    "# startswith and endswith\n",
    "\n",
    "my_str = 'Peter piper picked a peck of pickled peppers'\n",
    "# print(my_str.startswith('P'))\n",
    "# print(my_str.startswith('Peter'))\n",
    "# print(my_str.startswith('Piper'))\n",
    "# print()\n",
    "\n",
    "print(my_str.endswith('peppers'))\n",
    "print(my_str.endswith('s'))\n"
   ]
  },
  {
   "cell_type": "code",
   "execution_count": 125,
   "metadata": {
    "ExecuteTime": {
     "end_time": "2020-12-19T09:24:50.803019Z",
     "start_time": "2020-12-19T09:24:50.796763Z"
    }
   },
   "outputs": [
    {
     "name": "stdout",
     "output_type": "stream",
     "text": [
      "['Peter', 'piper', 'picked', 'a', 'peck', 'of', 'pickled', 'peppers']\n"
     ]
    }
   ],
   "source": [
    "my_str = 'Peter piper picked a peck of pickled peppers'\n",
    "lst = my_str.split()\n",
    "print(lst)"
   ]
  },
  {
   "cell_type": "code",
   "execution_count": 127,
   "metadata": {
    "ExecuteTime": {
     "end_time": "2020-12-19T09:25:18.290418Z",
     "start_time": "2020-12-19T09:25:18.283216Z"
    }
   },
   "outputs": [
    {
     "data": {
      "text/plain": [
       "'peppers pickled of peck a picked piper Peter'"
      ]
     },
     "execution_count": 127,
     "metadata": {},
     "output_type": "execute_result"
    }
   ],
   "source": [
    "' '.join(lst[::-1])"
   ]
  },
  {
   "cell_type": "code",
   "execution_count": 136,
   "metadata": {
    "ExecuteTime": {
     "end_time": "2020-12-19T09:28:46.176789Z",
     "start_time": "2020-12-19T09:28:46.169549Z"
    }
   },
   "outputs": [],
   "source": [
    "# find and index - they both returns the index of the given substring\n",
    "# returns the index of the first occurrence of the given sub string\n",
    "\n",
    "# If substring is not found then find returns -1 and index returns valueerror\n",
    "\n",
    "my_str = 'Peter Piper picked a Peck of Pickled peppers'\n",
    "# print(my_str.find('P'))\n",
    "# print(my_str.find('Pe'))\n",
    "# print(my_str.find('Pi'))\n",
    "# print(my_str.find('g'))\n",
    "\n",
    "\n",
    "\n",
    "# print(my_str.index('P'))\n",
    "# print(my_str.index('Pe'))\n",
    "# print(my_str.index('Pi'))\n",
    "# print(my_str.index('g'))"
   ]
  },
  {
   "cell_type": "markdown",
   "metadata": {},
   "source": [
    "# List"
   ]
  },
  {
   "cell_type": "code",
   "execution_count": 137,
   "metadata": {
    "ExecuteTime": {
     "end_time": "2020-12-19T09:32:28.812776Z",
     "start_time": "2020-12-19T09:32:28.803390Z"
    }
   },
   "outputs": [
    {
     "name": "stdout",
     "output_type": "stream",
     "text": [
      "[10, 20.3, (30+40j), 'Python', {1, 2, 3}, {1: 100, 'A': 'Python'}, None, True, [10, 20, 30]] <class 'list'>\n"
     ]
    }
   ],
   "source": [
    "# List is a collection of different type of objects\n",
    "# Anything kept inside square bracket separated by comma is list\n",
    "\n",
    "lst = [10,20.30,30+40j,'Python', {1,2,3}, {1:100, 'A':'Python'}, None,True, [10,20,30]]\n",
    "print(lst,type(lst))\n"
   ]
  },
  {
   "cell_type": "code",
   "execution_count": 138,
   "metadata": {
    "ExecuteTime": {
     "end_time": "2020-12-19T09:33:41.042558Z",
     "start_time": "2020-12-19T09:33:41.036121Z"
    }
   },
   "outputs": [
    {
     "name": "stdout",
     "output_type": "stream",
     "text": [
      "[10, 10.2, (10+20j), 'Python', 10, 200, 'Python', (10+20j)]\n"
     ]
    }
   ],
   "source": [
    "# List is collection of heterogeneous elements\n",
    "# List can also have duplicate elements\n",
    "lst = [10,10.20, 10+20j,'Python', 10,200, 'Python', 10+20j]\n",
    "print(lst)"
   ]
  },
  {
   "cell_type": "code",
   "execution_count": null,
   "metadata": {},
   "outputs": [],
   "source": [
    "# List also supports +ve and -ve indexing\n",
    "# List also supports slicing"
   ]
  },
  {
   "cell_type": "code",
   "execution_count": 152,
   "metadata": {
    "ExecuteTime": {
     "end_time": "2020-12-19T09:40:16.607024Z",
     "start_time": "2020-12-19T09:40:16.599685Z"
    }
   },
   "outputs": [],
   "source": [
    "lst = [10,20.30,30+40j,'Python', {1,2,3}, {1:100, 'A':'Python'}, None,True, [10,20,30]]\n",
    "# print(lst[0])\n",
    "# print(lst[-(len(lst))])\n",
    "\n",
    "# print(lst[-1])\n",
    "# print(lst[len(lst)-1])"
   ]
  },
  {
   "cell_type": "code",
   "execution_count": 141,
   "metadata": {
    "ExecuteTime": {
     "end_time": "2020-12-19T09:35:34.941329Z",
     "start_time": "2020-12-19T09:35:34.929907Z"
    }
   },
   "outputs": [
    {
     "data": {
      "text/plain": [
       "['Python', {1, 2, 3}, {1: 100, 'A': 'Python'}]"
      ]
     },
     "execution_count": 141,
     "metadata": {},
     "output_type": "execute_result"
    }
   ],
   "source": [
    "lst[3:6]"
   ]
  },
  {
   "cell_type": "code",
   "execution_count": 145,
   "metadata": {
    "ExecuteTime": {
     "end_time": "2020-12-19T09:36:46.262862Z",
     "start_time": "2020-12-19T09:36:46.254551Z"
    }
   },
   "outputs": [
    {
     "name": "stdout",
     "output_type": "stream",
     "text": [
      "[10, 20.3, (30+40j), 'Python', {1, 2, 3}, {1: 100, 'A': 'Python'}, None, True, [10, 20, 30]]\n",
      "[10, (30+40j), {1, 2, 3}, None, [10, 20, 30]]\n",
      "[10, 'Python', None]\n"
     ]
    }
   ],
   "source": [
    "print(lst[::1])\n",
    "print(lst[::2])\n",
    "print(lst[::3])"
   ]
  },
  {
   "cell_type": "code",
   "execution_count": 146,
   "metadata": {
    "ExecuteTime": {
     "end_time": "2020-12-19T09:36:57.969543Z",
     "start_time": "2020-12-19T09:36:57.962864Z"
    }
   },
   "outputs": [
    {
     "name": "stdout",
     "output_type": "stream",
     "text": [
      "[[10, 20, 30], True, None, {1: 100, 'A': 'Python'}, {1, 2, 3}, 'Python', (30+40j), 20.3, 10]\n",
      "[[10, 20, 30], None, {1, 2, 3}, (30+40j), 10]\n",
      "[[10, 20, 30], {1: 100, 'A': 'Python'}, (30+40j)]\n"
     ]
    }
   ],
   "source": [
    "print(lst[::-1])\n",
    "print(lst[::-2])\n",
    "print(lst[::-3])"
   ]
  },
  {
   "cell_type": "code",
   "execution_count": 154,
   "metadata": {
    "ExecuteTime": {
     "end_time": "2020-12-19T09:40:31.262647Z",
     "start_time": "2020-12-19T09:40:31.254038Z"
    }
   },
   "outputs": [
    {
     "name": "stdout",
     "output_type": "stream",
     "text": [
      "[10, 20.3, (30+40j), 'Python', {1, 2, 3}, {1: 100, 'A': 'Python'}, None, True, [10, 20, 30]] 4482764104\n"
     ]
    }
   ],
   "source": [
    "# List is mutable object\n",
    "\n",
    "\n",
    "# lst[0] = 100\n",
    "# print(lst)\n",
    "\n",
    "print(lst,id(lst))\n",
    "\n",
    "\n"
   ]
  },
  {
   "cell_type": "code",
   "execution_count": 155,
   "metadata": {
    "ExecuteTime": {
     "end_time": "2020-12-19T09:40:46.496415Z",
     "start_time": "2020-12-19T09:40:46.491131Z"
    }
   },
   "outputs": [],
   "source": [
    "lst.append(4482764104)"
   ]
  },
  {
   "cell_type": "code",
   "execution_count": 156,
   "metadata": {
    "ExecuteTime": {
     "end_time": "2020-12-19T09:40:48.107788Z",
     "start_time": "2020-12-19T09:40:48.102495Z"
    }
   },
   "outputs": [
    {
     "name": "stdout",
     "output_type": "stream",
     "text": [
      "[10, 20.3, (30+40j), 'Python', {1, 2, 3}, {1: 100, 'A': 'Python'}, None, True, [10, 20, 30], 4482764104] 4482764104\n"
     ]
    }
   ],
   "source": [
    "print(lst,id(lst))"
   ]
  },
  {
   "cell_type": "markdown",
   "metadata": {},
   "source": [
    "# Concatenation, Repetition, Membership"
   ]
  },
  {
   "cell_type": "code",
   "execution_count": 158,
   "metadata": {
    "ExecuteTime": {
     "end_time": "2020-12-19T09:43:27.672682Z",
     "start_time": "2020-12-19T09:43:27.669298Z"
    }
   },
   "outputs": [],
   "source": [
    "# Concatenation \n",
    "#     1. Both should be list type\n",
    "#     2. +\n",
    "# lst1 = [10,20,30]\n",
    "# lst2 = [1,2,3]\n",
    "# print(lst1+lst2)\n",
    "\n"
   ]
  },
  {
   "cell_type": "code",
   "execution_count": 159,
   "metadata": {
    "ExecuteTime": {
     "end_time": "2020-12-19T09:43:56.208975Z",
     "start_time": "2020-12-19T09:43:56.196545Z"
    }
   },
   "outputs": [
    {
     "name": "stdout",
     "output_type": "stream",
     "text": [
      "['__add__', '__class__', '__contains__', '__delattr__', '__delitem__', '__dir__', '__doc__', '__eq__', '__format__', '__ge__', '__getattribute__', '__getitem__', '__gt__', '__hash__', '__iadd__', '__imul__', '__init__', '__init_subclass__', '__iter__', '__le__', '__len__', '__lt__', '__mul__', '__ne__', '__new__', '__reduce__', '__reduce_ex__', '__repr__', '__reversed__', '__rmul__', '__setattr__', '__setitem__', '__sizeof__', '__str__', '__subclasshook__', 'append', 'clear', 'copy', 'count', 'extend', 'index', 'insert', 'pop', 'remove', 'reverse', 'sort']\n"
     ]
    }
   ],
   "source": [
    "print(dir(list))\n",
    "\n",
    "# 'copy',  "
   ]
  },
  {
   "cell_type": "code",
   "execution_count": 160,
   "metadata": {
    "ExecuteTime": {
     "end_time": "2020-12-19T09:45:15.190563Z",
     "start_time": "2020-12-19T09:45:15.185512Z"
    }
   },
   "outputs": [],
   "source": [
    "# 'append', 'insert', 'extend'\n",
    "lst = [10,20,30,1,2,3]\n",
    "lst.append(100)\n",
    "\n",
    "\n"
   ]
  },
  {
   "cell_type": "code",
   "execution_count": 161,
   "metadata": {
    "ExecuteTime": {
     "end_time": "2020-12-19T09:45:20.899756Z",
     "start_time": "2020-12-19T09:45:20.894006Z"
    }
   },
   "outputs": [
    {
     "name": "stdout",
     "output_type": "stream",
     "text": [
      "[10, 20, 30, 1, 2, 3, 100]\n"
     ]
    }
   ],
   "source": [
    "print(lst)"
   ]
  },
  {
   "cell_type": "code",
   "execution_count": 162,
   "metadata": {
    "ExecuteTime": {
     "end_time": "2020-12-19T09:45:35.311169Z",
     "start_time": "2020-12-19T09:45:35.302663Z"
    }
   },
   "outputs": [],
   "source": [
    "lst.append([100,200,300])"
   ]
  },
  {
   "cell_type": "code",
   "execution_count": 163,
   "metadata": {
    "ExecuteTime": {
     "end_time": "2020-12-19T09:45:37.259386Z",
     "start_time": "2020-12-19T09:45:37.250421Z"
    }
   },
   "outputs": [
    {
     "data": {
      "text/plain": [
       "[10, 20, 30, 1, 2, 3, 100, [100, 200, 300]]"
      ]
     },
     "execution_count": 163,
     "metadata": {},
     "output_type": "execute_result"
    }
   ],
   "source": [
    "lst"
   ]
  },
  {
   "cell_type": "code",
   "execution_count": 164,
   "metadata": {
    "ExecuteTime": {
     "end_time": "2020-12-19T09:46:18.441492Z",
     "start_time": "2020-12-19T09:46:18.436571Z"
    }
   },
   "outputs": [],
   "source": [
    "lst1 = [10,20,30]\n",
    "lst2 = [1,2,3]\n",
    "lst1.extend(lst2)"
   ]
  },
  {
   "cell_type": "code",
   "execution_count": 165,
   "metadata": {
    "ExecuteTime": {
     "end_time": "2020-12-19T09:46:22.079382Z",
     "start_time": "2020-12-19T09:46:22.071258Z"
    }
   },
   "outputs": [
    {
     "data": {
      "text/plain": [
       "[10, 20, 30, 1, 2, 3]"
      ]
     },
     "execution_count": 165,
     "metadata": {},
     "output_type": "execute_result"
    }
   ],
   "source": [
    "lst1"
   ]
  },
  {
   "cell_type": "code",
   "execution_count": 166,
   "metadata": {
    "ExecuteTime": {
     "end_time": "2020-12-19T09:48:19.418709Z",
     "start_time": "2020-12-19T09:48:19.412983Z"
    }
   },
   "outputs": [],
   "source": [
    "lst1 = [1, 20, 30, 40, 50, 1,2, 3]\n",
    "lst2 = [1, 20, 30, 40, 50, 1,2, 3,6, 5]\n",
    "lst1.extend(lst2)"
   ]
  },
  {
   "cell_type": "code",
   "execution_count": 167,
   "metadata": {
    "ExecuteTime": {
     "end_time": "2020-12-19T09:48:21.199037Z",
     "start_time": "2020-12-19T09:48:21.189141Z"
    }
   },
   "outputs": [
    {
     "data": {
      "text/plain": [
       "[1, 20, 30, 40, 50, 1, 2, 3, 1, 20, 30, 40, 50, 1, 2, 3, 6, 5]"
      ]
     },
     "execution_count": 167,
     "metadata": {},
     "output_type": "execute_result"
    }
   ],
   "source": [
    "lst1"
   ]
  },
  {
   "cell_type": "code",
   "execution_count": 168,
   "metadata": {
    "ExecuteTime": {
     "end_time": "2020-12-19T09:49:10.137908Z",
     "start_time": "2020-12-19T09:49:10.123826Z"
    }
   },
   "outputs": [
    {
     "data": {
      "text/plain": [
       "[10,\n",
       " 20.3,\n",
       " (30+40j),\n",
       " 'Python',\n",
       " {1, 2, 3},\n",
       " {1: 100, 'A': 'Python'},\n",
       " None,\n",
       " True,\n",
       " [10, 20, 30]]"
      ]
     },
     "execution_count": 168,
     "metadata": {},
     "output_type": "execute_result"
    }
   ],
   "source": [
    "lst1 = [10, 20.3, (30+40j), 'Python', {1, 2, 3}, {1: 100, 'A': 'Python'}, None, True, [10, 20, 30]]\n",
    "lst1"
   ]
  },
  {
   "cell_type": "code",
   "execution_count": 170,
   "metadata": {
    "ExecuteTime": {
     "end_time": "2020-12-19T09:49:44.527173Z",
     "start_time": "2020-12-19T09:49:44.522764Z"
    }
   },
   "outputs": [],
   "source": [
    "lst1.insert(3,False)"
   ]
  },
  {
   "cell_type": "code",
   "execution_count": 171,
   "metadata": {
    "ExecuteTime": {
     "end_time": "2020-12-19T09:49:46.447467Z",
     "start_time": "2020-12-19T09:49:46.437695Z"
    }
   },
   "outputs": [
    {
     "data": {
      "text/plain": [
       "[10,\n",
       " 20.3,\n",
       " (30+40j),\n",
       " False,\n",
       " 'Python',\n",
       " {1, 2, 3},\n",
       " {1: 100, 'A': 'Python'},\n",
       " None,\n",
       " True,\n",
       " [10, 20, 30]]"
      ]
     },
     "execution_count": 171,
     "metadata": {},
     "output_type": "execute_result"
    }
   ],
   "source": [
    "lst1"
   ]
  },
  {
   "cell_type": "code",
   "execution_count": 173,
   "metadata": {
    "ExecuteTime": {
     "end_time": "2020-12-19T09:51:03.912497Z",
     "start_time": "2020-12-19T09:51:03.900912Z"
    }
   },
   "outputs": [
    {
     "data": {
      "text/plain": [
       "[10, 20, 30]"
      ]
     },
     "execution_count": 173,
     "metadata": {},
     "output_type": "execute_result"
    }
   ],
   "source": [
    "# pop, remove, clear\n",
    "lst1.pop()\n",
    "\n",
    "\n"
   ]
  },
  {
   "cell_type": "code",
   "execution_count": 174,
   "metadata": {
    "ExecuteTime": {
     "end_time": "2020-12-19T09:51:09.446081Z",
     "start_time": "2020-12-19T09:51:09.434771Z"
    }
   },
   "outputs": [
    {
     "data": {
      "text/plain": [
       "[10,\n",
       " 20.3,\n",
       " (30+40j),\n",
       " False,\n",
       " 'Python',\n",
       " {1, 2, 3},\n",
       " {1: 100, 'A': 'Python'},\n",
       " None,\n",
       " True]"
      ]
     },
     "execution_count": 174,
     "metadata": {},
     "output_type": "execute_result"
    }
   ],
   "source": [
    "lst1"
   ]
  },
  {
   "cell_type": "code",
   "execution_count": 175,
   "metadata": {
    "ExecuteTime": {
     "end_time": "2020-12-19T09:51:30.630593Z",
     "start_time": "2020-12-19T09:51:30.620891Z"
    }
   },
   "outputs": [
    {
     "data": {
      "text/plain": [
       "False"
      ]
     },
     "execution_count": 175,
     "metadata": {},
     "output_type": "execute_result"
    }
   ],
   "source": [
    "lst1.pop(3)"
   ]
  },
  {
   "cell_type": "code",
   "execution_count": 176,
   "metadata": {
    "ExecuteTime": {
     "end_time": "2020-12-19T09:51:35.968293Z",
     "start_time": "2020-12-19T09:51:35.950327Z"
    }
   },
   "outputs": [
    {
     "data": {
      "text/plain": [
       "[10, 20.3, (30+40j), 'Python', {1, 2, 3}, {1: 100, 'A': 'Python'}, None, True]"
      ]
     },
     "execution_count": 176,
     "metadata": {},
     "output_type": "execute_result"
    }
   ],
   "source": [
    "lst1"
   ]
  },
  {
   "cell_type": "code",
   "execution_count": 178,
   "metadata": {
    "ExecuteTime": {
     "end_time": "2020-12-19T09:52:05.010121Z",
     "start_time": "2020-12-19T09:52:05.005234Z"
    }
   },
   "outputs": [],
   "source": [
    "lst1.remove({1, 2, 3})"
   ]
  },
  {
   "cell_type": "code",
   "execution_count": 179,
   "metadata": {
    "ExecuteTime": {
     "end_time": "2020-12-19T09:52:08.365045Z",
     "start_time": "2020-12-19T09:52:08.354514Z"
    }
   },
   "outputs": [
    {
     "data": {
      "text/plain": [
       "[10, 20.3, (30+40j), 'Python', {1: 100, 'A': 'Python'}, None, True]"
      ]
     },
     "execution_count": 179,
     "metadata": {},
     "output_type": "execute_result"
    }
   ],
   "source": [
    "lst1"
   ]
  },
  {
   "cell_type": "code",
   "execution_count": 180,
   "metadata": {
    "ExecuteTime": {
     "end_time": "2020-12-19T09:53:17.737761Z",
     "start_time": "2020-12-19T09:53:17.732874Z"
    }
   },
   "outputs": [],
   "source": [
    "lst1.clear()"
   ]
  },
  {
   "cell_type": "code",
   "execution_count": 181,
   "metadata": {
    "ExecuteTime": {
     "end_time": "2020-12-19T09:53:19.997450Z",
     "start_time": "2020-12-19T09:53:19.990002Z"
    }
   },
   "outputs": [
    {
     "data": {
      "text/plain": [
       "[]"
      ]
     },
     "execution_count": 181,
     "metadata": {},
     "output_type": "execute_result"
    }
   ],
   "source": [
    "lst1"
   ]
  },
  {
   "cell_type": "markdown",
   "metadata": {},
   "source": [
    "# 'count', 'index',"
   ]
  },
  {
   "cell_type": "code",
   "execution_count": 183,
   "metadata": {
    "ExecuteTime": {
     "end_time": "2020-12-19T09:54:57.732661Z",
     "start_time": "2020-12-19T09:54:57.718675Z"
    }
   },
   "outputs": [
    {
     "data": {
      "text/plain": [
       "5"
      ]
     },
     "execution_count": 183,
     "metadata": {},
     "output_type": "execute_result"
    }
   ],
   "source": [
    "my_str = 'peter piper picked a peck of Pickled peppers'\n",
    "my_str.count('pe')"
   ]
  },
  {
   "cell_type": "code",
   "execution_count": 184,
   "metadata": {
    "ExecuteTime": {
     "end_time": "2020-12-19T09:55:29.038936Z",
     "start_time": "2020-12-19T09:55:29.031296Z"
    }
   },
   "outputs": [
    {
     "data": {
      "text/plain": [
       "5"
      ]
     },
     "execution_count": 184,
     "metadata": {},
     "output_type": "execute_result"
    }
   ],
   "source": [
    "lst = [10,20,10,1,200,21,10,1,100,10,12,100,10]\n",
    "lst.count(10)"
   ]
  },
  {
   "cell_type": "code",
   "execution_count": 186,
   "metadata": {
    "ExecuteTime": {
     "end_time": "2020-12-19T09:55:57.159718Z",
     "start_time": "2020-12-19T09:55:57.151982Z"
    }
   },
   "outputs": [
    {
     "data": {
      "text/plain": [
       "8"
      ]
     },
     "execution_count": 186,
     "metadata": {},
     "output_type": "execute_result"
    }
   ],
   "source": [
    "lst.index(100)"
   ]
  },
  {
   "cell_type": "code",
   "execution_count": 187,
   "metadata": {
    "ExecuteTime": {
     "end_time": "2020-12-19T09:56:31.191923Z",
     "start_time": "2020-12-19T09:56:31.181139Z"
    }
   },
   "outputs": [],
   "source": [
    "# 'reverse', 'sort'\n",
    "lst.reverse()\n",
    "\n",
    "\n",
    "\n",
    "\n"
   ]
  },
  {
   "cell_type": "code",
   "execution_count": 188,
   "metadata": {
    "ExecuteTime": {
     "end_time": "2020-12-19T09:56:32.960572Z",
     "start_time": "2020-12-19T09:56:32.953005Z"
    }
   },
   "outputs": [
    {
     "data": {
      "text/plain": [
       "[10, 100, 12, 10, 100, 1, 10, 21, 200, 1, 10, 20, 10]"
      ]
     },
     "execution_count": 188,
     "metadata": {},
     "output_type": "execute_result"
    }
   ],
   "source": [
    "lst"
   ]
  },
  {
   "cell_type": "code",
   "execution_count": 191,
   "metadata": {
    "ExecuteTime": {
     "end_time": "2020-12-19T09:57:20.057105Z",
     "start_time": "2020-12-19T09:57:20.052459Z"
    }
   },
   "outputs": [],
   "source": [
    "lst.sort(reverse = True)"
   ]
  },
  {
   "cell_type": "code",
   "execution_count": 192,
   "metadata": {
    "ExecuteTime": {
     "end_time": "2020-12-19T09:57:22.036036Z",
     "start_time": "2020-12-19T09:57:22.020593Z"
    }
   },
   "outputs": [
    {
     "data": {
      "text/plain": [
       "[200, 100, 100, 21, 20, 12, 10, 10, 10, 10, 10, 1, 1]"
      ]
     },
     "execution_count": 192,
     "metadata": {},
     "output_type": "execute_result"
    }
   ],
   "source": [
    "lst"
   ]
  },
  {
   "cell_type": "code",
   "execution_count": 195,
   "metadata": {
    "ExecuteTime": {
     "end_time": "2020-12-19T09:59:42.392145Z",
     "start_time": "2020-12-19T09:59:42.384376Z"
    }
   },
   "outputs": [
    {
     "data": {
      "text/plain": [
       "['a', 'aa', 'ab', 'abc', 'abcde', 'abdr']"
      ]
     },
     "execution_count": 195,
     "metadata": {},
     "output_type": "execute_result"
    }
   ],
   "source": [
    "lst = ['abc', 'a','abdr', 'ab', 'aa', 'abcde']\n",
    "lst.sort()\n",
    "lst"
   ]
  }
 ],
 "metadata": {
  "kernelspec": {
   "display_name": "Python 3",
   "language": "python",
   "name": "python3"
  },
  "language_info": {
   "codemirror_mode": {
    "name": "ipython",
    "version": 3
   },
   "file_extension": ".py",
   "mimetype": "text/x-python",
   "name": "python",
   "nbconvert_exporter": "python",
   "pygments_lexer": "ipython3",
   "version": "3.8.3"
  },
  "varInspector": {
   "cols": {
    "lenName": 16,
    "lenType": 16,
    "lenVar": 40
   },
   "kernels_config": {
    "python": {
     "delete_cmd_postfix": "",
     "delete_cmd_prefix": "del ",
     "library": "var_list.py",
     "varRefreshCmd": "print(var_dic_list())"
    },
    "r": {
     "delete_cmd_postfix": ") ",
     "delete_cmd_prefix": "rm(",
     "library": "var_list.r",
     "varRefreshCmd": "cat(var_dic_list()) "
    }
   },
   "types_to_exclude": [
    "module",
    "function",
    "builtin_function_or_method",
    "instance",
    "_Feature"
   ],
   "window_display": false
  }
 },
 "nbformat": 4,
 "nbformat_minor": 2
}
