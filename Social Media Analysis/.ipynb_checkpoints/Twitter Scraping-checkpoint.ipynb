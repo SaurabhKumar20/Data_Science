{
 "cells": [
  {
   "cell_type": "code",
   "execution_count": 1,
   "id": "9a0efc12",
   "metadata": {
    "ExecuteTime": {
     "end_time": "2022-09-21T17:01:25.774118Z",
     "start_time": "2022-09-21T17:01:18.986712Z"
    }
   },
   "outputs": [
    {
     "name": "stdout",
     "output_type": "stream",
     "text": [
      "Collecting snscrape\n",
      "  Downloading snscrape-0.4.3.20220106-py3-none-any.whl (59 kB)\n",
      "Requirement already satisfied: pytz in c:\\programdata\\anaconda3\\lib\\site-packages (from snscrape) (2021.1)\n",
      "Requirement already satisfied: lxml in c:\\programdata\\anaconda3\\lib\\site-packages (from snscrape) (4.6.3)\n",
      "Requirement already satisfied: beautifulsoup4 in c:\\programdata\\anaconda3\\lib\\site-packages (from snscrape) (4.9.3)\n",
      "Requirement already satisfied: filelock in c:\\programdata\\anaconda3\\lib\\site-packages (from snscrape) (3.0.12)\n",
      "Requirement already satisfied: requests[socks] in c:\\programdata\\anaconda3\\lib\\site-packages (from snscrape) (2.25.1)\n",
      "Requirement already satisfied: soupsieve>1.2 in c:\\programdata\\anaconda3\\lib\\site-packages (from beautifulsoup4->snscrape) (2.2.1)\n",
      "Requirement already satisfied: urllib3<1.27,>=1.21.1 in c:\\programdata\\anaconda3\\lib\\site-packages (from requests[socks]->snscrape) (1.26.4)\n",
      "Requirement already satisfied: certifi>=2017.4.17 in c:\\programdata\\anaconda3\\lib\\site-packages (from requests[socks]->snscrape) (2020.12.5)\n",
      "Requirement already satisfied: chardet<5,>=3.0.2 in c:\\programdata\\anaconda3\\lib\\site-packages (from requests[socks]->snscrape) (4.0.0)\n",
      "Requirement already satisfied: idna<3,>=2.5 in c:\\programdata\\anaconda3\\lib\\site-packages (from requests[socks]->snscrape) (2.10)\n",
      "Requirement already satisfied: PySocks!=1.5.7,>=1.5.6 in c:\\programdata\\anaconda3\\lib\\site-packages (from requests[socks]->snscrape) (1.7.1)\n",
      "Installing collected packages: snscrape\n",
      "Successfully installed snscrape-0.4.3.20220106\n",
      "Note: you may need to restart the kernel to use updated packages.\n"
     ]
    }
   ],
   "source": [
    "pip install snscrape"
   ]
  },
  {
   "cell_type": "code",
   "execution_count": 1,
   "id": "6120588a",
   "metadata": {
    "ExecuteTime": {
     "end_time": "2022-09-21T20:02:57.822429Z",
     "start_time": "2022-09-21T20:02:55.617776Z"
    }
   },
   "outputs": [],
   "source": [
    "import snscrape.modules.twitter as sntwitter\n",
    "import pandas as pd"
   ]
  },
  {
   "cell_type": "code",
   "execution_count": 19,
   "id": "33420026",
   "metadata": {
    "ExecuteTime": {
     "end_time": "2022-09-21T17:40:25.691558Z",
     "start_time": "2022-09-21T17:40:25.675601Z"
    }
   },
   "outputs": [],
   "source": [
    "#query='GoDaddy'\n",
    "#query=(\"(from:elonmusk) until:2020-01-01 since:2010-01-01\")\n",
    "query=(\"(from:GoDaddy) until:2022-09-21 since:2010-01-01\")\n",
    "tweets=[]\n",
    "limit=20000"
   ]
  },
  {
   "cell_type": "code",
   "execution_count": 20,
   "id": "6a11044a",
   "metadata": {
    "ExecuteTime": {
     "end_time": "2022-09-21T17:50:45.925895Z",
     "start_time": "2022-09-21T17:40:44.038991Z"
    }
   },
   "outputs": [],
   "source": [
    "for tweet in sntwitter.TwitterSearchScraper(query).get_items():\n",
    "    #print(vars(tweet))\n",
    "    #break\n",
    "    if len(tweets)==limit:\n",
    "        break\n",
    "    else:\n",
    "        tweets.append([tweet.date,tweet.user.username,tweet.content])\n",
    "\n",
    "df=pd.DataFrame(tweets, columns=['Date','User','Tweet'])"
   ]
  },
  {
   "cell_type": "code",
   "execution_count": 21,
   "id": "9274d5b9",
   "metadata": {
    "ExecuteTime": {
     "end_time": "2022-09-21T17:50:45.966571Z",
     "start_time": "2022-09-21T17:50:45.925895Z"
    }
   },
   "outputs": [
    {
     "data": {
      "text/html": [
       "<div>\n",
       "<style scoped>\n",
       "    .dataframe tbody tr th:only-of-type {\n",
       "        vertical-align: middle;\n",
       "    }\n",
       "\n",
       "    .dataframe tbody tr th {\n",
       "        vertical-align: top;\n",
       "    }\n",
       "\n",
       "    .dataframe thead th {\n",
       "        text-align: right;\n",
       "    }\n",
       "</style>\n",
       "<table border=\"1\" class=\"dataframe\">\n",
       "  <thead>\n",
       "    <tr style=\"text-align: right;\">\n",
       "      <th></th>\n",
       "      <th>Date</th>\n",
       "      <th>User</th>\n",
       "      <th>Tweet</th>\n",
       "    </tr>\n",
       "  </thead>\n",
       "  <tbody>\n",
       "    <tr>\n",
       "      <th>0</th>\n",
       "      <td>2022-09-20 22:40:05+00:00</td>\n",
       "      <td>GoDaddy</td>\n",
       "      <td>@goodhousemag Love to see this! 🙌</td>\n",
       "    </tr>\n",
       "    <tr>\n",
       "      <th>1</th>\n",
       "      <td>2022-09-20 22:24:37+00:00</td>\n",
       "      <td>GoDaddy</td>\n",
       "      <td>@BrainHarrington @mikedotwaves Appreciate the ...</td>\n",
       "    </tr>\n",
       "    <tr>\n",
       "      <th>2</th>\n",
       "      <td>2022-09-20 21:44:00+00:00</td>\n",
       "      <td>GoDaddy</td>\n",
       "      <td>@FatherWithTwins @catcerveny Thanks for the sh...</td>\n",
       "    </tr>\n",
       "    <tr>\n",
       "      <th>3</th>\n",
       "      <td>2022-09-19 21:29:47+00:00</td>\n",
       "      <td>GoDaddy</td>\n",
       "      <td>@BigGameMedia1 Glad to hear it! We appreciate ...</td>\n",
       "    </tr>\n",
       "    <tr>\n",
       "      <th>4</th>\n",
       "      <td>2022-09-18 20:48:15+00:00</td>\n",
       "      <td>GoDaddy</td>\n",
       "      <td>@DeepakSprd1965 Happy to hear this! Thanks for...</td>\n",
       "    </tr>\n",
       "    <tr>\n",
       "      <th>...</th>\n",
       "      <td>...</td>\n",
       "      <td>...</td>\n",
       "      <td>...</td>\n",
       "    </tr>\n",
       "    <tr>\n",
       "      <th>19995</th>\n",
       "      <td>2019-09-04 18:19:08+00:00</td>\n",
       "      <td>GoDaddy</td>\n",
       "      <td>@welldoneworkout That's some serious experienc...</td>\n",
       "    </tr>\n",
       "    <tr>\n",
       "      <th>19996</th>\n",
       "      <td>2019-09-04 18:18:41+00:00</td>\n",
       "      <td>GoDaddy</td>\n",
       "      <td>@JoeGunter It's our pleasure to assist you alo...</td>\n",
       "    </tr>\n",
       "    <tr>\n",
       "      <th>19997</th>\n",
       "      <td>2019-09-04 18:18:06+00:00</td>\n",
       "      <td>GoDaddy</td>\n",
       "      <td>@luxeaholic That's so great to hear! We're so ...</td>\n",
       "    </tr>\n",
       "    <tr>\n",
       "      <th>19998</th>\n",
       "      <td>2019-09-04 18:16:29+00:00</td>\n",
       "      <td>GoDaddy</td>\n",
       "      <td>@IntangibleMark It sure can! Speed is useless ...</td>\n",
       "    </tr>\n",
       "    <tr>\n",
       "      <th>19999</th>\n",
       "      <td>2019-09-04 18:14:43+00:00</td>\n",
       "      <td>GoDaddy</td>\n",
       "      <td>@GlinnPhoenicia That's a great plan! What kind...</td>\n",
       "    </tr>\n",
       "  </tbody>\n",
       "</table>\n",
       "<p>20000 rows × 3 columns</p>\n",
       "</div>"
      ],
      "text/plain": [
       "                           Date     User  \\\n",
       "0     2022-09-20 22:40:05+00:00  GoDaddy   \n",
       "1     2022-09-20 22:24:37+00:00  GoDaddy   \n",
       "2     2022-09-20 21:44:00+00:00  GoDaddy   \n",
       "3     2022-09-19 21:29:47+00:00  GoDaddy   \n",
       "4     2022-09-18 20:48:15+00:00  GoDaddy   \n",
       "...                         ...      ...   \n",
       "19995 2019-09-04 18:19:08+00:00  GoDaddy   \n",
       "19996 2019-09-04 18:18:41+00:00  GoDaddy   \n",
       "19997 2019-09-04 18:18:06+00:00  GoDaddy   \n",
       "19998 2019-09-04 18:16:29+00:00  GoDaddy   \n",
       "19999 2019-09-04 18:14:43+00:00  GoDaddy   \n",
       "\n",
       "                                                   Tweet  \n",
       "0                      @goodhousemag Love to see this! 🙌  \n",
       "1      @BrainHarrington @mikedotwaves Appreciate the ...  \n",
       "2      @FatherWithTwins @catcerveny Thanks for the sh...  \n",
       "3      @BigGameMedia1 Glad to hear it! We appreciate ...  \n",
       "4      @DeepakSprd1965 Happy to hear this! Thanks for...  \n",
       "...                                                  ...  \n",
       "19995  @welldoneworkout That's some serious experienc...  \n",
       "19996  @JoeGunter It's our pleasure to assist you alo...  \n",
       "19997  @luxeaholic That's so great to hear! We're so ...  \n",
       "19998  @IntangibleMark It sure can! Speed is useless ...  \n",
       "19999  @GlinnPhoenicia That's a great plan! What kind...  \n",
       "\n",
       "[20000 rows x 3 columns]"
      ]
     },
     "execution_count": 21,
     "metadata": {},
     "output_type": "execute_result"
    }
   ],
   "source": [
    "df"
   ]
  },
  {
   "cell_type": "code",
   "execution_count": 23,
   "id": "73e7a1ff",
   "metadata": {
    "ExecuteTime": {
     "end_time": "2022-09-21T18:14:48.625835Z",
     "start_time": "2022-09-21T18:14:48.297401Z"
    }
   },
   "outputs": [],
   "source": [
    "df.to_csv('GoDaddy 20000 Twitter tweets from 4-9-2019 to 20-9-2022.csv')"
   ]
  },
  {
   "cell_type": "code",
   "execution_count": 2,
   "id": "8fa8c2c1",
   "metadata": {
    "ExecuteTime": {
     "end_time": "2022-09-21T20:03:40.851629Z",
     "start_time": "2022-09-21T20:03:40.674304Z"
    }
   },
   "outputs": [],
   "source": [
    "df=pd.read_csv('GoDaddy 20000 Twitter tweets from 4-9-2019 to 20-9-2022.csv')"
   ]
  },
  {
   "cell_type": "code",
   "execution_count": 3,
   "id": "4d0e4334",
   "metadata": {
    "ExecuteTime": {
     "end_time": "2022-09-21T20:03:41.961244Z",
     "start_time": "2022-09-21T20:03:41.898163Z"
    }
   },
   "outputs": [
    {
     "data": {
      "text/html": [
       "<div>\n",
       "<style scoped>\n",
       "    .dataframe tbody tr th:only-of-type {\n",
       "        vertical-align: middle;\n",
       "    }\n",
       "\n",
       "    .dataframe tbody tr th {\n",
       "        vertical-align: top;\n",
       "    }\n",
       "\n",
       "    .dataframe thead th {\n",
       "        text-align: right;\n",
       "    }\n",
       "</style>\n",
       "<table border=\"1\" class=\"dataframe\">\n",
       "  <thead>\n",
       "    <tr style=\"text-align: right;\">\n",
       "      <th></th>\n",
       "      <th>Unnamed: 0</th>\n",
       "      <th>Date</th>\n",
       "      <th>User</th>\n",
       "      <th>Tweet</th>\n",
       "    </tr>\n",
       "  </thead>\n",
       "  <tbody>\n",
       "    <tr>\n",
       "      <th>0</th>\n",
       "      <td>0</td>\n",
       "      <td>2022-09-20 22:40:05+00:00</td>\n",
       "      <td>GoDaddy</td>\n",
       "      <td>@goodhousemag Love to see this! 🙌</td>\n",
       "    </tr>\n",
       "    <tr>\n",
       "      <th>1</th>\n",
       "      <td>1</td>\n",
       "      <td>2022-09-20 22:24:37+00:00</td>\n",
       "      <td>GoDaddy</td>\n",
       "      <td>@BrainHarrington @mikedotwaves Appreciate the ...</td>\n",
       "    </tr>\n",
       "    <tr>\n",
       "      <th>2</th>\n",
       "      <td>2</td>\n",
       "      <td>2022-09-20 21:44:00+00:00</td>\n",
       "      <td>GoDaddy</td>\n",
       "      <td>@FatherWithTwins @catcerveny Thanks for the sh...</td>\n",
       "    </tr>\n",
       "    <tr>\n",
       "      <th>3</th>\n",
       "      <td>3</td>\n",
       "      <td>2022-09-19 21:29:47+00:00</td>\n",
       "      <td>GoDaddy</td>\n",
       "      <td>@BigGameMedia1 Glad to hear it! We appreciate ...</td>\n",
       "    </tr>\n",
       "    <tr>\n",
       "      <th>4</th>\n",
       "      <td>4</td>\n",
       "      <td>2022-09-18 20:48:15+00:00</td>\n",
       "      <td>GoDaddy</td>\n",
       "      <td>@DeepakSprd1965 Happy to hear this! Thanks for...</td>\n",
       "    </tr>\n",
       "    <tr>\n",
       "      <th>...</th>\n",
       "      <td>...</td>\n",
       "      <td>...</td>\n",
       "      <td>...</td>\n",
       "      <td>...</td>\n",
       "    </tr>\n",
       "    <tr>\n",
       "      <th>19995</th>\n",
       "      <td>19995</td>\n",
       "      <td>2019-09-04 18:19:08+00:00</td>\n",
       "      <td>GoDaddy</td>\n",
       "      <td>@welldoneworkout That's some serious experienc...</td>\n",
       "    </tr>\n",
       "    <tr>\n",
       "      <th>19996</th>\n",
       "      <td>19996</td>\n",
       "      <td>2019-09-04 18:18:41+00:00</td>\n",
       "      <td>GoDaddy</td>\n",
       "      <td>@JoeGunter It's our pleasure to assist you alo...</td>\n",
       "    </tr>\n",
       "    <tr>\n",
       "      <th>19997</th>\n",
       "      <td>19997</td>\n",
       "      <td>2019-09-04 18:18:06+00:00</td>\n",
       "      <td>GoDaddy</td>\n",
       "      <td>@luxeaholic That's so great to hear! We're so ...</td>\n",
       "    </tr>\n",
       "    <tr>\n",
       "      <th>19998</th>\n",
       "      <td>19998</td>\n",
       "      <td>2019-09-04 18:16:29+00:00</td>\n",
       "      <td>GoDaddy</td>\n",
       "      <td>@IntangibleMark It sure can! Speed is useless ...</td>\n",
       "    </tr>\n",
       "    <tr>\n",
       "      <th>19999</th>\n",
       "      <td>19999</td>\n",
       "      <td>2019-09-04 18:14:43+00:00</td>\n",
       "      <td>GoDaddy</td>\n",
       "      <td>@GlinnPhoenicia That's a great plan! What kind...</td>\n",
       "    </tr>\n",
       "  </tbody>\n",
       "</table>\n",
       "<p>20000 rows × 4 columns</p>\n",
       "</div>"
      ],
      "text/plain": [
       "       Unnamed: 0                       Date     User  \\\n",
       "0               0  2022-09-20 22:40:05+00:00  GoDaddy   \n",
       "1               1  2022-09-20 22:24:37+00:00  GoDaddy   \n",
       "2               2  2022-09-20 21:44:00+00:00  GoDaddy   \n",
       "3               3  2022-09-19 21:29:47+00:00  GoDaddy   \n",
       "4               4  2022-09-18 20:48:15+00:00  GoDaddy   \n",
       "...           ...                        ...      ...   \n",
       "19995       19995  2019-09-04 18:19:08+00:00  GoDaddy   \n",
       "19996       19996  2019-09-04 18:18:41+00:00  GoDaddy   \n",
       "19997       19997  2019-09-04 18:18:06+00:00  GoDaddy   \n",
       "19998       19998  2019-09-04 18:16:29+00:00  GoDaddy   \n",
       "19999       19999  2019-09-04 18:14:43+00:00  GoDaddy   \n",
       "\n",
       "                                                   Tweet  \n",
       "0                      @goodhousemag Love to see this! 🙌  \n",
       "1      @BrainHarrington @mikedotwaves Appreciate the ...  \n",
       "2      @FatherWithTwins @catcerveny Thanks for the sh...  \n",
       "3      @BigGameMedia1 Glad to hear it! We appreciate ...  \n",
       "4      @DeepakSprd1965 Happy to hear this! Thanks for...  \n",
       "...                                                  ...  \n",
       "19995  @welldoneworkout That's some serious experienc...  \n",
       "19996  @JoeGunter It's our pleasure to assist you alo...  \n",
       "19997  @luxeaholic That's so great to hear! We're so ...  \n",
       "19998  @IntangibleMark It sure can! Speed is useless ...  \n",
       "19999  @GlinnPhoenicia That's a great plan! What kind...  \n",
       "\n",
       "[20000 rows x 4 columns]"
      ]
     },
     "execution_count": 3,
     "metadata": {},
     "output_type": "execute_result"
    }
   ],
   "source": [
    "#5000 tweets of Account:elonmusk from 2010 to 2020\n",
    "df"
   ]
  },
  {
   "cell_type": "code",
   "execution_count": 15,
   "id": "0aa6e071",
   "metadata": {
    "ExecuteTime": {
     "end_time": "2022-09-21T17:15:55.155082Z",
     "start_time": "2022-09-21T17:15:55.096173Z"
    }
   },
   "outputs": [
    {
     "data": {
      "text/html": [
       "<div>\n",
       "<style scoped>\n",
       "    .dataframe tbody tr th:only-of-type {\n",
       "        vertical-align: middle;\n",
       "    }\n",
       "\n",
       "    .dataframe tbody tr th {\n",
       "        vertical-align: top;\n",
       "    }\n",
       "\n",
       "    .dataframe thead th {\n",
       "        text-align: right;\n",
       "    }\n",
       "</style>\n",
       "<table border=\"1\" class=\"dataframe\">\n",
       "  <thead>\n",
       "    <tr style=\"text-align: right;\">\n",
       "      <th></th>\n",
       "      <th>Date</th>\n",
       "      <th>User</th>\n",
       "      <th>Tweet</th>\n",
       "    </tr>\n",
       "  </thead>\n",
       "  <tbody>\n",
       "    <tr>\n",
       "      <th>0</th>\n",
       "      <td>2022-09-21 17:06:13+00:00</td>\n",
       "      <td>born2reside</td>\n",
       "      <td>Keep it to yourself &amp;amp; check see if it's to...</td>\n",
       "    </tr>\n",
       "    <tr>\n",
       "      <th>1</th>\n",
       "      <td>2022-09-21 17:05:34+00:00</td>\n",
       "      <td>domain_sold</td>\n",
       "      <td>✅comm-dev .org\\n        sold for $20,000 \\n   ...</td>\n",
       "    </tr>\n",
       "    <tr>\n",
       "      <th>2</th>\n",
       "      <td>2022-09-21 17:04:16+00:00</td>\n",
       "      <td>mark5godaddy</td>\n",
       "      <td>Ok, so @tacobell , I've told you that you're a...</td>\n",
       "    </tr>\n",
       "    <tr>\n",
       "      <th>3</th>\n",
       "      <td>2022-09-21 17:02:40+00:00</td>\n",
       "      <td>optixgroup</td>\n",
       "      <td>@ripsrus @TonyNames GoDaddy is not a participa...</td>\n",
       "    </tr>\n",
       "    <tr>\n",
       "      <th>4</th>\n",
       "      <td>2022-09-21 16:56:35+00:00</td>\n",
       "      <td>BYRAIS</td>\n",
       "      <td>Still issue is not resolved by taking to 5 to ...</td>\n",
       "    </tr>\n",
       "    <tr>\n",
       "      <th>...</th>\n",
       "      <td>...</td>\n",
       "      <td>...</td>\n",
       "      <td>...</td>\n",
       "    </tr>\n",
       "    <tr>\n",
       "      <th>995</th>\n",
       "      <td>2022-09-18 13:06:40+00:00</td>\n",
       "      <td>belkatr7</td>\n",
       "      <td>@MA___________RK 🇳🇱 ENS\\ngember.eth----ginger ...</td>\n",
       "    </tr>\n",
       "    <tr>\n",
       "      <th>996</th>\n",
       "      <td>2022-09-18 12:42:26+00:00</td>\n",
       "      <td>WordPressDD</td>\n",
       "      <td>More WordPress Acquisitions, Layoffs in WordPr...</td>\n",
       "    </tr>\n",
       "    <tr>\n",
       "      <th>997</th>\n",
       "      <td>2022-09-18 12:39:42+00:00</td>\n",
       "      <td>KeokiMonday</td>\n",
       "      <td>Prior to IONOS, was GoDaddy. They won't delete...</td>\n",
       "    </tr>\n",
       "    <tr>\n",
       "      <th>998</th>\n",
       "      <td>2022-09-18 12:25:50+00:00</td>\n",
       "      <td>ForTheRecord323</td>\n",
       "      <td>@GMA @GoDaddy Many businesses were destroyed b...</td>\n",
       "    </tr>\n",
       "    <tr>\n",
       "      <th>999</th>\n",
       "      <td>2022-09-18 12:14:54+00:00</td>\n",
       "      <td>ecarlesi</td>\n",
       "      <td>Possible threat on hxxp://icitznb4[.]com/index...</td>\n",
       "    </tr>\n",
       "  </tbody>\n",
       "</table>\n",
       "<p>1000 rows × 3 columns</p>\n",
       "</div>"
      ],
      "text/plain": [
       "                         Date             User  \\\n",
       "0   2022-09-21 17:06:13+00:00      born2reside   \n",
       "1   2022-09-21 17:05:34+00:00      domain_sold   \n",
       "2   2022-09-21 17:04:16+00:00     mark5godaddy   \n",
       "3   2022-09-21 17:02:40+00:00       optixgroup   \n",
       "4   2022-09-21 16:56:35+00:00           BYRAIS   \n",
       "..                        ...              ...   \n",
       "995 2022-09-18 13:06:40+00:00         belkatr7   \n",
       "996 2022-09-18 12:42:26+00:00      WordPressDD   \n",
       "997 2022-09-18 12:39:42+00:00      KeokiMonday   \n",
       "998 2022-09-18 12:25:50+00:00  ForTheRecord323   \n",
       "999 2022-09-18 12:14:54+00:00         ecarlesi   \n",
       "\n",
       "                                                 Tweet  \n",
       "0    Keep it to yourself &amp; check see if it's to...  \n",
       "1    ✅comm-dev .org\\n        sold for $20,000 \\n   ...  \n",
       "2    Ok, so @tacobell , I've told you that you're a...  \n",
       "3    @ripsrus @TonyNames GoDaddy is not a participa...  \n",
       "4    Still issue is not resolved by taking to 5 to ...  \n",
       "..                                                 ...  \n",
       "995  @MA___________RK 🇳🇱 ENS\\ngember.eth----ginger ...  \n",
       "996  More WordPress Acquisitions, Layoffs in WordPr...  \n",
       "997  Prior to IONOS, was GoDaddy. They won't delete...  \n",
       "998  @GMA @GoDaddy Many businesses were destroyed b...  \n",
       "999  Possible threat on hxxp://icitznb4[.]com/index...  \n",
       "\n",
       "[1000 rows x 3 columns]"
      ]
     },
     "execution_count": 15,
     "metadata": {},
     "output_type": "execute_result"
    }
   ],
   "source": [
    "df"
   ]
  },
  {
   "cell_type": "code",
   "execution_count": 12,
   "id": "4585e951",
   "metadata": {
    "ExecuteTime": {
     "end_time": "2022-09-21T17:14:31.298902Z",
     "start_time": "2022-09-21T17:14:31.212962Z"
    }
   },
   "outputs": [
    {
     "data": {
      "text/html": [
       "<div>\n",
       "<style scoped>\n",
       "    .dataframe tbody tr th:only-of-type {\n",
       "        vertical-align: middle;\n",
       "    }\n",
       "\n",
       "    .dataframe tbody tr th {\n",
       "        vertical-align: top;\n",
       "    }\n",
       "\n",
       "    .dataframe thead th {\n",
       "        text-align: right;\n",
       "    }\n",
       "</style>\n",
       "<table border=\"1\" class=\"dataframe\">\n",
       "  <thead>\n",
       "    <tr style=\"text-align: right;\">\n",
       "      <th></th>\n",
       "      <th>Date</th>\n",
       "      <th>User</th>\n",
       "      <th>Tweet</th>\n",
       "    </tr>\n",
       "  </thead>\n",
       "  <tbody>\n",
       "    <tr>\n",
       "      <th>0</th>\n",
       "      <td>2022-09-21 17:06:13+00:00</td>\n",
       "      <td>born2reside</td>\n",
       "      <td>Keep it to yourself &amp;amp; check see if it's to...</td>\n",
       "    </tr>\n",
       "    <tr>\n",
       "      <th>1</th>\n",
       "      <td>2022-09-21 17:05:34+00:00</td>\n",
       "      <td>domain_sold</td>\n",
       "      <td>✅comm-dev .org\\n        sold for $20,000 \\n   ...</td>\n",
       "    </tr>\n",
       "    <tr>\n",
       "      <th>2</th>\n",
       "      <td>2022-09-21 17:04:16+00:00</td>\n",
       "      <td>mark5godaddy</td>\n",
       "      <td>Ok, so @tacobell , I've told you that you're a...</td>\n",
       "    </tr>\n",
       "    <tr>\n",
       "      <th>3</th>\n",
       "      <td>2022-09-21 17:02:40+00:00</td>\n",
       "      <td>optixgroup</td>\n",
       "      <td>@ripsrus @TonyNames GoDaddy is not a participa...</td>\n",
       "    </tr>\n",
       "    <tr>\n",
       "      <th>4</th>\n",
       "      <td>2022-09-21 16:56:35+00:00</td>\n",
       "      <td>BYRAIS</td>\n",
       "      <td>Still issue is not resolved by taking to 5 to ...</td>\n",
       "    </tr>\n",
       "    <tr>\n",
       "      <th>...</th>\n",
       "      <td>...</td>\n",
       "      <td>...</td>\n",
       "      <td>...</td>\n",
       "    </tr>\n",
       "    <tr>\n",
       "      <th>95</th>\n",
       "      <td>2022-09-21 12:23:48+00:00</td>\n",
       "      <td>valerie2588</td>\n",
       "      <td>@nandoodles @FloridaTerrier @GoDaddy @GoodRx @...</td>\n",
       "    </tr>\n",
       "    <tr>\n",
       "      <th>96</th>\n",
       "      <td>2022-09-21 12:22:38+00:00</td>\n",
       "      <td>Namecheap</td>\n",
       "      <td>@JohnnyATweets @GoDaddy @GoDaddyHelp @GoDaddyC...</td>\n",
       "    </tr>\n",
       "    <tr>\n",
       "      <th>97</th>\n",
       "      <td>2022-09-21 12:21:33+00:00</td>\n",
       "      <td>ecarlesi</td>\n",
       "      <td>Possible threat on hxxp://sotalounge[.]com  #g...</td>\n",
       "    </tr>\n",
       "    <tr>\n",
       "      <th>98</th>\n",
       "      <td>2022-09-21 12:17:17+00:00</td>\n",
       "      <td>DeMayne</td>\n",
       "      <td>@benlandis Nope. Because GoDaddy no longer off...</td>\n",
       "    </tr>\n",
       "    <tr>\n",
       "      <th>99</th>\n",
       "      <td>2022-09-21 12:14:18+00:00</td>\n",
       "      <td>AnaFern32044907</td>\n",
       "      <td>I have been reporting a fake sanitas website f...</td>\n",
       "    </tr>\n",
       "  </tbody>\n",
       "</table>\n",
       "<p>100 rows × 3 columns</p>\n",
       "</div>"
      ],
      "text/plain": [
       "                        Date             User  \\\n",
       "0  2022-09-21 17:06:13+00:00      born2reside   \n",
       "1  2022-09-21 17:05:34+00:00      domain_sold   \n",
       "2  2022-09-21 17:04:16+00:00     mark5godaddy   \n",
       "3  2022-09-21 17:02:40+00:00       optixgroup   \n",
       "4  2022-09-21 16:56:35+00:00           BYRAIS   \n",
       "..                       ...              ...   \n",
       "95 2022-09-21 12:23:48+00:00      valerie2588   \n",
       "96 2022-09-21 12:22:38+00:00        Namecheap   \n",
       "97 2022-09-21 12:21:33+00:00         ecarlesi   \n",
       "98 2022-09-21 12:17:17+00:00          DeMayne   \n",
       "99 2022-09-21 12:14:18+00:00  AnaFern32044907   \n",
       "\n",
       "                                                Tweet  \n",
       "0   Keep it to yourself &amp; check see if it's to...  \n",
       "1   ✅comm-dev .org\\n        sold for $20,000 \\n   ...  \n",
       "2   Ok, so @tacobell , I've told you that you're a...  \n",
       "3   @ripsrus @TonyNames GoDaddy is not a participa...  \n",
       "4   Still issue is not resolved by taking to 5 to ...  \n",
       "..                                                ...  \n",
       "95  @nandoodles @FloridaTerrier @GoDaddy @GoodRx @...  \n",
       "96  @JohnnyATweets @GoDaddy @GoDaddyHelp @GoDaddyC...  \n",
       "97  Possible threat on hxxp://sotalounge[.]com  #g...  \n",
       "98  @benlandis Nope. Because GoDaddy no longer off...  \n",
       "99  I have been reporting a fake sanitas website f...  \n",
       "\n",
       "[100 rows x 3 columns]"
      ]
     },
     "execution_count": 12,
     "metadata": {},
     "output_type": "execute_result"
    }
   ],
   "source": [
    "df"
   ]
  },
  {
   "cell_type": "code",
   "execution_count": null,
   "id": "9370dc11",
   "metadata": {},
   "outputs": [],
   "source": []
  },
  {
   "cell_type": "code",
   "execution_count": null,
   "id": "ed6e6c44",
   "metadata": {},
   "outputs": [],
   "source": []
  },
  {
   "cell_type": "code",
   "execution_count": null,
   "id": "3383647d",
   "metadata": {},
   "outputs": [],
   "source": [
    "#Sentiment Analysis Code"
   ]
  },
  {
   "cell_type": "code",
   "execution_count": 4,
   "id": "f295997e",
   "metadata": {
    "ExecuteTime": {
     "end_time": "2022-09-21T20:06:02.828927Z",
     "start_time": "2022-09-21T20:05:43.889294Z"
    }
   },
   "outputs": [
    {
     "name": "stdout",
     "output_type": "stream",
     "text": [
      "Collecting transformers\n",
      "  Downloading transformers-4.22.1-py3-none-any.whl (4.9 MB)\n",
      "Requirement already satisfied: pyyaml>=5.1 in c:\\programdata\\anaconda3\\lib\\site-packages (from transformers) (5.4.1)\n",
      "Requirement already satisfied: requests in c:\\programdata\\anaconda3\\lib\\site-packages (from transformers) (2.25.1)\n",
      "Requirement already satisfied: filelock in c:\\programdata\\anaconda3\\lib\\site-packages (from transformers) (3.0.12)\n",
      "Collecting tokenizers!=0.11.3,<0.13,>=0.11.1\n",
      "  Downloading tokenizers-0.12.1-cp38-cp38-win_amd64.whl (3.3 MB)\n",
      "Requirement already satisfied: numpy>=1.17 in c:\\programdata\\anaconda3\\lib\\site-packages (from transformers) (1.20.1)\n",
      "Requirement already satisfied: packaging>=20.0 in c:\\programdata\\anaconda3\\lib\\site-packages (from transformers) (20.9)\n",
      "Requirement already satisfied: regex!=2019.12.17 in c:\\programdata\\anaconda3\\lib\\site-packages (from transformers) (2021.4.4)\n",
      "Requirement already satisfied: tqdm>=4.27 in c:\\programdata\\anaconda3\\lib\\site-packages (from transformers) (4.59.0)\n",
      "Collecting huggingface-hub<1.0,>=0.9.0\n",
      "  Downloading huggingface_hub-0.9.1-py3-none-any.whl (120 kB)\n",
      "Requirement already satisfied: typing-extensions>=3.7.4.3 in c:\\programdata\\anaconda3\\lib\\site-packages (from huggingface-hub<1.0,>=0.9.0->transformers) (3.7.4.3)\n",
      "Requirement already satisfied: pyparsing>=2.0.2 in c:\\programdata\\anaconda3\\lib\\site-packages (from packaging>=20.0->transformers) (2.4.7)\n",
      "Requirement already satisfied: idna<3,>=2.5 in c:\\programdata\\anaconda3\\lib\\site-packages (from requests->transformers) (2.10)\n",
      "Requirement already satisfied: urllib3<1.27,>=1.21.1 in c:\\programdata\\anaconda3\\lib\\site-packages (from requests->transformers) (1.26.4)\n",
      "Requirement already satisfied: certifi>=2017.4.17 in c:\\programdata\\anaconda3\\lib\\site-packages (from requests->transformers) (2020.12.5)\n",
      "Requirement already satisfied: chardet<5,>=3.0.2 in c:\\programdata\\anaconda3\\lib\\site-packages (from requests->transformers) (4.0.0)\n",
      "Installing collected packages: tokenizers, huggingface-hub, transformers\n",
      "Successfully installed huggingface-hub-0.9.1 tokenizers-0.12.1 transformers-4.22.1\n",
      "Note: you may need to restart the kernel to use updated packages.\n"
     ]
    }
   ],
   "source": [
    "pip install transformers"
   ]
  },
  {
   "cell_type": "code",
   "execution_count": 7,
   "id": "3f8ea167",
   "metadata": {
    "ExecuteTime": {
     "end_time": "2022-09-21T20:07:55.836676Z",
     "start_time": "2022-09-21T20:07:50.015517Z"
    }
   },
   "outputs": [
    {
     "name": "stdout",
     "output_type": "stream",
     "text": [
      "Requirement already satisfied: scipy in c:\\programdata\\anaconda3\\lib\\site-packages (1.6.2)\n",
      "Requirement already satisfied: numpy<1.23.0,>=1.16.5 in c:\\programdata\\anaconda3\\lib\\site-packages (from scipy) (1.20.1)\n"
     ]
    }
   ],
   "source": [
    "!pip install scipy\n",
    "#Scipy is used to convert the output of the model to probability scores"
   ]
  },
  {
   "cell_type": "code",
   "execution_count": 28,
   "id": "769a41c2",
   "metadata": {
    "ExecuteTime": {
     "end_time": "2022-09-21T20:54:01.386334Z",
     "start_time": "2022-09-21T20:54:01.381344Z"
    }
   },
   "outputs": [],
   "source": [
    "from transformers import AutoTokenizer,AutoModelForSequenceClassification\n",
    "from scipy.special import softmax"
   ]
  },
  {
   "cell_type": "code",
   "execution_count": 11,
   "id": "6bed0a86",
   "metadata": {
    "ExecuteTime": {
     "end_time": "2022-09-21T20:38:39.270309Z",
     "start_time": "2022-09-21T20:38:39.261334Z"
    }
   },
   "outputs": [],
   "source": [
    "tweet = \"@MehranShakarami today's cold @ home 😒 https://mehranshakarami.com\"\n",
    "#tweet = 'Great content! subscribed 😉'"
   ]
  },
  {
   "cell_type": "code",
   "execution_count": 19,
   "id": "67e2ad8f",
   "metadata": {
    "ExecuteTime": {
     "end_time": "2022-09-21T20:43:29.405600Z",
     "start_time": "2022-09-21T20:43:29.383658Z"
    }
   },
   "outputs": [
    {
     "data": {
      "text/plain": [
       "\"@user today's cold @ home 😒 http\""
      ]
     },
     "execution_count": 19,
     "metadata": {},
     "output_type": "execute_result"
    }
   ],
   "source": [
    "# precprcess tweet\n",
    "tweet_words = []\n",
    "\n",
    "for word in tweet.split(' '):\n",
    "    if word.startswith('@') and len(word) > 1:\n",
    "        word = '@user'\n",
    "    \n",
    "    elif word.startswith('http'):\n",
    "        word = \"http\"\n",
    "    tweet_words.append(word)\n",
    "\n",
    "tweet_proc = \" \".join(tweet_words)\n",
    "\n",
    "tweet_proc"
   ]
  },
  {
   "cell_type": "code",
   "execution_count": 33,
   "id": "d3b3872b",
   "metadata": {
    "ExecuteTime": {
     "end_time": "2022-09-21T21:04:42.607037Z",
     "start_time": "2022-09-21T21:04:30.326418Z"
    }
   },
   "outputs": [
    {
     "name": "stdout",
     "output_type": "stream",
     "text": [
      "Requirement already satisfied: torch in c:\\programdata\\anaconda3\\lib\\site-packages (1.12.1)\n",
      "Requirement already satisfied: typing-extensions in c:\\programdata\\anaconda3\\lib\\site-packages (from torch) (3.7.4.3)\n"
     ]
    }
   ],
   "source": [
    "!pip install torch"
   ]
  },
  {
   "cell_type": "code",
   "execution_count": 36,
   "id": "fe9ae241",
   "metadata": {
    "ExecuteTime": {
     "end_time": "2022-09-21T21:07:28.063624Z",
     "start_time": "2022-09-21T21:07:28.039691Z"
    }
   },
   "outputs": [
    {
     "ename": "ImportError",
     "evalue": "\nAutoModelForSequenceClassification requires the PyTorch library but it was not found in your environment.\nHowever, we were able to find a TensorFlow installation. TensorFlow classes begin\nwith \"TF\", but are otherwise identically named to our PyTorch classes. This\nmeans that the TF equivalent of the class you tried to import would be \"TFAutoModelForSequenceClassification\".\nIf you want to use TensorFlow, please use TF classes instead!\n\nIf you really do want to use PyTorch please go to\nhttps://pytorch.org/get-started/locally/ and follow the instructions that\nmatch your environment.\n",
     "output_type": "error",
     "traceback": [
      "\u001b[1;31m---------------------------------------------------------------------------\u001b[0m",
      "\u001b[1;31mImportError\u001b[0m                               Traceback (most recent call last)",
      "\u001b[1;32m<ipython-input-36-65b20190b8db>\u001b[0m in \u001b[0;36m<module>\u001b[1;34m\u001b[0m\n\u001b[0;32m      2\u001b[0m \u001b[0mroberta\u001b[0m \u001b[1;33m=\u001b[0m \u001b[1;34m\"cardiffnlp/twitter-roberta-base-sentiment\"\u001b[0m\u001b[1;33m\u001b[0m\u001b[1;33m\u001b[0m\u001b[0m\n\u001b[0;32m      3\u001b[0m \u001b[1;33m\u001b[0m\u001b[0m\n\u001b[1;32m----> 4\u001b[1;33m \u001b[0mmodel\u001b[0m \u001b[1;33m=\u001b[0m \u001b[0mAutoModelForSequenceClassification\u001b[0m\u001b[1;33m.\u001b[0m\u001b[0mfrom_pretrained\u001b[0m\u001b[1;33m(\u001b[0m\u001b[0mroberta\u001b[0m\u001b[1;33m)\u001b[0m\u001b[1;33m\u001b[0m\u001b[1;33m\u001b[0m\u001b[0m\n\u001b[0m\u001b[0;32m      5\u001b[0m \u001b[0mtokenizer\u001b[0m \u001b[1;33m=\u001b[0m \u001b[0mAutoTokenizer\u001b[0m\u001b[1;33m.\u001b[0m\u001b[0mfrom_pretrained\u001b[0m\u001b[1;33m(\u001b[0m\u001b[0mroberta\u001b[0m\u001b[1;33m)\u001b[0m\u001b[1;33m\u001b[0m\u001b[1;33m\u001b[0m\u001b[0m\n\u001b[0;32m      6\u001b[0m \u001b[1;33m\u001b[0m\u001b[0m\n",
      "\u001b[1;32mC:\\ProgramData\\Anaconda3\\lib\\site-packages\\transformers\\utils\\import_utils.py\u001b[0m in \u001b[0;36m__getattr__\u001b[1;34m(cls, key)\u001b[0m\n\u001b[0;32m    945\u001b[0m         \u001b[1;32mif\u001b[0m \u001b[0mkey\u001b[0m\u001b[1;33m.\u001b[0m\u001b[0mstartswith\u001b[0m\u001b[1;33m(\u001b[0m\u001b[1;34m\"_\"\u001b[0m\u001b[1;33m)\u001b[0m\u001b[1;33m:\u001b[0m\u001b[1;33m\u001b[0m\u001b[1;33m\u001b[0m\u001b[0m\n\u001b[0;32m    946\u001b[0m             \u001b[1;32mreturn\u001b[0m \u001b[0msuper\u001b[0m\u001b[1;33m(\u001b[0m\u001b[1;33m)\u001b[0m\u001b[1;33m.\u001b[0m\u001b[0m__getattr__\u001b[0m\u001b[1;33m(\u001b[0m\u001b[0mcls\u001b[0m\u001b[1;33m,\u001b[0m \u001b[0mkey\u001b[0m\u001b[1;33m)\u001b[0m\u001b[1;33m\u001b[0m\u001b[1;33m\u001b[0m\u001b[0m\n\u001b[1;32m--> 947\u001b[1;33m         \u001b[0mrequires_backends\u001b[0m\u001b[1;33m(\u001b[0m\u001b[0mcls\u001b[0m\u001b[1;33m,\u001b[0m \u001b[0mcls\u001b[0m\u001b[1;33m.\u001b[0m\u001b[0m_backends\u001b[0m\u001b[1;33m)\u001b[0m\u001b[1;33m\u001b[0m\u001b[1;33m\u001b[0m\u001b[0m\n\u001b[0m\u001b[0;32m    948\u001b[0m \u001b[1;33m\u001b[0m\u001b[0m\n\u001b[0;32m    949\u001b[0m \u001b[1;33m\u001b[0m\u001b[0m\n",
      "\u001b[1;32mC:\\ProgramData\\Anaconda3\\lib\\site-packages\\transformers\\utils\\import_utils.py\u001b[0m in \u001b[0;36mrequires_backends\u001b[1;34m(obj, backends)\u001b[0m\n\u001b[0;32m    924\u001b[0m     \u001b[1;31m# Raise an error for users who might not realize that classes without \"TF\" are torch-only\u001b[0m\u001b[1;33m\u001b[0m\u001b[1;33m\u001b[0m\u001b[1;33m\u001b[0m\u001b[0m\n\u001b[0;32m    925\u001b[0m     \u001b[1;32mif\u001b[0m \u001b[1;34m\"torch\"\u001b[0m \u001b[1;32min\u001b[0m \u001b[0mbackends\u001b[0m \u001b[1;32mand\u001b[0m \u001b[1;34m\"tf\"\u001b[0m \u001b[1;32mnot\u001b[0m \u001b[1;32min\u001b[0m \u001b[0mbackends\u001b[0m \u001b[1;32mand\u001b[0m \u001b[1;32mnot\u001b[0m \u001b[0mis_torch_available\u001b[0m\u001b[1;33m(\u001b[0m\u001b[1;33m)\u001b[0m \u001b[1;32mand\u001b[0m \u001b[0mis_tf_available\u001b[0m\u001b[1;33m(\u001b[0m\u001b[1;33m)\u001b[0m\u001b[1;33m:\u001b[0m\u001b[1;33m\u001b[0m\u001b[1;33m\u001b[0m\u001b[0m\n\u001b[1;32m--> 926\u001b[1;33m         \u001b[1;32mraise\u001b[0m \u001b[0mImportError\u001b[0m\u001b[1;33m(\u001b[0m\u001b[0mPYTORCH_IMPORT_ERROR_WITH_TF\u001b[0m\u001b[1;33m.\u001b[0m\u001b[0mformat\u001b[0m\u001b[1;33m(\u001b[0m\u001b[0mname\u001b[0m\u001b[1;33m)\u001b[0m\u001b[1;33m)\u001b[0m\u001b[1;33m\u001b[0m\u001b[1;33m\u001b[0m\u001b[0m\n\u001b[0m\u001b[0;32m    927\u001b[0m \u001b[1;33m\u001b[0m\u001b[0m\n\u001b[0;32m    928\u001b[0m     \u001b[1;31m# Raise the inverse error for PyTorch users trying to load TF classes\u001b[0m\u001b[1;33m\u001b[0m\u001b[1;33m\u001b[0m\u001b[1;33m\u001b[0m\u001b[0m\n",
      "\u001b[1;31mImportError\u001b[0m: \nAutoModelForSequenceClassification requires the PyTorch library but it was not found in your environment.\nHowever, we were able to find a TensorFlow installation. TensorFlow classes begin\nwith \"TF\", but are otherwise identically named to our PyTorch classes. This\nmeans that the TF equivalent of the class you tried to import would be \"TFAutoModelForSequenceClassification\".\nIf you want to use TensorFlow, please use TF classes instead!\n\nIf you really do want to use PyTorch please go to\nhttps://pytorch.org/get-started/locally/ and follow the instructions that\nmatch your environment.\n"
     ]
    }
   ],
   "source": [
    "# load model and tokenizer\n",
    "roberta = \"cardiffnlp/twitter-roberta-base-sentiment\"\n",
    "\n",
    "model = AutoModelForSequenceClassification.from_pretrained(roberta)\n",
    "tokenizer = AutoTokenizer.from_pretrained(roberta)\n",
    "\n",
    "labels = ['Negative', 'Neutral', 'Positive']"
   ]
  },
  {
   "cell_type": "code",
   "execution_count": 30,
   "id": "0a7267ed",
   "metadata": {
    "ExecuteTime": {
     "end_time": "2022-09-21T20:55:07.504665Z",
     "start_time": "2022-09-21T20:55:07.478698Z"
    }
   },
   "outputs": [
    {
     "ename": "NameError",
     "evalue": "name 'tokenizer' is not defined",
     "output_type": "error",
     "traceback": [
      "\u001b[1;31m---------------------------------------------------------------------------\u001b[0m",
      "\u001b[1;31mNameError\u001b[0m                                 Traceback (most recent call last)",
      "\u001b[1;32m<ipython-input-30-578e9ea0555e>\u001b[0m in \u001b[0;36m<module>\u001b[1;34m\u001b[0m\n\u001b[0;32m      1\u001b[0m \u001b[1;31m# sentiment analysis\u001b[0m\u001b[1;33m\u001b[0m\u001b[1;33m\u001b[0m\u001b[1;33m\u001b[0m\u001b[0m\n\u001b[1;32m----> 2\u001b[1;33m \u001b[0mencoded_tweet\u001b[0m \u001b[1;33m=\u001b[0m \u001b[0mtokenizer\u001b[0m\u001b[1;33m(\u001b[0m\u001b[0mtweet_proc\u001b[0m\u001b[1;33m,\u001b[0m \u001b[0mreturn_tensors\u001b[0m\u001b[1;33m=\u001b[0m\u001b[1;34m'pt'\u001b[0m\u001b[1;33m)\u001b[0m\u001b[1;33m\u001b[0m\u001b[1;33m\u001b[0m\u001b[0m\n\u001b[0m\u001b[0;32m      3\u001b[0m \u001b[1;31m# output = model(encoded_tweet['input_ids'], encoded_tweet['attention_mask'])\u001b[0m\u001b[1;33m\u001b[0m\u001b[1;33m\u001b[0m\u001b[1;33m\u001b[0m\u001b[0m\n\u001b[0;32m      4\u001b[0m \u001b[0moutput\u001b[0m \u001b[1;33m=\u001b[0m \u001b[0mmodel\u001b[0m\u001b[1;33m(\u001b[0m\u001b[1;33m**\u001b[0m\u001b[0mencoded_tweet\u001b[0m\u001b[1;33m)\u001b[0m\u001b[1;33m\u001b[0m\u001b[1;33m\u001b[0m\u001b[0m\n\u001b[0;32m      5\u001b[0m \u001b[1;33m\u001b[0m\u001b[0m\n",
      "\u001b[1;31mNameError\u001b[0m: name 'tokenizer' is not defined"
     ]
    }
   ],
   "source": [
    "# sentiment analysis\n",
    "encoded_tweet = tokenizer(tweet_proc, return_tensors='pt')\n",
    "# output = model(encoded_tweet['input_ids'], encoded_tweet['attention_mask'])\n",
    "output = model(**encoded_tweet)\n",
    "\n",
    "scores = output[0][0].detach().numpy()\n",
    "scores = softmax(scores)"
   ]
  },
  {
   "cell_type": "code",
   "execution_count": null,
   "id": "3e846f68",
   "metadata": {},
   "outputs": [],
   "source": [
    "for i in range(len(scores)):\n",
    "    \n",
    "    l = labels[i]\n",
    "    s = scores[i]\n",
    "    print(l,s)"
   ]
  },
  {
   "cell_type": "code",
   "execution_count": null,
   "id": "194ce199",
   "metadata": {},
   "outputs": [],
   "source": []
  },
  {
   "cell_type": "code",
   "execution_count": null,
   "id": "cce98079",
   "metadata": {},
   "outputs": [],
   "source": []
  },
  {
   "cell_type": "code",
   "execution_count": null,
   "id": "d4bd4829",
   "metadata": {},
   "outputs": [],
   "source": []
  },
  {
   "cell_type": "code",
   "execution_count": null,
   "id": "175319ed",
   "metadata": {},
   "outputs": [],
   "source": []
  },
  {
   "cell_type": "code",
   "execution_count": null,
   "id": "8c79d125",
   "metadata": {},
   "outputs": [],
   "source": []
  }
 ],
 "metadata": {
  "kernelspec": {
   "display_name": "Python 3",
   "language": "python",
   "name": "python3"
  },
  "language_info": {
   "codemirror_mode": {
    "name": "ipython",
    "version": 3
   },
   "file_extension": ".py",
   "mimetype": "text/x-python",
   "name": "python",
   "nbconvert_exporter": "python",
   "pygments_lexer": "ipython3",
   "version": "3.8.8"
  }
 },
 "nbformat": 4,
 "nbformat_minor": 5
}
